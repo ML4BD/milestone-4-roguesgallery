{
 "cells": [
  {
   "cell_type": "markdown",
   "id": "fba18a9c-99d5-4e37-ae01-34133d7b698a",
   "metadata": {},
   "source": [
    "# Milestone 6\n",
    "\n",
    "In this milestone, we implement some of the extensions mentioned in Milestone 5."
   ]
  },
  {
   "cell_type": "markdown",
   "id": "7b600922-3814-432e-ae1e-6623089c0a2b",
   "metadata": {},
   "source": [
    "## Recall of previous work\n",
    "\n",
    "Please refer to the [Milestone 4 Report](https://github.com/ML4BD/milestone-4-roguesgallery/blob/master/reports/Milestone%204%20Report.pdf) and the [Milestone 4 Notebook](https://github.com/ML4BD/milestone-4-roguesgallery/blob/master/notebooks/Milestone04/m4_lernnavi_roguesgallery.ipynb) for more details.\n",
    "\n",
    "---\n",
    "\n",
    "In Milestone 4, our objective was to predict the level check success of students with respect to their behavior on the **Lernnavi** learning platform. \n",
    "\n",
    "To this end, we **pre-processed** the data by removing students identified as inactive using criteria such as least number of actions per week. Then we selected a subset of features for each student and transformed their data into time series.<br>\n",
    "In an attempt to see if **regularity** helped categorize students into subgroups, we followed the procedure of [Shirvani Boroujeni, et al](https://infoscience.epfl.ch/record/218657/files/) to compute regularity features on online learning time series. We then clustered the students using the regularity metrics.<br>\n",
    "Finally, we trained multiple time series **classifiers** to predict wether a student would pass a level check or not. One classifier was trained per cluster and one over the whole data. We used 2 different classification techniques."
   ]
  },
  {
   "cell_type": "markdown",
   "id": "b09f7c2f-3f25-4398-842f-2306a48c9dab",
   "metadata": {},
   "source": [
    "## Implementations of this milestone"
   ]
  },
  {
   "cell_type": "markdown",
   "id": "33b88ca6-3fd4-4653-8fb3-2b999d49c960",
   "metadata": {},
   "source": [
    "For this milestone, we are planning on taking another approach to solving our research question. Indeed, in the first milestone, we demonstrated the **predictive potential of a user's behavior time series** for its **success in level checks**. For this, we clustered with respect to time-agnostic metrics and then classified the time series.\n",
    "\n",
    "Our second approach will be to cluster with respect to user time series and then classify using features derived from the markov modeling of users' behaviors.\n",
    "\n",
    "To this end, we will proceed as follows:\n",
    "\n",
    "1. Separate math and german-related actions in the data.\n",
    "\n",
    "2. Cluster the user's behaviors using time series clustering.\n",
    "\n",
    "3. Apply the markov chain modeling to the sequence of actions for each user.\n",
    "\n",
    "4. Train a logistic regression on the markov chain representation of the data.\n"
   ]
  },
  {
   "cell_type": "markdown",
   "id": "d829ad19-ce9d-4a6b-b0bb-bcfa8281b273",
   "metadata": {},
   "source": [
    "## Data Processing"
   ]
  },
  {
   "cell_type": "markdown",
   "id": "8709c61c-ba26-44ab-9625-17cc50a20062",
   "metadata": {},
   "source": [
    "#### Libraries used"
   ]
  },
  {
   "cell_type": "code",
   "execution_count": 56,
   "id": "cd7256d0-bae4-4ef8-b513-0f340f17bf7c",
   "metadata": {},
   "outputs": [],
   "source": [
    "import numpy as np\n",
    "import pandas as pd\n",
    "import matplotlib.pyplot as plt\n",
    "\n",
    "from sklearn.tree import DecisionTreeClassifier # Import Decision Tree Classifier\n",
    "from sklearn.ensemble import RandomForestClassifier # Import Random Forest Classifier\n",
    "from sklearn.ensemble import AdaBoostClassifier # Import Ada Boost Classifier\n",
    "\n",
    "from sklearn.model_selection import train_test_split # Import train_test_split function\n",
    "from sklearn import metrics # Import scikit-learn metrics module for accuracy calculation\n",
    "from sklearn.utils import resample\n",
    "from sklearn.model_selection import RandomizedSearchCV\n",
    "\n",
    "from pprint import pprint"
   ]
  },
  {
   "cell_type": "code",
   "execution_count": 57,
   "id": "6a80f6bf-2c07-4bb0-b63b-b726e05bbfeb",
   "metadata": {},
   "outputs": [],
   "source": [
    "seed = 0"
   ]
  },
  {
   "cell_type": "markdown",
   "id": "43d77f18-8552-4e4c-a329-2bfd3bc23e37",
   "metadata": {},
   "source": [
    "#### Data Loading"
   ]
  },
  {
   "cell_type": "code",
   "execution_count": 58,
   "id": "67b34a23-5448-49c4-a2a1-337b26a5e558",
   "metadata": {},
   "outputs": [],
   "source": [
    "DATA_DIR = './data'"
   ]
  },
  {
   "cell_type": "code",
   "execution_count": 59,
   "id": "36481ab6-a3e7-47ea-9076-53f14101856f",
   "metadata": {},
   "outputs": [],
   "source": [
    "df = pd.read_csv('{}/behavioural_features.csv.gz'.format(DATA_DIR))\n",
    "df_math_cluster_0 = pd.read_csv('{}/behavioural_features_math_cluster_id_0.csv.gz'.format(DATA_DIR))\n",
    "df_math_cluster_1 = pd.read_csv('{}/behavioural_features_math_cluster_id_1.csv.gz'.format(DATA_DIR))\n",
    "df_german_cluster_0 = pd.read_csv('{}/behavioural_features_german_cluster_id_0.csv.gz'.format(DATA_DIR))\n",
    "df_german_cluster_1 = pd.read_csv('{}/behavioural_features_german_cluster_id_1.csv.gz'.format(DATA_DIR))"
   ]
  },
  {
   "cell_type": "code",
   "execution_count": 60,
   "id": "8d08c726-3686-4b99-a8d7-e7dd200747e2",
   "metadata": {},
   "outputs": [
    {
     "data": {
      "text/html": [
       "<div>\n",
       "<style scoped>\n",
       "    .dataframe tbody tr th:only-of-type {\n",
       "        vertical-align: middle;\n",
       "    }\n",
       "\n",
       "    .dataframe tbody tr th {\n",
       "        vertical-align: top;\n",
       "    }\n",
       "\n",
       "    .dataframe thead th {\n",
       "        text-align: right;\n",
       "    }\n",
       "</style>\n",
       "<table border=\"1\" class=\"dataframe\">\n",
       "  <thead>\n",
       "    <tr style=\"text-align: right;\">\n",
       "      <th></th>\n",
       "      <th>num_actions_per_week</th>\n",
       "      <th>eng_score</th>\n",
       "      <th>FDH</th>\n",
       "      <th>FWH</th>\n",
       "      <th>FWD</th>\n",
       "      <th>num_weeks_on</th>\n",
       "      <th>user_id</th>\n",
       "      <th>week</th>\n",
       "      <th>validated</th>\n",
       "    </tr>\n",
       "  </thead>\n",
       "  <tbody>\n",
       "    <tr>\n",
       "      <th>0</th>\n",
       "      <td>241.000000</td>\n",
       "      <td>1</td>\n",
       "      <td>1.0</td>\n",
       "      <td>1.0</td>\n",
       "      <td>1.0</td>\n",
       "      <td>1</td>\n",
       "      <td>393216</td>\n",
       "      <td>2</td>\n",
       "      <td>1</td>\n",
       "    </tr>\n",
       "    <tr>\n",
       "      <th>1</th>\n",
       "      <td>120.500000</td>\n",
       "      <td>1</td>\n",
       "      <td>2.0</td>\n",
       "      <td>2.0</td>\n",
       "      <td>2.0</td>\n",
       "      <td>2</td>\n",
       "      <td>393216</td>\n",
       "      <td>17</td>\n",
       "      <td>0</td>\n",
       "    </tr>\n",
       "    <tr>\n",
       "      <th>2</th>\n",
       "      <td>80.333333</td>\n",
       "      <td>1</td>\n",
       "      <td>2.0</td>\n",
       "      <td>2.0</td>\n",
       "      <td>2.0</td>\n",
       "      <td>3</td>\n",
       "      <td>393216</td>\n",
       "      <td>18</td>\n",
       "      <td>1</td>\n",
       "    </tr>\n",
       "    <tr>\n",
       "      <th>3</th>\n",
       "      <td>60.250000</td>\n",
       "      <td>1</td>\n",
       "      <td>2.0</td>\n",
       "      <td>2.0</td>\n",
       "      <td>2.0</td>\n",
       "      <td>4</td>\n",
       "      <td>393216</td>\n",
       "      <td>27</td>\n",
       "      <td>0</td>\n",
       "    </tr>\n",
       "    <tr>\n",
       "      <th>4</th>\n",
       "      <td>48.200000</td>\n",
       "      <td>1</td>\n",
       "      <td>2.0</td>\n",
       "      <td>2.0</td>\n",
       "      <td>2.0</td>\n",
       "      <td>5</td>\n",
       "      <td>393216</td>\n",
       "      <td>28</td>\n",
       "      <td>1</td>\n",
       "    </tr>\n",
       "  </tbody>\n",
       "</table>\n",
       "</div>"
      ],
      "text/plain": [
       "   num_actions_per_week  eng_score  FDH  FWH  FWD  num_weeks_on  user_id  \\\n",
       "0            241.000000          1  1.0  1.0  1.0             1   393216   \n",
       "1            120.500000          1  2.0  2.0  2.0             2   393216   \n",
       "2             80.333333          1  2.0  2.0  2.0             3   393216   \n",
       "3             60.250000          1  2.0  2.0  2.0             4   393216   \n",
       "4             48.200000          1  2.0  2.0  2.0             5   393216   \n",
       "\n",
       "   week  validated  \n",
       "0     2          1  \n",
       "1    17          0  \n",
       "2    18          1  \n",
       "3    27          0  \n",
       "4    28          1  "
      ]
     },
     "execution_count": 60,
     "metadata": {},
     "output_type": "execute_result"
    }
   ],
   "source": [
    "df.head()"
   ]
  },
  {
   "cell_type": "code",
   "execution_count": 61,
   "id": "98a1895c-0a3a-4b32-8169-1f90e62fda39",
   "metadata": {},
   "outputs": [],
   "source": [
    "# Checking fraction of NaN values in each column\n",
    "def check_NaNs(df):\n",
    "    for c in df.columns:\n",
    "        na_count = df[c].isna().sum()\n",
    "        print(f\"Column {c} contains {na_count} ({na_count*100 / df.shape[0]:.2f}%) NaN values.\")"
   ]
  },
  {
   "cell_type": "code",
   "execution_count": 62,
   "id": "9a6ee818-599a-404f-bf8c-dad7c5a33b83",
   "metadata": {},
   "outputs": [
    {
     "name": "stdout",
     "output_type": "stream",
     "text": [
      "Column num_actions_per_week contains 0 (0.00%) NaN values.\n",
      "Column eng_score contains 0 (0.00%) NaN values.\n",
      "Column FDH contains 0 (0.00%) NaN values.\n",
      "Column FWH contains 0 (0.00%) NaN values.\n",
      "Column FWD contains 0 (0.00%) NaN values.\n",
      "Column num_weeks_on contains 0 (0.00%) NaN values.\n",
      "Column user_id contains 0 (0.00%) NaN values.\n",
      "Column week contains 0 (0.00%) NaN values.\n",
      "Column validated contains 0 (0.00%) NaN values.\n"
     ]
    }
   ],
   "source": [
    "check_NaNs(df)"
   ]
  },
  {
   "cell_type": "code",
   "execution_count": 63,
   "id": "9eced4d5-1c13-468e-8db5-8578b54e6591",
   "metadata": {},
   "outputs": [
    {
     "name": "stdout",
     "output_type": "stream",
     "text": [
      "Column num_actions_per_week contains 0 (0.00%) NaN values.\n",
      "Column eng_score contains 0 (0.00%) NaN values.\n",
      "Column FDH contains 0 (0.00%) NaN values.\n",
      "Column FWH contains 0 (0.00%) NaN values.\n",
      "Column FWD contains 0 (0.00%) NaN values.\n",
      "Column num_weeks_on contains 0 (0.00%) NaN values.\n",
      "Column user_id contains 0 (0.00%) NaN values.\n",
      "Column week contains 0 (0.00%) NaN values.\n",
      "Column validated contains 0 (0.00%) NaN values.\n"
     ]
    }
   ],
   "source": [
    "check_NaNs(df_math_cluster_0)"
   ]
  },
  {
   "cell_type": "code",
   "execution_count": 64,
   "id": "fc704e22-c16f-40c3-85a7-44085bdb9e1d",
   "metadata": {},
   "outputs": [
    {
     "name": "stdout",
     "output_type": "stream",
     "text": [
      "Column num_actions_per_week contains 0 (0.00%) NaN values.\n",
      "Column eng_score contains 0 (0.00%) NaN values.\n",
      "Column FDH contains 0 (0.00%) NaN values.\n",
      "Column FWH contains 0 (0.00%) NaN values.\n",
      "Column FWD contains 0 (0.00%) NaN values.\n",
      "Column num_weeks_on contains 0 (0.00%) NaN values.\n",
      "Column user_id contains 0 (0.00%) NaN values.\n",
      "Column week contains 0 (0.00%) NaN values.\n",
      "Column validated contains 0 (0.00%) NaN values.\n"
     ]
    }
   ],
   "source": [
    "check_NaNs(df_math_cluster_1)"
   ]
  },
  {
   "cell_type": "code",
   "execution_count": 65,
   "id": "4ebc37d9-1e00-4bdc-87e3-99892c501ef7",
   "metadata": {},
   "outputs": [
    {
     "name": "stdout",
     "output_type": "stream",
     "text": [
      "Column num_actions_per_week contains 0 (0.00%) NaN values.\n",
      "Column eng_score contains 0 (0.00%) NaN values.\n",
      "Column FDH contains 0 (0.00%) NaN values.\n",
      "Column FWH contains 0 (0.00%) NaN values.\n",
      "Column FWD contains 0 (0.00%) NaN values.\n",
      "Column num_weeks_on contains 0 (0.00%) NaN values.\n",
      "Column user_id contains 0 (0.00%) NaN values.\n",
      "Column week contains 0 (0.00%) NaN values.\n",
      "Column validated contains 0 (0.00%) NaN values.\n"
     ]
    }
   ],
   "source": [
    "check_NaNs(df_german_cluster_0)"
   ]
  },
  {
   "cell_type": "code",
   "execution_count": 66,
   "id": "026912d9-3815-4de1-abc8-66586e82ab1a",
   "metadata": {},
   "outputs": [
    {
     "name": "stdout",
     "output_type": "stream",
     "text": [
      "Column num_actions_per_week contains 0 (0.00%) NaN values.\n",
      "Column eng_score contains 0 (0.00%) NaN values.\n",
      "Column FDH contains 0 (0.00%) NaN values.\n",
      "Column FWH contains 0 (0.00%) NaN values.\n",
      "Column FWD contains 0 (0.00%) NaN values.\n",
      "Column num_weeks_on contains 0 (0.00%) NaN values.\n",
      "Column user_id contains 0 (0.00%) NaN values.\n",
      "Column week contains 0 (0.00%) NaN values.\n",
      "Column validated contains 0 (0.00%) NaN values.\n"
     ]
    }
   ],
   "source": [
    "check_NaNs(df_german_cluster_1)"
   ]
  },
  {
   "cell_type": "markdown",
   "id": "99c435cc-6600-469b-99d0-a213b846f02e",
   "metadata": {},
   "source": [
    "#### Feature Selection"
   ]
  },
  {
   "cell_type": "markdown",
   "id": "4287c571-5ef2-450c-ba8d-4e14112ddef7",
   "metadata": {},
   "source": [
    "Splitting the dataset in features and labels:"
   ]
  },
  {
   "cell_type": "code",
   "execution_count": 67,
   "id": "02158902-1e15-4645-be0f-9ea8c5c4d132",
   "metadata": {},
   "outputs": [],
   "source": [
    "X = df.drop(columns = ['user_id', 'validated', 'week', 'num_weeks_on']) # features\n",
    "users = df.user_id\n",
    "y = df.validated # labels"
   ]
  },
  {
   "cell_type": "code",
   "execution_count": 68,
   "id": "f40c073a-e368-436b-ac98-180209b3eaef",
   "metadata": {},
   "outputs": [],
   "source": [
    "X_math_0 = df_math_cluster_0.drop(columns = ['user_id', 'validated']) # features\n",
    "users_math_0 = df_math_cluster_0.user_id\n",
    "y_math_0 = df_math_cluster_0.validated # labels"
   ]
  },
  {
   "cell_type": "code",
   "execution_count": 69,
   "id": "37c6ac02-6aeb-4f60-b482-71ea96756e06",
   "metadata": {},
   "outputs": [],
   "source": [
    "X_math_1 = df_math_cluster_1.drop(columns = ['user_id', 'validated']) # features\n",
    "users_math_1 = df_math_cluster_1.user_id\n",
    "y_math_1 = df_math_cluster_1.validated # labels"
   ]
  },
  {
   "cell_type": "code",
   "execution_count": 70,
   "id": "52223dcb-57d7-4f96-b36d-3076d50aacf4",
   "metadata": {},
   "outputs": [],
   "source": [
    "X_german_0 = df_german_cluster_0.drop(columns = ['user_id', 'validated']) # features\n",
    "users_german_0 = df_german_cluster_0.user_id\n",
    "y_german_0 = df_german_cluster_0.validated # labels"
   ]
  },
  {
   "cell_type": "code",
   "execution_count": 71,
   "id": "1da26739-d6d5-4d5d-9114-adf7f0a73bc3",
   "metadata": {},
   "outputs": [],
   "source": [
    "X_german_1 = df_german_cluster_1.drop(columns = ['user_id', 'validated']) # features\n",
    "users_german_1 = df_german_cluster_1.user_id\n",
    "y_german_1 = df_german_cluster_1.validated # labels"
   ]
  },
  {
   "cell_type": "markdown",
   "id": "52fe821d-2977-4916-85db-66d68d143574",
   "metadata": {},
   "source": [
    "#### Splitting the data between Training and Testing sets"
   ]
  },
  {
   "cell_type": "code",
   "execution_count": 72,
   "id": "c4f469b5-4ed1-4351-aa63-2bb3cd706b3a",
   "metadata": {},
   "outputs": [],
   "source": [
    "X_train, X_test, y_train, y_test = train_test_split(X, y, test_size=0.3, random_state=seed) # 70% training and 30% test"
   ]
  },
  {
   "cell_type": "code",
   "execution_count": 73,
   "id": "c33a8225-f30a-4fba-aa3b-18da32c9cad5",
   "metadata": {},
   "outputs": [],
   "source": [
    "X_train_math_0, X_test_math_0, y_train_math_0, y_test_math_0 = train_test_split(X_math_0, y_math_0, test_size=0.3, random_state=seed) # 70% training and 30% test"
   ]
  },
  {
   "cell_type": "code",
   "execution_count": 74,
   "id": "c3faa377-4d7b-4a8d-84c2-f832406e4a89",
   "metadata": {},
   "outputs": [],
   "source": [
    "X_train_math_1, X_test_math_1, y_train_math_1, y_test_math_1 = train_test_split(X_math_1, y_math_1, test_size=0.3, random_state=seed) # 70% training and 30% test"
   ]
  },
  {
   "cell_type": "code",
   "execution_count": 75,
   "id": "a753e9bf-b34e-41f2-9de1-b225eb411f94",
   "metadata": {},
   "outputs": [],
   "source": [
    "X_train_german_0, X_test_german_0, y_train_german_0, y_test_german_0 = train_test_split(X_german_0, y_german_0, test_size=0.3, random_state=seed) # 70% training and 30% test"
   ]
  },
  {
   "cell_type": "code",
   "execution_count": 76,
   "id": "74961ba7-bd43-4d62-986f-259d35ee13f7",
   "metadata": {},
   "outputs": [],
   "source": [
    "X_train_german_1, X_test_german_1, y_train_german_1, y_test_german_1 = train_test_split(X_german_1, y_german_1, test_size=0.3, random_state=seed) # 70% training and 30% test"
   ]
  },
  {
   "cell_type": "markdown",
   "id": "641d9d1a-cbbe-45e2-b75d-a59b7a9733aa",
   "metadata": {},
   "source": [
    "#### Correcting class imbalance"
   ]
  },
  {
   "cell_type": "code",
   "execution_count": 77,
   "id": "db9ec523-a490-4f71-9751-bfcfdfa2e209",
   "metadata": {},
   "outputs": [],
   "source": [
    "def correcting_imbalance(X_train, y_train):\n",
    "    ## Correcting class imbalance\n",
    "\n",
    "    # Getting samples indices per class\n",
    "    classes = [0, 1]\n",
    "    classes = [[i for i, y in enumerate(y_train) if y==c] for c in classes]\n",
    "    _lengthes = list(map(len, classes))\n",
    "\n",
    "    # Computing desired number of samples in each class\n",
    "    upsampling_ratio = 0.5\n",
    "    _max, _min = max(_lengthes), min(_lengthes)\n",
    "    n_samples = int( upsampling_ratio * _max + (1-upsampling_ratio) * _min )\n",
    "\n",
    "    print(f\"Minority class: {_min:,} samples.\\nMajority class: {_max:,} samples.\")\n",
    "    print(f\"Upsampling by {upsampling_ratio*100:.2f}%, each class contains {n_samples:,} samples.\")\n",
    "\n",
    "    # Resampling to match desired number of samples in each class\n",
    "    balanced = []\n",
    "    for c in classes:\n",
    "        balanced.append(resample(c, random_state=seed, n_samples=n_samples) )\n",
    "\n",
    "    # Verifying and concatenating all in one array\n",
    "    assert(all([len(c) == n_samples for c in balanced]))\n",
    "    balanced = np.concatenate(balanced)\n",
    "\n",
    "    # Reassigning the samples to balance the training set\n",
    "    y_train_b = np.array(y_train)[balanced]\n",
    "    X_train_b = np.array(X_train)[balanced]\n",
    "\n",
    "    # Verifying that the classes are balanced as expected\n",
    "    assert(all([len([y for y in y_train_b if y==c]) == n_samples for c in [0, 1]]))\n",
    "    return X_train_b, y_train_b"
   ]
  },
  {
   "cell_type": "markdown",
   "id": "ffc535c7-4490-4af5-bc04-9a5634b74ce7",
   "metadata": {},
   "source": [
    "Converting the NumPy arrays back to pandas DataFrames:"
   ]
  },
  {
   "cell_type": "code",
   "execution_count": 78,
   "id": "fa0beb39-7c4c-444b-ba45-5a136a478e09",
   "metadata": {},
   "outputs": [
    {
     "name": "stdout",
     "output_type": "stream",
     "text": [
      "Minority class: 2,020 samples.\n",
      "Majority class: 5,769 samples.\n",
      "Upsampling by 50.00%, each class contains 3,894 samples.\n"
     ]
    }
   ],
   "source": [
    "X_train_b, y_train_b = correcting_imbalance(X_train, y_train)\n",
    "X_train = pd.DataFrame(X_train_b, columns = ['num_actions_per_week', 'eng_score', 'FDH', 'FWH', 'FWD'])"
   ]
  },
  {
   "cell_type": "code",
   "execution_count": 79,
   "id": "4d08ffbe-52d1-4a6e-9a74-3fe01db5f79c",
   "metadata": {},
   "outputs": [
    {
     "name": "stdout",
     "output_type": "stream",
     "text": [
      "Minority class: 2,994 samples.\n",
      "Majority class: 7,403 samples.\n",
      "Upsampling by 50.00%, each class contains 5,198 samples.\n"
     ]
    }
   ],
   "source": [
    "X_train_math_0_b, y_train_math_0_b = correcting_imbalance(X_train_math_0, y_train_math_0)\n",
    "X_train_math_0 = pd.DataFrame(X_train_math_0_b, columns = ['num_actions_per_week', 'eng_score', 'FDH', 'FWH', 'FWD', 'num_weeks_on', 'week'])"
   ]
  },
  {
   "cell_type": "code",
   "execution_count": 80,
   "id": "b36ad6a5-b357-4832-a4ff-4f17cf34586e",
   "metadata": {},
   "outputs": [
    {
     "name": "stdout",
     "output_type": "stream",
     "text": [
      "Minority class: 3 samples.\n",
      "Majority class: 6 samples.\n",
      "Upsampling by 50.00%, each class contains 4 samples.\n"
     ]
    }
   ],
   "source": [
    "X_train_math_1_b, y_train_math_1_b = correcting_imbalance(X_train_math_1, y_train_math_1)\n",
    "X_train_math_1 = pd.DataFrame(X_train_math_1_b, columns = ['num_actions_per_week', 'eng_score', 'FDH', 'FWH', 'FWD', 'num_weeks_on', 'week'])"
   ]
  },
  {
   "cell_type": "code",
   "execution_count": 81,
   "id": "48bfba79-f977-4108-b2ec-124d9c1f73da",
   "metadata": {},
   "outputs": [
    {
     "name": "stdout",
     "output_type": "stream",
     "text": [
      "Minority class: 1,912 samples.\n",
      "Majority class: 4,815 samples.\n",
      "Upsampling by 50.00%, each class contains 3,363 samples.\n"
     ]
    }
   ],
   "source": [
    "X_train_german_0_b, y_train_german_0_b = correcting_imbalance(X_train_german_0, y_train_german_0)\n",
    "X_train_german_0 = pd.DataFrame(X_train_german_0_b, columns = ['num_actions_per_week', 'eng_score', 'FDH', 'FWH', 'FWD', 'num_weeks_on', 'week'])"
   ]
  },
  {
   "cell_type": "code",
   "execution_count": 82,
   "id": "cce89e0f-6e96-4742-be6f-b4bf5d364958",
   "metadata": {},
   "outputs": [
    {
     "name": "stdout",
     "output_type": "stream",
     "text": [
      "Minority class: 1 samples.\n",
      "Majority class: 3 samples.\n",
      "Upsampling by 50.00%, each class contains 2 samples.\n"
     ]
    }
   ],
   "source": [
    "X_train_german_1_b, y_train_german_1_b = correcting_imbalance(X_train_german_1, y_train_german_1)\n",
    "X_train_german_1 = pd.DataFrame(X_train_german_1_b, columns = ['num_actions_per_week', 'eng_score', 'FDH', 'FWH', 'FWD', 'num_weeks_on', 'week'])"
   ]
  },
  {
   "cell_type": "markdown",
   "id": "022bd81f-1e99-4e1d-89ed-5c192ab66e42",
   "metadata": {},
   "source": [
    "## Model Building"
   ]
  },
  {
   "cell_type": "markdown",
   "id": "9b3e8370-b052-48a1-95f4-0598451fcf15",
   "metadata": {},
   "source": [
    "#### Utils:"
   ]
  },
  {
   "cell_type": "code",
   "execution_count": 83,
   "id": "56a27360-796d-48df-9b9e-8c543daeb89f",
   "metadata": {},
   "outputs": [],
   "source": [
    "def predict_decision_tree_default(X_train, y_train, X_test):\n",
    "    # Create Decision Tree classifer object\n",
    "    clf = DecisionTreeClassifier()\n",
    "\n",
    "    # Train Decision Tree Classifer\n",
    "    clf = clf.fit(X_train, y_train)\n",
    "\n",
    "    # Predict the label for test dataset\n",
    "    y_pred_decision_tree = clf.predict(X_test)\n",
    "    \n",
    "    return y_pred_decision_tree"
   ]
  },
  {
   "cell_type": "code",
   "execution_count": 84,
   "id": "566efd9c-7157-42ea-8887-695bcb56a630",
   "metadata": {},
   "outputs": [],
   "source": [
    "def predict_random_forest_default(X_train, y_train, X_test):\n",
    "    # Create a Gaussian Classifier\n",
    "    clf = RandomForestClassifier(n_estimators=100)\n",
    "\n",
    "    # Train the model using the training sets y_pred=clf.predict(X_test)\n",
    "    clf.fit(X_train, y_train)\n",
    "\n",
    "    # Predict the label for the test dataset\n",
    "    y_pred_random_forest = clf.predict(X_test)\n",
    "    \n",
    "    return y_pred_random_forest"
   ]
  },
  {
   "cell_type": "code",
   "execution_count": 85,
   "id": "85b94261-b130-4b7b-86e3-cf4ae15e4233",
   "metadata": {},
   "outputs": [],
   "source": [
    "def predict_adaboost_default(X_train, y_train, X_test):\n",
    "    # Create Adaboost classifer object\n",
    "    abc = AdaBoostClassifier(n_estimators=50,\n",
    "                             learning_rate=1)\n",
    "    # Train Adaboost Classifer\n",
    "    model = abc.fit(X_train, y_train)\n",
    "\n",
    "    # Predict the label for test dataset\n",
    "    y_pred_ada_boost = model.predict(X_test)\n",
    "    \n",
    "    return y_pred_ada_boost"
   ]
  },
  {
   "cell_type": "code",
   "execution_count": 86,
   "id": "559c1f86-df8b-4930-8bb0-d73a27abe2bc",
   "metadata": {},
   "outputs": [],
   "source": [
    "def predict_decision_tree(X_train, y_train, X_test):\n",
    "    # Create Decision Tree classifer object\n",
    "    clf = DecisionTreeClassifier(min_samples_split=2, min_samples_leaf=1, max_features='sqrt', max_depth=80)\n",
    "\n",
    "    # Train Decision Tree Classifer\n",
    "    clf = clf.fit(X_train, y_train)\n",
    "\n",
    "    # Predict the label for test dataset\n",
    "    y_pred_decision_tree = clf.predict(X_test)\n",
    "    \n",
    "    return y_pred_decision_tree"
   ]
  },
  {
   "cell_type": "code",
   "execution_count": 87,
   "id": "fd7935b2-bebc-4bde-8521-fe69fb811456",
   "metadata": {},
   "outputs": [],
   "source": [
    "def predict_random_forest(X_train, y_train, X_test):\n",
    "    # Create a Gaussian Classifier\n",
    "    clf = RandomForestClassifier(n_estimators=400, min_samples_split=2, min_samples_leaf=1, max_features='auto', max_depth=70, bootstrap=False)\n",
    "\n",
    "    # Train the model using the training sets y_pred=clf.predict(X_test)\n",
    "    clf.fit(X_train, y_train)\n",
    "\n",
    "    # Predict the label for the test dataset\n",
    "    y_pred_random_forest = clf.predict(X_test)\n",
    "    \n",
    "    return y_pred_random_forest"
   ]
  },
  {
   "cell_type": "code",
   "execution_count": 88,
   "id": "497fded4-db01-468d-a31d-0d2e4128bee7",
   "metadata": {},
   "outputs": [],
   "source": [
    "def predict_adaboost(X_train, y_train, X_test):\n",
    "    # Create Adaboost classifer object\n",
    "    abc = AdaBoostClassifier(n_estimators=1800, learning_rate=0.7, base_estimator=None)\n",
    "    \n",
    "    # Train Adaboost Classifer\n",
    "    model = abc.fit(X_train, y_train)\n",
    "\n",
    "    # Predict the label for test dataset\n",
    "    y_pred_ada_boost = model.predict(X_test)\n",
    "    \n",
    "    return y_pred_ada_boost"
   ]
  },
  {
   "cell_type": "code",
   "execution_count": 89,
   "id": "c9414ca8-fac8-45eb-831c-33e0de0e4a61",
   "metadata": {},
   "outputs": [],
   "source": [
    "def _create_labels(params):\n",
    "    \"\"\"\n",
    "    Creates the set of labels for the input param values.\n",
    "    \"\"\"\n",
    "    labels = [str(params[k]) + '\\n' for k in params.keys()]\n",
    "    labels = \"\".join(labels)\n",
    "    return labels"
   ]
  },
  {
   "cell_type": "code",
   "execution_count": 90,
   "id": "72b65ef2-3db7-4a80-a6e3-950a60dbb9f3",
   "metadata": {},
   "outputs": [],
   "source": [
    "def plot_results(results):\n",
    "    \"\"\"\n",
    "    Expects a dict with various params and a score result.\n",
    "    \"\"\"\n",
    "\n",
    "    # Get y and x\n",
    "    ys = [s for _,s in results]\n",
    "    xs = [p for p,_ in results]\n",
    "    xlabels = [_create_labels(p) for p in xs] \n",
    "\n",
    "    _adjust = \"\\n\" * len(xs[0].keys())\n",
    "    xlabels = [_adjust+l if i%2==1 else l for i, l in enumerate(xlabels)]\n",
    "    \n",
    "    plt.figure(figsize=(20,5))\n",
    "    plt.plot(ys)\n",
    "    plt.grid()\n",
    "    plt.xticks(ticks=list(range(len(ys))), labels=xlabels)\n",
    "    plt.show()"
   ]
  },
  {
   "cell_type": "markdown",
   "id": "25c434b1-cad9-4109-b53f-e7d3e2746c06",
   "metadata": {},
   "source": [
    "### Without clustering:"
   ]
  },
  {
   "cell_type": "markdown",
   "id": "f03077ee-98e0-483b-a225-d55358fd5684",
   "metadata": {},
   "source": [
    "Building the Decision Tree Model with default parameters:"
   ]
  },
  {
   "cell_type": "code",
   "execution_count": 91,
   "id": "b6850ff8-acf6-495c-8031-59fdf16adf7a",
   "metadata": {},
   "outputs": [],
   "source": [
    "y_pred_decision_tree = predict_decision_tree_default(X_train, y_train_b, X_test)"
   ]
  },
  {
   "cell_type": "markdown",
   "id": "dba31065-3de2-444b-84da-84ae67551672",
   "metadata": {},
   "source": [
    "Building the Random Forest Model:"
   ]
  },
  {
   "cell_type": "code",
   "execution_count": 92,
   "id": "01719fa5-5f83-4d5e-9e23-9f6b55e59b44",
   "metadata": {},
   "outputs": [],
   "source": [
    "y_pred_random_forest = predict_random_forest_default(X_train, y_train_b, X_test)"
   ]
  },
  {
   "cell_type": "markdown",
   "id": "1cb68dba-f9a0-45f1-a603-78b4cda14311",
   "metadata": {},
   "source": [
    "Building the Adaboost Model:"
   ]
  },
  {
   "cell_type": "code",
   "execution_count": 93,
   "id": "a7b78c9b-683e-4a8f-a445-1d1bb8970d35",
   "metadata": {},
   "outputs": [],
   "source": [
    "y_pred_ada_boost = predict_adaboost_default(X_train, y_train_b, X_test)"
   ]
  },
  {
   "cell_type": "markdown",
   "id": "1b0d3580-3350-41d8-a7fa-583835c5ffb3",
   "metadata": {},
   "source": [
    "Building the Decision Tree Model with hyperparameter tunning:"
   ]
  },
  {
   "cell_type": "code",
   "execution_count": 94,
   "id": "a849cf2c-3f23-4546-b395-9644d39e4b07",
   "metadata": {},
   "outputs": [],
   "source": [
    "#X_train, X_test, y_train, y_test = train_test_split(X, y, test_size=0.3, random_state=seed) # 70% training and 30% test\n",
    "#X_train, X_val, y_train, y_val = train_test_split(X_train, y_train, test_size=0.1, random_state=seed)"
   ]
  },
  {
   "cell_type": "code",
   "execution_count": 95,
   "id": "96680419-8f60-4027-9cd1-15a3de8d6176",
   "metadata": {},
   "outputs": [],
   "source": [
    "#X_train_b, y_train_b = correcting_imbalance(X_train, y_train)\n",
    "#X_train = pd.DataFrame(X_train_b, columns = ['num_actions_per_week', 'eng_score', 'FDH', 'FWH', 'FWD', 'num_weeks_on', 'week'])"
   ]
  },
  {
   "cell_type": "code",
   "execution_count": 41,
   "id": "4682f0e4-f64b-4e9b-85a6-115d9e9e7e18",
   "metadata": {},
   "outputs": [
    {
     "name": "stdout",
     "output_type": "stream",
     "text": [
      "Parameters currently in use:\n",
      "\n",
      "{'ccp_alpha': 0.0,\n",
      " 'class_weight': None,\n",
      " 'criterion': 'gini',\n",
      " 'max_depth': None,\n",
      " 'max_features': None,\n",
      " 'max_leaf_nodes': None,\n",
      " 'min_impurity_decrease': 0.0,\n",
      " 'min_samples_leaf': 1,\n",
      " 'min_samples_split': 2,\n",
      " 'min_weight_fraction_leaf': 0.0,\n",
      " 'random_state': None,\n",
      " 'splitter': 'best'}\n"
     ]
    }
   ],
   "source": [
    "clf = DecisionTreeClassifier()\n",
    "\n",
    "# Look at the parameters used by default by our current Decision Tree Classifier:\n",
    "print('Parameters currently in use:\\n')\n",
    "pprint(clf.get_params())"
   ]
  },
  {
   "cell_type": "code",
   "execution_count": 105,
   "id": "72f807ba-4477-4be5-8ae1-146b8de4d15e",
   "metadata": {},
   "outputs": [
    {
     "name": "stdout",
     "output_type": "stream",
     "text": [
      "{'max_depth': [10, 20, 30, 40, 50, 60, 70, 80, 90, 100, 110, None],\n",
      " 'max_features': ['auto', 'sqrt'],\n",
      " 'min_samples_leaf': [1, 2, 4],\n",
      " 'min_samples_split': [2, 5, 10]}\n"
     ]
    }
   ],
   "source": [
    "# Number of features to consider at every split\n",
    "max_features = ['auto', 'sqrt']\n",
    "# Maximum number of levels in tree\n",
    "max_depth = [int(x) for x in np.linspace(10, 110, num = 11)]\n",
    "max_depth.append(None)\n",
    "# Minimum number of samples required to split a node\n",
    "min_samples_split = [2, 5, 10]\n",
    "# Minimum number of samples required at each leaf node\n",
    "min_samples_leaf = [1, 2, 4]\n",
    "# Create the random grid\n",
    "random_grid = {'max_features': max_features,\n",
    "               'max_depth': max_depth,\n",
    "               'min_samples_split': min_samples_split,\n",
    "               'min_samples_leaf': min_samples_leaf}\n",
    "pprint(random_grid)"
   ]
  },
  {
   "cell_type": "code",
   "execution_count": null,
   "id": "49956d46-c21c-4557-8db2-9a8ec624c255",
   "metadata": {},
   "outputs": [],
   "source": [
    "# Use the random grid to search for best hyperparameters\n",
    "# First create the base model to tune\n",
    "clf = DecisionTreeClassifier()\n",
    "# Random search of parameters, using 3 fold cross validation, \n",
    "# search across 100 different combinations, and use all available cores\n",
    "clf_random = RandomizedSearchCV(estimator = clf, scoring = metrics.make_scorer(metrics.accuracy_score),  param_distributions = random_grid, n_iter = 100, cv = 3, verbose=2, random_state=seed, n_jobs = -1)# Fit the random search model\n",
    "clf_random.fit(X_train, y_train_b)"
   ]
  },
  {
   "cell_type": "code",
   "execution_count": 107,
   "id": "bf728a6c-34fb-4abf-bd19-8a29372ded7a",
   "metadata": {},
   "outputs": [
    {
     "data": {
      "text/plain": [
       "{'min_samples_split': 2,\n",
       " 'min_samples_leaf': 1,\n",
       " 'max_features': 'sqrt',\n",
       " 'max_depth': 80}"
      ]
     },
     "execution_count": 107,
     "metadata": {},
     "output_type": "execute_result"
    }
   ],
   "source": [
    "clf_random.best_params_"
   ]
  },
  {
   "cell_type": "code",
   "execution_count": 108,
   "id": "adffabb2-a7bb-4085-882d-0e5561d42f33",
   "metadata": {},
   "outputs": [],
   "source": [
    "results_decision_tree = clf_random.cv_results_"
   ]
  },
  {
   "cell_type": "code",
   "execution_count": 109,
   "id": "f5683e2a-31cb-427a-a02f-eec878240ab4",
   "metadata": {},
   "outputs": [
    {
     "data": {
      "image/png": "[encoded data removed]",
      "text/plain": [
       "<Figure size 1440x360 with 1 Axes>"
      ]
     },
     "metadata": {
      "needs_background": "light"
     },
     "output_type": "display_data"
    }
   ],
   "source": [
    "plot_results(list(zip(results_decision_tree['params'], results_decision_tree['mean_test_score'])))"
   ]
  },
  {
   "cell_type": "code",
   "execution_count": 96,
   "id": "af039c28-51fa-45ce-a611-f47f851b2064",
   "metadata": {},
   "outputs": [],
   "source": [
    "# Create Decision Tree classifer object\n",
    "clf_decision_tree = DecisionTreeClassifier(min_samples_split=2, min_samples_leaf=1, max_features='sqrt', max_depth=80)\n",
    "\n",
    "# Train Decision Tree Classifer\n",
    "clf_decision_tree = clf_decision_tree.fit(X_train, y_train_b)\n",
    "\n",
    "# Predict the label for test dataset\n",
    "y_pred_decision_tree_hyperparameters_tuned = clf_decision_tree.predict(X_test)"
   ]
  },
  {
   "cell_type": "code",
   "execution_count": 97,
   "id": "b48a70bb-8898-44de-97a3-a6746e040294",
   "metadata": {},
   "outputs": [
    {
     "data": {
      "text/html": [
       "<div>\n",
       "<style scoped>\n",
       "    .dataframe tbody tr th:only-of-type {\n",
       "        vertical-align: middle;\n",
       "    }\n",
       "\n",
       "    .dataframe tbody tr th {\n",
       "        vertical-align: top;\n",
       "    }\n",
       "\n",
       "    .dataframe thead th {\n",
       "        text-align: right;\n",
       "    }\n",
       "</style>\n",
       "<table border=\"1\" class=\"dataframe\">\n",
       "  <thead>\n",
       "    <tr style=\"text-align: right;\">\n",
       "      <th></th>\n",
       "      <th>importance</th>\n",
       "      <th>feature</th>\n",
       "    </tr>\n",
       "  </thead>\n",
       "  <tbody>\n",
       "    <tr>\n",
       "      <th>0</th>\n",
       "      <td>0.588203</td>\n",
       "      <td>num_actions_per_week</td>\n",
       "    </tr>\n",
       "    <tr>\n",
       "      <th>1</th>\n",
       "      <td>0.014218</td>\n",
       "      <td>eng_score</td>\n",
       "    </tr>\n",
       "    <tr>\n",
       "      <th>2</th>\n",
       "      <td>0.146598</td>\n",
       "      <td>FDH</td>\n",
       "    </tr>\n",
       "    <tr>\n",
       "      <th>3</th>\n",
       "      <td>0.161823</td>\n",
       "      <td>FWH</td>\n",
       "    </tr>\n",
       "    <tr>\n",
       "      <th>4</th>\n",
       "      <td>0.089158</td>\n",
       "      <td>FWD</td>\n",
       "    </tr>\n",
       "  </tbody>\n",
       "</table>\n",
       "</div>"
      ],
      "text/plain": [
       "   importance               feature\n",
       "0    0.588203  num_actions_per_week\n",
       "1    0.014218             eng_score\n",
       "2    0.146598                   FDH\n",
       "3    0.161823                   FWH\n",
       "4    0.089158                   FWD"
      ]
     },
     "execution_count": 97,
     "metadata": {},
     "output_type": "execute_result"
    }
   ],
   "source": [
    "feature_imp = pd.DataFrame(zip(clf_decision_tree.feature_importances_, ['num_actions_per_week', 'eng_score', 'FDH', 'FWH', 'FWD', 'num_weeks_on', 'week']))\n",
    "feature_imp = feature_imp.rename(columns = {0:'importance', 1:'feature'})\n",
    "feature_imp"
   ]
  },
  {
   "cell_type": "code",
   "execution_count": 98,
   "id": "eb423ade-0da7-491b-808d-9a159c9d3076",
   "metadata": {},
   "outputs": [
    {
     "data": {
      "image/png": "[encoded data removed]",
      "text/plain": [
       "<Figure size 432x288 with 1 Axes>"
      ]
     },
     "metadata": {
      "needs_background": "light"
     },
     "output_type": "display_data"
    }
   ],
   "source": [
    "ax = feature_imp.plot.barh(x='feature', y='importance', rot=0)"
   ]
  },
  {
   "cell_type": "markdown",
   "id": "b27ea6ba-f2f0-4cfe-aa03-56ad93f6a9e0",
   "metadata": {},
   "source": [
    "Building the Random Forest Model with hyperparameter tunning:"
   ]
  },
  {
   "cell_type": "code",
   "execution_count": 210,
   "id": "ce58e463-3566-45b7-8371-c23d55ccd8e8",
   "metadata": {},
   "outputs": [
    {
     "name": "stdout",
     "output_type": "stream",
     "text": [
      "Parameters currently in use:\n",
      "\n",
      "{'bootstrap': True,\n",
      " 'ccp_alpha': 0.0,\n",
      " 'class_weight': None,\n",
      " 'criterion': 'gini',\n",
      " 'max_depth': None,\n",
      " 'max_features': 'auto',\n",
      " 'max_leaf_nodes': None,\n",
      " 'max_samples': None,\n",
      " 'min_impurity_decrease': 0.0,\n",
      " 'min_samples_leaf': 1,\n",
      " 'min_samples_split': 2,\n",
      " 'min_weight_fraction_leaf': 0.0,\n",
      " 'n_estimators': 100,\n",
      " 'n_jobs': None,\n",
      " 'oob_score': False,\n",
      " 'random_state': 0,\n",
      " 'verbose': 0,\n",
      " 'warm_start': False}\n"
     ]
    }
   ],
   "source": [
    "clf = RandomForestClassifier(random_state=seed)\n",
    "\n",
    "# Look at the parameters used by default by our current Random Forest Classifier:\n",
    "print('Parameters currently in use:\\n')\n",
    "pprint(clf.get_params())"
   ]
  },
  {
   "cell_type": "code",
   "execution_count": 211,
   "id": "d5688a0c-992c-43d9-98f7-68c7b2cd4fca",
   "metadata": {},
   "outputs": [
    {
     "name": "stdout",
     "output_type": "stream",
     "text": [
      "{'bootstrap': [True, False],\n",
      " 'max_depth': [10, 20, 30, 40, 50, 60, 70, 80, 90, 100, 110, None],\n",
      " 'max_features': ['auto', 'sqrt'],\n",
      " 'min_samples_leaf': [1, 2, 4],\n",
      " 'min_samples_split': [2, 5, 10],\n",
      " 'n_estimators': [200, 400, 600, 800, 1000, 1200, 1400, 1600, 1800, 2000]}\n"
     ]
    }
   ],
   "source": [
    "# Number of trees in random forest\n",
    "n_estimators = [int(x) for x in np.linspace(start = 200, stop = 2000, num = 10)]\n",
    "# Number of features to consider at every split\n",
    "max_features = ['auto', 'sqrt']\n",
    "# Maximum number of levels in tree\n",
    "max_depth = [int(x) for x in np.linspace(10, 110, num = 11)]\n",
    "max_depth.append(None)\n",
    "# Minimum number of samples required to split a node\n",
    "min_samples_split = [2, 5, 10]\n",
    "# Minimum number of samples required at each leaf node\n",
    "min_samples_leaf = [1, 2, 4]\n",
    "# Method of selecting samples for training each tree\n",
    "bootstrap = [True, False]\n",
    "# Create the random grid\n",
    "random_grid = {'n_estimators': n_estimators,\n",
    "               'max_features': max_features,\n",
    "               'max_depth': max_depth,\n",
    "               'min_samples_split': min_samples_split,\n",
    "               'min_samples_leaf': min_samples_leaf,\n",
    "               'bootstrap': bootstrap}\n",
    "pprint(random_grid)"
   ]
  },
  {
   "cell_type": "code",
   "execution_count": 212,
   "id": "9af0a708-e36a-4bad-b459-a9089bb8e1e9",
   "metadata": {
    "collapsed": true,
    "jupyter": {
     "outputs_hidden": true
    },
    "tags": []
   },
   "outputs": [
    {
     "name": "stdout",
     "output_type": "stream",
     "text": [
      "Fitting 3 folds for each of 100 candidates, totalling 300 fits\n",
      "[CV 2/3; 5/100] START bootstrap=False, max_depth=None, max_features=sqrt, min_samples_leaf=1, min_samples_split=2, n_estimators=400\n",
      "[CV 2/3; 5/100] END bootstrap=False, max_depth=None, max_features=sqrt, min_samples_leaf=1, min_samples_split=2, n_estimators=400;, score=0.806 total time= 4.0min\n",
      "[CV 2/3; 9/100] START bootstrap=True, max_depth=80, max_features=sqrt, min_samples_leaf=2, min_samples_split=2, n_estimators=200\n",
      "[CV 2/3; 9/100] END bootstrap=True, max_depth=80, max_features=sqrt, min_samples_leaf=2, min_samples_split=2, n_estimators=200;, score=0.773 total time= 1.1min\n",
      "[CV 3/3; 10/100] START bootstrap=False, max_depth=10, max_features=auto, min_samples_leaf=4, min_samples_split=5, n_estimators=600\n",
      "[CV 3/3; 10/100] END bootstrap=False, max_depth=10, max_features=auto, min_samples_leaf=4, min_samples_split=5, n_estimators=600;, score=0.669 total time= 3.0min\n",
      "[CV 1/3; 13/100] START bootstrap=True, max_depth=50, max_features=auto, min_samples_leaf=4, min_samples_split=10, n_estimators=2000\n",
      "[CV 1/3; 13/100] END bootstrap=True, max_depth=50, max_features=auto, min_samples_leaf=4, min_samples_split=10, n_estimators=2000;, score=0.745 total time=15.0min\n",
      "[CV 3/3; 18/100] START bootstrap=True, max_depth=30, max_features=sqrt, min_samples_leaf=4, min_samples_split=5, n_estimators=1800\n",
      "[CV 3/3; 18/100] END bootstrap=True, max_depth=30, max_features=sqrt, min_samples_leaf=4, min_samples_split=5, n_estimators=1800;, score=0.739 total time=15.7min\n",
      "[CV 2/3; 27/100] START bootstrap=False, max_depth=40, max_features=auto, min_samples_leaf=1, min_samples_split=5, n_estimators=1000\n",
      "[CV 2/3; 27/100] END bootstrap=False, max_depth=40, max_features=auto, min_samples_leaf=1, min_samples_split=5, n_estimators=1000;, score=0.802 total time= 7.5min\n",
      "[CV 2/3; 32/100] START bootstrap=False, max_depth=30, max_features=auto, min_samples_leaf=4, min_samples_split=5, n_estimators=1000\n",
      "[CV 2/3; 32/100] END bootstrap=False, max_depth=30, max_features=auto, min_samples_leaf=4, min_samples_split=5, n_estimators=1000;, score=0.759 total time= 4.1min\n",
      "[CV 1/3; 35/100] START bootstrap=True, max_depth=70, max_features=auto, min_samples_leaf=2, min_samples_split=2, n_estimators=1000\n",
      "[CV 1/3; 35/100] END bootstrap=True, max_depth=70, max_features=auto, min_samples_leaf=2, min_samples_split=2, n_estimators=1000;, score=0.787 total time= 2.7min\n",
      "[CV 1/3; 36/100] START bootstrap=True, max_depth=90, max_features=auto, min_samples_leaf=2, min_samples_split=5, n_estimators=2000\n",
      "[CV 1/3; 36/100] END bootstrap=True, max_depth=90, max_features=auto, min_samples_leaf=2, min_samples_split=5, n_estimators=2000;, score=0.787 total time= 2.4min\n",
      "[CV 1/3; 37/100] START bootstrap=False, max_depth=100, max_features=auto, min_samples_leaf=2, min_samples_split=2, n_estimators=1400\n",
      "[CV 1/3; 37/100] END bootstrap=False, max_depth=100, max_features=auto, min_samples_leaf=2, min_samples_split=2, n_estimators=1400;, score=0.801 total time= 1.4min\n",
      "[CV 2/3; 38/100] START bootstrap=True, max_depth=100, max_features=sqrt, min_samples_leaf=4, min_samples_split=5, n_estimators=2000\n",
      "[CV 2/3; 38/100] END bootstrap=True, max_depth=100, max_features=sqrt, min_samples_leaf=4, min_samples_split=5, n_estimators=2000;, score=0.739 total time=10.4min\n",
      "[CV 1/3; 45/100] START bootstrap=False, max_depth=30, max_features=auto, min_samples_leaf=4, min_samples_split=10, n_estimators=400\n",
      "[CV 1/3; 45/100] END bootstrap=False, max_depth=30, max_features=auto, min_samples_leaf=4, min_samples_split=10, n_estimators=400;, score=0.761 total time= 3.1min\n",
      "[CV 3/3; 47/100] START bootstrap=True, max_depth=None, max_features=sqrt, min_samples_leaf=1, min_samples_split=10, n_estimators=1200\n",
      "[CV 3/3; 47/100] END bootstrap=True, max_depth=None, max_features=sqrt, min_samples_leaf=1, min_samples_split=10, n_estimators=1200;, score=0.760 total time=11.0min\n",
      "[CV 2/3; 53/100] START bootstrap=False, max_depth=100, max_features=sqrt, min_samples_leaf=2, min_samples_split=2, n_estimators=2000\n",
      "[CV 2/3; 53/100] END bootstrap=False, max_depth=100, max_features=sqrt, min_samples_leaf=2, min_samples_split=2, n_estimators=2000;, score=0.792 total time=27.8min\n",
      "[CV 1/3; 71/100] START bootstrap=True, max_depth=30, max_features=auto, min_samples_leaf=2, min_samples_split=10, n_estimators=200\n",
      "[CV 1/3; 71/100] END bootstrap=True, max_depth=30, max_features=auto, min_samples_leaf=2, min_samples_split=10, n_estimators=200;, score=0.759 total time=  23.9s\n",
      "[CV 2/3; 71/100] START bootstrap=True, max_depth=30, max_features=auto, min_samples_leaf=2, min_samples_split=10, n_estimators=200\n",
      "[CV 2/3; 71/100] END bootstrap=True, max_depth=30, max_features=auto, min_samples_leaf=2, min_samples_split=10, n_estimators=200;, score=0.751 total time=   3.8s\n",
      "[CV 3/3; 71/100] START bootstrap=True, max_depth=30, max_features=auto, min_samples_leaf=2, min_samples_split=10, n_estimators=200\n",
      "[CV 3/3; 71/100] END bootstrap=True, max_depth=30, max_features=auto, min_samples_leaf=2, min_samples_split=10, n_estimators=200;, score=0.745 total time=   4.2s\n",
      "[CV 1/3; 72/100] START bootstrap=True, max_depth=90, max_features=sqrt, min_samples_leaf=2, min_samples_split=2, n_estimators=1000\n",
      "[CV 1/3; 72/100] END bootstrap=True, max_depth=90, max_features=sqrt, min_samples_leaf=2, min_samples_split=2, n_estimators=1000;, score=0.789 total time= 3.2min\n",
      "[CV 3/3; 73/100] START bootstrap=True, max_depth=30, max_features=sqrt, min_samples_leaf=4, min_samples_split=10, n_estimators=400\n",
      "[CV 3/3; 73/100] END bootstrap=True, max_depth=30, max_features=sqrt, min_samples_leaf=4, min_samples_split=10, n_estimators=400;, score=0.734 total time=  22.1s\n",
      "[CV 1/3; 74/100] START bootstrap=True, max_depth=None, max_features=sqrt, min_samples_leaf=1, min_samples_split=2, n_estimators=400\n",
      "[CV 1/3; 74/100] END bootstrap=True, max_depth=None, max_features=sqrt, min_samples_leaf=1, min_samples_split=2, n_estimators=400;, score=0.819 total time=  23.7s\n",
      "[CV 2/3; 74/100] START bootstrap=True, max_depth=None, max_features=sqrt, min_samples_leaf=1, min_samples_split=2, n_estimators=400\n",
      "[CV 2/3; 74/100] END bootstrap=True, max_depth=None, max_features=sqrt, min_samples_leaf=1, min_samples_split=2, n_estimators=400;, score=0.808 total time=   9.5s\n",
      "[CV 3/3; 74/100] START bootstrap=True, max_depth=None, max_features=sqrt, min_samples_leaf=1, min_samples_split=2, n_estimators=400\n",
      "[CV 3/3; 74/100] END bootstrap=True, max_depth=None, max_features=sqrt, min_samples_leaf=1, min_samples_split=2, n_estimators=400;, score=0.808 total time=  15.9s\n",
      "[CV 1/3; 76/100] START bootstrap=False, max_depth=50, max_features=auto, min_samples_leaf=4, min_samples_split=10, n_estimators=600\n",
      "[CV 1/3; 76/100] END bootstrap=False, max_depth=50, max_features=auto, min_samples_leaf=4, min_samples_split=10, n_estimators=600;, score=0.767 total time=  45.1s\n",
      "[CV 3/3; 77/100] START bootstrap=True, max_depth=100, max_features=auto, min_samples_leaf=1, min_samples_split=5, n_estimators=600\n",
      "[CV 3/3; 77/100] END bootstrap=True, max_depth=100, max_features=auto, min_samples_leaf=1, min_samples_split=5, n_estimators=600;, score=0.789 total time=  55.1s\n",
      "[CV 2/3; 79/100] START bootstrap=False, max_depth=60, max_features=auto, min_samples_leaf=4, min_samples_split=5, n_estimators=400\n",
      "[CV 2/3; 79/100] END bootstrap=False, max_depth=60, max_features=auto, min_samples_leaf=4, min_samples_split=5, n_estimators=400;, score=0.760 total time=  29.5s\n",
      "[CV 3/3; 79/100] START bootstrap=False, max_depth=60, max_features=auto, min_samples_leaf=4, min_samples_split=5, n_estimators=400\n",
      "[CV 3/3; 79/100] END bootstrap=False, max_depth=60, max_features=auto, min_samples_leaf=4, min_samples_split=5, n_estimators=400;, score=0.753 total time=  24.7s\n",
      "[CV 1/3; 80/100] START bootstrap=True, max_depth=60, max_features=sqrt, min_samples_leaf=1, min_samples_split=5, n_estimators=400\n",
      "[CV 1/3; 80/100] END bootstrap=True, max_depth=60, max_features=sqrt, min_samples_leaf=1, min_samples_split=5, n_estimators=400;, score=0.804 total time=  26.3s\n",
      "[CV 3/3; 80/100] START bootstrap=True, max_depth=60, max_features=sqrt, min_samples_leaf=1, min_samples_split=5, n_estimators=400\n",
      "[CV 1/3; 5/100] START bootstrap=False, max_depth=None, max_features=sqrt, min_samples_leaf=1, min_samples_split=2, n_estimators=400\n",
      "[CV 1/3; 5/100] END bootstrap=False, max_depth=None, max_features=sqrt, min_samples_leaf=1, min_samples_split=2, n_estimators=400;, score=0.815 total time= 4.2min\n",
      "[CV 1/3; 10/100] START bootstrap=False, max_depth=10, max_features=auto, min_samples_leaf=4, min_samples_split=5, n_estimators=600\n",
      "[CV 1/3; 10/100] END bootstrap=False, max_depth=10, max_features=auto, min_samples_leaf=4, min_samples_split=5, n_estimators=600;, score=0.702 total time= 3.2min\n",
      "[CV 1/3; 12/100] START bootstrap=False, max_depth=100, max_features=auto, min_samples_leaf=1, min_samples_split=10, n_estimators=1800\n",
      "[CV 1/3; 12/100] END bootstrap=False, max_depth=100, max_features=auto, min_samples_leaf=1, min_samples_split=10, n_estimators=1800;, score=0.785 total time=19.2min\n",
      "[CV 1/3; 20/100] START bootstrap=True, max_depth=None, max_features=sqrt, min_samples_leaf=2, min_samples_split=5, n_estimators=600\n",
      "[CV 1/3; 20/100] END bootstrap=True, max_depth=None, max_features=sqrt, min_samples_leaf=2, min_samples_split=5, n_estimators=600;, score=0.785 total time= 4.0min\n",
      "[CV 3/3; 22/100] START bootstrap=False, max_depth=110, max_features=auto, min_samples_leaf=2, min_samples_split=10, n_estimators=800\n",
      "[CV 3/3; 22/100] END bootstrap=False, max_depth=110, max_features=auto, min_samples_leaf=2, min_samples_split=10, n_estimators=800;, score=0.770 total time= 3.0min\n",
      "[CV 3/3; 24/100] START bootstrap=False, max_depth=90, max_features=auto, min_samples_leaf=2, min_samples_split=5, n_estimators=200\n",
      "[CV 3/3; 24/100] END bootstrap=False, max_depth=90, max_features=auto, min_samples_leaf=2, min_samples_split=5, n_estimators=200;, score=0.788 total time=  27.0s\n",
      "[CV 2/3; 25/100] START bootstrap=False, max_depth=50, max_features=sqrt, min_samples_leaf=2, min_samples_split=2, n_estimators=800\n",
      "[CV 2/3; 25/100] END bootstrap=False, max_depth=50, max_features=sqrt, min_samples_leaf=2, min_samples_split=2, n_estimators=800;, score=0.792 total time= 3.1min\n",
      "[CV 1/3; 27/100] START bootstrap=False, max_depth=40, max_features=auto, min_samples_leaf=1, min_samples_split=5, n_estimators=1000\n",
      "[CV 1/3; 27/100] END bootstrap=False, max_depth=40, max_features=auto, min_samples_leaf=1, min_samples_split=5, n_estimators=1000;, score=0.807 total time= 1.6min\n",
      "[CV 1/3; 28/100] START bootstrap=False, max_depth=60, max_features=sqrt, min_samples_leaf=2, min_samples_split=10, n_estimators=800\n",
      "[CV 1/3; 28/100] END bootstrap=False, max_depth=60, max_features=sqrt, min_samples_leaf=2, min_samples_split=10, n_estimators=800;, score=0.780 total time=  51.2s\n",
      "[CV 3/3; 28/100] START bootstrap=False, max_depth=60, max_features=sqrt, min_samples_leaf=2, min_samples_split=10, n_estimators=800\n",
      "[CV 3/3; 28/100] END bootstrap=False, max_depth=60, max_features=sqrt, min_samples_leaf=2, min_samples_split=10, n_estimators=800;, score=0.769 total time=  50.4s\n",
      "[CV 3/3; 29/100] START bootstrap=False, max_depth=40, max_features=sqrt, min_samples_leaf=2, min_samples_split=10, n_estimators=1600\n",
      "[CV 3/3; 29/100] END bootstrap=False, max_depth=40, max_features=sqrt, min_samples_leaf=2, min_samples_split=10, n_estimators=1600;, score=0.770 total time= 2.7min\n",
      "[CV 2/3; 31/100] START bootstrap=False, max_depth=30, max_features=sqrt, min_samples_leaf=2, min_samples_split=10, n_estimators=1600\n",
      "[CV 2/3; 31/100] END bootstrap=False, max_depth=30, max_features=sqrt, min_samples_leaf=2, min_samples_split=10, n_estimators=1600;, score=0.773 total time= 3.9min\n",
      "[CV 2/3; 33/100] START bootstrap=False, max_depth=110, max_features=auto, min_samples_leaf=1, min_samples_split=10, n_estimators=1400\n",
      "[CV 2/3; 33/100] END bootstrap=False, max_depth=110, max_features=auto, min_samples_leaf=1, min_samples_split=10, n_estimators=1400;, score=0.782 total time= 7.3min\n",
      "[CV 3/3; 36/100] START bootstrap=True, max_depth=90, max_features=auto, min_samples_leaf=2, min_samples_split=5, n_estimators=2000\n",
      "[CV 3/3; 36/100] END bootstrap=True, max_depth=90, max_features=auto, min_samples_leaf=2, min_samples_split=5, n_estimators=2000;, score=0.765 total time=17.4min\n",
      "[CV 1/3; 48/100] START bootstrap=False, max_depth=10, max_features=sqrt, min_samples_leaf=1, min_samples_split=10, n_estimators=1600\n",
      "[CV 1/3; 48/100] END bootstrap=False, max_depth=10, max_features=sqrt, min_samples_leaf=1, min_samples_split=10, n_estimators=1600;, score=0.712 total time= 2.9min\n",
      "[CV 1/3; 49/100] START bootstrap=True, max_depth=40, max_features=sqrt, min_samples_leaf=2, min_samples_split=5, n_estimators=1800\n",
      "[CV 1/3; 49/100] END bootstrap=True, max_depth=40, max_features=sqrt, min_samples_leaf=2, min_samples_split=5, n_estimators=1800;, score=0.786 total time= 3.2min\n",
      "[CV 3/3; 51/100] START bootstrap=True, max_depth=None, max_features=sqrt, min_samples_leaf=2, min_samples_split=10, n_estimators=1200\n",
      "[CV 3/3; 51/100] END bootstrap=True, max_depth=None, max_features=sqrt, min_samples_leaf=2, min_samples_split=10, n_estimators=1200;, score=0.752 total time= 1.3min\n",
      "[CV 2/3; 52/100] START bootstrap=True, max_depth=110, max_features=auto, min_samples_leaf=1, min_samples_split=5, n_estimators=1800\n",
      "[CV 2/3; 52/100] END bootstrap=True, max_depth=110, max_features=auto, min_samples_leaf=1, min_samples_split=5, n_estimators=1800;, score=0.790 total time= 1.1min\n",
      "[CV 1/3; 53/100] START bootstrap=False, max_depth=100, max_features=sqrt, min_samples_leaf=2, min_samples_split=2, n_estimators=2000\n",
      "[CV 1/3; 53/100] END bootstrap=False, max_depth=100, max_features=sqrt, min_samples_leaf=2, min_samples_split=2, n_estimators=2000;, score=0.804 total time= 3.3min\n",
      "[CV 1/3; 54/100] START bootstrap=True, max_depth=90, max_features=auto, min_samples_leaf=4, min_samples_split=10, n_estimators=800\n",
      "[CV 1/3; 54/100] END bootstrap=True, max_depth=90, max_features=auto, min_samples_leaf=4, min_samples_split=10, n_estimators=800;, score=0.749 total time= 1.3min\n",
      "[CV 2/3; 55/100] START bootstrap=False, max_depth=110, max_features=auto, min_samples_leaf=4, min_samples_split=5, n_estimators=200\n",
      "[CV 2/3; 55/100] END bootstrap=False, max_depth=110, max_features=auto, min_samples_leaf=4, min_samples_split=5, n_estimators=200;, score=0.761 total time=  10.5s\n",
      "[CV 3/3; 55/100] START bootstrap=False, max_depth=110, max_features=auto, min_samples_leaf=4, min_samples_split=5, n_estimators=200\n",
      "[CV 3/3; 55/100] END bootstrap=False, max_depth=110, max_features=auto, min_samples_leaf=4, min_samples_split=5, n_estimators=200;, score=0.753 total time=  16.9s\n",
      "[CV 2/3; 56/100] START bootstrap=True, max_depth=90, max_features=sqrt, min_samples_leaf=1, min_samples_split=2, n_estimators=800\n",
      "[CV 2/3; 56/100] END bootstrap=True, max_depth=90, max_features=sqrt, min_samples_leaf=1, min_samples_split=2, n_estimators=800;, score=0.807 total time= 5.0min\n",
      "[CV 2/3; 61/100] START bootstrap=True, max_depth=80, max_features=auto, min_samples_leaf=4, min_samples_split=5, n_estimators=1000\n",
      "[CV 2/3; 61/100] END bootstrap=True, max_depth=80, max_features=auto, min_samples_leaf=4, min_samples_split=5, n_estimators=1000;, score=0.736 total time= 3.9min\n",
      "[CV 3/3; 66/100] START bootstrap=False, max_depth=50, max_features=auto, min_samples_leaf=1, min_samples_split=5, n_estimators=1800\n",
      "[CV 3/3; 66/100] END bootstrap=False, max_depth=50, max_features=auto, min_samples_leaf=1, min_samples_split=5, n_estimators=1800;, score=0.804 total time=21.7min\n",
      "[CV 3/3; 81/100] START bootstrap=True, max_depth=100, max_features=auto, min_samples_leaf=4, min_samples_split=5, n_estimators=1600\n",
      "[CV 3/3; 81/100] END bootstrap=True, max_depth=100, max_features=auto, min_samples_leaf=4, min_samples_split=5, n_estimators=1600;, score=0.735 total time= 7.4min\n",
      "[CV 2/3; 84/100] START bootstrap=True, max_depth=70, max_features=sqrt, min_samples_leaf=4, min_samples_split=2, n_estimators=600\n",
      "[CV 2/3; 84/100] END bootstrap=True, max_depth=70, max_features=sqrt, min_samples_leaf=4, min_samples_split=2, n_estimators=600;, score=0.739 total time=  46.1s\n",
      "[CV 3/3; 84/100] START bootstrap=True, max_depth=70, max_features=sqrt, min_samples_leaf=4, min_samples_split=2, n_estimators=600\n",
      "[CV 1/3; 1/100] START bootstrap=True, max_depth=40, max_features=sqrt, min_samples_leaf=1, min_samples_split=10, n_estimators=400\n",
      "[CV 1/3; 1/100] END bootstrap=True, max_depth=40, max_features=sqrt, min_samples_leaf=1, min_samples_split=10, n_estimators=400;, score=0.774 total time= 2.8min\n",
      "[CV 2/3; 7/100] START bootstrap=False, max_depth=30, max_features=sqrt, min_samples_leaf=1, min_samples_split=5, n_estimators=2000\n",
      "[CV 2/3; 7/100] END bootstrap=False, max_depth=30, max_features=sqrt, min_samples_leaf=1, min_samples_split=5, n_estimators=2000;, score=0.802 total time=25.5min\n",
      "[CV 2/3; 20/100] START bootstrap=True, max_depth=None, max_features=sqrt, min_samples_leaf=2, min_samples_split=5, n_estimators=600\n",
      "[CV 2/3; 20/100] END bootstrap=True, max_depth=None, max_features=sqrt, min_samples_leaf=2, min_samples_split=5, n_estimators=600;, score=0.771 total time= 3.7min\n",
      "[CV 2/3; 22/100] START bootstrap=False, max_depth=110, max_features=auto, min_samples_leaf=2, min_samples_split=10, n_estimators=800\n",
      "[CV 2/3; 22/100] END bootstrap=False, max_depth=110, max_features=auto, min_samples_leaf=2, min_samples_split=10, n_estimators=800;, score=0.772 total time= 3.8min\n",
      "[CV 1/3; 26/100] START bootstrap=True, max_depth=110, max_features=auto, min_samples_leaf=4, min_samples_split=10, n_estimators=1800\n",
      "[CV 1/3; 26/100] END bootstrap=True, max_depth=110, max_features=auto, min_samples_leaf=4, min_samples_split=10, n_estimators=1800;, score=0.747 total time= 4.5min\n",
      "[CV 2/3; 28/100] START bootstrap=False, max_depth=60, max_features=sqrt, min_samples_leaf=2, min_samples_split=10, n_estimators=800\n",
      "[CV 2/3; 28/100] END bootstrap=False, max_depth=60, max_features=sqrt, min_samples_leaf=2, min_samples_split=10, n_estimators=800;, score=0.772 total time= 1.2min\n",
      "[CV 1/3; 29/100] START bootstrap=False, max_depth=40, max_features=sqrt, min_samples_leaf=2, min_samples_split=10, n_estimators=1600\n",
      "[CV 1/3; 29/100] END bootstrap=False, max_depth=40, max_features=sqrt, min_samples_leaf=2, min_samples_split=10, n_estimators=1600;, score=0.780 total time=15.6min\n",
      "[CV 1/3; 38/100] START bootstrap=True, max_depth=100, max_features=sqrt, min_samples_leaf=4, min_samples_split=5, n_estimators=2000\n",
      "[CV 1/3; 38/100] END bootstrap=True, max_depth=100, max_features=sqrt, min_samples_leaf=4, min_samples_split=5, n_estimators=2000;, score=0.752 total time=17.3min\n",
      "[CV 2/3; 48/100] START bootstrap=False, max_depth=10, max_features=sqrt, min_samples_leaf=1, min_samples_split=10, n_estimators=1600\n",
      "[CV 2/3; 48/100] END bootstrap=False, max_depth=10, max_features=sqrt, min_samples_leaf=1, min_samples_split=10, n_estimators=1600;, score=0.683 total time= 3.8min\n",
      "[CV 1/3; 50/100] START bootstrap=False, max_depth=100, max_features=sqrt, min_samples_leaf=4, min_samples_split=2, n_estimators=1400\n",
      "[CV 1/3; 50/100] END bootstrap=False, max_depth=100, max_features=sqrt, min_samples_leaf=4, min_samples_split=2, n_estimators=1400;, score=0.767 total time=15.0min\n",
      "[CV 2/3; 64/100] START bootstrap=True, max_depth=50, max_features=sqrt, min_samples_leaf=4, min_samples_split=5, n_estimators=800\n",
      "[CV 2/3; 64/100] END bootstrap=True, max_depth=50, max_features=sqrt, min_samples_leaf=4, min_samples_split=5, n_estimators=800;, score=0.737 total time= 4.5min\n",
      "[CV 1/3; 68/100] START bootstrap=True, max_depth=110, max_features=auto, min_samples_leaf=2, min_samples_split=2, n_estimators=200\n",
      "[CV 1/3; 68/100] END bootstrap=True, max_depth=110, max_features=auto, min_samples_leaf=2, min_samples_split=2, n_estimators=200;, score=0.781 total time=   6.8s\n",
      "[CV 2/3; 68/100] START bootstrap=True, max_depth=110, max_features=auto, min_samples_leaf=2, min_samples_split=2, n_estimators=200\n",
      "[CV 2/3; 68/100] END bootstrap=True, max_depth=110, max_features=auto, min_samples_leaf=2, min_samples_split=2, n_estimators=200;, score=0.773 total time=   5.9s\n",
      "[CV 1/3; 69/100] START bootstrap=False, max_depth=None, max_features=sqrt, min_samples_leaf=2, min_samples_split=5, n_estimators=1800\n",
      "[CV 1/3; 69/100] END bootstrap=False, max_depth=None, max_features=sqrt, min_samples_leaf=2, min_samples_split=5, n_estimators=1800;, score=0.800 total time=19.5min\n",
      "[CV 3/3; 82/100] START bootstrap=False, max_depth=50, max_features=auto, min_samples_leaf=1, min_samples_split=10, n_estimators=1600\n",
      "[CV 3/3; 82/100] END bootstrap=False, max_depth=50, max_features=auto, min_samples_leaf=1, min_samples_split=10, n_estimators=1600;, score=0.775 total time=22.5min\n",
      "[CV 3/3; 84/100] END bootstrap=True, max_depth=70, max_features=sqrt, min_samples_leaf=4, min_samples_split=2, n_estimators=600;, score=0.733 total time=  26.1s\n",
      "[CV 1/3; 85/100] START bootstrap=False, max_depth=70, max_features=sqrt, min_samples_leaf=1, min_samples_split=10, n_estimators=200\n",
      "[CV 1/3; 85/100] END bootstrap=False, max_depth=70, max_features=sqrt, min_samples_leaf=1, min_samples_split=10, n_estimators=200;, score=0.788 total time=   8.2s\n",
      "[CV 2/3; 85/100] START bootstrap=False, max_depth=70, max_features=sqrt, min_samples_leaf=1, min_samples_split=10, n_estimators=200\n",
      "[CV 2/3; 85/100] END bootstrap=False, max_depth=70, max_features=sqrt, min_samples_leaf=1, min_samples_split=10, n_estimators=200;, score=0.784 total time=   6.7s\n",
      "[CV 3/3; 85/100] START bootstrap=False, max_depth=70, max_features=sqrt, min_samples_leaf=1, min_samples_split=10, n_estimators=200\n",
      "[CV 3/3; 85/100] END bootstrap=False, max_depth=70, max_features=sqrt, min_samples_leaf=1, min_samples_split=10, n_estimators=200;, score=0.777 total time=   7.6s\n",
      "[CV 1/3; 86/100] START bootstrap=True, max_depth=10, max_features=sqrt, min_samples_leaf=2, min_samples_split=2, n_estimators=1200\n",
      "[CV 1/3; 86/100] END bootstrap=True, max_depth=10, max_features=sqrt, min_samples_leaf=2, min_samples_split=2, n_estimators=1200;, score=0.720 total time=  40.5s\n",
      "[CV 3/3; 86/100] START bootstrap=True, max_depth=10, max_features=sqrt, min_samples_leaf=2, min_samples_split=2, n_estimators=1200\n",
      "[CV 3/3; 86/100] END bootstrap=True, max_depth=10, max_features=sqrt, min_samples_leaf=2, min_samples_split=2, n_estimators=1200;, score=0.684 total time=  44.5s\n",
      "[CV 2/3; 88/100] START bootstrap=True, max_depth=10, max_features=auto, min_samples_leaf=2, min_samples_split=5, n_estimators=600\n",
      "[CV 2/3; 88/100] END bootstrap=True, max_depth=10, max_features=auto, min_samples_leaf=2, min_samples_split=5, n_estimators=600;, score=0.696 total time=  37.0s\n",
      "[CV 2/3; 89/100] START bootstrap=False, max_depth=50, max_features=auto, min_samples_leaf=2, min_samples_split=5, n_estimators=200\n",
      "[CV 2/3; 89/100] END bootstrap=False, max_depth=50, max_features=auto, min_samples_leaf=2, min_samples_split=5, n_estimators=200;, score=0.790 total time=  18.2s\n",
      "[CV 2/3; 90/100] START bootstrap=False, max_depth=None, max_features=auto, min_samples_leaf=1, min_samples_split=2, n_estimators=200\n",
      "[CV 2/3; 90/100] END bootstrap=False, max_depth=None, max_features=auto, min_samples_leaf=1, min_samples_split=2, n_estimators=200;, score=0.806 total time=  22.5s\n",
      "[CV 1/3; 91/100] START bootstrap=False, max_depth=None, max_features=auto, min_samples_leaf=4, min_samples_split=2, n_estimators=1200\n",
      "[CV 1/3; 91/100] END bootstrap=False, max_depth=None, max_features=auto, min_samples_leaf=4, min_samples_split=2, n_estimators=1200;, score=0.766 total time= 5.0min\n",
      "[CV 2/3; 93/100] START bootstrap=True, max_depth=110, max_features=auto, min_samples_leaf=1, min_samples_split=10, n_estimators=1000\n",
      "[CV 2/3; 93/100] END bootstrap=True, max_depth=110, max_features=auto, min_samples_leaf=1, min_samples_split=10, n_estimators=1000;, score=0.764 total time= 2.0min\n",
      "[CV 1/3; 98/100] START bootstrap=True, max_depth=None, max_features=auto, min_samples_leaf=4, min_samples_split=10, n_estimators=600\n",
      "[CV 1/3; 98/100] END bootstrap=True, max_depth=None, max_features=auto, min_samples_leaf=4, min_samples_split=10, n_estimators=600;, score=0.744 total time=  58.2s\n",
      "[CV 3/3; 98/100] START bootstrap=True, max_depth=None, max_features=auto, min_samples_leaf=4, min_samples_split=10, n_estimators=600\n",
      "[CV 3/3; 98/100] END bootstrap=True, max_depth=None, max_features=auto, min_samples_leaf=4, min_samples_split=10, n_estimators=600;, score=0.733 total time= 1.1min\n",
      "[CV 2/3; 99/100] START bootstrap=True, max_depth=70, max_features=sqrt, min_samples_leaf=4, min_samples_split=5, n_estimators=1400\n",
      "[CV 2/3; 99/100] END bootstrap=True, max_depth=70, max_features=sqrt, min_samples_leaf=4, min_samples_split=5, n_estimators=1400;, score=0.737 total time= 3.4min\n",
      "[CV 3/3; 3/100] START bootstrap=False, max_depth=20, max_features=sqrt, min_samples_leaf=2, min_samples_split=5, n_estimators=200\n",
      "[CV 3/3; 3/100] END bootstrap=False, max_depth=20, max_features=sqrt, min_samples_leaf=2, min_samples_split=5, n_estimators=200;, score=0.780 total time= 1.7min\n",
      "[CV 3/3; 6/100] START bootstrap=False, max_depth=20, max_features=sqrt, min_samples_leaf=4, min_samples_split=5, n_estimators=400\n",
      "[CV 3/3; 6/100] END bootstrap=False, max_depth=20, max_features=sqrt, min_samples_leaf=4, min_samples_split=5, n_estimators=400;, score=0.753 total time= 3.1min\n",
      "[CV 1/3; 9/100] START bootstrap=True, max_depth=80, max_features=sqrt, min_samples_leaf=2, min_samples_split=2, n_estimators=200\n",
      "[CV 1/3; 9/100] END bootstrap=True, max_depth=80, max_features=sqrt, min_samples_leaf=2, min_samples_split=2, n_estimators=200;, score=0.781 total time= 1.2min\n",
      "[CV 2/3; 10/100] START bootstrap=False, max_depth=10, max_features=auto, min_samples_leaf=4, min_samples_split=5, n_estimators=600\n",
      "[CV 2/3; 10/100] END bootstrap=False, max_depth=10, max_features=auto, min_samples_leaf=4, min_samples_split=5, n_estimators=600;, score=0.678 total time= 2.8min\n",
      "[CV 3/3; 12/100] START bootstrap=False, max_depth=100, max_features=auto, min_samples_leaf=1, min_samples_split=10, n_estimators=1800\n",
      "[CV 3/3; 12/100] END bootstrap=False, max_depth=100, max_features=auto, min_samples_leaf=1, min_samples_split=10, n_estimators=1800;, score=0.780 total time=18.9min\n",
      "[CV 3/3; 19/100] START bootstrap=False, max_depth=10, max_features=auto, min_samples_leaf=4, min_samples_split=5, n_estimators=2000\n",
      "[CV 3/3; 19/100] END bootstrap=False, max_depth=10, max_features=auto, min_samples_leaf=4, min_samples_split=5, n_estimators=2000;, score=0.667 total time= 6.0min\n",
      "[CV 3/3; 23/100] START bootstrap=False, max_depth=30, max_features=auto, min_samples_leaf=2, min_samples_split=5, n_estimators=1200\n",
      "[CV 3/3; 23/100] END bootstrap=False, max_depth=30, max_features=auto, min_samples_leaf=2, min_samples_split=5, n_estimators=1200;, score=0.789 total time=19.5min\n",
      "[CV 3/3; 35/100] START bootstrap=True, max_depth=70, max_features=auto, min_samples_leaf=2, min_samples_split=2, n_estimators=1000\n",
      "[CV 3/3; 35/100] END bootstrap=True, max_depth=70, max_features=auto, min_samples_leaf=2, min_samples_split=2, n_estimators=1000;, score=0.766 total time= 8.8min\n",
      "[CV 2/3; 39/100] START bootstrap=True, max_depth=40, max_features=sqrt, min_samples_leaf=4, min_samples_split=10, n_estimators=1400\n",
      "[CV 2/3; 39/100] END bootstrap=True, max_depth=40, max_features=sqrt, min_samples_leaf=4, min_samples_split=10, n_estimators=1400;, score=0.733 total time= 1.2min\n",
      "[CV 1/3; 40/100] START bootstrap=True, max_depth=100, max_features=auto, min_samples_leaf=1, min_samples_split=2, n_estimators=400\n",
      "[CV 1/3; 40/100] END bootstrap=True, max_depth=100, max_features=auto, min_samples_leaf=1, min_samples_split=2, n_estimators=400;, score=0.818 total time=  14.0s\n",
      "[CV 3/3; 40/100] START bootstrap=True, max_depth=100, max_features=auto, min_samples_leaf=1, min_samples_split=2, n_estimators=400\n",
      "[CV 3/3; 40/100] END bootstrap=True, max_depth=100, max_features=auto, min_samples_leaf=1, min_samples_split=2, n_estimators=400;, score=0.813 total time=  16.7s\n",
      "[CV 1/3; 41/100] START bootstrap=True, max_depth=None, max_features=sqrt, min_samples_leaf=2, min_samples_split=5, n_estimators=1200\n",
      "[CV 1/3; 41/100] END bootstrap=True, max_depth=None, max_features=sqrt, min_samples_leaf=2, min_samples_split=5, n_estimators=1200;, score=0.787 total time=  49.2s\n",
      "[CV 3/3; 41/100] START bootstrap=True, max_depth=None, max_features=sqrt, min_samples_leaf=2, min_samples_split=5, n_estimators=1200\n",
      "[CV 3/3; 41/100] END bootstrap=True, max_depth=None, max_features=sqrt, min_samples_leaf=2, min_samples_split=5, n_estimators=1200;, score=0.764 total time=  32.1s\n",
      "[CV 2/3; 42/100] START bootstrap=False, max_depth=100, max_features=auto, min_samples_leaf=1, min_samples_split=5, n_estimators=2000\n",
      "[CV 2/3; 42/100] END bootstrap=False, max_depth=100, max_features=auto, min_samples_leaf=1, min_samples_split=5, n_estimators=2000;, score=0.804 total time=22.9min\n",
      "[CV 2/3; 57/100] START bootstrap=False, max_depth=None, max_features=auto, min_samples_leaf=4, min_samples_split=2, n_estimators=200\n",
      "[CV 2/3; 57/100] END bootstrap=False, max_depth=None, max_features=auto, min_samples_leaf=4, min_samples_split=2, n_estimators=200;, score=0.760 total time=  50.3s\n",
      "[CV 1/3; 58/100] START bootstrap=True, max_depth=10, max_features=auto, min_samples_leaf=4, min_samples_split=5, n_estimators=600\n",
      "[CV 1/3; 58/100] END bootstrap=True, max_depth=10, max_features=auto, min_samples_leaf=4, min_samples_split=5, n_estimators=600;, score=0.707 total time=  34.2s\n",
      "[CV 1/3; 59/100] START bootstrap=False, max_depth=50, max_features=sqrt, min_samples_leaf=4, min_samples_split=2, n_estimators=600\n",
      "[CV 1/3; 59/100] END bootstrap=False, max_depth=50, max_features=sqrt, min_samples_leaf=4, min_samples_split=2, n_estimators=600;, score=0.770 total time= 2.2min\n",
      "[CV 3/3; 60/100] START bootstrap=False, max_depth=10, max_features=auto, min_samples_leaf=1, min_samples_split=2, n_estimators=1000\n",
      "[CV 3/3; 60/100] END bootstrap=False, max_depth=10, max_features=auto, min_samples_leaf=1, min_samples_split=2, n_estimators=1000;, score=0.683 total time= 1.4min\n",
      "[CV 1/3; 63/100] START bootstrap=False, max_depth=50, max_features=sqrt, min_samples_leaf=2, min_samples_split=10, n_estimators=400\n",
      "[CV 1/3; 63/100] END bootstrap=False, max_depth=50, max_features=sqrt, min_samples_leaf=2, min_samples_split=10, n_estimators=400;, score=0.778 total time=  40.1s\n",
      "[CV 1/3; 64/100] START bootstrap=True, max_depth=50, max_features=sqrt, min_samples_leaf=4, min_samples_split=5, n_estimators=800\n",
      "[CV 1/3; 64/100] END bootstrap=True, max_depth=50, max_features=sqrt, min_samples_leaf=4, min_samples_split=5, n_estimators=800;, score=0.753 total time= 1.2min\n",
      "[CV 2/3; 65/100] START bootstrap=False, max_depth=100, max_features=sqrt, min_samples_leaf=1, min_samples_split=2, n_estimators=1600\n",
      "[CV 2/3; 65/100] END bootstrap=False, max_depth=100, max_features=sqrt, min_samples_leaf=1, min_samples_split=2, n_estimators=1600;, score=0.807 total time= 4.6min\n",
      "[CV 3/3; 69/100] START bootstrap=False, max_depth=None, max_features=sqrt, min_samples_leaf=2, min_samples_split=5, n_estimators=1800\n",
      "[CV 3/3; 69/100] END bootstrap=False, max_depth=None, max_features=sqrt, min_samples_leaf=2, min_samples_split=5, n_estimators=1800;, score=0.788 total time=15.7min\n",
      "[CV 3/3; 78/100] START bootstrap=False, max_depth=90, max_features=auto, min_samples_leaf=1, min_samples_split=2, n_estimators=800\n",
      "[CV 3/3; 78/100] END bootstrap=False, max_depth=90, max_features=auto, min_samples_leaf=1, min_samples_split=2, n_estimators=800;, score=0.812 total time=19.5min\n",
      "[CV 3/3; 93/100] START bootstrap=True, max_depth=110, max_features=auto, min_samples_leaf=1, min_samples_split=10, n_estimators=1000\n",
      "[CV 3/3; 93/100] END bootstrap=True, max_depth=110, max_features=auto, min_samples_leaf=1, min_samples_split=10, n_estimators=1000;, score=0.763 total time= 7.5min\n",
      "[CV 3/3; 80/100] END bootstrap=True, max_depth=60, max_features=sqrt, min_samples_leaf=1, min_samples_split=5, n_estimators=400;, score=0.784 total time=  30.6s\n",
      "[CV 1/3; 82/100] START bootstrap=False, max_depth=50, max_features=auto, min_samples_leaf=1, min_samples_split=10, n_estimators=1600\n",
      "[CV 1/3; 82/100] END bootstrap=False, max_depth=50, max_features=auto, min_samples_leaf=1, min_samples_split=10, n_estimators=1600;, score=0.788 total time=16.5min\n",
      "[CV 1/3; 93/100] START bootstrap=True, max_depth=110, max_features=auto, min_samples_leaf=1, min_samples_split=10, n_estimators=1000\n",
      "[CV 1/3; 93/100] END bootstrap=True, max_depth=110, max_features=auto, min_samples_leaf=1, min_samples_split=10, n_estimators=1000;, score=0.776 total time= 7.8min\n",
      "[CV 2/3; 3/100] START bootstrap=False, max_depth=20, max_features=sqrt, min_samples_leaf=2, min_samples_split=5, n_estimators=200\n",
      "[CV 2/3; 3/100] END bootstrap=False, max_depth=20, max_features=sqrt, min_samples_leaf=2, min_samples_split=5, n_estimators=200;, score=0.783 total time= 1.6min\n",
      "[CV 2/3; 6/100] START bootstrap=False, max_depth=20, max_features=sqrt, min_samples_leaf=4, min_samples_split=5, n_estimators=400\n",
      "[CV 2/3; 6/100] END bootstrap=False, max_depth=20, max_features=sqrt, min_samples_leaf=4, min_samples_split=5, n_estimators=400;, score=0.755 total time= 3.1min\n",
      "[CV 3/3; 8/100] START bootstrap=False, max_depth=110, max_features=auto, min_samples_leaf=2, min_samples_split=5, n_estimators=1200\n",
      "[CV 3/3; 8/100] END bootstrap=False, max_depth=110, max_features=auto, min_samples_leaf=2, min_samples_split=5, n_estimators=1200;, score=0.788 total time=16.4min\n",
      "[CV 3/3; 16/100] START bootstrap=False, max_depth=10, max_features=sqrt, min_samples_leaf=1, min_samples_split=2, n_estimators=1000\n",
      "[CV 3/3; 16/100] END bootstrap=False, max_depth=10, max_features=sqrt, min_samples_leaf=1, min_samples_split=2, n_estimators=1000;, score=0.682 total time= 3.3min\n",
      "[CV 1/3; 19/100] START bootstrap=False, max_depth=10, max_features=auto, min_samples_leaf=4, min_samples_split=5, n_estimators=2000\n",
      "[CV 1/3; 19/100] END bootstrap=False, max_depth=10, max_features=auto, min_samples_leaf=4, min_samples_split=5, n_estimators=2000;, score=0.703 total time= 7.0min\n",
      "[CV 2/3; 21/100] START bootstrap=True, max_depth=20, max_features=sqrt, min_samples_leaf=2, min_samples_split=2, n_estimators=600\n",
      "[CV 2/3; 21/100] END bootstrap=True, max_depth=20, max_features=sqrt, min_samples_leaf=2, min_samples_split=2, n_estimators=600;, score=0.769 total time= 1.5min\n",
      "[CV 1/3; 23/100] START bootstrap=False, max_depth=30, max_features=auto, min_samples_leaf=2, min_samples_split=5, n_estimators=1200\n",
      "[CV 1/3; 23/100] END bootstrap=False, max_depth=30, max_features=auto, min_samples_leaf=2, min_samples_split=5, n_estimators=1200;, score=0.797 total time=17.7min\n",
      "[CV 3/3; 34/100] START bootstrap=False, max_depth=80, max_features=sqrt, min_samples_leaf=2, min_samples_split=10, n_estimators=1200\n",
      "[CV 3/3; 34/100] END bootstrap=False, max_depth=80, max_features=sqrt, min_samples_leaf=2, min_samples_split=10, n_estimators=1200;, score=0.771 total time=17.1min\n",
      "[CV 2/3; 45/100] START bootstrap=False, max_depth=30, max_features=auto, min_samples_leaf=4, min_samples_split=10, n_estimators=400\n",
      "[CV 2/3; 45/100] END bootstrap=False, max_depth=30, max_features=auto, min_samples_leaf=4, min_samples_split=10, n_estimators=400;, score=0.759 total time= 2.8min\n",
      "[CV 1/3; 47/100] START bootstrap=True, max_depth=None, max_features=sqrt, min_samples_leaf=1, min_samples_split=10, n_estimators=1200\n",
      "[CV 1/3; 47/100] END bootstrap=True, max_depth=None, max_features=sqrt, min_samples_leaf=1, min_samples_split=10, n_estimators=1200;, score=0.777 total time=10.1min\n",
      "[CV 3/3; 52/100] START bootstrap=True, max_depth=110, max_features=auto, min_samples_leaf=1, min_samples_split=5, n_estimators=1800\n",
      "[CV 3/3; 52/100] END bootstrap=True, max_depth=110, max_features=auto, min_samples_leaf=1, min_samples_split=5, n_estimators=1800;, score=0.785 total time= 7.9min\n",
      "[CV 2/3; 58/100] START bootstrap=True, max_depth=10, max_features=auto, min_samples_leaf=4, min_samples_split=5, n_estimators=600\n",
      "[CV 2/3; 58/100] END bootstrap=True, max_depth=10, max_features=auto, min_samples_leaf=4, min_samples_split=5, n_estimators=600;, score=0.686 total time= 1.7min\n",
      "[CV 2/3; 60/100] START bootstrap=False, max_depth=10, max_features=auto, min_samples_leaf=1, min_samples_split=2, n_estimators=1000\n",
      "[CV 2/3; 60/100] END bootstrap=False, max_depth=10, max_features=auto, min_samples_leaf=1, min_samples_split=2, n_estimators=1000;, score=0.695 total time= 4.2min\n",
      "[CV 3/3; 65/100] START bootstrap=False, max_depth=100, max_features=sqrt, min_samples_leaf=1, min_samples_split=2, n_estimators=1600\n",
      "[CV 3/3; 65/100] END bootstrap=False, max_depth=100, max_features=sqrt, min_samples_leaf=1, min_samples_split=2, n_estimators=1600;, score=0.812 total time=21.0min\n",
      "[CV 1/3; 79/100] START bootstrap=False, max_depth=60, max_features=auto, min_samples_leaf=4, min_samples_split=5, n_estimators=400\n",
      "[CV 1/3; 79/100] END bootstrap=False, max_depth=60, max_features=auto, min_samples_leaf=4, min_samples_split=5, n_estimators=400;, score=0.767 total time= 2.3min\n",
      "[CV 2/3; 82/100] START bootstrap=False, max_depth=50, max_features=auto, min_samples_leaf=1, min_samples_split=10, n_estimators=1600\n",
      "[CV 2/3; 82/100] END bootstrap=False, max_depth=50, max_features=auto, min_samples_leaf=1, min_samples_split=10, n_estimators=1600;, score=0.783 total time=16.6min\n",
      "[CV 1/3; 94/100] START bootstrap=True, max_depth=20, max_features=auto, min_samples_leaf=2, min_samples_split=5, n_estimators=200\n",
      "[CV 1/3; 94/100] END bootstrap=True, max_depth=20, max_features=auto, min_samples_leaf=2, min_samples_split=5, n_estimators=200;, score=0.777 total time= 1.3min\n",
      "[CV 3/3; 96/100] START bootstrap=True, max_depth=80, max_features=sqrt, min_samples_leaf=2, min_samples_split=5, n_estimators=200\n",
      "[CV 3/3; 96/100] END bootstrap=True, max_depth=80, max_features=sqrt, min_samples_leaf=2, min_samples_split=5, n_estimators=200;, score=0.765 total time=  16.2s\n",
      "[CV 1/3; 97/100] START bootstrap=True, max_depth=90, max_features=auto, min_samples_leaf=1, min_samples_split=10, n_estimators=1000\n",
      "[CV 1/3; 97/100] END bootstrap=True, max_depth=90, max_features=auto, min_samples_leaf=1, min_samples_split=10, n_estimators=1000;, score=0.771 total time= 6.4min\n",
      "[CV 3/3; 5/100] START bootstrap=False, max_depth=None, max_features=sqrt, min_samples_leaf=1, min_samples_split=2, n_estimators=400\n",
      "[CV 3/3; 5/100] END bootstrap=False, max_depth=None, max_features=sqrt, min_samples_leaf=1, min_samples_split=2, n_estimators=400;, score=0.813 total time= 4.1min\n",
      "[CV 3/3; 9/100] START bootstrap=True, max_depth=80, max_features=sqrt, min_samples_leaf=2, min_samples_split=2, n_estimators=200\n",
      "[CV 3/3; 9/100] END bootstrap=True, max_depth=80, max_features=sqrt, min_samples_leaf=2, min_samples_split=2, n_estimators=200;, score=0.772 total time= 1.3min\n",
      "[CV 1/3; 11/100] START bootstrap=False, max_depth=70, max_features=sqrt, min_samples_leaf=4, min_samples_split=2, n_estimators=600\n",
      "[CV 1/3; 11/100] END bootstrap=False, max_depth=70, max_features=sqrt, min_samples_leaf=4, min_samples_split=2, n_estimators=600;, score=0.765 total time= 4.0min\n",
      "[CV 2/3; 13/100] START bootstrap=True, max_depth=50, max_features=auto, min_samples_leaf=4, min_samples_split=10, n_estimators=2000\n",
      "[CV 2/3; 13/100] END bootstrap=True, max_depth=50, max_features=auto, min_samples_leaf=4, min_samples_split=10, n_estimators=2000;, score=0.734 total time=10.3min\n",
      "[CV 2/3; 16/100] START bootstrap=False, max_depth=10, max_features=sqrt, min_samples_leaf=1, min_samples_split=2, n_estimators=1000\n",
      "[CV 2/3; 16/100] END bootstrap=False, max_depth=10, max_features=sqrt, min_samples_leaf=1, min_samples_split=2, n_estimators=1000;, score=0.696 total time= 2.7min\n",
      "[CV 1/3; 18/100] START bootstrap=True, max_depth=30, max_features=sqrt, min_samples_leaf=4, min_samples_split=5, n_estimators=1800\n",
      "[CV 1/3; 18/100] END bootstrap=True, max_depth=30, max_features=sqrt, min_samples_leaf=4, min_samples_split=5, n_estimators=1800;, score=0.748 total time=16.2min\n",
      "[CV 3/3; 27/100] START bootstrap=False, max_depth=40, max_features=auto, min_samples_leaf=1, min_samples_split=5, n_estimators=1000\n",
      "[CV 3/3; 27/100] END bootstrap=False, max_depth=40, max_features=auto, min_samples_leaf=1, min_samples_split=5, n_estimators=1000;, score=0.805 total time=20.0min\n",
      "[CV 1/3; 39/100] START bootstrap=True, max_depth=40, max_features=sqrt, min_samples_leaf=4, min_samples_split=10, n_estimators=1400\n",
      "[CV 1/3; 39/100] END bootstrap=True, max_depth=40, max_features=sqrt, min_samples_leaf=4, min_samples_split=10, n_estimators=1400;, score=0.748 total time= 6.0min\n",
      "[CV 1/3; 43/100] START bootstrap=True, max_depth=20, max_features=auto, min_samples_leaf=2, min_samples_split=2, n_estimators=1000\n",
      "[CV 1/3; 43/100] END bootstrap=True, max_depth=20, max_features=auto, min_samples_leaf=2, min_samples_split=2, n_estimators=1000;, score=0.782 total time= 1.4min\n",
      "[CV 2/3; 44/100] START bootstrap=False, max_depth=30, max_features=sqrt, min_samples_leaf=1, min_samples_split=5, n_estimators=800\n",
      "[CV 2/3; 44/100] END bootstrap=False, max_depth=30, max_features=sqrt, min_samples_leaf=1, min_samples_split=5, n_estimators=800;, score=0.802 total time= 1.9min\n",
      "[CV 2/3; 46/100] START bootstrap=False, max_depth=100, max_features=auto, min_samples_leaf=1, min_samples_split=10, n_estimators=1200\n",
      "[CV 2/3; 46/100] END bootstrap=False, max_depth=100, max_features=auto, min_samples_leaf=1, min_samples_split=10, n_estimators=1200;, score=0.784 total time=11.0min\n",
      "[CV 1/3; 52/100] START bootstrap=True, max_depth=110, max_features=auto, min_samples_leaf=1, min_samples_split=5, n_estimators=1800\n",
      "[CV 1/3; 52/100] END bootstrap=True, max_depth=110, max_features=auto, min_samples_leaf=1, min_samples_split=5, n_estimators=1800;, score=0.805 total time=26.6min\n",
      "[CV 3/3; 70/100] START bootstrap=True, max_depth=None, max_features=sqrt, min_samples_leaf=2, min_samples_split=5, n_estimators=1600\n",
      "[CV 3/3; 70/100] END bootstrap=True, max_depth=None, max_features=sqrt, min_samples_leaf=2, min_samples_split=5, n_estimators=1600;, score=0.766 total time=16.4min\n",
      "[CV 1/3; 84/100] START bootstrap=True, max_depth=70, max_features=sqrt, min_samples_leaf=4, min_samples_split=2, n_estimators=600\n",
      "[CV 1/3; 84/100] END bootstrap=True, max_depth=70, max_features=sqrt, min_samples_leaf=4, min_samples_split=2, n_estimators=600;, score=0.747 total time= 2.9min\n",
      "[CV 2/3; 86/100] START bootstrap=True, max_depth=10, max_features=sqrt, min_samples_leaf=2, min_samples_split=2, n_estimators=1200\n",
      "[CV 2/3; 86/100] END bootstrap=True, max_depth=10, max_features=sqrt, min_samples_leaf=2, min_samples_split=2, n_estimators=1200;, score=0.693 total time=  44.1s\n",
      "[CV 2/3; 87/100] START bootstrap=False, max_depth=100, max_features=sqrt, min_samples_leaf=2, min_samples_split=10, n_estimators=200\n",
      "[CV 2/3; 87/100] END bootstrap=False, max_depth=100, max_features=sqrt, min_samples_leaf=2, min_samples_split=10, n_estimators=200;, score=0.771 total time=  17.8s\n",
      "[CV 1/3; 88/100] START bootstrap=True, max_depth=10, max_features=auto, min_samples_leaf=2, min_samples_split=5, n_estimators=600\n",
      "[CV 1/3; 88/100] END bootstrap=True, max_depth=10, max_features=auto, min_samples_leaf=2, min_samples_split=5, n_estimators=600;, score=0.715 total time=  36.9s\n",
      "[CV 1/3; 89/100] START bootstrap=False, max_depth=50, max_features=auto, min_samples_leaf=2, min_samples_split=5, n_estimators=200\n",
      "[CV 1/3; 89/100] END bootstrap=False, max_depth=50, max_features=auto, min_samples_leaf=2, min_samples_split=5, n_estimators=200;, score=0.800 total time=  18.6s\n",
      "[CV 1/3; 90/100] START bootstrap=False, max_depth=None, max_features=auto, min_samples_leaf=1, min_samples_split=2, n_estimators=200\n",
      "[CV 1/3; 90/100] END bootstrap=False, max_depth=None, max_features=auto, min_samples_leaf=1, min_samples_split=2, n_estimators=200;, score=0.818 total time=  38.9s\n",
      "[CV 3/3; 91/100] START bootstrap=False, max_depth=None, max_features=auto, min_samples_leaf=4, min_samples_split=2, n_estimators=1200\n",
      "[CV 3/3; 91/100] END bootstrap=False, max_depth=None, max_features=auto, min_samples_leaf=4, min_samples_split=2, n_estimators=1200;, score=0.757 total time= 5.1min\n",
      "[CV 2/3; 94/100] START bootstrap=True, max_depth=20, max_features=auto, min_samples_leaf=2, min_samples_split=5, n_estimators=200\n",
      "[CV 2/3; 94/100] END bootstrap=True, max_depth=20, max_features=auto, min_samples_leaf=2, min_samples_split=5, n_estimators=200;, score=0.765 total time=  38.4s\n",
      "[CV 3/3; 95/100] START bootstrap=False, max_depth=60, max_features=auto, min_samples_leaf=1, min_samples_split=5, n_estimators=1600\n",
      "[CV 3/3; 95/100] END bootstrap=False, max_depth=60, max_features=auto, min_samples_leaf=1, min_samples_split=5, n_estimators=1600;, score=0.805 total time= 7.4min\n",
      "[CV 3/3; 2/100] START bootstrap=True, max_depth=90, max_features=sqrt, min_samples_leaf=1, min_samples_split=2, n_estimators=1200\n",
      "[CV 3/3; 2/100] END bootstrap=True, max_depth=90, max_features=sqrt, min_samples_leaf=1, min_samples_split=2, n_estimators=1200;, score=0.809 total time=18.0min\n",
      "[CV 3/3; 14/100] START bootstrap=True, max_depth=None, max_features=sqrt, min_samples_leaf=1, min_samples_split=2, n_estimators=1800\n",
      "[CV 3/3; 14/100] END bootstrap=True, max_depth=None, max_features=sqrt, min_samples_leaf=1, min_samples_split=2, n_estimators=1800;, score=0.810 total time=24.1min\n",
      "[CV 1/3; 31/100] START bootstrap=False, max_depth=30, max_features=sqrt, min_samples_leaf=2, min_samples_split=10, n_estimators=1600\n",
      "[CV 1/3; 31/100] END bootstrap=False, max_depth=30, max_features=sqrt, min_samples_leaf=2, min_samples_split=10, n_estimators=1600;, score=0.779 total time=20.3min\n",
      "[CV 2/3; 41/100] START bootstrap=True, max_depth=None, max_features=sqrt, min_samples_leaf=2, min_samples_split=5, n_estimators=1200\n",
      "[CV 2/3; 41/100] END bootstrap=True, max_depth=None, max_features=sqrt, min_samples_leaf=2, min_samples_split=5, n_estimators=1200;, score=0.770 total time=15.1min\n",
      "[CV 1/3; 51/100] START bootstrap=True, max_depth=None, max_features=sqrt, min_samples_leaf=2, min_samples_split=10, n_estimators=1200\n",
      "[CV 1/3; 51/100] END bootstrap=True, max_depth=None, max_features=sqrt, min_samples_leaf=2, min_samples_split=10, n_estimators=1200;, score=0.765 total time= 7.3min\n",
      "[CV 1/3; 55/100] START bootstrap=False, max_depth=110, max_features=auto, min_samples_leaf=4, min_samples_split=5, n_estimators=200\n",
      "[CV 1/3; 55/100] END bootstrap=False, max_depth=110, max_features=auto, min_samples_leaf=4, min_samples_split=5, n_estimators=200;, score=0.769 total time=  22.0s\n",
      "[CV 3/3; 56/100] START bootstrap=True, max_depth=90, max_features=sqrt, min_samples_leaf=1, min_samples_split=2, n_estimators=800\n",
      "[CV 3/3; 56/100] END bootstrap=True, max_depth=90, max_features=sqrt, min_samples_leaf=1, min_samples_split=2, n_estimators=800;, score=0.811 total time= 3.9min\n",
      "[CV 1/3; 60/100] START bootstrap=False, max_depth=10, max_features=auto, min_samples_leaf=1, min_samples_split=2, n_estimators=1000\n",
      "[CV 1/3; 60/100] END bootstrap=False, max_depth=10, max_features=auto, min_samples_leaf=1, min_samples_split=2, n_estimators=1000;, score=0.722 total time= 1.3min\n",
      "[CV 3/3; 61/100] START bootstrap=True, max_depth=80, max_features=auto, min_samples_leaf=4, min_samples_split=5, n_estimators=1000\n",
      "[CV 3/3; 61/100] END bootstrap=True, max_depth=80, max_features=auto, min_samples_leaf=4, min_samples_split=5, n_estimators=1000;, score=0.732 total time= 3.7min\n",
      "[CV 1/3; 66/100] START bootstrap=False, max_depth=50, max_features=auto, min_samples_leaf=1, min_samples_split=5, n_estimators=1800\n",
      "[CV 1/3; 66/100] END bootstrap=False, max_depth=50, max_features=auto, min_samples_leaf=1, min_samples_split=5, n_estimators=1800;, score=0.808 total time=18.8min\n",
      "[CV 3/3; 75/100] START bootstrap=True, max_depth=70, max_features=auto, min_samples_leaf=1, min_samples_split=5, n_estimators=1800\n",
      "[CV 3/3; 75/100] END bootstrap=True, max_depth=70, max_features=auto, min_samples_leaf=1, min_samples_split=5, n_estimators=1800;, score=0.787 total time=21.7min\n",
      "[CV 3/3; 97/100] START bootstrap=True, max_depth=90, max_features=auto, min_samples_leaf=1, min_samples_split=10, n_estimators=1000\n",
      "[CV 3/3; 97/100] END bootstrap=True, max_depth=90, max_features=auto, min_samples_leaf=1, min_samples_split=10, n_estimators=1000;, score=0.759 total time= 6.6min\n",
      "[CV 2/3; 4/100] START bootstrap=False, max_depth=20, max_features=auto, min_samples_leaf=2, min_samples_split=2, n_estimators=600\n",
      "[CV 2/3; 4/100] END bootstrap=False, max_depth=20, max_features=auto, min_samples_leaf=2, min_samples_split=2, n_estimators=600;, score=0.780 total time= 5.1min\n",
      "[CV 3/3; 11/100] START bootstrap=False, max_depth=70, max_features=sqrt, min_samples_leaf=4, min_samples_split=2, n_estimators=600\n",
      "[CV 3/3; 11/100] END bootstrap=False, max_depth=70, max_features=sqrt, min_samples_leaf=4, min_samples_split=2, n_estimators=600;, score=0.755 total time= 6.1min\n",
      "[CV 1/3; 14/100] START bootstrap=True, max_depth=None, max_features=sqrt, min_samples_leaf=1, min_samples_split=2, n_estimators=1800\n",
      "[CV 1/3; 14/100] END bootstrap=True, max_depth=None, max_features=sqrt, min_samples_leaf=1, min_samples_split=2, n_estimators=1800;, score=0.817 total time=16.1min\n",
      "[CV 3/3; 21/100] START bootstrap=True, max_depth=20, max_features=sqrt, min_samples_leaf=2, min_samples_split=2, n_estimators=600\n",
      "[CV 3/3; 21/100] END bootstrap=True, max_depth=20, max_features=sqrt, min_samples_leaf=2, min_samples_split=2, n_estimators=600;, score=0.762 total time= 4.1min\n",
      "[CV 3/3; 25/100] START bootstrap=False, max_depth=50, max_features=sqrt, min_samples_leaf=2, min_samples_split=2, n_estimators=800\n",
      "[CV 3/3; 25/100] END bootstrap=False, max_depth=50, max_features=sqrt, min_samples_leaf=2, min_samples_split=2, n_estimators=800;, score=0.791 total time=12.5min\n",
      "[CV 1/3; 33/100] START bootstrap=False, max_depth=110, max_features=auto, min_samples_leaf=1, min_samples_split=10, n_estimators=1400\n",
      "[CV 1/3; 33/100] END bootstrap=False, max_depth=110, max_features=auto, min_samples_leaf=1, min_samples_split=10, n_estimators=1400;, score=0.785 total time=20.6min\n",
      "[CV 1/3; 46/100] START bootstrap=False, max_depth=100, max_features=auto, min_samples_leaf=1, min_samples_split=10, n_estimators=1200\n",
      "[CV 1/3; 46/100] END bootstrap=False, max_depth=100, max_features=auto, min_samples_leaf=1, min_samples_split=10, n_estimators=1200;, score=0.785 total time=18.9min\n",
      "[CV 1/3; 57/100] START bootstrap=False, max_depth=None, max_features=auto, min_samples_leaf=4, min_samples_split=2, n_estimators=200\n",
      "[CV 1/3; 57/100] END bootstrap=False, max_depth=None, max_features=auto, min_samples_leaf=4, min_samples_split=2, n_estimators=200;, score=0.769 total time= 1.1min\n",
      "[CV 3/3; 58/100] START bootstrap=True, max_depth=10, max_features=auto, min_samples_leaf=4, min_samples_split=5, n_estimators=600\n",
      "[CV 3/3; 58/100] END bootstrap=True, max_depth=10, max_features=auto, min_samples_leaf=4, min_samples_split=5, n_estimators=600;, score=0.671 total time=  34.2s\n",
      "[CV 2/3; 59/100] START bootstrap=False, max_depth=50, max_features=sqrt, min_samples_leaf=4, min_samples_split=2, n_estimators=600\n",
      "[CV 2/3; 59/100] END bootstrap=False, max_depth=50, max_features=sqrt, min_samples_leaf=4, min_samples_split=2, n_estimators=600;, score=0.760 total time= 2.1min\n",
      "[CV 1/3; 61/100] START bootstrap=True, max_depth=80, max_features=auto, min_samples_leaf=4, min_samples_split=5, n_estimators=1000\n",
      "[CV 1/3; 61/100] END bootstrap=True, max_depth=80, max_features=auto, min_samples_leaf=4, min_samples_split=5, n_estimators=1000;, score=0.749 total time= 1.8min\n",
      "[CV 3/3; 63/100] START bootstrap=False, max_depth=50, max_features=sqrt, min_samples_leaf=2, min_samples_split=10, n_estimators=400\n",
      "[CV 3/3; 63/100] END bootstrap=False, max_depth=50, max_features=sqrt, min_samples_leaf=2, min_samples_split=10, n_estimators=400;, score=0.770 total time=  52.9s\n",
      "[CV 1/3; 65/100] START bootstrap=False, max_depth=100, max_features=sqrt, min_samples_leaf=1, min_samples_split=2, n_estimators=1600\n",
      "[CV 1/3; 65/100] END bootstrap=False, max_depth=100, max_features=sqrt, min_samples_leaf=1, min_samples_split=2, n_estimators=1600;, score=0.813 total time=20.5min\n",
      "[CV 1/3; 77/100] START bootstrap=True, max_depth=100, max_features=auto, min_samples_leaf=1, min_samples_split=5, n_estimators=600\n",
      "[CV 1/3; 77/100] END bootstrap=True, max_depth=100, max_features=auto, min_samples_leaf=1, min_samples_split=5, n_estimators=600;, score=0.801 total time= 4.5min\n",
      "[CV 1/3; 83/100] START bootstrap=True, max_depth=40, max_features=sqrt, min_samples_leaf=1, min_samples_split=2, n_estimators=1400\n",
      "[CV 1/3; 83/100] END bootstrap=True, max_depth=40, max_features=sqrt, min_samples_leaf=1, min_samples_split=2, n_estimators=1400;, score=0.816 total time=16.7min\n",
      "[CV 2/3; 96/100] START bootstrap=True, max_depth=80, max_features=sqrt, min_samples_leaf=2, min_samples_split=5, n_estimators=200\n",
      "[CV 2/3; 96/100] END bootstrap=True, max_depth=80, max_features=sqrt, min_samples_leaf=2, min_samples_split=5, n_estimators=200;, score=0.768 total time= 1.7min\n",
      "[CV 1/3; 99/100] START bootstrap=True, max_depth=70, max_features=sqrt, min_samples_leaf=4, min_samples_split=5, n_estimators=1400\n",
      "[CV 1/3; 99/100] END bootstrap=True, max_depth=70, max_features=sqrt, min_samples_leaf=4, min_samples_split=5, n_estimators=1400;, score=0.752 total time= 5.5min\n",
      "[CV 1/3; 6/100] START bootstrap=False, max_depth=20, max_features=sqrt, min_samples_leaf=4, min_samples_split=5, n_estimators=400\n",
      "[CV 1/3; 6/100] END bootstrap=False, max_depth=20, max_features=sqrt, min_samples_leaf=4, min_samples_split=5, n_estimators=400;, score=0.760 total time= 3.5min\n",
      "[CV 2/3; 8/100] START bootstrap=False, max_depth=110, max_features=auto, min_samples_leaf=2, min_samples_split=5, n_estimators=1200\n",
      "[CV 2/3; 8/100] END bootstrap=False, max_depth=110, max_features=auto, min_samples_leaf=2, min_samples_split=5, n_estimators=1200;, score=0.786 total time=16.2min\n",
      "[CV 1/3; 16/100] START bootstrap=False, max_depth=10, max_features=sqrt, min_samples_leaf=1, min_samples_split=2, n_estimators=1000\n",
      "[CV 1/3; 16/100] END bootstrap=False, max_depth=10, max_features=sqrt, min_samples_leaf=1, min_samples_split=2, n_estimators=1000;, score=0.726 total time= 3.2min\n",
      "[CV 2/3; 18/100] START bootstrap=True, max_depth=30, max_features=sqrt, min_samples_leaf=4, min_samples_split=5, n_estimators=1800\n",
      "[CV 2/3; 18/100] END bootstrap=True, max_depth=30, max_features=sqrt, min_samples_leaf=4, min_samples_split=5, n_estimators=1800;, score=0.735 total time=14.8min\n",
      "[CV 3/3; 26/100] START bootstrap=True, max_depth=110, max_features=auto, min_samples_leaf=4, min_samples_split=10, n_estimators=1800\n",
      "[CV 3/3; 26/100] END bootstrap=True, max_depth=110, max_features=auto, min_samples_leaf=4, min_samples_split=10, n_estimators=1800;, score=0.733 total time=18.4min\n",
      "[CV 3/3; 37/100] START bootstrap=False, max_depth=100, max_features=auto, min_samples_leaf=2, min_samples_split=2, n_estimators=1400\n",
      "[CV 3/3; 37/100] END bootstrap=False, max_depth=100, max_features=auto, min_samples_leaf=2, min_samples_split=2, n_estimators=1400;, score=0.793 total time=22.3min\n",
      "[CV 3/3; 50/100] START bootstrap=False, max_depth=100, max_features=sqrt, min_samples_leaf=4, min_samples_split=2, n_estimators=1400\n",
      "[CV 3/3; 50/100] END bootstrap=False, max_depth=100, max_features=sqrt, min_samples_leaf=4, min_samples_split=2, n_estimators=1400;, score=0.756 total time=17.8min\n",
      "[CV 2/3; 67/100] START bootstrap=True, max_depth=110, max_features=auto, min_samples_leaf=1, min_samples_split=10, n_estimators=2000\n",
      "[CV 2/3; 67/100] END bootstrap=True, max_depth=110, max_features=auto, min_samples_leaf=1, min_samples_split=10, n_estimators=2000;, score=0.761 total time=17.9min\n",
      "[CV 1/3; 78/100] START bootstrap=False, max_depth=90, max_features=auto, min_samples_leaf=1, min_samples_split=2, n_estimators=800\n",
      "[CV 1/3; 78/100] END bootstrap=False, max_depth=90, max_features=auto, min_samples_leaf=1, min_samples_split=2, n_estimators=800;, score=0.814 total time=19.8min\n",
      "[CV 3/3; 94/100] START bootstrap=True, max_depth=20, max_features=auto, min_samples_leaf=2, min_samples_split=5, n_estimators=200\n",
      "[CV 3/3; 94/100] END bootstrap=True, max_depth=20, max_features=auto, min_samples_leaf=2, min_samples_split=5, n_estimators=200;, score=0.763 total time= 1.4min\n",
      "[CV 2/3; 97/100] START bootstrap=True, max_depth=90, max_features=auto, min_samples_leaf=1, min_samples_split=10, n_estimators=1000\n",
      "[CV 2/3; 97/100] END bootstrap=True, max_depth=90, max_features=auto, min_samples_leaf=1, min_samples_split=10, n_estimators=1000;, score=0.762 total time= 7.0min\n",
      "[CV 3/3; 1/100] START bootstrap=True, max_depth=40, max_features=sqrt, min_samples_leaf=1, min_samples_split=10, n_estimators=400\n",
      "[CV 3/3; 1/100] END bootstrap=True, max_depth=40, max_features=sqrt, min_samples_leaf=1, min_samples_split=10, n_estimators=400;, score=0.759 total time= 2.9min\n",
      "[CV 1/3; 8/100] START bootstrap=False, max_depth=110, max_features=auto, min_samples_leaf=2, min_samples_split=5, n_estimators=1200\n",
      "[CV 1/3; 8/100] END bootstrap=False, max_depth=110, max_features=auto, min_samples_leaf=2, min_samples_split=5, n_estimators=1200;, score=0.797 total time=16.9min\n",
      "[CV 2/3; 15/100] START bootstrap=True, max_depth=110, max_features=sqrt, min_samples_leaf=2, min_samples_split=10, n_estimators=800\n",
      "[CV 2/3; 15/100] END bootstrap=True, max_depth=110, max_features=sqrt, min_samples_leaf=2, min_samples_split=10, n_estimators=800;, score=0.748 total time= 3.1min\n",
      "[CV 3/3; 17/100] START bootstrap=False, max_depth=80, max_features=auto, min_samples_leaf=2, min_samples_split=2, n_estimators=1800\n",
      "[CV 3/3; 17/100] END bootstrap=False, max_depth=80, max_features=auto, min_samples_leaf=2, min_samples_split=2, n_estimators=1800;, score=0.791 total time=24.2min\n",
      "[CV 3/3; 32/100] START bootstrap=False, max_depth=30, max_features=auto, min_samples_leaf=4, min_samples_split=5, n_estimators=1000\n",
      "[CV 3/3; 32/100] END bootstrap=False, max_depth=30, max_features=auto, min_samples_leaf=4, min_samples_split=5, n_estimators=1000;, score=0.755 total time= 7.0min\n",
      "[CV 2/3; 36/100] START bootstrap=True, max_depth=90, max_features=auto, min_samples_leaf=2, min_samples_split=5, n_estimators=2000\n",
      "[CV 2/3; 36/100] END bootstrap=True, max_depth=90, max_features=auto, min_samples_leaf=2, min_samples_split=5, n_estimators=2000;, score=0.774 total time=16.4min\n",
      "[CV 2/3; 47/100] START bootstrap=True, max_depth=None, max_features=sqrt, min_samples_leaf=1, min_samples_split=10, n_estimators=1200\n",
      "[CV 2/3; 47/100] END bootstrap=True, max_depth=None, max_features=sqrt, min_samples_leaf=1, min_samples_split=10, n_estimators=1200;, score=0.764 total time= 4.6min\n",
      "[CV 3/3; 48/100] START bootstrap=False, max_depth=10, max_features=sqrt, min_samples_leaf=1, min_samples_split=10, n_estimators=1600\n",
      "[CV 3/3; 48/100] END bootstrap=False, max_depth=10, max_features=sqrt, min_samples_leaf=1, min_samples_split=10, n_estimators=1600;, score=0.673 total time= 1.1min\n",
      "[CV 2/3; 49/100] START bootstrap=True, max_depth=40, max_features=sqrt, min_samples_leaf=2, min_samples_split=5, n_estimators=1800\n",
      "[CV 2/3; 49/100] END bootstrap=True, max_depth=40, max_features=sqrt, min_samples_leaf=2, min_samples_split=5, n_estimators=1800;, score=0.771 total time=15.3min\n",
      "[CV 3/3; 62/100] START bootstrap=False, max_depth=70, max_features=auto, min_samples_leaf=1, min_samples_split=2, n_estimators=400\n",
      "[CV 3/3; 62/100] END bootstrap=False, max_depth=70, max_features=auto, min_samples_leaf=1, min_samples_split=2, n_estimators=400;, score=0.814 total time= 6.0min\n",
      "[CV 3/3; 68/100] START bootstrap=True, max_depth=110, max_features=auto, min_samples_leaf=2, min_samples_split=2, n_estimators=200\n",
      "[CV 3/3; 68/100] END bootstrap=True, max_depth=110, max_features=auto, min_samples_leaf=2, min_samples_split=2, n_estimators=200;, score=0.772 total time=  24.8s\n",
      "[CV 1/3; 70/100] START bootstrap=True, max_depth=None, max_features=sqrt, min_samples_leaf=2, min_samples_split=5, n_estimators=1600\n",
      "[CV 1/3; 70/100] END bootstrap=True, max_depth=None, max_features=sqrt, min_samples_leaf=2, min_samples_split=5, n_estimators=1600;, score=0.785 total time=13.9min\n",
      "[CV 2/3; 73/100] START bootstrap=True, max_depth=30, max_features=sqrt, min_samples_leaf=4, min_samples_split=10, n_estimators=400\n",
      "[CV 2/3; 73/100] END bootstrap=True, max_depth=30, max_features=sqrt, min_samples_leaf=4, min_samples_split=10, n_estimators=400;, score=0.734 total time= 1.4min\n",
      "[CV 3/3; 76/100] START bootstrap=False, max_depth=50, max_features=auto, min_samples_leaf=4, min_samples_split=10, n_estimators=600\n",
      "[CV 3/3; 76/100] END bootstrap=False, max_depth=50, max_features=auto, min_samples_leaf=4, min_samples_split=10, n_estimators=600;, score=0.757 total time= 2.6min\n",
      "[CV 2/3; 80/100] START bootstrap=True, max_depth=60, max_features=sqrt, min_samples_leaf=1, min_samples_split=5, n_estimators=400\n",
      "[CV 2/3; 80/100] END bootstrap=True, max_depth=60, max_features=sqrt, min_samples_leaf=1, min_samples_split=5, n_estimators=400;, score=0.786 total time=  30.6s\n",
      "[CV 1/3; 81/100] START bootstrap=True, max_depth=100, max_features=auto, min_samples_leaf=4, min_samples_split=5, n_estimators=1600\n",
      "[CV 1/3; 81/100] END bootstrap=True, max_depth=100, max_features=auto, min_samples_leaf=4, min_samples_split=5, n_estimators=1600;, score=0.751 total time=12.3min\n",
      "[CV 2/3; 92/100] START bootstrap=True, max_depth=100, max_features=auto, min_samples_leaf=4, min_samples_split=5, n_estimators=1800\n",
      "[CV 2/3; 92/100] END bootstrap=True, max_depth=100, max_features=auto, min_samples_leaf=4, min_samples_split=5, n_estimators=1800;, score=0.734 total time=13.6min\n",
      "[CV 1/3; 2/100] START bootstrap=True, max_depth=90, max_features=sqrt, min_samples_leaf=1, min_samples_split=2, n_estimators=1200\n",
      "[CV 1/3; 2/100] END bootstrap=True, max_depth=90, max_features=sqrt, min_samples_leaf=1, min_samples_split=2, n_estimators=1200;, score=0.818 total time=17.7min\n",
      "[CV 2/3; 14/100] START bootstrap=True, max_depth=None, max_features=sqrt, min_samples_leaf=1, min_samples_split=2, n_estimators=1800\n",
      "[CV 2/3; 14/100] END bootstrap=True, max_depth=None, max_features=sqrt, min_samples_leaf=1, min_samples_split=2, n_estimators=1800;, score=0.807 total time=23.5min\n",
      "[CV 3/3; 30/100] START bootstrap=True, max_depth=30, max_features=sqrt, min_samples_leaf=4, min_samples_split=5, n_estimators=1400\n",
      "[CV 3/3; 30/100] END bootstrap=True, max_depth=30, max_features=sqrt, min_samples_leaf=4, min_samples_split=5, n_estimators=1400;, score=0.737 total time= 6.9min\n",
      "[CV 2/3; 34/100] START bootstrap=False, max_depth=80, max_features=sqrt, min_samples_leaf=2, min_samples_split=10, n_estimators=1200\n",
      "[CV 2/3; 34/100] END bootstrap=False, max_depth=80, max_features=sqrt, min_samples_leaf=2, min_samples_split=10, n_estimators=1200;, score=0.771 total time= 6.8min\n",
      "[CV 2/3; 37/100] START bootstrap=False, max_depth=100, max_features=auto, min_samples_leaf=2, min_samples_split=2, n_estimators=1400\n",
      "[CV 2/3; 37/100] END bootstrap=False, max_depth=100, max_features=auto, min_samples_leaf=2, min_samples_split=2, n_estimators=1400;, score=0.791 total time=10.3min\n",
      "[CV 1/3; 44/100] START bootstrap=False, max_depth=30, max_features=sqrt, min_samples_leaf=1, min_samples_split=5, n_estimators=800\n",
      "[CV 1/3; 44/100] END bootstrap=False, max_depth=30, max_features=sqrt, min_samples_leaf=1, min_samples_split=5, n_estimators=800;, score=0.804 total time=17.5min\n",
      "[CV 3/3; 53/100] START bootstrap=False, max_depth=100, max_features=sqrt, min_samples_leaf=2, min_samples_split=2, n_estimators=2000\n",
      "[CV 3/3; 53/100] END bootstrap=False, max_depth=100, max_features=sqrt, min_samples_leaf=2, min_samples_split=2, n_estimators=2000;, score=0.794 total time=27.5min\n",
      "[CV 2/3; 72/100] START bootstrap=True, max_depth=90, max_features=sqrt, min_samples_leaf=2, min_samples_split=2, n_estimators=1000\n",
      "[CV 2/3; 72/100] END bootstrap=True, max_depth=90, max_features=sqrt, min_samples_leaf=2, min_samples_split=2, n_estimators=1000;, score=0.780 total time= 3.3min\n",
      "[CV 2/3; 76/100] START bootstrap=False, max_depth=50, max_features=auto, min_samples_leaf=4, min_samples_split=10, n_estimators=600\n",
      "[CV 2/3; 76/100] END bootstrap=False, max_depth=50, max_features=auto, min_samples_leaf=4, min_samples_split=10, n_estimators=600;, score=0.760 total time=  47.6s\n",
      "[CV 2/3; 78/100] START bootstrap=False, max_depth=90, max_features=auto, min_samples_leaf=1, min_samples_split=2, n_estimators=800\n",
      "[CV 2/3; 78/100] END bootstrap=False, max_depth=90, max_features=auto, min_samples_leaf=1, min_samples_split=2, n_estimators=800;, score=0.806 total time=14.7min\n",
      "[CV 1/3; 92/100] START bootstrap=True, max_depth=100, max_features=auto, min_samples_leaf=4, min_samples_split=5, n_estimators=1800\n",
      "[CV 1/3; 92/100] END bootstrap=True, max_depth=100, max_features=auto, min_samples_leaf=4, min_samples_split=5, n_estimators=1800;, score=0.747 total time=14.2min\n",
      "[CV 1/3; 3/100] START bootstrap=False, max_depth=20, max_features=sqrt, min_samples_leaf=2, min_samples_split=5, n_estimators=200\n",
      "[CV 1/3; 3/100] END bootstrap=False, max_depth=20, max_features=sqrt, min_samples_leaf=2, min_samples_split=5, n_estimators=200;, score=0.791 total time= 1.7min\n",
      "[CV 1/3; 7/100] START bootstrap=False, max_depth=30, max_features=sqrt, min_samples_leaf=1, min_samples_split=5, n_estimators=2000\n",
      "[CV 1/3; 7/100] END bootstrap=False, max_depth=30, max_features=sqrt, min_samples_leaf=1, min_samples_split=5, n_estimators=2000;, score=0.807 total time=25.9min\n",
      "[CV 2/3; 19/100] START bootstrap=False, max_depth=10, max_features=auto, min_samples_leaf=4, min_samples_split=5, n_estimators=2000\n",
      "[CV 2/3; 19/100] END bootstrap=False, max_depth=10, max_features=auto, min_samples_leaf=4, min_samples_split=5, n_estimators=2000;, score=0.681 total time= 6.4min\n",
      "[CV 1/3; 24/100] START bootstrap=False, max_depth=90, max_features=auto, min_samples_leaf=2, min_samples_split=5, n_estimators=200\n",
      "[CV 1/3; 24/100] END bootstrap=False, max_depth=90, max_features=auto, min_samples_leaf=2, min_samples_split=5, n_estimators=200;, score=0.801 total time=  45.5s\n",
      "[CV 2/3; 24/100] START bootstrap=False, max_depth=90, max_features=auto, min_samples_leaf=2, min_samples_split=5, n_estimators=200\n",
      "[CV 2/3; 24/100] END bootstrap=False, max_depth=90, max_features=auto, min_samples_leaf=2, min_samples_split=5, n_estimators=200;, score=0.788 total time=  30.5s\n",
      "[CV 1/3; 25/100] START bootstrap=False, max_depth=50, max_features=sqrt, min_samples_leaf=2, min_samples_split=2, n_estimators=800\n",
      "[CV 1/3; 25/100] END bootstrap=False, max_depth=50, max_features=sqrt, min_samples_leaf=2, min_samples_split=2, n_estimators=800;, score=0.804 total time= 7.3min\n",
      "[CV 1/3; 30/100] START bootstrap=True, max_depth=30, max_features=sqrt, min_samples_leaf=4, min_samples_split=5, n_estimators=1400\n",
      "[CV 1/3; 30/100] END bootstrap=True, max_depth=30, max_features=sqrt, min_samples_leaf=4, min_samples_split=5, n_estimators=1400;, score=0.751 total time= 3.8min\n",
      "[CV 1/3; 32/100] START bootstrap=False, max_depth=30, max_features=auto, min_samples_leaf=4, min_samples_split=5, n_estimators=1000\n",
      "[CV 1/3; 32/100] END bootstrap=False, max_depth=30, max_features=auto, min_samples_leaf=4, min_samples_split=5, n_estimators=1000;, score=0.768 total time= 2.3min\n",
      "[CV 3/3; 33/100] START bootstrap=False, max_depth=110, max_features=auto, min_samples_leaf=1, min_samples_split=10, n_estimators=1400\n",
      "[CV 3/3; 33/100] END bootstrap=False, max_depth=110, max_features=auto, min_samples_leaf=1, min_samples_split=10, n_estimators=1400;, score=0.780 total time=14.8min\n",
      "[CV 2/3; 40/100] START bootstrap=True, max_depth=100, max_features=auto, min_samples_leaf=1, min_samples_split=2, n_estimators=400\n",
      "[CV 2/3; 40/100] END bootstrap=True, max_depth=100, max_features=auto, min_samples_leaf=1, min_samples_split=2, n_estimators=400;, score=0.809 total time= 2.9min\n",
      "[CV 3/3; 43/100] START bootstrap=True, max_depth=20, max_features=auto, min_samples_leaf=2, min_samples_split=2, n_estimators=1000\n",
      "[CV 3/3; 43/100] END bootstrap=True, max_depth=20, max_features=auto, min_samples_leaf=2, min_samples_split=2, n_estimators=1000;, score=0.763 total time= 2.5min\n",
      "[CV 3/3; 45/100] START bootstrap=False, max_depth=30, max_features=auto, min_samples_leaf=4, min_samples_split=10, n_estimators=400\n",
      "[CV 3/3; 45/100] END bootstrap=False, max_depth=30, max_features=auto, min_samples_leaf=4, min_samples_split=10, n_estimators=400;, score=0.755 total time=  48.8s\n",
      "[CV 3/3; 46/100] START bootstrap=False, max_depth=100, max_features=auto, min_samples_leaf=1, min_samples_split=10, n_estimators=1200\n",
      "[CV 3/3; 46/100] END bootstrap=False, max_depth=100, max_features=auto, min_samples_leaf=1, min_samples_split=10, n_estimators=1200;, score=0.777 total time= 8.8min\n",
      "[CV 2/3; 50/100] START bootstrap=False, max_depth=100, max_features=sqrt, min_samples_leaf=4, min_samples_split=2, n_estimators=1400\n",
      "[CV 2/3; 50/100] END bootstrap=False, max_depth=100, max_features=sqrt, min_samples_leaf=4, min_samples_split=2, n_estimators=1400;, score=0.760 total time=20.0min\n",
      "[CV 3/3; 67/100] START bootstrap=True, max_depth=110, max_features=auto, min_samples_leaf=1, min_samples_split=10, n_estimators=2000\n",
      "[CV 3/3; 67/100] END bootstrap=True, max_depth=110, max_features=auto, min_samples_leaf=1, min_samples_split=10, n_estimators=2000;, score=0.758 total time=18.6min\n",
      "[CV 2/3; 81/100] START bootstrap=True, max_depth=100, max_features=auto, min_samples_leaf=4, min_samples_split=5, n_estimators=1600\n",
      "[CV 2/3; 81/100] END bootstrap=True, max_depth=100, max_features=auto, min_samples_leaf=4, min_samples_split=5, n_estimators=1600;, score=0.736 total time= 9.9min\n",
      "[CV 1/3; 87/100] START bootstrap=False, max_depth=100, max_features=sqrt, min_samples_leaf=2, min_samples_split=10, n_estimators=200\n",
      "[CV 1/3; 87/100] END bootstrap=False, max_depth=100, max_features=sqrt, min_samples_leaf=2, min_samples_split=10, n_estimators=200;, score=0.779 total time=  25.3s\n",
      "[CV 3/3; 87/100] START bootstrap=False, max_depth=100, max_features=sqrt, min_samples_leaf=2, min_samples_split=10, n_estimators=200\n",
      "[CV 3/3; 87/100] END bootstrap=False, max_depth=100, max_features=sqrt, min_samples_leaf=2, min_samples_split=10, n_estimators=200;, score=0.770 total time=  20.5s\n",
      "[CV 3/3; 88/100] START bootstrap=True, max_depth=10, max_features=auto, min_samples_leaf=2, min_samples_split=5, n_estimators=600\n",
      "[CV 3/3; 88/100] END bootstrap=True, max_depth=10, max_features=auto, min_samples_leaf=2, min_samples_split=5, n_estimators=600;, score=0.676 total time=  36.1s\n",
      "[CV 3/3; 89/100] START bootstrap=False, max_depth=50, max_features=auto, min_samples_leaf=2, min_samples_split=5, n_estimators=200\n",
      "[CV 3/3; 89/100] END bootstrap=False, max_depth=50, max_features=auto, min_samples_leaf=2, min_samples_split=5, n_estimators=200;, score=0.790 total time=  22.6s\n",
      "[CV 3/3; 90/100] START bootstrap=False, max_depth=None, max_features=auto, min_samples_leaf=1, min_samples_split=2, n_estimators=200\n",
      "[CV 3/3; 90/100] END bootstrap=False, max_depth=None, max_features=auto, min_samples_leaf=1, min_samples_split=2, n_estimators=200;, score=0.810 total time=  11.4s\n",
      "[CV 2/3; 91/100] START bootstrap=False, max_depth=None, max_features=auto, min_samples_leaf=4, min_samples_split=2, n_estimators=1200\n",
      "[CV 2/3; 91/100] END bootstrap=False, max_depth=None, max_features=auto, min_samples_leaf=4, min_samples_split=2, n_estimators=1200;, score=0.760 total time= 4.7min\n",
      "[CV 3/3; 92/100] START bootstrap=True, max_depth=100, max_features=auto, min_samples_leaf=4, min_samples_split=5, n_estimators=1800\n",
      "[CV 3/3; 92/100] END bootstrap=True, max_depth=100, max_features=auto, min_samples_leaf=4, min_samples_split=5, n_estimators=1800;, score=0.735 total time= 4.6min\n",
      "[CV 3/3; 99/100] START bootstrap=True, max_depth=70, max_features=sqrt, min_samples_leaf=4, min_samples_split=5, n_estimators=1400\n",
      "[CV 3/3; 99/100] END bootstrap=True, max_depth=70, max_features=sqrt, min_samples_leaf=4, min_samples_split=5, n_estimators=1400;, score=0.735 total time= 2.2min\n",
      "[CV 3/3; 100/100] START bootstrap=False, max_depth=90, max_features=auto, min_samples_leaf=4, min_samples_split=2, n_estimators=1800\n",
      "[CV 3/3; 100/100] END bootstrap=False, max_depth=90, max_features=auto, min_samples_leaf=4, min_samples_split=2, n_estimators=1800;, score=0.756 total time= 3.5min\n",
      "[CV 1/3; 4/100] START bootstrap=False, max_depth=20, max_features=auto, min_samples_leaf=2, min_samples_split=2, n_estimators=600\n",
      "[CV 1/3; 4/100] END bootstrap=False, max_depth=20, max_features=auto, min_samples_leaf=2, min_samples_split=2, n_estimators=600;, score=0.792 total time= 5.3min\n",
      "[CV 2/3; 12/100] START bootstrap=False, max_depth=100, max_features=auto, min_samples_leaf=1, min_samples_split=10, n_estimators=1800\n",
      "[CV 2/3; 12/100] END bootstrap=False, max_depth=100, max_features=auto, min_samples_leaf=1, min_samples_split=10, n_estimators=1800;, score=0.783 total time=19.9min\n",
      "[CV 1/3; 21/100] START bootstrap=True, max_depth=20, max_features=sqrt, min_samples_leaf=2, min_samples_split=2, n_estimators=600\n",
      "[CV 1/3; 21/100] END bootstrap=True, max_depth=20, max_features=sqrt, min_samples_leaf=2, min_samples_split=2, n_estimators=600;, score=0.784 total time= 3.9min\n",
      "[CV 2/3; 23/100] START bootstrap=False, max_depth=30, max_features=auto, min_samples_leaf=2, min_samples_split=5, n_estimators=1200\n",
      "[CV 2/3; 23/100] END bootstrap=False, max_depth=30, max_features=auto, min_samples_leaf=2, min_samples_split=5, n_estimators=1200;, score=0.786 total time=19.3min\n",
      "[CV 2/3; 35/100] START bootstrap=True, max_depth=70, max_features=auto, min_samples_leaf=2, min_samples_split=2, n_estimators=1000\n",
      "[CV 2/3; 35/100] END bootstrap=True, max_depth=70, max_features=auto, min_samples_leaf=2, min_samples_split=2, n_estimators=1000;, score=0.778 total time=13.9min\n",
      "[CV 2/3; 43/100] START bootstrap=True, max_depth=20, max_features=auto, min_samples_leaf=2, min_samples_split=2, n_estimators=1000\n",
      "[CV 2/3; 43/100] END bootstrap=True, max_depth=20, max_features=auto, min_samples_leaf=2, min_samples_split=2, n_estimators=1000;, score=0.771 total time=10.6min\n",
      "[CV 3/3; 49/100] START bootstrap=True, max_depth=40, max_features=sqrt, min_samples_leaf=2, min_samples_split=5, n_estimators=1800\n",
      "[CV 3/3; 49/100] END bootstrap=True, max_depth=40, max_features=sqrt, min_samples_leaf=2, min_samples_split=5, n_estimators=1800;, score=0.764 total time=14.8min\n",
      "[CV 2/3; 62/100] START bootstrap=False, max_depth=70, max_features=auto, min_samples_leaf=1, min_samples_split=2, n_estimators=400\n",
      "[CV 2/3; 62/100] END bootstrap=False, max_depth=70, max_features=auto, min_samples_leaf=1, min_samples_split=2, n_estimators=400;, score=0.811 total time= 7.5min\n",
      "[CV 2/3; 70/100] START bootstrap=True, max_depth=None, max_features=sqrt, min_samples_leaf=2, min_samples_split=5, n_estimators=1600\n",
      "[CV 2/3; 70/100] END bootstrap=True, max_depth=None, max_features=sqrt, min_samples_leaf=2, min_samples_split=5, n_estimators=1600;, score=0.772 total time=13.1min\n",
      "[CV 1/3; 73/100] START bootstrap=True, max_depth=30, max_features=sqrt, min_samples_leaf=4, min_samples_split=10, n_estimators=400\n",
      "[CV 1/3; 73/100] END bootstrap=True, max_depth=30, max_features=sqrt, min_samples_leaf=4, min_samples_split=10, n_estimators=400;, score=0.746 total time= 1.1min\n",
      "[CV 1/3; 75/100] START bootstrap=True, max_depth=70, max_features=auto, min_samples_leaf=1, min_samples_split=5, n_estimators=1800\n",
      "[CV 1/3; 75/100] END bootstrap=True, max_depth=70, max_features=auto, min_samples_leaf=1, min_samples_split=5, n_estimators=1800;, score=0.802 total time=21.1min\n",
      "[CV 1/3; 96/100] START bootstrap=True, max_depth=80, max_features=sqrt, min_samples_leaf=2, min_samples_split=5, n_estimators=200\n",
      "[CV 1/3; 96/100] END bootstrap=True, max_depth=80, max_features=sqrt, min_samples_leaf=2, min_samples_split=5, n_estimators=200;, score=0.781 total time= 1.6min\n",
      "[CV 2/3; 98/100] START bootstrap=True, max_depth=None, max_features=auto, min_samples_leaf=4, min_samples_split=10, n_estimators=600\n",
      "[CV 2/3; 98/100] END bootstrap=True, max_depth=None, max_features=auto, min_samples_leaf=4, min_samples_split=10, n_estimators=600;, score=0.731 total time= 3.0min\n",
      "[CV 2/3; 100/100] START bootstrap=False, max_depth=90, max_features=auto, min_samples_leaf=4, min_samples_split=2, n_estimators=1800\n",
      "[CV 2/3; 100/100] END bootstrap=False, max_depth=90, max_features=auto, min_samples_leaf=4, min_samples_split=2, n_estimators=1800;, score=0.761 total time= 7.5min\n"
     ]
    },
    {
     "data": {
      "text/plain": [
       "RandomizedSearchCV(cv=3, estimator=RandomForestClassifier(), n_iter=100,\n",
       "                   n_jobs=-1,\n",
       "                   param_distributions={'bootstrap': [True, False],\n",
       "                                        'max_depth': [10, 20, 30, 40, 50, 60,\n",
       "                                                      70, 80, 90, 100, 110,\n",
       "                                                      None],\n",
       "                                        'max_features': ['auto', 'sqrt'],\n",
       "                                        'min_samples_leaf': [1, 2, 4],\n",
       "                                        'min_samples_split': [2, 5, 10],\n",
       "                                        'n_estimators': [200, 400, 600, 800,\n",
       "                                                         1000, 1200, 1400, 1600,\n",
       "                                                         1800, 2000]},\n",
       "                   random_state=0, scoring=make_scorer(accuracy_score),\n",
       "                   verbose=10)"
      ]
     },
     "execution_count": 212,
     "metadata": {},
     "output_type": "execute_result"
    }
   ],
   "source": [
    "# Use the random grid to search for best hyperparameters\n",
    "# First create the base model to tune\n",
    "clf = RandomForestClassifier()\n",
    "# Random search of parameters, using 3 fold cross validation, \n",
    "# search across 100 different combinations, and use all available cores\n",
    "clf_random = RandomizedSearchCV(estimator = clf, param_distributions = random_grid, n_iter = 100, cv = 3, verbose=10, scoring = metrics.make_scorer(metrics.accuracy_score), random_state=seed, n_jobs = -1)# Fit the random search model\n",
    "clf_random.fit(X_train, y_train_b)"
   ]
  },
  {
   "cell_type": "code",
   "execution_count": 213,
   "id": "2286ef62-9179-4a86-adb1-f02f9c2cb512",
   "metadata": {},
   "outputs": [
    {
     "data": {
      "text/plain": [
       "{'n_estimators': 400,\n",
       " 'min_samples_split': 2,\n",
       " 'min_samples_leaf': 1,\n",
       " 'max_features': 'auto',\n",
       " 'max_depth': 70,\n",
       " 'bootstrap': False}"
      ]
     },
     "execution_count": 213,
     "metadata": {},
     "output_type": "execute_result"
    }
   ],
   "source": [
    "clf_random.best_params_"
   ]
  },
  {
   "cell_type": "code",
   "execution_count": 214,
   "id": "1702e970-63ac-4594-b33f-c020c751a76f",
   "metadata": {},
   "outputs": [],
   "source": [
    "results_random_forest = clf_random.cv_results_"
   ]
  },
  {
   "cell_type": "code",
   "execution_count": 215,
   "id": "8568bf11-de20-47bd-9a98-8d6750012bf2",
   "metadata": {
    "collapsed": true,
    "jupyter": {
     "outputs_hidden": true
    },
    "tags": []
   },
   "outputs": [
    {
     "data": {
      "image/png": "[encoded data removed]",
      "text/plain": [
       "<Figure size 1440x360 with 1 Axes>"
      ]
     },
     "metadata": {
      "needs_background": "light"
     },
     "output_type": "display_data"
    },
    {
     "name": "stdout",
     "output_type": "stream",
     "text": [
      "[CV 2/3; 2/100] START bootstrap=True, max_depth=90, max_features=sqrt, min_samples_leaf=1, min_samples_split=2, n_estimators=1200\n",
      "[CV 2/3; 2/100] END bootstrap=True, max_depth=90, max_features=sqrt, min_samples_leaf=1, min_samples_split=2, n_estimators=1200;, score=0.809 total time=18.0min\n",
      "[CV 1/3; 15/100] START bootstrap=True, max_depth=110, max_features=sqrt, min_samples_leaf=2, min_samples_split=10, n_estimators=800\n",
      "[CV 1/3; 15/100] END bootstrap=True, max_depth=110, max_features=sqrt, min_samples_leaf=2, min_samples_split=10, n_estimators=800;, score=0.765 total time= 2.6min\n",
      "[CV 2/3; 17/100] START bootstrap=False, max_depth=80, max_features=auto, min_samples_leaf=2, min_samples_split=2, n_estimators=1800\n",
      "[CV 2/3; 17/100] END bootstrap=False, max_depth=80, max_features=auto, min_samples_leaf=2, min_samples_split=2, n_estimators=1800;, score=0.790 total time=22.2min\n",
      "[CV 3/3; 31/100] START bootstrap=False, max_depth=30, max_features=sqrt, min_samples_leaf=2, min_samples_split=10, n_estimators=1600\n",
      "[CV 3/3; 31/100] END bootstrap=False, max_depth=30, max_features=sqrt, min_samples_leaf=2, min_samples_split=10, n_estimators=1600;, score=0.768 total time=20.6min\n",
      "[CV 1/3; 42/100] START bootstrap=False, max_depth=100, max_features=auto, min_samples_leaf=1, min_samples_split=5, n_estimators=2000\n",
      "[CV 1/3; 42/100] END bootstrap=False, max_depth=100, max_features=auto, min_samples_leaf=1, min_samples_split=5, n_estimators=2000;, score=0.808 total time=31.2min\n",
      "[CV 1/3; 67/100] START bootstrap=True, max_depth=110, max_features=auto, min_samples_leaf=1, min_samples_split=10, n_estimators=2000\n",
      "[CV 1/3; 67/100] END bootstrap=True, max_depth=110, max_features=auto, min_samples_leaf=1, min_samples_split=10, n_estimators=2000;, score=0.778 total time=16.1min\n",
      "[CV 3/3; 72/100] START bootstrap=True, max_depth=90, max_features=sqrt, min_samples_leaf=2, min_samples_split=2, n_estimators=1000\n",
      "[CV 3/3; 72/100] END bootstrap=True, max_depth=90, max_features=sqrt, min_samples_leaf=2, min_samples_split=2, n_estimators=1000;, score=0.773 total time= 7.5min\n",
      "[CV 2/3; 83/100] START bootstrap=True, max_depth=40, max_features=sqrt, min_samples_leaf=1, min_samples_split=2, n_estimators=1400\n",
      "[CV 2/3; 83/100] END bootstrap=True, max_depth=40, max_features=sqrt, min_samples_leaf=1, min_samples_split=2, n_estimators=1400;, score=0.810 total time=15.1min\n",
      "[CV 2/3; 95/100] START bootstrap=False, max_depth=60, max_features=auto, min_samples_leaf=1, min_samples_split=5, n_estimators=1600\n",
      "[CV 2/3; 95/100] END bootstrap=False, max_depth=60, max_features=auto, min_samples_leaf=1, min_samples_split=5, n_estimators=1600;, score=0.804 total time=13.1min\n",
      "[CV 3/3; 4/100] START bootstrap=False, max_depth=20, max_features=auto, min_samples_leaf=2, min_samples_split=2, n_estimators=600\n",
      "[CV 3/3; 4/100] END bootstrap=False, max_depth=20, max_features=auto, min_samples_leaf=2, min_samples_split=2, n_estimators=600;, score=0.783 total time= 5.1min\n",
      "[CV 2/3; 11/100] START bootstrap=False, max_depth=70, max_features=sqrt, min_samples_leaf=4, min_samples_split=2, n_estimators=600\n",
      "[CV 2/3; 11/100] END bootstrap=False, max_depth=70, max_features=sqrt, min_samples_leaf=4, min_samples_split=2, n_estimators=600;, score=0.762 total time= 6.0min\n",
      "[CV 3/3; 13/100] START bootstrap=True, max_depth=50, max_features=auto, min_samples_leaf=4, min_samples_split=10, n_estimators=2000\n",
      "[CV 3/3; 13/100] END bootstrap=True, max_depth=50, max_features=auto, min_samples_leaf=4, min_samples_split=10, n_estimators=2000;, score=0.733 total time= 5.6min\n",
      "[CV 3/3; 15/100] START bootstrap=True, max_depth=110, max_features=sqrt, min_samples_leaf=2, min_samples_split=10, n_estimators=800\n",
      "[CV 3/3; 15/100] END bootstrap=True, max_depth=110, max_features=sqrt, min_samples_leaf=2, min_samples_split=10, n_estimators=800;, score=0.751 total time= 1.1min\n",
      "[CV 1/3; 17/100] START bootstrap=False, max_depth=80, max_features=auto, min_samples_leaf=2, min_samples_split=2, n_estimators=1800\n",
      "[CV 1/3; 17/100] END bootstrap=False, max_depth=80, max_features=auto, min_samples_leaf=2, min_samples_split=2, n_estimators=1800;, score=0.802 total time=20.3min\n",
      "[CV 2/3; 29/100] START bootstrap=False, max_depth=40, max_features=sqrt, min_samples_leaf=2, min_samples_split=10, n_estimators=1600\n",
      "[CV 2/3; 29/100] END bootstrap=False, max_depth=40, max_features=sqrt, min_samples_leaf=2, min_samples_split=10, n_estimators=1600;, score=0.772 total time=21.2min\n",
      "[CV 3/3; 39/100] START bootstrap=True, max_depth=40, max_features=sqrt, min_samples_leaf=4, min_samples_split=10, n_estimators=1400\n",
      "[CV 3/3; 39/100] END bootstrap=True, max_depth=40, max_features=sqrt, min_samples_leaf=4, min_samples_split=10, n_estimators=1400;, score=0.734 total time= 4.6min\n",
      "[CV 3/3; 44/100] START bootstrap=False, max_depth=30, max_features=sqrt, min_samples_leaf=1, min_samples_split=5, n_estimators=800\n",
      "[CV 3/3; 44/100] END bootstrap=False, max_depth=30, max_features=sqrt, min_samples_leaf=1, min_samples_split=5, n_estimators=800;, score=0.801 total time=12.2min\n",
      "[CV 2/3; 51/100] START bootstrap=True, max_depth=None, max_features=sqrt, min_samples_leaf=2, min_samples_split=10, n_estimators=1200\n",
      "[CV 2/3; 51/100] END bootstrap=True, max_depth=None, max_features=sqrt, min_samples_leaf=2, min_samples_split=10, n_estimators=1200;, score=0.750 total time= 6.5min\n",
      "[CV 2/3; 54/100] START bootstrap=True, max_depth=90, max_features=auto, min_samples_leaf=4, min_samples_split=10, n_estimators=800\n",
      "[CV 2/3; 54/100] END bootstrap=True, max_depth=90, max_features=auto, min_samples_leaf=4, min_samples_split=10, n_estimators=800;, score=0.734 total time=  28.6s\n",
      "[CV 3/3; 54/100] START bootstrap=True, max_depth=90, max_features=auto, min_samples_leaf=4, min_samples_split=10, n_estimators=800\n",
      "[CV 3/3; 54/100] END bootstrap=True, max_depth=90, max_features=auto, min_samples_leaf=4, min_samples_split=10, n_estimators=800;, score=0.730 total time=  33.6s\n",
      "[CV 1/3; 56/100] START bootstrap=True, max_depth=90, max_features=sqrt, min_samples_leaf=1, min_samples_split=2, n_estimators=800\n",
      "[CV 1/3; 56/100] END bootstrap=True, max_depth=90, max_features=sqrt, min_samples_leaf=1, min_samples_split=2, n_estimators=800;, score=0.819 total time= 5.6min\n",
      "[CV 1/3; 62/100] START bootstrap=False, max_depth=70, max_features=auto, min_samples_leaf=1, min_samples_split=2, n_estimators=400\n",
      "[CV 1/3; 62/100] END bootstrap=False, max_depth=70, max_features=auto, min_samples_leaf=1, min_samples_split=2, n_estimators=400;, score=0.815 total time= 6.7min\n",
      "[CV 2/3; 69/100] START bootstrap=False, max_depth=None, max_features=sqrt, min_samples_leaf=2, min_samples_split=5, n_estimators=1800\n",
      "[CV 2/3; 69/100] END bootstrap=False, max_depth=None, max_features=sqrt, min_samples_leaf=2, min_samples_split=5, n_estimators=1800;, score=0.787 total time=15.9min\n",
      "[CV 2/3; 77/100] START bootstrap=True, max_depth=100, max_features=auto, min_samples_leaf=1, min_samples_split=5, n_estimators=600\n",
      "[CV 2/3; 77/100] END bootstrap=True, max_depth=100, max_features=auto, min_samples_leaf=1, min_samples_split=5, n_estimators=600;, score=0.792 total time= 5.7min\n",
      "[CV 3/3; 83/100] START bootstrap=True, max_depth=40, max_features=sqrt, min_samples_leaf=1, min_samples_split=2, n_estimators=1400\n",
      "[CV 3/3; 83/100] END bootstrap=True, max_depth=40, max_features=sqrt, min_samples_leaf=1, min_samples_split=2, n_estimators=1400;, score=0.809 total time=17.9min\n",
      "[CV 1/3; 100/100] START bootstrap=False, max_depth=90, max_features=auto, min_samples_leaf=4, min_samples_split=2, n_estimators=1800\n",
      "[CV 1/3; 100/100] END bootstrap=False, max_depth=90, max_features=auto, min_samples_leaf=4, min_samples_split=2, n_estimators=1800;, score=0.767 total time= 9.4min\n",
      "[CV 2/3; 1/100] START bootstrap=True, max_depth=40, max_features=sqrt, min_samples_leaf=1, min_samples_split=10, n_estimators=400\n",
      "[CV 2/3; 1/100] END bootstrap=True, max_depth=40, max_features=sqrt, min_samples_leaf=1, min_samples_split=10, n_estimators=400;, score=0.760 total time= 2.8min\n",
      "[CV 3/3; 7/100] START bootstrap=False, max_depth=30, max_features=sqrt, min_samples_leaf=1, min_samples_split=5, n_estimators=2000\n",
      "[CV 3/3; 7/100] END bootstrap=False, max_depth=30, max_features=sqrt, min_samples_leaf=1, min_samples_split=5, n_estimators=2000;, score=0.804 total time=25.6min\n",
      "[CV 3/3; 20/100] START bootstrap=True, max_depth=None, max_features=sqrt, min_samples_leaf=2, min_samples_split=5, n_estimators=600\n",
      "[CV 3/3; 20/100] END bootstrap=True, max_depth=None, max_features=sqrt, min_samples_leaf=2, min_samples_split=5, n_estimators=600;, score=0.765 total time= 3.4min\n",
      "[CV 1/3; 22/100] START bootstrap=False, max_depth=110, max_features=auto, min_samples_leaf=2, min_samples_split=10, n_estimators=800\n",
      "[CV 1/3; 22/100] END bootstrap=False, max_depth=110, max_features=auto, min_samples_leaf=2, min_samples_split=10, n_estimators=800;, score=0.782 total time= 4.2min\n",
      "[CV 2/3; 26/100] START bootstrap=True, max_depth=110, max_features=auto, min_samples_leaf=4, min_samples_split=10, n_estimators=1800\n",
      "[CV 2/3; 26/100] END bootstrap=True, max_depth=110, max_features=auto, min_samples_leaf=4, min_samples_split=10, n_estimators=1800;, score=0.733 total time= 6.4min\n",
      "[CV 2/3; 30/100] START bootstrap=True, max_depth=30, max_features=sqrt, min_samples_leaf=4, min_samples_split=5, n_estimators=1400\n",
      "[CV 2/3; 30/100] END bootstrap=True, max_depth=30, max_features=sqrt, min_samples_leaf=4, min_samples_split=5, n_estimators=1400;, score=0.734 total time= 6.2min\n",
      "[CV 1/3; 34/100] START bootstrap=False, max_depth=80, max_features=sqrt, min_samples_leaf=2, min_samples_split=10, n_estimators=1200\n",
      "[CV 1/3; 34/100] END bootstrap=False, max_depth=80, max_features=sqrt, min_samples_leaf=2, min_samples_split=10, n_estimators=1200;, score=0.780 total time= 8.8min\n",
      "[CV 3/3; 38/100] START bootstrap=True, max_depth=100, max_features=sqrt, min_samples_leaf=4, min_samples_split=5, n_estimators=2000\n",
      "[CV 3/3; 38/100] END bootstrap=True, max_depth=100, max_features=sqrt, min_samples_leaf=4, min_samples_split=5, n_estimators=2000;, score=0.737 total time= 7.6min\n",
      "[CV 3/3; 42/100] START bootstrap=False, max_depth=100, max_features=auto, min_samples_leaf=1, min_samples_split=5, n_estimators=2000\n",
      "[CV 3/3; 42/100] END bootstrap=False, max_depth=100, max_features=auto, min_samples_leaf=1, min_samples_split=5, n_estimators=2000;, score=0.804 total time=23.3min\n",
      "[CV 3/3; 57/100] START bootstrap=False, max_depth=None, max_features=auto, min_samples_leaf=4, min_samples_split=2, n_estimators=200\n",
      "[CV 3/3; 57/100] END bootstrap=False, max_depth=None, max_features=auto, min_samples_leaf=4, min_samples_split=2, n_estimators=200;, score=0.755 total time= 1.3min\n",
      "[CV 3/3; 59/100] START bootstrap=False, max_depth=50, max_features=sqrt, min_samples_leaf=4, min_samples_split=2, n_estimators=600\n",
      "[CV 3/3; 59/100] END bootstrap=False, max_depth=50, max_features=sqrt, min_samples_leaf=4, min_samples_split=2, n_estimators=600;, score=0.754 total time= 3.4min\n",
      "[CV 2/3; 63/100] START bootstrap=False, max_depth=50, max_features=sqrt, min_samples_leaf=2, min_samples_split=10, n_estimators=400\n",
      "[CV 2/3; 63/100] END bootstrap=False, max_depth=50, max_features=sqrt, min_samples_leaf=2, min_samples_split=10, n_estimators=400;, score=0.773 total time=  58.9s\n",
      "[CV 3/3; 64/100] START bootstrap=True, max_depth=50, max_features=sqrt, min_samples_leaf=4, min_samples_split=5, n_estimators=800\n",
      "[CV 3/3; 64/100] END bootstrap=True, max_depth=50, max_features=sqrt, min_samples_leaf=4, min_samples_split=5, n_estimators=800;, score=0.738 total time= 1.6min\n",
      "[CV 2/3; 66/100] START bootstrap=False, max_depth=50, max_features=auto, min_samples_leaf=1, min_samples_split=5, n_estimators=1800\n",
      "[CV 2/3; 66/100] END bootstrap=False, max_depth=50, max_features=auto, min_samples_leaf=1, min_samples_split=5, n_estimators=1800;, score=0.802 total time=18.7min\n",
      "[CV 2/3; 75/100] START bootstrap=True, max_depth=70, max_features=auto, min_samples_leaf=1, min_samples_split=5, n_estimators=1800\n",
      "[CV 2/3; 75/100] END bootstrap=True, max_depth=70, max_features=auto, min_samples_leaf=1, min_samples_split=5, n_estimators=1800;, score=0.786 total time=20.8min\n",
      "[CV 1/3; 95/100] START bootstrap=False, max_depth=60, max_features=auto, min_samples_leaf=1, min_samples_split=5, n_estimators=1600\n",
      "[CV 1/3; 95/100] END bootstrap=False, max_depth=60, max_features=auto, min_samples_leaf=1, min_samples_split=5, n_estimators=1600;, score=0.807 total time=14.4min\n"
     ]
    }
   ],
   "source": [
    "plot_results(list(zip(results_random_forest['params'], results_random_forest['mean_test_score'])))"
   ]
  },
  {
   "cell_type": "code",
   "execution_count": 99,
   "id": "8003fb55-358d-4578-bef6-f482fb0c7f81",
   "metadata": {
    "tags": []
   },
   "outputs": [
    {
     "data": {
      "text/html": [
       "<div>\n",
       "<style scoped>\n",
       "    .dataframe tbody tr th:only-of-type {\n",
       "        vertical-align: middle;\n",
       "    }\n",
       "\n",
       "    .dataframe tbody tr th {\n",
       "        vertical-align: top;\n",
       "    }\n",
       "\n",
       "    .dataframe thead th {\n",
       "        text-align: right;\n",
       "    }\n",
       "</style>\n",
       "<table border=\"1\" class=\"dataframe\">\n",
       "  <thead>\n",
       "    <tr style=\"text-align: right;\">\n",
       "      <th></th>\n",
       "      <th>importance</th>\n",
       "      <th>feature</th>\n",
       "    </tr>\n",
       "  </thead>\n",
       "  <tbody>\n",
       "    <tr>\n",
       "      <th>0</th>\n",
       "      <td>0.602823</td>\n",
       "      <td>num_actions_per_week</td>\n",
       "    </tr>\n",
       "    <tr>\n",
       "      <th>1</th>\n",
       "      <td>0.020446</td>\n",
       "      <td>eng_score</td>\n",
       "    </tr>\n",
       "    <tr>\n",
       "      <th>2</th>\n",
       "      <td>0.136884</td>\n",
       "      <td>FDH</td>\n",
       "    </tr>\n",
       "    <tr>\n",
       "      <th>3</th>\n",
       "      <td>0.148872</td>\n",
       "      <td>FWH</td>\n",
       "    </tr>\n",
       "    <tr>\n",
       "      <th>4</th>\n",
       "      <td>0.090975</td>\n",
       "      <td>FWD</td>\n",
       "    </tr>\n",
       "  </tbody>\n",
       "</table>\n",
       "</div>"
      ],
      "text/plain": [
       "   importance               feature\n",
       "0    0.602823  num_actions_per_week\n",
       "1    0.020446             eng_score\n",
       "2    0.136884                   FDH\n",
       "3    0.148872                   FWH\n",
       "4    0.090975                   FWD"
      ]
     },
     "execution_count": 99,
     "metadata": {},
     "output_type": "execute_result"
    }
   ],
   "source": [
    "# Create a Gaussian Classifier\n",
    "clf_random_forest = RandomForestClassifier(n_estimators=400, min_samples_split=2, min_samples_leaf=1, max_features='auto', max_depth=70, bootstrap=False)\n",
    "\n",
    "# Train the model using the training sets y_pred=clf.predict(X_test)\n",
    "clf_random_forest.fit(X_train, y_train_b)\n",
    "\n",
    "# Predict the label for the test dataset\n",
    "y_pred_random_forest_hyperparameters_tuned = clf_random_forest.predict(X_test)\n",
    "feature_imp = pd.DataFrame(zip(clf_random_forest.feature_importances_, ['num_actions_per_week', 'eng_score', 'FDH', 'FWH', 'FWD', 'num_weeks_on', 'week']))\n",
    "feature_imp = feature_imp.rename(columns = {0:'importance', 1:'feature'})\n",
    "feature_imp"
   ]
  },
  {
   "cell_type": "code",
   "execution_count": 100,
   "id": "17ce2d6d-8fce-4714-8783-1b6121906fd3",
   "metadata": {},
   "outputs": [
    {
     "data": {
      "image/png": "[encoded data removed]",
      "text/plain": [
       "<Figure size 432x288 with 1 Axes>"
      ]
     },
     "metadata": {
      "needs_background": "light"
     },
     "output_type": "display_data"
    }
   ],
   "source": [
    "ax = feature_imp.plot.barh(x='feature', y='importance', rot=0)"
   ]
  },
  {
   "cell_type": "markdown",
   "id": "dd3543c9-7bfd-46b3-97a4-36eddc352edf",
   "metadata": {},
   "source": [
    "Building the AdaBoost Model with hyperparameter tunning:"
   ]
  },
  {
   "cell_type": "code",
   "execution_count": 39,
   "id": "97aae541-a432-4fcf-a48b-d9edea16a94c",
   "metadata": {},
   "outputs": [
    {
     "name": "stdout",
     "output_type": "stream",
     "text": [
      "Parameters currently in use:\n",
      "\n",
      "{'algorithm': 'SAMME.R',\n",
      " 'base_estimator': None,\n",
      " 'learning_rate': 1.0,\n",
      " 'n_estimators': 50,\n",
      " 'random_state': None}\n"
     ]
    }
   ],
   "source": [
    "clf = AdaBoostClassifier()\n",
    "\n",
    "# Look at the parameters used by default by our current Decision Tree Classifier:\n",
    "print('Parameters currently in use:\\n')\n",
    "pprint(clf.get_params())"
   ]
  },
  {
   "cell_type": "code",
   "execution_count": 40,
   "id": "02500c8b-c71a-4eee-8990-5e04ed3c8925",
   "metadata": {},
   "outputs": [
    {
     "name": "stdout",
     "output_type": "stream",
     "text": [
      "{'learning_rate': [0.0,\n",
      "                   0.1,\n",
      "                   0.2,\n",
      "                   0.30000000000000004,\n",
      "                   0.4,\n",
      "                   0.5,\n",
      "                   0.6000000000000001,\n",
      "                   0.7000000000000001,\n",
      "                   0.8,\n",
      "                   0.9,\n",
      "                   1.0],\n",
      " 'n_estimators': [200, 400, 600, 800, 1000, 1200, 1400, 1600, 1800, 2000]}\n"
     ]
    }
   ],
   "source": [
    "# Number of estimators\n",
    "n_estimators = [int(x) for x in np.linspace(start = 200, stop = 2000, num = 10)]\n",
    "# Learning rate\n",
    "learning = [x for x in np.linspace(0, 1, num = 11)]\n",
    "# Create the random grid\n",
    "random_grid = {'n_estimators': n_estimators,\n",
    "               'learning_rate': learning}\n",
    "pprint(random_grid)"
   ]
  },
  {
   "cell_type": "code",
   "execution_count": null,
   "id": "e709dfd6-df96-45a8-9d1d-2f0c66ff560d",
   "metadata": {
    "tags": []
   },
   "outputs": [
    {
     "name": "stdout",
     "output_type": "stream",
     "text": [
      "Fitting 3 folds for each of 100 candidates, totalling 300 fits\n"
     ]
    }
   ],
   "source": [
    "# Use the random grid to search for best hyperparameters\n",
    "# First create the base model to tune\n",
    "clf = AdaBoostClassifier()\n",
    "# Random search of parameters, using 3 fold cross validation, \n",
    "# search across 100 different combinations, and use all available cores\n",
    "clf_random = RandomizedSearchCV(estimator = clf, param_distributions = random_grid, scoring = metrics.make_scorer(metrics.accuracy_score), n_iter = 100, cv = 3, verbose=2, random_state=seed, n_jobs = -1)# Fit the random search model\n",
    "clf_random.fit(X_train, y_train_b)"
   ]
  },
  {
   "cell_type": "code",
   "execution_count": 45,
   "id": "71c2683b-d5c3-4921-8456-542397cc0894",
   "metadata": {},
   "outputs": [
    {
     "data": {
      "text/plain": [
       "{'n_estimators': 1200, 'learning_rate': 0.8}"
      ]
     },
     "execution_count": 45,
     "metadata": {},
     "output_type": "execute_result"
    }
   ],
   "source": [
    "clf_random.best_params_"
   ]
  },
  {
   "cell_type": "code",
   "execution_count": 46,
   "id": "7cc41a3b-4212-4a6d-aa17-d1565190ac23",
   "metadata": {},
   "outputs": [],
   "source": [
    "results_adaboost = clf_random.cv_results_"
   ]
  },
  {
   "cell_type": "code",
   "execution_count": 47,
   "id": "8388b0bc-fb68-414e-9890-12c601e3ca53",
   "metadata": {},
   "outputs": [
    {
     "data": {
      "image/png": "[encoded data removed]",
      "text/plain": [
       "<Figure size 1440x360 with 1 Axes>"
      ]
     },
     "metadata": {
      "needs_background": "light"
     },
     "output_type": "display_data"
    }
   ],
   "source": [
    "plot_results(list(zip(results_adaboost['params'], results_adaboost['mean_test_score'])))"
   ]
  },
  {
   "cell_type": "code",
   "execution_count": 48,
   "id": "baf695a9-4cfb-4a90-abed-fd99eac3fb92",
   "metadata": {},
   "outputs": [],
   "source": [
    "# Create Adaboost classifer object\n",
    "abc = AdaBoostClassifier(n_estimators=1200, learning_rate=0.8, base_estimator=None)\n",
    "\n",
    "# Train Adaboost Classifer\n",
    "model = abc.fit(X_train, y_train_b)\n",
    "\n",
    "# Predict the label for test dataset\n",
    "y_pred_ada_boost_hyperparameters_tuned = model.predict(X_test)"
   ]
  },
  {
   "cell_type": "markdown",
   "id": "4eee512a-87d3-47f5-ada6-79f578c1463f",
   "metadata": {},
   "source": [
    "### With clustering:"
   ]
  },
  {
   "cell_type": "markdown",
   "id": "d80bb28e-c9dd-40de-9cf6-19f0308e7243",
   "metadata": {},
   "source": [
    "Computing the models for the math clusters:"
   ]
  },
  {
   "cell_type": "code",
   "execution_count": null,
   "id": "c3ddbbf8-c79d-4243-8873-adf35298db8b",
   "metadata": {},
   "outputs": [],
   "source": [
    "# MATH cluster 0\n",
    "y_pred_decision_tree_math_0 = predict_decision_tree(X_train_math_0, y_train_math_0_b, X_test_math_0)\n",
    "y_pred_random_forest_math_0 = predict_random_forest(X_train_math_0, y_train_math_0_b, X_test_math_0)\n",
    "y_pred_ada_boost_math_0 = predict_adaboost(X_train_math_0, y_train_math_0_b, X_test_math_0)"
   ]
  },
  {
   "cell_type": "code",
   "execution_count": null,
   "id": "03cc2ce2-dbec-43c5-b60d-ed543ba88bac",
   "metadata": {},
   "outputs": [],
   "source": [
    "# MATH cluster 1\n",
    "y_pred_decision_tree_math_1 = predict_decision_tree(X_train_math_1, y_train_math_1_b, X_test_math_1)\n",
    "y_pred_random_forest_math_1 = predict_random_forest(X_train_math_1, y_train_math_1_b, X_test_math_1)\n",
    "y_pred_ada_boost_math_1 = predict_adaboost(X_train_math_1, y_train_math_1_b, X_test_math_1)"
   ]
  },
  {
   "cell_type": "markdown",
   "id": "461f4eef-6b58-42a3-b679-3e3ebdacc362",
   "metadata": {},
   "source": [
    "Computing the models for the german clusters:"
   ]
  },
  {
   "cell_type": "code",
   "execution_count": null,
   "id": "9eed2d6d-b635-4cba-b195-043e2762013e",
   "metadata": {},
   "outputs": [],
   "source": [
    "# GERMAN cluster 0\n",
    "y_pred_decision_tree_german_0 = predict_decision_tree(X_train_german_0, y_train_german_0_b, X_test_german_0)\n",
    "y_pred_random_forest_german_0 = predict_random_forest(X_train_german_0, y_train_german_0_b, X_test_german_0)\n",
    "y_pred_ada_boost_german_0 = predict_adaboost(X_train_german_0, y_train_german_0_b, X_test_german_0)"
   ]
  },
  {
   "cell_type": "code",
   "execution_count": null,
   "id": "4737b757-651a-429e-829e-c8a2de612e3e",
   "metadata": {},
   "outputs": [],
   "source": [
    "# GERMAN cluster 1\n",
    "y_pred_decision_tree_german_1 = predict_decision_tree(X_train_german_1, y_train_german_1_b, X_test_german_1)\n",
    "y_pred_random_forest_german_1 = predict_random_forest(X_train_german_1, y_train_german_1_b, X_test_german_1)\n",
    "y_pred_ada_boost_german_1 = predict_adaboost(X_train_german_1, y_train_german_1_b, X_test_german_1)"
   ]
  },
  {
   "cell_type": "markdown",
   "id": "35310682-4c54-4a29-a08d-fe2029766adb",
   "metadata": {},
   "source": [
    "## Model Evaluation"
   ]
  },
  {
   "cell_type": "markdown",
   "id": "f8539161-e3f6-4a2f-80b8-a50513c726df",
   "metadata": {},
   "source": [
    "Calculating model accuracy score:"
   ]
  },
  {
   "cell_type": "code",
   "execution_count": 102,
   "id": "737d49a2-e17c-4d76-ae7d-3b8a7f1e5ef3",
   "metadata": {},
   "outputs": [
    {
     "name": "stdout",
     "output_type": "stream",
     "text": [
      "Accuracy with the Decision Tree Classifier: 0.6358191075172207\n"
     ]
    }
   ],
   "source": [
    "print(\"Accuracy with the Decision Tree Classifier:\", metrics.accuracy_score(y_test, y_pred_decision_tree))"
   ]
  },
  {
   "cell_type": "code",
   "execution_count": 103,
   "id": "2ce30ee5-33da-40a8-84d0-a53c7ff453ac",
   "metadata": {},
   "outputs": [
    {
     "name": "stdout",
     "output_type": "stream",
     "text": [
      "Accuracy with the Decision Tree Classifier (with hyperparameters tuned): 0.6211440551063192\n"
     ]
    }
   ],
   "source": [
    "print(\"Accuracy with the Decision Tree Classifier (with hyperparameters tuned):\", metrics.accuracy_score(y_test, y_pred_decision_tree_hyperparameters_tuned))"
   ]
  },
  {
   "cell_type": "code",
   "execution_count": 104,
   "id": "2341b6ec-b450-411a-bd91-ee9b5be366a6",
   "metadata": {},
   "outputs": [
    {
     "name": "stdout",
     "output_type": "stream",
     "text": [
      "Accuracy with the Random Forest Classifier: 0.6451033243486074\n"
     ]
    }
   ],
   "source": [
    "print(\"Accuracy with the Random Forest Classifier:\", metrics.accuracy_score(y_test, y_pred_random_forest))"
   ]
  },
  {
   "cell_type": "code",
   "execution_count": 105,
   "id": "86ae3d50-9c24-4a6a-8c9c-526f0120f18e",
   "metadata": {},
   "outputs": [
    {
     "name": "stdout",
     "output_type": "stream",
     "text": [
      "Accuracy with the Random Forest Classifier (with hyperparameters tuned): 0.6504941599281222\n"
     ]
    }
   ],
   "source": [
    "print(\"Accuracy with the Random Forest Classifier (with hyperparameters tuned):\", metrics.accuracy_score(y_test, y_pred_random_forest_hyperparameters_tuned))"
   ]
  },
  {
   "cell_type": "code",
   "execution_count": 53,
   "id": "0d4967c6-4029-42a5-bc1c-7a7b8f2bbdf3",
   "metadata": {},
   "outputs": [
    {
     "name": "stdout",
     "output_type": "stream",
     "text": [
      "Accuracy with the Ada Boost Classifier: 1.0\n"
     ]
    }
   ],
   "source": [
    "print(\"Accuracy with the Ada Boost Classifier:\", metrics.accuracy_score(y_test, y_pred_ada_boost))"
   ]
  },
  {
   "cell_type": "code",
   "execution_count": 54,
   "id": "33bba26b-fbee-454a-b2f3-bfa182dc410d",
   "metadata": {},
   "outputs": [
    {
     "name": "stdout",
     "output_type": "stream",
     "text": [
      "Accuracy with the Ada Boost Classifier (with hyperparameters tuned): 1.0\n"
     ]
    }
   ],
   "source": [
    "print(\"Accuracy with the Ada Boost Classifier (with hyperparameters tuned):\", metrics.accuracy_score(y_test, y_pred_ada_boost_hyperparameters_tuned))"
   ]
  },
  {
   "cell_type": "markdown",
   "id": "616b2e9f-3bfc-4b6b-879a-e1ce641a72f3",
   "metadata": {},
   "source": [
    "Calculating accuracy score cluster math 0:"
   ]
  },
  {
   "cell_type": "code",
   "execution_count": null,
   "id": "54573a22-e6a5-4f4e-8737-9ecd0f42e34c",
   "metadata": {},
   "outputs": [],
   "source": [
    "print(\"Accuracy with the Decision Tree Classifier Cluster Math 0:\", metrics.accuracy_score(y_test_math_0, y_pred_decision_tree_math_0))"
   ]
  },
  {
   "cell_type": "code",
   "execution_count": null,
   "id": "67bb3acf-8cb0-41b5-9765-6ab580929489",
   "metadata": {},
   "outputs": [],
   "source": [
    "print(\"Accuracy with the Random Forest Classifier Cluster Math 0:\", metrics.accuracy_score(y_test_math_0, y_pred_random_forest_math_0))"
   ]
  },
  {
   "cell_type": "code",
   "execution_count": null,
   "id": "c7052e21-c862-4b55-9b7c-27ffbc6764af",
   "metadata": {},
   "outputs": [],
   "source": [
    "print(\"Accuracy with the Ada Boost Classifier Cluster Math 0:\", metrics.accuracy_score(y_test_math_0, y_pred_ada_boost_math_0))"
   ]
  },
  {
   "cell_type": "markdown",
   "id": "557c7ad0-13a2-458d-994a-772641512a5e",
   "metadata": {},
   "source": [
    "Calculating accuracy score cluster math 1:"
   ]
  },
  {
   "cell_type": "code",
   "execution_count": null,
   "id": "943c8c3c-c42d-48d7-b91f-d1b5154bfd1c",
   "metadata": {},
   "outputs": [],
   "source": [
    "print(\"Accuracy with the Decision Tree Classifier Cluster Math 1:\", metrics.accuracy_score(y_test_math_1, y_pred_decision_tree_math_1))"
   ]
  },
  {
   "cell_type": "code",
   "execution_count": null,
   "id": "ab8e6a51-d51a-4f07-a7f6-3df692778f41",
   "metadata": {},
   "outputs": [],
   "source": [
    "print(\"Accuracy with the Random Forest Classifier Cluster Math 1:\", metrics.accuracy_score(y_test_math_1, y_pred_random_forest_math_1))"
   ]
  },
  {
   "cell_type": "code",
   "execution_count": null,
   "id": "57dde97b-4719-4dcc-afb9-37b5b6dfd0e7",
   "metadata": {},
   "outputs": [],
   "source": [
    "print(\"Accuracy with the Ada Boost Classifier Cluster Math 0:\", metrics.accuracy_score(y_test_math_0, y_pred_ada_boost_math_0))"
   ]
  },
  {
   "cell_type": "markdown",
   "id": "fbc6074a-28f2-451b-8938-2d4f5c72937c",
   "metadata": {},
   "source": [
    "Calculating accuracy score cluster german 0:"
   ]
  },
  {
   "cell_type": "code",
   "execution_count": null,
   "id": "5de412a7-ea4e-4d37-88fd-26f14cd42d03",
   "metadata": {},
   "outputs": [],
   "source": [
    "print(\"Accuracy with the Decision Tree Classifier Cluster German 0:\", metrics.accuracy_score(y_test_german_0, y_pred_decision_tree_german_0))"
   ]
  },
  {
   "cell_type": "code",
   "execution_count": null,
   "id": "d721267f-ecb4-4a0d-a55e-fa0ff6bb0f42",
   "metadata": {},
   "outputs": [],
   "source": [
    "print(\"Accuracy with the Random Forest Classifier Cluster German 0:\", metrics.accuracy_score(y_test_german_0, y_pred_random_forest_german_0))"
   ]
  },
  {
   "cell_type": "code",
   "execution_count": null,
   "id": "1c69f0ce-51cb-419c-a4c7-a4e9e680fda7",
   "metadata": {},
   "outputs": [],
   "source": [
    "print(\"Accuracy with the Ada Boost Classifier Cluster German 0:\", metrics.accuracy_score(y_test_german_0, y_pred_ada_boost_german_0))"
   ]
  },
  {
   "cell_type": "markdown",
   "id": "f1304ae4-4b20-4647-a66c-c0f9cbe8000e",
   "metadata": {},
   "source": [
    "Calculating accuracy score cluster german 1:"
   ]
  },
  {
   "cell_type": "code",
   "execution_count": null,
   "id": "0f705388-9ea4-4f14-8a68-c42a4742432d",
   "metadata": {},
   "outputs": [],
   "source": [
    "print(\"Accuracy with the Decision Tree Classifier Cluster German 1:\", metrics.accuracy_score(y_test_german_1, y_pred_decision_tree_german_1))"
   ]
  },
  {
   "cell_type": "code",
   "execution_count": null,
   "id": "17fbfaad-24dc-41d8-b6ee-57cb603c7b8a",
   "metadata": {},
   "outputs": [],
   "source": [
    "print(\"Accuracy with the Random Forest Classifier Cluster German 1:\", metrics.accuracy_score(y_test_german_1, y_pred_random_forest_german_1))"
   ]
  },
  {
   "cell_type": "code",
   "execution_count": null,
   "id": "cf950eba-e50c-43a2-8a64-70d3a5684d39",
   "metadata": {},
   "outputs": [],
   "source": [
    "print(\"Accuracy with the Ada Boost Classifier Cluster German 1:\", metrics.accuracy_score(y_test_german_1, y_pred_ada_boost_german_1))"
   ]
  },
  {
   "cell_type": "markdown",
   "id": "29f550f6-3dbb-4f90-8532-d16e13472f6f",
   "metadata": {},
   "source": [
    "#### Utils:"
   ]
  },
  {
   "cell_type": "code",
   "execution_count": 106,
   "id": "310e687a-579c-45bd-845f-71ee5722bae5",
   "metadata": {},
   "outputs": [],
   "source": [
    "def get_metrics_dict(y_true, y_pred, report = True, target_names=['Failed', 'Passed']):\n",
    "    \"\"\"\n",
    "    Prints a classification report and \n",
    "    computes the following set of binary classification metrics:\n",
    "    - 'accuracy'\n",
    "    - 'balanced_accuracy': accuracy taking class balance into account,\n",
    "    - 'adjusted_balanced_accuracy' : balanced accuracy accounting for chance in classification\n",
    "    - 'f1'\n",
    "    - 'f1_weighted' : F1 score weighted by classes support,\n",
    "    - 'matthews' : matthews binary classification correlation coefficient.\n",
    "    \"\"\"\n",
    "    scores={}\n",
    "    \n",
    "    if report:\n",
    "        print(metrics.classification_report(y_true, y_pred, target_names=target_names))\n",
    "\n",
    "    scores['accuracy'] = metrics.accuracy_score(y_true, y_pred)\n",
    "\n",
    "    scores['balanced_accuracy'] = metrics.balanced_accuracy_score(y_true, y_pred)\n",
    "    \n",
    "    scores['adjusted_balanced_accuracy'] = metrics.balanced_accuracy_score(y_true, y_pred, adjusted=True)\n",
    "\n",
    "    scores['f1'] = metrics.f1_score(y_true, y_pred)\n",
    "\n",
    "    scores['f1_weighted'] = metrics.f1_score(y_true, y_pred, average='weighted')\n",
    "\n",
    "    scores['matthews'] = metrics.matthews_corrcoef(y_true, y_pred)\n",
    "    \n",
    "    return scores"
   ]
  },
  {
   "cell_type": "code",
   "execution_count": 107,
   "id": "596fe823-233f-4f91-b0b9-af940e05974a",
   "metadata": {},
   "outputs": [],
   "source": [
    "def analyze_val_scores(results, y_true, title):\n",
    "    \"\"\"\n",
    "    Analyzes all the input results across various metrics.\n",
    "    'results' is expected to be of shape [ (n_samples, y_pred) ].\n",
    "    \"\"\"\n",
    "    print(\"\\n\"+title)\n",
    "    \n",
    "    n_samples = []\n",
    "    metrics_dicts = []\n",
    "    \n",
    "    # sorting results array\n",
    "    results = np.array(sorted(results, key=lambda x : x[0]), dtype=object)\n",
    "    \n",
    "    # Creating all the metrics\n",
    "    for _n_samples, y_pred in results:\n",
    "        _y_true = y_true[:len(y_pred)]\n",
    "        \n",
    "        n_samples.append(_n_samples)\n",
    "        metrics_dicts.append(get_metrics_dict(y_true, y_pred, report=False))\n",
    "    \n",
    "    # Plotting F1 & accuracy across samples\n",
    "    fig, axes = plt.subplots(1, 2, figsize=(15,5))\n",
    "    \n",
    "    for i, m in enumerate(['f1', 'accuracy']):\n",
    "        ax = axes[i]\n",
    "        y = [d[m] for d in metrics_dicts]\n",
    "        x = n_samples\n",
    "        \n",
    "        ax.plot(x, y)\n",
    "        ax.set_xlabel('Number of samples used to train classifier.')\n",
    "        ylabel = 'Accuracy' if m=='accuracy' else 'F1-score'\n",
    "        ax.set_ylabel(ylabel)\n",
    "        \n",
    "    plt.show()\n",
    "    \n",
    "    ## Creating table\n",
    "    \n",
    "    # Creating all columns and columns length (min 6, max length of title)\n",
    "    ms = list(metrics_dicts[0].keys())\n",
    "    ms = [(m, max(len(m), 6)) for m in ms]\n",
    "    \n",
    "    # Printing table's first line\n",
    "    print()\n",
    "    print(f\"{'':9s}|\" + \"|\".join([ m for m, l in ms ]) )\n",
    "    \n",
    "    # For each n_sample, print all metric values\n",
    "    for _n_samples, d in zip(n_samples, metrics_dicts):\n",
    "        line = f\"{_n_samples:9.0f}|\"\n",
    "        \n",
    "        _ms = [f\"{d[m]:6.3f}\" for m, l in ms]\n",
    "        line = line + \"|\".join(_ms)\n",
    "        \n",
    "        print(line)"
   ]
  },
  {
   "cell_type": "code",
   "execution_count": 108,
   "id": "93def60b-c112-463b-a017-f50e8cb67912",
   "metadata": {},
   "outputs": [],
   "source": [
    "# Train a classifier for an increasing number of samples to tackle infeasibility due to quadratic scaling\n",
    "\n",
    "def training(classifier_type, X_train, y_train, X_test):\n",
    "    n_samples = np.array([int(x) for x in np.linspace(10, len(y_train))])\n",
    "    n_samples = [s for s in n_samples if s < 1000]\n",
    "    print(f\"INFO: Going up to {n_samples[-1]} samples.\")\n",
    "    validations = []\n",
    "\n",
    "    for _n_samples in n_samples:\n",
    "        print(f\"Training with {_n_samples} samples...\")\n",
    "\n",
    "        x, y = resample(X_train, y_train, random_state=seed, n_samples=_n_samples)\n",
    "        y = np.array(y).ravel()\n",
    "\n",
    "        if classifier_type == 'decision_tree':\n",
    "            clf = DecisionTreeClassifier(min_samples_split=2, min_samples_leaf=1, max_features='sqrt', max_depth=80)\n",
    "            clf.fit(x, y)\n",
    "            _validation = clf.predict(X_test)\n",
    "        elif classifier_type == 'random_forest':\n",
    "            clf = RandomForestClassifier(n_estimators=400, min_samples_split=2, min_samples_leaf=1, max_features='auto', max_depth=70, bootstrap=False)\n",
    "            clf.fit(x, y)\n",
    "            _validation = clf.predict(X_test)\n",
    "        else:\n",
    "            abc = AdaBoostClassifier(n_estimators=1200, learning_rate=0.8)\n",
    "            model = abc.fit(x, y)\n",
    "            _validation = model.predict(X_test)\n",
    "\n",
    "        validations.append((_n_samples, _validation))\n",
    "        print(f\"Done!\")\n",
    "    return validations"
   ]
  },
  {
   "cell_type": "code",
   "execution_count": 109,
   "id": "6d706ffa-e692-4335-a072-a060a40c55c8",
   "metadata": {},
   "outputs": [
    {
     "name": "stdout",
     "output_type": "stream",
     "text": [
      "INFO: Going up to 962 samples.\n",
      "Training with 10 samples...\n",
      "Done!\n",
      "Training with 168 samples...\n",
      "Done!\n",
      "Training with 327 samples...\n",
      "Done!\n",
      "Training with 486 samples...\n",
      "Done!\n",
      "Training with 644 samples...\n",
      "Done!\n",
      "Training with 803 samples...\n",
      "Done!\n",
      "Training with 962 samples...\n",
      "Done!\n",
      "\n",
      "Classification using DecisionTreeClassifier (no clustering)\n"
     ]
    },
    {
     "data": {
      "image/png": "[encoded data removed]",
      "text/plain": [
       "<Figure size 1080x360 with 2 Axes>"
      ]
     },
     "metadata": {
      "needs_background": "light"
     },
     "output_type": "display_data"
    },
    {
     "name": "stdout",
     "output_type": "stream",
     "text": [
      "\n",
      "         |accuracy|balanced_accuracy|adjusted_balanced_accuracy|f1|f1_weighted|matthews\n",
      "       10| 0.540| 0.544| 0.089| 0.632| 0.567| 0.078\n",
      "      168| 0.571| 0.552| 0.104| 0.670| 0.595| 0.092\n",
      "      327| 0.544| 0.531| 0.063| 0.643| 0.571| 0.055\n",
      "      486| 0.559| 0.559| 0.119| 0.652| 0.586| 0.105\n",
      "      644| 0.558| 0.563| 0.127| 0.648| 0.584| 0.112\n",
      "      803| 0.554| 0.547| 0.093| 0.650| 0.580| 0.082\n",
      "      962| 0.546| 0.543| 0.085| 0.640| 0.573| 0.075\n"
     ]
    }
   ],
   "source": [
    "validations_decision_tree = training('decision_tree', X_train, y_train_b, X_test)\n",
    "analyze_val_scores(validations_decision_tree, y_test, \"Classification using DecisionTreeClassifier (no clustering)\")"
   ]
  },
  {
   "cell_type": "code",
   "execution_count": 111,
   "id": "da2a525a-dca2-448a-ac7f-5a04a2644e60",
   "metadata": {},
   "outputs": [
    {
     "name": "stdout",
     "output_type": "stream",
     "text": [
      "INFO: Going up to 962 samples.\n",
      "Training with 10 samples...\n",
      "Done!\n",
      "Training with 168 samples...\n",
      "Done!\n",
      "Training with 327 samples...\n",
      "Done!\n",
      "Training with 486 samples...\n",
      "Done!\n",
      "Training with 644 samples...\n",
      "Done!\n",
      "Training with 803 samples...\n",
      "Done!\n",
      "Training with 962 samples...\n",
      "Done!\n",
      "\n",
      "Classification using RandomForestClassifier (no clustering)\n"
     ]
    },
    {
     "data": {
      "image/png": "[encoded data removed]",
      "text/plain": [
       "<Figure size 1080x360 with 2 Axes>"
      ]
     },
     "metadata": {
      "needs_background": "light"
     },
     "output_type": "display_data"
    },
    {
     "name": "stdout",
     "output_type": "stream",
     "text": [
      "\n",
      "         |accuracy|balanced_accuracy|adjusted_balanced_accuracy|f1|f1_weighted|matthews\n",
      "       10| 0.593| 0.556| 0.112| 0.697| 0.614| 0.101\n",
      "      168| 0.590| 0.568| 0.136| 0.688| 0.613| 0.122\n",
      "      327| 0.566| 0.561| 0.123| 0.659| 0.591| 0.109\n",
      "      486| 0.579| 0.560| 0.121| 0.677| 0.603| 0.107\n",
      "      644| 0.565| 0.557| 0.114| 0.660| 0.590| 0.101\n",
      "      803| 0.580| 0.561| 0.121| 0.678| 0.604| 0.108\n",
      "      962| 0.562| 0.552| 0.103| 0.659| 0.588| 0.091\n"
     ]
    }
   ],
   "source": [
    "validations_random_forest = training('random_forest', X_train, y_train_b, X_test)\n",
    "analyze_val_scores(validations_random_forest, y_test, \"Classification using RandomForestClassifier (no clustering)\")"
   ]
  },
  {
   "cell_type": "code",
   "execution_count": 61,
   "id": "34cbb635-30ab-4b14-96b8-6604bf43841c",
   "metadata": {},
   "outputs": [
    {
     "name": "stdout",
     "output_type": "stream",
     "text": [
      "INFO: Going up to 962 samples.\n",
      "Training with 10 samples...\n",
      "Done!\n",
      "Training with 168 samples...\n",
      "Done!\n",
      "Training with 327 samples...\n",
      "Done!\n",
      "Training with 486 samples...\n",
      "Done!\n",
      "Training with 644 samples...\n",
      "Done!\n",
      "Training with 803 samples...\n",
      "Done!\n",
      "Training with 962 samples...\n",
      "Done!\n",
      "\n",
      "Classification using AdaBoostClassifier (no clustering)\n"
     ]
    },
    {
     "data": {
      "image/png": "[encoded data removed]",
      "text/plain": [
       "<Figure size 1080x360 with 2 Axes>"
      ]
     },
     "metadata": {
      "needs_background": "light"
     },
     "output_type": "display_data"
    },
    {
     "name": "stdout",
     "output_type": "stream",
     "text": [
      "\n",
      "         |accuracy|balanced_accuracy|adjusted_balanced_accuracy|f1|f1_weighted|matthews\n",
      "       10| 0.890| 0.926| 0.851| 0.920| 0.895| 0.775\n",
      "      168| 0.990| 0.993| 0.986| 0.993| 0.990| 0.974\n",
      "      327| 1.000| 1.000| 1.000| 1.000| 1.000| 1.000\n",
      "      486| 1.000| 1.000| 1.000| 1.000| 1.000| 1.000\n",
      "      644| 1.000| 1.000| 1.000| 1.000| 1.000| 1.000\n",
      "      803| 1.000| 1.000| 1.000| 1.000| 1.000| 1.000\n",
      "      962| 1.000| 1.000| 1.000| 1.000| 1.000| 1.000\n"
     ]
    }
   ],
   "source": [
    "validations_adaboost = training('adaboost', X_train, y_train_b, X_test)\n",
    "analyze_val_scores(validations_adaboost, y_test, \"Classification using AdaBoostClassifier (no clustering)\")"
   ]
  },
  {
   "cell_type": "markdown",
   "id": "f6cd3134-ff4e-421a-a65d-8cdec8096904",
   "metadata": {},
   "source": [
    "Cluster math 0:"
   ]
  },
  {
   "cell_type": "code",
   "execution_count": null,
   "id": "95e9bc79-9fba-4f40-9975-8646ec1e090b",
   "metadata": {},
   "outputs": [],
   "source": [
    "validations_decision_tree_math_0 = training('decision_tree', X_train_math_0, y_train_math_0_b, X_test_math_0)\n",
    "analyze_val_scores(validations_decision_tree_math_0, y_test_math_0, \"Classification using DecisionTreeClassifier (cluster math 0)\")"
   ]
  },
  {
   "cell_type": "code",
   "execution_count": null,
   "id": "8938c051-575c-4bcb-9f4b-9f6a6ff43f39",
   "metadata": {},
   "outputs": [],
   "source": [
    "validations_random_forest_math_0 = training('random_forest', X_train_math_0, y_train_math_0_b, X_test_math_0)\n",
    "analyze_val_scores(validations_random_forest_math_0, y_test_math_0, \"Classification using RandomForestClassifier (cluster math 0)\")"
   ]
  },
  {
   "cell_type": "code",
   "execution_count": null,
   "id": "80128e9a-f3ec-4814-ad9f-ef6de2df0ff8",
   "metadata": {},
   "outputs": [],
   "source": [
    "validations_adaboost_math_0 = training('adaboost', X_train_math_0, y_train_math_0_b, X_test_math_0)\n",
    "analyze_val_scores(validations_adaboost_math_0, y_test_math_0, \"Classification using AdaBoostClassifier (cluster math 0)\")"
   ]
  },
  {
   "cell_type": "markdown",
   "id": "05b0c485-4e77-4d67-ad41-c6a9ee03918d",
   "metadata": {},
   "source": [
    "Cluster math 1:"
   ]
  },
  {
   "cell_type": "code",
   "execution_count": null,
   "id": "ee78ca8c-5b9b-44a6-a495-aa86ef5b5bd3",
   "metadata": {},
   "outputs": [],
   "source": [
    "validations_decision_tree_math_1 = training('decision_tree', X_train_math_1, y_train_math_1_b, X_test_math_1)\n",
    "analyze_val_scores(validations_decision_tree_math_1, y_test_math_1, \"Classification using DecisionTreeClassifier (cluster math 1)\")"
   ]
  },
  {
   "cell_type": "code",
   "execution_count": null,
   "id": "b9ecbebc-0f27-486b-8223-ae0f23254a6a",
   "metadata": {},
   "outputs": [],
   "source": [
    "validations_random_forest_math_1 = training('random_forest', X_train_math_1, y_train_math_1_b, X_test_math_1)\n",
    "analyze_val_scores(validations_random_forest_math_1, y_test_math_1, \"Classification using RandomForestClassifier (cluster math 1)\")"
   ]
  },
  {
   "cell_type": "code",
   "execution_count": null,
   "id": "e81cf905-7bfa-401b-85a7-a935bd7f7ec0",
   "metadata": {},
   "outputs": [],
   "source": [
    "validations_adaboost_math_1 = training('adaboost', X_train_math_1, y_train_math_1_b, X_test_math_1)\n",
    "analyze_val_scores(validations_adaboost_math_1, y_test_math_1, \"Classification using AdaBoostClassifier (cluster math 1)\")"
   ]
  },
  {
   "cell_type": "markdown",
   "id": "3cf162c5-67a6-4c14-afe4-6e9f995a8ec4",
   "metadata": {},
   "source": [
    "Cluster german 0:"
   ]
  },
  {
   "cell_type": "code",
   "execution_count": null,
   "id": "a68c5c69-85e2-4159-8af4-67e5ea696ff2",
   "metadata": {},
   "outputs": [],
   "source": [
    "validations_decision_tree_german_0 = training('decision_tree', X_train_german_0, y_train_german_0_b, X_test_german_0)\n",
    "analyze_val_scores(validations_decision_tree_german_0, y_test_german_0, \"Classification using DecisionTreeClassifier (cluster german 0)\")"
   ]
  },
  {
   "cell_type": "code",
   "execution_count": null,
   "id": "36879183-6985-4048-950b-75dee18b9fdc",
   "metadata": {},
   "outputs": [],
   "source": [
    "validations_random_forest_german_0 = training('random_forest', X_train_german_0, y_train_german_0_b, X_test_german_0)\n",
    "analyze_val_scores(validations_random_forest_german_0, y_test_german_0, \"Classification using RandomForestClassifier (cluster german 0)\")"
   ]
  },
  {
   "cell_type": "code",
   "execution_count": null,
   "id": "2608b433-3138-46c7-8f20-f82e6c184dfd",
   "metadata": {},
   "outputs": [],
   "source": [
    "validations_adaboost_german_0 = training('adaboost', X_train_german_0, y_train_german_0_b, X_test_german_0)\n",
    "analyze_val_scores(validations_adaboost_german_0, y_test_german_0, \"Classification using AdaBoostClassifier (cluster german 0)\")"
   ]
  },
  {
   "cell_type": "markdown",
   "id": "bb6d85df-3df5-4b08-9150-480afd6764c2",
   "metadata": {},
   "source": [
    "Cluster german 1:"
   ]
  },
  {
   "cell_type": "code",
   "execution_count": null,
   "id": "716f0615-05e6-41fd-8814-794f194caa13",
   "metadata": {},
   "outputs": [],
   "source": [
    "validations_decision_tree_german_1 = training('decision_tree', X_train_german_1, y_train_german_1_b, X_test_german_1)\n",
    "analyze_val_scores(validations_decision_tree_german_1, y_test_german_1, \"Classification using DecisionTreeClassifier (cluster german 1)\")"
   ]
  },
  {
   "cell_type": "code",
   "execution_count": null,
   "id": "e7a44340-1672-49f0-a0ed-8f579e16a9ec",
   "metadata": {},
   "outputs": [],
   "source": [
    "validations_random_forest_german_1 = training('random_forest', X_train_german_1, y_train_german_1_b, X_test_german_1)\n",
    "analyze_val_scores(validations_random_forest_german_1, y_test_german_1, \"Classification using RandomForestClassifier (cluster german 1)\")"
   ]
  },
  {
   "cell_type": "code",
   "execution_count": null,
   "id": "8d6535d4-1ccb-4035-8013-a2726c0cb0f6",
   "metadata": {},
   "outputs": [],
   "source": [
    "validations_adaboost_german_1 = training('adaboost', X_train_german_1, y_train_german_1_b, X_test_german_1)\n",
    "analyze_val_scores(validations_adaboost_german_1, y_test_german_1, \"Classification using AdaBoostClassifier (cluster german 1)\")"
   ]
  },
  {
   "cell_type": "markdown",
   "id": "d236b5d8-f6a0-41b2-b78f-eaf677b4f67c",
   "metadata": {},
   "source": []
  }
 ],
 "metadata": {
  "kernelspec": {
   "display_name": "Python 3 (ipykernel)",
   "language": "python",
   "name": "python3"
  },
  "language_info": {
   "codemirror_mode": {
    "name": "ipython",
    "version": 3
   },
   "file_extension": ".py",
   "mimetype": "text/x-python",
   "name": "python",
   "nbconvert_exporter": "python",
   "pygments_lexer": "ipython3",
   "version": "3.8.10"
  }
 },
 "nbformat": 4,
 "nbformat_minor": 5
}
