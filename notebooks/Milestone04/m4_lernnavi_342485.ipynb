{
 "cells": [
  {
   "cell_type": "markdown",
   "id": "8af48ca1-b6d1-4092-b7b5-037d3c2d7aef",
   "metadata": {
    "id": "8af48ca1-b6d1-4092-b7b5-037d3c2d7aef"
   },
   "source": [
    "# M4 | Research Investigation Notebook\n",
    "\n",
    "In this notebook, you will do a research investigation of your chosen dataset in teams. You will begin by formally selecting your research question (task 0), then processing your data (task 1), creating a predictive model (task 2), and evaluating your model's results (task 3).\n",
    "\n",
    "Please upload your solved notebook to Moodle (under [Milestone 4 Submission](https://moodle.epfl.ch/mod/assign/view.php?id=1199557)) adding your team name in title, example: `m4-lernnavi-teamname.ipynb`. Please run all cells before submission so we can grade effectively.\n",
    "\n",
    "\n",
    "## Brief overview of Lernnavi\n",
    "[Lernnavi](https://www.lernnavi.ch) is an instrument for promoting part of the basic technical study skills in German and mathematics.\n",
    "\n",
    "Lernnavi's dataset is formatted in three main tables:\n",
    "* *users*: demographic information of users.\n",
    "* *events*: events done by the users in the platform.\n",
    "* *transactions*: question and answer solved by user.\n",
    "\n",
    "You should provide arguments and justifications for all of your design decisions throughout this investigation. You can use your M3 responses as the basis for this discussion."
   ]
  },
  {
   "cell_type": "code",
   "execution_count": 1,
   "id": "38634db8-3fc1-411b-92e4-adda66e70df4",
   "metadata": {
    "id": "82ea2d32-f0a9-4dc9-bb60-be43399f5b89"
   },
   "outputs": [],
   "source": [
    "# Import the tables of the data set as dataframes.\n",
    "import numpy as np\n",
    "import pandas as pd\n",
    "import matplotlib.pyplot as plt\n",
    "\n",
    "DATA_DIR = '/Users/kc/Documents/milestone-4-roguesgallery/data/raw' # You many change the directory"
   ]
  },
  {
   "cell_type": "code",
   "execution_count": 2,
   "id": "0ebb4d12-abb6-4c26-8d80-ad32bcc3a6f0",
   "metadata": {
    "id": "82ea2d32-f0a9-4dc9-bb60-be43399f5b89"
   },
   "outputs": [],
   "source": [
    "users = pd.read_csv('{}/users.csv.gz'.format(DATA_DIR))\n",
    "events = pd.read_csv('{}/events.csv.gz'.format(DATA_DIR))\n",
    "transactions = pd.read_csv('{}/transactions.csv.gz'.format(DATA_DIR))\n",
    "lst = pd.read_csv('{}/learn_sessions_transactions.csv.gz'.format(DATA_DIR))"
   ]
  },
  {
   "cell_type": "markdown",
   "id": "89137355",
   "metadata": {},
   "source": [
    "## Task 0: Research Question"
   ]
  },
  {
   "cell_type": "code",
   "execution_count": 2,
   "id": "16ccce7f-e25d-4a45-bd88-88a06157e210",
   "metadata": {},
   "outputs": [
    {
     "data": {
      "text/plain": [
       "array(['VIEW_QUESTION', 'SUBMIT_ANSWER', 'NEXT', 'GO_TO_THEORY', 'SKIP',\n",
       "       'CLOSE', 'VIEW_SESSION_END', 'REVIEW_TASK', 'GO_TO_BUG_REPORT',\n",
       "       'SHARE', 'ACCEPT_PROGRESS', 'GO_TO_COMMENTS', 'REJECT_PROGRESS',\n",
       "       'NAVIGATE_DASHBOARD', 'LOGIN', 'LOGOUT', 'REQUEST_HINT',\n",
       "       'PAGE_VISIT', 'WINDOW_OPEN', 'WINDOW_VISIBLE_TRUE',\n",
       "       'WINDOW_VISIBLE_FALSE', 'WINDOW_CLOSE', 'SELECT_STATISTICS',\n",
       "       'SUBMIT_SEARCH', 'GO_TO_SESSION', 'SHARE_SESSION', 'OPEN_FEEDBACK',\n",
       "       'CLOSE_FEEDBACK', 'SURVEY_BANNER', 'PRETEST', 'NAVIGATE_SURVEY'],\n",
       "      dtype=object)"
      ]
     },
     "execution_count": 2,
     "metadata": {},
     "output_type": "execute_result"
    }
   ],
   "source": [
    "events['action'].unique()"
   ]
  },
  {
   "cell_type": "code",
   "execution_count": 3,
   "id": "d66be372-0b11-426a-8b72-7e3e07eb1f2f",
   "metadata": {},
   "outputs": [
    {
     "data": {
      "text/plain": [
       "{'CLOSE',\n",
       " 'CLOSE_FEEDBACK',\n",
       " 'GO_TO_BUG_REPORT',\n",
       " 'GO_TO_COMMENTS',\n",
       " 'GO_TO_THEORY',\n",
       " 'NEXT',\n",
       " 'OPEN_FEEDBACK',\n",
       " 'REQUEST_HINT',\n",
       " 'REVIEW_TASK',\n",
       " 'SHARE',\n",
       " 'SKIP',\n",
       " 'SUBMIT_ANSWER',\n",
       " 'VIEW_QUESTION'}"
      ]
     },
     "execution_count": 3,
     "metadata": {},
     "output_type": "execute_result"
    }
   ],
   "source": []
  },
  {
   "cell_type": "markdown",
   "id": "31dafc5b",
   "metadata": {},
   "source": [
    "**Research question:**\n",
    "*Your chosen research question goes here*"
   ]
  },
  {
   "cell_type": "markdown",
   "id": "a77f62b0-1945-48f1-8f22-5f6ebda1db8e",
   "metadata": {
    "id": "a77f62b0-1945-48f1-8f22-5f6ebda1db8e"
   },
   "source": [
    "## Task 1: Data Preprocessing\n",
    "\n",
    "In this section, you are asked to preprocess your data in a way that is relevant for the model. Please include 1-2 visualizations of features / data explorations that are related to your downstream prediction task."
   ]
  },
  {
   "cell_type": "code",
   "execution_count": 3,
   "id": "34cefd0d-4f8a-4227-8fb4-f30521abf78d",
   "metadata": {
    "id": "34cefd0d-4f8a-4227-8fb4-f30521abf78d"
   },
   "outputs": [
    {
     "name": "stdout",
     "output_type": "stream",
     "text": [
      "637678 tokens in events\n",
      "800018 tokens in transactions\n",
      "37685 tokens in events but not in transactions\n",
      "1304 users in events but not in transactions\n",
      "0.0595% of events eliminated\n"
     ]
    }
   ],
   "source": [
    "# Your code for data processing goes here\n",
    "\n",
    "def remove_users(events, transactions):\n",
    "    tokens_event = set(events['transaction_token'].unique())\n",
    "    print(\"{} tokens in events\".format(len(tokens_event)))\n",
    "\n",
    "    tokens_trans = set(transactions['transaction_token'].unique())\n",
    "    print(\"{} tokens in transactions\".format(len(tokens_trans)))\n",
    "\n",
    "    missing_tokens = list(tokens_event - tokens_trans)\n",
    "    missing_tokens.remove(np.nan)\n",
    "    print(\"{} tokens in events but not in transactions\".format(len(missing_tokens)))\n",
    "\n",
    "    users_missing = list(events[events['transaction_token'].isin(missing_tokens)]['user_id'].unique())\n",
    "    print(\"{} users in events but not in transactions\".format(len(users_missing)))\n",
    "\n",
    "    # Events without missing users. Equivalent to removing the missing tokens from events.\n",
    "    len_events = len(events)\n",
    "    events = events[~events['user_id'].isin(users_missing)]\n",
    "    stat_events = (len_events - len(events))/len_events\n",
    "    print(\"{}% of events eliminated\".format(round(stat_events, 4)))\n",
    "\n",
    "    return events, transactions\n",
    "\n",
    "events, transactions = remove_users(events, transactions)"
   ]
  },
  {
   "cell_type": "markdown",
   "id": "17f94f8c-aeb9-4263-a01d-5642a2fc472a",
   "metadata": {},
   "source": [
    "### Cantonal representation within the data set"
   ]
  },
  {
   "cell_type": "code",
   "execution_count": 29,
   "id": "460fa9af-cbb7-42ca-8bf9-a6067760d754",
   "metadata": {},
   "outputs": [],
   "source": [
    "FIG_DIR = '/Users/kc/Documents/milestone-4-roguesgallery/reports/figures/'\n",
    "greyscale = ['#808080', '#929591']"
   ]
  },
  {
   "cell_type": "code",
   "execution_count": 87,
   "id": "be947186-6f0a-4f72-8bb6-7efac245b655",
   "metadata": {},
   "outputs": [
    {
     "ename": "AttributeError",
     "evalue": "'numpy.ndarray' object has no attribute '_legend'",
     "output_type": "error",
     "traceback": [
      "\u001b[0;31m---------------------------------------------------------------------------\u001b[0m",
      "\u001b[0;31mAttributeError\u001b[0m                            Traceback (most recent call last)",
      "\u001b[0;32m/var/folders/8y/h2kzxz1x3xq6whl5h66m88200000gn/T/ipykernel_16928/1939041440.py\u001b[0m in \u001b[0;36m<module>\u001b[0;34m\u001b[0m\n\u001b[1;32m     23\u001b[0m                                   \u001b[0mxlabel\u001b[0m\u001b[0;34m=\u001b[0m\u001b[0;34m\"Canton\"\u001b[0m\u001b[0;34m,\u001b[0m\u001b[0;34m\u001b[0m\u001b[0;34m\u001b[0m\u001b[0m\n\u001b[1;32m     24\u001b[0m                                   color=greyscale)\n\u001b[0;32m---> 25\u001b[0;31m \u001b[0max\u001b[0m\u001b[0;34m.\u001b[0m\u001b[0m_legend\u001b[0m\u001b[0;34m.\u001b[0m\u001b[0mremove\u001b[0m\u001b[0;34m(\u001b[0m\u001b[0;34m)\u001b[0m\u001b[0;34m\u001b[0m\u001b[0;34m\u001b[0m\u001b[0m\n\u001b[0m\u001b[1;32m     26\u001b[0m \u001b[0max\u001b[0m\u001b[0;34m[\u001b[0m\u001b[0;36m0\u001b[0m\u001b[0;34m]\u001b[0m\u001b[0;34m[\u001b[0m\u001b[0;36m0\u001b[0m\u001b[0;34m]\u001b[0m\u001b[0;34m.\u001b[0m\u001b[0mget_figure\u001b[0m\u001b[0;34m(\u001b[0m\u001b[0;34m)\u001b[0m\u001b[0;34m.\u001b[0m\u001b[0msavefig\u001b[0m\u001b[0;34m(\u001b[0m\u001b[0mFIG_DIR\u001b[0m \u001b[0;34m+\u001b[0m \u001b[0;34m\"cantonal_representation.jpg\"\u001b[0m\u001b[0;34m)\u001b[0m\u001b[0;34m\u001b[0m\u001b[0;34m\u001b[0m\u001b[0m\n",
      "\u001b[0;31mAttributeError\u001b[0m: 'numpy.ndarray' object has no attribute '_legend'"
     ]
    },
    {
     "data": {
      "image/png": "[encoded data removed]",
      "text/plain": [
       "<Figure size 1080x360 with 2 Axes>"
      ]
     },
     "metadata": {
      "needs_background": "light"
     },
     "output_type": "display_data"
    }
   ],
   "source": [
    "def activity_per(colname):\n",
    "    \n",
    "    users_per = users[['user_id', colname]]\n",
    "    size_per = users_per.pivot_table(index=colname, values=['user_id'], aggfunc='nunique').reset_index()\n",
    "    \n",
    "    activity_per = transactions.merge(users_per, on='user_id', how='left')\n",
    "    transactions_per = activity_per.pivot_table(index=colname, \n",
    "                                                values=['transaction_id', 'user_id'], \n",
    "                                                aggfunc={'transaction_id':'count', 'user_id':'nunique'}).reset_index()\n",
    "    transactions_per['trans_per_user'] = transactions_per['transaction_id']/transactions_per['user_id']\n",
    "    \n",
    "    return users_per, size_per, transactions_per \n",
    "\n",
    "\n",
    "\n",
    "users_canton, canton_size, canton_transactions = activity_per('canton')\n",
    "ax = canton_transactions.plot.bar(x='canton', \n",
    "                                  y=['transaction_id', 'trans_per_user'], \n",
    "                                  subplots=True, \n",
    "                                  layout=(1,2),\n",
    "                                  figsize=(15,5),\n",
    "                                  title=['Number of transactions', 'Number of transactions adjusted for population size'],\n",
    "                                  xlabel=\"Canton\",\n",
    "                                  color=greyscale)\n",
    "ax[0][0].get_figure().savefig(FIG_DIR + \"cantonal_representation.jpg\")"
   ]
  },
  {
   "cell_type": "code",
   "execution_count": 38,
   "id": "5c1c25dc-d6f9-42ec-9a49-601126597364",
   "metadata": {},
   "outputs": [
    {
     "data": {
      "image/png": "[encoded data removed]",
      "text/plain": [
       "<Figure size 432x288 with 1 Axes>"
      ]
     },
     "metadata": {
      "needs_background": "light"
     },
     "output_type": "display_data"
    }
   ],
   "source": [
    "ax = canton_size.plot.bar(x='canton', \n",
    "                          y='user_id',\n",
    "                          title='Number of students per canton',\n",
    "                          xlabel='Canton',\n",
    "                          legend=False,\n",
    "                          color = greyscale[0])\n",
    "ax.get_figure().savefig(FIG_DIR + \"num_per_canton.jpg\")"
   ]
  },
  {
   "cell_type": "markdown",
   "id": "6f451617-0bee-47a3-8cac-24f3251bb146",
   "metadata": {},
   "source": [
    "These bar plots show us that cantons with greater numbers of students have a larger transaction count **overall**. However, most cantons, with the exception of AR show similar numbers of transactions *per user*.  "
   ]
  },
  {
   "cell_type": "markdown",
   "id": "5892f7a8-7386-46bb-aeb6-5c3fe0252726",
   "metadata": {},
   "source": [
    "#### What's going on in AR?"
   ]
  },
  {
   "cell_type": "code",
   "execution_count": 48,
   "id": "dc99e961-32d4-424c-b5b1-fe489b03b870",
   "metadata": {
    "id": "76d0fcca-686e-47a3-8567-c3f92db187d4"
   },
   "outputs": [
    {
     "data": {
      "text/plain": [
       "<AxesSubplot:xlabel='class_level'>"
      ]
     },
     "execution_count": 48,
     "metadata": {},
     "output_type": "execute_result"
    },
    {
     "data": {
      "image/png": "[encoded data removed]",
      "text/plain": [
       "<Figure size 432x288 with 1 Axes>"
      ]
     },
     "metadata": {
      "needs_background": "light"
     },
     "output_type": "display_data"
    }
   ],
   "source": [
    "AR_users = users[users['canton'] == 'AR']\n",
    "AR_levels = AR_users.groupby('class_level').count()['user_id']\n",
    "AR_levels.plot.bar(x='class_level', y='user_id')"
   ]
  },
  {
   "cell_type": "markdown",
   "id": "6c95e893-c8e9-4f7a-80d4-ce1681201e75",
   "metadata": {},
   "source": [
    "### Class (level) representation in the data set"
   ]
  },
  {
   "cell_type": "code",
   "execution_count": 39,
   "id": "48719c6d-c1cc-4693-af79-94596e4e9a0d",
   "metadata": {},
   "outputs": [
    {
     "data": {
      "image/png": "[encoded data removed]",
      "text/plain": [
       "<Figure size 864x576 with 2 Axes>"
      ]
     },
     "metadata": {
      "needs_background": "light"
     },
     "output_type": "display_data"
    }
   ],
   "source": [
    "users_class, class_size, class_transactions = activity_per('class_level')\n",
    "\n",
    "ax = class_transactions.plot.bar(x='class_level', \n",
    "                                 y=['transaction_id', 'trans_per_user'], \n",
    "                                 subplots=True, \n",
    "                                 layout=(1,2),\n",
    "                                 figsize=(12,8)) #lots and lots of classes"
   ]
  },
  {
   "cell_type": "code",
   "execution_count": 50,
   "id": "a9681c52-e610-4546-9e23-83081e888b82",
   "metadata": {},
   "outputs": [],
   "source": [
    "#outliers \n",
    "def show_outliers(df, colname, method):\n",
    "    \n",
    "    if method == 'IQR':\n",
    "        q1 = df[colname].quantile(0.25)\n",
    "        q3 = df[colname].quantile(0.75)\n",
    "        iqr = q3-q1\n",
    "        lb = q1 - 1.5*iqr\n",
    "        ub = q3 + 1.5*iqr\n",
    "        \n",
    "        print(\"Median: {}\".format(df[colname].median()))\n",
    "        print(f\"Lower bound: {lb}\")\n",
    "        print(f\"Upper bound: {ub}\")\n",
    "        \n",
    "        out = df[(df[colname] < lb) | (df[colname] > ub)]\n",
    "        \n",
    "        return out\n",
    "        \n",
    "    if method == 'std':\n",
    "        mean = df[colname].mean()\n",
    "        std = df[colname].std()\n",
    "        lb = mean - 1*std\n",
    "        ub = mean + 1*std\n",
    "        \n",
    "        print(f\"Lower bound: {lb}\")\n",
    "        print(f\"Upper bound: {ub}\")\n",
    "        out = df[(df[colname] < lb) | (df[colname] > ub)]\n",
    "        \n",
    "        return out "
   ]
  },
  {
   "cell_type": "code",
   "execution_count": 51,
   "id": "bdab0d27-f196-4331-83de-43cf6a0f3927",
   "metadata": {},
   "outputs": [
    {
     "name": "stdout",
     "output_type": "stream",
     "text": [
      "Median: 33.5\n",
      "Lower bound: -188.75\n",
      "Upper bound: 333.25\n"
     ]
    },
    {
     "data": {
      "text/html": [
       "<div>\n",
       "<style scoped>\n",
       "    .dataframe tbody tr th:only-of-type {\n",
       "        vertical-align: middle;\n",
       "    }\n",
       "\n",
       "    .dataframe tbody tr th {\n",
       "        vertical-align: top;\n",
       "    }\n",
       "\n",
       "    .dataframe thead th {\n",
       "        text-align: right;\n",
       "    }\n",
       "</style>\n",
       "<table border=\"1\" class=\"dataframe\">\n",
       "  <thead>\n",
       "    <tr style=\"text-align: right;\">\n",
       "      <th></th>\n",
       "      <th>class_level</th>\n",
       "      <th>user_id</th>\n",
       "    </tr>\n",
       "  </thead>\n",
       "  <tbody>\n",
       "    <tr>\n",
       "      <th>6</th>\n",
       "      <td>FMS - 1. Jahr</td>\n",
       "      <td>379</td>\n",
       "    </tr>\n",
       "    <tr>\n",
       "      <th>13</th>\n",
       "      <td>Gymnasium - 1. Jahr</td>\n",
       "      <td>1852</td>\n",
       "    </tr>\n",
       "    <tr>\n",
       "      <th>14</th>\n",
       "      <td>Gymnasium - 1. Jahr (GYM1)</td>\n",
       "      <td>336</td>\n",
       "    </tr>\n",
       "    <tr>\n",
       "      <th>15</th>\n",
       "      <td>Gymnasium - 2. Jahr</td>\n",
       "      <td>1179</td>\n",
       "    </tr>\n",
       "    <tr>\n",
       "      <th>17</th>\n",
       "      <td>Gymnasium - 3. Jahr</td>\n",
       "      <td>394</td>\n",
       "    </tr>\n",
       "    <tr>\n",
       "      <th>39</th>\n",
       "      <td>Kurzzeitgymnasium - 1. Jahr</td>\n",
       "      <td>945</td>\n",
       "    </tr>\n",
       "    <tr>\n",
       "      <th>40</th>\n",
       "      <td>Kurzzeitgymnasium - 2. Jahr</td>\n",
       "      <td>427</td>\n",
       "    </tr>\n",
       "    <tr>\n",
       "      <th>45</th>\n",
       "      <td>Langzeitgymnasium - 3. Jahr</td>\n",
       "      <td>481</td>\n",
       "    </tr>\n",
       "    <tr>\n",
       "      <th>46</th>\n",
       "      <td>Langzeitgymnasium - 4. Jahr</td>\n",
       "      <td>344</td>\n",
       "    </tr>\n",
       "  </tbody>\n",
       "</table>\n",
       "</div>"
      ],
      "text/plain": [
       "                    class_level  user_id\n",
       "6                 FMS - 1. Jahr      379\n",
       "13          Gymnasium - 1. Jahr     1852\n",
       "14   Gymnasium - 1. Jahr (GYM1)      336\n",
       "15          Gymnasium - 2. Jahr     1179\n",
       "17          Gymnasium - 3. Jahr      394\n",
       "39  Kurzzeitgymnasium - 1. Jahr      945\n",
       "40  Kurzzeitgymnasium - 2. Jahr      427\n",
       "45  Langzeitgymnasium - 3. Jahr      481\n",
       "46  Langzeitgymnasium - 4. Jahr      344"
      ]
     },
     "metadata": {},
     "output_type": "display_data"
    },
    {
     "data": {
      "text/plain": [
       "<AxesSubplot:>"
      ]
     },
     "execution_count": 51,
     "metadata": {},
     "output_type": "execute_result"
    },
    {
     "data": {
      "image/png": "[encoded data removed]",
      "text/plain": [
       "<Figure size 576x576 with 1 Axes>"
      ]
     },
     "metadata": {
      "needs_background": "light"
     },
     "output_type": "display_data"
    }
   ],
   "source": [
    "display(show_outliers(class_size, 'user_id', 'IQR'))\n",
    "class_size.boxplot(column='user_id', vert=True, figsize=(8,8))"
   ]
  },
  {
   "cell_type": "markdown",
   "id": "79bcdf0c-50fb-4496-95cf-f931614b342e",
   "metadata": {},
   "source": [
    "Notice that the typical definition(s) for outliers do not exclude any classes at the lower end of the spectrum because there are many more classes with fewer numbers than higher ones. Therefore we will have to make a more precise and informed decision here. Of course classes with only one student (for example) will be poorly represented in the data set, therefore it would make sense to either group these students or remove them. "
   ]
  },
  {
   "cell_type": "code",
   "execution_count": 37,
   "id": "635b1a11-b942-4ca4-98c6-dd55506099c4",
   "metadata": {},
   "outputs": [
    {
     "name": "stdout",
     "output_type": "stream",
     "text": [
      "Q1: 309.0\n",
      "Q3: 8833.25\n"
     ]
    },
    {
     "data": {
      "text/html": [
       "<div>\n",
       "<style scoped>\n",
       "    .dataframe tbody tr th:only-of-type {\n",
       "        vertical-align: middle;\n",
       "    }\n",
       "\n",
       "    .dataframe tbody tr th {\n",
       "        vertical-align: top;\n",
       "    }\n",
       "\n",
       "    .dataframe thead th {\n",
       "        text-align: right;\n",
       "    }\n",
       "</style>\n",
       "<table border=\"1\" class=\"dataframe\">\n",
       "  <thead>\n",
       "    <tr style=\"text-align: right;\">\n",
       "      <th></th>\n",
       "      <th>class_level</th>\n",
       "      <th>transaction_id</th>\n",
       "      <th>user_id</th>\n",
       "      <th>trans_per_user</th>\n",
       "    </tr>\n",
       "  </thead>\n",
       "  <tbody>\n",
       "    <tr>\n",
       "      <th>6</th>\n",
       "      <td>FMS - 1. Jahr</td>\n",
       "      <td>23387</td>\n",
       "      <td>309</td>\n",
       "      <td>75.686084</td>\n",
       "    </tr>\n",
       "    <tr>\n",
       "      <th>12</th>\n",
       "      <td>Gymnasium - 1. Jahr</td>\n",
       "      <td>166834</td>\n",
       "      <td>1423</td>\n",
       "      <td>117.241040</td>\n",
       "    </tr>\n",
       "    <tr>\n",
       "      <th>14</th>\n",
       "      <td>Gymnasium - 2. Jahr</td>\n",
       "      <td>70635</td>\n",
       "      <td>1007</td>\n",
       "      <td>70.143992</td>\n",
       "    </tr>\n",
       "    <tr>\n",
       "      <th>38</th>\n",
       "      <td>Kurzzeitgymnasium - 1. Jahr</td>\n",
       "      <td>72257</td>\n",
       "      <td>693</td>\n",
       "      <td>104.266955</td>\n",
       "    </tr>\n",
       "    <tr>\n",
       "      <th>39</th>\n",
       "      <td>Kurzzeitgymnasium - 2. Jahr</td>\n",
       "      <td>23574</td>\n",
       "      <td>320</td>\n",
       "      <td>73.668750</td>\n",
       "    </tr>\n",
       "    <tr>\n",
       "      <th>44</th>\n",
       "      <td>Langzeitgymnasium - 3. Jahr</td>\n",
       "      <td>29109</td>\n",
       "      <td>365</td>\n",
       "      <td>79.750685</td>\n",
       "    </tr>\n",
       "    <tr>\n",
       "      <th>45</th>\n",
       "      <td>Langzeitgymnasium - 4. Jahr</td>\n",
       "      <td>22488</td>\n",
       "      <td>265</td>\n",
       "      <td>84.860377</td>\n",
       "    </tr>\n",
       "  </tbody>\n",
       "</table>\n",
       "</div>"
      ],
      "text/plain": [
       "                    class_level  transaction_id  user_id  trans_per_user\n",
       "6                 FMS - 1. Jahr           23387      309       75.686084\n",
       "12          Gymnasium - 1. Jahr          166834     1423      117.241040\n",
       "14          Gymnasium - 2. Jahr           70635     1007       70.143992\n",
       "38  Kurzzeitgymnasium - 1. Jahr           72257      693      104.266955\n",
       "39  Kurzzeitgymnasium - 2. Jahr           23574      320       73.668750\n",
       "44  Langzeitgymnasium - 3. Jahr           29109      365       79.750685\n",
       "45  Langzeitgymnasium - 4. Jahr           22488      265       84.860377"
      ]
     },
     "metadata": {},
     "output_type": "display_data"
    },
    {
     "name": "stdout",
     "output_type": "stream",
     "text": [
      "Q1: 39.62591911764706\n",
      "Q3: 106.56673881673882\n"
     ]
    },
    {
     "data": {
      "text/html": [
       "<div>\n",
       "<style scoped>\n",
       "    .dataframe tbody tr th:only-of-type {\n",
       "        vertical-align: middle;\n",
       "    }\n",
       "\n",
       "    .dataframe tbody tr th {\n",
       "        vertical-align: top;\n",
       "    }\n",
       "\n",
       "    .dataframe thead th {\n",
       "        text-align: right;\n",
       "    }\n",
       "</style>\n",
       "<table border=\"1\" class=\"dataframe\">\n",
       "  <thead>\n",
       "    <tr style=\"text-align: right;\">\n",
       "      <th></th>\n",
       "      <th>class_level</th>\n",
       "      <th>transaction_id</th>\n",
       "      <th>user_id</th>\n",
       "      <th>trans_per_user</th>\n",
       "    </tr>\n",
       "  </thead>\n",
       "  <tbody>\n",
       "  </tbody>\n",
       "</table>\n",
       "</div>"
      ],
      "text/plain": [
       "Empty DataFrame\n",
       "Columns: [class_level, transaction_id, user_id, trans_per_user]\n",
       "Index: []"
      ]
     },
     "metadata": {},
     "output_type": "display_data"
    }
   ],
   "source": [
    "display(show_outliers(class_transactions, 'transaction_id', 'IQR'))\n",
    "display(show_outliers(class_transactions, 'trans_per_user', 'IQR')) #no outliers "
   ]
  },
  {
   "cell_type": "markdown",
   "id": "3e62d792-0f16-4d80-a89c-dd5c203f8696",
   "metadata": {},
   "source": [
    "We note that these outliers are all extremes in the right hand tail of the distribution."
   ]
  },
  {
   "cell_type": "code",
   "execution_count": 36,
   "id": "1ec1a018-511b-49a4-a76d-69db04e62e13",
   "metadata": {},
   "outputs": [
    {
     "data": {
      "image/png": "[encoded data removed]",
      "text/plain": [
       "<Figure size 864x720 with 2 Axes>"
      ]
     },
     "metadata": {
      "needs_background": "light"
     },
     "output_type": "display_data"
    }
   ],
   "source": [
    "ax = class_transactions.sort_values(by=['transaction_id', 'trans_per_user'], \n",
    "                                    ascending=[False, False]) \\\n",
    "                        .iloc[0:9, :] \\\n",
    "                        .plot.bar(x='class_level',\n",
    "                                  y=['transaction_id', 'trans_per_user'],\n",
    "                                  subplots=True,\n",
    "                                  layout=(1,2),\n",
    "                                  figsize=(12,10))"
   ]
  },
  {
   "cell_type": "code",
   "execution_count": 35,
   "id": "5641213f-556b-41cf-81b7-7b80a02a7117",
   "metadata": {},
   "outputs": [
    {
     "data": {
      "image/png": "[encoded data removed]",
      "text/plain": [
       "<Figure size 864x720 with 2 Axes>"
      ]
     },
     "metadata": {
      "needs_background": "light"
     },
     "output_type": "display_data"
    }
   ],
   "source": [
    "ax = class_transactions.sort_values(by=['transaction_id', 'trans_per_user'], \n",
    "                                    ascending=[True, True]) \\\n",
    "                        .iloc[0:9, :] \\\n",
    "                        .plot.bar(x='class_level',\n",
    "                                  y=['transaction_id', 'trans_per_user'],\n",
    "                                  subplots=True,\n",
    "                                  layout=(1,2),\n",
    "                                  figsize=(12,10))"
   ]
  },
  {
   "cell_type": "markdown",
   "id": "80ef04aa-47ad-457e-9bb7-5342fd90bec3",
   "metadata": {},
   "source": [
    "---"
   ]
  },
  {
   "cell_type": "code",
   "execution_count": 2,
   "id": "ea362770-9957-4b95-81c3-7c91414c1290",
   "metadata": {},
   "outputs": [],
   "source": [
    "def similarity_days(wi, wj):\n",
    "    m1, m2 = np.where(wi == 1)[0], np.where(wj == 1)[0]\n",
    "    if len(m1) == 0 or len(m2) == 0:\n",
    "        return 0\n",
    "    return len(np.intersect1d(m1, m2)) / max(len(m1), len(m2))"
   ]
  },
  {
   "cell_type": "code",
   "execution_count": 3,
   "id": "dda7b27e-a33f-42ed-ac78-998579706082",
   "metadata": {},
   "outputs": [],
   "source": [
    "def chi2_divergence(p1, p2, a1, a2):\n",
    "    a = p1 - p2\n",
    "    b = p1 + p2\n",
    "    frac = np.divide(a, b, out=np.zeros(a.shape, dtype=float), where=b != 0)\n",
    "    m1 = np.where(a1 > 0)[0]\n",
    "    m2 = np.where(a2 > 0)[0]\n",
    "    union = set(m1) & set(m2)\n",
    "    if len(union) == 0: return np.nan\n",
    "    return 1 - (1 / len(union)) * np.sum(np.square(frac))"
   ]
  },
  {
   "cell_type": "code",
   "execution_count": 21,
   "id": "332781d8-857a-4324-9e05-da14c4d099d8",
   "metadata": {},
   "outputs": [],
   "source": [
    "from datetime import timedelta, datetime \n",
    "from scipy.spatial.distance import jensenshannon\n",
    "from scipy import stats"
   ]
  },
  {
   "cell_type": "code",
   "execution_count": 5,
   "id": "f78ff699-7dbb-4de5-b9f7-657d726d7b89",
   "metadata": {},
   "outputs": [],
   "source": [
    "def time_measures(data, mode, weeks):\n",
    "    data = data[data['week'] < weeks]\n",
    "    if mode == 'dayhour':\n",
    "        hours = data['date'].dt.hour.astype(int).to_list()\n",
    "        activity = np.array([hours.count(h) for h in np.arange(24)])\n",
    "        if np.sum(activity) == 0:\n",
    "            print(\"Feature is invalid: the dayhour mode is invalid. Returning nan.\")\n",
    "            return np.nan\n",
    "        entropy = stats.entropy(activity / np.sum(activity))\n",
    "        return (np.log(24) - entropy) * np.max(activity)\n",
    "    elif mode == 'weekday':\n",
    "        weekdays = data['date'].dt.weekday.astype(int).to_list()\n",
    "        activity = np.array([weekdays.count(h) for h in np.arange(7)])\n",
    "        if np.sum(activity) == 0:\n",
    "            print(\"Feature is invalid: the weekday mode is invalid. Returning nan.\")\n",
    "            return np.nan\n",
    "        entropy = stats.entropy(activity / np.sum(activity))\n",
    "        return (np.log(7) - entropy) * np.max(activity)"
   ]
  },
  {
   "cell_type": "code",
   "execution_count": 6,
   "id": "cc061fc9-3d7d-4616-b3a0-eabe05f90e51",
   "metadata": {},
   "outputs": [],
   "source": [
    "def time_measures_plot_student(student, data, mode, weeks):\n",
    "    data = data[data['user_id'] == student]\n",
    "    data = data[data['week'] < weeks]\n",
    "    if mode == 'dayhour':\n",
    "        hours = data['date'].dt.hour.astype(int).to_list()\n",
    "        activity = np.array([hours.count(h) for h in np.arange(24)])\n",
    "        time_measure_data = pd.DataFrame({'hour' : np.arange(24), 'count' : activity})\n",
    "        \n",
    "        time_measure_data.plot.bar(x='hour', y='count', rot=0)\n",
    "        plt.xlabel(\"Hour of day\")\n",
    "        plt.ylabel(\"Count\")\n",
    "\n",
    "    elif mode == 'weekday':\n",
    "        weekdays = data['date'].dt.weekday.astype(int).to_list()\n",
    "        activity = np.array([weekdays.count(h) for h in np.arange(7)])\n",
    "        time_measure_data = pd.DataFrame({'weekday' : np.arange(7), 'count' : activity})\n",
    "        \n",
    "        time_measure_data.plot.bar(x='weekday', y='count', rot=0)\n",
    "        plt.xlabel(\"Day of week\")\n",
    "        plt.ylabel(\"Count\")  "
   ]
  },
  {
   "cell_type": "code",
   "execution_count": 7,
   "id": "835e6e7d-2c9d-4e8f-9b1d-19ed4677f9e4",
   "metadata": {},
   "outputs": [],
   "source": [
    "def create_week_number(d):\n",
    "    return (d.isocalendar()[0] - 2021) * 53 + d.isocalendar()[1] - 1\n",
    "# https://stackoverflow.com/questions/59425176/how-to-continue-the-week-number-when-the-year-changes-using-pandas"
   ]
  },
  {
   "cell_type": "code",
   "execution_count": 8,
   "id": "bc527b9f-e646-49d5-a0c7-50e253d63b70",
   "metadata": {},
   "outputs": [],
   "source": [
    "def profile_similarity(data, mode, weeks):\n",
    "    data['weekday'] = data['date'].dt.weekday.astype(int)\n",
    "    data = data[data['week'] < weeks]\n",
    "    \n",
    "    workload = np.zeros((weeks, 7))\n",
    "    workload[data['week'], data['weekday']] += 1\n",
    "    hist = workload / np.sum(workload)\n",
    "\n",
    "    # Hours of activity starting at midnight of the first timestamp\n",
    "    hours = (data['date']).values.astype(np.int64) // 10 ** 9 // 3600\n",
    "    min_day = data.date.min() # First day of activity\n",
    "    # Make the hours start from midnight of the first day\n",
    "    hours -= int(datetime(min_day.year, min_day.month, min_day.day).timestamp() / 3600)\n",
    "\n",
    "    period_length = weeks * 7 * 24\n",
    "    activity = np.array([int(t in hours) for t in range(period_length)]).reshape((weeks, 7 * 24))\n",
    "    activity = np.array([week.reshape((7, 24)).sum(axis=1) for week in activity])  # shape (weeks, 7)\n",
    "    if mode == 'm1':\n",
    "        return np.mean([similarity_days(workload[i], workload[j]) for i in range(workload.shape[0]) for j in range(i+1, workload.shape[0])])\n",
    "    elif mode == 'm2':\n",
    "        res = []\n",
    "        for i in range(activity.shape[0]):\n",
    "            for j in range(i + 1, activity.shape[0]):\n",
    "                if not activity[i].any() or not activity[j].any():\n",
    "                    continue\n",
    "                res.append(1 - jensenshannon(activity[i], activity[j], 2.0))\n",
    "        if len(res) == 0:\n",
    "            #print(\"Feature is invalid. Will return nan\")\n",
    "            return np.nan\n",
    "        return np.mean(np.clip(np.nan_to_num(res), 0, 1))\n",
    "    elif mode == 'm3':\n",
    "        res = []\n",
    "        for i in range(activity.shape[0]):\n",
    "            for j in range(i + 1, activity.shape[0]):\n",
    "                if not activity[i].any() or not activity[j].any():\n",
    "                    continue\n",
    "                res.append(chi2_divergence(activity[i], activity[j], hist[i], hist[j]))\n",
    "        if len(res) == 0:\n",
    "            return np.nan\n",
    "        return np.mean(np.nan_to_num(res))"
   ]
  },
  {
   "cell_type": "markdown",
   "id": "cbd212d8-c8b5-4d02-900b-f7d6a2583896",
   "metadata": {},
   "source": [
    "---"
   ]
  },
  {
   "cell_type": "code",
   "execution_count": 9,
   "id": "43a1f8ca-0423-4639-82dd-0cc1a6bc0a5e",
   "metadata": {},
   "outputs": [],
   "source": [
    "def fourier_transform(Xi, f, n):\n",
    "    return np.dot(np.exp(-2j * np.pi * f * n), Xi)"
   ]
  },
  {
   "cell_type": "code",
   "execution_count": 10,
   "id": "aa59f858-5aa4-4c13-8690-74097f16213a",
   "metadata": {},
   "outputs": [],
   "source": [
    "def freq(data, mode, weeks):\n",
    "    if mode == 'm1':\n",
    "        # Convert date to hours starting from 0\n",
    "        hours = data['date'].values.astype(np.int64) // 10 ** 9 // 3600\n",
    "        hours -= min(hours)\n",
    "        period_length = weeks * 7 * 24\n",
    "        activity = np.array([int(t in hours) for t in range(period_length)])  # 1 if active at hour t 0 o.w.\n",
    "        if np.sum(activity) == 0:\n",
    "            #logging.debug('feature {} is invalid: the m1 mode is invalid'.format(self.name))\n",
    "            return np.nan #Feature.INVALID_VALUE\n",
    "        n = np.arange(period_length)\n",
    "        return abs(fourier_transform(activity, 1 / 24, n))\n",
    "\n",
    "    elif mode == 'm2':\n",
    "        period_length = weeks * 7 * 24\n",
    "        hours = data['date'].values.astype(np.int64) // 10 ** 9 // 3600\n",
    "        hours -= min(hours)\n",
    "        activity = np.array([int(t in hours) for t in range(period_length)])\n",
    "        n = np.arange(period_length)\n",
    "        return abs(fourier_transform(activity.flatten(), 1 / (7 * 24), n))\n",
    "\n",
    "    elif mode == 'm3':\n",
    "        # Convert date to days starting from 0\n",
    "        days = data['date'].values.astype(np.int64) // 10 ** 9 // (24 * 3600)\n",
    "        days -= min(days)\n",
    "        period_length = weeks * 7\n",
    "        activity = np.array([int(d in days) for d in range(period_length)])  # 1 if active at day d 0 o.w.\n",
    "        n = np.arange(period_length)\n",
    "        return abs(fourier_transform(activity, 1 / 7, n))"
   ]
  },
  {
   "cell_type": "code",
   "execution_count": 79,
   "id": "c884f8fc-32cb-488f-b20c-9c1636d995ed",
   "metadata": {},
   "outputs": [],
   "source": [
    "def compute_agg_regularity(data, weeks):\n",
    "    \n",
    "    #time based measures\n",
    "    PDH = data.groupby('user_id').apply(lambda x: time_measures(x, 'dayhour', weeks)).reset_index()\n",
    "    PWD = data.groupby('user_id').apply(lambda x: time_measures(x, 'weekday', weeks)).reset_index(drop=True)\n",
    "    \n",
    "    #profile similarity \n",
    "    WS1 = data.groupby('user_id').apply(lambda x: profile_similarity(x, 'm1', weeks)).reset_index(drop=True)\n",
    "    WS2 = data.groupby('user_id').apply(lambda x: profile_similarity(x, 'm2', weeks)).reset_index(drop=True)\n",
    "    WS3 = data.groupby('user_id').apply(lambda x: profile_similarity(x, 'm3', weeks)).reset_index(drop=True)\n",
    "    \n",
    "    #frequency based measures\n",
    "    FDH = data.groupby('user_id').apply(lambda x: freq(x, 'm1', weeks)).reset_index(drop=True)\n",
    "    FWH = data.groupby('user_id').apply(lambda x: freq(x, 'm2', weeks)).reset_index(drop=True)\n",
    "    FWD = data.groupby('user_id').apply(lambda x: freq(x, 'm3', weeks)).reset_index(drop=True)\n",
    "    \n",
    "    reg_features = pd.concat([PDH,PWD,WS1,WS2,WS3,FDH,FWH,FWD], axis=1, ignore_index=False)\n",
    "    \n",
    "    return reg_features "
   ]
  },
  {
   "cell_type": "markdown",
   "id": "be273ae3-9772-4bfe-843c-efd197630792",
   "metadata": {},
   "source": [
    "---"
   ]
  },
  {
   "cell_type": "code",
   "execution_count": 52,
   "id": "83e66f1e-8f53-4fca-a65a-9ecf896df30e",
   "metadata": {},
   "outputs": [],
   "source": [
    "data_clean = pd.read_csv('{}/data_clean.csv.gz'.format(DATA_DIR))\n",
    "data_clean.rename(columns={'timestamp':'date'}, inplace=True)\n",
    "data_clean['date'] = pd.to_datetime(data_clean['date']) "
   ]
  },
  {
   "cell_type": "code",
   "execution_count": 53,
   "id": "7262dae8-141a-4f71-b725-e55539fbc6da",
   "metadata": {},
   "outputs": [],
   "source": [
    "#data_clean.info()\n",
    "data_clean.drop(['start_time', 'commit_time'], axis=1, inplace=True)"
   ]
  },
  {
   "cell_type": "code",
   "execution_count": 82,
   "id": "e33ab6ff-12a8-416e-8865-b42b90fcb97c",
   "metadata": {},
   "outputs": [],
   "source": [
    "no_weeks = max(data_clean.week) + 1\n",
    "reg_features = compute_agg_regularity(data_clean, no_weeks)"
   ]
  },
  {
   "cell_type": "code",
   "execution_count": 83,
   "id": "f6a0f7b9-d44c-49f5-ad1a-1cb885a4e960",
   "metadata": {},
   "outputs": [
    {
     "data": {
      "text/html": [
       "<div>\n",
       "<style scoped>\n",
       "    .dataframe tbody tr th:only-of-type {\n",
       "        vertical-align: middle;\n",
       "    }\n",
       "\n",
       "    .dataframe tbody tr th {\n",
       "        vertical-align: top;\n",
       "    }\n",
       "\n",
       "    .dataframe thead th {\n",
       "        text-align: right;\n",
       "    }\n",
       "</style>\n",
       "<table border=\"1\" class=\"dataframe\">\n",
       "  <thead>\n",
       "    <tr style=\"text-align: right;\">\n",
       "      <th></th>\n",
       "      <th>user_id</th>\n",
       "      <th>0</th>\n",
       "      <th>0</th>\n",
       "      <th>1</th>\n",
       "      <th>2</th>\n",
       "      <th>3</th>\n",
       "      <th>4</th>\n",
       "      <th>5</th>\n",
       "      <th>6</th>\n",
       "    </tr>\n",
       "  </thead>\n",
       "  <tbody>\n",
       "    <tr>\n",
       "      <th>0</th>\n",
       "      <td>387604.0</td>\n",
       "      <td>27.942484</td>\n",
       "      <td>14.605581</td>\n",
       "      <td>0.003871</td>\n",
       "      <td>0.188178</td>\n",
       "      <td>0.0</td>\n",
       "      <td>11.820073</td>\n",
       "      <td>9.180426</td>\n",
       "      <td>5.166201</td>\n",
       "    </tr>\n",
       "    <tr>\n",
       "      <th>1</th>\n",
       "      <td>387605.0</td>\n",
       "      <td>164.753993</td>\n",
       "      <td>106.877243</td>\n",
       "      <td>0.015292</td>\n",
       "      <td>0.162790</td>\n",
       "      <td>0.0</td>\n",
       "      <td>13.732957</td>\n",
       "      <td>10.321867</td>\n",
       "      <td>4.791290</td>\n",
       "    </tr>\n",
       "    <tr>\n",
       "      <th>2</th>\n",
       "      <td>387608.0</td>\n",
       "      <td>114.246372</td>\n",
       "      <td>21.449510</td>\n",
       "      <td>0.001161</td>\n",
       "      <td>0.100000</td>\n",
       "      <td>0.0</td>\n",
       "      <td>6.883195</td>\n",
       "      <td>2.297492</td>\n",
       "      <td>1.519203</td>\n",
       "    </tr>\n",
       "    <tr>\n",
       "      <th>3</th>\n",
       "      <td>387644.0</td>\n",
       "      <td>147.319940</td>\n",
       "      <td>127.641763</td>\n",
       "      <td>0.000581</td>\n",
       "      <td>0.322395</td>\n",
       "      <td>0.0</td>\n",
       "      <td>3.797918</td>\n",
       "      <td>2.432918</td>\n",
       "      <td>2.027293</td>\n",
       "    </tr>\n",
       "    <tr>\n",
       "      <th>4</th>\n",
       "      <td>387650.0</td>\n",
       "      <td>97.469260</td>\n",
       "      <td>49.102222</td>\n",
       "      <td>0.015970</td>\n",
       "      <td>0.245105</td>\n",
       "      <td>0.0</td>\n",
       "      <td>13.622891</td>\n",
       "      <td>5.177756</td>\n",
       "      <td>4.932190</td>\n",
       "    </tr>\n",
       "  </tbody>\n",
       "</table>\n",
       "</div>"
      ],
      "text/plain": [
       "    user_id           0           0         1         2    3          4  \\\n",
       "0  387604.0   27.942484   14.605581  0.003871  0.188178  0.0  11.820073   \n",
       "1  387605.0  164.753993  106.877243  0.015292  0.162790  0.0  13.732957   \n",
       "2  387608.0  114.246372   21.449510  0.001161  0.100000  0.0   6.883195   \n",
       "3  387644.0  147.319940  127.641763  0.000581  0.322395  0.0   3.797918   \n",
       "4  387650.0   97.469260   49.102222  0.015970  0.245105  0.0  13.622891   \n",
       "\n",
       "           5         6  \n",
       "0   9.180426  5.166201  \n",
       "1  10.321867  4.791290  \n",
       "2   2.297492  1.519203  \n",
       "3   2.432918  2.027293  \n",
       "4   5.177756  4.932190  "
      ]
     },
     "execution_count": 83,
     "metadata": {},
     "output_type": "execute_result"
    }
   ],
   "source": [
    "reg_features.head()"
   ]
  },
  {
   "cell_type": "code",
   "execution_count": 84,
   "id": "ff3c1518-6786-4095-a058-04b677405c26",
   "metadata": {},
   "outputs": [
    {
     "data": {
      "text/html": [
       "<div>\n",
       "<style scoped>\n",
       "    .dataframe tbody tr th:only-of-type {\n",
       "        vertical-align: middle;\n",
       "    }\n",
       "\n",
       "    .dataframe tbody tr th {\n",
       "        vertical-align: top;\n",
       "    }\n",
       "\n",
       "    .dataframe thead th {\n",
       "        text-align: right;\n",
       "    }\n",
       "</style>\n",
       "<table border=\"1\" class=\"dataframe\">\n",
       "  <thead>\n",
       "    <tr style=\"text-align: right;\">\n",
       "      <th></th>\n",
       "      <th>user_id</th>\n",
       "      <th>PDH</th>\n",
       "      <th>PWD</th>\n",
       "      <th>WS1</th>\n",
       "      <th>WS2</th>\n",
       "      <th>WS3</th>\n",
       "      <th>FDH</th>\n",
       "      <th>FWH</th>\n",
       "      <th>FWD</th>\n",
       "    </tr>\n",
       "  </thead>\n",
       "  <tbody>\n",
       "    <tr>\n",
       "      <th>0</th>\n",
       "      <td>387604.0</td>\n",
       "      <td>27.942484</td>\n",
       "      <td>14.605581</td>\n",
       "      <td>0.003871</td>\n",
       "      <td>0.188178</td>\n",
       "      <td>0.0</td>\n",
       "      <td>11.820073</td>\n",
       "      <td>9.180426</td>\n",
       "      <td>5.166201</td>\n",
       "    </tr>\n",
       "    <tr>\n",
       "      <th>1</th>\n",
       "      <td>387605.0</td>\n",
       "      <td>164.753993</td>\n",
       "      <td>106.877243</td>\n",
       "      <td>0.015292</td>\n",
       "      <td>0.162790</td>\n",
       "      <td>0.0</td>\n",
       "      <td>13.732957</td>\n",
       "      <td>10.321867</td>\n",
       "      <td>4.791290</td>\n",
       "    </tr>\n",
       "    <tr>\n",
       "      <th>2</th>\n",
       "      <td>387608.0</td>\n",
       "      <td>114.246372</td>\n",
       "      <td>21.449510</td>\n",
       "      <td>0.001161</td>\n",
       "      <td>0.100000</td>\n",
       "      <td>0.0</td>\n",
       "      <td>6.883195</td>\n",
       "      <td>2.297492</td>\n",
       "      <td>1.519203</td>\n",
       "    </tr>\n",
       "    <tr>\n",
       "      <th>3</th>\n",
       "      <td>387644.0</td>\n",
       "      <td>147.319940</td>\n",
       "      <td>127.641763</td>\n",
       "      <td>0.000581</td>\n",
       "      <td>0.322395</td>\n",
       "      <td>0.0</td>\n",
       "      <td>3.797918</td>\n",
       "      <td>2.432918</td>\n",
       "      <td>2.027293</td>\n",
       "    </tr>\n",
       "    <tr>\n",
       "      <th>4</th>\n",
       "      <td>387650.0</td>\n",
       "      <td>97.469260</td>\n",
       "      <td>49.102222</td>\n",
       "      <td>0.015970</td>\n",
       "      <td>0.245105</td>\n",
       "      <td>0.0</td>\n",
       "      <td>13.622891</td>\n",
       "      <td>5.177756</td>\n",
       "      <td>4.932190</td>\n",
       "    </tr>\n",
       "  </tbody>\n",
       "</table>\n",
       "</div>"
      ],
      "text/plain": [
       "    user_id         PDH         PWD       WS1       WS2  WS3        FDH  \\\n",
       "0  387604.0   27.942484   14.605581  0.003871  0.188178  0.0  11.820073   \n",
       "1  387605.0  164.753993  106.877243  0.015292  0.162790  0.0  13.732957   \n",
       "2  387608.0  114.246372   21.449510  0.001161  0.100000  0.0   6.883195   \n",
       "3  387644.0  147.319940  127.641763  0.000581  0.322395  0.0   3.797918   \n",
       "4  387650.0   97.469260   49.102222  0.015970  0.245105  0.0  13.622891   \n",
       "\n",
       "         FWH       FWD  \n",
       "0   9.180426  5.166201  \n",
       "1  10.321867  4.791290  \n",
       "2   2.297492  1.519203  \n",
       "3   2.432918  2.027293  \n",
       "4   5.177756  4.932190  "
      ]
     },
     "execution_count": 84,
     "metadata": {},
     "output_type": "execute_result"
    }
   ],
   "source": [
    "reg_features.columns = ['user_id', 'PDH', 'PWD', 'WS1', 'WS2', 'WS3', 'FDH', 'FWH', 'FWD']\n",
    "reg_features.head()"
   ]
  },
  {
   "cell_type": "code",
   "execution_count": 85,
   "id": "5a8a289b-cf76-4162-899d-d0b7197f1682",
   "metadata": {},
   "outputs": [
    {
     "data": {
      "text/html": [
       "<div>\n",
       "<style scoped>\n",
       "    .dataframe tbody tr th:only-of-type {\n",
       "        vertical-align: middle;\n",
       "    }\n",
       "\n",
       "    .dataframe tbody tr th {\n",
       "        vertical-align: top;\n",
       "    }\n",
       "\n",
       "    .dataframe thead th {\n",
       "        text-align: right;\n",
       "    }\n",
       "</style>\n",
       "<table border=\"1\" class=\"dataframe\">\n",
       "  <thead>\n",
       "    <tr style=\"text-align: right;\">\n",
       "      <th></th>\n",
       "      <th>PDH</th>\n",
       "      <th>PWD</th>\n",
       "      <th>WS1</th>\n",
       "      <th>WS2</th>\n",
       "      <th>WS3</th>\n",
       "      <th>FDH</th>\n",
       "      <th>FWH</th>\n",
       "      <th>FWD</th>\n",
       "    </tr>\n",
       "  </thead>\n",
       "  <tbody>\n",
       "    <tr>\n",
       "      <th>count</th>\n",
       "      <td>2656.000000</td>\n",
       "      <td>2656.000000</td>\n",
       "      <td>2656.000000</td>\n",
       "      <td>2476.000000</td>\n",
       "      <td>2476.000000</td>\n",
       "      <td>2.656000e+03</td>\n",
       "      <td>2656.000000</td>\n",
       "      <td>2.656000e+03</td>\n",
       "    </tr>\n",
       "    <tr>\n",
       "      <th>mean</th>\n",
       "      <td>203.521843</td>\n",
       "      <td>182.799484</td>\n",
       "      <td>0.003355</td>\n",
       "      <td>0.323830</td>\n",
       "      <td>0.005603</td>\n",
       "      <td>5.720714e+00</td>\n",
       "      <td>4.942490</td>\n",
       "      <td>2.698046e+00</td>\n",
       "    </tr>\n",
       "    <tr>\n",
       "      <th>std</th>\n",
       "      <td>173.186375</td>\n",
       "      <td>203.468056</td>\n",
       "      <td>0.008354</td>\n",
       "      <td>0.322900</td>\n",
       "      <td>0.087413</td>\n",
       "      <td>5.711670e+00</td>\n",
       "      <td>5.121061</td>\n",
       "      <td>2.363010e+00</td>\n",
       "    </tr>\n",
       "    <tr>\n",
       "      <th>min</th>\n",
       "      <td>8.710755</td>\n",
       "      <td>6.315072</td>\n",
       "      <td>0.000000</td>\n",
       "      <td>0.000000</td>\n",
       "      <td>-1.250000</td>\n",
       "      <td>5.229633e-16</td>\n",
       "      <td>0.186727</td>\n",
       "      <td>4.965068e-16</td>\n",
       "    </tr>\n",
       "    <tr>\n",
       "      <th>25%</th>\n",
       "      <td>90.034079</td>\n",
       "      <td>62.088950</td>\n",
       "      <td>0.000000</td>\n",
       "      <td>0.000000</td>\n",
       "      <td>0.000000</td>\n",
       "      <td>2.710363e+00</td>\n",
       "      <td>2.080551</td>\n",
       "      <td>1.414214e+00</td>\n",
       "    </tr>\n",
       "    <tr>\n",
       "      <th>50%</th>\n",
       "      <td>154.298030</td>\n",
       "      <td>121.304532</td>\n",
       "      <td>0.001161</td>\n",
       "      <td>0.262427</td>\n",
       "      <td>0.000000</td>\n",
       "      <td>3.965779e+00</td>\n",
       "      <td>3.432022</td>\n",
       "      <td>2.000000e+00</td>\n",
       "    </tr>\n",
       "    <tr>\n",
       "      <th>75%</th>\n",
       "      <td>261.286674</td>\n",
       "      <td>223.779665</td>\n",
       "      <td>0.002323</td>\n",
       "      <td>0.443133</td>\n",
       "      <td>0.000000</td>\n",
       "      <td>6.616035e+00</td>\n",
       "      <td>5.594695</td>\n",
       "      <td>3.000000e+00</td>\n",
       "    </tr>\n",
       "    <tr>\n",
       "      <th>max</th>\n",
       "      <td>1364.971115</td>\n",
       "      <td>3062.141604</td>\n",
       "      <td>0.079752</td>\n",
       "      <td>1.000000</td>\n",
       "      <td>1.000000</td>\n",
       "      <td>6.951391e+01</td>\n",
       "      <td>51.765318</td>\n",
       "      <td>1.870196e+01</td>\n",
       "    </tr>\n",
       "  </tbody>\n",
       "</table>\n",
       "</div>"
      ],
      "text/plain": [
       "               PDH          PWD          WS1          WS2          WS3  \\\n",
       "count  2656.000000  2656.000000  2656.000000  2476.000000  2476.000000   \n",
       "mean    203.521843   182.799484     0.003355     0.323830     0.005603   \n",
       "std     173.186375   203.468056     0.008354     0.322900     0.087413   \n",
       "min       8.710755     6.315072     0.000000     0.000000    -1.250000   \n",
       "25%      90.034079    62.088950     0.000000     0.000000     0.000000   \n",
       "50%     154.298030   121.304532     0.001161     0.262427     0.000000   \n",
       "75%     261.286674   223.779665     0.002323     0.443133     0.000000   \n",
       "max    1364.971115  3062.141604     0.079752     1.000000     1.000000   \n",
       "\n",
       "                FDH          FWH           FWD  \n",
       "count  2.656000e+03  2656.000000  2.656000e+03  \n",
       "mean   5.720714e+00     4.942490  2.698046e+00  \n",
       "std    5.711670e+00     5.121061  2.363010e+00  \n",
       "min    5.229633e-16     0.186727  4.965068e-16  \n",
       "25%    2.710363e+00     2.080551  1.414214e+00  \n",
       "50%    3.965779e+00     3.432022  2.000000e+00  \n",
       "75%    6.616035e+00     5.594695  3.000000e+00  \n",
       "max    6.951391e+01    51.765318  1.870196e+01  "
      ]
     },
     "execution_count": 85,
     "metadata": {},
     "output_type": "execute_result"
    }
   ],
   "source": [
    "#some descriptive stats\n",
    "reg_features.drop('user_id', axis=1).describe()"
   ]
  },
  {
   "cell_type": "code",
   "execution_count": 90,
   "id": "a1fb25de-995c-4015-89f9-fe24c27e1467",
   "metadata": {},
   "outputs": [
    {
     "data": {
      "text/html": [
       "<div>\n",
       "<style scoped>\n",
       "    .dataframe tbody tr th:only-of-type {\n",
       "        vertical-align: middle;\n",
       "    }\n",
       "\n",
       "    .dataframe tbody tr th {\n",
       "        vertical-align: top;\n",
       "    }\n",
       "\n",
       "    .dataframe thead th {\n",
       "        text-align: right;\n",
       "    }\n",
       "</style>\n",
       "<table border=\"1\" class=\"dataframe\">\n",
       "  <thead>\n",
       "    <tr style=\"text-align: right;\">\n",
       "      <th></th>\n",
       "      <th>PDH</th>\n",
       "      <th>PWD</th>\n",
       "      <th>WS1</th>\n",
       "      <th>WS2</th>\n",
       "      <th>WS3</th>\n",
       "      <th>FDH</th>\n",
       "      <th>FWH</th>\n",
       "      <th>FWD</th>\n",
       "    </tr>\n",
       "  </thead>\n",
       "  <tbody>\n",
       "    <tr>\n",
       "      <th>PDH</th>\n",
       "      <td>1.000000</td>\n",
       "      <td>0.661052</td>\n",
       "      <td>0.347986</td>\n",
       "      <td>0.211583</td>\n",
       "      <td>0.122882</td>\n",
       "      <td>0.290867</td>\n",
       "      <td>0.283191</td>\n",
       "      <td>0.349597</td>\n",
       "    </tr>\n",
       "    <tr>\n",
       "      <th>PWD</th>\n",
       "      <td>0.661052</td>\n",
       "      <td>1.000000</td>\n",
       "      <td>0.543699</td>\n",
       "      <td>0.292506</td>\n",
       "      <td>0.039472</td>\n",
       "      <td>0.373046</td>\n",
       "      <td>0.531588</td>\n",
       "      <td>0.522008</td>\n",
       "    </tr>\n",
       "    <tr>\n",
       "      <th>WS1</th>\n",
       "      <td>0.347986</td>\n",
       "      <td>0.543699</td>\n",
       "      <td>1.000000</td>\n",
       "      <td>0.146237</td>\n",
       "      <td>-0.078301</td>\n",
       "      <td>0.754746</td>\n",
       "      <td>0.787021</td>\n",
       "      <td>0.863204</td>\n",
       "    </tr>\n",
       "    <tr>\n",
       "      <th>WS2</th>\n",
       "      <td>0.211583</td>\n",
       "      <td>0.292506</td>\n",
       "      <td>0.146237</td>\n",
       "      <td>1.000000</td>\n",
       "      <td>0.178355</td>\n",
       "      <td>0.003762</td>\n",
       "      <td>0.109581</td>\n",
       "      <td>0.200993</td>\n",
       "    </tr>\n",
       "    <tr>\n",
       "      <th>WS3</th>\n",
       "      <td>0.122882</td>\n",
       "      <td>0.039472</td>\n",
       "      <td>-0.078301</td>\n",
       "      <td>0.178355</td>\n",
       "      <td>1.000000</td>\n",
       "      <td>-0.107785</td>\n",
       "      <td>-0.092193</td>\n",
       "      <td>-0.067743</td>\n",
       "    </tr>\n",
       "    <tr>\n",
       "      <th>FDH</th>\n",
       "      <td>0.290867</td>\n",
       "      <td>0.373046</td>\n",
       "      <td>0.754746</td>\n",
       "      <td>0.003762</td>\n",
       "      <td>-0.107785</td>\n",
       "      <td>1.000000</td>\n",
       "      <td>0.766441</td>\n",
       "      <td>0.689512</td>\n",
       "    </tr>\n",
       "    <tr>\n",
       "      <th>FWH</th>\n",
       "      <td>0.283191</td>\n",
       "      <td>0.531588</td>\n",
       "      <td>0.787021</td>\n",
       "      <td>0.109581</td>\n",
       "      <td>-0.092193</td>\n",
       "      <td>0.766441</td>\n",
       "      <td>1.000000</td>\n",
       "      <td>0.897766</td>\n",
       "    </tr>\n",
       "    <tr>\n",
       "      <th>FWD</th>\n",
       "      <td>0.349597</td>\n",
       "      <td>0.522008</td>\n",
       "      <td>0.863204</td>\n",
       "      <td>0.200993</td>\n",
       "      <td>-0.067743</td>\n",
       "      <td>0.689512</td>\n",
       "      <td>0.897766</td>\n",
       "      <td>1.000000</td>\n",
       "    </tr>\n",
       "  </tbody>\n",
       "</table>\n",
       "</div>"
      ],
      "text/plain": [
       "          PDH       PWD       WS1       WS2       WS3       FDH       FWH  \\\n",
       "PDH  1.000000  0.661052  0.347986  0.211583  0.122882  0.290867  0.283191   \n",
       "PWD  0.661052  1.000000  0.543699  0.292506  0.039472  0.373046  0.531588   \n",
       "WS1  0.347986  0.543699  1.000000  0.146237 -0.078301  0.754746  0.787021   \n",
       "WS2  0.211583  0.292506  0.146237  1.000000  0.178355  0.003762  0.109581   \n",
       "WS3  0.122882  0.039472 -0.078301  0.178355  1.000000 -0.107785 -0.092193   \n",
       "FDH  0.290867  0.373046  0.754746  0.003762 -0.107785  1.000000  0.766441   \n",
       "FWH  0.283191  0.531588  0.787021  0.109581 -0.092193  0.766441  1.000000   \n",
       "FWD  0.349597  0.522008  0.863204  0.200993 -0.067743  0.689512  0.897766   \n",
       "\n",
       "          FWD  \n",
       "PDH  0.349597  \n",
       "PWD  0.522008  \n",
       "WS1  0.863204  \n",
       "WS2  0.200993  \n",
       "WS3 -0.067743  \n",
       "FDH  0.689512  \n",
       "FWH  0.897766  \n",
       "FWD  1.000000  "
      ]
     },
     "execution_count": 90,
     "metadata": {},
     "output_type": "execute_result"
    }
   ],
   "source": [
    "reg_features.drop('user_id', axis=1).corr()"
   ]
  },
  {
   "cell_type": "code",
   "execution_count": 29,
   "id": "5ea273d1-44b4-4e0f-87ac-350977889396",
   "metadata": {},
   "outputs": [],
   "source": [
    "def calculate_pvalues(df):\n",
    "    df = df.dropna()._get_numeric_data()\n",
    "    dfcols = pd.DataFrame(columns=df.columns)\n",
    "    pvalues = dfcols.transpose().join(dfcols, how='outer')\n",
    "    for r in df.columns:\n",
    "        for c in df.columns:\n",
    "            pvalues[r][c] = round(stats.pearsonr(df[r], df[c])[1], 4)\n",
    "    return pvalues"
   ]
  },
  {
   "cell_type": "code",
   "execution_count": 96,
   "id": "7a3b32ce-3ad2-4991-82d3-c45027276729",
   "metadata": {},
   "outputs": [
    {
     "data": {
      "text/html": [
       "<div>\n",
       "<style scoped>\n",
       "    .dataframe tbody tr th:only-of-type {\n",
       "        vertical-align: middle;\n",
       "    }\n",
       "\n",
       "    .dataframe tbody tr th {\n",
       "        vertical-align: top;\n",
       "    }\n",
       "\n",
       "    .dataframe thead th {\n",
       "        text-align: right;\n",
       "    }\n",
       "</style>\n",
       "<table border=\"1\" class=\"dataframe\">\n",
       "  <thead>\n",
       "    <tr style=\"text-align: right;\">\n",
       "      <th></th>\n",
       "      <th>PDH</th>\n",
       "      <th>PWD</th>\n",
       "      <th>WS1</th>\n",
       "      <th>WS2</th>\n",
       "      <th>WS3</th>\n",
       "      <th>FDH</th>\n",
       "      <th>FWH</th>\n",
       "      <th>FWD</th>\n",
       "    </tr>\n",
       "  </thead>\n",
       "  <tbody>\n",
       "    <tr>\n",
       "      <th>PDH</th>\n",
       "      <td>0.0</td>\n",
       "      <td>0.0</td>\n",
       "      <td>0.0</td>\n",
       "      <td>0.0</td>\n",
       "      <td>0.0</td>\n",
       "      <td>0.0</td>\n",
       "      <td>0.0</td>\n",
       "      <td>0.0</td>\n",
       "    </tr>\n",
       "    <tr>\n",
       "      <th>PWD</th>\n",
       "      <td>0.0</td>\n",
       "      <td>0.0</td>\n",
       "      <td>0.0</td>\n",
       "      <td>0.0</td>\n",
       "      <td>0.0495</td>\n",
       "      <td>0.0</td>\n",
       "      <td>0.0</td>\n",
       "      <td>0.0</td>\n",
       "    </tr>\n",
       "    <tr>\n",
       "      <th>WS1</th>\n",
       "      <td>0.0</td>\n",
       "      <td>0.0</td>\n",
       "      <td>0.0</td>\n",
       "      <td>0.0</td>\n",
       "      <td>0.0001</td>\n",
       "      <td>0.0</td>\n",
       "      <td>0.0</td>\n",
       "      <td>0.0</td>\n",
       "    </tr>\n",
       "    <tr>\n",
       "      <th>WS2</th>\n",
       "      <td>0.0</td>\n",
       "      <td>0.0</td>\n",
       "      <td>0.0</td>\n",
       "      <td>0.0</td>\n",
       "      <td>0.0</td>\n",
       "      <td>0.8516</td>\n",
       "      <td>0.0</td>\n",
       "      <td>0.0</td>\n",
       "    </tr>\n",
       "    <tr>\n",
       "      <th>WS3</th>\n",
       "      <td>0.0</td>\n",
       "      <td>0.0495</td>\n",
       "      <td>0.0001</td>\n",
       "      <td>0.0</td>\n",
       "      <td>0.0</td>\n",
       "      <td>0.0</td>\n",
       "      <td>0.0</td>\n",
       "      <td>0.0007</td>\n",
       "    </tr>\n",
       "    <tr>\n",
       "      <th>FDH</th>\n",
       "      <td>0.0</td>\n",
       "      <td>0.0</td>\n",
       "      <td>0.0</td>\n",
       "      <td>0.8516</td>\n",
       "      <td>0.0</td>\n",
       "      <td>0.0</td>\n",
       "      <td>0.0</td>\n",
       "      <td>0.0</td>\n",
       "    </tr>\n",
       "    <tr>\n",
       "      <th>FWH</th>\n",
       "      <td>0.0</td>\n",
       "      <td>0.0</td>\n",
       "      <td>0.0</td>\n",
       "      <td>0.0</td>\n",
       "      <td>0.0</td>\n",
       "      <td>0.0</td>\n",
       "      <td>0.0</td>\n",
       "      <td>0.0</td>\n",
       "    </tr>\n",
       "    <tr>\n",
       "      <th>FWD</th>\n",
       "      <td>0.0</td>\n",
       "      <td>0.0</td>\n",
       "      <td>0.0</td>\n",
       "      <td>0.0</td>\n",
       "      <td>0.0007</td>\n",
       "      <td>0.0</td>\n",
       "      <td>0.0</td>\n",
       "      <td>0.0</td>\n",
       "    </tr>\n",
       "  </tbody>\n",
       "</table>\n",
       "</div>"
      ],
      "text/plain": [
       "     PDH     PWD     WS1     WS2     WS3     FDH  FWH     FWD\n",
       "PDH  0.0     0.0     0.0     0.0     0.0     0.0  0.0     0.0\n",
       "PWD  0.0     0.0     0.0     0.0  0.0495     0.0  0.0     0.0\n",
       "WS1  0.0     0.0     0.0     0.0  0.0001     0.0  0.0     0.0\n",
       "WS2  0.0     0.0     0.0     0.0     0.0  0.8516  0.0     0.0\n",
       "WS3  0.0  0.0495  0.0001     0.0     0.0     0.0  0.0  0.0007\n",
       "FDH  0.0     0.0     0.0  0.8516     0.0     0.0  0.0     0.0\n",
       "FWH  0.0     0.0     0.0     0.0     0.0     0.0  0.0     0.0\n",
       "FWD  0.0     0.0     0.0     0.0  0.0007     0.0  0.0     0.0"
      ]
     },
     "execution_count": 96,
     "metadata": {},
     "output_type": "execute_result"
    }
   ],
   "source": [
    "calculate_pvalues(reg_features.drop('user_id', axis=1))  #strongly correlated features all over the shop. "
   ]
  },
  {
   "cell_type": "markdown",
   "id": "90cf8592-17b1-4c74-8cb4-846b17daa696",
   "metadata": {},
   "source": [
    "---"
   ]
  },
  {
   "cell_type": "code",
   "execution_count": 108,
   "id": "65b7b1a1-1a0b-4b4d-afb5-203d2b939312",
   "metadata": {},
   "outputs": [],
   "source": [
    "reg_features.to_csv('user_reg_features.csv.gz', compression='gzip', index=False)"
   ]
  },
  {
   "cell_type": "code",
   "execution_count": 106,
   "id": "b21ad88c-783a-4e7d-b88f-35d879967132",
   "metadata": {},
   "outputs": [],
   "source": [
    "import os\n",
    "os.getcwd()\n",
    "os.chdir('/Users/kc/Documents/milestone-4-roguesgallery/data/raw')"
   ]
  },
  {
   "cell_type": "markdown",
   "id": "fc073fe6-2077-4d84-aea9-10af0fbfe82a",
   "metadata": {},
   "source": [
    "---"
   ]
  },
  {
   "cell_type": "code",
   "execution_count": 86,
   "id": "14d4a285-70c1-4a1c-bfbd-03936e898130",
   "metadata": {},
   "outputs": [
    {
     "data": {
      "image/png": "[encoded data removed]",
      "text/plain": [
       "<Figure size 432x288 with 1 Axes>"
      ]
     },
     "metadata": {
      "needs_background": "light"
     },
     "output_type": "display_data"
    }
   ],
   "source": [
    "idx = reg_features['PWD'].idxmax()\n",
    "student_clean = reg_features['user_id'].loc[idx]\n",
    "time_measures_plot_student(student_clean, data_clean, 'weekday', no_weeks)"
   ]
  },
  {
   "cell_type": "markdown",
   "id": "3cfb99e5-c454-4d9c-9a26-db289f3ef092",
   "metadata": {},
   "source": [
    "---"
   ]
  },
  {
   "cell_type": "markdown",
   "id": "09a28933-2b64-4c47-9970-d292ee325b09",
   "metadata": {},
   "source": [
    "Here we define a function to find the following features `num_actions_per_week`, `eng_score`, `FDH`, `FWH`, `FWD`, and `num_weeks_on` which we will use in our DT classifier. \n",
    "\n",
    "The first and last features count the frequency of 'transaction-tokened' actions a student performs in a week and the number of weeks for which we observe them use the platform respectively. The second feature, `eng_score`, is a measure of engagement whose definition will ensue, it is inspired by the paper https://downloads.hindawi.com/journals/cin/2018/6347186.pdf. the remaining features we have already stated. We use them here for their explicit treatment of frequency which is certainly related to student engagement. "
   ]
  },
  {
   "cell_type": "markdown",
   "id": "e24e02aa-6849-492b-8042-a4aef8aca6cc",
   "metadata": {},
   "source": [
    "We look at some preliminary statistics to define our engagement score. "
   ]
  },
  {
   "cell_type": "code",
   "execution_count": 74,
   "id": "d2465680-1c84-4b18-b450-22f87a578de7",
   "metadata": {},
   "outputs": [
    {
     "data": {
      "text/html": [
       "<div>\n",
       "<style scoped>\n",
       "    .dataframe tbody tr th:only-of-type {\n",
       "        vertical-align: middle;\n",
       "    }\n",
       "\n",
       "    .dataframe tbody tr th {\n",
       "        vertical-align: top;\n",
       "    }\n",
       "\n",
       "    .dataframe thead th {\n",
       "        text-align: right;\n",
       "    }\n",
       "</style>\n",
       "<table border=\"1\" class=\"dataframe\">\n",
       "  <thead>\n",
       "    <tr style=\"text-align: right;\">\n",
       "      <th></th>\n",
       "      <th>user_id</th>\n",
       "      <th>week</th>\n",
       "      <th>action_x</th>\n",
       "      <th>action_y</th>\n",
       "      <th>prop</th>\n",
       "    </tr>\n",
       "  </thead>\n",
       "  <tbody>\n",
       "    <tr>\n",
       "      <th>0</th>\n",
       "      <td>387604.0</td>\n",
       "      <td>15</td>\n",
       "      <td>29</td>\n",
       "      <td>1</td>\n",
       "      <td>0.034483</td>\n",
       "    </tr>\n",
       "    <tr>\n",
       "      <th>1</th>\n",
       "      <td>387604.0</td>\n",
       "      <td>26</td>\n",
       "      <td>43</td>\n",
       "      <td>7</td>\n",
       "      <td>0.162791</td>\n",
       "    </tr>\n",
       "    <tr>\n",
       "      <th>2</th>\n",
       "      <td>387605.0</td>\n",
       "      <td>1</td>\n",
       "      <td>12</td>\n",
       "      <td>3</td>\n",
       "      <td>0.250000</td>\n",
       "    </tr>\n",
       "    <tr>\n",
       "      <th>3</th>\n",
       "      <td>387605.0</td>\n",
       "      <td>4</td>\n",
       "      <td>5</td>\n",
       "      <td>1</td>\n",
       "      <td>0.200000</td>\n",
       "    </tr>\n",
       "    <tr>\n",
       "      <th>4</th>\n",
       "      <td>387605.0</td>\n",
       "      <td>7</td>\n",
       "      <td>93</td>\n",
       "      <td>37</td>\n",
       "      <td>0.397849</td>\n",
       "    </tr>\n",
       "  </tbody>\n",
       "</table>\n",
       "</div>"
      ],
      "text/plain": [
       "    user_id  week  action_x  action_y      prop\n",
       "0  387604.0    15        29         1  0.034483\n",
       "1  387604.0    26        43         7  0.162791\n",
       "2  387605.0     1        12         3  0.250000\n",
       "3  387605.0     4         5         1  0.200000\n",
       "4  387605.0     7        93        37  0.397849"
      ]
     },
     "execution_count": 74,
     "metadata": {},
     "output_type": "execute_result"
    }
   ],
   "source": [
    "num_actions = data_clean.groupby(['user_id','week'])['action'].count().reset_index()\n",
    "num_eng_actions = data_clean[(data_clean['action'] == 'SUBMIT_ANSWER') | \n",
    "                             (data_clean['action'] == 'GO_TO_THEORY')].groupby(['user_id', 'week'])['action'].count().reset_index()\n",
    "tmp = num_actions.merge(num_eng_actions, on=['user_id', 'week'])\n",
    "tmp['prop'] = tmp.action_y / tmp.action_x\n",
    "tmp.head()"
   ]
  },
  {
   "cell_type": "code",
   "execution_count": 79,
   "id": "1925f6f2-bc09-4aed-9b3e-a26a290779e2",
   "metadata": {},
   "outputs": [
    {
     "data": {
      "image/png": "[encoded data removed]",
      "text/plain": [
       "<Figure size 1152x576 with 1 Axes>"
      ]
     },
     "metadata": {},
     "output_type": "display_data"
    }
   ],
   "source": [
    "ax = tmp['prop'].plot.hist(grid=False, color=greyscale[1])                 \n",
    "ax.set_xlabel('Proportion')\n",
    "ax.set_title('Histogram of proportion of actions which are \\n answer submission or going to theory')\n",
    "ax.set_ylabel('Frequency')\n",
    "ax.get_figure().savefig(FIG_DIR + 'eng_score_hist.jpg')"
   ]
  },
  {
   "cell_type": "code",
   "execution_count": 111,
   "id": "9266d7d8-17bc-4d3e-a7c0-f705e7282688",
   "metadata": {},
   "outputs": [
    {
     "data": {
      "text/plain": [
       "count    9231.000000\n",
       "mean        0.300117\n",
       "std         0.103919\n",
       "min         0.005263\n",
       "25%         0.230769\n",
       "50%         0.301075\n",
       "75%         0.370370\n",
       "max         0.727273\n",
       "Name: prop, dtype: float64"
      ]
     },
     "execution_count": 111,
     "metadata": {},
     "output_type": "execute_result"
    }
   ],
   "source": [
    "tmp['prop'].describe()"
   ]
  },
  {
   "cell_type": "markdown",
   "id": "0c04d000-746d-4f84-92cb-25ce1a37c7e5",
   "metadata": {},
   "source": [
    "Let $p_{ij}$ be the proportion of student $i$'s actions in a given week $j$ which are either `SUBMIT_ANSWER` or `GO_TO_THEORY`. Then (bases on the analysis above) define the $i$th  student's *engagement* in week $j$ to be $I(p_{ij})$ where \n",
    "\n",
    "$$\n",
    "I(x) = \\begin{cases} 1 & \\text{if}\\, x \\ge 0.25, \\\\ 0 & \\text{otherwise}. \\end{cases}\n",
    "$$"
   ]
  },
  {
   "cell_type": "code",
   "execution_count": 66,
   "id": "f5635a79-d6ea-4cc9-ba75-0150f2afd981",
   "metadata": {},
   "outputs": [],
   "source": [
    "def behavioural_features(df, lvl_chks):\n",
    "    \"\"\"\n",
    "    Compute features to feed decision tree classifier for level check scores.\n",
    "    \n",
    "    Input: df - complete DataFrame with user data\n",
    "           lvl_chks - DataFrame where first column is user_id and second is week on which user_id does a level check\n",
    "    Output: behavioural as described above features for each row of lvl_chks\n",
    "    \"\"\"\n",
    "    \n",
    "    users = list(set(lvl_chks.user_id))\n",
    "    behavioural_features = pd.DataFrame(columns = ['num_actions_per_week',\n",
    "                                                   'eng_score',\n",
    "                                                   'FDH',\n",
    "                                                   'FWH',\n",
    "                                                   'FWD',\n",
    "                                                   'num_weeks_on'],\n",
    "                                        index = [lvl_chks['user_id'], lvl_chks['week']]) #same nrows lvl_chks\n",
    "    \n",
    "    behavioural_features_dicts = []\n",
    "    \n",
    "    for user in users:\n",
    "        lvl_chk_weeks = lvl_chks[lvl_chks['user_id'] == user].week.tolist()\n",
    "        \n",
    "        for j, week in enumerate(lvl_chk_weeks): \n",
    "            df_user_week = df[(df['user_id'] == user) & (df['week'] <= week)]\n",
    "            \n",
    "            if df_user_week.empty:\n",
    "                behavioural_features_dicts.append({'num_actions_per_week' : 0,\n",
    "                                                   'eng_score' : 0,\n",
    "                                                   'FDH' : 0,\n",
    "                                                   'FWH' : 0,\n",
    "                                                   'FWD' : 0,\n",
    "                                                   'num_weeks_on' : 0,\n",
    "                                                   'user_id' : user,\n",
    "                                                   'week' : week,\n",
    "                                                   'validated' : lvl_chks[(lvl_chks['user_id'] == user) &\n",
    "                                                                          (lvl_chks['week'] == week)]['validated'].values[0]})\n",
    "                                                \n",
    "                continue \n",
    "            \n",
    "            sum_actions_week = df_user_week['action'].count() \n",
    "            sum_eng_actions_week = df_user_week[(df_user_week['action'] == 'SUBMIT_ANSWER') |\n",
    "                                                (df_user_week['action'] == 'GO_TO_THEORY')]['action'].count()\n",
    "            num_actions_per_week = sum_actions_week / (j+1)\n",
    "            eng_prop = sum_eng_actions_week / sum_actions_week\n",
    "            eng_score = 1 if eng_prop >= 0.25 else 0 \n",
    "            \n",
    "            FDH = freq(df_user_week, 'm1', j+1) \n",
    "            FWH = freq(df_user_week, 'm2', j+1)\n",
    "            FWD = freq(df_user_week, 'm3', j+1)\n",
    "            \n",
    "            num_weeks_on = j+1 #(i+1) counts how many weeks for which we have observed the user use the platform\n",
    "            \n",
    "            behavioural_features_dicts.append({'num_actions_per_week' :num_actions_per_week,\n",
    "                                               'eng_score' : eng_score,\n",
    "                                               'FDH' : FDH,\n",
    "                                               'FWH' : FWH,\n",
    "                                               'FWD' : FWD,\n",
    "                                               'num_weeks_on' : num_weeks_on,\n",
    "                                               'user_id' : user,\n",
    "                                               'week' : week,\n",
    "                                               'validated' : lvl_chks[(lvl_chks['user_id'] == user) &\n",
    "                                                                      (lvl_chks['week'] == week)]['validated'].values[0]})\n",
    "            \n",
    "    behavioural_features = pd.DataFrame(behavioural_features_dicts)\n",
    "    #print(behavioural_features)\n",
    "        \n",
    "    return behavioural_features "
   ]
  },
  {
   "cell_type": "code",
   "execution_count": 66,
   "id": "4e77a9f9-79dd-4e3b-9847-27c14aabebf9",
   "metadata": {},
   "outputs": [],
   "source": [
    "DATA_DIR = '/Users/kc/Documents/milestone-4-roguesgallery/data/processed' # You many change the directory"
   ]
  },
  {
   "cell_type": "code",
   "execution_count": 18,
   "id": "03d6b9f3-3597-4247-bf2c-6754df191842",
   "metadata": {},
   "outputs": [],
   "source": [
    "lvl_chks = pd.read_csv('{}/df_labels.csv.gz'.format(DATA_DIR))"
   ]
  },
  {
   "cell_type": "code",
   "execution_count": 9,
   "id": "2379dbd3-d61b-4a82-980c-2ed54032845b",
   "metadata": {},
   "outputs": [
    {
     "data": {
      "text/html": [
       "<div>\n",
       "<style scoped>\n",
       "    .dataframe tbody tr th:only-of-type {\n",
       "        vertical-align: middle;\n",
       "    }\n",
       "\n",
       "    .dataframe tbody tr th {\n",
       "        vertical-align: top;\n",
       "    }\n",
       "\n",
       "    .dataframe thead th {\n",
       "        text-align: right;\n",
       "    }\n",
       "</style>\n",
       "<table border=\"1\" class=\"dataframe\">\n",
       "  <thead>\n",
       "    <tr style=\"text-align: right;\">\n",
       "      <th></th>\n",
       "      <th>Unnamed: 0</th>\n",
       "      <th>user_id</th>\n",
       "      <th>week</th>\n",
       "      <th>validated</th>\n",
       "    </tr>\n",
       "  </thead>\n",
       "  <tbody>\n",
       "    <tr>\n",
       "      <th>0</th>\n",
       "      <td>0</td>\n",
       "      <td>387604</td>\n",
       "      <td>2</td>\n",
       "      <td>True</td>\n",
       "    </tr>\n",
       "    <tr>\n",
       "      <th>1</th>\n",
       "      <td>1</td>\n",
       "      <td>387604</td>\n",
       "      <td>17</td>\n",
       "      <td>False</td>\n",
       "    </tr>\n",
       "    <tr>\n",
       "      <th>2</th>\n",
       "      <td>2</td>\n",
       "      <td>387604</td>\n",
       "      <td>18</td>\n",
       "      <td>True</td>\n",
       "    </tr>\n",
       "    <tr>\n",
       "      <th>3</th>\n",
       "      <td>3</td>\n",
       "      <td>387604</td>\n",
       "      <td>27</td>\n",
       "      <td>False</td>\n",
       "    </tr>\n",
       "    <tr>\n",
       "      <th>4</th>\n",
       "      <td>4</td>\n",
       "      <td>387604</td>\n",
       "      <td>28</td>\n",
       "      <td>True</td>\n",
       "    </tr>\n",
       "  </tbody>\n",
       "</table>\n",
       "</div>"
      ],
      "text/plain": [
       "   Unnamed: 0  user_id  week  validated\n",
       "0           0   387604     2       True\n",
       "1           1   387604    17      False\n",
       "2           2   387604    18       True\n",
       "3           3   387604    27      False\n",
       "4           4   387604    28       True"
      ]
     },
     "execution_count": 9,
     "metadata": {},
     "output_type": "execute_result"
    }
   ],
   "source": [
    "lvl_chks.head()"
   ]
  },
  {
   "cell_type": "code",
   "execution_count": 55,
   "id": "326e0209-3ffd-4d87-9f9b-9fd8282f0c7b",
   "metadata": {},
   "outputs": [
    {
     "data": {
      "text/html": [
       "<div>\n",
       "<style scoped>\n",
       "    .dataframe tbody tr th:only-of-type {\n",
       "        vertical-align: middle;\n",
       "    }\n",
       "\n",
       "    .dataframe tbody tr th {\n",
       "        vertical-align: top;\n",
       "    }\n",
       "\n",
       "    .dataframe thead th {\n",
       "        text-align: right;\n",
       "    }\n",
       "</style>\n",
       "<table border=\"1\" class=\"dataframe\">\n",
       "  <thead>\n",
       "    <tr style=\"text-align: right;\">\n",
       "      <th></th>\n",
       "      <th>user_id</th>\n",
       "      <th>week</th>\n",
       "    </tr>\n",
       "  </thead>\n",
       "  <tbody>\n",
       "    <tr>\n",
       "      <th>0</th>\n",
       "      <td>387604</td>\n",
       "      <td>2</td>\n",
       "    </tr>\n",
       "    <tr>\n",
       "      <th>1</th>\n",
       "      <td>387604</td>\n",
       "      <td>17</td>\n",
       "    </tr>\n",
       "    <tr>\n",
       "      <th>2</th>\n",
       "      <td>387604</td>\n",
       "      <td>18</td>\n",
       "    </tr>\n",
       "    <tr>\n",
       "      <th>3</th>\n",
       "      <td>387604</td>\n",
       "      <td>27</td>\n",
       "    </tr>\n",
       "    <tr>\n",
       "      <th>4</th>\n",
       "      <td>387604</td>\n",
       "      <td>28</td>\n",
       "    </tr>\n",
       "  </tbody>\n",
       "</table>\n",
       "</div>"
      ],
      "text/plain": [
       "   user_id  week\n",
       "0   387604     2\n",
       "1   387604    17\n",
       "2   387604    18\n",
       "3   387604    27\n",
       "4   387604    28"
      ]
     },
     "execution_count": 55,
     "metadata": {},
     "output_type": "execute_result"
    }
   ],
   "source": [
    "lvl_chk_times = lvl_chks[['user_id', 'week']]\n",
    "lvl_chk_times.head()"
   ]
  },
  {
   "cell_type": "code",
   "execution_count": 68,
   "id": "fa79dcca-fccf-47b7-bc2d-6b00283ec7d4",
   "metadata": {},
   "outputs": [],
   "source": [
    "bfts = behavioural_features(data_clean, lvl_chk_times)"
   ]
  },
  {
   "cell_type": "code",
   "execution_count": 86,
   "id": "186f7040-401a-431d-a2c5-251e92d17d7e",
   "metadata": {},
   "outputs": [
    {
     "data": {
      "text/html": [
       "<div>\n",
       "<style scoped>\n",
       "    .dataframe tbody tr th:only-of-type {\n",
       "        vertical-align: middle;\n",
       "    }\n",
       "\n",
       "    .dataframe tbody tr th {\n",
       "        vertical-align: top;\n",
       "    }\n",
       "\n",
       "    .dataframe thead th {\n",
       "        text-align: right;\n",
       "    }\n",
       "</style>\n",
       "<table border=\"1\" class=\"dataframe\">\n",
       "  <thead>\n",
       "    <tr style=\"text-align: right;\">\n",
       "      <th></th>\n",
       "      <th>num_actions_per_week</th>\n",
       "      <th>eng_score</th>\n",
       "      <th>FDH</th>\n",
       "      <th>FWH</th>\n",
       "      <th>FWD</th>\n",
       "      <th>num_weeks_on</th>\n",
       "      <th>user_id</th>\n",
       "      <th>week</th>\n",
       "    </tr>\n",
       "  </thead>\n",
       "  <tbody>\n",
       "    <tr>\n",
       "      <th>0</th>\n",
       "      <td>241.000000</td>\n",
       "      <td>1</td>\n",
       "      <td>1.0</td>\n",
       "      <td>1.0</td>\n",
       "      <td>1.0</td>\n",
       "      <td>1</td>\n",
       "      <td>393216</td>\n",
       "      <td>2</td>\n",
       "    </tr>\n",
       "    <tr>\n",
       "      <th>1</th>\n",
       "      <td>120.500000</td>\n",
       "      <td>1</td>\n",
       "      <td>2.0</td>\n",
       "      <td>2.0</td>\n",
       "      <td>2.0</td>\n",
       "      <td>2</td>\n",
       "      <td>393216</td>\n",
       "      <td>17</td>\n",
       "    </tr>\n",
       "    <tr>\n",
       "      <th>2</th>\n",
       "      <td>80.333333</td>\n",
       "      <td>1</td>\n",
       "      <td>2.0</td>\n",
       "      <td>2.0</td>\n",
       "      <td>2.0</td>\n",
       "      <td>3</td>\n",
       "      <td>393216</td>\n",
       "      <td>18</td>\n",
       "    </tr>\n",
       "    <tr>\n",
       "      <th>3</th>\n",
       "      <td>60.250000</td>\n",
       "      <td>1</td>\n",
       "      <td>2.0</td>\n",
       "      <td>2.0</td>\n",
       "      <td>2.0</td>\n",
       "      <td>4</td>\n",
       "      <td>393216</td>\n",
       "      <td>27</td>\n",
       "    </tr>\n",
       "    <tr>\n",
       "      <th>4</th>\n",
       "      <td>48.200000</td>\n",
       "      <td>1</td>\n",
       "      <td>2.0</td>\n",
       "      <td>2.0</td>\n",
       "      <td>2.0</td>\n",
       "      <td>5</td>\n",
       "      <td>393216</td>\n",
       "      <td>28</td>\n",
       "    </tr>\n",
       "  </tbody>\n",
       "</table>\n",
       "</div>"
      ],
      "text/plain": [
       "   num_actions_per_week  eng_score  FDH  FWH  FWD  num_weeks_on  user_id  week\n",
       "0            241.000000          1  1.0  1.0  1.0             1   393216     2\n",
       "1            120.500000          1  2.0  2.0  2.0             2   393216    17\n",
       "2             80.333333          1  2.0  2.0  2.0             3   393216    18\n",
       "3             60.250000          1  2.0  2.0  2.0             4   393216    27\n",
       "4             48.200000          1  2.0  2.0  2.0             5   393216    28"
      ]
     },
     "execution_count": 86,
     "metadata": {},
     "output_type": "execute_result"
    }
   ],
   "source": [
    "bfts.head()"
   ]
  },
  {
   "cell_type": "code",
   "execution_count": 25,
   "id": "e9848e38-da6e-4a25-ba02-a30d5b67fce5",
   "metadata": {},
   "outputs": [],
   "source": [
    "import os\n",
    "os.getcwd()\n",
    "os.chdir('/Users/kc/Documents/milestone-4-roguesgallery/data/processed')"
   ]
  },
  {
   "cell_type": "code",
   "execution_count": 78,
   "id": "fc863674-001a-40f5-9b2d-76dba0969cd7",
   "metadata": {},
   "outputs": [],
   "source": [
    "bfts.to_csv('behavioural_features.csv.gz', compression='gzip', index=False)"
   ]
  },
  {
   "cell_type": "markdown",
   "id": "e8ccd3c9-e253-4885-9fe2-8018f5e87325",
   "metadata": {},
   "source": [
    "---"
   ]
  },
  {
   "cell_type": "code",
   "execution_count": 72,
   "id": "a22117bc-3031-4e62-a977-f1a553db0af3",
   "metadata": {},
   "outputs": [],
   "source": [
    "bfts_raw = pd.read_csv(\"{}/behavioural_features.csv.gz\".format(DATA_DIR))"
   ]
  },
  {
   "cell_type": "code",
   "execution_count": 73,
   "id": "5838c2cc-1c51-4772-95f8-064b0ab4d78a",
   "metadata": {},
   "outputs": [
    {
     "data": {
      "text/html": [
       "<div>\n",
       "<style scoped>\n",
       "    .dataframe tbody tr th:only-of-type {\n",
       "        vertical-align: middle;\n",
       "    }\n",
       "\n",
       "    .dataframe tbody tr th {\n",
       "        vertical-align: top;\n",
       "    }\n",
       "\n",
       "    .dataframe thead th {\n",
       "        text-align: right;\n",
       "    }\n",
       "</style>\n",
       "<table border=\"1\" class=\"dataframe\">\n",
       "  <thead>\n",
       "    <tr style=\"text-align: right;\">\n",
       "      <th></th>\n",
       "      <th>num_actions_per_week</th>\n",
       "      <th>eng_score</th>\n",
       "      <th>FDH</th>\n",
       "      <th>FWH</th>\n",
       "      <th>FWD</th>\n",
       "      <th>num_weeks_on</th>\n",
       "      <th>user_id</th>\n",
       "      <th>week</th>\n",
       "      <th>validated_x</th>\n",
       "      <th>validated_y</th>\n",
       "    </tr>\n",
       "  </thead>\n",
       "  <tbody>\n",
       "    <tr>\n",
       "      <th>0</th>\n",
       "      <td>241.000000</td>\n",
       "      <td>1</td>\n",
       "      <td>1.0</td>\n",
       "      <td>1.0</td>\n",
       "      <td>1.0</td>\n",
       "      <td>1</td>\n",
       "      <td>393216</td>\n",
       "      <td>2</td>\n",
       "      <td>1</td>\n",
       "      <td>True</td>\n",
       "    </tr>\n",
       "    <tr>\n",
       "      <th>1</th>\n",
       "      <td>120.500000</td>\n",
       "      <td>1</td>\n",
       "      <td>2.0</td>\n",
       "      <td>2.0</td>\n",
       "      <td>2.0</td>\n",
       "      <td>2</td>\n",
       "      <td>393216</td>\n",
       "      <td>17</td>\n",
       "      <td>0</td>\n",
       "      <td>False</td>\n",
       "    </tr>\n",
       "    <tr>\n",
       "      <th>2</th>\n",
       "      <td>80.333333</td>\n",
       "      <td>1</td>\n",
       "      <td>2.0</td>\n",
       "      <td>2.0</td>\n",
       "      <td>2.0</td>\n",
       "      <td>3</td>\n",
       "      <td>393216</td>\n",
       "      <td>18</td>\n",
       "      <td>1</td>\n",
       "      <td>True</td>\n",
       "    </tr>\n",
       "    <tr>\n",
       "      <th>3</th>\n",
       "      <td>60.250000</td>\n",
       "      <td>1</td>\n",
       "      <td>2.0</td>\n",
       "      <td>2.0</td>\n",
       "      <td>2.0</td>\n",
       "      <td>4</td>\n",
       "      <td>393216</td>\n",
       "      <td>27</td>\n",
       "      <td>0</td>\n",
       "      <td>False</td>\n",
       "    </tr>\n",
       "    <tr>\n",
       "      <th>4</th>\n",
       "      <td>48.200000</td>\n",
       "      <td>1</td>\n",
       "      <td>2.0</td>\n",
       "      <td>2.0</td>\n",
       "      <td>2.0</td>\n",
       "      <td>5</td>\n",
       "      <td>393216</td>\n",
       "      <td>28</td>\n",
       "      <td>1</td>\n",
       "      <td>True</td>\n",
       "    </tr>\n",
       "  </tbody>\n",
       "</table>\n",
       "</div>"
      ],
      "text/plain": [
       "   num_actions_per_week  eng_score  FDH  FWH  FWD  num_weeks_on  user_id  \\\n",
       "0            241.000000          1  1.0  1.0  1.0             1   393216   \n",
       "1            120.500000          1  2.0  2.0  2.0             2   393216   \n",
       "2             80.333333          1  2.0  2.0  2.0             3   393216   \n",
       "3             60.250000          1  2.0  2.0  2.0             4   393216   \n",
       "4             48.200000          1  2.0  2.0  2.0             5   393216   \n",
       "\n",
       "   week  validated_x  validated_y  \n",
       "0     2            1         True  \n",
       "1    17            0        False  \n",
       "2    18            1         True  \n",
       "3    27            0        False  \n",
       "4    28            1         True  "
      ]
     },
     "execution_count": 73,
     "metadata": {},
     "output_type": "execute_result"
    }
   ],
   "source": [
    "bfts_pf = bfts_raw.merge(lvl_chks.drop(lvl_chks.columns[0], axis=1), on=['user_id', 'week'])\n",
    "bfts_pf.head()"
   ]
  },
  {
   "cell_type": "code",
   "execution_count": 75,
   "id": "f07a3a02-8d02-4294-951f-612022d1712e",
   "metadata": {},
   "outputs": [
    {
     "data": {
      "text/plain": [
       "False"
      ]
     },
     "execution_count": 75,
     "metadata": {},
     "output_type": "execute_result"
    }
   ],
   "source": []
  },
  {
   "cell_type": "code",
   "execution_count": 16,
   "id": "3082f441-5ee6-418d-9c67-8dc3734307c6",
   "metadata": {},
   "outputs": [
    {
     "data": {
      "text/html": [
       "<div>\n",
       "<style scoped>\n",
       "    .dataframe tbody tr th:only-of-type {\n",
       "        vertical-align: middle;\n",
       "    }\n",
       "\n",
       "    .dataframe tbody tr th {\n",
       "        vertical-align: top;\n",
       "    }\n",
       "\n",
       "    .dataframe thead th {\n",
       "        text-align: right;\n",
       "    }\n",
       "</style>\n",
       "<table border=\"1\" class=\"dataframe\">\n",
       "  <thead>\n",
       "    <tr style=\"text-align: right;\">\n",
       "      <th></th>\n",
       "      <th>num_actions_per_week</th>\n",
       "      <th>eng_score</th>\n",
       "      <th>FDH</th>\n",
       "      <th>FWH</th>\n",
       "      <th>FWD</th>\n",
       "      <th>num_weeks_on</th>\n",
       "      <th>user_id</th>\n",
       "      <th>week</th>\n",
       "      <th>validated</th>\n",
       "    </tr>\n",
       "  </thead>\n",
       "  <tbody>\n",
       "    <tr>\n",
       "      <th>0</th>\n",
       "      <td>241.000000</td>\n",
       "      <td>1</td>\n",
       "      <td>1.0</td>\n",
       "      <td>1.0</td>\n",
       "      <td>1.0</td>\n",
       "      <td>1</td>\n",
       "      <td>393216</td>\n",
       "      <td>2</td>\n",
       "      <td>1</td>\n",
       "    </tr>\n",
       "    <tr>\n",
       "      <th>1</th>\n",
       "      <td>120.500000</td>\n",
       "      <td>1</td>\n",
       "      <td>2.0</td>\n",
       "      <td>2.0</td>\n",
       "      <td>2.0</td>\n",
       "      <td>2</td>\n",
       "      <td>393216</td>\n",
       "      <td>17</td>\n",
       "      <td>0</td>\n",
       "    </tr>\n",
       "    <tr>\n",
       "      <th>2</th>\n",
       "      <td>80.333333</td>\n",
       "      <td>1</td>\n",
       "      <td>2.0</td>\n",
       "      <td>2.0</td>\n",
       "      <td>2.0</td>\n",
       "      <td>3</td>\n",
       "      <td>393216</td>\n",
       "      <td>18</td>\n",
       "      <td>1</td>\n",
       "    </tr>\n",
       "    <tr>\n",
       "      <th>3</th>\n",
       "      <td>60.250000</td>\n",
       "      <td>1</td>\n",
       "      <td>2.0</td>\n",
       "      <td>2.0</td>\n",
       "      <td>2.0</td>\n",
       "      <td>4</td>\n",
       "      <td>393216</td>\n",
       "      <td>27</td>\n",
       "      <td>0</td>\n",
       "    </tr>\n",
       "    <tr>\n",
       "      <th>4</th>\n",
       "      <td>48.200000</td>\n",
       "      <td>1</td>\n",
       "      <td>2.0</td>\n",
       "      <td>2.0</td>\n",
       "      <td>2.0</td>\n",
       "      <td>5</td>\n",
       "      <td>393216</td>\n",
       "      <td>28</td>\n",
       "      <td>1</td>\n",
       "    </tr>\n",
       "  </tbody>\n",
       "</table>\n",
       "</div>"
      ],
      "text/plain": [
       "   num_actions_per_week  eng_score  FDH  FWH  FWD  num_weeks_on  user_id  \\\n",
       "0            241.000000          1  1.0  1.0  1.0             1   393216   \n",
       "1            120.500000          1  2.0  2.0  2.0             2   393216   \n",
       "2             80.333333          1  2.0  2.0  2.0             3   393216   \n",
       "3             60.250000          1  2.0  2.0  2.0             4   393216   \n",
       "4             48.200000          1  2.0  2.0  2.0             5   393216   \n",
       "\n",
       "   week  validated  \n",
       "0     2          1  \n",
       "1    17          0  \n",
       "2    18          1  \n",
       "3    27          0  \n",
       "4    28          1  "
      ]
     },
     "execution_count": 16,
     "metadata": {},
     "output_type": "execute_result"
    }
   ],
   "source": [
    "bfts_pf['validated'] = bfts_pf['validated'].astype(int)\n",
    "bfts_pf.head()"
   ]
  },
  {
   "cell_type": "code",
   "execution_count": 18,
   "id": "21b84b39-b455-4c91-8e21-87eacffa6a35",
   "metadata": {},
   "outputs": [],
   "source": [
    "bfts_pf.to_csv('behavioural_features.csv.gz', compression='gzip', index=False)"
   ]
  },
  {
   "cell_type": "markdown",
   "id": "457ef23c-aae5-4dbb-8de6-bf2f339001b2",
   "metadata": {},
   "source": [
    "---\n",
    "\n",
    "Compute behavioural_features on the clusters"
   ]
  },
  {
   "cell_type": "code",
   "execution_count": 9,
   "id": "61e6d228-c9d0-4c96-abf7-55209bf12d2a",
   "metadata": {},
   "outputs": [
    {
     "data": {
      "text/html": [
       "<div>\n",
       "<style scoped>\n",
       "    .dataframe tbody tr th:only-of-type {\n",
       "        vertical-align: middle;\n",
       "    }\n",
       "\n",
       "    .dataframe tbody tr th {\n",
       "        vertical-align: top;\n",
       "    }\n",
       "\n",
       "    .dataframe thead th {\n",
       "        text-align: right;\n",
       "    }\n",
       "</style>\n",
       "<table border=\"1\" class=\"dataframe\">\n",
       "  <thead>\n",
       "    <tr style=\"text-align: right;\">\n",
       "      <th></th>\n",
       "      <th>user_id</th>\n",
       "      <th>cluster_id</th>\n",
       "    </tr>\n",
       "  </thead>\n",
       "  <tbody>\n",
       "    <tr>\n",
       "      <th>0</th>\n",
       "      <td>387604.0</td>\n",
       "      <td>0</td>\n",
       "    </tr>\n",
       "    <tr>\n",
       "      <th>1</th>\n",
       "      <td>387885.0</td>\n",
       "      <td>0</td>\n",
       "    </tr>\n",
       "    <tr>\n",
       "      <th>2</th>\n",
       "      <td>387892.0</td>\n",
       "      <td>0</td>\n",
       "    </tr>\n",
       "    <tr>\n",
       "      <th>3</th>\n",
       "      <td>388059.0</td>\n",
       "      <td>0</td>\n",
       "    </tr>\n",
       "    <tr>\n",
       "      <th>4</th>\n",
       "      <td>388067.0</td>\n",
       "      <td>0</td>\n",
       "    </tr>\n",
       "  </tbody>\n",
       "</table>\n",
       "</div>"
      ],
      "text/plain": [
       "    user_id  cluster_id\n",
       "0  387604.0           0\n",
       "1  387885.0           0\n",
       "2  387892.0           0\n",
       "3  388059.0           0\n",
       "4  388067.0           0"
      ]
     },
     "execution_count": 9,
     "metadata": {},
     "output_type": "execute_result"
    }
   ],
   "source": [
    "clusters_german = pd.read_pickle(\"{}/clustering_labels_german.pickle\".format(DATA_DIR))\n",
    "clusters_math = pd.read_pickle(\"{}/clustering_labels_math.pickle\".format(DATA_DIR))\n",
    "clusters_german.head()"
   ]
  },
  {
   "cell_type": "code",
   "execution_count": 10,
   "id": "13d04b39-c659-4710-998c-d76bb5f3909b",
   "metadata": {},
   "outputs": [
    {
     "data": {
      "text/html": [
       "<div>\n",
       "<style scoped>\n",
       "    .dataframe tbody tr th:only-of-type {\n",
       "        vertical-align: middle;\n",
       "    }\n",
       "\n",
       "    .dataframe tbody tr th {\n",
       "        vertical-align: top;\n",
       "    }\n",
       "\n",
       "    .dataframe thead th {\n",
       "        text-align: right;\n",
       "    }\n",
       "</style>\n",
       "<table border=\"1\" class=\"dataframe\">\n",
       "  <thead>\n",
       "    <tr style=\"text-align: right;\">\n",
       "      <th></th>\n",
       "      <th>user_id</th>\n",
       "      <th>cluster_id</th>\n",
       "    </tr>\n",
       "  </thead>\n",
       "  <tbody>\n",
       "    <tr>\n",
       "      <th>11</th>\n",
       "      <td>388259.0</td>\n",
       "      <td>1</td>\n",
       "    </tr>\n",
       "  </tbody>\n",
       "</table>\n",
       "</div>"
      ],
      "text/plain": [
       "     user_id  cluster_id\n",
       "11  388259.0           1"
      ]
     },
     "execution_count": 10,
     "metadata": {},
     "output_type": "execute_result"
    }
   ],
   "source": [
    "clusters_german[clusters_german['cluster_id'] == 1]"
   ]
  },
  {
   "cell_type": "code",
   "execution_count": 67,
   "id": "afc30c38-50b3-4def-81d6-df1108e1be5f",
   "metadata": {},
   "outputs": [],
   "source": [
    "def behavioural_features_clustered(data, lvl_chks, cluster_labels, subject):\n",
    "    lvl_chks = lvl_chks.merge(cluster_labels, on='user_id', how='right')\n",
    "    \n",
    "    if subject == 'math':\n",
    "        for label in range(2):\n",
    "            lvl_chks_cluster = lvl_chks[lvl_chks['cluster_id'] == label].drop(lvl_chks.columns[0], axis=1)\n",
    "            bfts = behavioural_features(data, lvl_chks_cluster)\n",
    "            bfts.to_csv(f\"behavioural_features_{subject}_cluster_id_{label}.csv.gz\", compression='gzip', index=False)\n",
    "    \n",
    "    if subject == 'german':\n",
    "        for label in range(2):\n",
    "            lvl_chks_cluster = lvl_chks[lvl_chks['cluster_id'] == label].drop(lvl_chks.columns[0], axis=1)\n",
    "            bfts = behavioural_features(data, lvl_chks_cluster)\n",
    "            bfts.to_csv(f\"behavioural_features_{subject}_cluster_id_{label}.csv.gz\", compression='gzip', index=False)"
   ]
  },
  {
   "cell_type": "code",
   "execution_count": null,
   "id": "e3280541-4a51-4a4c-9f8c-1c80bbd31306",
   "metadata": {},
   "outputs": [],
   "source": [
    "behavioural_features_clustered(data_clean, lvl_chks, clusters_math, 'math')\n",
    "behavioural_features_clustered(data_clean, lvl_chks, clusters_german, 'german')"
   ]
  },
  {
   "cell_type": "markdown",
   "id": "ddddf63f-664c-4422-ba98-ddf539d4353f",
   "metadata": {},
   "source": [
    "---"
   ]
  },
  {
   "cell_type": "code",
   "execution_count": 70,
   "id": "6f6f22b9-1365-452a-9768-b0a93b0ad2b6",
   "metadata": {},
   "outputs": [],
   "source": [
    "tmp = pd.read_csv(\"{}/behavioural_features.csv.gz\".format(DATA_DIR))"
   ]
  },
  {
   "cell_type": "code",
   "execution_count": 72,
   "id": "da47434c-0f2a-4707-a6b3-4dfcce102389",
   "metadata": {},
   "outputs": [
    {
     "data": {
      "image/png": "[encoded data removed]",
      "text/plain": [
       "<Figure size 1152x576 with 2 Axes>"
      ]
     },
     "metadata": {},
     "output_type": "display_data"
    }
   ],
   "source": [
    "import seaborn as sns\n",
    "\n",
    "\n",
    "sns.set(rc = {'figure.figsize':(16,8)})\n",
    "ax = sns.heatmap(tmp.drop(['user_id', 'week', 'validated'], axis=1).corr(), \n",
    "                 annot = True, \n",
    "                 fmt='.2g', \n",
    "                 cmap= 'coolwarm')\n",
    "ax.get_figure().savefig(FIG_DIR + 'feature_corr.jpg')"
   ]
  },
  {
   "cell_type": "code",
   "execution_count": 86,
   "id": "1ba835e7-3e55-4e4e-b7fe-ef6988205d4a",
   "metadata": {},
   "outputs": [],
   "source": [
    "sns.reset_orig()"
   ]
  },
  {
   "cell_type": "markdown",
   "id": "85633adb-d317-4ee3-bf06-e9f82f589c41",
   "metadata": {
    "id": "85633adb-d317-4ee3-bf06-e9f82f589c41"
   },
   "source": [
    "## Task 2: Model Building\n",
    "\n",
    "Train a model for your research question. "
   ]
  },
  {
   "cell_type": "code",
   "execution_count": null,
   "id": "90b65ebd-c148-4ae8-833e-018411eeda86",
   "metadata": {
    "id": "90b65ebd-c148-4ae8-833e-018411eeda86"
   },
   "outputs": [],
   "source": [
    "# Your code for training a model goes here"
   ]
  },
  {
   "cell_type": "markdown",
   "id": "cf1f7375",
   "metadata": {},
   "source": [
    "*Your discussion about your model training goes here*"
   ]
  },
  {
   "cell_type": "markdown",
   "id": "b3c9a655-cec9-4c57-aec7-7a982f57a3af",
   "metadata": {
    "id": "b3c9a655-cec9-4c57-aec7-7a982f57a3af"
   },
   "source": [
    "## Task 3: Model Evaluation\n",
    "In this task, you will use metrics to evaluate your model."
   ]
  },
  {
   "cell_type": "code",
   "execution_count": null,
   "id": "f65720b8",
   "metadata": {},
   "outputs": [],
   "source": [
    "# Your code for model evaluation goes here"
   ]
  },
  {
   "cell_type": "markdown",
   "id": "62968daa",
   "metadata": {},
   "source": [
    "*Your discussion/interpretation about your model's behavior goes here*"
   ]
  }
 ],
 "metadata": {
  "colab": {
   "collapsed_sections": [],
   "name": "m2-classtime-sciper.ipynb",
   "provenance": []
  },
  "kernelspec": {
   "display_name": "Python 3 (ipykernel)",
   "language": "python",
   "name": "python3"
  },
  "language_info": {
   "codemirror_mode": {
    "name": "ipython",
    "version": 3
   },
   "file_extension": ".py",
   "mimetype": "text/x-python",
   "name": "python",
   "nbconvert_exporter": "python",
   "pygments_lexer": "ipython3",
   "version": "3.9.7"
  }
 },
 "nbformat": 4,
 "nbformat_minor": 5
}
