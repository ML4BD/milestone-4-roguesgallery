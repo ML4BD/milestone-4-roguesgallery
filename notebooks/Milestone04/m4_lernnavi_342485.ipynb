{
 "cells": [
  {
   "cell_type": "markdown",
   "id": "8af48ca1-b6d1-4092-b7b5-037d3c2d7aef",
   "metadata": {
    "id": "8af48ca1-b6d1-4092-b7b5-037d3c2d7aef"
   },
   "source": [
    "# M4 | Research Investigation Notebook\n",
    "\n",
    "In this notebook, you will do a research investigation of your chosen dataset in teams. You will begin by formally selecting your research question (task 0), then processing your data (task 1), creating a predictive model (task 2), and evaluating your model's results (task 3).\n",
    "\n",
    "Please upload your solved notebook to Moodle (under [Milestone 4 Submission](https://moodle.epfl.ch/mod/assign/view.php?id=1199557)) adding your team name in title, example: `m4-lernnavi-teamname.ipynb`. Please run all cells before submission so we can grade effectively.\n",
    "\n",
    "\n",
    "## Brief overview of Lernnavi\n",
    "[Lernnavi](https://www.lernnavi.ch) is an instrument for promoting part of the basic technical study skills in German and mathematics.\n",
    "\n",
    "Lernnavi's dataset is formatted in three main tables:\n",
    "* *users*: demographic information of users.\n",
    "* *events*: events done by the users in the platform.\n",
    "* *transactions*: question and answer solved by user.\n",
    "\n",
    "You should provide arguments and justifications for all of your design decisions throughout this investigation. You can use your M3 responses as the basis for this discussion."
   ]
  },
  {
   "cell_type": "code",
   "execution_count": 1,
   "id": "82ea2d32-f0a9-4dc9-bb60-be43399f5b89",
   "metadata": {
    "id": "82ea2d32-f0a9-4dc9-bb60-be43399f5b89"
   },
   "outputs": [],
   "source": [
    "# Import the tables of the data set as dataframes.\n",
    "import numpy as np\n",
    "import pandas as pd\n",
    "import matplotlib.pyplot as plt\n",
    "\n",
    "DATA_DIR = './data' # You many change the directory\n",
    "\n",
    "users = pd.read_csv('{}/users.csv.gz'.format(DATA_DIR))\n",
    "events = pd.read_csv('{}/events.csv.gz'.format(DATA_DIR))\n",
    "transactions = pd.read_csv('{}/transactions.csv.gz'.format(DATA_DIR))\n",
    "lst = pd.read_csv('{}/learn_sessions_transactions.csv.gz'.format(DATA_DIR))"
   ]
  },
  {
   "cell_type": "markdown",
   "id": "89137355",
   "metadata": {},
   "source": [
    "## Task 0: Research Question"
   ]
  },
  {
   "cell_type": "markdown",
   "id": "31dafc5b",
   "metadata": {},
   "source": [
    "**Research question:**\n",
    "*Your chosen research question goes here*"
   ]
  },
  {
   "cell_type": "markdown",
   "id": "a77f62b0-1945-48f1-8f22-5f6ebda1db8e",
   "metadata": {
    "id": "a77f62b0-1945-48f1-8f22-5f6ebda1db8e"
   },
   "source": [
    "## Task 1: Data Preprocessing\n",
    "\n",
    "In this section, you are asked to preprocess your data in a way that is relevant for the model. Please include 1-2 visualizations of features / data explorations that are related to your downstream prediction task."
   ]
  },
  {
   "cell_type": "code",
   "execution_count": 2,
   "id": "34cefd0d-4f8a-4227-8fb4-f30521abf78d",
   "metadata": {
    "id": "34cefd0d-4f8a-4227-8fb4-f30521abf78d"
   },
   "outputs": [
    {
     "name": "stdout",
     "output_type": "stream",
     "text": [
      "637678 tokens in events\n",
      "800018 tokens in transactions\n",
      "37685 tokens in events but not in transactions\n",
      "1304 users in events but not in transactions\n",
      "0.0595% of events eliminated\n"
     ]
    }
   ],
   "source": [
    "# Your code for data processing goes here\n",
    "\n",
    "def remove_users(events, transactions):\n",
    "    tokens_event = set(events['transaction_token'].unique())\n",
    "    print(\"{} tokens in events\".format(len(tokens_event)))\n",
    "\n",
    "    tokens_trans = set(transactions['transaction_token'].unique())\n",
    "    print(\"{} tokens in transactions\".format(len(tokens_trans)))\n",
    "\n",
    "    missing_tokens = list(tokens_event - tokens_trans)\n",
    "    missing_tokens.remove(np.nan)\n",
    "    print(\"{} tokens in events but not in transactions\".format(len(missing_tokens)))\n",
    "\n",
    "    users_missing = list(events[events['transaction_token'].isin(missing_tokens)]['user_id'].unique())\n",
    "    print(\"{} users in events but not in transactions\".format(len(users_missing)))\n",
    "\n",
    "    # Events without missing users. Equivalent to removing the missing tokens from events.\n",
    "    len_events = len(events)\n",
    "    events = events[~events['user_id'].isin(users_missing)]\n",
    "    stat_events = (len_events - len(events))/len_events\n",
    "    print(\"{}% of events eliminated\".format(round(stat_events, 4)))\n",
    "\n",
    "    return events, transactions\n",
    "\n",
    "events, transactions = remove_users(events, transactions)"
   ]
  },
  {
   "cell_type": "markdown",
   "id": "17f94f8c-aeb9-4263-a01d-5642a2fc472a",
   "metadata": {},
   "source": [
    "### Cantonal representation within the data set"
   ]
  },
  {
   "cell_type": "code",
   "execution_count": 19,
   "id": "be947186-6f0a-4f72-8bb6-7efac245b655",
   "metadata": {},
   "outputs": [
    {
     "data": {
      "image/png": "[encoded data removed]",
      "text/plain": [
       "<Figure size 864x576 with 2 Axes>"
      ]
     },
     "metadata": {
      "needs_background": "light"
     },
     "output_type": "display_data"
    }
   ],
   "source": [
    "user_canton = users[['user_id', 'canton']]\n",
    "activity_per_canton = transactions.merge(user_canton, on='user_id', how='left')\n",
    "canton_transactions = activity_per_canton.pivot_table(index='canton', \n",
    "                                                      values=['transaction_id', 'user_id'], \n",
    "                                                      aggfunc={'transaction_id':'count', 'user_id':'nunique'}).reset_index()\n",
    "canton_transactions['trans_per_user'] = canton_transactions['transaction_id']/canton_transactions['user_id']\n",
    "ax = canton_transactions.plot.bar(x='canton', \n",
    "                                  y=['transaction_id', 'trans_per_user'], \n",
    "                                  subplots=True, \n",
    "                                  layout=(1,2),\n",
    "                                  figsize=(12,8))"
   ]
  },
  {
   "cell_type": "markdown",
   "id": "7a813ffa-1e57-465d-987a-33b68c951a50",
   "metadata": {},
   "source": []
  },
  {
   "cell_type": "code",
   "execution_count": 17,
   "id": "fc5d0fef-ac9a-41bf-868d-060f4d611037",
   "metadata": {},
   "outputs": [
    {
     "data": {
      "text/html": [
       "<div>\n",
       "<style scoped>\n",
       "    .dataframe tbody tr th:only-of-type {\n",
       "        vertical-align: middle;\n",
       "    }\n",
       "\n",
       "    .dataframe tbody tr th {\n",
       "        vertical-align: top;\n",
       "    }\n",
       "\n",
       "    .dataframe thead th {\n",
       "        text-align: right;\n",
       "    }\n",
       "</style>\n",
       "<table border=\"1\" class=\"dataframe\">\n",
       "  <thead>\n",
       "    <tr style=\"text-align: right;\">\n",
       "      <th></th>\n",
       "      <th>transaction_id</th>\n",
       "      <th>transaction_token</th>\n",
       "      <th>user_id</th>\n",
       "      <th>document_id</th>\n",
       "      <th>document_version</th>\n",
       "      <th>evaluation</th>\n",
       "      <th>input</th>\n",
       "      <th>start_time</th>\n",
       "      <th>commit_time</th>\n",
       "      <th>user_agent</th>\n",
       "      <th>validation</th>\n",
       "      <th>solution</th>\n",
       "      <th>type</th>\n",
       "    </tr>\n",
       "  </thead>\n",
       "  <tbody>\n",
       "    <tr>\n",
       "      <th>53</th>\n",
       "      <td>1062011</td>\n",
       "      <td>411c11ae-6af2-4574-b7df-d94dac280da5</td>\n",
       "      <td>387604.0</td>\n",
       "      <td>1DI3PtzowVCafiuZCb0mEX</td>\n",
       "      <td>89020</td>\n",
       "      <td>NaN</td>\n",
       "      <td>NaN</td>\n",
       "      <td>1637146635218</td>\n",
       "      <td>NaN</td>\n",
       "      <td>unknown</td>\n",
       "      <td>NaN</td>\n",
       "      <td>NaN</td>\n",
       "      <td>NaN</td>\n",
       "    </tr>\n",
       "  </tbody>\n",
       "</table>\n",
       "</div>"
      ],
      "text/plain": [
       "    transaction_id                     transaction_token   user_id  \\\n",
       "53         1062011  411c11ae-6af2-4574-b7df-d94dac280da5  387604.0   \n",
       "\n",
       "               document_id  document_version evaluation input     start_time  \\\n",
       "53  1DI3PtzowVCafiuZCb0mEX             89020        NaN   NaN  1637146635218   \n",
       "\n",
       "    commit_time user_agent validation solution type  \n",
       "53          NaN    unknown        NaN      NaN  NaN  "
      ]
     },
     "execution_count": 17,
     "metadata": {},
     "output_type": "execute_result"
    }
   ],
   "source": []
  },
  {
   "cell_type": "markdown",
   "id": "76d0fcca-686e-47a3-8567-c3f92db187d4",
   "metadata": {
    "id": "76d0fcca-686e-47a3-8567-c3f92db187d4"
   },
   "source": [
    "*Your discussion about your processing decisions goes here*"
   ]
  },
  {
   "cell_type": "markdown",
   "id": "85633adb-d317-4ee3-bf06-e9f82f589c41",
   "metadata": {
    "id": "85633adb-d317-4ee3-bf06-e9f82f589c41"
   },
   "source": [
    "## Task 2: Model Building\n",
    "\n",
    "Train a model for your research question. "
   ]
  },
  {
   "cell_type": "code",
   "execution_count": null,
   "id": "90b65ebd-c148-4ae8-833e-018411eeda86",
   "metadata": {
    "id": "90b65ebd-c148-4ae8-833e-018411eeda86"
   },
   "outputs": [],
   "source": [
    "# Your code for training a model goes here"
   ]
  },
  {
   "cell_type": "markdown",
   "id": "cf1f7375",
   "metadata": {},
   "source": [
    "*Your discussion about your model training goes here*"
   ]
  },
  {
   "cell_type": "markdown",
   "id": "b3c9a655-cec9-4c57-aec7-7a982f57a3af",
   "metadata": {
    "id": "b3c9a655-cec9-4c57-aec7-7a982f57a3af"
   },
   "source": [
    "## Task 3: Model Evaluation\n",
    "In this task, you will use metrics to evaluate your model."
   ]
  },
  {
   "cell_type": "code",
   "execution_count": null,
   "id": "f65720b8",
   "metadata": {},
   "outputs": [],
   "source": [
    "# Your code for model evaluation goes here"
   ]
  },
  {
   "cell_type": "markdown",
   "id": "62968daa",
   "metadata": {},
   "source": [
    "*Your discussion/interpretation about your model's behavior goes here*"
   ]
  }
 ],
 "metadata": {
  "colab": {
   "collapsed_sections": [],
   "name": "m2-classtime-sciper.ipynb",
   "provenance": []
  },
  "kernelspec": {
   "display_name": "Python 3 (ipykernel)",
   "language": "python",
   "name": "python3"
  },
  "language_info": {
   "codemirror_mode": {
    "name": "ipython",
    "version": 3
   },
   "file_extension": ".py",
   "mimetype": "text/x-python",
   "name": "python",
   "nbconvert_exporter": "python",
   "pygments_lexer": "ipython3",
   "version": "3.9.7"
  }
 },
 "nbformat": 4,
 "nbformat_minor": 5
}
