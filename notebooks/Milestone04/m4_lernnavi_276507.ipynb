{
 "cells": [
  {
   "cell_type": "markdown",
   "id": "8af48ca1-b6d1-4092-b7b5-037d3c2d7aef",
   "metadata": {
    "id": "8af48ca1-b6d1-4092-b7b5-037d3c2d7aef"
   },
   "source": [
    "# M4 | Research Investigation Notebook\n",
    "\n",
    "In this notebook, you will do a research investigation of your chosen dataset in teams. You will begin by formally selecting your research question (task 0), then processing your data (task 1), creating a predictive model (task 2), and evaluating your model's results (task 3).\n",
    "\n",
    "Please upload your solved notebook to Moodle (under [Milestone 4 Submission](https://moodle.epfl.ch/mod/assign/view.php?id=1199557)) adding your team name in title, example: `m4-lernnavi-teamname.ipynb`. Please run all cells before submission so we can grade effectively.\n",
    "\n",
    "\n",
    "## Brief overview of Lernnavi\n",
    "[Lernnavi](https://www.lernnavi.ch) is an instrument for promoting part of the basic technical study skills in German and mathematics.\n",
    "\n",
    "Lernnavi's dataset is formatted in three main tables:\n",
    "* *users*: demographic information of users.\n",
    "* *events*: events done by the users in the platform.\n",
    "* *transactions*: question and answer solved by user.\n",
    "\n",
    "You should provide arguments and justifications for all of your design decisions throughout this investigation. You can use your M3 responses as the basis for this discussion."
   ]
  },
  {
   "cell_type": "code",
   "execution_count": 1,
   "id": "82ea2d32-f0a9-4dc9-bb60-be43399f5b89",
   "metadata": {
    "id": "82ea2d32-f0a9-4dc9-bb60-be43399f5b89"
   },
   "outputs": [],
   "source": [
    "# Import the tables of the data set as dataframes.\n",
    "import numpy as np\n",
    "import pandas as pd\n",
    "import matplotlib.pyplot as plt\n",
    "\n",
    "import json\n",
    "from collections import defaultdict\n",
    "from tqdm import tqdm\n",
    "\n",
    "DATA_DIR = '../../data/raw' # You many change the directory\n",
    "\n",
    "users = pd.read_csv('{}/users.csv.gz'.format(DATA_DIR))\n",
    "events = pd.read_csv('{}/events.csv.gz'.format(DATA_DIR))\n",
    "transactions = pd.read_csv('{}/transactions.csv.gz'.format(DATA_DIR))"
   ]
  },
  {
   "cell_type": "code",
   "execution_count": 2,
   "id": "afd51ddc-5216-414e-86e9-d1658d3def1e",
   "metadata": {},
   "outputs": [],
   "source": [
    "topic_trees = pd.read_csv('{}/topic_trees.csv.gz'.format(DATA_DIR))\n",
    "topics_translated = pd.read_csv('{}/topics_translated.csv.gz'.format(DATA_DIR))"
   ]
  },
  {
   "cell_type": "markdown",
   "id": "89137355",
   "metadata": {},
   "source": [
    "## Task 0: Research Question"
   ]
  },
  {
   "cell_type": "markdown",
   "id": "31dafc5b",
   "metadata": {},
   "source": [
    "**Research question:**\n",
    "Does the study of students' behavior help predict their evaluation results?\n",
    "\n",
    "1. To answer this question, we first focus cleaning the data to remove all inactive students. Our preprocessing aims at constituting a dataset tracking a subset of actions identified as expressing a user's activity, with a minimum number of actions characterizing active users.\n",
    "\n",
    "2. Then we cluster the students based on a set of metrics as defined in [Shirvani Boroujeni et al](https://infoscience.epfl.ch/record/218657/files/). This is to allow the detection of an optimal student behavior.\n",
    "\n",
    "3. Finally we perform train a time series classification model on the weekly data to predict wether a student will pass or fail its level-check evaluation."
   ]
  },
  {
   "cell_type": "markdown",
   "id": "a77f62b0-1945-48f1-8f22-5f6ebda1db8e",
   "metadata": {
    "id": "a77f62b0-1945-48f1-8f22-5f6ebda1db8e"
   },
   "source": [
    "## Task 1: Data Preprocessing\n",
    "\n",
    "In this section, you are asked to preprocess your data in a way that is relevant for the model. Please include 1-2 visualizations of features / data explorations that are related to your downstream prediction task."
   ]
  },
  {
   "cell_type": "code",
   "execution_count": 3,
   "id": "34cefd0d-4f8a-4227-8fb4-f30521abf78d",
   "metadata": {
    "id": "34cefd0d-4f8a-4227-8fb4-f30521abf78d"
   },
   "outputs": [],
   "source": [
    "# Your code for data processing goes here"
   ]
  },
  {
   "cell_type": "markdown",
   "id": "dfd32028-aa44-42e4-b7d0-3d6a53963afe",
   "metadata": {},
   "source": [
    "### Getting Level Checks\n",
    "\n",
    "The level checks scores are gotten as described in the [FAQ](https://docs.google.com/document/d/1RFcn1Y_o_MLfQo0-od8W7-Ty2rfhXZRnIVG0CLPl0NM/edit)."
   ]
  },
  {
   "cell_type": "markdown",
   "id": "9e6ef135-e974-4eda-9d95-f05708a48763",
   "metadata": {},
   "source": [
    "#### Utils\n",
    "Creation of utility data structures & function definitions."
   ]
  },
  {
   "cell_type": "code",
   "execution_count": 11,
   "id": "017a907b-782e-430c-adf2-476e187d76ce",
   "metadata": {},
   "outputs": [
    {
     "data": {
      "text/html": [
       "<div>\n",
       "<style scoped>\n",
       "    .dataframe tbody tr th:only-of-type {\n",
       "        vertical-align: middle;\n",
       "    }\n",
       "\n",
       "    .dataframe tbody tr th {\n",
       "        vertical-align: top;\n",
       "    }\n",
       "\n",
       "    .dataframe thead th {\n",
       "        text-align: right;\n",
       "    }\n",
       "</style>\n",
       "<table border=\"1\" class=\"dataframe\">\n",
       "  <thead>\n",
       "    <tr style=\"text-align: right;\">\n",
       "      <th></th>\n",
       "      <th>id</th>\n",
       "      <th>name_english</th>\n",
       "      <th>math</th>\n",
       "    </tr>\n",
       "  </thead>\n",
       "  <tbody>\n",
       "    <tr>\n",
       "      <th>0</th>\n",
       "      <td>1</td>\n",
       "      <td>German</td>\n",
       "      <td>0.0</td>\n",
       "    </tr>\n",
       "    <tr>\n",
       "      <th>1</th>\n",
       "      <td>2</td>\n",
       "      <td>spelling</td>\n",
       "      <td>0.0</td>\n",
       "    </tr>\n",
       "    <tr>\n",
       "      <th>2</th>\n",
       "      <td>3</td>\n",
       "      <td>Spelling principles</td>\n",
       "      <td>0.0</td>\n",
       "    </tr>\n",
       "  </tbody>\n",
       "</table>\n",
       "</div>"
      ],
      "text/plain": [
       "   id         name_english  math\n",
       "0   1               German   0.0\n",
       "1   2             spelling   0.0\n",
       "2   3  Spelling principles   0.0"
      ]
     },
     "metadata": {},
     "output_type": "display_data"
    }
   ],
   "source": [
    "# Creating dictionary of topic ids, names and category (math/german)\n",
    "topics_dict = topics_translated[['id', 'name_english', 'math']]\n",
    "display(topics_dict.head(3))"
   ]
  },
  {
   "cell_type": "code",
   "execution_count": 12,
   "id": "c5acc37d-9169-43f1-91cc-4a8cc19c8b91",
   "metadata": {},
   "outputs": [],
   "source": [
    "def get_topic_name(_id, topics_dict = topics_dict, verbose = False):\n",
    "    \"\"\"\n",
    "    Uses the topics_dict to get the english name of a topic given its id.\n",
    "    \"\"\"\n",
    "    tmp = topics_dict.loc[topics_dict.id == _id, 'name_english'].reset_index(drop=True)\n",
    "    if (tmp.shape[0] == 0):\n",
    "        if verbose : print(f\"Did not find any topic for id {_id}\")\n",
    "        return ''\n",
    "    else : \n",
    "        return tmp.iloc[0]\n",
    "    \n",
    "def is_math(_id, topics_dict = topics_dict, verbose = False):\n",
    "    \"\"\"\n",
    "    Uses the topics_dict to indicate wether the topic is a math topic or not (German topic) using its id.\n",
    "    \"\"\"\n",
    "    tmp = topics_dict.loc[topics_dict.id == _id, 'math'].reset_index(drop=True)\n",
    "    if (tmp.shape[0] == 0):\n",
    "        if verbose : print(f\"Did not find any topic for id {_id}\")\n",
    "        return None\n",
    "    else : \n",
    "        return tmp.iloc[0] == 1"
   ]
  },
  {
   "cell_type": "code",
   "execution_count": 13,
   "id": "600ae993-26dd-4de5-8bd4-eb0ab36635b1",
   "metadata": {},
   "outputs": [],
   "source": [
    "def get_keys(js, n) :\n",
    "    \"\"\"\n",
    "    Prints out all keys of a json file.\n",
    "    \"\"\"\n",
    "    if type(js) == dict:\n",
    "        for k in js.keys():\n",
    "            print('\\t'*n + k)\n",
    "            get_keys(js[k], n+1)\n",
    "    elif type(js) == list:\n",
    "        print('\\t'*n + '[')        \n",
    "        for i in js:\n",
    "            get_keys(i, n)\n",
    "            print('\\t'*n + ',')\n",
    "        print('\\t'*n + ']')\n",
    "    else :\n",
    "        print('\\t'*n + \"...\")"
   ]
  },
  {
   "cell_type": "code",
   "execution_count": 14,
   "id": "86a1cca2-0e54-44c0-8814-73ef9e19e712",
   "metadata": {},
   "outputs": [],
   "source": [
    "# Getting all the primary (non children) topics of a specific navigate_dashbard event\n",
    "\n",
    "def get_mastery(topic, n=0, scores = None, verbose=False):\n",
    "    \"\"\"\n",
    "    Stores all the mastery scores for the input topic and its children. \n",
    "    Stops the recursion when no children or a non-zero mastery score is encountered.\n",
    "    \"\"\"\n",
    "    # create cumulative dict to pass store mastery scores if None\n",
    "    scores = {}\n",
    "    \n",
    "    # get data\n",
    "    data = topic[\"userData\"]\n",
    "    \n",
    "    # Get id and level of mastery\n",
    "    mastery = float(data[\"mastery\"])\n",
    "    \n",
    "    # get topic id and name info\n",
    "    topic_id = topic[\"topic\"][\"id\"]\n",
    "    topic_name = get_topic_name(topic_id)\n",
    "    topic_math = 'Math' if is_math(topic_id) else 'German'\n",
    "    \n",
    "    # result\n",
    "    if verbose: print('\\t'*n + f\"[{topic_math}] {topic_name} ({topic_id}): {mastery}\")\n",
    "    \n",
    "    # Get the topic's children if any\n",
    "    try :\n",
    "        children = topic['children']\n",
    "    except :\n",
    "        children = []\n",
    "        \n",
    "    # If mastery is 0, dig deeper and try to get a non-0 score\n",
    "    if (mastery == 0.) and (len(children) > 0) :\n",
    "        for t in children:\n",
    "            scores.update(get_mastery(t, n=n+1, scores=scores, verbose=verbose))\n",
    "    else :\n",
    "        scores[topic_id] = mastery * 10\n",
    "    \n",
    "    return scores"
   ]
  },
  {
   "cell_type": "code",
   "execution_count": 15,
   "id": "8bcbce3e-d578-41dc-a493-e53d2b06fd76",
   "metadata": {},
   "outputs": [],
   "source": [
    "def get_level(js, verbose = False):\n",
    "    if type(js) != dict: js = json.loads(js)\n",
    "    all_scores = {}\n",
    "    \n",
    "    try:\n",
    "        topics = js['dashboard']['topics']\n",
    "    except :\n",
    "        topics = []\n",
    "    \n",
    "    for topic in topics:\n",
    "        all_scores.update( get_mastery(topic, scores=all_scores, verbose = verbose) )\n",
    "\n",
    "    return all_scores"
   ]
  },
  {
   "cell_type": "code",
   "execution_count": 16,
   "id": "f04fc625-2826-4473-ba17-08ac250ca21c",
   "metadata": {},
   "outputs": [],
   "source": [
    "def get_level_changes(levels):\n",
    "    \"\"\"\n",
    "    Note: This assumes that the user can never get 0.0 as a mastery score. 0.0 denotes absence of value.\n",
    "    \"\"\"\n",
    "    \n",
    "    # Get levels as list to work with indexes\n",
    "    if type(levels) != list : levels = levels.tolist()\n",
    "    \n",
    "    # set initial state (stores the previous non empty scores, defaults to 0)\n",
    "    previous_state = defaultdict(lambda : 0.)\n",
    "    # Create list to track changes\n",
    "    changes = []\n",
    "    \n",
    "    # Loop through all the checks and track the changes.\n",
    "    for level in levels:\n",
    "        _changes = {}\n",
    "        \n",
    "        # For each key, check if it changed compared to its previously saved value\n",
    "        for k in level.keys() :\n",
    "            _previous = previous_state[k]\n",
    "            _current = level[k]\n",
    "            \n",
    "            if (_previous != _current) :\n",
    "                # compute change\n",
    "                _change = _current - _previous\n",
    "                # store (current, change)\n",
    "                _changes[k] = (_current, _change)\n",
    "            \n",
    "            previous_state[k] = _current\n",
    "    \n",
    "        changes.append(_changes)\n",
    "    \n",
    "    return changes"
   ]
  },
  {
   "cell_type": "code",
   "execution_count": 17,
   "id": "650fe3ad-fef1-4ddc-937d-559f0484fa33",
   "metadata": {},
   "outputs": [],
   "source": [
    "def build_change_df(df):\n",
    "    \"\"\"\n",
    "    Isolates the level change events per date and per topic for the input user.\n",
    "    Note: The validated mark looks at the change in level. If the change is positive, \n",
    "    we assume that the user progressed and thus we validate the level check\n",
    "    \"\"\"\n",
    "    tmp2 = df.copy()\n",
    "\n",
    "    # Get only the singleton changes per topic\n",
    "    tmp2['change'] = tmp2.change.apply(lambda d : [(_id, *d[_id]) for _id in d.keys()])\n",
    "    tmp2 = tmp2[['date', 'change']].explode(\"change\")\n",
    "    # remove empty rows (no changes at these dates)\n",
    "    tmp2 = tmp2.loc[~tmp2.change.isna()].reset_index(drop=True)\n",
    "\n",
    "    # Assign a validated or failed mark\n",
    "    # validation holds on wether the change is positive (level got higher) or not\n",
    "    tmp2['validated'] = tmp2.change.apply(lambda t: t[2] > 0)\n",
    "\n",
    "    # Get topic name\n",
    "    tmp2['topic'] = tmp2.change.apply(lambda t : get_topic_name(t[0]))\n",
    "    \n",
    "    return tmp2"
   ]
  },
  {
   "cell_type": "markdown",
   "id": "63febebf-4931-4e36-a618-5c84e81aca0f",
   "metadata": {},
   "source": [
    "#### Discovery"
   ]
  },
  {
   "cell_type": "code",
   "execution_count": 18,
   "id": "c2ab346f-e9b3-49f4-ac59-4e01d25cf96f",
   "metadata": {
    "tags": []
   },
   "outputs": [],
   "source": [
    "# Exploring json data file of first NAVIGATE_DASHBOARD activity\n",
    "line = events[events['action']=='NAVIGATE_DASHBOARD'].iloc[1]\n",
    "l0 = json.loads(line['tracking_data'])\n",
    "\n",
    "# >>>>> uncomment to see key structure\n",
    "# get_keys(l0, 0)\n",
    "\n",
    "# >>>>> uncomment to see raw content\n",
    "# l0"
   ]
  },
  {
   "cell_type": "code",
   "execution_count": 19,
   "id": "0e13c78c-c673-42d1-920f-03368d3e49b3",
   "metadata": {
    "tags": []
   },
   "outputs": [
    {
     "name": "stdout",
     "output_type": "stream",
     "text": [
      "[German] spelling (2): 0.0\n",
      "\t[German] Spelling principles (3): 0.737535316620025\n",
      "\t[German] Large and lower case (2055): 0.3981179459718665\n",
      "\t[German] Spellishly difficult words (2065): 0.11930505543060275\n",
      "[German] punctuation (3104): 0.0\n",
      "\t[German] Comma in sentence (3163): 0.4325001746856052\n",
      "[German] Speech (3105): 0.0\n",
      "\t[German] Verb (3110): 0.04742587317756678\n",
      "\t[German] noun (3111): 0.04742587317756678\n",
      "\t[German] Adjectives (3179): 0.04742587317756678\n",
      "\t[German] pronoun (3112): 0.04742587317756678\n",
      "\t[German] Particle (3113): 0.04742587317756678\n",
      "[German] sentence parts (3106): 0.0\n",
      "\t[German] Function of the sentence members (3141): 0.04742587317756678\n",
      "\t[German] Determination of the sentence members (3142): 0.04742587317756679\n",
      "\t[German] Structure of phrases (3154): 0.04742587317756678\n",
      "\t[German] Congress between phrases (3156): 0.04742587317756678\n",
      "[German] Phenomena (3107): 0.0\n",
      "\t[German]  (3244): 0.04742587317756678\n",
      "\t[German] Relationship between phrases / attributes and sidelines (3250): 0.04742587317756678\n",
      "[German] Vocabulary and stylistic (2022): 0.0\n",
      "\t[German] vocabulary (2023): 0.04742587317756678\n",
      "\t[German] Idiomatism (2042): 0.04742587317756678\n",
      "\t[German] rhetoric (2045): 0.08331439759984216\n",
      "\t[German] Stylistic appropriateness (2048): 0.04742587317756678\n",
      "[German] Textual reception (3108): 0.0\n",
      "\t[German] Macrostructure (3114): 0.04742587317756678\n",
      "\t[German] Microstructure (3115): 0.04742587317756678\n",
      "\t[German] Texts / Generals (3116): 0.04440693277319837\n",
      "\t[German] Textual intention (3117): 0.0\n",
      "[German] Text production (3109): 0.0\n",
      "\t[German] Writing process (3119): 0.0\n"
     ]
    },
    {
     "data": {
      "text/plain": [
       "{3: 7.3753531662002505,\n",
       " 2055: 3.981179459718665,\n",
       " 2065: 1.1930505543060275,\n",
       " 3163: 4.325001746856052,\n",
       " 3110: 0.4742587317756678,\n",
       " 3111: 0.4742587317756678,\n",
       " 3179: 0.4742587317756678,\n",
       " 3112: 0.4742587317756678,\n",
       " 3113: 0.4742587317756678,\n",
       " 3141: 0.4742587317756678,\n",
       " 3142: 0.4742587317756679,\n",
       " 3154: 0.4742587317756678,\n",
       " 3156: 0.4742587317756678,\n",
       " 3244: 0.4742587317756678,\n",
       " 3250: 0.4742587317756678,\n",
       " 2023: 0.4742587317756678,\n",
       " 2042: 0.4742587317756678,\n",
       " 2045: 0.8331439759984216,\n",
       " 2048: 0.4742587317756678,\n",
       " 3114: 0.4742587317756678,\n",
       " 3115: 0.4742587317756678,\n",
       " 3116: 0.4440693277319837,\n",
       " 3117: 0.0,\n",
       " 3119: 0.0}"
      ]
     },
     "execution_count": 19,
     "metadata": {},
     "output_type": "execute_result"
    }
   ],
   "source": [
    "# Getting all mastery scores for a single event\n",
    "get_level(l0, verbose=True)"
   ]
  },
  {
   "cell_type": "code",
   "execution_count": 20,
   "id": "d629b44e-354c-4bc0-b396-74941468beea",
   "metadata": {
    "tags": []
   },
   "outputs": [
    {
     "data": {
      "text/html": [
       "<div>\n",
       "<style scoped>\n",
       "    .dataframe tbody tr th:only-of-type {\n",
       "        vertical-align: middle;\n",
       "    }\n",
       "\n",
       "    .dataframe tbody tr th {\n",
       "        vertical-align: top;\n",
       "    }\n",
       "\n",
       "    .dataframe thead th {\n",
       "        text-align: right;\n",
       "    }\n",
       "</style>\n",
       "<table border=\"1\" class=\"dataframe\">\n",
       "  <thead>\n",
       "    <tr style=\"text-align: right;\">\n",
       "      <th></th>\n",
       "      <th>timestamp</th>\n",
       "      <th>tracking_data</th>\n",
       "      <th>date</th>\n",
       "      <th>levels</th>\n",
       "    </tr>\n",
       "  </thead>\n",
       "  <tbody>\n",
       "    <tr>\n",
       "      <th>17006</th>\n",
       "      <td>1622773391671</td>\n",
       "      <td>{\"text\": \"Jetzt starten\", \"title\": \"Go To Dash...</td>\n",
       "      <td>2021-06-04 02:23:11.671</td>\n",
       "      <td>{}</td>\n",
       "    </tr>\n",
       "    <tr>\n",
       "      <th>17007</th>\n",
       "      <td>1622773392297</td>\n",
       "      <td>{\"dashboard\": {\"title\": \"Deutsch\", \"topics\": [...</td>\n",
       "      <td>2021-06-04 02:23:12.297</td>\n",
       "      <td>{3: 7.3753531662002505, 2055: 3.98117945971866...</td>\n",
       "    </tr>\n",
       "    <tr>\n",
       "      <th>17008</th>\n",
       "      <td>1622773423216</td>\n",
       "      <td>{\"text\": \"open\", \"title\": \"TopicTileDialog\", \"...</td>\n",
       "      <td>2021-06-04 02:23:43.216</td>\n",
       "      <td>{}</td>\n",
       "    </tr>\n",
       "  </tbody>\n",
       "</table>\n",
       "</div>"
      ],
      "text/plain": [
       "           timestamp                                      tracking_data  \\\n",
       "17006  1622773391671  {\"text\": \"Jetzt starten\", \"title\": \"Go To Dash...   \n",
       "17007  1622773392297  {\"dashboard\": {\"title\": \"Deutsch\", \"topics\": [...   \n",
       "17008  1622773423216  {\"text\": \"open\", \"title\": \"TopicTileDialog\", \"...   \n",
       "\n",
       "                         date  \\\n",
       "17006 2021-06-04 02:23:11.671   \n",
       "17007 2021-06-04 02:23:12.297   \n",
       "17008 2021-06-04 02:23:43.216   \n",
       "\n",
       "                                                  levels  \n",
       "17006                                                 {}  \n",
       "17007  {3: 7.3753531662002505, 2055: 3.98117945971866...  \n",
       "17008                                                 {}  "
      ]
     },
     "execution_count": 20,
     "metadata": {},
     "output_type": "execute_result"
    }
   ],
   "source": [
    "# Testing out tracking the evolution for a single user\n",
    "events[events['action']=='NAVIGATE_DASHBOARD'].iloc[1]\n",
    "\n",
    "user_id = 390028\n",
    "tmp = events.loc[(events.user_id == user_id) & (events.action == 'NAVIGATE_DASHBOARD'), ['timestamp', 'tracking_data']]\n",
    "\n",
    "# Transforming to date\n",
    "tmp['date'] = pd.to_datetime(tmp.timestamp, unit='ms')\n",
    "# extracting all the mastery scores\n",
    "tmp['levels'] = tmp.tracking_data.apply(get_level)\n",
    "\n",
    "tmp.head(3)"
   ]
  },
  {
   "cell_type": "code",
   "execution_count": 21,
   "id": "ab1e9c44-da15-4cb9-aaf4-e9de280ac261",
   "metadata": {},
   "outputs": [],
   "source": [
    "# Making sure that the values are sorted from earliest to latest\n",
    "tmp.sort_values('date', inplace=True)"
   ]
  },
  {
   "cell_type": "code",
   "execution_count": 22,
   "id": "fbaeec67-bc68-4d53-8c7a-a95091a80a35",
   "metadata": {},
   "outputs": [
    {
     "data": {
      "text/html": [
       "<div>\n",
       "<style scoped>\n",
       "    .dataframe tbody tr th:only-of-type {\n",
       "        vertical-align: middle;\n",
       "    }\n",
       "\n",
       "    .dataframe tbody tr th {\n",
       "        vertical-align: top;\n",
       "    }\n",
       "\n",
       "    .dataframe thead th {\n",
       "        text-align: right;\n",
       "    }\n",
       "</style>\n",
       "<table border=\"1\" class=\"dataframe\">\n",
       "  <thead>\n",
       "    <tr style=\"text-align: right;\">\n",
       "      <th></th>\n",
       "      <th>timestamp</th>\n",
       "      <th>tracking_data</th>\n",
       "      <th>date</th>\n",
       "      <th>levels</th>\n",
       "      <th>change</th>\n",
       "    </tr>\n",
       "  </thead>\n",
       "  <tbody>\n",
       "    <tr>\n",
       "      <th>17006</th>\n",
       "      <td>1622773391671</td>\n",
       "      <td>{\"text\": \"Jetzt starten\", \"title\": \"Go To Dash...</td>\n",
       "      <td>2021-06-04 02:23:11.671</td>\n",
       "      <td>{}</td>\n",
       "      <td>{}</td>\n",
       "    </tr>\n",
       "    <tr>\n",
       "      <th>17007</th>\n",
       "      <td>1622773392297</td>\n",
       "      <td>{\"dashboard\": {\"title\": \"Deutsch\", \"topics\": [...</td>\n",
       "      <td>2021-06-04 02:23:12.297</td>\n",
       "      <td>{3: 7.3753531662002505, 2055: 3.98117945971866...</td>\n",
       "      <td>{3: (7.3753531662002505, 7.3753531662002505), ...</td>\n",
       "    </tr>\n",
       "    <tr>\n",
       "      <th>17008</th>\n",
       "      <td>1622773423216</td>\n",
       "      <td>{\"text\": \"open\", \"title\": \"TopicTileDialog\", \"...</td>\n",
       "      <td>2021-06-04 02:23:43.216</td>\n",
       "      <td>{}</td>\n",
       "      <td>{}</td>\n",
       "    </tr>\n",
       "    <tr>\n",
       "      <th>17009</th>\n",
       "      <td>1622773430086</td>\n",
       "      <td>{\"text\": \"OpenSession: 35248\", \"title\": \"Topic...</td>\n",
       "      <td>2021-06-04 02:23:50.086</td>\n",
       "      <td>{}</td>\n",
       "      <td>{}</td>\n",
       "    </tr>\n",
       "    <tr>\n",
       "      <th>17030</th>\n",
       "      <td>1622773707078</td>\n",
       "      <td>{\"dashboard\": {\"title\": \"Deutsch\", \"topics\": [...</td>\n",
       "      <td>2021-06-04 02:28:27.078</td>\n",
       "      <td>{3: 7.3753531662002505, 2055: 3.98117945971866...</td>\n",
       "      <td>{}</td>\n",
       "    </tr>\n",
       "  </tbody>\n",
       "</table>\n",
       "</div>"
      ],
      "text/plain": [
       "           timestamp                                      tracking_data  \\\n",
       "17006  1622773391671  {\"text\": \"Jetzt starten\", \"title\": \"Go To Dash...   \n",
       "17007  1622773392297  {\"dashboard\": {\"title\": \"Deutsch\", \"topics\": [...   \n",
       "17008  1622773423216  {\"text\": \"open\", \"title\": \"TopicTileDialog\", \"...   \n",
       "17009  1622773430086  {\"text\": \"OpenSession: 35248\", \"title\": \"Topic...   \n",
       "17030  1622773707078  {\"dashboard\": {\"title\": \"Deutsch\", \"topics\": [...   \n",
       "\n",
       "                         date  \\\n",
       "17006 2021-06-04 02:23:11.671   \n",
       "17007 2021-06-04 02:23:12.297   \n",
       "17008 2021-06-04 02:23:43.216   \n",
       "17009 2021-06-04 02:23:50.086   \n",
       "17030 2021-06-04 02:28:27.078   \n",
       "\n",
       "                                                  levels  \\\n",
       "17006                                                 {}   \n",
       "17007  {3: 7.3753531662002505, 2055: 3.98117945971866...   \n",
       "17008                                                 {}   \n",
       "17009                                                 {}   \n",
       "17030  {3: 7.3753531662002505, 2055: 3.98117945971866...   \n",
       "\n",
       "                                                  change  \n",
       "17006                                                 {}  \n",
       "17007  {3: (7.3753531662002505, 7.3753531662002505), ...  \n",
       "17008                                                 {}  \n",
       "17009                                                 {}  \n",
       "17030                                                 {}  "
      ]
     },
     "execution_count": 22,
     "metadata": {},
     "output_type": "execute_result"
    }
   ],
   "source": [
    "# get changes for each non-zero mastery score if any, result is scored as (current, change)\n",
    "tmp['change'] = get_level_changes(tmp.levels)\n",
    "tmp.head()"
   ]
  },
  {
   "cell_type": "code",
   "execution_count": 23,
   "id": "2b54d247-585c-4d1a-b4b7-0d1a9af8085b",
   "metadata": {},
   "outputs": [
    {
     "data": {
      "text/html": [
       "<div>\n",
       "<style scoped>\n",
       "    .dataframe tbody tr th:only-of-type {\n",
       "        vertical-align: middle;\n",
       "    }\n",
       "\n",
       "    .dataframe tbody tr th {\n",
       "        vertical-align: top;\n",
       "    }\n",
       "\n",
       "    .dataframe thead th {\n",
       "        text-align: right;\n",
       "    }\n",
       "</style>\n",
       "<table border=\"1\" class=\"dataframe\">\n",
       "  <thead>\n",
       "    <tr style=\"text-align: right;\">\n",
       "      <th></th>\n",
       "      <th>date</th>\n",
       "      <th>change</th>\n",
       "      <th>validated</th>\n",
       "      <th>topic</th>\n",
       "    </tr>\n",
       "  </thead>\n",
       "  <tbody>\n",
       "    <tr>\n",
       "      <th>0</th>\n",
       "      <td>2021-06-04 02:23:12.297</td>\n",
       "      <td>(3, 7.3753531662002505, 7.3753531662002505)</td>\n",
       "      <td>True</td>\n",
       "      <td>Spelling principles</td>\n",
       "    </tr>\n",
       "    <tr>\n",
       "      <th>1</th>\n",
       "      <td>2021-06-04 02:23:12.297</td>\n",
       "      <td>(2055, 3.981179459718665, 3.981179459718665)</td>\n",
       "      <td>True</td>\n",
       "      <td>Large and lower case</td>\n",
       "    </tr>\n",
       "    <tr>\n",
       "      <th>2</th>\n",
       "      <td>2021-06-04 02:23:12.297</td>\n",
       "      <td>(2065, 1.1930505543060275, 1.1930505543060275)</td>\n",
       "      <td>True</td>\n",
       "      <td>Spellishly difficult words</td>\n",
       "    </tr>\n",
       "    <tr>\n",
       "      <th>3</th>\n",
       "      <td>2021-06-04 02:23:12.297</td>\n",
       "      <td>(3163, 4.325001746856052, 4.325001746856052)</td>\n",
       "      <td>True</td>\n",
       "      <td>Comma in sentence</td>\n",
       "    </tr>\n",
       "    <tr>\n",
       "      <th>4</th>\n",
       "      <td>2021-06-04 02:23:12.297</td>\n",
       "      <td>(3110, 0.4742587317756678, 0.4742587317756678)</td>\n",
       "      <td>True</td>\n",
       "      <td>Verb</td>\n",
       "    </tr>\n",
       "  </tbody>\n",
       "</table>\n",
       "</div>"
      ],
      "text/plain": [
       "                     date                                          change  \\\n",
       "0 2021-06-04 02:23:12.297     (3, 7.3753531662002505, 7.3753531662002505)   \n",
       "1 2021-06-04 02:23:12.297    (2055, 3.981179459718665, 3.981179459718665)   \n",
       "2 2021-06-04 02:23:12.297  (2065, 1.1930505543060275, 1.1930505543060275)   \n",
       "3 2021-06-04 02:23:12.297    (3163, 4.325001746856052, 4.325001746856052)   \n",
       "4 2021-06-04 02:23:12.297  (3110, 0.4742587317756678, 0.4742587317756678)   \n",
       "\n",
       "   validated                       topic  \n",
       "0       True         Spelling principles  \n",
       "1       True        Large and lower case  \n",
       "2       True  Spellishly difficult words  \n",
       "3       True           Comma in sentence  \n",
       "4       True                        Verb  "
      ]
     },
     "execution_count": 23,
     "metadata": {},
     "output_type": "execute_result"
    }
   ],
   "source": [
    "# build change df\n",
    "build_change_df(tmp).head()"
   ]
  },
  {
   "cell_type": "markdown",
   "id": "d9145485-1cbf-4d7c-a05e-72d3f7b3a176",
   "metadata": {},
   "source": [
    "#### Applying to all users\n",
    "\n",
    "Running the routine to get all level checks for all users."
   ]
  },
  {
   "cell_type": "code",
   "execution_count": 24,
   "id": "3fbb415f-af1c-4a79-9078-8d13b178a263",
   "metadata": {},
   "outputs": [
    {
     "name": "stderr",
     "output_type": "stream",
     "text": [
      "  0%|▍                                                                                                                                                                       | 25/10113 [00:34<3:49:20,  1.36s/it]\n"
     ]
    },
    {
     "ename": "KeyboardInterrupt",
     "evalue": "",
     "output_type": "error",
     "traceback": [
      "\u001b[1;31m---------------------------------------------------------------------------\u001b[0m",
      "\u001b[1;31mKeyboardInterrupt\u001b[0m                         Traceback (most recent call last)",
      "\u001b[1;32m~\\AppData\\Local\\Temp/ipykernel_6668/3762311001.py\u001b[0m in \u001b[0;36m<module>\u001b[1;34m\u001b[0m\n\u001b[0;32m     12\u001b[0m \u001b[1;33m\u001b[0m\u001b[0m\n\u001b[0;32m     13\u001b[0m     \u001b[1;31m# extracting all the mastery scores\u001b[0m\u001b[1;33m\u001b[0m\u001b[1;33m\u001b[0m\u001b[0m\n\u001b[1;32m---> 14\u001b[1;33m     \u001b[0mtmp\u001b[0m\u001b[1;33m[\u001b[0m\u001b[1;34m'levels'\u001b[0m\u001b[1;33m]\u001b[0m \u001b[1;33m=\u001b[0m \u001b[0mtmp\u001b[0m\u001b[1;33m.\u001b[0m\u001b[0mtracking_data\u001b[0m\u001b[1;33m.\u001b[0m\u001b[0mapply\u001b[0m\u001b[1;33m(\u001b[0m\u001b[0mget_level\u001b[0m\u001b[1;33m)\u001b[0m\u001b[1;33m\u001b[0m\u001b[1;33m\u001b[0m\u001b[0m\n\u001b[0m\u001b[0;32m     15\u001b[0m \u001b[1;33m\u001b[0m\u001b[0m\n\u001b[0;32m     16\u001b[0m     \u001b[1;31m# Making sure that the values are sorted from earliest to latest\u001b[0m\u001b[1;33m\u001b[0m\u001b[1;33m\u001b[0m\u001b[0m\n",
      "\u001b[1;32m~\\anaconda3\\envs\\plt\\lib\\site-packages\\pandas\\core\\series.py\u001b[0m in \u001b[0;36mapply\u001b[1;34m(self, func, convert_dtype, args, **kwargs)\u001b[0m\n\u001b[0;32m   4355\u001b[0m         \u001b[0mdtype\u001b[0m\u001b[1;33m:\u001b[0m \u001b[0mfloat64\u001b[0m\u001b[1;33m\u001b[0m\u001b[1;33m\u001b[0m\u001b[0m\n\u001b[0;32m   4356\u001b[0m         \"\"\"\n\u001b[1;32m-> 4357\u001b[1;33m         \u001b[1;32mreturn\u001b[0m \u001b[0mSeriesApply\u001b[0m\u001b[1;33m(\u001b[0m\u001b[0mself\u001b[0m\u001b[1;33m,\u001b[0m \u001b[0mfunc\u001b[0m\u001b[1;33m,\u001b[0m \u001b[0mconvert_dtype\u001b[0m\u001b[1;33m,\u001b[0m \u001b[0margs\u001b[0m\u001b[1;33m,\u001b[0m \u001b[0mkwargs\u001b[0m\u001b[1;33m)\u001b[0m\u001b[1;33m.\u001b[0m\u001b[0mapply\u001b[0m\u001b[1;33m(\u001b[0m\u001b[1;33m)\u001b[0m\u001b[1;33m\u001b[0m\u001b[1;33m\u001b[0m\u001b[0m\n\u001b[0m\u001b[0;32m   4358\u001b[0m \u001b[1;33m\u001b[0m\u001b[0m\n\u001b[0;32m   4359\u001b[0m     def _reduce(\n",
      "\u001b[1;32m~\\anaconda3\\envs\\plt\\lib\\site-packages\\pandas\\core\\apply.py\u001b[0m in \u001b[0;36mapply\u001b[1;34m(self)\u001b[0m\n\u001b[0;32m   1041\u001b[0m             \u001b[1;32mreturn\u001b[0m \u001b[0mself\u001b[0m\u001b[1;33m.\u001b[0m\u001b[0mapply_str\u001b[0m\u001b[1;33m(\u001b[0m\u001b[1;33m)\u001b[0m\u001b[1;33m\u001b[0m\u001b[1;33m\u001b[0m\u001b[0m\n\u001b[0;32m   1042\u001b[0m \u001b[1;33m\u001b[0m\u001b[0m\n\u001b[1;32m-> 1043\u001b[1;33m         \u001b[1;32mreturn\u001b[0m \u001b[0mself\u001b[0m\u001b[1;33m.\u001b[0m\u001b[0mapply_standard\u001b[0m\u001b[1;33m(\u001b[0m\u001b[1;33m)\u001b[0m\u001b[1;33m\u001b[0m\u001b[1;33m\u001b[0m\u001b[0m\n\u001b[0m\u001b[0;32m   1044\u001b[0m \u001b[1;33m\u001b[0m\u001b[0m\n\u001b[0;32m   1045\u001b[0m     \u001b[1;32mdef\u001b[0m \u001b[0magg\u001b[0m\u001b[1;33m(\u001b[0m\u001b[0mself\u001b[0m\u001b[1;33m)\u001b[0m\u001b[1;33m:\u001b[0m\u001b[1;33m\u001b[0m\u001b[1;33m\u001b[0m\u001b[0m\n",
      "\u001b[1;32m~\\anaconda3\\envs\\plt\\lib\\site-packages\\pandas\\core\\apply.py\u001b[0m in \u001b[0;36mapply_standard\u001b[1;34m(self)\u001b[0m\n\u001b[0;32m   1096\u001b[0m                 \u001b[1;31m# List[Union[Callable[..., Any], str]]]]]\"; expected\u001b[0m\u001b[1;33m\u001b[0m\u001b[1;33m\u001b[0m\u001b[0m\n\u001b[0;32m   1097\u001b[0m                 \u001b[1;31m# \"Callable[[Any], Any]\"\u001b[0m\u001b[1;33m\u001b[0m\u001b[1;33m\u001b[0m\u001b[0m\n\u001b[1;32m-> 1098\u001b[1;33m                 mapped = lib.map_infer(\n\u001b[0m\u001b[0;32m   1099\u001b[0m                     \u001b[0mvalues\u001b[0m\u001b[1;33m,\u001b[0m\u001b[1;33m\u001b[0m\u001b[1;33m\u001b[0m\u001b[0m\n\u001b[0;32m   1100\u001b[0m                     \u001b[0mf\u001b[0m\u001b[1;33m,\u001b[0m  \u001b[1;31m# type: ignore[arg-type]\u001b[0m\u001b[1;33m\u001b[0m\u001b[1;33m\u001b[0m\u001b[0m\n",
      "\u001b[1;32m~\\anaconda3\\envs\\plt\\lib\\site-packages\\pandas\\_libs\\lib.pyx\u001b[0m in \u001b[0;36mpandas._libs.lib.map_infer\u001b[1;34m()\u001b[0m\n",
      "\u001b[1;32m~\\AppData\\Local\\Temp/ipykernel_6668/1163250564.py\u001b[0m in \u001b[0;36mget_level\u001b[1;34m(js, verbose)\u001b[0m\n\u001b[0;32m      9\u001b[0m \u001b[1;33m\u001b[0m\u001b[0m\n\u001b[0;32m     10\u001b[0m     \u001b[1;32mfor\u001b[0m \u001b[0mtopic\u001b[0m \u001b[1;32min\u001b[0m \u001b[0mtopics\u001b[0m\u001b[1;33m:\u001b[0m\u001b[1;33m\u001b[0m\u001b[1;33m\u001b[0m\u001b[0m\n\u001b[1;32m---> 11\u001b[1;33m         \u001b[0mall_scores\u001b[0m\u001b[1;33m.\u001b[0m\u001b[0mupdate\u001b[0m\u001b[1;33m(\u001b[0m \u001b[0mget_mastery\u001b[0m\u001b[1;33m(\u001b[0m\u001b[0mtopic\u001b[0m\u001b[1;33m,\u001b[0m \u001b[0mscores\u001b[0m\u001b[1;33m=\u001b[0m\u001b[0mall_scores\u001b[0m\u001b[1;33m,\u001b[0m \u001b[0mverbose\u001b[0m \u001b[1;33m=\u001b[0m \u001b[0mverbose\u001b[0m\u001b[1;33m)\u001b[0m \u001b[1;33m)\u001b[0m\u001b[1;33m\u001b[0m\u001b[1;33m\u001b[0m\u001b[0m\n\u001b[0m\u001b[0;32m     12\u001b[0m \u001b[1;33m\u001b[0m\u001b[0m\n\u001b[0;32m     13\u001b[0m     \u001b[1;32mreturn\u001b[0m \u001b[0mall_scores\u001b[0m\u001b[1;33m\u001b[0m\u001b[1;33m\u001b[0m\u001b[0m\n",
      "\u001b[1;32m~\\AppData\\Local\\Temp/ipykernel_6668/3518722881.py\u001b[0m in \u001b[0;36mget_mastery\u001b[1;34m(topic, n, scores, verbose)\u001b[0m\n\u001b[0;32m     18\u001b[0m     \u001b[0mtopic_id\u001b[0m \u001b[1;33m=\u001b[0m \u001b[0mtopic\u001b[0m\u001b[1;33m[\u001b[0m\u001b[1;34m\"topic\"\u001b[0m\u001b[1;33m]\u001b[0m\u001b[1;33m[\u001b[0m\u001b[1;34m\"id\"\u001b[0m\u001b[1;33m]\u001b[0m\u001b[1;33m\u001b[0m\u001b[1;33m\u001b[0m\u001b[0m\n\u001b[0;32m     19\u001b[0m     \u001b[0mtopic_name\u001b[0m \u001b[1;33m=\u001b[0m \u001b[0mget_topic_name\u001b[0m\u001b[1;33m(\u001b[0m\u001b[0mtopic_id\u001b[0m\u001b[1;33m)\u001b[0m\u001b[1;33m\u001b[0m\u001b[1;33m\u001b[0m\u001b[0m\n\u001b[1;32m---> 20\u001b[1;33m     \u001b[0mtopic_math\u001b[0m \u001b[1;33m=\u001b[0m \u001b[1;34m'Math'\u001b[0m \u001b[1;32mif\u001b[0m \u001b[0mis_math\u001b[0m\u001b[1;33m(\u001b[0m\u001b[0mtopic_id\u001b[0m\u001b[1;33m)\u001b[0m \u001b[1;32melse\u001b[0m \u001b[1;34m'German'\u001b[0m\u001b[1;33m\u001b[0m\u001b[1;33m\u001b[0m\u001b[0m\n\u001b[0m\u001b[0;32m     21\u001b[0m \u001b[1;33m\u001b[0m\u001b[0m\n\u001b[0;32m     22\u001b[0m     \u001b[1;31m# result\u001b[0m\u001b[1;33m\u001b[0m\u001b[1;33m\u001b[0m\u001b[0m\n",
      "\u001b[1;32m~\\AppData\\Local\\Temp/ipykernel_6668/2504714066.py\u001b[0m in \u001b[0;36mis_math\u001b[1;34m(_id, topics_dict, verbose)\u001b[0m\n\u001b[0;32m     14\u001b[0m     \u001b[0mUses\u001b[0m \u001b[0mthe\u001b[0m \u001b[0mtopics_dict\u001b[0m \u001b[0mto\u001b[0m \u001b[0mindicate\u001b[0m \u001b[0mwether\u001b[0m \u001b[0mthe\u001b[0m \u001b[0mtopic\u001b[0m \u001b[1;32mis\u001b[0m \u001b[0ma\u001b[0m \u001b[0mmath\u001b[0m \u001b[0mtopic\u001b[0m \u001b[1;32mor\u001b[0m \u001b[1;32mnot\u001b[0m \u001b[1;33m(\u001b[0m\u001b[0mGerman\u001b[0m \u001b[0mtopic\u001b[0m\u001b[1;33m)\u001b[0m \u001b[0musing\u001b[0m \u001b[0mits\u001b[0m \u001b[0mid\u001b[0m\u001b[1;33m.\u001b[0m\u001b[1;33m\u001b[0m\u001b[1;33m\u001b[0m\u001b[0m\n\u001b[0;32m     15\u001b[0m     \"\"\"\n\u001b[1;32m---> 16\u001b[1;33m     \u001b[0mtmp\u001b[0m \u001b[1;33m=\u001b[0m \u001b[0mtopics_dict\u001b[0m\u001b[1;33m.\u001b[0m\u001b[0mloc\u001b[0m\u001b[1;33m[\u001b[0m\u001b[0mtopics_dict\u001b[0m\u001b[1;33m.\u001b[0m\u001b[0mid\u001b[0m \u001b[1;33m==\u001b[0m \u001b[0m_id\u001b[0m\u001b[1;33m,\u001b[0m \u001b[1;34m'math'\u001b[0m\u001b[1;33m]\u001b[0m\u001b[1;33m.\u001b[0m\u001b[0mreset_index\u001b[0m\u001b[1;33m(\u001b[0m\u001b[0mdrop\u001b[0m\u001b[1;33m=\u001b[0m\u001b[1;32mTrue\u001b[0m\u001b[1;33m)\u001b[0m\u001b[1;33m\u001b[0m\u001b[1;33m\u001b[0m\u001b[0m\n\u001b[0m\u001b[0;32m     17\u001b[0m     \u001b[1;32mif\u001b[0m \u001b[1;33m(\u001b[0m\u001b[0mtmp\u001b[0m\u001b[1;33m.\u001b[0m\u001b[0mshape\u001b[0m\u001b[1;33m[\u001b[0m\u001b[1;36m0\u001b[0m\u001b[1;33m]\u001b[0m \u001b[1;33m==\u001b[0m \u001b[1;36m0\u001b[0m\u001b[1;33m)\u001b[0m\u001b[1;33m:\u001b[0m\u001b[1;33m\u001b[0m\u001b[1;33m\u001b[0m\u001b[0m\n\u001b[0;32m     18\u001b[0m         \u001b[1;32mif\u001b[0m \u001b[0mverbose\u001b[0m \u001b[1;33m:\u001b[0m \u001b[0mprint\u001b[0m\u001b[1;33m(\u001b[0m\u001b[1;34mf\"Did not find any topic for id {_id}\"\u001b[0m\u001b[1;33m)\u001b[0m\u001b[1;33m\u001b[0m\u001b[1;33m\u001b[0m\u001b[0m\n",
      "\u001b[1;32m~\\anaconda3\\envs\\plt\\lib\\site-packages\\pandas\\util\\_decorators.py\u001b[0m in \u001b[0;36mwrapper\u001b[1;34m(*args, **kwargs)\u001b[0m\n\u001b[0;32m    309\u001b[0m                     \u001b[0mstacklevel\u001b[0m\u001b[1;33m=\u001b[0m\u001b[0mstacklevel\u001b[0m\u001b[1;33m,\u001b[0m\u001b[1;33m\u001b[0m\u001b[1;33m\u001b[0m\u001b[0m\n\u001b[0;32m    310\u001b[0m                 )\n\u001b[1;32m--> 311\u001b[1;33m             \u001b[1;32mreturn\u001b[0m \u001b[0mfunc\u001b[0m\u001b[1;33m(\u001b[0m\u001b[1;33m*\u001b[0m\u001b[0margs\u001b[0m\u001b[1;33m,\u001b[0m \u001b[1;33m**\u001b[0m\u001b[0mkwargs\u001b[0m\u001b[1;33m)\u001b[0m\u001b[1;33m\u001b[0m\u001b[1;33m\u001b[0m\u001b[0m\n\u001b[0m\u001b[0;32m    312\u001b[0m \u001b[1;33m\u001b[0m\u001b[0m\n\u001b[0;32m    313\u001b[0m         \u001b[1;32mreturn\u001b[0m \u001b[0mwrapper\u001b[0m\u001b[1;33m\u001b[0m\u001b[1;33m\u001b[0m\u001b[0m\n",
      "\u001b[1;32m~\\anaconda3\\envs\\plt\\lib\\site-packages\\pandas\\core\\series.py\u001b[0m in \u001b[0;36mreset_index\u001b[1;34m(self, level, drop, name, inplace)\u001b[0m\n\u001b[0;32m   1432\u001b[0m             \u001b[1;32melse\u001b[0m\u001b[1;33m:\u001b[0m\u001b[1;33m\u001b[0m\u001b[1;33m\u001b[0m\u001b[0m\n\u001b[0;32m   1433\u001b[0m                 return self._constructor(\n\u001b[1;32m-> 1434\u001b[1;33m                     \u001b[0mself\u001b[0m\u001b[1;33m.\u001b[0m\u001b[0m_values\u001b[0m\u001b[1;33m.\u001b[0m\u001b[0mcopy\u001b[0m\u001b[1;33m(\u001b[0m\u001b[1;33m)\u001b[0m\u001b[1;33m,\u001b[0m \u001b[0mindex\u001b[0m\u001b[1;33m=\u001b[0m\u001b[0mnew_index\u001b[0m\u001b[1;33m\u001b[0m\u001b[1;33m\u001b[0m\u001b[0m\n\u001b[0m\u001b[0;32m   1435\u001b[0m                 ).__finalize__(self, method=\"reset_index\")\n\u001b[0;32m   1436\u001b[0m         \u001b[1;32melif\u001b[0m \u001b[0minplace\u001b[0m\u001b[1;33m:\u001b[0m\u001b[1;33m\u001b[0m\u001b[1;33m\u001b[0m\u001b[0m\n",
      "\u001b[1;31mKeyboardInterrupt\u001b[0m: "
     ]
    }
   ],
   "source": [
    "users = events.user_id.unique()\n",
    "\n",
    "level_checks = []\n",
    "\n",
    "for u in tqdm(users):\n",
    "    \n",
    "    # Getting all relevant events for the current user\n",
    "    tmp = events.loc[(events.user_id == user_id) & (events.action == 'NAVIGATE_DASHBOARD'), ['timestamp', 'tracking_data']]\n",
    "\n",
    "    # Transforming to date\n",
    "    tmp['date'] = pd.to_datetime(tmp.timestamp, unit='ms')\n",
    "    \n",
    "    # extracting all the mastery scores\n",
    "    tmp['levels'] = tmp.tracking_data.apply(get_level)\n",
    "    \n",
    "    # Making sure that the values are sorted from earliest to latest\n",
    "    tmp.sort_values('date', inplace=True)\n",
    "    \n",
    "    # Computing the changes in levels\n",
    "    tmp['change'] = get_level_changes(tmp.levels)\n",
    "    \n",
    "    # Building the level check df\n",
    "    tmp = build_change_df(tmp)\n",
    "    \n",
    "    # Adding user info\n",
    "    tmp['user_id'] = u\n",
    "    \n",
    "    level_checks.append(tmp)\n",
    "    \n",
    "pd.concat(level_checks)"
   ]
  },
  {
   "cell_type": "code",
   "execution_count": null,
   "id": "8510fa6f-b04a-4c18-a9f6-5fbf87cf1631",
   "metadata": {},
   "outputs": [],
   "source": []
  },
  {
   "cell_type": "markdown",
   "id": "76d0fcca-686e-47a3-8567-c3f92db187d4",
   "metadata": {
    "id": "76d0fcca-686e-47a3-8567-c3f92db187d4"
   },
   "source": [
    "*Your discussion about your processing decisions goes here*"
   ]
  },
  {
   "cell_type": "markdown",
   "id": "85633adb-d317-4ee3-bf06-e9f82f589c41",
   "metadata": {
    "id": "85633adb-d317-4ee3-bf06-e9f82f589c41"
   },
   "source": [
    "## Task 2: Model Building\n",
    "\n",
    "Train a model for your research question. "
   ]
  },
  {
   "cell_type": "code",
   "execution_count": null,
   "id": "90b65ebd-c148-4ae8-833e-018411eeda86",
   "metadata": {
    "id": "90b65ebd-c148-4ae8-833e-018411eeda86"
   },
   "outputs": [],
   "source": [
    "# Your code for training a model goes here"
   ]
  },
  {
   "cell_type": "markdown",
   "id": "cf1f7375",
   "metadata": {},
   "source": [
    "*Your discussion about your model training goes here*"
   ]
  },
  {
   "cell_type": "markdown",
   "id": "b3c9a655-cec9-4c57-aec7-7a982f57a3af",
   "metadata": {
    "id": "b3c9a655-cec9-4c57-aec7-7a982f57a3af"
   },
   "source": [
    "## Task 3: Model Evaluation\n",
    "In this task, you will use metrics to evaluate your model."
   ]
  },
  {
   "cell_type": "code",
   "execution_count": null,
   "id": "f65720b8",
   "metadata": {},
   "outputs": [],
   "source": [
    "# Your code for model evaluation goes here"
   ]
  },
  {
   "cell_type": "markdown",
   "id": "62968daa",
   "metadata": {},
   "source": [
    "*Your discussion/interpretation about your model's behavior goes here*"
   ]
  }
 ],
 "metadata": {
  "colab": {
   "collapsed_sections": [],
   "name": "m2-classtime-sciper.ipynb",
   "provenance": []
  },
  "kernelspec": {
   "display_name": "Python 3 (ipykernel)",
   "language": "python",
   "name": "python3"
  },
  "language_info": {
   "codemirror_mode": {
    "name": "ipython",
    "version": 3
   },
   "file_extension": ".py",
   "mimetype": "text/x-python",
   "name": "python",
   "nbconvert_exporter": "python",
   "pygments_lexer": "ipython3",
   "version": "3.9.7"
  }
 },
 "nbformat": 4,
 "nbformat_minor": 5
}
