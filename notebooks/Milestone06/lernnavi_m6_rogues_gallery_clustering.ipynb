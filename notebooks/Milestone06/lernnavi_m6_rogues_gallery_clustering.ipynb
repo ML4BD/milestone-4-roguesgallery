{
 "cells": [
  {
   "cell_type": "markdown",
   "id": "286a1eb3",
   "metadata": {},
   "source": [
    "# Milestone 6\n",
    "\n",
    "In this milestone, we implement some of the extensions mentioned in Milestone 5."
   ]
  },
  {
   "cell_type": "markdown",
   "id": "08c36b2c",
   "metadata": {},
   "source": [
    "## Recall of previous work\n",
    "\n",
    "Please refer to the [Milestone 4 Report](https://github.com/ML4BD/milestone-4-roguesgallery/blob/master/reports/Milestone%204%20Report.pdf) and the [Milestone 4 Notebook](https://github.com/ML4BD/milestone-4-roguesgallery/blob/master/notebooks/Milestone04/m4_lernnavi_roguesgallery.ipynb) for more details.\n",
    "\n",
    "---\n",
    "\n",
    "In Milestone 4, our objective was to predict the level check success of students with respect to their behavior on the **Lernnavi** learning platform. \n",
    "\n",
    "To this end, we **pre-processed** the data by removing students identified as inactive using criteria such as least number of actions per week. Then we selected a subset of features for each student and transformed their data into time series.<br>\n",
    "In an attempt to see if **regularity** helped categorize students into subgroups, we followed the procedure of [Shirvani Boroujeni, et al](https://infoscience.epfl.ch/record/218657/files/) to compute regularity features on online learning time series. We then clustered the students using the regularity metrics.<br>\n",
    "Finally, we trained multiple time series **classifiers** to predict wether a student would pass a level check or not. One classifier was trained per cluster and one over the whole data. We used 2 different classification techniques."
   ]
  },
  {
   "cell_type": "markdown",
   "id": "f0c79778",
   "metadata": {},
   "source": [
    "## Implementations of this milestone"
   ]
  },
  {
   "cell_type": "markdown",
   "id": "57e3e34f",
   "metadata": {},
   "source": [
    "For this milestone, we are planning on taking another approach to solving our research question. Indeed, in the first milestone, we demonstrated the **predictive potential of a user's behavior time series** for its **success in level checks**. For this, we clustered with respect to time-agnostic metrics and then classified the time series.\n",
    "\n",
    "Our second approach will be to cluster with respect to user time series and then classify using features derived from theuser's engagement, inspired from [Hussain et al.](https://www.hindawi.com/journals/cin/2018/6347186/).\n",
    "\n",
    "To this end, we will proceed as follows:\n",
    "\n",
    "1. Separate math and german-related actions in the data.\n",
    "\n",
    "2. Cluster the user's behaviors using time series clustering.\n",
    "\n",
    "3. Compute the engagement features.\n",
    "\n",
    "4. Train a decision tree classifier on our created features.\n"
   ]
  },
  {
   "cell_type": "code",
   "execution_count": 209,
   "id": "f93ad894-d6a6-4143-ab52-cbc97275faca",
   "metadata": {},
   "outputs": [],
   "source": [
    "# imports\n",
    "import pandas as pd\n",
    "import numpy as np\n",
    "import matplotlib.pyplot as plt\n",
    "\n",
    "import os\n",
    "from tqdm import tqdm\n",
    "from functools import reduce\n",
    "from itertools import product\n",
    "import pickle\n",
    "import warnings\n",
    "\n",
    "from tslearn.clustering import KernelKMeans, KShape, TimeSeriesKMeans\n",
    "from tslearn.clustering import silhouette_score as ts_silhouette_score\n",
    "from tslearn.utils import to_time_series_dataset\n",
    "\n",
    "from sklearn.model_selection import GridSearchCV"
   ]
  },
  {
   "cell_type": "code",
   "execution_count": 179,
   "id": "190f6715-524e-453d-ac66-a6aeec3b9c05",
   "metadata": {},
   "outputs": [],
   "source": [
    "# Config\n",
    "tqdm.pandas()\n",
    "warnings.filterwarnings('ignore') # set to 'ignore' or 'default'"
   ]
  },
  {
   "cell_type": "code",
   "execution_count": 8,
   "id": "5949ef69-7613-4172-9653-1e717a2044f4",
   "metadata": {},
   "outputs": [],
   "source": [
    "# variables\n",
    "DATA_DIR = '../../data/'"
   ]
  },
  {
   "cell_type": "markdown",
   "id": "fad8b379",
   "metadata": {},
   "source": [
    "## Data Processing"
   ]
  },
  {
   "cell_type": "markdown",
   "id": "ae9ac7b8-3758-4004-ad43-49ab00f2dd43",
   "metadata": {},
   "source": [
    "### Splitting between Math and German"
   ]
  },
  {
   "cell_type": "markdown",
   "id": "78652ddb-464d-4a2d-a6e8-41a0d039571f",
   "metadata": {},
   "source": [
    "#### Data Loading"
   ]
  },
  {
   "cell_type": "code",
   "execution_count": 46,
   "id": "e8efc968-adc7-4676-ba01-94ae88fa2abf",
   "metadata": {},
   "outputs": [
    {
     "name": "stdout",
     "output_type": "stream",
     "text": [
      "###### Visualizing events_transac_MERGED.csv.gz:\n",
      "Columns:\n",
      "['transaction_id', 'transaction_token', 'user_id', 'document_id', 'document_version', 'evaluation', 'input', 'start_time', 'commit_time', 'user_agent', 'validation', 'solution', 'type', 'learn_session_id', 'topic_id', 'is_closed', 'type_id', 'is_accepted', 'num_checks', 'event_id', 'timestamp', 'category', 'action', 'event_type', 'session_id', 'tracking_data', 'num_participations', 'week', 'num_actions_per_week', 'num_weeks_per_user']\n",
      "\n"
     ]
    },
    {
     "data": {
      "text/html": [
       "<div>\n",
       "<style scoped>\n",
       "    .dataframe tbody tr th:only-of-type {\n",
       "        vertical-align: middle;\n",
       "    }\n",
       "\n",
       "    .dataframe tbody tr th {\n",
       "        vertical-align: top;\n",
       "    }\n",
       "\n",
       "    .dataframe thead th {\n",
       "        text-align: right;\n",
       "    }\n",
       "</style>\n",
       "<table border=\"1\" class=\"dataframe\">\n",
       "  <thead>\n",
       "    <tr style=\"text-align: right;\">\n",
       "      <th></th>\n",
       "      <th>transaction_id</th>\n",
       "      <th>transaction_token</th>\n",
       "      <th>user_id</th>\n",
       "      <th>document_id</th>\n",
       "      <th>document_version</th>\n",
       "      <th>evaluation</th>\n",
       "      <th>input</th>\n",
       "      <th>start_time</th>\n",
       "      <th>commit_time</th>\n",
       "      <th>user_agent</th>\n",
       "      <th>...</th>\n",
       "      <th>timestamp</th>\n",
       "      <th>category</th>\n",
       "      <th>action</th>\n",
       "      <th>event_type</th>\n",
       "      <th>session_id</th>\n",
       "      <th>tracking_data</th>\n",
       "      <th>num_participations</th>\n",
       "      <th>week</th>\n",
       "      <th>num_actions_per_week</th>\n",
       "      <th>num_weeks_per_user</th>\n",
       "    </tr>\n",
       "  </thead>\n",
       "  <tbody>\n",
       "    <tr>\n",
       "      <th>0</th>\n",
       "      <td>1576010</td>\n",
       "      <td>a65959df-7bf0-4956-9aa7-511af281fdb5</td>\n",
       "      <td>387604.0</td>\n",
       "      <td>18FedrGurdA7jklbk0mtVA</td>\n",
       "      <td>115404</td>\n",
       "      <td>NaN</td>\n",
       "      <td>NaN</td>\n",
       "      <td>1645197218251</td>\n",
       "      <td>1.645197e+12</td>\n",
       "      <td>unknown</td>\n",
       "      <td>...</td>\n",
       "      <td>2022-02-18 15:13:38.387</td>\n",
       "      <td>SESSION</td>\n",
       "      <td>REVIEW_TASK</td>\n",
       "      <td>VIEW</td>\n",
       "      <td>111059.0</td>\n",
       "      <td>NaN</td>\n",
       "      <td>5</td>\n",
       "      <td>40</td>\n",
       "      <td>7</td>\n",
       "      <td>6</td>\n",
       "    </tr>\n",
       "    <tr>\n",
       "      <th>1</th>\n",
       "      <td>1576010</td>\n",
       "      <td>a65959df-7bf0-4956-9aa7-511af281fdb5</td>\n",
       "      <td>387604.0</td>\n",
       "      <td>18FedrGurdA7jklbk0mtVA</td>\n",
       "      <td>115404</td>\n",
       "      <td>NaN</td>\n",
       "      <td>NaN</td>\n",
       "      <td>1645197218251</td>\n",
       "      <td>1.645197e+12</td>\n",
       "      <td>unknown</td>\n",
       "      <td>...</td>\n",
       "      <td>2022-02-18 15:13:40.545</td>\n",
       "      <td>SESSION</td>\n",
       "      <td>SKIP</td>\n",
       "      <td>CLICK</td>\n",
       "      <td>111059.0</td>\n",
       "      <td>NaN</td>\n",
       "      <td>5</td>\n",
       "      <td>40</td>\n",
       "      <td>7</td>\n",
       "      <td>6</td>\n",
       "    </tr>\n",
       "    <tr>\n",
       "      <th>2</th>\n",
       "      <td>1576012</td>\n",
       "      <td>379dad17-2d6f-42f3-b6f0-68a39664733b</td>\n",
       "      <td>387604.0</td>\n",
       "      <td>1taQDeFXg1E9GxbT0YApJU</td>\n",
       "      <td>115407</td>\n",
       "      <td>NaN</td>\n",
       "      <td>NaN</td>\n",
       "      <td>1645197222948</td>\n",
       "      <td>NaN</td>\n",
       "      <td>unknown</td>\n",
       "      <td>...</td>\n",
       "      <td>2022-02-18 15:13:43.057</td>\n",
       "      <td>SESSION</td>\n",
       "      <td>REVIEW_TASK</td>\n",
       "      <td>VIEW</td>\n",
       "      <td>111059.0</td>\n",
       "      <td>NaN</td>\n",
       "      <td>5</td>\n",
       "      <td>40</td>\n",
       "      <td>7</td>\n",
       "      <td>6</td>\n",
       "    </tr>\n",
       "  </tbody>\n",
       "</table>\n",
       "<p>3 rows × 30 columns</p>\n",
       "</div>"
      ],
      "text/plain": [
       "   transaction_id                     transaction_token   user_id  \\\n",
       "0         1576010  a65959df-7bf0-4956-9aa7-511af281fdb5  387604.0   \n",
       "1         1576010  a65959df-7bf0-4956-9aa7-511af281fdb5  387604.0   \n",
       "2         1576012  379dad17-2d6f-42f3-b6f0-68a39664733b  387604.0   \n",
       "\n",
       "              document_id  document_version evaluation input     start_time  \\\n",
       "0  18FedrGurdA7jklbk0mtVA            115404        NaN   NaN  1645197218251   \n",
       "1  18FedrGurdA7jklbk0mtVA            115404        NaN   NaN  1645197218251   \n",
       "2  1taQDeFXg1E9GxbT0YApJU            115407        NaN   NaN  1645197222948   \n",
       "\n",
       "    commit_time user_agent  ...                timestamp category  \\\n",
       "0  1.645197e+12    unknown  ...  2022-02-18 15:13:38.387  SESSION   \n",
       "1  1.645197e+12    unknown  ...  2022-02-18 15:13:40.545  SESSION   \n",
       "2           NaN    unknown  ...  2022-02-18 15:13:43.057  SESSION   \n",
       "\n",
       "        action  event_type  session_id  tracking_data  num_participations  \\\n",
       "0  REVIEW_TASK        VIEW    111059.0            NaN                   5   \n",
       "1         SKIP       CLICK    111059.0            NaN                   5   \n",
       "2  REVIEW_TASK        VIEW    111059.0            NaN                   5   \n",
       "\n",
       "   week  num_actions_per_week  num_weeks_per_user  \n",
       "0    40                     7                   6  \n",
       "1    40                     7                   6  \n",
       "2    40                     7                   6  \n",
       "\n",
       "[3 rows x 30 columns]"
      ]
     },
     "execution_count": 46,
     "metadata": {},
     "output_type": "execute_result"
    }
   ],
   "source": [
    "# Loading events & transactions merged & cleaned\n",
    "path_suffix = \"interim/\"\n",
    "filename = 'events_transac_MERGED.csv.gz'\n",
    "data = pd.read_csv(DATA_DIR + path_suffix + filename)\n",
    "\n",
    "# Visualizing first rows\n",
    "print(f\"###### Visualizing {filename}:\")\n",
    "print(f\"Columns:\\n{list(data.columns)}\")\n",
    "print()\n",
    "\n",
    "data.head(3)"
   ]
  },
  {
   "cell_type": "code",
   "execution_count": 47,
   "id": "2a27b7e1-52fe-4a7a-9081-959d7d6d621c",
   "metadata": {},
   "outputs": [
    {
     "name": "stdout",
     "output_type": "stream",
     "text": [
      "###### Visualizing topics_translated.csv.gz:\n",
      "Columns:\n",
      "['id', 'name', 'description', 'name_english', 'description_english', 'math']\n",
      "\n"
     ]
    },
    {
     "data": {
      "text/html": [
       "<div>\n",
       "<style scoped>\n",
       "    .dataframe tbody tr th:only-of-type {\n",
       "        vertical-align: middle;\n",
       "    }\n",
       "\n",
       "    .dataframe tbody tr th {\n",
       "        vertical-align: top;\n",
       "    }\n",
       "\n",
       "    .dataframe thead th {\n",
       "        text-align: right;\n",
       "    }\n",
       "</style>\n",
       "<table border=\"1\" class=\"dataframe\">\n",
       "  <thead>\n",
       "    <tr style=\"text-align: right;\">\n",
       "      <th></th>\n",
       "      <th>id</th>\n",
       "      <th>name</th>\n",
       "      <th>description</th>\n",
       "      <th>name_english</th>\n",
       "      <th>description_english</th>\n",
       "      <th>math</th>\n",
       "    </tr>\n",
       "  </thead>\n",
       "  <tbody>\n",
       "    <tr>\n",
       "      <th>0</th>\n",
       "      <td>1</td>\n",
       "      <td>Deutsch</td>\n",
       "      <td>Sprache als System</td>\n",
       "      <td>German</td>\n",
       "      <td>Language as a system</td>\n",
       "      <td>0.0</td>\n",
       "    </tr>\n",
       "    <tr>\n",
       "      <th>1</th>\n",
       "      <td>2</td>\n",
       "      <td>Orthografie</td>\n",
       "      <td>NaN</td>\n",
       "      <td>spelling</td>\n",
       "      <td>NaN</td>\n",
       "      <td>0.0</td>\n",
       "    </tr>\n",
       "    <tr>\n",
       "      <th>2</th>\n",
       "      <td>3</td>\n",
       "      <td>Rechtschreibprinzipien</td>\n",
       "      <td>NaN</td>\n",
       "      <td>Spelling principles</td>\n",
       "      <td>NaN</td>\n",
       "      <td>0.0</td>\n",
       "    </tr>\n",
       "  </tbody>\n",
       "</table>\n",
       "</div>"
      ],
      "text/plain": [
       "   id                    name         description         name_english  \\\n",
       "0   1                 Deutsch  Sprache als System               German   \n",
       "1   2             Orthografie                 NaN             spelling   \n",
       "2   3  Rechtschreibprinzipien                 NaN  Spelling principles   \n",
       "\n",
       "    description_english  math  \n",
       "0  Language as a system   0.0  \n",
       "1                   NaN   0.0  \n",
       "2                   NaN   0.0  "
      ]
     },
     "execution_count": 47,
     "metadata": {},
     "output_type": "execute_result"
    }
   ],
   "source": [
    "# Loading table containing Math / German information\n",
    "path_suffix = 'raw/'\n",
    "filename = 'topics_translated.csv.gz'\n",
    "topics_translated = pd.read_csv(DATA_DIR + path_suffix + filename)\n",
    "\n",
    "# Visualizing first rows\n",
    "print(f\"###### Visualizing {filename}:\")\n",
    "print(f\"Columns:\\n{list(topics_translated.columns)}\")\n",
    "print()\n",
    "\n",
    "topics_translated.head(3)"
   ]
  },
  {
   "cell_type": "markdown",
   "id": "e733a01f-c9a7-43a1-9e19-d444172f1e00",
   "metadata": {},
   "source": [
    "#### Events categorization"
   ]
  },
  {
   "cell_type": "code",
   "execution_count": 48,
   "id": "4601accd-2a28-4fcc-9d35-57fd53bf87ab",
   "metadata": {},
   "outputs": [
    {
     "data": {
      "text/html": [
       "<div>\n",
       "<style scoped>\n",
       "    .dataframe tbody tr th:only-of-type {\n",
       "        vertical-align: middle;\n",
       "    }\n",
       "\n",
       "    .dataframe tbody tr th {\n",
       "        vertical-align: top;\n",
       "    }\n",
       "\n",
       "    .dataframe thead th {\n",
       "        text-align: right;\n",
       "    }\n",
       "</style>\n",
       "<table border=\"1\" class=\"dataframe\">\n",
       "  <thead>\n",
       "    <tr style=\"text-align: right;\">\n",
       "      <th></th>\n",
       "      <th>id</th>\n",
       "      <th>math</th>\n",
       "    </tr>\n",
       "  </thead>\n",
       "  <tbody>\n",
       "    <tr>\n",
       "      <th>462</th>\n",
       "      <td>3314</td>\n",
       "      <td>0.0</td>\n",
       "    </tr>\n",
       "    <tr>\n",
       "      <th>301</th>\n",
       "      <td>3069</td>\n",
       "      <td>0.0</td>\n",
       "    </tr>\n",
       "    <tr>\n",
       "      <th>20</th>\n",
       "      <td>966</td>\n",
       "      <td>1.0</td>\n",
       "    </tr>\n",
       "  </tbody>\n",
       "</table>\n",
       "</div>"
      ],
      "text/plain": [
       "       id  math\n",
       "462  3314   0.0\n",
       "301  3069   0.0\n",
       "20    966   1.0"
      ]
     },
     "execution_count": 48,
     "metadata": {},
     "output_type": "execute_result"
    }
   ],
   "source": [
    "# Keeping only relevant columns\n",
    "topics_translated = topics_translated[['id', 'math']]\n",
    "topics_translated.sample(3)"
   ]
  },
  {
   "cell_type": "code",
   "execution_count": 49,
   "id": "6bc79fa6-fbdc-4b2e-b255-5ef91ec844a4",
   "metadata": {},
   "outputs": [
    {
     "name": "stdout",
     "output_type": "stream",
     "text": [
      "Size of 'data' DF before merge: 790,425 lines\n",
      "Size of 'data' DF after merge: 790,425 lines\n"
     ]
    },
    {
     "data": {
      "text/plain": [
       "transaction_id                                       1576010\n",
       "transaction_token       a65959df-7bf0-4956-9aa7-511af281fdb5\n",
       "user_id                                             387604.0\n",
       "document_id                           18FedrGurdA7jklbk0mtVA\n",
       "document_version                                      115404\n",
       "evaluation                                               NaN\n",
       "input                                                    NaN\n",
       "start_time                                     1645197218251\n",
       "commit_time                                  1645197220536.0\n",
       "user_agent                                           unknown\n",
       "validation                                              SKIP\n",
       "solution                                                 NaN\n",
       "type                                                     NaN\n",
       "learn_session_id                                      111059\n",
       "topic_id                                                3250\n",
       "is_closed                                                  0\n",
       "type_id                                                    1\n",
       "is_accepted                                              NaN\n",
       "num_checks                                                11\n",
       "event_id                                             3469683\n",
       "timestamp                            2022-02-18 15:13:38.387\n",
       "category                                             SESSION\n",
       "action                                           REVIEW_TASK\n",
       "event_type                                              VIEW\n",
       "session_id                                          111059.0\n",
       "tracking_data                                            NaN\n",
       "num_participations                                         5\n",
       "week                                                      40\n",
       "num_actions_per_week                                       7\n",
       "num_weeks_per_user                                         6\n",
       "id                                                      3250\n",
       "math                                                     0.0\n",
       "Name: 0, dtype: object"
      ]
     },
     "execution_count": 49,
     "metadata": {},
     "output_type": "execute_result"
    }
   ],
   "source": [
    "# Merging MATH/GERMAN info into data table\n",
    "print(f\"Size of 'data' DF before merge: {data.shape[0]:,} lines\")\n",
    "\n",
    "# merging\n",
    "data_categorized = data.merge(topics_translated, left_on='topic_id', right_on='id', how='inner')\n",
    "\n",
    "print(f\"Size of 'data' DF after merge: {data_categorized.shape[0]:,} lines\")\n",
    "data_categorized.iloc[0]\n",
    "\n",
    "# You can observe the additional info 'id' & 'math' at the end of the first line's columns"
   ]
  },
  {
   "cell_type": "code",
   "execution_count": 50,
   "id": "b948ba17-b012-4185-a4a5-74fc12e2fc2e",
   "metadata": {},
   "outputs": [],
   "source": [
    "# Removing the 'id' duplicate feature\n",
    "data_categorized.drop(columns='id', inplace=True)"
   ]
  },
  {
   "cell_type": "code",
   "execution_count": 51,
   "id": "7283c8c4-b061-4c63-a2c1-0434f59b0313",
   "metadata": {},
   "outputs": [
    {
     "name": "stdout",
     "output_type": "stream",
     "text": [
      "Size before split: 790,425 lines\n",
      "\n",
      "Size of german split: 634,807 lines\n",
      "Size of math split: 155,618 lines\n"
     ]
    }
   ],
   "source": [
    "# Splitting between german and math\n",
    "print(f\"Size before split: {data_categorized.shape[0]:,} lines\")\n",
    "print()\n",
    "\n",
    "df_german = data_categorized.loc[data_categorized.math == 0.0].drop(columns='math')\n",
    "df_math = data_categorized.loc[data_categorized.math == 1.0].drop(columns='math')\n",
    "\n",
    "print(f\"Size of german split: {df_german.shape[0]:,} lines\")\n",
    "print(f\"Size of math split: {df_math.shape[0]:,} lines\")\n",
    "\n",
    "# Verificiation\n",
    "assert(df_german.shape[0] + df_math.shape[0] == data_categorized.shape[0]), \"Some lines were lost in the splits!\""
   ]
  },
  {
   "cell_type": "code",
   "execution_count": 52,
   "id": "203de3f4-e0ad-4c48-b67e-65b98cd63cc2",
   "metadata": {},
   "outputs": [
    {
     "name": "stdin",
     "output_type": "stream",
     "text": [
      "Are you sure that you want to save events_transac_GERMAN.csv.gz in ../../data/processed/MATH_GERMAN_split/?\n",
      "[yes|no] no\n",
      "Are you sure that you want to save events_transac_MATH.csv.gz in ../../data/processed/MATH_GERMAN_split/?\n",
      "[yes|no] no\n"
     ]
    }
   ],
   "source": [
    "## Saving split data\n",
    "\n",
    "# Creating folder if non existent\n",
    "folder = 'MATH_GERMAN_split/'\n",
    "path = DATA_DIR + 'processed/'+folder\n",
    "\n",
    "if folder.split('/')[0] not in os.listdir(DATA_DIR + 'processed/'):\n",
    "    os.mkdir(path)\n",
    "    \n",
    "# Saving data\n",
    "filename = 'events_transac_GERMAN.csv.gz'\n",
    "_check = input(f'Are you sure that you want to save {filename} in {path}?\\n[yes|no]')\n",
    "if _check == \"yes\":\n",
    "    df_german.to_csv(path+filename)\n",
    "    \n",
    "filename = 'events_transac_MATH.csv.gz'\n",
    "_check = input(f'Are you sure that you want to save {filename} in {path}?\\n[yes|no]')\n",
    "if _check == \"yes\":\n",
    "    df_math.to_csv(path+filename)"
   ]
  },
  {
   "cell_type": "code",
   "execution_count": 53,
   "id": "ca410796-7d99-4127-8e2b-c20b259bcac2",
   "metadata": {},
   "outputs": [],
   "source": [
    "# Freeing up RAM\n",
    "del data\n",
    "del data_categorized\n",
    "del topics_translated"
   ]
  },
  {
   "cell_type": "markdown",
   "id": "a22bb44f-3ec4-46d7-8a2d-559c3f5644a4",
   "metadata": {},
   "source": [
    "### Creating user time series for both German and Math"
   ]
  },
  {
   "cell_type": "markdown",
   "id": "6ea89db1-19d0-49f2-ba75-c43e02f248bc",
   "metadata": {},
   "source": [
    "#### Data loading"
   ]
  },
  {
   "cell_type": "code",
   "execution_count": 55,
   "id": "daf28f32-4b36-450d-be87-2baf4f5bb4b4",
   "metadata": {},
   "outputs": [
    {
     "name": "stdout",
     "output_type": "stream",
     "text": [
      "NOTE: Both dataframes look the same. The difference is that the first one is German and the second one is Math.\n",
      "\n",
      "Columns: \n",
      "['transaction_id', 'transaction_token', 'user_id', 'document_id', 'document_version', 'evaluation', 'input', 'start_time', 'commit_time', 'user_agent', 'validation', 'solution', 'type', 'learn_session_id', 'topic_id', 'is_closed', 'type_id', 'is_accepted', 'num_checks', 'event_id', 'timestamp', 'category', 'action', 'event_type', 'session_id', 'tracking_data', 'num_participations', 'week', 'num_actions_per_week', 'num_weeks_per_user']\n"
     ]
    },
    {
     "data": {
      "text/html": [
       "<div>\n",
       "<style scoped>\n",
       "    .dataframe tbody tr th:only-of-type {\n",
       "        vertical-align: middle;\n",
       "    }\n",
       "\n",
       "    .dataframe tbody tr th {\n",
       "        vertical-align: top;\n",
       "    }\n",
       "\n",
       "    .dataframe thead th {\n",
       "        text-align: right;\n",
       "    }\n",
       "</style>\n",
       "<table border=\"1\" class=\"dataframe\">\n",
       "  <thead>\n",
       "    <tr style=\"text-align: right;\">\n",
       "      <th></th>\n",
       "      <th>transaction_id</th>\n",
       "      <th>transaction_token</th>\n",
       "      <th>user_id</th>\n",
       "      <th>document_id</th>\n",
       "      <th>document_version</th>\n",
       "      <th>evaluation</th>\n",
       "      <th>input</th>\n",
       "      <th>start_time</th>\n",
       "      <th>commit_time</th>\n",
       "      <th>user_agent</th>\n",
       "      <th>...</th>\n",
       "      <th>timestamp</th>\n",
       "      <th>category</th>\n",
       "      <th>action</th>\n",
       "      <th>event_type</th>\n",
       "      <th>session_id</th>\n",
       "      <th>tracking_data</th>\n",
       "      <th>num_participations</th>\n",
       "      <th>week</th>\n",
       "      <th>num_actions_per_week</th>\n",
       "      <th>num_weeks_per_user</th>\n",
       "    </tr>\n",
       "  </thead>\n",
       "  <tbody>\n",
       "    <tr>\n",
       "      <th>265833</th>\n",
       "      <td>729269</td>\n",
       "      <td>d471b18d-8aec-45e8-a92e-6a2405ad700f</td>\n",
       "      <td>387604.0</td>\n",
       "      <td>7jtbzlKxycH6cW4AluHWvW</td>\n",
       "      <td>80848</td>\n",
       "      <td>NaN</td>\n",
       "      <td>NaN</td>\n",
       "      <td>1625213473122</td>\n",
       "      <td>1.625217e+12</td>\n",
       "      <td>unknown</td>\n",
       "      <td>...</td>\n",
       "      <td>2021-07-02 08:11:13.272</td>\n",
       "      <td>TASK</td>\n",
       "      <td>VIEW_QUESTION</td>\n",
       "      <td>VIEW</td>\n",
       "      <td>37243.0</td>\n",
       "      <td>NaN</td>\n",
       "      <td>5</td>\n",
       "      <td>6</td>\n",
       "      <td>16</td>\n",
       "      <td>6</td>\n",
       "    </tr>\n",
       "    <tr>\n",
       "      <th>265834</th>\n",
       "      <td>729269</td>\n",
       "      <td>d471b18d-8aec-45e8-a92e-6a2405ad700f</td>\n",
       "      <td>387604.0</td>\n",
       "      <td>7jtbzlKxycH6cW4AluHWvW</td>\n",
       "      <td>80848</td>\n",
       "      <td>NaN</td>\n",
       "      <td>NaN</td>\n",
       "      <td>1625213473122</td>\n",
       "      <td>1.625217e+12</td>\n",
       "      <td>unknown</td>\n",
       "      <td>...</td>\n",
       "      <td>2021-07-02 09:11:02.900</td>\n",
       "      <td>TASK</td>\n",
       "      <td>VIEW_QUESTION</td>\n",
       "      <td>VIEW</td>\n",
       "      <td>37243.0</td>\n",
       "      <td>NaN</td>\n",
       "      <td>5</td>\n",
       "      <td>6</td>\n",
       "      <td>16</td>\n",
       "      <td>6</td>\n",
       "    </tr>\n",
       "    <tr>\n",
       "      <th>265835</th>\n",
       "      <td>729269</td>\n",
       "      <td>d471b18d-8aec-45e8-a92e-6a2405ad700f</td>\n",
       "      <td>387604.0</td>\n",
       "      <td>7jtbzlKxycH6cW4AluHWvW</td>\n",
       "      <td>80848</td>\n",
       "      <td>NaN</td>\n",
       "      <td>NaN</td>\n",
       "      <td>1625213473122</td>\n",
       "      <td>1.625217e+12</td>\n",
       "      <td>unknown</td>\n",
       "      <td>...</td>\n",
       "      <td>2021-07-02 09:11:06.952</td>\n",
       "      <td>SESSION</td>\n",
       "      <td>SKIP</td>\n",
       "      <td>CLICK</td>\n",
       "      <td>37243.0</td>\n",
       "      <td>NaN</td>\n",
       "      <td>5</td>\n",
       "      <td>6</td>\n",
       "      <td>16</td>\n",
       "      <td>6</td>\n",
       "    </tr>\n",
       "  </tbody>\n",
       "</table>\n",
       "<p>3 rows × 30 columns</p>\n",
       "</div>"
      ],
      "text/plain": [
       "        transaction_id                     transaction_token   user_id  \\\n",
       "265833          729269  d471b18d-8aec-45e8-a92e-6a2405ad700f  387604.0   \n",
       "265834          729269  d471b18d-8aec-45e8-a92e-6a2405ad700f  387604.0   \n",
       "265835          729269  d471b18d-8aec-45e8-a92e-6a2405ad700f  387604.0   \n",
       "\n",
       "                   document_id  document_version evaluation input  \\\n",
       "265833  7jtbzlKxycH6cW4AluHWvW             80848        NaN   NaN   \n",
       "265834  7jtbzlKxycH6cW4AluHWvW             80848        NaN   NaN   \n",
       "265835  7jtbzlKxycH6cW4AluHWvW             80848        NaN   NaN   \n",
       "\n",
       "           start_time   commit_time user_agent  ...                timestamp  \\\n",
       "265833  1625213473122  1.625217e+12    unknown  ...  2021-07-02 08:11:13.272   \n",
       "265834  1625213473122  1.625217e+12    unknown  ...  2021-07-02 09:11:02.900   \n",
       "265835  1625213473122  1.625217e+12    unknown  ...  2021-07-02 09:11:06.952   \n",
       "\n",
       "       category         action  event_type  session_id  tracking_data  \\\n",
       "265833     TASK  VIEW_QUESTION        VIEW     37243.0            NaN   \n",
       "265834     TASK  VIEW_QUESTION        VIEW     37243.0            NaN   \n",
       "265835  SESSION           SKIP       CLICK     37243.0            NaN   \n",
       "\n",
       "        num_participations  week  num_actions_per_week  num_weeks_per_user  \n",
       "265833                   5     6                    16                   6  \n",
       "265834                   5     6                    16                   6  \n",
       "265835                   5     6                    16                   6  \n",
       "\n",
       "[3 rows x 30 columns]"
      ]
     },
     "execution_count": 55,
     "metadata": {},
     "output_type": "execute_result"
    }
   ],
   "source": [
    "# Loading German and math data\n",
    "folder = 'MATH_GERMAN_split/'\n",
    "path = DATA_DIR + 'processed/'+folder\n",
    "\n",
    "filename = 'events_transac_GERMAN.csv.gz'\n",
    "df_german = pd.read_csv(path + filename, index_col=0)\n",
    "\n",
    "filename = 'events_transac_MATH.csv.gz'\n",
    "df_math = pd.read_csv(path + filename, index_col=0)\n",
    "\n",
    "print(\"NOTE: Both dataframes look the same. The difference is that the first one is German and the second one is Math.\")\n",
    "print()\n",
    "print(f\"Columns: \\n{list(df_math.columns)}\")\n",
    "df_math.head(3)"
   ]
  },
  {
   "cell_type": "markdown",
   "id": "16609f40-eadb-4f25-a3ef-e4bf1bbf7436",
   "metadata": {},
   "source": [
    "#### Utils"
   ]
  },
  {
   "cell_type": "code",
   "execution_count": 58,
   "id": "d4fbc960-2c66-4220-ad85-525ce803db57",
   "metadata": {},
   "outputs": [],
   "source": [
    "def build_time_ref(df_features):\n",
    "    \"\"\"\n",
    "    Creates a simple DataFrame with a single column enumerating the weeks from the minimum \n",
    "    up to the maximum week number observed in the data.\n",
    "    \"\"\"\n",
    "    min_week = df_features.week.min()\n",
    "    max_week = df_features.week.max()\n",
    "    time_ref = pd.DataFrame(range(min_week, max_week)).rename(columns = {0:'week'})\n",
    "    return time_ref\n",
    "\n",
    "def build_actions_ref(df_features, time_ref = None):\n",
    "    \"\"\"\n",
    "    Creates a DataFrame filled with NaN with one column for the week enumeration and one for\n",
    "    each of the actions detected in df_features.\n",
    "    \"\"\"\n",
    "    if time_ref is None : time_ref = build_time_ref(df_features)\n",
    "    \n",
    "    actions_ref = df_features.action.unique()\n",
    "    actions_ref = pd.DataFrame(columns=actions_ref, index=time_ref.index).reset_index().rename(columns={'index':'week'})\n",
    "    return actions_ref"
   ]
  },
  {
   "cell_type": "code",
   "execution_count": 59,
   "id": "cc433a64-2996-427a-9e0a-008841c3b74a",
   "metadata": {},
   "outputs": [],
   "source": [
    "def build_num_actions_per_week(df_features, u, time_ref=None, _fill=0.0):\n",
    "    \"\"\"\n",
    "    Gets and formats the 'num_actions_per_week' information from the input table for the specified user u.\n",
    "    The result contains one line per week of the time series. NaNs are replaces with the _fill value.\n",
    "    \"\"\"\n",
    "    if time_ref is None: time_ref = build_time_ref(df_features)\n",
    "    \n",
    "    # Getting info\n",
    "    num_actions_per_week = df_features.loc[df_features.user_id == u, ['week', 'num_actions_per_week']].drop_duplicates(['week', 'num_actions_per_week'])\n",
    "    # Filling the gaps in weeks to form time series\n",
    "    num_actions_per_week = num_actions_per_week.merge(time_ref, on='week', how='right').fillna(_fill)\n",
    "    return num_actions_per_week"
   ]
  },
  {
   "cell_type": "code",
   "execution_count": 60,
   "id": "e612db4d-fe13-4b57-8abc-1ed82e4d3c1d",
   "metadata": {},
   "outputs": [],
   "source": [
    "def build_one_hot_actions(df_features, u, actions_ref=None, time_ref=None, _fill=0.0):\n",
    "    \"\"\"\n",
    "    Fills in the action_ref template with the count of the action for the designated week, for the specified user u.\n",
    "    NaNs are filled with the _fill value.\n",
    "    \"\"\"\n",
    "    if time_ref is None: time_ref = build_time_ref(df_features)\n",
    "    if actions_ref is None: actions_ref = build_actions_ref(df_features)\n",
    "    \n",
    "    # Store the unique actions' dataframes.\n",
    "    actions = []\n",
    "\n",
    "    for c in actions_ref.columns[1:]:\n",
    "        # Getting the count for each action for each week\n",
    "        one_hot_action = df_features.loc[(df_features.user_id == u) & (df_features.action == c), ['week']].reset_index().groupby(['week']).count().reset_index().rename(columns={'index':c})\n",
    "        # Merging to account for all weeks\n",
    "        one_hot_action = one_hot_action.merge(time_ref, how='right', on='week').fillna(_fill)\n",
    "\n",
    "        actions.append(one_hot_action)\n",
    "\n",
    "    one_hot_actions = reduce(lambda left, right : left.merge(right, how='outer', on='week') , actions)\n",
    "    \n",
    "    return one_hot_actions\n"
   ]
  },
  {
   "cell_type": "code",
   "execution_count": 64,
   "id": "6d17c67a-1fb9-4773-8d26-a73d546eb0f6",
   "metadata": {},
   "outputs": [],
   "source": [
    "def build_elapsed_time(df_features, u, average=np.mean, time_ref = None, _fill=0.0):\n",
    "    \"\"\"\n",
    "    Builds the elapsed time feature accounting for the average time spent on actions each week.\n",
    "    Actions are not distinguished. Only actions with a `commit_time` value are taken into account.\n",
    "    NaNs are filled with the _fill value.\n",
    "    \"\"\"\n",
    "    # Extracts the valid data (non NaN commit_time)\n",
    "    elapsed_time = df_features.loc[(df_features.user_id == u) & (~df_features.commit_time.isna()), ['week', 'start_time', 'commit_time']]\n",
    "    # Compute elasped time values\n",
    "    elapsed_time['elapsed_time'] = elapsed_time.commit_time - elapsed_time.start_time\n",
    "\n",
    "    # Compute the average of these values\n",
    "    elapsed_time = elapsed_time.groupby('week').agg(average).reset_index()[['week', 'elapsed_time']]\n",
    "    # Formats to time serie & fills NaNs\n",
    "    elapsed_time = elapsed_time.merge(time_ref, on='week', how='right').fillna(0.0)\n",
    "    \n",
    "    return elapsed_time"
   ]
  },
  {
   "cell_type": "code",
   "execution_count": 65,
   "id": "e0ced378-5b84-4f16-a772-8bb320c608f9",
   "metadata": {},
   "outputs": [],
   "source": [
    "def aggregate_level_check_scores(r, threshold = 0.5) :\n",
    "    \"\"\"\n",
    "    Aggregates the level checks for multiple level checks in a single week for a single user.\n",
    "    \"\"\"\n",
    "    pass_ratio = sum(r) / len(r)\n",
    "    return pass_ratio > threshold"
   ]
  },
  {
   "cell_type": "code",
   "execution_count": 66,
   "id": "b69414e8-fb19-4221-af58-e246ee391863",
   "metadata": {},
   "outputs": [],
   "source": [
    "def create_week_number(d):\n",
    "    return (d.isocalendar()[0]-2021)*53 + d.isocalendar()[1]-1"
   ]
  },
  {
   "cell_type": "code",
   "execution_count": 74,
   "id": "a82e85f0-75a0-4688-9148-1f83f48ea435",
   "metadata": {},
   "outputs": [],
   "source": [
    "def to_time_series(df_features, time_ref, actions_ref):\n",
    "    \"\"\"\n",
    "    Builds complete time series tracking for each week the number of times an action was performed and fills all weeks for all users.\n",
    "    Output is a list of DF, one per user.\n",
    "    \"\"\"\n",
    "    users = df_features.user_id.unique()\n",
    "    X = []\n",
    "    \n",
    "    for u in tqdm(users):\n",
    "        # Building the num actions per week \n",
    "        num_actions_per_week = build_num_actions_per_week(df_features, u, time_ref=time_ref)\n",
    "\n",
    "        # Building the one hot encoding of actions\n",
    "        one_hot_actions = build_one_hot_actions(df_features, u, actions_ref=actions_ref, time_ref=time_ref)\n",
    "\n",
    "        # Computing the average time spent on an action per week \n",
    "        elapsed_time = build_elapsed_time(df_features, u, average=np.mean, time_ref=time_ref)\n",
    "\n",
    "        # Aggregate all into final feature vector\n",
    "        _all = [num_actions_per_week, elapsed_time, one_hot_actions]\n",
    "        _X = reduce(lambda left, right : left.merge(right, how='outer', on='week') , _all).set_index('week')\n",
    "\n",
    "        X.append((u, _X))\n",
    "        \n",
    "    return X"
   ]
  },
  {
   "cell_type": "markdown",
   "id": "2cf6a5ee-3a4d-4aca-a7d1-3785d3a04e0a",
   "metadata": {},
   "source": [
    "#### Time Series feature creation"
   ]
  },
  {
   "cell_type": "code",
   "execution_count": 75,
   "id": "4bb26862-ce62-4c5e-b227-2573c2a6cbd5",
   "metadata": {},
   "outputs": [],
   "source": [
    "# Keeping only the relevant columns for both dataframes\n",
    "relevant_columns = ['user_id', 'timestamp', 'week', 'category', 'action', 'start_time', 'commit_time', 'num_checks', 'num_participations', 'num_actions_per_week', 'num_weeks_per_user']\n",
    "\n",
    "df_german = df_german[relevant_columns]\n",
    "df_math = df_math[relevant_columns]"
   ]
  },
  {
   "cell_type": "code",
   "execution_count": 76,
   "id": "773167c0-325d-47ee-bb73-27d09c691749",
   "metadata": {},
   "outputs": [],
   "source": [
    "# Building time and actions reference DFs\n",
    "# NOTE: They do not depend on the dataframe (i.e. we have all weeks and all actions represented in both)\n",
    "time_ref = build_time_ref(df_math)\n",
    "actions_ref = build_actions_ref(df_math)"
   ]
  },
  {
   "cell_type": "code",
   "execution_count": 83,
   "id": "282c5682-770e-4145-895a-017fbc21f294",
   "metadata": {},
   "outputs": [
    {
     "name": "stderr",
     "output_type": "stream",
     "text": [
      "100%|██████████████████████████████████████████████████████████████| 1374/1374 [04:04<00:00,  5.63it/s]\n",
      "100%|██████████████████████████████████████████████████████████████| 2124/2124 [22:36<00:00,  1.57it/s]\n"
     ]
    }
   ],
   "source": [
    "# Creating the time features\n",
    "time_series_german = to_time_series(df_math, time_ref, actions_ref)\n",
    "time_series_math = to_time_series(df_german, time_ref, actions_ref)"
   ]
  },
  {
   "cell_type": "code",
   "execution_count": 93,
   "id": "78de5d25-cf5d-4b1b-aff5-39138de0139a",
   "metadata": {},
   "outputs": [
    {
     "name": "stdout",
     "output_type": "stream",
     "text": [
      "##### GERMAN\n",
      "Number of user time series (unique users): 1,374 \n",
      "Number of time steps in one time series: 41\n",
      "Number of columns per time series: 14\n",
      "Columns: ['num_actions_per_week', 'elapsed_time', 'VIEW_QUESTION', 'SKIP', 'REVIEW_TASK', 'SUBMIT_ANSWER', 'NEXT', 'OPEN_FEEDBACK', 'CLOSE_FEEDBACK', 'CLOSE', 'GO_TO_THEORY', 'GO_TO_COMMENTS', 'GO_TO_BUG_REPORT', 'SHARE']\n",
      "\n",
      "##### MATH\n",
      "Number of user time series (unique users): 2,124 \n",
      "Number of time steps in one time series: 41\n",
      "Number of columns per time series: 14\n",
      "Columns: ['num_actions_per_week', 'elapsed_time', 'VIEW_QUESTION', 'SKIP', 'REVIEW_TASK', 'SUBMIT_ANSWER', 'NEXT', 'OPEN_FEEDBACK', 'CLOSE_FEEDBACK', 'CLOSE', 'GO_TO_THEORY', 'GO_TO_COMMENTS', 'GO_TO_BUG_REPORT', 'SHARE']\n"
     ]
    }
   ],
   "source": [
    "# Visualize results\n",
    "print(\"##### GERMAN\")\n",
    "print(f\"Number of user time series (unique users): {len(time_series_german):,} \")\n",
    "print(f\"Number of time steps in one time series: {time_series_german[0][1].shape[0]:,}\")\n",
    "print(f\"Number of columns per time series: {time_series_german[0][1].shape[1]:,}\")\n",
    "print(f\"Columns: {list(time_series_german[0][1].columns)}\")\n",
    "\n",
    "print(\"\\n##### MATH\")\n",
    "print(f\"Number of user time series (unique users): {len(time_series_math):,} \")\n",
    "print(f\"Number of time steps in one time series: {time_series_math[0][1].shape[0]:,}\")\n",
    "print(f\"Number of columns per time series: {time_series_math[0][1].shape[1]:,}\")\n",
    "print(f\"Columns: {list(time_series_math[0][1].columns)}\")"
   ]
  },
  {
   "cell_type": "markdown",
   "id": "8e32c751-e3b4-480b-b5fd-8311e29a2401",
   "metadata": {},
   "source": [
    "<span style='color:red'>**Note**</span>\n",
    "\n",
    "Let us note here that the german set contains 634'807 lines and the math set contains 155'618 lines. Therefore, we have approximately **4.5** times more events/transactions in the german set than in the math sets. <br>\n",
    "However, we see here that the number of unique users is 2'124 for math and 1'374 for german. Thus this time we have around **2** times more users in the math set than in the german set.<br>\n",
    "**We conclude that student studying German go more often on the platform than those studying Math, even if there are less of them.**"
   ]
  },
  {
   "cell_type": "code",
   "execution_count": 95,
   "id": "1c450a55-0f99-4d5f-9f3e-e75be662f2db",
   "metadata": {},
   "outputs": [
    {
     "name": "stdin",
     "output_type": "stream",
     "text": [
      "Are you sure that you want to save time_series_GERMAN.pickle in ../../data/processed/MATH_GERMAN_split/?\n",
      "[yes|no] yes\n",
      "Are you sure that you want to save time_series_MATH.pickle in ../../data/processed/MATH_GERMAN_split/?\n",
      "[yes|no] yes\n"
     ]
    }
   ],
   "source": [
    "# Creating folder if non existent\n",
    "folder = 'MATH_GERMAN_split/'\n",
    "path = DATA_DIR + 'processed/'+folder\n",
    "\n",
    "if folder.split('/')[0] not in os.listdir(DATA_DIR + 'processed/'):\n",
    "    os.mkdir(path)\n",
    "    \n",
    "# Saving data\n",
    "filename = 'time_series_GERMAN.pickle'\n",
    "_check = input(f'Are you sure that you want to save {filename} in {path}?\\n[yes|no]')\n",
    "if _check == \"yes\":\n",
    "    with open(path + filename, \"wb\") as f:\n",
    "        pickle.dump(time_series_german, f)\n",
    "        \n",
    "filename = 'time_series_MATH.pickle'\n",
    "_check = input(f'Are you sure that you want to save {filename} in {path}?\\n[yes|no]')\n",
    "if _check == \"yes\":\n",
    "    with open(path + filename, \"wb\") as f:\n",
    "        pickle.dump(time_series_math, f)"
   ]
  },
  {
   "cell_type": "code",
   "execution_count": 96,
   "id": "04369fda-117c-42a3-a58c-12d1e363733a",
   "metadata": {},
   "outputs": [],
   "source": [
    "# Freeing space\n",
    "del df_german\n",
    "del df_math\n",
    "del time_series_german\n",
    "del time_series_math"
   ]
  },
  {
   "cell_type": "markdown",
   "id": "9ccc4840-6ce3-4808-beb1-b06dd4da92f7",
   "metadata": {},
   "source": [
    "## Time Series Clustering\n",
    "\n",
    "We are using the [ts learn library](https://tslearn.readthedocs.io/en/stable/gen_modules/tslearn.clustering.html#module-tslearn.clustering) to cluster our time series datasets.<br>\n",
    "Namely, the library offers 3 types of clustering techniques:\n",
    "- `TimeSeriesKMeans`: an adaption of the KMeans algorithms to time series,\n",
    "- `KernelKMeans`: applies a kernel function to the data before performing KMeans,\n",
    "- ~~`KShape`: a clustering algorithm for time series developed by [Paparrizos et al.](http://www1.cs.columbia.edu/~jopa/Papers/PaparrizosSIGMOD2015.pdf)~~ *Due to time constraints*"
   ]
  },
  {
   "cell_type": "markdown",
   "id": "5ad42178-7d3f-49db-b3fc-c446011f9b8f",
   "metadata": {},
   "source": [
    "### Data Loading"
   ]
  },
  {
   "cell_type": "code",
   "execution_count": 155,
   "id": "b3fb17de-e208-49c2-9fa1-d7952d35c270",
   "metadata": {},
   "outputs": [],
   "source": [
    "# Loading up the time series\n",
    "folder = 'MATH_GERMAN_split/'\n",
    "path = DATA_DIR + 'processed/'+folder\n",
    "\n",
    "filename = 'time_series_GERMAN.pickle'\n",
    "with open(path + filename, \"rb\") as f:\n",
    "        time_series_german = pickle.load(f)\n",
    "        \n",
    "\n",
    "filename = 'time_series_MATH.pickle'\n",
    "with open(path + filename, \"rb\") as f:\n",
    "        time_series_math = pickle.load(f)"
   ]
  },
  {
   "cell_type": "code",
   "execution_count": 156,
   "id": "0c6cd894-525a-4855-9104-0eafbc225797",
   "metadata": {},
   "outputs": [
    {
     "name": "stdout",
     "output_type": "stream",
     "text": [
      "user_id:\n"
     ]
    },
    {
     "data": {
      "text/plain": [
       "387604.0"
      ]
     },
     "metadata": {},
     "output_type": "display_data"
    },
    {
     "name": "stdout",
     "output_type": "stream",
     "text": [
      "time series data:\n"
     ]
    },
    {
     "data": {
      "text/html": [
       "<div>\n",
       "<style scoped>\n",
       "    .dataframe tbody tr th:only-of-type {\n",
       "        vertical-align: middle;\n",
       "    }\n",
       "\n",
       "    .dataframe tbody tr th {\n",
       "        vertical-align: top;\n",
       "    }\n",
       "\n",
       "    .dataframe thead th {\n",
       "        text-align: right;\n",
       "    }\n",
       "</style>\n",
       "<table border=\"1\" class=\"dataframe\">\n",
       "  <thead>\n",
       "    <tr style=\"text-align: right;\">\n",
       "      <th></th>\n",
       "      <th>num_actions_per_week</th>\n",
       "      <th>elapsed_time</th>\n",
       "      <th>VIEW_QUESTION</th>\n",
       "      <th>SKIP</th>\n",
       "      <th>REVIEW_TASK</th>\n",
       "      <th>SUBMIT_ANSWER</th>\n",
       "      <th>NEXT</th>\n",
       "      <th>OPEN_FEEDBACK</th>\n",
       "      <th>CLOSE_FEEDBACK</th>\n",
       "      <th>CLOSE</th>\n",
       "      <th>GO_TO_THEORY</th>\n",
       "      <th>GO_TO_COMMENTS</th>\n",
       "      <th>GO_TO_BUG_REPORT</th>\n",
       "      <th>SHARE</th>\n",
       "    </tr>\n",
       "    <tr>\n",
       "      <th>week</th>\n",
       "      <th></th>\n",
       "      <th></th>\n",
       "      <th></th>\n",
       "      <th></th>\n",
       "      <th></th>\n",
       "      <th></th>\n",
       "      <th></th>\n",
       "      <th></th>\n",
       "      <th></th>\n",
       "      <th></th>\n",
       "      <th></th>\n",
       "      <th></th>\n",
       "      <th></th>\n",
       "      <th></th>\n",
       "    </tr>\n",
       "  </thead>\n",
       "  <tbody>\n",
       "    <tr>\n",
       "      <th>0</th>\n",
       "      <td>0.0</td>\n",
       "      <td>0.0</td>\n",
       "      <td>0.0</td>\n",
       "      <td>0.0</td>\n",
       "      <td>0.0</td>\n",
       "      <td>0.0</td>\n",
       "      <td>0.0</td>\n",
       "      <td>0.0</td>\n",
       "      <td>0.0</td>\n",
       "      <td>0.0</td>\n",
       "      <td>0.0</td>\n",
       "      <td>0.0</td>\n",
       "      <td>0.0</td>\n",
       "      <td>0.0</td>\n",
       "    </tr>\n",
       "    <tr>\n",
       "      <th>1</th>\n",
       "      <td>0.0</td>\n",
       "      <td>0.0</td>\n",
       "      <td>0.0</td>\n",
       "      <td>0.0</td>\n",
       "      <td>0.0</td>\n",
       "      <td>0.0</td>\n",
       "      <td>0.0</td>\n",
       "      <td>0.0</td>\n",
       "      <td>0.0</td>\n",
       "      <td>0.0</td>\n",
       "      <td>0.0</td>\n",
       "      <td>0.0</td>\n",
       "      <td>0.0</td>\n",
       "      <td>0.0</td>\n",
       "    </tr>\n",
       "    <tr>\n",
       "      <th>2</th>\n",
       "      <td>0.0</td>\n",
       "      <td>0.0</td>\n",
       "      <td>0.0</td>\n",
       "      <td>0.0</td>\n",
       "      <td>0.0</td>\n",
       "      <td>0.0</td>\n",
       "      <td>0.0</td>\n",
       "      <td>0.0</td>\n",
       "      <td>0.0</td>\n",
       "      <td>0.0</td>\n",
       "      <td>0.0</td>\n",
       "      <td>0.0</td>\n",
       "      <td>0.0</td>\n",
       "      <td>0.0</td>\n",
       "    </tr>\n",
       "  </tbody>\n",
       "</table>\n",
       "</div>"
      ],
      "text/plain": [
       "      num_actions_per_week  elapsed_time  VIEW_QUESTION  SKIP  REVIEW_TASK  \\\n",
       "week                                                                         \n",
       "0                      0.0           0.0            0.0   0.0          0.0   \n",
       "1                      0.0           0.0            0.0   0.0          0.0   \n",
       "2                      0.0           0.0            0.0   0.0          0.0   \n",
       "\n",
       "      SUBMIT_ANSWER  NEXT  OPEN_FEEDBACK  CLOSE_FEEDBACK  CLOSE  GO_TO_THEORY  \\\n",
       "week                                                                            \n",
       "0               0.0   0.0            0.0             0.0    0.0           0.0   \n",
       "1               0.0   0.0            0.0             0.0    0.0           0.0   \n",
       "2               0.0   0.0            0.0             0.0    0.0           0.0   \n",
       "\n",
       "      GO_TO_COMMENTS  GO_TO_BUG_REPORT  SHARE  \n",
       "week                                           \n",
       "0                0.0               0.0    0.0  \n",
       "1                0.0               0.0    0.0  \n",
       "2                0.0               0.0    0.0  "
      ]
     },
     "execution_count": 156,
     "metadata": {},
     "output_type": "execute_result"
    }
   ],
   "source": [
    "# Accessing the first user's data\n",
    "print(\"user_id:\")\n",
    "display(time_series_german[0][0])\n",
    "print(\"time series data:\")\n",
    "time_series_german[0][1].head(3)"
   ]
  },
  {
   "cell_type": "markdown",
   "id": "3c01fe75-5960-4441-990f-fceaa36e60f7",
   "metadata": {},
   "source": [
    "### Utils"
   ]
  },
  {
   "cell_type": "code",
   "execution_count": 181,
   "id": "d858d7c8-6736-4894-ad9e-3062e7d7c884",
   "metadata": {},
   "outputs": [],
   "source": [
    "def gridsearch_clustering(model_class, params, data, scoring_func=ts_silhouette_score):\n",
    "    \"\"\"\n",
    "    Performs a gridsearch for the clustering technique with the input dict of params.\n",
    "    \"\"\"\n",
    "    # Creating all combinations of parameters\n",
    "    combinations = list(product(*list(params.values())))\n",
    "    \n",
    "    print(f\"Performing {len(combinations)} iterations in total.\")\n",
    "    \n",
    "    results = []\n",
    "    \n",
    "    for c in tqdm(combinations):\n",
    "        # linking values to param name\n",
    "        _params = dict(zip(params.keys(), c))\n",
    "        print(f\"Running {_params}\")\n",
    "        \n",
    "        # Clustering\n",
    "        model = model_class(**_params)\n",
    "        labels = model.fit_predict(data)\n",
    "        \n",
    "        if 'metric' in params.keys(): metric = _params['metric']\n",
    "        else: metric=None\n",
    "        \n",
    "        score = ts_silhouette_score(data, labels, metric=metric)\n",
    "        print(f\"Score: {score}\")\n",
    "        \n",
    "        results.append((_params, score))\n",
    "        \n",
    "    return results"
   ]
  },
  {
   "cell_type": "code",
   "execution_count": 296,
   "id": "74213f98-6386-44b1-a623-565ce5ae4ab4",
   "metadata": {},
   "outputs": [],
   "source": [
    "def _create_labels(params, hue):\n",
    "    \"\"\"\n",
    "    Creates the set of labels for the input param values.\n",
    "    \"\"\"\n",
    "    params = params.copy()\n",
    "    params.pop(hue)\n",
    "    labels = [str(params[k]) + '\\n' for k in params.keys()]\n",
    "    labels = \"\".join(labels)\n",
    "    return labels\n",
    "\n",
    "def plot_results(results, hue='metric'):\n",
    "    \"\"\"\n",
    "    Expects a dict with various params and a score result.\n",
    "    \"\"\"\n",
    "    hue_values = np.unique([p[hue] for p, _ in results])\n",
    "    assert(len(hue_values)>=2), \"The indicated hue parameter features less than 2 values!\"\n",
    "    \n",
    "    # Separate set based on hue\n",
    "    sets = [\n",
    "        [(p, s) for (p, s) in results if p[hue]==h] for h in hue_values\n",
    "    ]\n",
    "\n",
    "    # Get y and x\n",
    "    ys = [\n",
    "        [s for _,s in _set] for _set in sets\n",
    "    ]\n",
    "    xs = [\n",
    "        [p for p,_ in _set] for _set in sets\n",
    "    ]\n",
    "    xlabels = [\n",
    "        [_create_labels(p, hue) for p in x_set] for x_set in xs\n",
    "    ]\n",
    "    \n",
    "    assert(all([a==b for a,b in zip(xlabels[0], xlabels[1])])), \"There are different configurations for both hue params.\"\n",
    "\n",
    "    _adjust = \"\\n\" * len(xs[0][0].keys())\n",
    "    xlabels = [_adjust+l if i%2==1 else l for i, l in enumerate(xlabels[0])]\n",
    "    \n",
    "    plt.figure(figsize=(15,5))\n",
    "    lines = [plt.plot(_y)[0] for _y in ys]\n",
    "    plt.grid()\n",
    "    plt.legend(lines, hue_values)\n",
    "    plt.xticks(ticks=list(range(len(ys[0]))), labels=xlabels)\n",
    "    plt.show()"
   ]
  },
  {
   "cell_type": "markdown",
   "id": "c94da117-a4fb-4301-a82b-f2d0a324e0d0",
   "metadata": {},
   "source": [
    "### Clustering"
   ]
  },
  {
   "cell_type": "code",
   "execution_count": 173,
   "id": "5ae56e32-b5be-4361-bd14-0c8c16eb2fad",
   "metadata": {},
   "outputs": [],
   "source": [
    "# Converting both to time series\n",
    "time_series_dataset_german = [df.values for _, df in time_series_german]\n",
    "time_series_dataset_german = to_time_series_dataset(time_series_dataset_german)\n",
    "\n",
    "time_series_dataset_math = [df.values for _, df in time_series_math]\n",
    "time_series_dataset_math = to_time_series_dataset(time_series_dataset_math)"
   ]
  },
  {
   "cell_type": "markdown",
   "id": "6e816a2a-69df-4ed3-a257-58113765f67d",
   "metadata": {},
   "source": [
    "#### TimeSeriesKMeans\n",
    "\n",
    "Model parameters to grid-search:\n",
    "- `n_clusters`: number of clusters,\n",
    "- `max_iter`: maximum number of iterations,\n",
    "- `tol`: tolerance criterion for the difference in inertia between 2 iterations,\n",
    "- `metric`: similarity metric to use,\n",
    "- `dtw_inertia`: wether to user DTW inertia (even if DTW is not the selected metric)"
   ]
  },
  {
   "cell_type": "code",
   "execution_count": 251,
   "id": "ea890fcc-6080-4409-912e-2b922c8a6dbf",
   "metadata": {},
   "outputs": [
    {
     "name": "stdin",
     "output_type": "stream",
     "text": [
      "!!! We paused you here in case you are reexecuting the whole notebook. Are you certain that you want to run the next cell again?\n",
      "(Your answer does not matter. Please stop the execution now if you do not want the next cell to run.) okok\n"
     ]
    }
   ],
   "source": [
    "# Safekeep \n",
    "_check = input(\"!!! We paused you here in case you are reexecuting the whole notebook. Are you certain that you want to run the next cell again?\\n(Your answer does not matter. Please stop the execution now if you do not want the next cell to run.)\")"
   ]
  },
  {
   "cell_type": "code",
   "execution_count": 183,
   "id": "8eb0dbe4-c6f9-4a2d-bf64-06c532497a8b",
   "metadata": {
    "collapsed": true,
    "jupyter": {
     "outputs_hidden": true
    },
    "tags": []
   },
   "outputs": [
    {
     "name": "stdout",
     "output_type": "stream",
     "text": [
      "Runnning German...\n",
      "Performing 120 iterations in total.\n"
     ]
    },
    {
     "name": "stderr",
     "output_type": "stream",
     "text": [
      "  0%|                                                                          | 0/120 [00:00<?, ?it/s]"
     ]
    },
    {
     "name": "stdout",
     "output_type": "stream",
     "text": [
      "Running {'n_clusters': 2, 'max_iter': 50, 'tol': 1e-05, 'metric': 'euclidean', 'dtw_inertia': True}\n"
     ]
    },
    {
     "name": "stderr",
     "output_type": "stream",
     "text": [
      "  1%|▌                                                                 | 1/120 [00:02<04:09,  2.10s/it]"
     ]
    },
    {
     "name": "stdout",
     "output_type": "stream",
     "text": [
      "Score: 0.986604170775415\n",
      "Running {'n_clusters': 2, 'max_iter': 50, 'tol': 1e-05, 'metric': 'euclidean', 'dtw_inertia': False}\n"
     ]
    },
    {
     "name": "stderr",
     "output_type": "stream",
     "text": [
      "  2%|█                                                                 | 2/120 [00:03<02:53,  1.47s/it]"
     ]
    },
    {
     "name": "stdout",
     "output_type": "stream",
     "text": [
      "Score: 0.986604170775415\n",
      "Running {'n_clusters': 2, 'max_iter': 50, 'tol': 1e-05, 'metric': 'dtw', 'dtw_inertia': True}\n"
     ]
    },
    {
     "name": "stderr",
     "output_type": "stream",
     "text": [
      "  2%|█▌                                                              | 3/120 [03:27<3:03:55, 94.32s/it]"
     ]
    },
    {
     "name": "stdout",
     "output_type": "stream",
     "text": [
      "Score: 0.9798210393910655\n",
      "Running {'n_clusters': 2, 'max_iter': 50, 'tol': 1e-05, 'metric': 'dtw', 'dtw_inertia': False}\n"
     ]
    },
    {
     "name": "stderr",
     "output_type": "stream",
     "text": [
      "  3%|██                                                             | 4/120 [07:03<4:34:50, 142.16s/it]"
     ]
    },
    {
     "name": "stdout",
     "output_type": "stream",
     "text": [
      "Score: 0.9798210393910655\n",
      "Running {'n_clusters': 2, 'max_iter': 50, 'tol': 1e-06, 'metric': 'euclidean', 'dtw_inertia': True}\n"
     ]
    },
    {
     "name": "stderr",
     "output_type": "stream",
     "text": [
      "  4%|██▋                                                             | 5/120 [07:06<2:56:06, 91.88s/it]"
     ]
    },
    {
     "name": "stdout",
     "output_type": "stream",
     "text": [
      "Score: 0.9741145494058404\n",
      "Running {'n_clusters': 2, 'max_iter': 50, 'tol': 1e-06, 'metric': 'euclidean', 'dtw_inertia': False}\n"
     ]
    },
    {
     "name": "stderr",
     "output_type": "stream",
     "text": [
      "  5%|███▏                                                            | 6/120 [07:07<1:55:58, 61.04s/it]"
     ]
    },
    {
     "name": "stdout",
     "output_type": "stream",
     "text": [
      "Score: 0.9839782223085299\n",
      "Running {'n_clusters': 2, 'max_iter': 50, 'tol': 1e-06, 'metric': 'dtw', 'dtw_inertia': True}\n"
     ]
    },
    {
     "name": "stderr",
     "output_type": "stream",
     "text": [
      "  6%|███▋                                                           | 7/120 [10:49<3:34:11, 113.73s/it]"
     ]
    },
    {
     "name": "stdout",
     "output_type": "stream",
     "text": [
      "Score: 0.9798210393910655\n",
      "Running {'n_clusters': 2, 'max_iter': 50, 'tol': 1e-06, 'metric': 'dtw', 'dtw_inertia': False}\n"
     ]
    },
    {
     "name": "stderr",
     "output_type": "stream",
     "text": [
      "  7%|████▏                                                          | 8/120 [14:29<4:35:17, 147.48s/it]"
     ]
    },
    {
     "name": "stdout",
     "output_type": "stream",
     "text": [
      "Score: 0.9798210393910655\n",
      "Running {'n_clusters': 2, 'max_iter': 50, 'tol': 1e-07, 'metric': 'euclidean', 'dtw_inertia': True}\n"
     ]
    },
    {
     "name": "stderr",
     "output_type": "stream",
     "text": [
      "  8%|████▋                                                          | 9/120 [14:31<3:08:49, 102.07s/it]"
     ]
    },
    {
     "name": "stdout",
     "output_type": "stream",
     "text": [
      "Score: 0.9839782223085299\n",
      "Running {'n_clusters': 2, 'max_iter': 50, 'tol': 1e-07, 'metric': 'euclidean', 'dtw_inertia': False}\n"
     ]
    },
    {
     "name": "stderr",
     "output_type": "stream",
     "text": [
      "  8%|█████▎                                                         | 10/120 [14:32<2:09:53, 70.85s/it]"
     ]
    },
    {
     "name": "stdout",
     "output_type": "stream",
     "text": [
      "Score: 0.9839782223085299\n",
      "Running {'n_clusters': 2, 'max_iter': 50, 'tol': 1e-07, 'metric': 'dtw', 'dtw_inertia': True}\n"
     ]
    },
    {
     "name": "stderr",
     "output_type": "stream",
     "text": [
      "  9%|█████▋                                                        | 11/120 [18:12<3:31:54, 116.64s/it]"
     ]
    },
    {
     "name": "stdout",
     "output_type": "stream",
     "text": [
      "Score: 0.9798210393910655\n",
      "Running {'n_clusters': 2, 'max_iter': 50, 'tol': 1e-07, 'metric': 'dtw', 'dtw_inertia': False}\n"
     ]
    },
    {
     "name": "stderr",
     "output_type": "stream",
     "text": [
      " 10%|██████▏                                                       | 12/120 [21:49<4:24:51, 147.14s/it]"
     ]
    },
    {
     "name": "stdout",
     "output_type": "stream",
     "text": [
      "Score: 0.9798210393910655\n",
      "Running {'n_clusters': 2, 'max_iter': 100, 'tol': 1e-05, 'metric': 'euclidean', 'dtw_inertia': True}\n"
     ]
    },
    {
     "name": "stderr",
     "output_type": "stream",
     "text": [
      " 11%|██████▋                                                       | 13/120 [21:52<3:04:05, 103.23s/it]"
     ]
    },
    {
     "name": "stdout",
     "output_type": "stream",
     "text": [
      "Score: 0.986604170775415\n",
      "Running {'n_clusters': 2, 'max_iter': 100, 'tol': 1e-05, 'metric': 'euclidean', 'dtw_inertia': False}\n"
     ]
    },
    {
     "name": "stderr",
     "output_type": "stream",
     "text": [
      " 12%|███████▎                                                       | 14/120 [21:52<2:07:47, 72.34s/it]"
     ]
    },
    {
     "name": "stdout",
     "output_type": "stream",
     "text": [
      "Score: 0.9699873824029075\n",
      "Running {'n_clusters': 2, 'max_iter': 100, 'tol': 1e-05, 'metric': 'dtw', 'dtw_inertia': True}\n"
     ]
    },
    {
     "name": "stderr",
     "output_type": "stream",
     "text": [
      " 12%|███████▊                                                      | 15/120 [25:40<3:28:42, 119.26s/it]"
     ]
    },
    {
     "name": "stdout",
     "output_type": "stream",
     "text": [
      "Score: 0.9798210393910655\n",
      "Running {'n_clusters': 2, 'max_iter': 100, 'tol': 1e-05, 'metric': 'dtw', 'dtw_inertia': False}\n"
     ]
    },
    {
     "name": "stderr",
     "output_type": "stream",
     "text": [
      " 13%|████████▎                                                     | 16/120 [29:41<4:30:11, 155.88s/it]"
     ]
    },
    {
     "name": "stdout",
     "output_type": "stream",
     "text": [
      "Score: 0.9798210393910655\n",
      "Running {'n_clusters': 2, 'max_iter': 100, 'tol': 1e-06, 'metric': 'euclidean', 'dtw_inertia': True}\n"
     ]
    },
    {
     "name": "stderr",
     "output_type": "stream",
     "text": [
      " 14%|████████▊                                                     | 17/120 [29:44<3:08:30, 109.81s/it]"
     ]
    },
    {
     "name": "stdout",
     "output_type": "stream",
     "text": [
      "Score: 0.9839782223085299\n",
      "Running {'n_clusters': 2, 'max_iter': 100, 'tol': 1e-06, 'metric': 'euclidean', 'dtw_inertia': False}\n"
     ]
    },
    {
     "name": "stderr",
     "output_type": "stream",
     "text": [
      " 15%|█████████▍                                                     | 18/120 [29:45<2:11:09, 77.15s/it]"
     ]
    },
    {
     "name": "stdout",
     "output_type": "stream",
     "text": [
      "Score: 0.986604170775415\n",
      "Running {'n_clusters': 2, 'max_iter': 100, 'tol': 1e-06, 'metric': 'dtw', 'dtw_inertia': True}\n"
     ]
    },
    {
     "name": "stderr",
     "output_type": "stream",
     "text": [
      " 16%|█████████▊                                                    | 19/120 [33:26<3:22:34, 120.34s/it]"
     ]
    },
    {
     "name": "stdout",
     "output_type": "stream",
     "text": [
      "Score: 0.9798210393910655\n",
      "Running {'n_clusters': 2, 'max_iter': 100, 'tol': 1e-06, 'metric': 'dtw', 'dtw_inertia': False}\n"
     ]
    },
    {
     "name": "stderr",
     "output_type": "stream",
     "text": [
      " 17%|██████████▎                                                   | 20/120 [37:16<4:15:23, 153.24s/it]"
     ]
    },
    {
     "name": "stdout",
     "output_type": "stream",
     "text": [
      "Score: 0.9798210393910655\n",
      "Running {'n_clusters': 2, 'max_iter': 100, 'tol': 1e-07, 'metric': 'euclidean', 'dtw_inertia': True}\n"
     ]
    },
    {
     "name": "stderr",
     "output_type": "stream",
     "text": [
      " 18%|██████████▊                                                   | 21/120 [37:19<2:58:15, 108.04s/it]"
     ]
    },
    {
     "name": "stdout",
     "output_type": "stream",
     "text": [
      "Score: 0.986604170775415\n",
      "Running {'n_clusters': 2, 'max_iter': 100, 'tol': 1e-07, 'metric': 'euclidean', 'dtw_inertia': False}\n"
     ]
    },
    {
     "name": "stderr",
     "output_type": "stream",
     "text": [
      " 18%|███████████▌                                                   | 22/120 [37:20<2:04:04, 75.97s/it]"
     ]
    },
    {
     "name": "stdout",
     "output_type": "stream",
     "text": [
      "Score: 0.986604170775415\n",
      "Running {'n_clusters': 2, 'max_iter': 100, 'tol': 1e-07, 'metric': 'dtw', 'dtw_inertia': True}\n"
     ]
    },
    {
     "name": "stderr",
     "output_type": "stream",
     "text": [
      " 19%|███████████▉                                                  | 23/120 [41:13<3:19:05, 123.15s/it]"
     ]
    },
    {
     "name": "stdout",
     "output_type": "stream",
     "text": [
      "Score: 0.9798210393910655\n",
      "Running {'n_clusters': 2, 'max_iter': 100, 'tol': 1e-07, 'metric': 'dtw', 'dtw_inertia': False}\n"
     ]
    },
    {
     "name": "stderr",
     "output_type": "stream",
     "text": [
      " 20%|████████████▍                                                 | 24/120 [45:12<4:12:37, 157.89s/it]"
     ]
    },
    {
     "name": "stdout",
     "output_type": "stream",
     "text": [
      "Score: 0.9798210393910655\n",
      "Running {'n_clusters': 3, 'max_iter': 50, 'tol': 1e-05, 'metric': 'euclidean', 'dtw_inertia': True}\n"
     ]
    },
    {
     "name": "stderr",
     "output_type": "stream",
     "text": [
      " 21%|████████████▉                                                 | 25/120 [45:15<2:56:30, 111.48s/it]"
     ]
    },
    {
     "name": "stdout",
     "output_type": "stream",
     "text": [
      "Score: 0.984679810900968\n",
      "Running {'n_clusters': 3, 'max_iter': 50, 'tol': 1e-05, 'metric': 'euclidean', 'dtw_inertia': False}\n"
     ]
    },
    {
     "name": "stderr",
     "output_type": "stream",
     "text": [
      " 22%|█████████████▋                                                 | 26/120 [45:16<2:02:49, 78.40s/it]"
     ]
    },
    {
     "name": "stdout",
     "output_type": "stream",
     "text": [
      "Score: 0.984679810900968\n",
      "Running {'n_clusters': 3, 'max_iter': 50, 'tol': 1e-05, 'metric': 'dtw', 'dtw_inertia': True}\n"
     ]
    },
    {
     "name": "stderr",
     "output_type": "stream",
     "text": [
      " 22%|█████████████▉                                                | 27/120 [48:42<3:00:47, 116.64s/it]"
     ]
    },
    {
     "name": "stdout",
     "output_type": "stream",
     "text": [
      "Score: 0.9769147928780316\n",
      "Running {'n_clusters': 3, 'max_iter': 50, 'tol': 1e-05, 'metric': 'dtw', 'dtw_inertia': False}\n"
     ]
    },
    {
     "name": "stderr",
     "output_type": "stream",
     "text": [
      " 23%|██████████████▍                                               | 28/120 [52:08<3:39:55, 143.43s/it]"
     ]
    },
    {
     "name": "stdout",
     "output_type": "stream",
     "text": [
      "Score: 0.9769147928780316\n",
      "Running {'n_clusters': 3, 'max_iter': 50, 'tol': 1e-06, 'metric': 'euclidean', 'dtw_inertia': True}\n"
     ]
    },
    {
     "name": "stderr",
     "output_type": "stream",
     "text": [
      " 24%|██████████████▉                                               | 29/120 [52:11<2:33:30, 101.22s/it]"
     ]
    },
    {
     "name": "stdout",
     "output_type": "stream",
     "text": [
      "Score: 0.984679810900968\n",
      "Running {'n_clusters': 3, 'max_iter': 50, 'tol': 1e-06, 'metric': 'euclidean', 'dtw_inertia': False}\n"
     ]
    },
    {
     "name": "stderr",
     "output_type": "stream",
     "text": [
      " 25%|███████████████▊                                               | 30/120 [52:12<1:46:43, 71.14s/it]"
     ]
    },
    {
     "name": "stdout",
     "output_type": "stream",
     "text": [
      "Score: 0.984679810900968\n",
      "Running {'n_clusters': 3, 'max_iter': 50, 'tol': 1e-06, 'metric': 'dtw', 'dtw_inertia': True}\n"
     ]
    },
    {
     "name": "stderr",
     "output_type": "stream",
     "text": [
      " 26%|████████████████                                              | 31/120 [55:34<2:44:00, 110.56s/it]"
     ]
    },
    {
     "name": "stdout",
     "output_type": "stream",
     "text": [
      "Score: 0.9769147928780316\n",
      "Running {'n_clusters': 3, 'max_iter': 50, 'tol': 1e-06, 'metric': 'dtw', 'dtw_inertia': False}\n"
     ]
    },
    {
     "name": "stderr",
     "output_type": "stream",
     "text": [
      " 27%|████████████████▌                                             | 32/120 [58:59<3:23:31, 138.77s/it]"
     ]
    },
    {
     "name": "stdout",
     "output_type": "stream",
     "text": [
      "Score: 0.9769147928780316\n",
      "Running {'n_clusters': 3, 'max_iter': 50, 'tol': 1e-07, 'metric': 'euclidean', 'dtw_inertia': True}\n"
     ]
    },
    {
     "name": "stderr",
     "output_type": "stream",
     "text": [
      " 28%|█████████████████▎                                             | 33/120 [59:02<2:22:06, 98.00s/it]"
     ]
    },
    {
     "name": "stdout",
     "output_type": "stream",
     "text": [
      "Score: 0.984679810900968\n",
      "Running {'n_clusters': 3, 'max_iter': 50, 'tol': 1e-07, 'metric': 'euclidean', 'dtw_inertia': False}\n"
     ]
    },
    {
     "name": "stderr",
     "output_type": "stream",
     "text": [
      " 28%|█████████████████▊                                             | 34/120 [59:03<1:38:45, 68.90s/it]"
     ]
    },
    {
     "name": "stdout",
     "output_type": "stream",
     "text": [
      "Score: 0.9754864216287028\n",
      "Running {'n_clusters': 3, 'max_iter': 50, 'tol': 1e-07, 'metric': 'dtw', 'dtw_inertia': True}\n"
     ]
    },
    {
     "name": "stderr",
     "output_type": "stream",
     "text": [
      " 29%|█████████████████▌                                          | 35/120 [1:02:24<2:33:54, 108.64s/it]"
     ]
    },
    {
     "name": "stdout",
     "output_type": "stream",
     "text": [
      "Score: 0.9769147928780316\n",
      "Running {'n_clusters': 3, 'max_iter': 50, 'tol': 1e-07, 'metric': 'dtw', 'dtw_inertia': False}\n"
     ]
    },
    {
     "name": "stderr",
     "output_type": "stream",
     "text": [
      " 30%|██████████████████                                          | 36/120 [1:05:53<3:13:58, 138.55s/it]"
     ]
    },
    {
     "name": "stdout",
     "output_type": "stream",
     "text": [
      "Score: 0.9769147928780316\n",
      "Running {'n_clusters': 3, 'max_iter': 100, 'tol': 1e-05, 'metric': 'euclidean', 'dtw_inertia': True}\n"
     ]
    },
    {
     "name": "stderr",
     "output_type": "stream",
     "text": [
      " 31%|██████████████████▊                                          | 37/120 [1:05:55<2:15:19, 97.82s/it]"
     ]
    },
    {
     "name": "stdout",
     "output_type": "stream",
     "text": [
      "Score: 0.9716379092949875\n",
      "Running {'n_clusters': 3, 'max_iter': 100, 'tol': 1e-05, 'metric': 'euclidean', 'dtw_inertia': False}\n"
     ]
    },
    {
     "name": "stderr",
     "output_type": "stream",
     "text": [
      " 32%|███████████████████▎                                         | 38/120 [1:05:56<1:33:59, 68.77s/it]"
     ]
    },
    {
     "name": "stdout",
     "output_type": "stream",
     "text": [
      "Score: 0.984679810900968\n",
      "Running {'n_clusters': 3, 'max_iter': 100, 'tol': 1e-05, 'metric': 'dtw', 'dtw_inertia': True}\n"
     ]
    },
    {
     "name": "stderr",
     "output_type": "stream",
     "text": [
      " 32%|███████████████████▌                                        | 39/120 [1:09:25<2:29:30, 110.75s/it]"
     ]
    },
    {
     "name": "stdout",
     "output_type": "stream",
     "text": [
      "Score: 0.9769147928780316\n",
      "Running {'n_clusters': 3, 'max_iter': 100, 'tol': 1e-05, 'metric': 'dtw', 'dtw_inertia': False}\n"
     ]
    },
    {
     "name": "stderr",
     "output_type": "stream",
     "text": [
      " 33%|████████████████████                                        | 40/120 [1:12:55<3:07:15, 140.44s/it]"
     ]
    },
    {
     "name": "stdout",
     "output_type": "stream",
     "text": [
      "Score: 0.9769147928780316\n",
      "Running {'n_clusters': 3, 'max_iter': 100, 'tol': 1e-06, 'metric': 'euclidean', 'dtw_inertia': True}\n"
     ]
    },
    {
     "name": "stderr",
     "output_type": "stream",
     "text": [
      " 34%|████████████████████▊                                        | 41/120 [1:12:58<2:10:31, 99.13s/it]"
     ]
    },
    {
     "name": "stdout",
     "output_type": "stream",
     "text": [
      "Score: 0.984679810900968\n",
      "Running {'n_clusters': 3, 'max_iter': 100, 'tol': 1e-06, 'metric': 'euclidean', 'dtw_inertia': False}\n"
     ]
    },
    {
     "name": "stderr",
     "output_type": "stream",
     "text": [
      " 35%|█████████████████████▎                                       | 42/120 [1:12:59<1:30:35, 69.68s/it]"
     ]
    },
    {
     "name": "stdout",
     "output_type": "stream",
     "text": [
      "Score: 0.984679810900968\n",
      "Running {'n_clusters': 3, 'max_iter': 100, 'tol': 1e-06, 'metric': 'dtw', 'dtw_inertia': True}\n"
     ]
    },
    {
     "name": "stderr",
     "output_type": "stream",
     "text": [
      " 36%|█████████████████████▌                                      | 43/120 [1:16:27<2:22:57, 111.39s/it]"
     ]
    },
    {
     "name": "stdout",
     "output_type": "stream",
     "text": [
      "Score: 0.9769147928780316\n",
      "Running {'n_clusters': 3, 'max_iter': 100, 'tol': 1e-06, 'metric': 'dtw', 'dtw_inertia': False}\n"
     ]
    },
    {
     "name": "stderr",
     "output_type": "stream",
     "text": [
      " 37%|██████████████████████                                      | 44/120 [1:20:04<3:01:14, 143.09s/it]"
     ]
    },
    {
     "name": "stdout",
     "output_type": "stream",
     "text": [
      "Score: 0.9769147928780316\n",
      "Running {'n_clusters': 3, 'max_iter': 100, 'tol': 1e-07, 'metric': 'euclidean', 'dtw_inertia': True}\n"
     ]
    },
    {
     "name": "stderr",
     "output_type": "stream",
     "text": [
      " 38%|██████████████████████▌                                     | 45/120 [1:20:07<2:06:13, 100.98s/it]"
     ]
    },
    {
     "name": "stdout",
     "output_type": "stream",
     "text": [
      "Score: 0.984679810900968\n",
      "Running {'n_clusters': 3, 'max_iter': 100, 'tol': 1e-07, 'metric': 'euclidean', 'dtw_inertia': False}\n"
     ]
    },
    {
     "name": "stderr",
     "output_type": "stream",
     "text": [
      " 38%|███████████████████████▍                                     | 46/120 [1:20:08<1:27:32, 70.98s/it]"
     ]
    },
    {
     "name": "stdout",
     "output_type": "stream",
     "text": [
      "Score: 0.984679810900968\n",
      "Running {'n_clusters': 3, 'max_iter': 100, 'tol': 1e-07, 'metric': 'dtw', 'dtw_inertia': True}\n"
     ]
    },
    {
     "name": "stderr",
     "output_type": "stream",
     "text": [
      " 39%|███████████████████████▌                                    | 47/120 [1:23:36<2:16:19, 112.05s/it]"
     ]
    },
    {
     "name": "stdout",
     "output_type": "stream",
     "text": [
      "Score: 0.9769147928780316\n",
      "Running {'n_clusters': 3, 'max_iter': 100, 'tol': 1e-07, 'metric': 'dtw', 'dtw_inertia': False}\n"
     ]
    },
    {
     "name": "stderr",
     "output_type": "stream",
     "text": [
      " 40%|████████████████████████                                    | 48/120 [1:27:27<2:57:22, 147.82s/it]"
     ]
    },
    {
     "name": "stdout",
     "output_type": "stream",
     "text": [
      "Score: 0.9769147928780316\n",
      "Running {'n_clusters': 4, 'max_iter': 50, 'tol': 1e-05, 'metric': 'euclidean', 'dtw_inertia': True}\n"
     ]
    },
    {
     "name": "stderr",
     "output_type": "stream",
     "text": [
      " 41%|████████████████████████▌                                   | 49/120 [1:27:31<2:03:44, 104.57s/it]"
     ]
    },
    {
     "name": "stdout",
     "output_type": "stream",
     "text": [
      "Score: 0.9160249661231581\n",
      "Running {'n_clusters': 4, 'max_iter': 50, 'tol': 1e-05, 'metric': 'euclidean', 'dtw_inertia': False}\n"
     ]
    },
    {
     "name": "stderr",
     "output_type": "stream",
     "text": [
      " 42%|█████████████████████████▍                                   | 50/120 [1:27:32<1:25:50, 73.58s/it]"
     ]
    },
    {
     "name": "stdout",
     "output_type": "stream",
     "text": [
      "Score: 0.9744934182148004\n",
      "Running {'n_clusters': 4, 'max_iter': 50, 'tol': 1e-05, 'metric': 'dtw', 'dtw_inertia': True}\n"
     ]
    },
    {
     "name": "stderr",
     "output_type": "stream",
     "text": [
      " 42%|█████████████████████████▌                                  | 51/120 [1:31:33<2:22:29, 123.91s/it]"
     ]
    },
    {
     "name": "stdout",
     "output_type": "stream",
     "text": [
      "Score: 0.9683455158209756\n",
      "Running {'n_clusters': 4, 'max_iter': 50, 'tol': 1e-05, 'metric': 'dtw', 'dtw_inertia': False}\n"
     ]
    },
    {
     "name": "stderr",
     "output_type": "stream",
     "text": [
      " 43%|██████████████████████████                                  | 52/120 [1:35:31<2:58:58, 157.92s/it]"
     ]
    },
    {
     "name": "stdout",
     "output_type": "stream",
     "text": [
      "Score: 0.9683455158209756\n",
      "Running {'n_clusters': 4, 'max_iter': 50, 'tol': 1e-06, 'metric': 'euclidean', 'dtw_inertia': True}\n"
     ]
    },
    {
     "name": "stderr",
     "output_type": "stream",
     "text": [
      " 44%|██████████████████████████▌                                 | 53/120 [1:35:34<2:04:42, 111.67s/it]"
     ]
    },
    {
     "name": "stdout",
     "output_type": "stream",
     "text": [
      "Score: 0.9765807310196384\n",
      "Running {'n_clusters': 4, 'max_iter': 50, 'tol': 1e-06, 'metric': 'euclidean', 'dtw_inertia': False}\n"
     ]
    },
    {
     "name": "stderr",
     "output_type": "stream",
     "text": [
      " 45%|███████████████████████████▍                                 | 54/120 [1:35:36<1:26:21, 78.51s/it]"
     ]
    },
    {
     "name": "stdout",
     "output_type": "stream",
     "text": [
      "Score: 0.9754115252601893\n",
      "Running {'n_clusters': 4, 'max_iter': 50, 'tol': 1e-06, 'metric': 'dtw', 'dtw_inertia': True}\n"
     ]
    },
    {
     "name": "stderr",
     "output_type": "stream",
     "text": [
      " 46%|███████████████████████████▌                                | 55/120 [1:40:14<2:30:09, 138.61s/it]"
     ]
    },
    {
     "name": "stdout",
     "output_type": "stream",
     "text": [
      "Score: 0.9683455158209756\n",
      "Running {'n_clusters': 4, 'max_iter': 50, 'tol': 1e-06, 'metric': 'dtw', 'dtw_inertia': False}\n"
     ]
    },
    {
     "name": "stderr",
     "output_type": "stream",
     "text": [
      " 47%|████████████████████████████                                | 56/120 [1:44:25<3:03:49, 172.34s/it]"
     ]
    },
    {
     "name": "stdout",
     "output_type": "stream",
     "text": [
      "Score: 0.9509851982681131\n",
      "Running {'n_clusters': 4, 'max_iter': 50, 'tol': 1e-07, 'metric': 'euclidean', 'dtw_inertia': True}\n"
     ]
    },
    {
     "name": "stderr",
     "output_type": "stream",
     "text": [
      " 48%|████████████████████████████▌                               | 57/120 [1:44:30<2:08:13, 122.12s/it]"
     ]
    },
    {
     "name": "stdout",
     "output_type": "stream",
     "text": [
      "Score: 0.9678018896014271\n",
      "Running {'n_clusters': 4, 'max_iter': 50, 'tol': 1e-07, 'metric': 'euclidean', 'dtw_inertia': False}\n"
     ]
    },
    {
     "name": "stderr",
     "output_type": "stream",
     "text": [
      " 48%|█████████████████████████████▍                               | 58/120 [1:44:31<1:28:38, 85.79s/it]"
     ]
    },
    {
     "name": "stdout",
     "output_type": "stream",
     "text": [
      "Score: 0.9765807310196384\n",
      "Running {'n_clusters': 4, 'max_iter': 50, 'tol': 1e-07, 'metric': 'dtw', 'dtw_inertia': True}\n"
     ]
    },
    {
     "name": "stderr",
     "output_type": "stream",
     "text": [
      " 49%|█████████████████████████████▌                              | 59/120 [1:51:19<3:05:17, 182.26s/it]"
     ]
    },
    {
     "name": "stdout",
     "output_type": "stream",
     "text": [
      "Score: 0.9469068100515002\n",
      "Running {'n_clusters': 4, 'max_iter': 50, 'tol': 1e-07, 'metric': 'dtw', 'dtw_inertia': False}\n"
     ]
    },
    {
     "name": "stderr",
     "output_type": "stream",
     "text": [
      " 50%|██████████████████████████████                              | 60/120 [1:59:39<4:37:38, 277.64s/it]"
     ]
    },
    {
     "name": "stdout",
     "output_type": "stream",
     "text": [
      "Score: 0.9683455158209756\n",
      "Running {'n_clusters': 4, 'max_iter': 100, 'tol': 1e-05, 'metric': 'euclidean', 'dtw_inertia': True}\n"
     ]
    },
    {
     "name": "stderr",
     "output_type": "stream",
     "text": [
      " 51%|██████████████████████████████▌                             | 61/120 [1:59:45<3:12:49, 196.09s/it]"
     ]
    },
    {
     "name": "stdout",
     "output_type": "stream",
     "text": [
      "Score: 0.9753251672053153\n",
      "Running {'n_clusters': 4, 'max_iter': 100, 'tol': 1e-05, 'metric': 'euclidean', 'dtw_inertia': False}\n"
     ]
    },
    {
     "name": "stderr",
     "output_type": "stream",
     "text": [
      " 52%|███████████████████████████████                             | 62/120 [1:59:47<2:13:14, 137.84s/it]"
     ]
    },
    {
     "name": "stdout",
     "output_type": "stream",
     "text": [
      "Score: 0.9753251672053153\n",
      "Running {'n_clusters': 4, 'max_iter': 100, 'tol': 1e-05, 'metric': 'dtw', 'dtw_inertia': True}\n"
     ]
    },
    {
     "name": "stderr",
     "output_type": "stream",
     "text": [
      " 52%|███████████████████████████████▌                            | 63/120 [2:07:26<3:42:31, 234.24s/it]"
     ]
    },
    {
     "name": "stdout",
     "output_type": "stream",
     "text": [
      "Score: 0.9469068100515002\n",
      "Running {'n_clusters': 4, 'max_iter': 100, 'tol': 1e-05, 'metric': 'dtw', 'dtw_inertia': False}\n"
     ]
    },
    {
     "name": "stderr",
     "output_type": "stream",
     "text": [
      " 53%|████████████████████████████████                            | 64/120 [2:15:39<4:51:11, 312.00s/it]"
     ]
    },
    {
     "name": "stdout",
     "output_type": "stream",
     "text": [
      "Score: 0.9683455158209756\n",
      "Running {'n_clusters': 4, 'max_iter': 100, 'tol': 1e-06, 'metric': 'euclidean', 'dtw_inertia': True}\n"
     ]
    },
    {
     "name": "stderr",
     "output_type": "stream",
     "text": [
      " 54%|████████████████████████████████▌                           | 65/120 [2:15:46<3:22:04, 220.45s/it]"
     ]
    },
    {
     "name": "stdout",
     "output_type": "stream",
     "text": [
      "Score: 0.9753251672053153\n",
      "Running {'n_clusters': 4, 'max_iter': 100, 'tol': 1e-06, 'metric': 'euclidean', 'dtw_inertia': False}\n"
     ]
    },
    {
     "name": "stderr",
     "output_type": "stream",
     "text": [
      " 55%|█████████████████████████████████                           | 66/120 [2:15:48<2:19:23, 154.89s/it]"
     ]
    },
    {
     "name": "stdout",
     "output_type": "stream",
     "text": [
      "Score: 0.9729717723968544\n",
      "Running {'n_clusters': 4, 'max_iter': 100, 'tol': 1e-06, 'metric': 'dtw', 'dtw_inertia': True}\n"
     ]
    },
    {
     "name": "stderr",
     "output_type": "stream",
     "text": [
      " 56%|█████████████████████████████████▌                          | 67/120 [2:24:01<3:46:19, 256.22s/it]"
     ]
    },
    {
     "name": "stdout",
     "output_type": "stream",
     "text": [
      "Score: 0.9683455158209756\n",
      "Running {'n_clusters': 4, 'max_iter': 100, 'tol': 1e-06, 'metric': 'dtw', 'dtw_inertia': False}\n"
     ]
    },
    {
     "name": "stderr",
     "output_type": "stream",
     "text": [
      " 57%|██████████████████████████████████                          | 68/120 [2:30:30<4:16:33, 296.02s/it]"
     ]
    },
    {
     "name": "stdout",
     "output_type": "stream",
     "text": [
      "Score: 0.9683455158209756\n",
      "Running {'n_clusters': 4, 'max_iter': 100, 'tol': 1e-07, 'metric': 'euclidean', 'dtw_inertia': True}\n"
     ]
    },
    {
     "name": "stderr",
     "output_type": "stream",
     "text": [
      " 57%|██████████████████████████████████▌                         | 69/120 [2:30:34<2:57:06, 208.37s/it]"
     ]
    },
    {
     "name": "stdout",
     "output_type": "stream",
     "text": [
      "Score: 0.9720016504484886\n",
      "Running {'n_clusters': 4, 'max_iter': 100, 'tol': 1e-07, 'metric': 'euclidean', 'dtw_inertia': False}\n"
     ]
    },
    {
     "name": "stderr",
     "output_type": "stream",
     "text": [
      " 58%|███████████████████████████████████                         | 70/120 [2:30:35<2:01:51, 146.22s/it]"
     ]
    },
    {
     "name": "stdout",
     "output_type": "stream",
     "text": [
      "Score: 0.9765807310196384\n",
      "Running {'n_clusters': 4, 'max_iter': 100, 'tol': 1e-07, 'metric': 'dtw', 'dtw_inertia': True}\n"
     ]
    },
    {
     "name": "stderr",
     "output_type": "stream",
     "text": [
      " 59%|███████████████████████████████████▌                        | 71/120 [2:35:49<2:40:32, 196.58s/it]"
     ]
    },
    {
     "name": "stdout",
     "output_type": "stream",
     "text": [
      "Score: 0.9357322615733462\n",
      "Running {'n_clusters': 4, 'max_iter': 100, 'tol': 1e-07, 'metric': 'dtw', 'dtw_inertia': False}\n"
     ]
    },
    {
     "name": "stderr",
     "output_type": "stream",
     "text": [
      " 60%|████████████████████████████████████                        | 72/120 [2:40:17<2:54:30, 218.14s/it]"
     ]
    },
    {
     "name": "stdout",
     "output_type": "stream",
     "text": [
      "Score: 0.9683455158209756\n",
      "Running {'n_clusters': 5, 'max_iter': 50, 'tol': 1e-05, 'metric': 'euclidean', 'dtw_inertia': True}\n"
     ]
    },
    {
     "name": "stderr",
     "output_type": "stream",
     "text": [
      " 61%|████████████████████████████████████▌                       | 73/120 [2:40:22<2:00:43, 154.12s/it]"
     ]
    },
    {
     "name": "stdout",
     "output_type": "stream",
     "text": [
      "Score: 0.9725759018450401\n",
      "Running {'n_clusters': 5, 'max_iter': 50, 'tol': 1e-05, 'metric': 'euclidean', 'dtw_inertia': False}\n"
     ]
    },
    {
     "name": "stderr",
     "output_type": "stream",
     "text": [
      " 62%|█████████████████████████████████████                       | 74/120 [2:40:23<1:22:57, 108.21s/it]"
     ]
    },
    {
     "name": "stdout",
     "output_type": "stream",
     "text": [
      "Score: 0.9758925349451909\n",
      "Running {'n_clusters': 5, 'max_iter': 50, 'tol': 1e-05, 'metric': 'dtw', 'dtw_inertia': True}\n"
     ]
    },
    {
     "name": "stderr",
     "output_type": "stream",
     "text": [
      " 62%|█████████████████████████████████████▌                      | 75/120 [2:45:49<2:10:11, 173.60s/it]"
     ]
    },
    {
     "name": "stdout",
     "output_type": "stream",
     "text": [
      "Score: 0.9373634356624113\n",
      "Running {'n_clusters': 5, 'max_iter': 50, 'tol': 1e-05, 'metric': 'dtw', 'dtw_inertia': False}\n"
     ]
    },
    {
     "name": "stderr",
     "output_type": "stream",
     "text": [
      " 63%|██████████████████████████████████████                      | 76/120 [2:50:46<2:34:26, 210.59s/it]"
     ]
    },
    {
     "name": "stdout",
     "output_type": "stream",
     "text": [
      "Score: 0.936928170244714\n",
      "Running {'n_clusters': 5, 'max_iter': 50, 'tol': 1e-06, 'metric': 'euclidean', 'dtw_inertia': True}\n"
     ]
    },
    {
     "name": "stderr",
     "output_type": "stream",
     "text": [
      " 64%|██████████████████████████████████████▌                     | 77/120 [2:50:52<1:46:48, 149.05s/it]"
     ]
    },
    {
     "name": "stdout",
     "output_type": "stream",
     "text": [
      "Score: 0.973641241270107\n",
      "Running {'n_clusters': 5, 'max_iter': 50, 'tol': 1e-06, 'metric': 'euclidean', 'dtw_inertia': False}\n"
     ]
    },
    {
     "name": "stderr",
     "output_type": "stream",
     "text": [
      " 65%|███████████████████████████████████████                     | 78/120 [2:50:53<1:13:20, 104.76s/it]"
     ]
    },
    {
     "name": "stdout",
     "output_type": "stream",
     "text": [
      "Score: 0.9729144022306413\n",
      "Running {'n_clusters': 5, 'max_iter': 50, 'tol': 1e-06, 'metric': 'dtw', 'dtw_inertia': True}\n"
     ]
    },
    {
     "name": "stderr",
     "output_type": "stream",
     "text": [
      " 66%|███████████████████████████████████████▌                    | 79/120 [2:55:35<1:47:49, 157.79s/it]"
     ]
    },
    {
     "name": "stdout",
     "output_type": "stream",
     "text": [
      "Score: 0.9681477173014303\n",
      "Running {'n_clusters': 5, 'max_iter': 50, 'tol': 1e-06, 'metric': 'dtw', 'dtw_inertia': False}\n"
     ]
    },
    {
     "name": "stderr",
     "output_type": "stream",
     "text": [
      " 67%|████████████████████████████████████████                    | 80/120 [3:00:31<2:12:57, 199.44s/it]"
     ]
    },
    {
     "name": "stdout",
     "output_type": "stream",
     "text": [
      "Score: 0.967335077687578\n",
      "Running {'n_clusters': 5, 'max_iter': 50, 'tol': 1e-07, 'metric': 'euclidean', 'dtw_inertia': True}\n"
     ]
    },
    {
     "name": "stderr",
     "output_type": "stream",
     "text": [
      " 68%|████████████████████████████████████████▌                   | 81/120 [3:00:36<1:31:46, 141.20s/it]"
     ]
    },
    {
     "name": "stdout",
     "output_type": "stream",
     "text": [
      "Score: 0.9725759018450401\n",
      "Running {'n_clusters': 5, 'max_iter': 50, 'tol': 1e-07, 'metric': 'euclidean', 'dtw_inertia': False}\n"
     ]
    },
    {
     "name": "stderr",
     "output_type": "stream",
     "text": [
      " 68%|█████████████████████████████████████████▋                   | 82/120 [3:00:38<1:02:49, 99.19s/it]"
     ]
    },
    {
     "name": "stdout",
     "output_type": "stream",
     "text": [
      "Score: 0.9691466165717343\n",
      "Running {'n_clusters': 5, 'max_iter': 50, 'tol': 1e-07, 'metric': 'dtw', 'dtw_inertia': True}\n"
     ]
    },
    {
     "name": "stderr",
     "output_type": "stream",
     "text": [
      " 69%|█████████████████████████████████████████▌                  | 83/120 [3:04:25<1:24:49, 137.56s/it]"
     ]
    },
    {
     "name": "stdout",
     "output_type": "stream",
     "text": [
      "Score: 0.9320889704913616\n",
      "Running {'n_clusters': 5, 'max_iter': 50, 'tol': 1e-07, 'metric': 'dtw', 'dtw_inertia': False}\n"
     ]
    },
    {
     "name": "stderr",
     "output_type": "stream",
     "text": [
      " 70%|██████████████████████████████████████████                  | 84/120 [3:08:05<1:37:21, 162.26s/it]"
     ]
    },
    {
     "name": "stdout",
     "output_type": "stream",
     "text": [
      "Score: 0.9373634356624113\n",
      "Running {'n_clusters': 5, 'max_iter': 100, 'tol': 1e-05, 'metric': 'euclidean', 'dtw_inertia': True}\n"
     ]
    },
    {
     "name": "stderr",
     "output_type": "stream",
     "text": [
      " 71%|██████████████████████████████████████████▌                 | 85/120 [3:08:08<1:06:52, 114.64s/it]"
     ]
    },
    {
     "name": "stdout",
     "output_type": "stream",
     "text": [
      "Score: 0.9726460744467998\n",
      "Running {'n_clusters': 5, 'max_iter': 100, 'tol': 1e-05, 'metric': 'euclidean', 'dtw_inertia': False}\n"
     ]
    },
    {
     "name": "stderr",
     "output_type": "stream",
     "text": [
      " 72%|█████████████████████████████████████████████▏                 | 86/120 [3:08:09<45:39, 80.57s/it]"
     ]
    },
    {
     "name": "stdout",
     "output_type": "stream",
     "text": [
      "Score: 0.9590760765272185\n",
      "Running {'n_clusters': 5, 'max_iter': 100, 'tol': 1e-05, 'metric': 'dtw', 'dtw_inertia': True}\n"
     ]
    },
    {
     "name": "stderr",
     "output_type": "stream",
     "text": [
      " 72%|███████████████████████████████████████████▌                | 87/120 [3:11:27<1:03:37, 115.67s/it]"
     ]
    },
    {
     "name": "stdout",
     "output_type": "stream",
     "text": [
      "Score: 0.9373634356624113\n",
      "Running {'n_clusters': 5, 'max_iter': 100, 'tol': 1e-05, 'metric': 'dtw', 'dtw_inertia': False}\n"
     ]
    },
    {
     "name": "stderr",
     "output_type": "stream",
     "text": [
      " 73%|████████████████████████████████████████████                | 88/120 [3:14:46<1:15:05, 140.79s/it]"
     ]
    },
    {
     "name": "stdout",
     "output_type": "stream",
     "text": [
      "Score: 0.9673939378565249\n",
      "Running {'n_clusters': 5, 'max_iter': 100, 'tol': 1e-06, 'metric': 'euclidean', 'dtw_inertia': True}\n"
     ]
    },
    {
     "name": "stderr",
     "output_type": "stream",
     "text": [
      " 74%|██████████████████████████████████████████████▋                | 89/120 [3:14:50<51:28, 99.63s/it]"
     ]
    },
    {
     "name": "stdout",
     "output_type": "stream",
     "text": [
      "Score: 0.973641241270107\n",
      "Running {'n_clusters': 5, 'max_iter': 100, 'tol': 1e-06, 'metric': 'euclidean', 'dtw_inertia': False}\n"
     ]
    },
    {
     "name": "stderr",
     "output_type": "stream",
     "text": [
      " 75%|███████████████████████████████████████████████▎               | 90/120 [3:14:51<35:00, 70.03s/it]"
     ]
    },
    {
     "name": "stdout",
     "output_type": "stream",
     "text": [
      "Score: 0.9757479148027068\n",
      "Running {'n_clusters': 5, 'max_iter': 100, 'tol': 1e-06, 'metric': 'dtw', 'dtw_inertia': True}\n"
     ]
    },
    {
     "name": "stderr",
     "output_type": "stream",
     "text": [
      " 76%|███████████████████████████████████████████████               | 91/120 [3:18:05<51:55, 107.42s/it]"
     ]
    },
    {
     "name": "stdout",
     "output_type": "stream",
     "text": [
      "Score: 0.9373634356624113\n",
      "Running {'n_clusters': 5, 'max_iter': 100, 'tol': 1e-06, 'metric': 'dtw', 'dtw_inertia': False}\n"
     ]
    },
    {
     "name": "stderr",
     "output_type": "stream",
     "text": [
      " 77%|██████████████████████████████████████████████              | 92/120 [3:21:19<1:02:12, 133.29s/it]"
     ]
    },
    {
     "name": "stdout",
     "output_type": "stream",
     "text": [
      "Score: 0.936928170244714\n",
      "Running {'n_clusters': 5, 'max_iter': 100, 'tol': 1e-07, 'metric': 'euclidean', 'dtw_inertia': True}\n"
     ]
    },
    {
     "name": "stderr",
     "output_type": "stream",
     "text": [
      " 78%|████████████████████████████████████████████████▊              | 93/120 [3:21:23<42:28, 94.38s/it]"
     ]
    },
    {
     "name": "stdout",
     "output_type": "stream",
     "text": [
      "Score: 0.9727024338555733\n",
      "Running {'n_clusters': 5, 'max_iter': 100, 'tol': 1e-07, 'metric': 'euclidean', 'dtw_inertia': False}\n"
     ]
    },
    {
     "name": "stderr",
     "output_type": "stream",
     "text": [
      " 78%|█████████████████████████████████████████████████▎             | 94/120 [3:21:24<28:44, 66.35s/it]"
     ]
    },
    {
     "name": "stdout",
     "output_type": "stream",
     "text": [
      "Score: 0.9735802582528355\n",
      "Running {'n_clusters': 5, 'max_iter': 100, 'tol': 1e-07, 'metric': 'dtw', 'dtw_inertia': True}\n"
     ]
    },
    {
     "name": "stderr",
     "output_type": "stream",
     "text": [
      " 79%|█████████████████████████████████████████████████             | 95/120 [3:24:48<44:54, 107.78s/it]"
     ]
    },
    {
     "name": "stdout",
     "output_type": "stream",
     "text": [
      "Score: 0.9373634356624113\n",
      "Running {'n_clusters': 5, 'max_iter': 100, 'tol': 1e-07, 'metric': 'dtw', 'dtw_inertia': False}\n"
     ]
    },
    {
     "name": "stderr",
     "output_type": "stream",
     "text": [
      " 80%|█████████████████████████████████████████████████▌            | 96/120 [3:28:03<53:37, 134.05s/it]"
     ]
    },
    {
     "name": "stdout",
     "output_type": "stream",
     "text": [
      "Score: 0.9373634356624113\n",
      "Running {'n_clusters': 6, 'max_iter': 50, 'tol': 1e-05, 'metric': 'euclidean', 'dtw_inertia': True}\n"
     ]
    },
    {
     "name": "stderr",
     "output_type": "stream",
     "text": [
      " 81%|██████████████████████████████████████████████████▉            | 97/120 [3:28:07<36:26, 95.06s/it]"
     ]
    },
    {
     "name": "stdout",
     "output_type": "stream",
     "text": [
      "Score: 0.9732757818694678\n",
      "Running {'n_clusters': 6, 'max_iter': 50, 'tol': 1e-05, 'metric': 'euclidean', 'dtw_inertia': False}\n"
     ]
    },
    {
     "name": "stderr",
     "output_type": "stream",
     "text": [
      " 82%|███████████████████████████████████████████████████▍           | 98/120 [3:28:08<24:30, 66.83s/it]"
     ]
    },
    {
     "name": "stdout",
     "output_type": "stream",
     "text": [
      "Score: 0.9763173956186112\n",
      "Running {'n_clusters': 6, 'max_iter': 50, 'tol': 1e-05, 'metric': 'dtw', 'dtw_inertia': True}\n"
     ]
    },
    {
     "name": "stderr",
     "output_type": "stream",
     "text": [
      " 82%|███████████████████████████████████████████████████▏          | 99/120 [3:31:47<39:16, 112.20s/it]"
     ]
    },
    {
     "name": "stdout",
     "output_type": "stream",
     "text": [
      "Score: 0.9373414551897679\n",
      "Running {'n_clusters': 6, 'max_iter': 50, 'tol': 1e-05, 'metric': 'dtw', 'dtw_inertia': False}\n"
     ]
    },
    {
     "name": "stderr",
     "output_type": "stream",
     "text": [
      " 83%|██████████████████████████████████████████████████▊          | 100/120 [3:35:06<46:08, 138.41s/it]"
     ]
    },
    {
     "name": "stdout",
     "output_type": "stream",
     "text": [
      "Score: 0.9365831865982157\n",
      "Running {'n_clusters': 6, 'max_iter': 50, 'tol': 1e-06, 'metric': 'euclidean', 'dtw_inertia': True}\n"
     ]
    },
    {
     "name": "stderr",
     "output_type": "stream",
     "text": [
      " 84%|████████████████████████████████████████████████████▏         | 101/120 [3:35:10<31:05, 98.18s/it]"
     ]
    },
    {
     "name": "stdout",
     "output_type": "stream",
     "text": [
      "Score: 0.9742505969891004\n",
      "Running {'n_clusters': 6, 'max_iter': 50, 'tol': 1e-06, 'metric': 'euclidean', 'dtw_inertia': False}\n"
     ]
    },
    {
     "name": "stderr",
     "output_type": "stream",
     "text": [
      " 85%|████████████████████████████████████████████████████▋         | 102/120 [3:35:11<20:42, 69.01s/it]"
     ]
    },
    {
     "name": "stdout",
     "output_type": "stream",
     "text": [
      "Score: 0.9732453650815289\n",
      "Running {'n_clusters': 6, 'max_iter': 50, 'tol': 1e-06, 'metric': 'dtw', 'dtw_inertia': True}\n"
     ]
    },
    {
     "name": "stderr",
     "output_type": "stream",
     "text": [
      " 86%|████████████████████████████████████████████████████▎        | 103/120 [3:38:37<31:12, 110.15s/it]"
     ]
    },
    {
     "name": "stdout",
     "output_type": "stream",
     "text": [
      "Score: 0.9250229800583399\n",
      "Running {'n_clusters': 6, 'max_iter': 50, 'tol': 1e-06, 'metric': 'dtw', 'dtw_inertia': False}\n"
     ]
    },
    {
     "name": "stderr",
     "output_type": "stream",
     "text": [
      " 87%|████████████████████████████████████████████████████▊        | 104/120 [3:42:03<37:01, 138.82s/it]"
     ]
    },
    {
     "name": "stdout",
     "output_type": "stream",
     "text": [
      "Score: 0.9365831865982157\n",
      "Running {'n_clusters': 6, 'max_iter': 50, 'tol': 1e-07, 'metric': 'euclidean', 'dtw_inertia': True}\n"
     ]
    },
    {
     "name": "stderr",
     "output_type": "stream",
     "text": [
      " 88%|██████████████████████████████████████████████████████▎       | 105/120 [3:42:10<24:47, 99.14s/it]"
     ]
    },
    {
     "name": "stdout",
     "output_type": "stream",
     "text": [
      "Score: 0.9678118574418136\n",
      "Running {'n_clusters': 6, 'max_iter': 50, 'tol': 1e-07, 'metric': 'euclidean', 'dtw_inertia': False}\n"
     ]
    },
    {
     "name": "stderr",
     "output_type": "stream",
     "text": [
      " 88%|██████████████████████████████████████████████████████▊       | 106/120 [3:42:11<16:15, 69.68s/it]"
     ]
    },
    {
     "name": "stdout",
     "output_type": "stream",
     "text": [
      "Score: 0.9763173956186112\n",
      "Running {'n_clusters': 6, 'max_iter': 50, 'tol': 1e-07, 'metric': 'dtw', 'dtw_inertia': True}\n"
     ]
    },
    {
     "name": "stderr",
     "output_type": "stream",
     "text": [
      " 89%|██████████████████████████████████████████████████████▍      | 107/120 [3:45:28<23:24, 108.01s/it]"
     ]
    },
    {
     "name": "stdout",
     "output_type": "stream",
     "text": [
      "Score: 0.931859338057287\n",
      "Running {'n_clusters': 6, 'max_iter': 50, 'tol': 1e-07, 'metric': 'dtw', 'dtw_inertia': False}\n"
     ]
    },
    {
     "name": "stderr",
     "output_type": "stream",
     "text": [
      " 90%|██████████████████████████████████████████████████████▉      | 108/120 [3:48:47<27:02, 135.22s/it]"
     ]
    },
    {
     "name": "stdout",
     "output_type": "stream",
     "text": [
      "Score: 0.9673874328697408\n",
      "Running {'n_clusters': 6, 'max_iter': 100, 'tol': 1e-05, 'metric': 'euclidean', 'dtw_inertia': True}\n"
     ]
    },
    {
     "name": "stderr",
     "output_type": "stream",
     "text": [
      " 91%|████████████████████████████████████████████████████████▎     | 109/120 [3:48:54<17:43, 96.67s/it]"
     ]
    },
    {
     "name": "stdout",
     "output_type": "stream",
     "text": [
      "Score: 0.9593883173027944\n",
      "Running {'n_clusters': 6, 'max_iter': 100, 'tol': 1e-05, 'metric': 'euclidean', 'dtw_inertia': False}\n"
     ]
    },
    {
     "name": "stderr",
     "output_type": "stream",
     "text": [
      " 92%|████████████████████████████████████████████████████████▊     | 110/120 [3:48:55<11:19, 67.95s/it]"
     ]
    },
    {
     "name": "stdout",
     "output_type": "stream",
     "text": [
      "Score: 0.9763173956186112\n",
      "Running {'n_clusters': 6, 'max_iter': 100, 'tol': 1e-05, 'metric': 'dtw', 'dtw_inertia': True}\n"
     ]
    },
    {
     "name": "stderr",
     "output_type": "stream",
     "text": [
      " 92%|████████████████████████████████████████████████████████▍    | 111/120 [3:52:08<15:50, 105.64s/it]"
     ]
    },
    {
     "name": "stdout",
     "output_type": "stream",
     "text": [
      "Score: 0.9373414551897679\n",
      "Running {'n_clusters': 6, 'max_iter': 100, 'tol': 1e-05, 'metric': 'dtw', 'dtw_inertia': False}\n"
     ]
    },
    {
     "name": "stderr",
     "output_type": "stream",
     "text": [
      " 93%|████████████████████████████████████████████████████████▉    | 112/120 [3:55:34<18:04, 135.59s/it]"
     ]
    },
    {
     "name": "stdout",
     "output_type": "stream",
     "text": [
      "Score: 0.9361940320621476\n",
      "Running {'n_clusters': 6, 'max_iter': 100, 'tol': 1e-06, 'metric': 'euclidean', 'dtw_inertia': True}\n"
     ]
    },
    {
     "name": "stderr",
     "output_type": "stream",
     "text": [
      " 94%|██████████████████████████████████████████████████████████▍   | 113/120 [3:55:39<11:14, 96.40s/it]"
     ]
    },
    {
     "name": "stdout",
     "output_type": "stream",
     "text": [
      "Score: 0.9700346695267924\n",
      "Running {'n_clusters': 6, 'max_iter': 100, 'tol': 1e-06, 'metric': 'euclidean', 'dtw_inertia': False}\n"
     ]
    },
    {
     "name": "stderr",
     "output_type": "stream",
     "text": [
      " 95%|██████████████████████████████████████████████████████████▉   | 114/120 [3:55:40<06:46, 67.83s/it]"
     ]
    },
    {
     "name": "stdout",
     "output_type": "stream",
     "text": [
      "Score: 0.9592998962013386\n",
      "Running {'n_clusters': 6, 'max_iter': 100, 'tol': 1e-06, 'metric': 'dtw', 'dtw_inertia': True}\n"
     ]
    },
    {
     "name": "stderr",
     "output_type": "stream",
     "text": [
      " 96%|██████████████████████████████████████████████████████████▍  | 115/120 [3:59:23<09:31, 114.37s/it]"
     ]
    },
    {
     "name": "stdout",
     "output_type": "stream",
     "text": [
      "Score: 0.9361940320621476\n",
      "Running {'n_clusters': 6, 'max_iter': 100, 'tol': 1e-06, 'metric': 'dtw', 'dtw_inertia': False}\n"
     ]
    },
    {
     "name": "stderr",
     "output_type": "stream",
     "text": [
      " 97%|██████████████████████████████████████████████████████████▉  | 116/120 [4:03:05<09:46, 146.63s/it]"
     ]
    },
    {
     "name": "stdout",
     "output_type": "stream",
     "text": [
      "Score: 0.9373414551897679\n",
      "Running {'n_clusters': 6, 'max_iter': 100, 'tol': 1e-07, 'metric': 'euclidean', 'dtw_inertia': True}\n"
     ]
    },
    {
     "name": "stderr",
     "output_type": "stream",
     "text": [
      " 98%|███████████████████████████████████████████████████████████▍ | 117/120 [4:03:09<05:11, 103.86s/it]"
     ]
    },
    {
     "name": "stdout",
     "output_type": "stream",
     "text": [
      "Score: 0.9733646460182557\n",
      "Running {'n_clusters': 6, 'max_iter': 100, 'tol': 1e-07, 'metric': 'euclidean', 'dtw_inertia': False}\n"
     ]
    },
    {
     "name": "stderr",
     "output_type": "stream",
     "text": [
      " 98%|████████████████████████████████████████████████████████████▉ | 118/120 [4:03:10<02:25, 72.99s/it]"
     ]
    },
    {
     "name": "stdout",
     "output_type": "stream",
     "text": [
      "Score: 0.9741665803137424\n",
      "Running {'n_clusters': 6, 'max_iter': 100, 'tol': 1e-07, 'metric': 'dtw', 'dtw_inertia': True}\n"
     ]
    },
    {
     "name": "stderr",
     "output_type": "stream",
     "text": [
      " 99%|████████████████████████████████████████████████████████████▍| 119/120 [4:06:30<01:51, 111.15s/it]"
     ]
    },
    {
     "name": "stdout",
     "output_type": "stream",
     "text": [
      "Score: 0.9362112681020677\n",
      "Running {'n_clusters': 6, 'max_iter': 100, 'tol': 1e-07, 'metric': 'dtw', 'dtw_inertia': False}\n"
     ]
    },
    {
     "name": "stderr",
     "output_type": "stream",
     "text": [
      "100%|█████████████████████████████████████████████████████████████| 120/120 [4:10:02<00:00, 125.02s/it]\n"
     ]
    },
    {
     "name": "stdout",
     "output_type": "stream",
     "text": [
      "Score: 0.9360137223242531\n",
      "\n",
      "Running Math...\n",
      "Performing 120 iterations in total.\n"
     ]
    },
    {
     "name": "stderr",
     "output_type": "stream",
     "text": [
      "  0%|                                                                          | 0/120 [00:00<?, ?it/s]"
     ]
    },
    {
     "name": "stdout",
     "output_type": "stream",
     "text": [
      "Running {'n_clusters': 2, 'max_iter': 50, 'tol': 1e-05, 'metric': 'euclidean', 'dtw_inertia': True}\n"
     ]
    },
    {
     "name": "stderr",
     "output_type": "stream",
     "text": [
      "  1%|▌                                                                 | 1/120 [00:03<07:53,  3.98s/it]"
     ]
    },
    {
     "name": "stdout",
     "output_type": "stream",
     "text": [
      "Score: 0.9825869960211345\n",
      "Running {'n_clusters': 2, 'max_iter': 50, 'tol': 1e-05, 'metric': 'euclidean', 'dtw_inertia': False}\n"
     ]
    },
    {
     "name": "stderr",
     "output_type": "stream",
     "text": [
      "  2%|█                                                                 | 2/120 [00:06<05:37,  2.86s/it]"
     ]
    },
    {
     "name": "stdout",
     "output_type": "stream",
     "text": [
      "Score: 0.9825869960211345\n",
      "Running {'n_clusters': 2, 'max_iter': 50, 'tol': 1e-05, 'metric': 'dtw', 'dtw_inertia': True}\n"
     ]
    },
    {
     "name": "stderr",
     "output_type": "stream",
     "text": [
      "  2%|█▌                                                            | 3/120 [20:56<18:36:32, 572.58s/it]"
     ]
    },
    {
     "name": "stdout",
     "output_type": "stream",
     "text": [
      "Score: 0.9665830369626413\n",
      "Running {'n_clusters': 2, 'max_iter': 50, 'tol': 1e-05, 'metric': 'dtw', 'dtw_inertia': False}\n"
     ]
    },
    {
     "name": "stderr",
     "output_type": "stream",
     "text": [
      "  3%|██                                                            | 4/120 [41:35<26:55:38, 835.68s/it]"
     ]
    },
    {
     "name": "stdout",
     "output_type": "stream",
     "text": [
      "Score: 0.9783582804742239\n",
      "Running {'n_clusters': 2, 'max_iter': 50, 'tol': 1e-06, 'metric': 'euclidean', 'dtw_inertia': True}\n"
     ]
    },
    {
     "name": "stderr",
     "output_type": "stream",
     "text": [
      "  4%|██▌                                                           | 5/120 [41:39<17:06:51, 535.75s/it]"
     ]
    },
    {
     "name": "stdout",
     "output_type": "stream",
     "text": [
      "Score: 0.9772848816974622\n",
      "Running {'n_clusters': 2, 'max_iter': 50, 'tol': 1e-06, 'metric': 'euclidean', 'dtw_inertia': False}\n"
     ]
    },
    {
     "name": "stderr",
     "output_type": "stream",
     "text": [
      "  5%|███                                                           | 6/120 [41:41<11:13:10, 354.30s/it]"
     ]
    },
    {
     "name": "stdout",
     "output_type": "stream",
     "text": [
      "Score: 0.9772848816974622\n",
      "Running {'n_clusters': 2, 'max_iter': 50, 'tol': 1e-06, 'metric': 'dtw', 'dtw_inertia': True}\n"
     ]
    },
    {
     "name": "stderr",
     "output_type": "stream",
     "text": [
      "  6%|███▌                                                        | 7/120 [1:02:24<20:14:30, 644.88s/it]"
     ]
    },
    {
     "name": "stdout",
     "output_type": "stream",
     "text": [
      "Score: 0.9763165492439344\n",
      "Running {'n_clusters': 2, 'max_iter': 50, 'tol': 1e-06, 'metric': 'dtw', 'dtw_inertia': False}\n"
     ]
    },
    {
     "name": "stderr",
     "output_type": "stream",
     "text": [
      "  7%|████                                                        | 8/120 [1:22:58<25:54:00, 832.50s/it]"
     ]
    },
    {
     "name": "stdout",
     "output_type": "stream",
     "text": [
      "Score: 0.9806711223360512\n",
      "Running {'n_clusters': 2, 'max_iter': 50, 'tol': 1e-07, 'metric': 'euclidean', 'dtw_inertia': True}\n"
     ]
    },
    {
     "name": "stderr",
     "output_type": "stream",
     "text": [
      "  8%|████▌                                                       | 9/120 [1:23:03<17:41:16, 573.66s/it]"
     ]
    },
    {
     "name": "stdout",
     "output_type": "stream",
     "text": [
      "Score: 0.948022934195814\n",
      "Running {'n_clusters': 2, 'max_iter': 50, 'tol': 1e-07, 'metric': 'euclidean', 'dtw_inertia': False}\n"
     ]
    },
    {
     "name": "stderr",
     "output_type": "stream",
     "text": [
      "  8%|████▉                                                      | 10/120 [1:23:05<12:08:15, 397.23s/it]"
     ]
    },
    {
     "name": "stdout",
     "output_type": "stream",
     "text": [
      "Score: 0.948022934195814\n",
      "Running {'n_clusters': 2, 'max_iter': 50, 'tol': 1e-07, 'metric': 'dtw', 'dtw_inertia': True}\n"
     ]
    },
    {
     "name": "stderr",
     "output_type": "stream",
     "text": [
      "  9%|█████▍                                                     | 11/120 [1:43:36<19:45:07, 652.36s/it]"
     ]
    },
    {
     "name": "stdout",
     "output_type": "stream",
     "text": [
      "Score: 0.9783582804742239\n",
      "Running {'n_clusters': 2, 'max_iter': 50, 'tol': 1e-07, 'metric': 'dtw', 'dtw_inertia': False}\n"
     ]
    },
    {
     "name": "stderr",
     "output_type": "stream",
     "text": [
      " 10%|█████▉                                                     | 12/120 [2:04:24<25:00:30, 833.62s/it]"
     ]
    },
    {
     "name": "stdout",
     "output_type": "stream",
     "text": [
      "Score: 0.9665830369626413\n",
      "Running {'n_clusters': 2, 'max_iter': 100, 'tol': 1e-05, 'metric': 'euclidean', 'dtw_inertia': True}\n"
     ]
    },
    {
     "name": "stderr",
     "output_type": "stream",
     "text": [
      " 11%|██████▍                                                    | 13/120 [2:04:29<17:18:45, 582.49s/it]"
     ]
    },
    {
     "name": "stdout",
     "output_type": "stream",
     "text": [
      "Score: 0.9772848816974622\n",
      "Running {'n_clusters': 2, 'max_iter': 100, 'tol': 1e-05, 'metric': 'euclidean', 'dtw_inertia': False}\n"
     ]
    },
    {
     "name": "stderr",
     "output_type": "stream",
     "text": [
      " 12%|██████▉                                                    | 14/120 [2:04:31<11:59:32, 407.29s/it]"
     ]
    },
    {
     "name": "stdout",
     "output_type": "stream",
     "text": [
      "Score: 0.9825869960211345\n",
      "Running {'n_clusters': 2, 'max_iter': 100, 'tol': 1e-05, 'metric': 'dtw', 'dtw_inertia': True}\n"
     ]
    },
    {
     "name": "stderr",
     "output_type": "stream",
     "text": [
      " 12%|███████▍                                                   | 15/120 [2:25:08<19:10:25, 657.38s/it]"
     ]
    },
    {
     "name": "stdout",
     "output_type": "stream",
     "text": [
      "Score: 0.9652253703805883\n",
      "Running {'n_clusters': 2, 'max_iter': 100, 'tol': 1e-05, 'metric': 'dtw', 'dtw_inertia': False}\n"
     ]
    },
    {
     "name": "stderr",
     "output_type": "stream",
     "text": [
      " 13%|███████▊                                                   | 16/120 [2:45:38<23:57:52, 829.54s/it]"
     ]
    },
    {
     "name": "stdout",
     "output_type": "stream",
     "text": [
      "Score: 0.9763165492439344\n",
      "Running {'n_clusters': 2, 'max_iter': 100, 'tol': 1e-06, 'metric': 'euclidean', 'dtw_inertia': True}\n"
     ]
    },
    {
     "name": "stderr",
     "output_type": "stream",
     "text": [
      " 14%|████████▎                                                  | 17/120 [2:45:42<16:37:52, 581.28s/it]"
     ]
    },
    {
     "name": "stdout",
     "output_type": "stream",
     "text": [
      "Score: 0.9772848816974622\n",
      "Running {'n_clusters': 2, 'max_iter': 100, 'tol': 1e-06, 'metric': 'euclidean', 'dtw_inertia': False}\n"
     ]
    },
    {
     "name": "stderr",
     "output_type": "stream",
     "text": [
      " 15%|████████▊                                                  | 18/120 [2:45:44<11:32:22, 407.28s/it]"
     ]
    },
    {
     "name": "stdout",
     "output_type": "stream",
     "text": [
      "Score: 0.9825869960211345\n",
      "Running {'n_clusters': 2, 'max_iter': 100, 'tol': 1e-06, 'metric': 'dtw', 'dtw_inertia': True}\n"
     ]
    },
    {
     "name": "stderr",
     "output_type": "stream",
     "text": [
      " 16%|█████████▎                                                 | 19/120 [3:06:33<18:31:08, 660.08s/it]"
     ]
    },
    {
     "name": "stdout",
     "output_type": "stream",
     "text": [
      "Score: 0.9665830369626413\n",
      "Running {'n_clusters': 2, 'max_iter': 100, 'tol': 1e-06, 'metric': 'dtw', 'dtw_inertia': False}\n"
     ]
    },
    {
     "name": "stderr",
     "output_type": "stream",
     "text": [
      " 17%|█████████▊                                                 | 20/120 [3:27:44<23:26:03, 843.63s/it]"
     ]
    },
    {
     "name": "stdout",
     "output_type": "stream",
     "text": [
      "Score: 0.9783582804742239\n",
      "Running {'n_clusters': 2, 'max_iter': 100, 'tol': 1e-07, 'metric': 'euclidean', 'dtw_inertia': True}\n"
     ]
    },
    {
     "name": "stderr",
     "output_type": "stream",
     "text": [
      " 18%|██████████▎                                                | 21/120 [3:27:48<16:16:07, 591.59s/it]"
     ]
    },
    {
     "name": "stdout",
     "output_type": "stream",
     "text": [
      "Score: 0.9825869960211345\n",
      "Running {'n_clusters': 2, 'max_iter': 100, 'tol': 1e-07, 'metric': 'euclidean', 'dtw_inertia': False}\n"
     ]
    },
    {
     "name": "stderr",
     "output_type": "stream",
     "text": [
      " 18%|██████████▊                                                | 22/120 [3:27:50<11:17:18, 414.68s/it]"
     ]
    },
    {
     "name": "stdout",
     "output_type": "stream",
     "text": [
      "Score: 0.9825869960211345\n",
      "Running {'n_clusters': 2, 'max_iter': 100, 'tol': 1e-07, 'metric': 'dtw', 'dtw_inertia': True}\n"
     ]
    },
    {
     "name": "stderr",
     "output_type": "stream",
     "text": [
      " 19%|███████████▎                                               | 23/120 [3:48:28<17:49:37, 661.63s/it]"
     ]
    },
    {
     "name": "stdout",
     "output_type": "stream",
     "text": [
      "Score: 0.9806711223360512\n",
      "Running {'n_clusters': 2, 'max_iter': 100, 'tol': 1e-07, 'metric': 'dtw', 'dtw_inertia': False}\n"
     ]
    },
    {
     "name": "stderr",
     "output_type": "stream",
     "text": [
      " 20%|███████████▊                                               | 24/120 [4:09:08<22:16:29, 835.31s/it]"
     ]
    },
    {
     "name": "stdout",
     "output_type": "stream",
     "text": [
      "Score: 0.9763165492439344\n",
      "Running {'n_clusters': 3, 'max_iter': 50, 'tol': 1e-05, 'metric': 'euclidean', 'dtw_inertia': True}\n"
     ]
    },
    {
     "name": "stderr",
     "output_type": "stream",
     "text": [
      " 21%|████████████▎                                              | 25/120 [4:09:15<15:28:42, 586.55s/it]"
     ]
    },
    {
     "name": "stdout",
     "output_type": "stream",
     "text": [
      "Score: 0.9458978917255586\n",
      "Running {'n_clusters': 3, 'max_iter': 50, 'tol': 1e-05, 'metric': 'euclidean', 'dtw_inertia': False}\n"
     ]
    },
    {
     "name": "stderr",
     "output_type": "stream",
     "text": [
      " 22%|████████████▊                                              | 26/120 [4:09:17<10:44:12, 411.20s/it]"
     ]
    },
    {
     "name": "stdout",
     "output_type": "stream",
     "text": [
      "Score: 0.9475855703371361\n",
      "Running {'n_clusters': 3, 'max_iter': 50, 'tol': 1e-05, 'metric': 'dtw', 'dtw_inertia': True}\n"
     ]
    },
    {
     "name": "stderr",
     "output_type": "stream",
     "text": [
      " 22%|█████████████▎                                             | 27/120 [4:30:08<17:08:08, 663.31s/it]"
     ]
    },
    {
     "name": "stdout",
     "output_type": "stream",
     "text": [
      "Score: 0.9438960853000157\n",
      "Running {'n_clusters': 3, 'max_iter': 50, 'tol': 1e-05, 'metric': 'dtw', 'dtw_inertia': False}\n"
     ]
    },
    {
     "name": "stderr",
     "output_type": "stream",
     "text": [
      " 23%|█████████████▊                                             | 28/120 [4:51:08<21:31:15, 842.13s/it]"
     ]
    },
    {
     "name": "stdout",
     "output_type": "stream",
     "text": [
      "Score: 0.9438960853000157\n",
      "Running {'n_clusters': 3, 'max_iter': 50, 'tol': 1e-06, 'metric': 'euclidean', 'dtw_inertia': True}\n"
     ]
    },
    {
     "name": "stderr",
     "output_type": "stream",
     "text": [
      " 24%|██████████████▎                                            | 29/120 [4:51:12<14:56:12, 590.91s/it]"
     ]
    },
    {
     "name": "stdout",
     "output_type": "stream",
     "text": [
      "Score: 0.9787640213019216\n",
      "Running {'n_clusters': 3, 'max_iter': 50, 'tol': 1e-06, 'metric': 'euclidean', 'dtw_inertia': False}\n"
     ]
    },
    {
     "name": "stderr",
     "output_type": "stream",
     "text": [
      " 25%|██████████████▊                                            | 30/120 [4:51:14<10:21:23, 414.26s/it]"
     ]
    },
    {
     "name": "stdout",
     "output_type": "stream",
     "text": [
      "Score: 0.9787640213019216\n",
      "Running {'n_clusters': 3, 'max_iter': 50, 'tol': 1e-06, 'metric': 'dtw', 'dtw_inertia': True}\n"
     ]
    },
    {
     "name": "stderr",
     "output_type": "stream",
     "text": [
      " 26%|███████████████▏                                           | 31/120 [5:12:00<16:24:37, 663.79s/it]"
     ]
    },
    {
     "name": "stdout",
     "output_type": "stream",
     "text": [
      "Score: 0.9613967147701317\n",
      "Running {'n_clusters': 3, 'max_iter': 50, 'tol': 1e-06, 'metric': 'dtw', 'dtw_inertia': False}\n"
     ]
    },
    {
     "name": "stderr",
     "output_type": "stream",
     "text": [
      " 27%|███████████████▋                                           | 32/120 [5:32:38<20:26:13, 836.06s/it]"
     ]
    },
    {
     "name": "stdout",
     "output_type": "stream",
     "text": [
      "Score: 0.9438960853000157\n",
      "Running {'n_clusters': 3, 'max_iter': 50, 'tol': 1e-07, 'metric': 'euclidean', 'dtw_inertia': True}\n"
     ]
    },
    {
     "name": "stderr",
     "output_type": "stream",
     "text": [
      " 28%|████████████████▏                                          | 33/120 [5:32:43<14:10:38, 586.65s/it]"
     ]
    },
    {
     "name": "stdout",
     "output_type": "stream",
     "text": [
      "Score: 0.9787640213019216\n",
      "Running {'n_clusters': 3, 'max_iter': 50, 'tol': 1e-07, 'metric': 'euclidean', 'dtw_inertia': False}\n"
     ]
    },
    {
     "name": "stderr",
     "output_type": "stream",
     "text": [
      " 28%|█████████████████                                           | 34/120 [5:32:45<9:49:34, 411.33s/it]"
     ]
    },
    {
     "name": "stdout",
     "output_type": "stream",
     "text": [
      "Score: 0.9448996120856867\n",
      "Running {'n_clusters': 3, 'max_iter': 50, 'tol': 1e-07, 'metric': 'dtw', 'dtw_inertia': True}\n"
     ]
    },
    {
     "name": "stderr",
     "output_type": "stream",
     "text": [
      " 29%|█████████████████▏                                         | 35/120 [5:54:19<15:57:47, 676.09s/it]"
     ]
    },
    {
     "name": "stdout",
     "output_type": "stream",
     "text": [
      "Score: 0.9438960853000157\n",
      "Running {'n_clusters': 3, 'max_iter': 50, 'tol': 1e-07, 'metric': 'dtw', 'dtw_inertia': False}\n"
     ]
    },
    {
     "name": "stderr",
     "output_type": "stream",
     "text": [
      " 30%|█████████████████▋                                         | 36/120 [6:15:16<19:50:15, 850.19s/it]"
     ]
    },
    {
     "name": "stdout",
     "output_type": "stream",
     "text": [
      "Score: 0.9444380387953178\n",
      "Running {'n_clusters': 3, 'max_iter': 100, 'tol': 1e-05, 'metric': 'euclidean', 'dtw_inertia': True}\n"
     ]
    },
    {
     "name": "stderr",
     "output_type": "stream",
     "text": [
      " 31%|██████████████████▏                                        | 37/120 [6:15:23<13:46:11, 597.25s/it]"
     ]
    },
    {
     "name": "stdout",
     "output_type": "stream",
     "text": [
      "Score: 0.9449000742986388\n",
      "Running {'n_clusters': 3, 'max_iter': 100, 'tol': 1e-05, 'metric': 'euclidean', 'dtw_inertia': False}\n"
     ]
    },
    {
     "name": "stderr",
     "output_type": "stream",
     "text": [
      " 32%|███████████████████                                         | 38/120 [6:15:25<9:32:22, 418.82s/it]"
     ]
    },
    {
     "name": "stdout",
     "output_type": "stream",
     "text": [
      "Score: 0.9344325386587379\n",
      "Running {'n_clusters': 3, 'max_iter': 100, 'tol': 1e-05, 'metric': 'dtw', 'dtw_inertia': True}\n"
     ]
    },
    {
     "name": "stderr",
     "output_type": "stream",
     "text": [
      " 32%|███████████████████▏                                       | 39/120 [6:36:36<15:10:37, 674.54s/it]"
     ]
    },
    {
     "name": "stdout",
     "output_type": "stream",
     "text": [
      "Score: 0.9438960853000157\n",
      "Running {'n_clusters': 3, 'max_iter': 100, 'tol': 1e-05, 'metric': 'dtw', 'dtw_inertia': False}\n"
     ]
    },
    {
     "name": "stderr",
     "output_type": "stream",
     "text": [
      " 33%|███████████████████▋                                       | 40/120 [6:57:13<18:44:23, 843.29s/it]"
     ]
    },
    {
     "name": "stdout",
     "output_type": "stream",
     "text": [
      "Score: 0.9537392902890908\n",
      "Running {'n_clusters': 3, 'max_iter': 100, 'tol': 1e-06, 'metric': 'euclidean', 'dtw_inertia': True}\n"
     ]
    },
    {
     "name": "stderr",
     "output_type": "stream",
     "text": [
      " 34%|████████████████████▏                                      | 41/120 [6:57:18<12:59:05, 591.71s/it]"
     ]
    },
    {
     "name": "stdout",
     "output_type": "stream",
     "text": [
      "Score: 0.9787640213019216\n",
      "Running {'n_clusters': 3, 'max_iter': 100, 'tol': 1e-06, 'metric': 'euclidean', 'dtw_inertia': False}\n"
     ]
    },
    {
     "name": "stderr",
     "output_type": "stream",
     "text": [
      " 35%|█████████████████████                                       | 42/120 [6:57:20<8:59:20, 414.88s/it]"
     ]
    },
    {
     "name": "stdout",
     "output_type": "stream",
     "text": [
      "Score: 0.9513253281507986\n",
      "Running {'n_clusters': 3, 'max_iter': 100, 'tol': 1e-06, 'metric': 'dtw', 'dtw_inertia': True}\n"
     ]
    },
    {
     "name": "stderr",
     "output_type": "stream",
     "text": [
      " 36%|█████████████████████▏                                     | 43/120 [7:18:07<14:12:29, 664.28s/it]"
     ]
    },
    {
     "name": "stdout",
     "output_type": "stream",
     "text": [
      "Score: 0.9444380387953178\n",
      "Running {'n_clusters': 3, 'max_iter': 100, 'tol': 1e-06, 'metric': 'dtw', 'dtw_inertia': False}\n"
     ]
    },
    {
     "name": "stderr",
     "output_type": "stream",
     "text": [
      " 37%|█████████████████████▋                                     | 44/120 [7:38:56<17:43:53, 839.91s/it]"
     ]
    },
    {
     "name": "stdout",
     "output_type": "stream",
     "text": [
      "Score: 0.9438960853000157\n",
      "Running {'n_clusters': 3, 'max_iter': 100, 'tol': 1e-07, 'metric': 'euclidean', 'dtw_inertia': True}\n"
     ]
    },
    {
     "name": "stderr",
     "output_type": "stream",
     "text": [
      " 38%|██████████████████████▏                                    | 45/120 [7:39:01<12:16:43, 589.38s/it]"
     ]
    },
    {
     "name": "stdout",
     "output_type": "stream",
     "text": [
      "Score: 0.9787640213019216\n",
      "Running {'n_clusters': 3, 'max_iter': 100, 'tol': 1e-07, 'metric': 'euclidean', 'dtw_inertia': False}\n"
     ]
    },
    {
     "name": "stderr",
     "output_type": "stream",
     "text": [
      " 38%|███████████████████████                                     | 46/120 [7:39:03<8:29:36, 413.20s/it]"
     ]
    },
    {
     "name": "stdout",
     "output_type": "stream",
     "text": [
      "Score: 0.9787640213019216\n",
      "Running {'n_clusters': 3, 'max_iter': 100, 'tol': 1e-07, 'metric': 'dtw', 'dtw_inertia': True}\n"
     ]
    },
    {
     "name": "stderr",
     "output_type": "stream",
     "text": [
      " 38%|██████████████████████▌                                    | 46/120 [7:59:58<12:52:08, 626.07s/it]\n"
     ]
    },
    {
     "ename": "KeyboardInterrupt",
     "evalue": "",
     "output_type": "error",
     "traceback": [
      "\u001b[1;31m---------------------------------------------------------------------------\u001b[0m",
      "\u001b[1;31mKeyboardInterrupt\u001b[0m                         Traceback (most recent call last)",
      "\u001b[1;32m~\\AppData\\Local\\Temp/ipykernel_26516/938823704.py\u001b[0m in \u001b[0;36m<module>\u001b[1;34m\u001b[0m\n\u001b[0;32m     10\u001b[0m \u001b[0mresults_german\u001b[0m \u001b[1;33m=\u001b[0m \u001b[0mgridsearch_clustering\u001b[0m\u001b[1;33m(\u001b[0m\u001b[0mTimeSeriesKMeans\u001b[0m\u001b[1;33m,\u001b[0m \u001b[0mparams\u001b[0m\u001b[1;33m,\u001b[0m \u001b[0mtime_series_dataset_german\u001b[0m\u001b[1;33m)\u001b[0m\u001b[1;33m\u001b[0m\u001b[1;33m\u001b[0m\u001b[0m\n\u001b[0;32m     11\u001b[0m \u001b[0mprint\u001b[0m\u001b[1;33m(\u001b[0m\u001b[1;34m\"\\nRunning Math...\"\u001b[0m\u001b[1;33m)\u001b[0m\u001b[1;33m\u001b[0m\u001b[1;33m\u001b[0m\u001b[0m\n\u001b[1;32m---> 12\u001b[1;33m \u001b[0mresults_math\u001b[0m \u001b[1;33m=\u001b[0m \u001b[0mgridsearch_clustering\u001b[0m\u001b[1;33m(\u001b[0m\u001b[0mTimeSeriesKMeans\u001b[0m\u001b[1;33m,\u001b[0m \u001b[0mparams\u001b[0m\u001b[1;33m,\u001b[0m \u001b[0mtime_series_dataset_math\u001b[0m\u001b[1;33m)\u001b[0m\u001b[1;33m\u001b[0m\u001b[1;33m\u001b[0m\u001b[0m\n\u001b[0m",
      "\u001b[1;32m~\\AppData\\Local\\Temp/ipykernel_26516/1989355019.py\u001b[0m in \u001b[0;36mgridsearch_clustering\u001b[1;34m(model_class, params, data, scoring_func)\u001b[0m\n\u001b[0;32m     22\u001b[0m         \u001b[1;32melse\u001b[0m\u001b[1;33m:\u001b[0m \u001b[0mmetric\u001b[0m\u001b[1;33m=\u001b[0m\u001b[1;32mNone\u001b[0m\u001b[1;33m\u001b[0m\u001b[1;33m\u001b[0m\u001b[0m\n\u001b[0;32m     23\u001b[0m \u001b[1;33m\u001b[0m\u001b[0m\n\u001b[1;32m---> 24\u001b[1;33m         \u001b[0mscore\u001b[0m \u001b[1;33m=\u001b[0m \u001b[0mts_silhouette_score\u001b[0m\u001b[1;33m(\u001b[0m\u001b[0mdata\u001b[0m\u001b[1;33m,\u001b[0m \u001b[0mlabels\u001b[0m\u001b[1;33m,\u001b[0m \u001b[0mmetric\u001b[0m\u001b[1;33m=\u001b[0m\u001b[0mmetric\u001b[0m\u001b[1;33m)\u001b[0m\u001b[1;33m\u001b[0m\u001b[1;33m\u001b[0m\u001b[0m\n\u001b[0m\u001b[0;32m     25\u001b[0m         \u001b[0mprint\u001b[0m\u001b[1;33m(\u001b[0m\u001b[1;34mf\"Score: {score}\"\u001b[0m\u001b[1;33m)\u001b[0m\u001b[1;33m\u001b[0m\u001b[1;33m\u001b[0m\u001b[0m\n\u001b[0;32m     26\u001b[0m \u001b[1;33m\u001b[0m\u001b[0m\n",
      "\u001b[1;32m~\\anaconda3\\envs\\plt\\lib\\site-packages\\tslearn\\clustering\\utils.py\u001b[0m in \u001b[0;36msilhouette_score\u001b[1;34m(X, labels, metric, sample_size, metric_params, n_jobs, verbose, random_state, **kwds)\u001b[0m\n\u001b[0;32m    171\u001b[0m         \u001b[0msklearn_X\u001b[0m \u001b[1;33m=\u001b[0m \u001b[0mX\u001b[0m\u001b[1;33m\u001b[0m\u001b[1;33m\u001b[0m\u001b[0m\n\u001b[0;32m    172\u001b[0m     \u001b[1;32melif\u001b[0m \u001b[0mmetric\u001b[0m \u001b[1;33m==\u001b[0m \u001b[1;34m\"dtw\"\u001b[0m \u001b[1;32mor\u001b[0m \u001b[0mmetric\u001b[0m \u001b[1;32mis\u001b[0m \u001b[1;32mNone\u001b[0m\u001b[1;33m:\u001b[0m\u001b[1;33m\u001b[0m\u001b[1;33m\u001b[0m\u001b[0m\n\u001b[1;32m--> 173\u001b[1;33m         sklearn_X = cdist_dtw(X, n_jobs=n_jobs, verbose=verbose,\n\u001b[0m\u001b[0;32m    174\u001b[0m                               **metric_params_)\n\u001b[0;32m    175\u001b[0m     \u001b[1;32melif\u001b[0m \u001b[0mmetric\u001b[0m \u001b[1;33m==\u001b[0m \u001b[1;34m\"softdtw\"\u001b[0m\u001b[1;33m:\u001b[0m\u001b[1;33m\u001b[0m\u001b[1;33m\u001b[0m\u001b[0m\n",
      "\u001b[1;32m~\\anaconda3\\envs\\plt\\lib\\site-packages\\tslearn\\metrics\\dtw_variants.py\u001b[0m in \u001b[0;36mcdist_dtw\u001b[1;34m(dataset1, dataset2, global_constraint, sakoe_chiba_radius, itakura_max_slope, n_jobs, verbose)\u001b[0m\n\u001b[0;32m   1222\u001b[0m            \u001b[0mSignal\u001b[0m \u001b[0mProcessing\u001b[0m\u001b[1;33m,\u001b[0m \u001b[0mvol\u001b[0m\u001b[1;33m.\u001b[0m \u001b[1;36m26\u001b[0m\u001b[1;33m(\u001b[0m\u001b[1;36m1\u001b[0m\u001b[1;33m)\u001b[0m\u001b[1;33m,\u001b[0m \u001b[0mpp\u001b[0m\u001b[1;33m.\u001b[0m \u001b[1;36m43\u001b[0m\u001b[1;33m-\u001b[0m\u001b[1;33m-\u001b[0m\u001b[1;36m49\u001b[0m\u001b[1;33m,\u001b[0m \u001b[1;36m1978.\u001b[0m\u001b[1;33m\u001b[0m\u001b[1;33m\u001b[0m\u001b[0m\n\u001b[0;32m   1223\u001b[0m     \"\"\"  # noqa: E501\n\u001b[1;32m-> 1224\u001b[1;33m     return _cdist_generic(dist_fun=dtw, dataset1=dataset1, dataset2=dataset2,\n\u001b[0m\u001b[0;32m   1225\u001b[0m                           \u001b[0mn_jobs\u001b[0m\u001b[1;33m=\u001b[0m\u001b[0mn_jobs\u001b[0m\u001b[1;33m,\u001b[0m \u001b[0mverbose\u001b[0m\u001b[1;33m=\u001b[0m\u001b[0mverbose\u001b[0m\u001b[1;33m,\u001b[0m\u001b[1;33m\u001b[0m\u001b[1;33m\u001b[0m\u001b[0m\n\u001b[0;32m   1226\u001b[0m                           \u001b[0mcompute_diagonal\u001b[0m\u001b[1;33m=\u001b[0m\u001b[1;32mFalse\u001b[0m\u001b[1;33m,\u001b[0m\u001b[1;33m\u001b[0m\u001b[1;33m\u001b[0m\u001b[0m\n",
      "\u001b[1;32m~\\anaconda3\\envs\\plt\\lib\\site-packages\\tslearn\\metrics\\utils.py\u001b[0m in \u001b[0;36m_cdist_generic\u001b[1;34m(dist_fun, dataset1, dataset2, n_jobs, verbose, compute_diagonal, dtype, *args, **kwargs)\u001b[0m\n\u001b[0;32m     60\u001b[0m                                      \u001b[0mk\u001b[0m\u001b[1;33m=\u001b[0m\u001b[1;36m0\u001b[0m \u001b[1;32mif\u001b[0m \u001b[0mcompute_diagonal\u001b[0m \u001b[1;32melse\u001b[0m \u001b[1;36m1\u001b[0m\u001b[1;33m,\u001b[0m\u001b[1;33m\u001b[0m\u001b[1;33m\u001b[0m\u001b[0m\n\u001b[0;32m     61\u001b[0m                                      m=len(dataset1))\n\u001b[1;32m---> 62\u001b[1;33m         matrix[indices] = Parallel(n_jobs=n_jobs,\n\u001b[0m\u001b[0;32m     63\u001b[0m                                    \u001b[0mprefer\u001b[0m\u001b[1;33m=\u001b[0m\u001b[1;34m\"threads\"\u001b[0m\u001b[1;33m,\u001b[0m\u001b[1;33m\u001b[0m\u001b[1;33m\u001b[0m\u001b[0m\n\u001b[0;32m     64\u001b[0m                                    \u001b[0mverbose\u001b[0m\u001b[1;33m=\u001b[0m\u001b[0mverbose\u001b[0m\u001b[1;33m)\u001b[0m\u001b[1;33m(\u001b[0m\u001b[1;33m\u001b[0m\u001b[1;33m\u001b[0m\u001b[0m\n",
      "\u001b[1;32m~\\anaconda3\\envs\\plt\\lib\\site-packages\\joblib\\parallel.py\u001b[0m in \u001b[0;36m__call__\u001b[1;34m(self, iterable)\u001b[0m\n\u001b[0;32m   1054\u001b[0m \u001b[1;33m\u001b[0m\u001b[0m\n\u001b[0;32m   1055\u001b[0m             \u001b[1;32mwith\u001b[0m \u001b[0mself\u001b[0m\u001b[1;33m.\u001b[0m\u001b[0m_backend\u001b[0m\u001b[1;33m.\u001b[0m\u001b[0mretrieval_context\u001b[0m\u001b[1;33m(\u001b[0m\u001b[1;33m)\u001b[0m\u001b[1;33m:\u001b[0m\u001b[1;33m\u001b[0m\u001b[1;33m\u001b[0m\u001b[0m\n\u001b[1;32m-> 1056\u001b[1;33m                 \u001b[0mself\u001b[0m\u001b[1;33m.\u001b[0m\u001b[0mretrieve\u001b[0m\u001b[1;33m(\u001b[0m\u001b[1;33m)\u001b[0m\u001b[1;33m\u001b[0m\u001b[1;33m\u001b[0m\u001b[0m\n\u001b[0m\u001b[0;32m   1057\u001b[0m             \u001b[1;31m# Make sure that we get a last message telling us we are done\u001b[0m\u001b[1;33m\u001b[0m\u001b[1;33m\u001b[0m\u001b[0m\n\u001b[0;32m   1058\u001b[0m             \u001b[0melapsed_time\u001b[0m \u001b[1;33m=\u001b[0m \u001b[0mtime\u001b[0m\u001b[1;33m.\u001b[0m\u001b[0mtime\u001b[0m\u001b[1;33m(\u001b[0m\u001b[1;33m)\u001b[0m \u001b[1;33m-\u001b[0m \u001b[0mself\u001b[0m\u001b[1;33m.\u001b[0m\u001b[0m_start_time\u001b[0m\u001b[1;33m\u001b[0m\u001b[1;33m\u001b[0m\u001b[0m\n",
      "\u001b[1;32m~\\anaconda3\\envs\\plt\\lib\\site-packages\\joblib\\parallel.py\u001b[0m in \u001b[0;36mretrieve\u001b[1;34m(self)\u001b[0m\n\u001b[0;32m    929\u001b[0m             \u001b[1;31m# the use of the lock\u001b[0m\u001b[1;33m\u001b[0m\u001b[1;33m\u001b[0m\u001b[0m\n\u001b[0;32m    930\u001b[0m             \u001b[1;32mwith\u001b[0m \u001b[0mself\u001b[0m\u001b[1;33m.\u001b[0m\u001b[0m_lock\u001b[0m\u001b[1;33m:\u001b[0m\u001b[1;33m\u001b[0m\u001b[1;33m\u001b[0m\u001b[0m\n\u001b[1;32m--> 931\u001b[1;33m                 \u001b[0mjob\u001b[0m \u001b[1;33m=\u001b[0m \u001b[0mself\u001b[0m\u001b[1;33m.\u001b[0m\u001b[0m_jobs\u001b[0m\u001b[1;33m.\u001b[0m\u001b[0mpop\u001b[0m\u001b[1;33m(\u001b[0m\u001b[1;36m0\u001b[0m\u001b[1;33m)\u001b[0m\u001b[1;33m\u001b[0m\u001b[1;33m\u001b[0m\u001b[0m\n\u001b[0m\u001b[0;32m    932\u001b[0m \u001b[1;33m\u001b[0m\u001b[0m\n\u001b[0;32m    933\u001b[0m             \u001b[1;32mtry\u001b[0m\u001b[1;33m:\u001b[0m\u001b[1;33m\u001b[0m\u001b[1;33m\u001b[0m\u001b[0m\n",
      "\u001b[1;31mKeyboardInterrupt\u001b[0m: "
     ]
    }
   ],
   "source": [
    "params = {\n",
    "    'n_clusters':[2, 3, 4, 5, 6],\n",
    "    'max_iter':[50, 100],\n",
    "    'tol':[1e-5, 1e-6, 1e-7],\n",
    "    'metric':['euclidean', 'dtw'], # 'softdtw' causes NaN error ?!\n",
    "    'dtw_inertia':[True, False]\n",
    "}\n",
    "\n",
    "print(\"Runnning German...\")\n",
    "results_german = gridsearch_clustering(TimeSeriesKMeans, params, time_series_dataset_german)\n",
    "print(\"\\nRunning Math...\")\n",
    "results_math = gridsearch_clustering(TimeSeriesKMeans, params, time_series_dataset_math)"
   ]
  },
  {
   "cell_type": "markdown",
   "id": "844b4e29-23fd-402e-857e-a034d1876fa4",
   "metadata": {},
   "source": [
    "<span style='color:red'>**Note**</span>\n",
    "\n",
    "Due to time limitations linked to the clustering using the DTW metric, we could not run the tests with the math split. Therefore we draw our conclusions from the fully computed (~10 hours) german split experiments."
   ]
  },
  {
   "cell_type": "code",
   "execution_count": 295,
   "id": "a8a41e82-abb1-46ca-b4a1-99bf54727227",
   "metadata": {},
   "outputs": [
    {
     "data": {
      "image/png": "[encoded data removed]",
      "text/plain": [
       "<Figure size 1080x360 with 1 Axes>"
      ]
     },
     "metadata": {
      "needs_background": "light"
     },
     "output_type": "display_data"
    }
   ],
   "source": [
    "plot_results(results_german)"
   ]
  },
  {
   "cell_type": "code",
   "execution_count": 253,
   "id": "3c54029b-6148-41eb-a0a1-1c460a6ddd0b",
   "metadata": {},
   "outputs": [
    {
     "name": "stdin",
     "output_type": "stream",
     "text": [
      "Are you sure that you want to save KMeans_experiments_GERMAN.pickle in ../../data/processed/MATH_GERMAN_split/?\n",
      "[yes|no] yes\n"
     ]
    }
   ],
   "source": [
    "# Save results\n",
    "# Creating folder if non existent\n",
    "folder = 'MATH_GERMAN_split/'\n",
    "path = DATA_DIR + 'processed/'+folder\n",
    "\n",
    "if folder.split('/')[0] not in os.listdir(DATA_DIR + 'processed/'):\n",
    "    os.mkdir(path)\n",
    "    \n",
    "# Saving data\n",
    "filename = 'KMeans_experiments_GERMAN.pickle'\n",
    "_check = input(f'Are you sure that you want to save {filename} in {path}?\\n[yes|no]')\n",
    "if _check == \"yes\":\n",
    "    with open(path + filename, \"wb\") as f:\n",
    "        pickle.dump(results_german, f)"
   ]
  },
  {
   "cell_type": "code",
   "execution_count": 300,
   "id": "81b63221-c7df-41d1-8a52-42874c21cd26",
   "metadata": {},
   "outputs": [],
   "source": [
    "# Load results\n",
    "folder = 'MATH_GERMAN_split/'\n",
    "path = DATA_DIR + 'processed/'+folder\n",
    "filename = 'KMeans_experiments_GERMAN.pickle'\n",
    "\n",
    "with open(path + filename, \"rb\") as f:\n",
    "        results_german = pickle.load(f)"
   ]
  },
  {
   "cell_type": "code",
   "execution_count": 302,
   "id": "b52aca53-a805-45e5-ab24-0e764a938ee2",
   "metadata": {},
   "outputs": [],
   "source": [
    "# free up memory\n",
    "del results_german\n",
    "del results_math"
   ]
  },
  {
   "cell_type": "markdown",
   "id": "0fb8faf8-2c9f-4e63-a9d2-f6ac6514ead6",
   "metadata": {},
   "source": [
    "#### KernelKMeans\n",
    "\n",
    "Model parameters to grid-search:\n",
    "- `n_clusters`: number of clusters,\n",
    "- `kernel`: kernel used to apply kernel trick,"
   ]
  },
  {
   "cell_type": "code",
   "execution_count": 251,
   "id": "a3889264-bf2b-408f-8367-1a412bf5ca1c",
   "metadata": {},
   "outputs": [
    {
     "name": "stdin",
     "output_type": "stream",
     "text": [
      "!!! We paused you here in case you are reexecuting the whole notebook. Are you certain that you want to run the next cell again?\n",
      "(Your answer does not matter. Please stop the execution now if you do not want the next cell to run.) okok\n"
     ]
    }
   ],
   "source": [
    "# Safekeep \n",
    "_check = input(\"!!! We paused you here in case you are reexecuting the whole notebook. Are you certain that you want to run the next cell again?\\n(Your answer does not matter. Please stop the execution now if you do not want the next cell to run.)\")"
   ]
  },
  {
   "cell_type": "code",
   "execution_count": 259,
   "id": "afc95329-a657-4896-87c9-1df1e02eb4ed",
   "metadata": {
    "tags": []
   },
   "outputs": [
    {
     "name": "stdout",
     "output_type": "stream",
     "text": [
      "Runnning German...\n",
      "Performing 12 iterations in total.\n"
     ]
    },
    {
     "name": "stderr",
     "output_type": "stream",
     "text": [
      "  0%|                                                                           | 0/12 [00:00<?, ?it/s]"
     ]
    },
    {
     "name": "stdout",
     "output_type": "stream",
     "text": [
      "Running {'n_clusters': 2, 'kernel': 'gak'}\n"
     ]
    },
    {
     "name": "stderr",
     "output_type": "stream",
     "text": [
      "  8%|█████▎                                                          | 1/12 [14:03<2:34:43, 843.97s/it]"
     ]
    },
    {
     "name": "stdout",
     "output_type": "stream",
     "text": [
      "Score: -0.0013027825164103155\n",
      "Running {'n_clusters': 2, 'kernel': 'linear'}\n"
     ]
    },
    {
     "name": "stderr",
     "output_type": "stream",
     "text": [
      " 17%|██████████▋                                                     | 2/12 [17:34<1:18:35, 471.55s/it]"
     ]
    },
    {
     "name": "stdout",
     "output_type": "stream",
     "text": [
      "Score: 0.025378857522340457\n",
      "Running {'n_clusters': 2, 'kernel': 'poly'}\n"
     ]
    },
    {
     "name": "stderr",
     "output_type": "stream",
     "text": [
      " 25%|████████████████▌                                                 | 3/12 [21:46<55:40, 371.20s/it]"
     ]
    },
    {
     "name": "stdout",
     "output_type": "stream",
     "text": [
      "Score: 0.0022763185027867383\n",
      "Running {'n_clusters': 2, 'kernel': 'sigmoid'}\n"
     ]
    },
    {
     "name": "stderr",
     "output_type": "stream",
     "text": [
      " 33%|██████████████████████                                            | 4/12 [26:05<43:35, 326.99s/it]"
     ]
    },
    {
     "name": "stdout",
     "output_type": "stream",
     "text": [
      "Score: -0.034648431181547354\n",
      "Running {'n_clusters': 3, 'kernel': 'gak'}\n"
     ]
    },
    {
     "name": "stderr",
     "output_type": "stream",
     "text": [
      " 42%|███████████████████████████▌                                      | 5/12 [34:29<45:33, 390.57s/it]"
     ]
    },
    {
     "name": "stdout",
     "output_type": "stream",
     "text": [
      "Score: -0.23358335551781542\n",
      "Running {'n_clusters': 3, 'kernel': 'linear'}\n"
     ]
    },
    {
     "name": "stderr",
     "output_type": "stream",
     "text": [
      " 50%|█████████████████████████████████                                 | 6/12 [37:50<32:37, 326.28s/it]"
     ]
    },
    {
     "name": "stdout",
     "output_type": "stream",
     "text": [
      "Score: -0.1956853802715415\n",
      "Running {'n_clusters': 3, 'kernel': 'poly'}\n"
     ]
    },
    {
     "name": "stderr",
     "output_type": "stream",
     "text": [
      " 58%|██████████████████████████████████████▌                           | 7/12 [41:14<23:51, 286.21s/it]"
     ]
    },
    {
     "name": "stdout",
     "output_type": "stream",
     "text": [
      "Score: -0.06050715542715414\n",
      "Running {'n_clusters': 3, 'kernel': 'sigmoid'}\n"
     ]
    },
    {
     "name": "stderr",
     "output_type": "stream",
     "text": [
      " 67%|████████████████████████████████████████████                      | 8/12 [44:30<17:09, 257.48s/it]"
     ]
    },
    {
     "name": "stdout",
     "output_type": "stream",
     "text": [
      "Score: -0.07057777004136194\n",
      "Running {'n_clusters': 4, 'kernel': 'gak'}\n"
     ]
    },
    {
     "name": "stderr",
     "output_type": "stream",
     "text": [
      " 75%|█████████████████████████████████████████████████▌                | 9/12 [51:58<15:51, 317.06s/it]"
     ]
    },
    {
     "name": "stdout",
     "output_type": "stream",
     "text": [
      "Score: -0.1552783429376966\n",
      "Running {'n_clusters': 4, 'kernel': 'linear'}\n"
     ]
    },
    {
     "name": "stderr",
     "output_type": "stream",
     "text": [
      " 83%|██████████████████████████████████████████████████████▏          | 10/12 [55:09<09:16, 278.33s/it]"
     ]
    },
    {
     "name": "stdout",
     "output_type": "stream",
     "text": [
      "Score: -0.10189288972297102\n",
      "Running {'n_clusters': 4, 'kernel': 'poly'}\n"
     ]
    },
    {
     "name": "stderr",
     "output_type": "stream",
     "text": [
      " 92%|███████████████████████████████████████████████████████████▌     | 11/12 [58:22<04:12, 252.05s/it]"
     ]
    },
    {
     "name": "stdout",
     "output_type": "stream",
     "text": [
      "Score: -0.23346163793042515\n",
      "Running {'n_clusters': 4, 'kernel': 'sigmoid'}\n"
     ]
    },
    {
     "name": "stderr",
     "output_type": "stream",
     "text": [
      "100%|███████████████████████████████████████████████████████████████| 12/12 [1:01:34<00:00, 307.90s/it]\n"
     ]
    },
    {
     "name": "stdout",
     "output_type": "stream",
     "text": [
      "Score: -0.21583182866309736\n",
      "\n",
      "Running Math...\n",
      "Performing 12 iterations in total.\n"
     ]
    },
    {
     "name": "stderr",
     "output_type": "stream",
     "text": [
      "  0%|                                                                           | 0/12 [00:00<?, ?it/s]"
     ]
    },
    {
     "name": "stdout",
     "output_type": "stream",
     "text": [
      "Running {'n_clusters': 2, 'kernel': 'gak'}\n"
     ]
    },
    {
     "name": "stderr",
     "output_type": "stream",
     "text": [
      "  8%|█████                                                       | 1/12 [1:47:58<19:47:44, 6478.58s/it]"
     ]
    },
    {
     "name": "stdout",
     "output_type": "stream",
     "text": [
      "Score: -0.0016749457814779507\n",
      "Running {'n_clusters': 2, 'kernel': 'linear'}\n"
     ]
    },
    {
     "name": "stderr",
     "output_type": "stream",
     "text": [
      " 17%|██████████                                                  | 2/12 [2:27:15<11:15:43, 4054.32s/it]"
     ]
    },
    {
     "name": "stdout",
     "output_type": "stream",
     "text": [
      "Score: -0.002929844177379404\n",
      "Running {'n_clusters': 2, 'kernel': 'poly'}\n"
     ]
    },
    {
     "name": "stderr",
     "output_type": "stream",
     "text": [
      " 25%|███████████████▎                                             | 3/12 [3:06:54<8:13:21, 3289.03s/it]"
     ]
    },
    {
     "name": "stdout",
     "output_type": "stream",
     "text": [
      "Score: 0.0009378230642036003\n",
      "Running {'n_clusters': 2, 'kernel': 'sigmoid'}\n"
     ]
    },
    {
     "name": "stderr",
     "output_type": "stream",
     "text": [
      " 33%|████████████████████▎                                        | 4/12 [3:39:57<6:09:48, 2773.58s/it]"
     ]
    },
    {
     "name": "stdout",
     "output_type": "stream",
     "text": [
      "Score: 0.13206496729852124\n",
      "Running {'n_clusters': 3, 'kernel': 'gak'}\n"
     ]
    },
    {
     "name": "stderr",
     "output_type": "stream",
     "text": [
      " 42%|█████████████████████████▍                                   | 5/12 [4:45:52<6:13:15, 3199.39s/it]"
     ]
    },
    {
     "name": "stdout",
     "output_type": "stream",
     "text": [
      "Score: -0.13258242126511408\n",
      "Running {'n_clusters': 3, 'kernel': 'linear'}\n"
     ]
    },
    {
     "name": "stderr",
     "output_type": "stream",
     "text": [
      " 50%|██████████████████████████████▌                              | 6/12 [5:11:51<4:24:10, 2641.82s/it]"
     ]
    },
    {
     "name": "stdout",
     "output_type": "stream",
     "text": [
      "Score: -0.04832047797159122\n",
      "Running {'n_clusters': 3, 'kernel': 'poly'}\n"
     ]
    },
    {
     "name": "stderr",
     "output_type": "stream",
     "text": [
      " 58%|███████████████████████████████████▌                         | 7/12 [5:37:13<3:09:38, 2275.78s/it]"
     ]
    },
    {
     "name": "stdout",
     "output_type": "stream",
     "text": [
      "Score: -0.18379394817161593\n",
      "Running {'n_clusters': 3, 'kernel': 'sigmoid'}\n"
     ]
    },
    {
     "name": "stderr",
     "output_type": "stream",
     "text": [
      " 67%|████████████████████████████████████████▋                    | 8/12 [6:03:46<2:17:12, 2058.20s/it]"
     ]
    },
    {
     "name": "stdout",
     "output_type": "stream",
     "text": [
      "Score: -0.08957777610035977\n",
      "Running {'n_clusters': 4, 'kernel': 'gak'}\n"
     ]
    },
    {
     "name": "stderr",
     "output_type": "stream",
     "text": [
      " 75%|█████████████████████████████████████████████▊               | 9/12 [7:02:07<2:05:28, 2509.37s/it]"
     ]
    },
    {
     "name": "stdout",
     "output_type": "stream",
     "text": [
      "Score: -0.1563354252114245\n",
      "Running {'n_clusters': 4, 'kernel': 'linear'}\n"
     ]
    },
    {
     "name": "stderr",
     "output_type": "stream",
     "text": [
      " 83%|█████████████████████████████████████████████████▏         | 10/12 [10:20:46<3:00:28, 5414.21s/it]"
     ]
    },
    {
     "name": "stdout",
     "output_type": "stream",
     "text": [
      "Score: -0.17940835139766365\n",
      "Running {'n_clusters': 4, 'kernel': 'poly'}\n"
     ]
    },
    {
     "name": "stderr",
     "output_type": "stream",
     "text": [
      " 92%|██████████████████████████████████████████████████████     | 11/12 [11:29:06<1:23:32, 5012.10s/it]"
     ]
    },
    {
     "name": "stdout",
     "output_type": "stream",
     "text": [
      "Score: -0.12000533320787618\n",
      "Running {'n_clusters': 4, 'kernel': 'sigmoid'}\n"
     ]
    },
    {
     "name": "stderr",
     "output_type": "stream",
     "text": [
      "100%|█████████████████████████████████████████████████████████████| 12/12 [13:43:21<00:00, 4116.81s/it]"
     ]
    },
    {
     "name": "stdout",
     "output_type": "stream",
     "text": [
      "Score: -0.13023582897382294\n"
     ]
    },
    {
     "name": "stderr",
     "output_type": "stream",
     "text": [
      "\n"
     ]
    }
   ],
   "source": [
    "params = {\n",
    "    'n_clusters':[2, 3, 4],\n",
    "    'kernel':['gak', 'linear', 'poly', 'sigmoid']\n",
    "}\n",
    "\n",
    "print(\"Runnning German...\")\n",
    "results_german = gridsearch_clustering(KernelKMeans, params, time_series_dataset_german)\n",
    "print(\"\\nRunning Math...\")\n",
    "results_math = gridsearch_clustering(KernelKMeans, params, time_series_dataset_math)"
   ]
  },
  {
   "cell_type": "markdown",
   "id": "14be58dc-b9ce-4d85-b674-f3d5f052dcad",
   "metadata": {},
   "source": [
    "<span style='color:red'>**Note**</span>\n",
    "\n",
    "Due to time limitations linked to the clustering using the GAK kernel, we could not run the tests with the german split. Therefore we draw our conclusions from the fully computed (~13 hours) math split experiments."
   ]
  },
  {
   "cell_type": "code",
   "execution_count": 281,
   "id": "77336ba0-6af5-435c-b96f-94c2116d5b3b",
   "metadata": {},
   "outputs": [
    {
     "data": {
      "image/png": "[encoded data removed]",
      "text/plain": [
       "<Figure size 1080x360 with 1 Axes>"
      ]
     },
     "metadata": {
      "needs_background": "light"
     },
     "output_type": "display_data"
    }
   ],
   "source": [
    "plot_results(results_math, hue='kernel')"
   ]
  },
  {
   "cell_type": "code",
   "execution_count": 279,
   "id": "28a32d16-a4a8-4b94-9d57-5ca7c7220865",
   "metadata": {},
   "outputs": [
    {
     "name": "stdin",
     "output_type": "stream",
     "text": [
      "Are you sure that you want to save KernelKMeans_experiments_MATH.pickle in ../../data/processed/MATH_GERMAN_split/?\n",
      "[yes|no] yes\n"
     ]
    }
   ],
   "source": [
    "# Save results\n",
    "# Creating folder if non existent\n",
    "folder = 'MATH_GERMAN_split/'\n",
    "path = DATA_DIR + 'processed/'+folder\n",
    "\n",
    "if folder.split('/')[0] not in os.listdir(DATA_DIR + 'processed/'):\n",
    "    os.mkdir(path)\n",
    "    \n",
    "# Saving data\n",
    "filename = 'KernelKMeans_experiments_MATH.pickle'\n",
    "_check = input(f'Are you sure that you want to save {filename} in {path}?\\n[yes|no]')\n",
    "if _check == \"yes\":\n",
    "    with open(path + filename, \"wb\") as f:\n",
    "        pickle.dump(results_math, f)"
   ]
  },
  {
   "cell_type": "code",
   "execution_count": 301,
   "id": "8171cda9-240b-4455-8a6d-6b5f3c501ee6",
   "metadata": {},
   "outputs": [],
   "source": [
    "# Load results\n",
    "folder = 'MATH_GERMAN_split/'\n",
    "path = DATA_DIR + 'processed/'+folder\n",
    "filename = 'KernelKMeans_experiments_MATH.pickle'\n",
    "\n",
    "with open(path + filename, \"rb\") as f:\n",
    "        results_math = pickle.load(f)"
   ]
  },
  {
   "cell_type": "code",
   "execution_count": 282,
   "id": "36b0d6f1-d488-417c-aa68-709be17b0447",
   "metadata": {},
   "outputs": [],
   "source": [
    "# free up memory\n",
    "del results_german\n",
    "del results_math"
   ]
  },
  {
   "cell_type": "markdown",
   "id": "d1b02658-fe63-4337-89c2-6bb9a3d78b2d",
   "metadata": {},
   "source": [
    "#### Optimal Clustering\n",
    "\n",
    "The `KernelKMeans` clustering technique did not seem to yield good results. We observed that the silhouette scores for most configurations averaged out to 0. This can be interpreted as the cluster's centers do not qualify the data with any additional information.\n",
    "\n",
    "Therefore, we take the best parameter configuration from the `TimeSeriesKMeans` clustering. As discussed before, this configuration is chosen among the tests on the German dataset only as time constrained us in our experiments. We consider that the configuration will cluster the Math dataset in an sufficiently good fashion."
   ]
  },
  {
   "cell_type": "code",
   "execution_count": 283,
   "id": "ee4ecc29-1262-462d-8886-b5eee78b2737",
   "metadata": {},
   "outputs": [],
   "source": [
    "# Load results\n",
    "folder = 'MATH_GERMAN_split/'\n",
    "path = DATA_DIR + 'processed/'+folder\n",
    "filename = 'KMeans_experiments_GERMAN.pickle'\n",
    "\n",
    "with open(path + filename, \"rb\") as f:\n",
    "        results_german = pickle.load(f)"
   ]
  },
  {
   "cell_type": "code",
   "execution_count": 284,
   "id": "f9cd6011-fb9d-4848-b071-ee972c00bfcd",
   "metadata": {},
   "outputs": [
    {
     "name": "stdout",
     "output_type": "stream",
     "text": [
      "The optimal parameter configuration is the following:\n",
      "[TimeSeriesKMeans] {'n_clusters': 2, 'max_iter': 50, 'tol': 1e-05, 'metric': 'euclidean', 'dtw_inertia': True}\n",
      "Silhouette score: 0.986604170775415\n"
     ]
    }
   ],
   "source": [
    "# Extract optimal configuration\n",
    "optimal = sorted(results_german, key=lambda x : x[1], reverse=True)[0]\n",
    "print(f'The optimal parameter configuration is the following:\\n[TimeSeriesKMeans] {optimal[0]}')\n",
    "print(f'Silhouette score: {optimal[1]}')"
   ]
  },
  {
   "cell_type": "code",
   "execution_count": 303,
   "id": "76b200f8-e556-496d-ab24-42984c70ce77",
   "metadata": {},
   "outputs": [
    {
     "name": "stdout",
     "output_type": "stream",
     "text": [
      "{'n_clusters': 2, 'max_iter': 50, 'tol': 1e-05, 'metric': 'euclidean', 'dtw_inertia': True}\n",
      "First 5 german cluster labels (total:1374):\n",
      "[0 0 0 0 0]\n",
      "\n",
      "First 5 math cluster labels (total:2124):\n",
      "[0 0 0 0 0]\n"
     ]
    }
   ],
   "source": [
    "# Running the clustering for the optimal config\n",
    "optimal_params = optimal[0]\n",
    "print(optimal_params)\n",
    "model = TimeSeriesKMeans(**optimal_params)\n",
    "\n",
    "labels_german = model.fit_predict(time_series_dataset_german)\n",
    "labels_math = model.fit_predict(time_series_dataset_math)\n",
    "\n",
    "print(f\"First 5 german cluster labels (total:{len(labels_german)}):\\n{labels_german[:5]}\")\n",
    "print()\n",
    "print(f\"First 5 math cluster labels (total:{len(labels_math)}):\\n{labels_math[:5]}\")"
   ]
  },
  {
   "cell_type": "code",
   "execution_count": 304,
   "id": "9eed48e6-d65e-473f-8edf-725078f47181",
   "metadata": {},
   "outputs": [
    {
     "data": {
      "text/html": [
       "<div>\n",
       "<style scoped>\n",
       "    .dataframe tbody tr th:only-of-type {\n",
       "        vertical-align: middle;\n",
       "    }\n",
       "\n",
       "    .dataframe tbody tr th {\n",
       "        vertical-align: top;\n",
       "    }\n",
       "\n",
       "    .dataframe thead th {\n",
       "        text-align: right;\n",
       "    }\n",
       "</style>\n",
       "<table border=\"1\" class=\"dataframe\">\n",
       "  <thead>\n",
       "    <tr style=\"text-align: right;\">\n",
       "      <th></th>\n",
       "      <th>user_id</th>\n",
       "      <th>cluster_id</th>\n",
       "    </tr>\n",
       "  </thead>\n",
       "  <tbody>\n",
       "    <tr>\n",
       "      <th>0</th>\n",
       "      <td>387604.0</td>\n",
       "      <td>0</td>\n",
       "    </tr>\n",
       "    <tr>\n",
       "      <th>1</th>\n",
       "      <td>387885.0</td>\n",
       "      <td>0</td>\n",
       "    </tr>\n",
       "    <tr>\n",
       "      <th>2</th>\n",
       "      <td>387892.0</td>\n",
       "      <td>0</td>\n",
       "    </tr>\n",
       "  </tbody>\n",
       "</table>\n",
       "</div>"
      ],
      "text/plain": [
       "    user_id  cluster_id\n",
       "0  387604.0           0\n",
       "1  387885.0           0\n",
       "2  387892.0           0"
      ]
     },
     "execution_count": 304,
     "metadata": {},
     "output_type": "execute_result"
    }
   ],
   "source": [
    "# Concatenate the labels to the users\n",
    "users_german = [u for u, _ in time_series_german]\n",
    "users_math = [u for u, _ in time_series_math]\n",
    "\n",
    "assert(len(users_german) == len(labels_german)), \"Some users were not clustered in the German dataset.\"\n",
    "assert(len(users_math) == len(labels_math)), \"Some users were not clustered in the Math dataset.\"\n",
    "\n",
    "df_labels_german = pd.DataFrame(zip(users_german, labels_german), columns=['user_id', 'cluster_id'])\n",
    "df_labels_math = pd.DataFrame(zip(users_math, labels_math), columns=['user_id', 'cluster_id'])\n",
    "\n",
    "df_labels_german.head(3)"
   ]
  },
  {
   "cell_type": "code",
   "execution_count": 305,
   "id": "1939ae23-e90e-4fa6-abcc-9de515655c35",
   "metadata": {},
   "outputs": [
    {
     "name": "stdin",
     "output_type": "stream",
     "text": [
      "Are you certain that you want to save clustering_labels_german.pickle in ../../data/processed/MATH_GERMAN_split/?\n",
      "[yes|no] yes\n",
      "Are you certain that you want to save clustering_labels_math.pickle in ../../data/processed/MATH_GERMAN_split/?\n",
      "[yes|no] yes\n"
     ]
    }
   ],
   "source": [
    "# Save the data\n",
    "path = DATA_DIR + 'processed/MATH_GERMAN_split/'\n",
    "\n",
    "filename = 'clustering_labels_german.pickle'\n",
    "_check = input(f\"Are you certain that you want to save {filename} in {path}?\\n[yes|no]\")\n",
    "if _check == 'yes':\n",
    "    df_labels_german.to_pickle(path+filename)\n",
    "    \n",
    "filename = 'clustering_labels_math.pickle'\n",
    "_check = input(f\"Are you certain that you want to save {filename} in {path}?\\n[yes|no]\")\n",
    "if _check == 'yes':\n",
    "    df_labels_math.to_pickle(path+filename)"
   ]
  },
  {
   "cell_type": "markdown",
   "id": "ec777490",
   "metadata": {},
   "source": [
    "## Model Building"
   ]
  },
  {
   "cell_type": "code",
   "execution_count": null,
   "id": "c2e50090",
   "metadata": {},
   "outputs": [],
   "source": []
  },
  {
   "cell_type": "markdown",
   "id": "603f8a30",
   "metadata": {},
   "source": [
    "## Model Evaluation\n",
    "\n",
    "We are classifying the feature vectors according to wether they improved (`1`) or worsened (`0`) their mastery score."
   ]
  },
  {
   "cell_type": "code",
   "execution_count": null,
   "id": "30a9d02a",
   "metadata": {},
   "outputs": [],
   "source": []
  }
 ],
 "metadata": {
  "kernelspec": {
   "display_name": "Python 3 (ipykernel)",
   "language": "python",
   "name": "python3"
  },
  "language_info": {
   "codemirror_mode": {
    "name": "ipython",
    "version": 3
   },
   "file_extension": ".py",
   "mimetype": "text/x-python",
   "name": "python",
   "nbconvert_exporter": "python",
   "pygments_lexer": "ipython3",
   "version": "3.9.7"
  }
 },
 "nbformat": 4,
 "nbformat_minor": 5
}
