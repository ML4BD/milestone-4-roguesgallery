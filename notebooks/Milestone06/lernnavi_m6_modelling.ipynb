{
 "cells": [
  {
   "cell_type": "markdown",
   "id": "fba18a9c-99d5-4e37-ae01-34133d7b698a",
   "metadata": {},
   "source": [
    "# Milestone 6\n",
    "\n",
    "In this milestone, we implement some of the extensions mentioned in Milestone 5."
   ]
  },
  {
   "cell_type": "markdown",
   "id": "7b600922-3814-432e-ae1e-6623089c0a2b",
   "metadata": {},
   "source": [
    "## Recall of previous work\n",
    "\n",
    "Please refer to the [Milestone 4 Report](https://github.com/ML4BD/milestone-4-roguesgallery/blob/master/reports/Milestone%204%20Report.pdf) and the [Milestone 4 Notebook](https://github.com/ML4BD/milestone-4-roguesgallery/blob/master/notebooks/Milestone04/m4_lernnavi_roguesgallery.ipynb) for more details.\n",
    "\n",
    "---\n",
    "\n",
    "In Milestone 4, our objective was to predict the level check success of students with respect to their behavior on the **Lernnavi** learning platform. \n",
    "\n",
    "To this end, we **pre-processed** the data by removing students identified as inactive using criteria such as least number of actions per week. Then we selected a subset of features for each student and transformed their data into time series.<br>\n",
    "In an attempt to see if **regularity** helped categorize students into subgroups, we followed the procedure of [Shirvani Boroujeni, et al](https://infoscience.epfl.ch/record/218657/files/) to compute regularity features on online learning time series. We then clustered the students using the regularity metrics.<br>\n",
    "Finally, we trained multiple time series **classifiers** to predict wether a student would pass a level check or not. One classifier was trained per cluster and one over the whole data. We used 2 different classification techniques."
   ]
  },
  {
   "cell_type": "markdown",
   "id": "b09f7c2f-3f25-4398-842f-2306a48c9dab",
   "metadata": {},
   "source": [
    "## Implementations of this milestone"
   ]
  },
  {
   "cell_type": "markdown",
   "id": "33b88ca6-3fd4-4653-8fb3-2b999d49c960",
   "metadata": {},
   "source": [
    "For this milestone, we are planning on taking another approach to solving our research question. Indeed, in the first milestone, we demonstrated the **predictive potential of a user's behavior time series** for its **success in level checks**. For this, we clustered with respect to time-agnostic metrics and then classified the time series.\n",
    "\n",
    "Our second approach will be to cluster with respect to user time series and then classify using features derived from the markov modeling of users' behaviors.\n",
    "\n",
    "To this end, we will proceed as follows:\n",
    "\n",
    "1. Separate math and german-related actions in the data.\n",
    "\n",
    "2. Cluster the user's behaviors using time series clustering.\n",
    "\n",
    "3. Apply the markov chain modeling to the sequence of actions for each user.\n",
    "\n",
    "4. Train a logistic regression on the markov chain representation of the data.\n"
   ]
  },
  {
   "cell_type": "markdown",
   "id": "d829ad19-ce9d-4a6b-b0bb-bcfa8281b273",
   "metadata": {},
   "source": [
    "## Data Processing"
   ]
  },
  {
   "cell_type": "markdown",
   "id": "8709c61c-ba26-44ab-9625-17cc50a20062",
   "metadata": {},
   "source": [
    "#### Libraries used"
   ]
  },
  {
   "cell_type": "code",
   "execution_count": 1,
   "id": "cd7256d0-bae4-4ef8-b513-0f340f17bf7c",
   "metadata": {},
   "outputs": [],
   "source": [
    "import numpy as np\n",
    "import pandas as pd\n",
    "import matplotlib.pyplot as plt\n",
    "\n",
    "from sklearn.tree import DecisionTreeClassifier # Import Decision Tree Classifier\n",
    "from sklearn.ensemble import RandomForestClassifier # Import Random Forest Classifier\n",
    "from sklearn.ensemble import AdaBoostClassifier # Import Ada Boost Classifier\n",
    "\n",
    "from sklearn.model_selection import train_test_split # Import train_test_split function\n",
    "from sklearn import metrics # Import scikit-learn metrics module for accuracy calculation\n",
    "from sklearn.utils import resample\n",
    "from sklearn.model_selection import RandomizedSearchCV\n",
    "\n",
    "from pprint import pprint"
   ]
  },
  {
   "cell_type": "code",
   "execution_count": 2,
   "id": "6a80f6bf-2c07-4bb0-b63b-b726e05bbfeb",
   "metadata": {},
   "outputs": [],
   "source": [
    "seed = 0"
   ]
  },
  {
   "cell_type": "markdown",
   "id": "43d77f18-8552-4e4c-a329-2bfd3bc23e37",
   "metadata": {},
   "source": [
    "#### Data Loading"
   ]
  },
  {
   "cell_type": "code",
   "execution_count": 3,
   "id": "67b34a23-5448-49c4-a2a1-337b26a5e558",
   "metadata": {},
   "outputs": [],
   "source": [
    "DATA_DIR = './data'"
   ]
  },
  {
   "cell_type": "code",
   "execution_count": 4,
   "id": "36481ab6-a3e7-47ea-9076-53f14101856f",
   "metadata": {},
   "outputs": [],
   "source": [
    "df = pd.read_csv('{}/behavioural_features.csv.gz'.format(DATA_DIR))\n",
    "df_math_cluster_0 = pd.read_csv('{}/behavioural_features_math_cluster_id_0.csv.gz'.format(DATA_DIR))\n",
    "df_math_cluster_1 = pd.read_csv('{}/behavioural_features_math_cluster_id_1.csv.gz'.format(DATA_DIR))\n",
    "df_german_cluster_0 = pd.read_csv('{}/behavioural_features_german_cluster_id_0.csv.gz'.format(DATA_DIR))\n",
    "df_german_cluster_1 = pd.read_csv('{}/behavioural_features_german_cluster_id_1.csv.gz'.format(DATA_DIR))"
   ]
  },
  {
   "cell_type": "code",
   "execution_count": 5,
   "id": "8d08c726-3686-4b99-a8d7-e7dd200747e2",
   "metadata": {},
   "outputs": [
    {
     "data": {
      "text/html": [
       "<div>\n",
       "<style scoped>\n",
       "    .dataframe tbody tr th:only-of-type {\n",
       "        vertical-align: middle;\n",
       "    }\n",
       "\n",
       "    .dataframe tbody tr th {\n",
       "        vertical-align: top;\n",
       "    }\n",
       "\n",
       "    .dataframe thead th {\n",
       "        text-align: right;\n",
       "    }\n",
       "</style>\n",
       "<table border=\"1\" class=\"dataframe\">\n",
       "  <thead>\n",
       "    <tr style=\"text-align: right;\">\n",
       "      <th></th>\n",
       "      <th>num_actions_per_week</th>\n",
       "      <th>eng_score</th>\n",
       "      <th>FDH</th>\n",
       "      <th>FWH</th>\n",
       "      <th>FWD</th>\n",
       "      <th>num_weeks_on</th>\n",
       "      <th>user_id</th>\n",
       "      <th>week</th>\n",
       "      <th>validated</th>\n",
       "    </tr>\n",
       "  </thead>\n",
       "  <tbody>\n",
       "    <tr>\n",
       "      <th>0</th>\n",
       "      <td>241.000000</td>\n",
       "      <td>1</td>\n",
       "      <td>1.0</td>\n",
       "      <td>1.0</td>\n",
       "      <td>1.0</td>\n",
       "      <td>1</td>\n",
       "      <td>393216</td>\n",
       "      <td>2</td>\n",
       "      <td>1</td>\n",
       "    </tr>\n",
       "    <tr>\n",
       "      <th>1</th>\n",
       "      <td>120.500000</td>\n",
       "      <td>1</td>\n",
       "      <td>2.0</td>\n",
       "      <td>2.0</td>\n",
       "      <td>2.0</td>\n",
       "      <td>2</td>\n",
       "      <td>393216</td>\n",
       "      <td>17</td>\n",
       "      <td>0</td>\n",
       "    </tr>\n",
       "    <tr>\n",
       "      <th>2</th>\n",
       "      <td>80.333333</td>\n",
       "      <td>1</td>\n",
       "      <td>2.0</td>\n",
       "      <td>2.0</td>\n",
       "      <td>2.0</td>\n",
       "      <td>3</td>\n",
       "      <td>393216</td>\n",
       "      <td>18</td>\n",
       "      <td>1</td>\n",
       "    </tr>\n",
       "    <tr>\n",
       "      <th>3</th>\n",
       "      <td>60.250000</td>\n",
       "      <td>1</td>\n",
       "      <td>2.0</td>\n",
       "      <td>2.0</td>\n",
       "      <td>2.0</td>\n",
       "      <td>4</td>\n",
       "      <td>393216</td>\n",
       "      <td>27</td>\n",
       "      <td>0</td>\n",
       "    </tr>\n",
       "    <tr>\n",
       "      <th>4</th>\n",
       "      <td>48.200000</td>\n",
       "      <td>1</td>\n",
       "      <td>2.0</td>\n",
       "      <td>2.0</td>\n",
       "      <td>2.0</td>\n",
       "      <td>5</td>\n",
       "      <td>393216</td>\n",
       "      <td>28</td>\n",
       "      <td>1</td>\n",
       "    </tr>\n",
       "  </tbody>\n",
       "</table>\n",
       "</div>"
      ],
      "text/plain": [
       "   num_actions_per_week  eng_score  FDH  FWH  FWD  num_weeks_on  user_id  \\\n",
       "0            241.000000          1  1.0  1.0  1.0             1   393216   \n",
       "1            120.500000          1  2.0  2.0  2.0             2   393216   \n",
       "2             80.333333          1  2.0  2.0  2.0             3   393216   \n",
       "3             60.250000          1  2.0  2.0  2.0             4   393216   \n",
       "4             48.200000          1  2.0  2.0  2.0             5   393216   \n",
       "\n",
       "   week  validated  \n",
       "0     2          1  \n",
       "1    17          0  \n",
       "2    18          1  \n",
       "3    27          0  \n",
       "4    28          1  "
      ]
     },
     "execution_count": 5,
     "metadata": {},
     "output_type": "execute_result"
    }
   ],
   "source": [
    "df.head()"
   ]
  },
  {
   "cell_type": "code",
   "execution_count": 6,
   "id": "98a1895c-0a3a-4b32-8169-1f90e62fda39",
   "metadata": {},
   "outputs": [],
   "source": [
    "# Checking fraction of NaN values in each column\n",
    "def check_NaNs(df):\n",
    "    for c in df.columns:\n",
    "        na_count = df[c].isna().sum()\n",
    "        print(f\"Column {c} contains {na_count} ({na_count*100 / df.shape[0]:.2f}%) NaN values.\")"
   ]
  },
  {
   "cell_type": "code",
   "execution_count": 7,
   "id": "9a6ee818-599a-404f-bf8c-dad7c5a33b83",
   "metadata": {},
   "outputs": [
    {
     "name": "stdout",
     "output_type": "stream",
     "text": [
      "Column num_actions_per_week contains 0 (0.00%) NaN values.\n",
      "Column eng_score contains 0 (0.00%) NaN values.\n",
      "Column FDH contains 0 (0.00%) NaN values.\n",
      "Column FWH contains 0 (0.00%) NaN values.\n",
      "Column FWD contains 0 (0.00%) NaN values.\n",
      "Column num_weeks_on contains 0 (0.00%) NaN values.\n",
      "Column user_id contains 0 (0.00%) NaN values.\n",
      "Column week contains 0 (0.00%) NaN values.\n",
      "Column validated contains 0 (0.00%) NaN values.\n"
     ]
    }
   ],
   "source": [
    "check_NaNs(df)"
   ]
  },
  {
   "cell_type": "code",
   "execution_count": 8,
   "id": "9eced4d5-1c13-468e-8db5-8578b54e6591",
   "metadata": {},
   "outputs": [
    {
     "name": "stdout",
     "output_type": "stream",
     "text": [
      "Column num_actions_per_week contains 0 (0.00%) NaN values.\n",
      "Column eng_score contains 0 (0.00%) NaN values.\n",
      "Column FDH contains 0 (0.00%) NaN values.\n",
      "Column FWH contains 0 (0.00%) NaN values.\n",
      "Column FWD contains 0 (0.00%) NaN values.\n",
      "Column num_weeks_on contains 0 (0.00%) NaN values.\n",
      "Column user_id contains 0 (0.00%) NaN values.\n",
      "Column week contains 0 (0.00%) NaN values.\n",
      "Column validated contains 0 (0.00%) NaN values.\n"
     ]
    }
   ],
   "source": [
    "check_NaNs(df_math_cluster_0)"
   ]
  },
  {
   "cell_type": "code",
   "execution_count": 9,
   "id": "fc704e22-c16f-40c3-85a7-44085bdb9e1d",
   "metadata": {},
   "outputs": [
    {
     "name": "stdout",
     "output_type": "stream",
     "text": [
      "Column num_actions_per_week contains 0 (0.00%) NaN values.\n",
      "Column eng_score contains 0 (0.00%) NaN values.\n",
      "Column FDH contains 0 (0.00%) NaN values.\n",
      "Column FWH contains 0 (0.00%) NaN values.\n",
      "Column FWD contains 0 (0.00%) NaN values.\n",
      "Column num_weeks_on contains 0 (0.00%) NaN values.\n",
      "Column user_id contains 0 (0.00%) NaN values.\n",
      "Column week contains 0 (0.00%) NaN values.\n",
      "Column validated contains 0 (0.00%) NaN values.\n"
     ]
    }
   ],
   "source": [
    "check_NaNs(df_math_cluster_1)"
   ]
  },
  {
   "cell_type": "code",
   "execution_count": 10,
   "id": "4ebc37d9-1e00-4bdc-87e3-99892c501ef7",
   "metadata": {},
   "outputs": [
    {
     "name": "stdout",
     "output_type": "stream",
     "text": [
      "Column num_actions_per_week contains 0 (0.00%) NaN values.\n",
      "Column eng_score contains 0 (0.00%) NaN values.\n",
      "Column FDH contains 0 (0.00%) NaN values.\n",
      "Column FWH contains 0 (0.00%) NaN values.\n",
      "Column FWD contains 0 (0.00%) NaN values.\n",
      "Column num_weeks_on contains 0 (0.00%) NaN values.\n",
      "Column user_id contains 0 (0.00%) NaN values.\n",
      "Column week contains 0 (0.00%) NaN values.\n",
      "Column validated contains 0 (0.00%) NaN values.\n"
     ]
    }
   ],
   "source": [
    "check_NaNs(df_german_cluster_0)"
   ]
  },
  {
   "cell_type": "code",
   "execution_count": 11,
   "id": "026912d9-3815-4de1-abc8-66586e82ab1a",
   "metadata": {},
   "outputs": [
    {
     "name": "stdout",
     "output_type": "stream",
     "text": [
      "Column num_actions_per_week contains 0 (0.00%) NaN values.\n",
      "Column eng_score contains 0 (0.00%) NaN values.\n",
      "Column FDH contains 0 (0.00%) NaN values.\n",
      "Column FWH contains 0 (0.00%) NaN values.\n",
      "Column FWD contains 0 (0.00%) NaN values.\n",
      "Column num_weeks_on contains 0 (0.00%) NaN values.\n",
      "Column user_id contains 0 (0.00%) NaN values.\n",
      "Column week contains 0 (0.00%) NaN values.\n",
      "Column validated contains 0 (0.00%) NaN values.\n"
     ]
    }
   ],
   "source": [
    "check_NaNs(df_german_cluster_1)"
   ]
  },
  {
   "cell_type": "markdown",
   "id": "99c435cc-6600-469b-99d0-a213b846f02e",
   "metadata": {},
   "source": [
    "#### Feature Selection"
   ]
  },
  {
   "cell_type": "markdown",
   "id": "4287c571-5ef2-450c-ba8d-4e14112ddef7",
   "metadata": {},
   "source": [
    "Splitting the dataset in features and labels:"
   ]
  },
  {
   "cell_type": "code",
   "execution_count": 12,
   "id": "02158902-1e15-4645-be0f-9ea8c5c4d132",
   "metadata": {},
   "outputs": [],
   "source": [
    "X = df.drop(columns = ['user_id', 'validated']) # features\n",
    "users = df.user_id\n",
    "y = df.validated # labels"
   ]
  },
  {
   "cell_type": "code",
   "execution_count": 13,
   "id": "f40c073a-e368-436b-ac98-180209b3eaef",
   "metadata": {},
   "outputs": [],
   "source": [
    "X_math_0 = df_math_cluster_0.drop(columns = ['user_id', 'validated']) # features\n",
    "users_math_0 = df_math_cluster_0.user_id\n",
    "y_math_0 = df_math_cluster_0.validated # labels"
   ]
  },
  {
   "cell_type": "code",
   "execution_count": 14,
   "id": "37c6ac02-6aeb-4f60-b482-71ea96756e06",
   "metadata": {},
   "outputs": [],
   "source": [
    "X_math_1 = df_math_cluster_1.drop(columns = ['user_id', 'validated']) # features\n",
    "users_math_1 = df_math_cluster_1.user_id\n",
    "y_math_1 = df_math_cluster_1.validated # labels"
   ]
  },
  {
   "cell_type": "code",
   "execution_count": 15,
   "id": "52223dcb-57d7-4f96-b36d-3076d50aacf4",
   "metadata": {},
   "outputs": [],
   "source": [
    "X_german_0 = df_german_cluster_0.drop(columns = ['user_id', 'validated']) # features\n",
    "users_german_0 = df_german_cluster_0.user_id\n",
    "y_german_0 = df_german_cluster_0.validated # labels"
   ]
  },
  {
   "cell_type": "code",
   "execution_count": 16,
   "id": "1da26739-d6d5-4d5d-9114-adf7f0a73bc3",
   "metadata": {},
   "outputs": [],
   "source": [
    "X_german_1 = df_german_cluster_1.drop(columns = ['user_id', 'validated']) # features\n",
    "users_german_1 = df_german_cluster_1.user_id\n",
    "y_german_1 = df_german_cluster_1.validated # labels"
   ]
  },
  {
   "cell_type": "markdown",
   "id": "52fe821d-2977-4916-85db-66d68d143574",
   "metadata": {},
   "source": [
    "#### Splitting the data between Training and Testing sets"
   ]
  },
  {
   "cell_type": "code",
   "execution_count": 17,
   "id": "c4f469b5-4ed1-4351-aa63-2bb3cd706b3a",
   "metadata": {},
   "outputs": [],
   "source": [
    "X_train, X_test, y_train, y_test = train_test_split(X, y, test_size=0.3, random_state=seed) # 70% training and 30% test"
   ]
  },
  {
   "cell_type": "code",
   "execution_count": 18,
   "id": "c33a8225-f30a-4fba-aa3b-18da32c9cad5",
   "metadata": {},
   "outputs": [],
   "source": [
    "X_train_math_0, X_test_math_0, y_train_math_0, y_test_math_0 = train_test_split(X_math_0, y_math_0, test_size=0.3, random_state=seed) # 70% training and 30% test"
   ]
  },
  {
   "cell_type": "code",
   "execution_count": 19,
   "id": "c3faa377-4d7b-4a8d-84c2-f832406e4a89",
   "metadata": {},
   "outputs": [],
   "source": [
    "X_train_math_1, X_test_math_1, y_train_math_1, y_test_math_1 = train_test_split(X_math_1, y_math_1, test_size=0.3, random_state=seed) # 70% training and 30% test"
   ]
  },
  {
   "cell_type": "code",
   "execution_count": 20,
   "id": "a753e9bf-b34e-41f2-9de1-b225eb411f94",
   "metadata": {},
   "outputs": [],
   "source": [
    "X_train_german_0, X_test_german_0, y_train_german_0, y_test_german_0 = train_test_split(X_german_0, y_german_0, test_size=0.3, random_state=seed) # 70% training and 30% test"
   ]
  },
  {
   "cell_type": "code",
   "execution_count": 21,
   "id": "74961ba7-bd43-4d62-986f-259d35ee13f7",
   "metadata": {},
   "outputs": [],
   "source": [
    "X_train_german_1, X_test_german_1, y_train_german_1, y_test_german_1 = train_test_split(X_german_1, y_german_1, test_size=0.3, random_state=seed) # 70% training and 30% test"
   ]
  },
  {
   "cell_type": "markdown",
   "id": "641d9d1a-cbbe-45e2-b75d-a59b7a9733aa",
   "metadata": {},
   "source": [
    "#### Correcting class imbalance"
   ]
  },
  {
   "cell_type": "code",
   "execution_count": 22,
   "id": "db9ec523-a490-4f71-9751-bfcfdfa2e209",
   "metadata": {},
   "outputs": [],
   "source": [
    "def correcting_imbalance(X_train, y_train):\n",
    "    ## Correcting class imbalance\n",
    "\n",
    "    # Getting samples indices per class\n",
    "    classes = [0, 1]\n",
    "    classes = [[i for i, y in enumerate(y_train) if y==c] for c in classes]\n",
    "    _lengthes = list(map(len, classes))\n",
    "\n",
    "    # Computing desired number of samples in each class\n",
    "    upsampling_ratio = 0.5\n",
    "    _max, _min = max(_lengthes), min(_lengthes)\n",
    "    n_samples = int( upsampling_ratio * _max + (1-upsampling_ratio) * _min )\n",
    "\n",
    "    print(f\"Minority class: {_min:,} samples.\\nMajority class: {_max:,} samples.\")\n",
    "    print(f\"Upsampling by {upsampling_ratio*100:.2f}%, each class contains {n_samples:,} samples.\")\n",
    "\n",
    "    # Resampling to match desired number of samples in each class\n",
    "    balanced = []\n",
    "    for c in classes:\n",
    "        balanced.append(resample(c, random_state=seed, n_samples=n_samples) )\n",
    "\n",
    "    # Verifying and concatenating all in one array\n",
    "    assert(all([len(c) == n_samples for c in balanced]))\n",
    "    balanced = np.concatenate(balanced)\n",
    "\n",
    "    # Reassigning the samples to balance the training set\n",
    "    y_train_b = np.array(y_train)[balanced]\n",
    "    X_train_b = np.array(X_train)[balanced]\n",
    "\n",
    "    # Verifying that the classes are balanced as expected\n",
    "    assert(all([len([y for y in y_train_b if y==c]) == n_samples for c in [0, 1]]))\n",
    "    return X_train_b, y_train_b"
   ]
  },
  {
   "cell_type": "markdown",
   "id": "ffc535c7-4490-4af5-bc04-9a5634b74ce7",
   "metadata": {},
   "source": [
    "Converting the NumPy arrays back to pandas DataFrames:"
   ]
  },
  {
   "cell_type": "code",
   "execution_count": 23,
   "id": "fa0beb39-7c4c-444b-ba45-5a136a478e09",
   "metadata": {},
   "outputs": [
    {
     "name": "stdout",
     "output_type": "stream",
     "text": [
      "Minority class: 2,020 samples.\n",
      "Majority class: 5,769 samples.\n",
      "Upsampling by 50.00%, each class contains 3,894 samples.\n"
     ]
    }
   ],
   "source": [
    "X_train_b, y_train_b = correcting_imbalance(X_train, y_train)\n",
    "X_train = pd.DataFrame(X_train_b, columns = ['num_actions_per_week', 'eng_score', 'FDH', 'FWH', 'FWD', 'num_weeks_on', 'week'])"
   ]
  },
  {
   "cell_type": "code",
   "execution_count": 24,
   "id": "4d08ffbe-52d1-4a6e-9a74-3fe01db5f79c",
   "metadata": {},
   "outputs": [
    {
     "name": "stdout",
     "output_type": "stream",
     "text": [
      "Minority class: 2,994 samples.\n",
      "Majority class: 7,403 samples.\n",
      "Upsampling by 50.00%, each class contains 5,198 samples.\n"
     ]
    }
   ],
   "source": [
    "X_train_math_0_b, y_train_math_0_b = correcting_imbalance(X_train_math_0, y_train_math_0)\n",
    "X_train_math_0 = pd.DataFrame(X_train_math_0_b, columns = ['num_actions_per_week', 'eng_score', 'FDH', 'FWH', 'FWD', 'num_weeks_on', 'week'])"
   ]
  },
  {
   "cell_type": "code",
   "execution_count": 25,
   "id": "b36ad6a5-b357-4832-a4ff-4f17cf34586e",
   "metadata": {},
   "outputs": [
    {
     "name": "stdout",
     "output_type": "stream",
     "text": [
      "Minority class: 3 samples.\n",
      "Majority class: 6 samples.\n",
      "Upsampling by 50.00%, each class contains 4 samples.\n"
     ]
    }
   ],
   "source": [
    "X_train_math_1_b, y_train_math_1_b = correcting_imbalance(X_train_math_1, y_train_math_1)\n",
    "X_train_math_1 = pd.DataFrame(X_train_math_1_b, columns = ['num_actions_per_week', 'eng_score', 'FDH', 'FWH', 'FWD', 'num_weeks_on', 'week'])"
   ]
  },
  {
   "cell_type": "code",
   "execution_count": 26,
   "id": "48bfba79-f977-4108-b2ec-124d9c1f73da",
   "metadata": {},
   "outputs": [
    {
     "name": "stdout",
     "output_type": "stream",
     "text": [
      "Minority class: 1,912 samples.\n",
      "Majority class: 4,815 samples.\n",
      "Upsampling by 50.00%, each class contains 3,363 samples.\n"
     ]
    }
   ],
   "source": [
    "X_train_german_0_b, y_train_german_0_b = correcting_imbalance(X_train_german_0, y_train_german_0)\n",
    "X_train_german_0 = pd.DataFrame(X_train_german_0_b, columns = ['num_actions_per_week', 'eng_score', 'FDH', 'FWH', 'FWD', 'num_weeks_on', 'week'])"
   ]
  },
  {
   "cell_type": "code",
   "execution_count": 27,
   "id": "cce89e0f-6e96-4742-be6f-b4bf5d364958",
   "metadata": {},
   "outputs": [
    {
     "name": "stdout",
     "output_type": "stream",
     "text": [
      "Minority class: 1 samples.\n",
      "Majority class: 3 samples.\n",
      "Upsampling by 50.00%, each class contains 2 samples.\n"
     ]
    }
   ],
   "source": [
    "X_train_german_1_b, y_train_german_1_b = correcting_imbalance(X_train_german_1, y_train_german_1)\n",
    "X_train_german_1 = pd.DataFrame(X_train_german_1_b, columns = ['num_actions_per_week', 'eng_score', 'FDH', 'FWH', 'FWD', 'num_weeks_on', 'week'])"
   ]
  },
  {
   "cell_type": "markdown",
   "id": "022bd81f-1e99-4e1d-89ed-5c192ab66e42",
   "metadata": {},
   "source": [
    "## Model Building"
   ]
  },
  {
   "cell_type": "markdown",
   "id": "9b3e8370-b052-48a1-95f4-0598451fcf15",
   "metadata": {},
   "source": [
    "#### Utils:"
   ]
  },
  {
   "cell_type": "code",
   "execution_count": 28,
   "id": "56a27360-796d-48df-9b9e-8c543daeb89f",
   "metadata": {},
   "outputs": [],
   "source": [
    "def predict_decision_tree_default(X_train, y_train, X_test):\n",
    "    # Create Decision Tree classifer object\n",
    "    clf = DecisionTreeClassifier()\n",
    "\n",
    "    # Train Decision Tree Classifer\n",
    "    clf = clf.fit(X_train, y_train)\n",
    "\n",
    "    # Predict the label for test dataset\n",
    "    y_pred_decision_tree = clf.predict(X_test)\n",
    "    \n",
    "    return y_pred_decision_tree"
   ]
  },
  {
   "cell_type": "code",
   "execution_count": 29,
   "id": "566efd9c-7157-42ea-8887-695bcb56a630",
   "metadata": {},
   "outputs": [],
   "source": [
    "def predict_random_forest_default(X_train, y_train, X_test):\n",
    "    # Create a Gaussian Classifier\n",
    "    clf = RandomForestClassifier(n_estimators=100)\n",
    "\n",
    "    # Train the model using the training sets y_pred=clf.predict(X_test)\n",
    "    clf.fit(X_train, y_train)\n",
    "\n",
    "    # Predict the label for the test dataset\n",
    "    y_pred_random_forest = clf.predict(X_test)\n",
    "    \n",
    "    return y_pred_random_forest"
   ]
  },
  {
   "cell_type": "code",
   "execution_count": 30,
   "id": "85b94261-b130-4b7b-86e3-cf4ae15e4233",
   "metadata": {},
   "outputs": [],
   "source": [
    "def predict_adaboost_default(X_train, y_train, X_test):\n",
    "    # Create Adaboost classifer object\n",
    "    abc = AdaBoostClassifier(n_estimators=50,\n",
    "                             learning_rate=1)\n",
    "    # Train Adaboost Classifer\n",
    "    model = abc.fit(X_train, y_train)\n",
    "\n",
    "    # Predict the label for test dataset\n",
    "    y_pred_ada_boost = model.predict(X_test)\n",
    "    \n",
    "    return y_pred_ada_boost"
   ]
  },
  {
   "cell_type": "code",
   "execution_count": 31,
   "id": "559c1f86-df8b-4930-8bb0-d73a27abe2bc",
   "metadata": {},
   "outputs": [],
   "source": [
    "def predict_decision_tree(X_train, y_train, X_test):\n",
    "    # Create Decision Tree classifer object\n",
    "    clf = DecisionTreeClassifier(min_samples_split=10, min_samples_leaf=2, max_features='sqrt', max_depth=100)\n",
    "\n",
    "    # Train Decision Tree Classifer\n",
    "    clf = clf.fit(X_train, y_train)\n",
    "\n",
    "    # Predict the label for test dataset\n",
    "    y_pred_decision_tree = clf.predict(X_test)\n",
    "    \n",
    "    return y_pred_decision_tree"
   ]
  },
  {
   "cell_type": "code",
   "execution_count": 32,
   "id": "fd7935b2-bebc-4bde-8521-fe69fb811456",
   "metadata": {},
   "outputs": [],
   "source": [
    "def predict_random_forest(X_train, y_train, X_test):\n",
    "    # Create a Gaussian Classifier\n",
    "    clf = RandomForestClassifier(n_estimators=400, min_samples_split=5, min_samples_leaf=1, max_features='sqrt', max_depth=30, bootstrap=True)\n",
    "\n",
    "    # Train the model using the training sets y_pred=clf.predict(X_test)\n",
    "    clf.fit(X_train, y_train)\n",
    "\n",
    "    # Predict the label for the test dataset\n",
    "    y_pred_random_forest = clf.predict(X_test)\n",
    "    \n",
    "    return y_pred_random_forest"
   ]
  },
  {
   "cell_type": "code",
   "execution_count": 33,
   "id": "497fded4-db01-468d-a31d-0d2e4128bee7",
   "metadata": {},
   "outputs": [],
   "source": [
    "def predict_adaboost(X_train, y_train, X_test):\n",
    "    # Create Adaboost classifer object\n",
    "    abc = AdaBoostClassifier(n_estimators=1800, learning_rate=0.7, base_estimator=None)\n",
    "    \n",
    "    # Train Adaboost Classifer\n",
    "    model = abc.fit(X_train, y_train)\n",
    "\n",
    "    # Predict the label for test dataset\n",
    "    y_pred_ada_boost = model.predict(X_test)\n",
    "    \n",
    "    return y_pred_ada_boost"
   ]
  },
  {
   "cell_type": "markdown",
   "id": "25c434b1-cad9-4109-b53f-e7d3e2746c06",
   "metadata": {},
   "source": [
    "### Without clustering:"
   ]
  },
  {
   "cell_type": "markdown",
   "id": "f03077ee-98e0-483b-a225-d55358fd5684",
   "metadata": {},
   "source": [
    "Building the Decision Tree Model with default parameters:"
   ]
  },
  {
   "cell_type": "code",
   "execution_count": 34,
   "id": "b6850ff8-acf6-495c-8031-59fdf16adf7a",
   "metadata": {},
   "outputs": [],
   "source": [
    "y_pred_decision_tree = predict_decision_tree_default(X_train, y_train_b, X_test)"
   ]
  },
  {
   "cell_type": "markdown",
   "id": "dba31065-3de2-444b-84da-84ae67551672",
   "metadata": {},
   "source": [
    "Building the Random Forest Model:"
   ]
  },
  {
   "cell_type": "code",
   "execution_count": 35,
   "id": "01719fa5-5f83-4d5e-9e23-9f6b55e59b44",
   "metadata": {},
   "outputs": [],
   "source": [
    "y_pred_random_forest = predict_random_forest(X_train, y_train_b, X_test)"
   ]
  },
  {
   "cell_type": "markdown",
   "id": "1cb68dba-f9a0-45f1-a603-78b4cda14311",
   "metadata": {},
   "source": [
    "Building the Adaboost Model:"
   ]
  },
  {
   "cell_type": "code",
   "execution_count": 36,
   "id": "a7b78c9b-683e-4a8f-a445-1d1bb8970d35",
   "metadata": {},
   "outputs": [],
   "source": [
    "y_pred_ada_boost = predict_adaboost(X_train, y_train_b, X_test)"
   ]
  },
  {
   "cell_type": "markdown",
   "id": "1b0d3580-3350-41d8-a7fa-583835c5ffb3",
   "metadata": {},
   "source": [
    "Building the Decision Tree Model with hyperparameter tunning:"
   ]
  },
  {
   "cell_type": "code",
   "execution_count": 37,
   "id": "a849cf2c-3f23-4546-b395-9644d39e4b07",
   "metadata": {},
   "outputs": [],
   "source": [
    "X_train, X_test, y_train, y_test = train_test_split(X, y, test_size=0.3, random_state=seed) # 70% training and 30% test\n",
    "X_train, X_val, y_train, y_val = train_test_split(X_train, y_train, test_size=0.1, random_state=seed)"
   ]
  },
  {
   "cell_type": "code",
   "execution_count": 38,
   "id": "96680419-8f60-4027-9cd1-15a3de8d6176",
   "metadata": {},
   "outputs": [
    {
     "name": "stdout",
     "output_type": "stream",
     "text": [
      "Minority class: 1,822 samples.\n",
      "Majority class: 5,188 samples.\n",
      "Upsampling by 50.00%, each class contains 3,505 samples.\n"
     ]
    }
   ],
   "source": [
    "X_train_b, y_train_b = correcting_imbalance(X_train, y_train)\n",
    "X_train = pd.DataFrame(X_train_b, columns = ['num_actions_per_week', 'eng_score', 'FDH', 'FWH', 'FWD', 'num_weeks_on', 'week'])"
   ]
  },
  {
   "cell_type": "code",
   "execution_count": 39,
   "id": "4682f0e4-f64b-4e9b-85a6-115d9e9e7e18",
   "metadata": {},
   "outputs": [
    {
     "name": "stdout",
     "output_type": "stream",
     "text": [
      "Parameters currently in use:\n",
      "\n",
      "{'ccp_alpha': 0.0,\n",
      " 'class_weight': None,\n",
      " 'criterion': 'gini',\n",
      " 'max_depth': None,\n",
      " 'max_features': None,\n",
      " 'max_leaf_nodes': None,\n",
      " 'min_impurity_decrease': 0.0,\n",
      " 'min_samples_leaf': 1,\n",
      " 'min_samples_split': 2,\n",
      " 'min_weight_fraction_leaf': 0.0,\n",
      " 'random_state': None,\n",
      " 'splitter': 'best'}\n"
     ]
    }
   ],
   "source": [
    "clf = DecisionTreeClassifier()\n",
    "\n",
    "# Look at the parameters used by default by our current Decision Tree Classifier:\n",
    "print('Parameters currently in use:\\n')\n",
    "pprint(clf.get_params())"
   ]
  },
  {
   "cell_type": "code",
   "execution_count": 40,
   "id": "72f807ba-4477-4be5-8ae1-146b8de4d15e",
   "metadata": {},
   "outputs": [
    {
     "name": "stdout",
     "output_type": "stream",
     "text": [
      "{'max_depth': [10, 20, 30, 40, 50, 60, 70, 80, 90, 100, 110, None],\n",
      " 'max_features': ['auto', 'sqrt'],\n",
      " 'min_samples_leaf': [1, 2, 4],\n",
      " 'min_samples_split': [2, 5, 10]}\n"
     ]
    }
   ],
   "source": [
    "# Number of features to consider at every split\n",
    "max_features = ['auto', 'sqrt']\n",
    "# Maximum number of levels in tree\n",
    "max_depth = [int(x) for x in np.linspace(10, 110, num = 11)]\n",
    "max_depth.append(None)\n",
    "# Minimum number of samples required to split a node\n",
    "min_samples_split = [2, 5, 10]\n",
    "# Minimum number of samples required at each leaf node\n",
    "min_samples_leaf = [1, 2, 4]\n",
    "# Create the random grid\n",
    "random_grid = {'max_features': max_features,\n",
    "               'max_depth': max_depth,\n",
    "               'min_samples_split': min_samples_split,\n",
    "               'min_samples_leaf': min_samples_leaf}\n",
    "pprint(random_grid)"
   ]
  },
  {
   "cell_type": "code",
   "execution_count": 41,
   "id": "f01f2277-c492-48ae-baae-04ae78ac62bc",
   "metadata": {},
   "outputs": [
    {
     "name": "stdout",
     "output_type": "stream",
     "text": [
      "Fitting 3 folds for each of 100 candidates, totalling 300 fits\n"
     ]
    },
    {
     "data": {
      "text/plain": [
       "RandomizedSearchCV(cv=3, estimator=DecisionTreeClassifier(), n_iter=100,\n",
       "                   n_jobs=-1,\n",
       "                   param_distributions={'max_depth': [10, 20, 30, 40, 50, 60,\n",
       "                                                      70, 80, 90, 100, 110,\n",
       "                                                      None],\n",
       "                                        'max_features': ['auto', 'sqrt'],\n",
       "                                        'min_samples_leaf': [1, 2, 4],\n",
       "                                        'min_samples_split': [2, 5, 10]},\n",
       "                   random_state=0, verbose=2)"
      ]
     },
     "execution_count": 41,
     "metadata": {},
     "output_type": "execute_result"
    }
   ],
   "source": [
    "# Use the random grid to search for best hyperparameters\n",
    "# First create the base model to tune\n",
    "clf = DecisionTreeClassifier()\n",
    "# Random search of parameters, using 3 fold cross validation, \n",
    "# search across 100 different combinations, and use all available cores\n",
    "clf_random = RandomizedSearchCV(estimator = clf, param_distributions = random_grid, n_iter = 100, cv = 3, verbose=2, random_state=seed, n_jobs = -1)# Fit the random search model\n",
    "clf_random.fit(X_val, y_val)"
   ]
  },
  {
   "cell_type": "code",
   "execution_count": 42,
   "id": "bf728a6c-34fb-4abf-bd19-8a29372ded7a",
   "metadata": {},
   "outputs": [
    {
     "data": {
      "text/plain": [
       "{'min_samples_split': 5,\n",
       " 'min_samples_leaf': 1,\n",
       " 'max_features': 'auto',\n",
       " 'max_depth': 20}"
      ]
     },
     "execution_count": 42,
     "metadata": {},
     "output_type": "execute_result"
    }
   ],
   "source": [
    "clf_random.best_params_"
   ]
  },
  {
   "cell_type": "code",
   "execution_count": 43,
   "id": "af039c28-51fa-45ce-a611-f47f851b2064",
   "metadata": {},
   "outputs": [],
   "source": [
    "# Create Decision Tree classifer object\n",
    "clf_decision_tree = DecisionTreeClassifier(min_samples_split=10, min_samples_leaf=2, max_features='sqrt', max_depth=100)\n",
    "\n",
    "# Train Decision Tree Classifer\n",
    "clf_decision_tree = clf_decision_tree.fit(X_train, y_train)\n",
    "\n",
    "# Predict the label for test dataset\n",
    "y_pred_decision_tree_hyperparameters_tuned = clf_decision_tree.predict(X_test)"
   ]
  },
  {
   "cell_type": "markdown",
   "id": "b27ea6ba-f2f0-4cfe-aa03-56ad93f6a9e0",
   "metadata": {},
   "source": [
    "Building the Random Forest Model with hyperparameter tunning:"
   ]
  },
  {
   "cell_type": "code",
   "execution_count": 44,
   "id": "ce58e463-3566-45b7-8371-c23d55ccd8e8",
   "metadata": {},
   "outputs": [
    {
     "name": "stdout",
     "output_type": "stream",
     "text": [
      "Parameters currently in use:\n",
      "\n",
      "{'bootstrap': True,\n",
      " 'ccp_alpha': 0.0,\n",
      " 'class_weight': None,\n",
      " 'criterion': 'gini',\n",
      " 'max_depth': None,\n",
      " 'max_features': 'auto',\n",
      " 'max_leaf_nodes': None,\n",
      " 'max_samples': None,\n",
      " 'min_impurity_decrease': 0.0,\n",
      " 'min_samples_leaf': 1,\n",
      " 'min_samples_split': 2,\n",
      " 'min_weight_fraction_leaf': 0.0,\n",
      " 'n_estimators': 100,\n",
      " 'n_jobs': None,\n",
      " 'oob_score': False,\n",
      " 'random_state': 0,\n",
      " 'verbose': 0,\n",
      " 'warm_start': False}\n"
     ]
    }
   ],
   "source": [
    "clf = RandomForestClassifier(random_state=seed)\n",
    "\n",
    "# Look at the parameters used by default by our current Random Forest Classifier:\n",
    "print('Parameters currently in use:\\n')\n",
    "pprint(clf.get_params())"
   ]
  },
  {
   "cell_type": "code",
   "execution_count": 45,
   "id": "d5688a0c-992c-43d9-98f7-68c7b2cd4fca",
   "metadata": {},
   "outputs": [
    {
     "name": "stdout",
     "output_type": "stream",
     "text": [
      "{'bootstrap': [True, False],\n",
      " 'max_depth': [10, 20, 30, 40, 50, 60, 70, 80, 90, 100, 110, None],\n",
      " 'max_features': ['auto', 'sqrt'],\n",
      " 'min_samples_leaf': [1, 2, 4],\n",
      " 'min_samples_split': [2, 5, 10],\n",
      " 'n_estimators': [200, 400, 600, 800, 1000, 1200, 1400, 1600, 1800, 2000]}\n"
     ]
    }
   ],
   "source": [
    "# Number of trees in random forest\n",
    "n_estimators = [int(x) for x in np.linspace(start = 200, stop = 2000, num = 10)]\n",
    "# Number of features to consider at every split\n",
    "max_features = ['auto', 'sqrt']\n",
    "# Maximum number of levels in tree\n",
    "max_depth = [int(x) for x in np.linspace(10, 110, num = 11)]\n",
    "max_depth.append(None)\n",
    "# Minimum number of samples required to split a node\n",
    "min_samples_split = [2, 5, 10]\n",
    "# Minimum number of samples required at each leaf node\n",
    "min_samples_leaf = [1, 2, 4]\n",
    "# Method of selecting samples for training each tree\n",
    "bootstrap = [True, False]\n",
    "# Create the random grid\n",
    "random_grid = {'n_estimators': n_estimators,\n",
    "               'max_features': max_features,\n",
    "               'max_depth': max_depth,\n",
    "               'min_samples_split': min_samples_split,\n",
    "               'min_samples_leaf': min_samples_leaf,\n",
    "               'bootstrap': bootstrap}\n",
    "pprint(random_grid)"
   ]
  },
  {
   "cell_type": "code",
   "execution_count": 46,
   "id": "9af0a708-e36a-4bad-b459-a9089bb8e1e9",
   "metadata": {},
   "outputs": [
    {
     "name": "stdout",
     "output_type": "stream",
     "text": [
      "Fitting 3 folds for each of 100 candidates, totalling 300 fits\n"
     ]
    },
    {
     "data": {
      "text/plain": [
       "RandomizedSearchCV(cv=3, estimator=RandomForestClassifier(), n_iter=100,\n",
       "                   n_jobs=-1,\n",
       "                   param_distributions={'bootstrap': [True, False],\n",
       "                                        'max_depth': [10, 20, 30, 40, 50, 60,\n",
       "                                                      70, 80, 90, 100, 110,\n",
       "                                                      None],\n",
       "                                        'max_features': ['auto', 'sqrt'],\n",
       "                                        'min_samples_leaf': [1, 2, 4],\n",
       "                                        'min_samples_split': [2, 5, 10],\n",
       "                                        'n_estimators': [200, 400, 600, 800,\n",
       "                                                         1000, 1200, 1400, 1600,\n",
       "                                                         1800, 2000]},\n",
       "                   random_state=0, verbose=2)"
      ]
     },
     "execution_count": 46,
     "metadata": {},
     "output_type": "execute_result"
    }
   ],
   "source": [
    "# Use the random grid to search for best hyperparameters\n",
    "# First create the base model to tune\n",
    "clf = RandomForestClassifier()\n",
    "# Random search of parameters, using 3 fold cross validation, \n",
    "# search across 100 different combinations, and use all available cores\n",
    "clf_random = RandomizedSearchCV(estimator = clf, param_distributions = random_grid, n_iter = 100, cv = 3, verbose=2, random_state=seed, n_jobs = -1)# Fit the random search model\n",
    "clf_random.fit(X_val, y_val)"
   ]
  },
  {
   "cell_type": "code",
   "execution_count": 47,
   "id": "729291ad-f23a-49eb-a321-10aed65956a3",
   "metadata": {},
   "outputs": [
    {
     "data": {
      "text/plain": [
       "{'n_estimators': 400,\n",
       " 'min_samples_split': 2,\n",
       " 'min_samples_leaf': 1,\n",
       " 'max_features': 'sqrt',\n",
       " 'max_depth': None,\n",
       " 'bootstrap': False}"
      ]
     },
     "execution_count": 47,
     "metadata": {},
     "output_type": "execute_result"
    }
   ],
   "source": [
    "clf_random.best_params_"
   ]
  },
  {
   "cell_type": "code",
   "execution_count": 48,
   "id": "8a972a30-1312-40e4-89b7-545f4ebcb093",
   "metadata": {},
   "outputs": [],
   "source": [
    "# Create a Gaussian Classifier\n",
    "clf_random_forest = RandomForestClassifier(n_estimators=400, min_samples_split=5, min_samples_leaf=1, max_features='sqrt', max_depth=30, bootstrap=True)\n",
    "\n",
    "# Train the model using the training sets y_pred=clf.predict(X_test)\n",
    "clf_random_forest.fit(X_train, y_train)\n",
    "\n",
    "# Predict the label for the test dataset\n",
    "y_pred_random_forest_hyperparameters_tuned = clf_random_forest.predict(X_test)"
   ]
  },
  {
   "cell_type": "markdown",
   "id": "dd3543c9-7bfd-46b3-97a4-36eddc352edf",
   "metadata": {},
   "source": [
    "Building the AdaBoost Model with hyperparameter tunning:"
   ]
  },
  {
   "cell_type": "code",
   "execution_count": 49,
   "id": "c6c1daec-21c5-41eb-aad1-1cbe5b120425",
   "metadata": {},
   "outputs": [
    {
     "name": "stdout",
     "output_type": "stream",
     "text": [
      "Parameters currently in use:\n",
      "\n",
      "{'algorithm': 'SAMME.R',\n",
      " 'base_estimator': None,\n",
      " 'learning_rate': 1.0,\n",
      " 'n_estimators': 50,\n",
      " 'random_state': None}\n"
     ]
    }
   ],
   "source": [
    "clf = AdaBoostClassifier()\n",
    "\n",
    "# Look at the parameters used by default by our current Decision Tree Classifier:\n",
    "print('Parameters currently in use:\\n')\n",
    "pprint(clf.get_params())"
   ]
  },
  {
   "cell_type": "code",
   "execution_count": 50,
   "id": "f3c9bacb-bb4a-4dc0-bb31-f662419e29cc",
   "metadata": {},
   "outputs": [
    {
     "name": "stdout",
     "output_type": "stream",
     "text": [
      "{'learning_rate': [0.0,\n",
      "                   0.1,\n",
      "                   0.2,\n",
      "                   0.30000000000000004,\n",
      "                   0.4,\n",
      "                   0.5,\n",
      "                   0.6000000000000001,\n",
      "                   0.7000000000000001,\n",
      "                   0.8,\n",
      "                   0.9,\n",
      "                   1.0],\n",
      " 'n_estimators': [200, 400, 600, 800, 1000, 1200, 1400, 1600, 1800, 2000]}\n"
     ]
    }
   ],
   "source": [
    "# Number of estimators\n",
    "n_estimators = [int(x) for x in np.linspace(start = 200, stop = 2000, num = 10)]\n",
    "# Learning rate\n",
    "learning = [x for x in np.linspace(0, 1, num = 11)]\n",
    "# Create the random grid\n",
    "random_grid = {'n_estimators': n_estimators,\n",
    "               'learning_rate': learning}\n",
    "pprint(random_grid)"
   ]
  },
  {
   "cell_type": "code",
   "execution_count": 51,
   "id": "de434154-56fd-4ee5-a9ea-bd6bc5fe9756",
   "metadata": {},
   "outputs": [
    {
     "name": "stdout",
     "output_type": "stream",
     "text": [
      "Fitting 3 folds for each of 100 candidates, totalling 300 fits\n"
     ]
    },
    {
     "name": "stderr",
     "output_type": "stream",
     "text": [
      "/usr/local/lib/python3.8/dist-packages/sklearn/model_selection/_validation.py:372: FitFailedWarning: \n",
      "27 fits failed out of a total of 300.\n",
      "The score on these train-test partitions for these parameters will be set to nan.\n",
      "If these failures are not expected, you can try to debug them by setting error_score='raise'.\n",
      "\n",
      "Below are more details about the failures:\n",
      "--------------------------------------------------------------------------------\n",
      "27 fits failed with the following error:\n",
      "Traceback (most recent call last):\n",
      "  File \"/usr/local/lib/python3.8/dist-packages/sklearn/model_selection/_validation.py\", line 680, in _fit_and_score\n",
      "    estimator.fit(X_train, y_train, **fit_params)\n",
      "  File \"/usr/local/lib/python3.8/dist-packages/sklearn/ensemble/_weight_boosting.py\", line 486, in fit\n",
      "    return super().fit(X, y, sample_weight)\n",
      "  File \"/usr/local/lib/python3.8/dist-packages/sklearn/ensemble/_weight_boosting.py\", line 114, in fit\n",
      "    raise ValueError(\"learning_rate must be greater than zero\")\n",
      "ValueError: learning_rate must be greater than zero\n",
      "\n",
      "  warnings.warn(some_fits_failed_message, FitFailedWarning)\n",
      "/usr/local/lib/python3.8/dist-packages/sklearn/model_selection/_search.py:969: UserWarning: One or more of the test scores are non-finite: [ 1.  1.  1. nan  1.  1.  1. nan  1.  1.  1.  1.  1.  1.  1.  1.  1.  1.\n",
      "  1.  1.  1. nan  1.  1.  1. nan  1.  1.  1. nan  1.  1.  1.  1.  1.  1.\n",
      "  1.  1.  1.  1.  1.  1.  1. nan  1.  1.  1. nan  1.  1.  1.  1. nan  1.\n",
      "  1.  1. nan  1.  1.  1.  1.  1.  1.  1.  1.  1.  1.  1.  1.  1.  1.  1.\n",
      "  1.  1.  1.  1.  1.  1.  1.  1.  1.  1.  1.  1.  1.  1.  1.  1.  1.  1.\n",
      "  1.  1.  1.  1.  1.  1.  1.  1.  1.  1.]\n",
      "  warnings.warn(\n"
     ]
    },
    {
     "data": {
      "text/plain": [
       "RandomizedSearchCV(cv=3, estimator=AdaBoostClassifier(), n_iter=100, n_jobs=-1,\n",
       "                   param_distributions={'learning_rate': [0.0, 0.1, 0.2,\n",
       "                                                          0.30000000000000004,\n",
       "                                                          0.4, 0.5,\n",
       "                                                          0.6000000000000001,\n",
       "                                                          0.7000000000000001,\n",
       "                                                          0.8, 0.9, 1.0],\n",
       "                                        'n_estimators': [200, 400, 600, 800,\n",
       "                                                         1000, 1200, 1400, 1600,\n",
       "                                                         1800, 2000]},\n",
       "                   random_state=0, verbose=2)"
      ]
     },
     "execution_count": 51,
     "metadata": {},
     "output_type": "execute_result"
    }
   ],
   "source": [
    "# Use the random grid to search for best hyperparameters\n",
    "# First create the base model to tune\n",
    "clf = AdaBoostClassifier()\n",
    "# Random search of parameters, using 3 fold cross validation, \n",
    "# search across 100 different combinations, and use all available cores\n",
    "clf_random = RandomizedSearchCV(estimator = clf, param_distributions = random_grid, n_iter = 100, cv = 3, verbose=2, random_state=seed, n_jobs = -1)# Fit the random search model\n",
    "clf_random.fit(X_val, y_val)"
   ]
  },
  {
   "cell_type": "code",
   "execution_count": 52,
   "id": "702b39a5-c955-498e-bec9-eead41f470e9",
   "metadata": {},
   "outputs": [
    {
     "data": {
      "text/plain": [
       "{'n_estimators': 1200, 'learning_rate': 0.8}"
      ]
     },
     "execution_count": 52,
     "metadata": {},
     "output_type": "execute_result"
    }
   ],
   "source": [
    "clf_random.best_params_"
   ]
  },
  {
   "cell_type": "code",
   "execution_count": 53,
   "id": "60cd6b22-c907-4519-8a9c-878cfcf8166d",
   "metadata": {},
   "outputs": [],
   "source": [
    "# Create Adaboost classifer object\n",
    "abc = AdaBoostClassifier(n_estimators=1800, learning_rate=0.7, base_estimator=None)\n",
    "\n",
    "# Train Adaboost Classifer\n",
    "model = abc.fit(X_train, y_train)\n",
    "\n",
    "# Predict the label for test dataset\n",
    "y_pred_ada_boost_hyperparameters_tuned = model.predict(X_test)"
   ]
  },
  {
   "cell_type": "markdown",
   "id": "4eee512a-87d3-47f5-ada6-79f578c1463f",
   "metadata": {},
   "source": [
    "### With clustering:"
   ]
  },
  {
   "cell_type": "markdown",
   "id": "d80bb28e-c9dd-40de-9cf6-19f0308e7243",
   "metadata": {},
   "source": [
    "Computing the models for the math clusters:"
   ]
  },
  {
   "cell_type": "code",
   "execution_count": 54,
   "id": "b49fdd22-aa5f-4671-833c-33cffc116798",
   "metadata": {},
   "outputs": [],
   "source": [
    "# MATH cluster 0\n",
    "y_pred_decision_tree_math_0 = predict_decision_tree(X_train_math_0, y_train_math_0_b, X_test_math_0)\n",
    "y_pred_random_forest_math_0 = predict_random_forest(X_train_math_0, y_train_math_0_b, X_test_math_0)\n",
    "y_pred_ada_boost_math_0 = predict_adaboost(X_train_math_0, y_train_math_0_b, X_test_math_0)"
   ]
  },
  {
   "cell_type": "code",
   "execution_count": 55,
   "id": "aa70a5c1-a9f9-44d9-a306-ab71575a059d",
   "metadata": {},
   "outputs": [],
   "source": [
    "# MATH cluster 1\n",
    "y_pred_decision_tree_math_1 = predict_decision_tree(X_train_math_1, y_train_math_1_b, X_test_math_1)\n",
    "y_pred_random_forest_math_1 = predict_random_forest(X_train_math_1, y_train_math_1_b, X_test_math_1)\n",
    "y_pred_ada_boost_math_1 = predict_adaboost(X_train_math_1, y_train_math_1_b, X_test_math_1)"
   ]
  },
  {
   "cell_type": "markdown",
   "id": "461f4eef-6b58-42a3-b679-3e3ebdacc362",
   "metadata": {},
   "source": [
    "Computing the models for the german clusters:"
   ]
  },
  {
   "cell_type": "code",
   "execution_count": 56,
   "id": "e1e0fd66-1136-4362-91db-9bdab145c606",
   "metadata": {},
   "outputs": [],
   "source": [
    "# GERMAN cluster 0\n",
    "y_pred_decision_tree_german_0 = predict_decision_tree(X_train_german_0, y_train_german_0_b, X_test_german_0)\n",
    "y_pred_random_forest_german_0 = predict_random_forest(X_train_german_0, y_train_german_0_b, X_test_german_0)\n",
    "y_pred_ada_boost_german_0 = predict_adaboost(X_train_german_0, y_train_german_0_b, X_test_german_0)"
   ]
  },
  {
   "cell_type": "code",
   "execution_count": 57,
   "id": "4c4802ba-5a02-4a1e-98e7-80902b2d9e0d",
   "metadata": {},
   "outputs": [],
   "source": [
    "# GERMAN cluster 1\n",
    "y_pred_decision_tree_german_1 = predict_decision_tree(X_train_german_1, y_train_german_1_b, X_test_german_1)\n",
    "y_pred_random_forest_german_1 = predict_random_forest(X_train_german_1, y_train_german_1_b, X_test_german_1)\n",
    "y_pred_ada_boost_german_1 = predict_adaboost(X_train_german_1, y_train_german_1_b, X_test_german_1)"
   ]
  },
  {
   "cell_type": "markdown",
   "id": "35310682-4c54-4a29-a08d-fe2029766adb",
   "metadata": {},
   "source": [
    "## Model Evaluation"
   ]
  },
  {
   "cell_type": "markdown",
   "id": "f8539161-e3f6-4a2f-80b8-a50513c726df",
   "metadata": {},
   "source": [
    "Calculating model accuracy score:"
   ]
  },
  {
   "cell_type": "code",
   "execution_count": 58,
   "id": "9646a8cb-ee55-4201-bdb5-6defbc825679",
   "metadata": {},
   "outputs": [
    {
     "name": "stdout",
     "output_type": "stream",
     "text": [
      "Accuracy with the Decision Tree Classifier: 1.0\n"
     ]
    }
   ],
   "source": [
    "print(\"Accuracy with the Decision Tree Classifier:\", metrics.accuracy_score(y_test, y_pred_decision_tree))"
   ]
  },
  {
   "cell_type": "code",
   "execution_count": 59,
   "id": "5bdf8138-0059-4c00-bb09-6baa8fe297a1",
   "metadata": {},
   "outputs": [
    {
     "name": "stdout",
     "output_type": "stream",
     "text": [
      "Accuracy with the Decision Tree Classifier (with hyperparameters tuned): 0.6214435459718478\n"
     ]
    }
   ],
   "source": [
    "print(\"Accuracy with the Decision Tree Classifier (with hyperparameters tuned):\", metrics.accuracy_score(y_test, y_pred_decision_tree_hyperparameters_tuned))"
   ]
  },
  {
   "cell_type": "code",
   "execution_count": 60,
   "id": "a7d97e2c-f1f0-4227-b222-13951c75d09f",
   "metadata": {},
   "outputs": [
    {
     "name": "stdout",
     "output_type": "stream",
     "text": [
      "Accuracy with the Random Forest Classifier: 1.0\n"
     ]
    }
   ],
   "source": [
    "print(\"Accuracy with the Random Forest Classifier:\", metrics.accuracy_score(y_test, y_pred_random_forest))"
   ]
  },
  {
   "cell_type": "code",
   "execution_count": 61,
   "id": "bac52bbf-374d-42db-aa3e-93ea44f80008",
   "metadata": {},
   "outputs": [
    {
     "name": "stdout",
     "output_type": "stream",
     "text": [
      "Accuracy with the Random Forest Classifier (with hyperparameters tuned): 0.7056004791853848\n"
     ]
    }
   ],
   "source": [
    "print(\"Accuracy with the Random Forest Classifier (with hyperparameters tuned):\", metrics.accuracy_score(y_test, y_pred_random_forest_hyperparameters_tuned))"
   ]
  },
  {
   "cell_type": "code",
   "execution_count": 62,
   "id": "e489ccd9-adab-414f-8642-a5c2aceadecc",
   "metadata": {},
   "outputs": [
    {
     "name": "stdout",
     "output_type": "stream",
     "text": [
      "Accuracy with the Ada Boost Classifier: 1.0\n"
     ]
    }
   ],
   "source": [
    "print(\"Accuracy with the Ada Boost Classifier:\", metrics.accuracy_score(y_test, y_pred_ada_boost))"
   ]
  },
  {
   "cell_type": "code",
   "execution_count": 63,
   "id": "5011263f-fa25-4159-ba8b-a7eab4c952d7",
   "metadata": {},
   "outputs": [
    {
     "name": "stdout",
     "output_type": "stream",
     "text": [
      "Accuracy with the Ada Boost Classifier (with hyperparameters tuned): 0.7298592392932015\n"
     ]
    }
   ],
   "source": [
    "print(\"Accuracy with the Ada Boost Classifier (with hyperparameters tuned):\", metrics.accuracy_score(y_test, y_pred_ada_boost_hyperparameters_tuned))"
   ]
  },
  {
   "cell_type": "markdown",
   "id": "616b2e9f-3bfc-4b6b-879a-e1ce641a72f3",
   "metadata": {},
   "source": [
    "Calculating accuracy score cluster math 0:"
   ]
  },
  {
   "cell_type": "code",
   "execution_count": 64,
   "id": "d337da50-e821-485e-98d2-cca9c493b898",
   "metadata": {},
   "outputs": [
    {
     "name": "stdout",
     "output_type": "stream",
     "text": [
      "Accuracy with the Decision Tree Classifier Cluster Math 0: 0.9988781691720888\n"
     ]
    }
   ],
   "source": [
    "print(\"Accuracy with the Decision Tree Classifier Cluster Math 0:\", metrics.accuracy_score(y_test_math_0, y_pred_decision_tree_math_0))"
   ]
  },
  {
   "cell_type": "code",
   "execution_count": 65,
   "id": "405aaf9a-e7da-4c64-83a7-e5d2d0d04a85",
   "metadata": {},
   "outputs": [
    {
     "name": "stdout",
     "output_type": "stream",
     "text": [
      "Accuracy with the Random Forest Classifier Cluster Math 0: 1.0\n"
     ]
    }
   ],
   "source": [
    "print(\"Accuracy with the Random Forest Classifier Cluster Math 0:\", metrics.accuracy_score(y_test_math_0, y_pred_random_forest_math_0))"
   ]
  },
  {
   "cell_type": "code",
   "execution_count": 66,
   "id": "5aef1873-61a3-4758-8c7d-213eab0e486d",
   "metadata": {},
   "outputs": [
    {
     "name": "stdout",
     "output_type": "stream",
     "text": [
      "Accuracy with the Ada Boost Classifier Cluster Math 0: 1.0\n"
     ]
    }
   ],
   "source": [
    "print(\"Accuracy with the Ada Boost Classifier Cluster Math 0:\", metrics.accuracy_score(y_test_math_0, y_pred_ada_boost_math_0))"
   ]
  },
  {
   "cell_type": "markdown",
   "id": "557c7ad0-13a2-458d-994a-772641512a5e",
   "metadata": {},
   "source": [
    "Calculating accuracy score cluster math 1:"
   ]
  },
  {
   "cell_type": "code",
   "execution_count": 67,
   "id": "bffe0615-78f9-4b3c-aee5-e0cadef478ac",
   "metadata": {},
   "outputs": [
    {
     "name": "stdout",
     "output_type": "stream",
     "text": [
      "Accuracy with the Decision Tree Classifier Cluster Math 1: 0.2\n"
     ]
    }
   ],
   "source": [
    "print(\"Accuracy with the Decision Tree Classifier Cluster Math 1:\", metrics.accuracy_score(y_test_math_1, y_pred_decision_tree_math_1))"
   ]
  },
  {
   "cell_type": "code",
   "execution_count": 68,
   "id": "c3adc08c-2643-46b6-9b2a-3a660837e032",
   "metadata": {},
   "outputs": [
    {
     "name": "stdout",
     "output_type": "stream",
     "text": [
      "Accuracy with the Random Forest Classifier Cluster Math 1: 0.4\n"
     ]
    }
   ],
   "source": [
    "print(\"Accuracy with the Random Forest Classifier Cluster Math 1:\", metrics.accuracy_score(y_test_math_1, y_pred_random_forest_math_1))"
   ]
  },
  {
   "cell_type": "code",
   "execution_count": 69,
   "id": "e5b27774-9689-43b9-b3fe-7cb7b6fa1a83",
   "metadata": {},
   "outputs": [
    {
     "name": "stdout",
     "output_type": "stream",
     "text": [
      "Accuracy with the Ada Boost Classifier Cluster Math 0: 1.0\n"
     ]
    }
   ],
   "source": [
    "print(\"Accuracy with the Ada Boost Classifier Cluster Math 0:\", metrics.accuracy_score(y_test_math_0, y_pred_ada_boost_math_0))"
   ]
  },
  {
   "cell_type": "markdown",
   "id": "fbc6074a-28f2-451b-8938-2d4f5c72937c",
   "metadata": {},
   "source": [
    "Calculating accuracy score cluster german 0:"
   ]
  },
  {
   "cell_type": "code",
   "execution_count": 70,
   "id": "5438d2a6-7245-4b71-a5f3-fde86a767978",
   "metadata": {},
   "outputs": [
    {
     "name": "stdout",
     "output_type": "stream",
     "text": [
      "Accuracy with the Decision Tree Classifier Cluster German 0: 0.984743411927878\n"
     ]
    }
   ],
   "source": [
    "print(\"Accuracy with the Decision Tree Classifier Cluster German 0:\", metrics.accuracy_score(y_test_german_0, y_pred_decision_tree_german_0))"
   ]
  },
  {
   "cell_type": "code",
   "execution_count": 71,
   "id": "840e0df1-2a0e-4238-8ccb-1b5a84cf5317",
   "metadata": {},
   "outputs": [
    {
     "name": "stdout",
     "output_type": "stream",
     "text": [
      "Accuracy with the Random Forest Classifier Cluster German 0: 1.0\n"
     ]
    }
   ],
   "source": [
    "print(\"Accuracy with the Random Forest Classifier Cluster German 0:\", metrics.accuracy_score(y_test_german_0, y_pred_random_forest_german_0))"
   ]
  },
  {
   "cell_type": "code",
   "execution_count": 72,
   "id": "ab9717f4-703b-469a-aa9d-a2fc93130a42",
   "metadata": {},
   "outputs": [
    {
     "name": "stdout",
     "output_type": "stream",
     "text": [
      "Accuracy with the Ada Boost Classifier Cluster German 0: 1.0\n"
     ]
    }
   ],
   "source": [
    "print(\"Accuracy with the Ada Boost Classifier Cluster German 0:\", metrics.accuracy_score(y_test_german_0, y_pred_ada_boost_german_0))"
   ]
  },
  {
   "cell_type": "markdown",
   "id": "f1304ae4-4b20-4647-a66c-c0f9cbe8000e",
   "metadata": {},
   "source": [
    "Calculating accuracy score cluster german 1:"
   ]
  },
  {
   "cell_type": "code",
   "execution_count": 73,
   "id": "aecf5f46-ce9e-44b8-a3b6-8a040c37d4b4",
   "metadata": {},
   "outputs": [
    {
     "name": "stdout",
     "output_type": "stream",
     "text": [
      "Accuracy with the Decision Tree Classifier Cluster German 1: 0.3333333333333333\n"
     ]
    }
   ],
   "source": [
    "print(\"Accuracy with the Decision Tree Classifier Cluster German 1:\", metrics.accuracy_score(y_test_german_1, y_pred_decision_tree_german_1))"
   ]
  },
  {
   "cell_type": "code",
   "execution_count": 74,
   "id": "82717f8e-52b0-4ab6-a7a4-317ecf389d14",
   "metadata": {},
   "outputs": [
    {
     "name": "stdout",
     "output_type": "stream",
     "text": [
      "Accuracy with the Random Forest Classifier Cluster German 1: 0.6666666666666666\n"
     ]
    }
   ],
   "source": [
    "print(\"Accuracy with the Random Forest Classifier Cluster German 1:\", metrics.accuracy_score(y_test_german_1, y_pred_random_forest_german_1))"
   ]
  },
  {
   "cell_type": "code",
   "execution_count": 75,
   "id": "fda4d98e-ae01-470c-816d-9c48ec9ce973",
   "metadata": {},
   "outputs": [
    {
     "name": "stdout",
     "output_type": "stream",
     "text": [
      "Accuracy with the Ada Boost Classifier Cluster German 1: 0.6666666666666666\n"
     ]
    }
   ],
   "source": [
    "print(\"Accuracy with the Ada Boost Classifier Cluster German 1:\", metrics.accuracy_score(y_test_german_1, y_pred_ada_boost_german_1))"
   ]
  },
  {
   "cell_type": "markdown",
   "id": "29f550f6-3dbb-4f90-8532-d16e13472f6f",
   "metadata": {},
   "source": [
    "#### Utils:"
   ]
  },
  {
   "cell_type": "code",
   "execution_count": 76,
   "id": "a60735a1-d629-441f-b06a-4443c9f7b801",
   "metadata": {},
   "outputs": [],
   "source": [
    "def get_metrics_dict(y_true, y_pred, report = True, target_names=['Failed', 'Passed']):\n",
    "    \"\"\"\n",
    "    Prints a classification report and \n",
    "    computes the following set of binary classification metrics:\n",
    "    - 'accuracy'\n",
    "    - 'balanced_accuracy': accuracy taking class balance into account,\n",
    "    - 'adjusted_balanced_accuracy' : balanced accuracy accounting for chance in classification\n",
    "    - 'f1'\n",
    "    - 'f1_weighted' : F1 score weighted by classes support,\n",
    "    - 'matthews' : matthews binary classification correlation coefficient.\n",
    "    \"\"\"\n",
    "    scores={}\n",
    "    \n",
    "    if report:\n",
    "        print(metrics.classification_report(y_true, y_pred, target_names=target_names))\n",
    "\n",
    "    scores['accuracy'] = metrics.accuracy_score(y_true, y_pred)\n",
    "\n",
    "    scores['balanced_accuracy'] = metrics.balanced_accuracy_score(y_true, y_pred)\n",
    "    \n",
    "    scores['adjusted_balanced_accuracy'] = metrics.balanced_accuracy_score(y_true, y_pred, adjusted=True)\n",
    "\n",
    "    scores['f1'] = metrics.f1_score(y_true, y_pred)\n",
    "\n",
    "    scores['f1_weighted'] = metrics.f1_score(y_true, y_pred, average='weighted')\n",
    "\n",
    "    scores['matthews'] = metrics.matthews_corrcoef(y_true, y_pred)\n",
    "    \n",
    "    return scores"
   ]
  },
  {
   "cell_type": "code",
   "execution_count": 77,
   "id": "a75800ef-31d3-4368-907e-d10bd213904e",
   "metadata": {},
   "outputs": [],
   "source": [
    "def analyze_val_scores(results, y_true, title):\n",
    "    \"\"\"\n",
    "    Analyzes all the input results across various metrics.\n",
    "    'results' is expected to be of shape [ (n_samples, y_pred) ].\n",
    "    \"\"\"\n",
    "    print(\"\\n\"+title)\n",
    "    \n",
    "    n_samples = []\n",
    "    metrics_dicts = []\n",
    "    \n",
    "    # sorting results array\n",
    "    results = np.array(sorted(results, key=lambda x : x[0]), dtype=object)\n",
    "    \n",
    "    # Creating all the metrics\n",
    "    for _n_samples, y_pred in results:\n",
    "        _y_true = y_true[:len(y_pred)]\n",
    "        \n",
    "        n_samples.append(_n_samples)\n",
    "        metrics_dicts.append(get_metrics_dict(y_true, y_pred, report=False))\n",
    "    \n",
    "    # Plotting F1 & accuracy across samples\n",
    "    fig, axes = plt.subplots(1, 2, figsize=(15,5))\n",
    "    \n",
    "    for i, m in enumerate(['f1', 'accuracy']):\n",
    "        ax = axes[i]\n",
    "        y = [d[m] for d in metrics_dicts]\n",
    "        x = n_samples\n",
    "        \n",
    "        ax.plot(x, y)\n",
    "        ax.set_xlabel('Number of samples used to train classifier.')\n",
    "        ylabel = 'Accuracy' if m=='accuracy' else 'F1-score'\n",
    "        ax.set_ylabel(ylabel)\n",
    "        \n",
    "    plt.show()\n",
    "    \n",
    "    ## Creating table\n",
    "    \n",
    "    # Creating all columns and columns length (min 6, max length of title)\n",
    "    ms = list(metrics_dicts[0].keys())\n",
    "    ms = [(m, max(len(m), 6)) for m in ms]\n",
    "    \n",
    "    # Printing table's first line\n",
    "    print()\n",
    "    print(f\"{'':9s}|\" + \"|\".join([ m for m, l in ms ]) )\n",
    "    \n",
    "    # For each n_sample, print all metric values\n",
    "    for _n_samples, d in zip(n_samples, metrics_dicts):\n",
    "        line = f\"{_n_samples:9.0f}|\"\n",
    "        \n",
    "        _ms = [f\"{d[m]:6.3f}\" for m, l in ms]\n",
    "        line = line + \"|\".join(_ms)\n",
    "        \n",
    "        print(line)"
   ]
  },
  {
   "cell_type": "code",
   "execution_count": 78,
   "id": "c0c0877c-ea3a-4bb1-b27f-92432b4a39e7",
   "metadata": {},
   "outputs": [],
   "source": [
    "# Train a classifier for an increasing number of samples to tackle infeasibility due to quadratic scaling\n",
    "\n",
    "def training(classifier_type, X_train, y_train, X_test):\n",
    "    n_samples = np.array([int(x) for x in np.linspace(10, len(y_train))])\n",
    "    n_samples = [s for s in n_samples if s < 1000]\n",
    "    print(f\"INFO: Going up to {n_samples[-1]} samples.\")\n",
    "    validations = []\n",
    "\n",
    "    for _n_samples in n_samples:\n",
    "        print(f\"Training with {_n_samples} samples...\")\n",
    "\n",
    "        x, y = resample(X_train, y_train, random_state=seed, n_samples=_n_samples)\n",
    "        y = np.array(y).ravel()\n",
    "\n",
    "        if classifier_type == 'decision_tree':\n",
    "            clf = DecisionTreeClassifier()\n",
    "            clf.fit(x, y)\n",
    "            _validation = clf.predict(X_test)\n",
    "        elif classifier_type == 'random_forest':\n",
    "            clf = RandomForestClassifier(n_estimators=100)\n",
    "            clf.fit(x, y)\n",
    "            _validation = clf.predict(X_test)\n",
    "        else:\n",
    "            abc = AdaBoostClassifier(n_estimators=50, learning_rate=1)\n",
    "            model = abc.fit(x, y)\n",
    "            _validation = model.predict(X_test)\n",
    "\n",
    "        validations.append((_n_samples, _validation))\n",
    "        print(f\"Done!\")\n",
    "    return validations"
   ]
  },
  {
   "cell_type": "code",
   "execution_count": 79,
   "id": "198fda45-8fb0-4df2-8366-bf117c8fa9ea",
   "metadata": {},
   "outputs": [
    {
     "name": "stdout",
     "output_type": "stream",
     "text": [
      "INFO: Going up to 867 samples.\n",
      "Training with 10 samples...\n",
      "Done!\n",
      "Training with 152 samples...\n",
      "Done!\n",
      "Training with 295 samples...\n",
      "Done!\n",
      "Training with 438 samples...\n",
      "Done!\n",
      "Training with 581 samples...\n",
      "Done!\n",
      "Training with 724 samples...\n",
      "Done!\n",
      "Training with 867 samples...\n",
      "Done!\n",
      "\n",
      "Classification using DecisionTreeClassifier (no clustering)\n"
     ]
    },
    {
     "data": {
      "image/png": "[encoded data removed]",
      "text/plain": [
       "<Figure size 1080x360 with 2 Axes>"
      ]
     },
     "metadata": {
      "needs_background": "light"
     },
     "output_type": "display_data"
    },
    {
     "name": "stdout",
     "output_type": "stream",
     "text": [
      "\n",
      "         |accuracy|balanced_accuracy|adjusted_balanced_accuracy|f1|f1_weighted|matthews\n",
      "       10| 0.890| 0.926| 0.851| 0.920| 0.895| 0.775\n",
      "      152| 0.986| 0.986| 0.971| 0.990| 0.986| 0.964\n",
      "      295| 1.000| 1.000| 1.000| 1.000| 1.000| 1.000\n",
      "      438| 1.000| 1.000| 1.000| 1.000| 1.000| 1.000\n",
      "      581| 1.000| 1.000| 1.000| 1.000| 1.000| 1.000\n",
      "      724| 1.000| 1.000| 1.000| 1.000| 1.000| 1.000\n",
      "      867| 1.000| 1.000| 1.000| 1.000| 1.000| 1.000\n"
     ]
    }
   ],
   "source": [
    "validations_decision_tree = training('decision_tree', X_train, y_train_b, X_test)\n",
    "analyze_val_scores(validations_decision_tree, y_test, \"Classification using DecisionTreeClassifier (no clustering)\")"
   ]
  },
  {
   "cell_type": "code",
   "execution_count": 80,
   "id": "3c8dadbe-2301-4aae-bb48-7ad4e712a91c",
   "metadata": {},
   "outputs": [
    {
     "name": "stdout",
     "output_type": "stream",
     "text": [
      "INFO: Going up to 867 samples.\n",
      "Training with 10 samples...\n",
      "Done!\n",
      "Training with 152 samples...\n",
      "Done!\n",
      "Training with 295 samples...\n",
      "Done!\n",
      "Training with 438 samples...\n",
      "Done!\n",
      "Training with 581 samples...\n",
      "Done!\n",
      "Training with 724 samples...\n",
      "Done!\n",
      "Training with 867 samples...\n",
      "Done!\n",
      "\n",
      "Classification using RandomForestClassifier (no clustering)\n"
     ]
    },
    {
     "data": {
      "image/png": "[encoded data removed]",
      "text/plain": [
       "<Figure size 1080x360 with 2 Axes>"
      ]
     },
     "metadata": {
      "needs_background": "light"
     },
     "output_type": "display_data"
    },
    {
     "name": "stdout",
     "output_type": "stream",
     "text": [
      "\n",
      "         |accuracy|balanced_accuracy|adjusted_balanced_accuracy|f1|f1_weighted|matthews\n",
      "       10| 0.817| 0.876| 0.752| 0.858| 0.828| 0.666\n",
      "      152| 0.906| 0.936| 0.873| 0.932| 0.910| 0.802\n",
      "      295| 0.980| 0.986| 0.972| 0.986| 0.980| 0.950\n",
      "      438| 0.986| 0.990| 0.980| 0.990| 0.986| 0.964\n",
      "      581| 0.991| 0.994| 0.988| 0.994| 0.991| 0.978\n",
      "      724| 0.998| 0.999| 0.998| 0.999| 0.998| 0.995\n",
      "      867| 0.999| 1.000| 0.999| 1.000| 0.999| 0.998\n"
     ]
    }
   ],
   "source": [
    "validations_random_forest = training('random_forest', X_train, y_train_b, X_test)\n",
    "analyze_val_scores(validations_random_forest, y_test, \"Classification using RandomForestClassifier (no clustering)\")"
   ]
  },
  {
   "cell_type": "code",
   "execution_count": 81,
   "id": "a4f6486d-2c82-44cc-9e6c-4c12d6181d5f",
   "metadata": {},
   "outputs": [
    {
     "name": "stdout",
     "output_type": "stream",
     "text": [
      "INFO: Going up to 867 samples.\n",
      "Training with 10 samples...\n",
      "Done!\n",
      "Training with 152 samples...\n",
      "Done!\n",
      "Training with 295 samples...\n",
      "Done!\n",
      "Training with 438 samples...\n",
      "Done!\n",
      "Training with 581 samples...\n",
      "Done!\n",
      "Training with 724 samples...\n",
      "Done!\n",
      "Training with 867 samples...\n",
      "Done!\n",
      "\n",
      "Classification using AdaBoostClassifier (no clustering)\n"
     ]
    },
    {
     "data": {
      "image/png": "[encoded data removed]",
      "text/plain": [
       "<Figure size 1080x360 with 2 Axes>"
      ]
     },
     "metadata": {
      "needs_background": "light"
     },
     "output_type": "display_data"
    },
    {
     "name": "stdout",
     "output_type": "stream",
     "text": [
      "\n",
      "         |accuracy|balanced_accuracy|adjusted_balanced_accuracy|f1|f1_weighted|matthews\n",
      "       10| 0.890| 0.926| 0.851| 0.920| 0.895| 0.775\n",
      "      152| 0.990| 0.993| 0.986| 0.993| 0.990| 0.974\n",
      "      295| 1.000| 1.000| 1.000| 1.000| 1.000| 1.000\n",
      "      438| 1.000| 1.000| 1.000| 1.000| 1.000| 1.000\n",
      "      581| 1.000| 1.000| 1.000| 1.000| 1.000| 1.000\n",
      "      724| 1.000| 1.000| 1.000| 1.000| 1.000| 1.000\n",
      "      867| 1.000| 1.000| 1.000| 1.000| 1.000| 1.000\n"
     ]
    }
   ],
   "source": [
    "validations_adaboost = training('adaboost', X_train, y_train_b, X_test)\n",
    "analyze_val_scores(validations_adaboost, y_test, \"Classification using AdaBoostClassifier (no clustering)\")"
   ]
  },
  {
   "cell_type": "markdown",
   "id": "f6cd3134-ff4e-421a-a65d-8cdec8096904",
   "metadata": {},
   "source": [
    "Cluster math 0:"
   ]
  },
  {
   "cell_type": "code",
   "execution_count": 82,
   "id": "d434e47d-de6e-409a-bd40-99235af85df9",
   "metadata": {},
   "outputs": [
    {
     "name": "stdout",
     "output_type": "stream",
     "text": [
      "INFO: Going up to 857 samples.\n",
      "Training with 10 samples...\n",
      "Done!\n",
      "Training with 221 samples...\n",
      "Done!\n",
      "Training with 433 samples...\n",
      "Done!\n",
      "Training with 645 samples...\n",
      "Done!\n",
      "Training with 857 samples...\n",
      "Done!\n",
      "\n",
      "Classification using DecisionTreeClassifier (cluster math 0)\n"
     ]
    },
    {
     "data": {
      "image/png": "[encoded data removed]",
      "text/plain": [
       "<Figure size 1080x360 with 2 Axes>"
      ]
     },
     "metadata": {
      "needs_background": "light"
     },
     "output_type": "display_data"
    },
    {
     "name": "stdout",
     "output_type": "stream",
     "text": [
      "\n",
      "         |accuracy|balanced_accuracy|adjusted_balanced_accuracy|f1|f1_weighted|matthews\n",
      "       10| 0.717| 0.648| 0.297| 0.803| 0.717| 0.297\n",
      "      221| 1.000| 1.000| 1.000| 1.000| 1.000| 1.000\n",
      "      433| 1.000| 1.000| 1.000| 1.000| 1.000| 1.000\n",
      "      645| 1.000| 1.000| 1.000| 1.000| 1.000| 1.000\n",
      "      857| 1.000| 1.000| 1.000| 1.000| 1.000| 1.000\n"
     ]
    }
   ],
   "source": [
    "validations_decision_tree_math_0 = training('decision_tree', X_train_math_0, y_train_math_0_b, X_test_math_0)\n",
    "analyze_val_scores(validations_decision_tree_math_0, y_test_math_0, \"Classification using DecisionTreeClassifier (cluster math 0)\")"
   ]
  },
  {
   "cell_type": "code",
   "execution_count": 83,
   "id": "d72189da-199d-4fb4-9e3a-e117e081f539",
   "metadata": {},
   "outputs": [
    {
     "name": "stdout",
     "output_type": "stream",
     "text": [
      "INFO: Going up to 857 samples.\n",
      "Training with 10 samples...\n",
      "Done!\n",
      "Training with 221 samples...\n",
      "Done!\n",
      "Training with 433 samples...\n",
      "Done!\n",
      "Training with 645 samples...\n",
      "Done!\n",
      "Training with 857 samples...\n",
      "Done!\n",
      "\n",
      "Classification using RandomForestClassifier (cluster math 0)\n"
     ]
    },
    {
     "data": {
      "image/png": "[encoded data removed]",
      "text/plain": [
       "<Figure size 1080x360 with 2 Axes>"
      ]
     },
     "metadata": {
      "needs_background": "light"
     },
     "output_type": "display_data"
    },
    {
     "name": "stdout",
     "output_type": "stream",
     "text": [
      "\n",
      "         |accuracy|balanced_accuracy|adjusted_balanced_accuracy|f1|f1_weighted|matthews\n",
      "       10| 0.713| 0.646| 0.291| 0.800| 0.713| 0.291\n",
      "      221| 0.974| 0.981| 0.962| 0.981| 0.974| 0.938\n",
      "      433| 1.000| 1.000| 0.999| 1.000| 1.000| 0.999\n",
      "      645| 1.000| 1.000| 1.000| 1.000| 1.000| 1.000\n",
      "      857| 1.000| 1.000| 1.000| 1.000| 1.000| 1.000\n"
     ]
    }
   ],
   "source": [
    "validations_random_forest_math_0 = training('random_forest', X_train_math_0, y_train_math_0_b, X_test_math_0)\n",
    "analyze_val_scores(validations_random_forest_math_0, y_test_math_0, \"Classification using RandomForestClassifier (cluster math 0)\")"
   ]
  },
  {
   "cell_type": "code",
   "execution_count": 84,
   "id": "25de9466-9c2b-4a6a-a242-cd0d81055960",
   "metadata": {},
   "outputs": [
    {
     "name": "stdout",
     "output_type": "stream",
     "text": [
      "INFO: Going up to 857 samples.\n",
      "Training with 10 samples...\n",
      "Done!\n",
      "Training with 221 samples...\n",
      "Done!\n",
      "Training with 433 samples...\n",
      "Done!\n",
      "Training with 645 samples...\n",
      "Done!\n",
      "Training with 857 samples...\n",
      "Done!\n",
      "\n",
      "Classification using AdaBoostClassifier (cluster math 0)\n"
     ]
    },
    {
     "data": {
      "image/png": "[encoded data removed]",
      "text/plain": [
       "<Figure size 1080x360 with 2 Axes>"
      ]
     },
     "metadata": {
      "needs_background": "light"
     },
     "output_type": "display_data"
    },
    {
     "name": "stdout",
     "output_type": "stream",
     "text": [
      "\n",
      "         |accuracy|balanced_accuracy|adjusted_balanced_accuracy|f1|f1_weighted|matthews\n",
      "       10| 0.717| 0.648| 0.297| 0.803| 0.717| 0.297\n",
      "      221| 1.000| 1.000| 1.000| 1.000| 1.000| 1.000\n",
      "      433| 1.000| 1.000| 1.000| 1.000| 1.000| 1.000\n",
      "      645| 1.000| 1.000| 1.000| 1.000| 1.000| 1.000\n",
      "      857| 1.000| 1.000| 1.000| 1.000| 1.000| 1.000\n"
     ]
    }
   ],
   "source": [
    "validations_adaboost_math_0 = training('adaboost', X_train_math_0, y_train_math_0_b, X_test_math_0)\n",
    "analyze_val_scores(validations_adaboost_math_0, y_test_math_0, \"Classification using AdaBoostClassifier (cluster math 0)\")"
   ]
  },
  {
   "cell_type": "markdown",
   "id": "05b0c485-4e77-4d67-ad41-c6a9ee03918d",
   "metadata": {},
   "source": [
    "Cluster math 1:"
   ]
  },
  {
   "cell_type": "code",
   "execution_count": 85,
   "id": "90924998-31f1-464e-8103-7057477dc9e4",
   "metadata": {},
   "outputs": [
    {
     "name": "stdout",
     "output_type": "stream",
     "text": [
      "INFO: Going up to 8 samples.\n",
      "Training with 10 samples...\n",
      "Done!\n",
      "Training with 9 samples...\n",
      "Done!\n",
      "Training with 9 samples...\n",
      "Done!\n",
      "Training with 9 samples...\n",
      "Done!\n",
      "Training with 9 samples...\n",
      "Done!\n",
      "Training with 9 samples...\n",
      "Done!\n",
      "Training with 9 samples...\n",
      "Done!\n",
      "Training with 9 samples...\n",
      "Done!\n",
      "Training with 9 samples...\n",
      "Done!\n",
      "Training with 9 samples...\n",
      "Done!\n",
      "Training with 9 samples...\n",
      "Done!\n",
      "Training with 9 samples...\n",
      "Done!\n",
      "Training with 9 samples...\n",
      "Done!\n",
      "Training with 9 samples...\n",
      "Done!\n",
      "Training with 9 samples...\n",
      "Done!\n",
      "Training with 9 samples...\n",
      "Done!\n",
      "Training with 9 samples...\n",
      "Done!\n",
      "Training with 9 samples...\n",
      "Done!\n",
      "Training with 9 samples...\n",
      "Done!\n",
      "Training with 9 samples...\n",
      "Done!\n",
      "Training with 9 samples...\n",
      "Done!\n",
      "Training with 9 samples...\n",
      "Done!\n",
      "Training with 9 samples...\n",
      "Done!\n",
      "Training with 9 samples...\n",
      "Done!\n",
      "Training with 9 samples...\n",
      "Done!\n",
      "Training with 8 samples...\n",
      "Done!\n",
      "Training with 8 samples...\n",
      "Done!\n",
      "Training with 8 samples...\n",
      "Done!\n",
      "Training with 8 samples...\n",
      "Done!\n",
      "Training with 8 samples...\n",
      "Done!\n",
      "Training with 8 samples...\n",
      "Done!\n",
      "Training with 8 samples...\n",
      "Done!\n",
      "Training with 8 samples...\n",
      "Done!\n",
      "Training with 8 samples...\n",
      "Done!\n",
      "Training with 8 samples...\n",
      "Done!\n",
      "Training with 8 samples...\n",
      "Done!\n",
      "Training with 8 samples...\n",
      "Done!\n",
      "Training with 8 samples...\n",
      "Done!\n",
      "Training with 8 samples...\n",
      "Done!\n",
      "Training with 8 samples...\n",
      "Done!\n",
      "Training with 8 samples...\n",
      "Done!\n",
      "Training with 8 samples...\n",
      "Done!\n",
      "Training with 8 samples...\n",
      "Done!\n",
      "Training with 8 samples...\n",
      "Done!\n",
      "Training with 8 samples...\n",
      "Done!\n",
      "Training with 8 samples...\n",
      "Done!\n",
      "Training with 8 samples...\n",
      "Done!\n",
      "Training with 8 samples...\n",
      "Done!\n",
      "Training with 8 samples...\n",
      "Done!\n",
      "Training with 8 samples...\n",
      "Done!\n",
      "\n",
      "Classification using DecisionTreeClassifier (cluster math 1)\n"
     ]
    },
    {
     "data": {
      "image/png": "[encoded data removed]",
      "text/plain": [
       "<Figure size 1080x360 with 2 Axes>"
      ]
     },
     "metadata": {
      "needs_background": "light"
     },
     "output_type": "display_data"
    },
    {
     "name": "stdout",
     "output_type": "stream",
     "text": [
      "\n",
      "         |accuracy|balanced_accuracy|adjusted_balanced_accuracy|f1|f1_weighted|matthews\n",
      "        8| 0.400| 0.625| 0.250| 0.400| 0.400| 0.250\n",
      "        8| 0.400| 0.625| 0.250| 0.400| 0.400| 0.250\n",
      "        8| 0.400| 0.625| 0.250| 0.400| 0.400| 0.250\n",
      "        8| 0.400| 0.625| 0.250| 0.400| 0.400| 0.250\n",
      "        8| 0.400| 0.625| 0.250| 0.400| 0.400| 0.250\n",
      "        8| 0.400| 0.625| 0.250| 0.400| 0.400| 0.250\n",
      "        8| 0.400| 0.625| 0.250| 0.400| 0.400| 0.250\n",
      "        8| 0.400| 0.625| 0.250| 0.400| 0.400| 0.250\n",
      "        8| 0.400| 0.625| 0.250| 0.400| 0.400| 0.250\n",
      "        8| 0.400| 0.625| 0.250| 0.400| 0.400| 0.250\n",
      "        8| 0.400| 0.625| 0.250| 0.400| 0.400| 0.250\n",
      "        8| 0.400| 0.625| 0.250| 0.400| 0.400| 0.250\n",
      "        8| 0.400| 0.625| 0.250| 0.400| 0.400| 0.250\n",
      "        8| 0.400| 0.625| 0.250| 0.400| 0.400| 0.250\n",
      "        8| 0.400| 0.625| 0.250| 0.400| 0.400| 0.250\n",
      "        8| 0.400| 0.625| 0.250| 0.400| 0.400| 0.250\n",
      "        8| 0.400| 0.625| 0.250| 0.400| 0.400| 0.250\n",
      "        8| 0.400| 0.625| 0.250| 0.400| 0.400| 0.250\n",
      "        8| 0.400| 0.625| 0.250| 0.400| 0.400| 0.250\n",
      "        8| 0.400| 0.625| 0.250| 0.400| 0.400| 0.250\n",
      "        8| 0.400| 0.625| 0.250| 0.400| 0.400| 0.250\n",
      "        8| 0.400| 0.625| 0.250| 0.400| 0.400| 0.250\n",
      "        8| 0.400| 0.625| 0.250| 0.400| 0.400| 0.250\n",
      "        8| 0.400| 0.625| 0.250| 0.400| 0.400| 0.250\n",
      "        8| 0.400| 0.625| 0.250| 0.400| 0.400| 0.250\n",
      "        9| 0.400| 0.625| 0.250| 0.400| 0.400| 0.250\n",
      "        9| 0.400| 0.625| 0.250| 0.400| 0.400| 0.250\n",
      "        9| 0.400| 0.625| 0.250| 0.400| 0.400| 0.250\n",
      "        9| 0.400| 0.625| 0.250| 0.400| 0.400| 0.250\n",
      "        9| 0.400| 0.625| 0.250| 0.400| 0.400| 0.250\n",
      "        9| 0.400| 0.625| 0.250| 0.400| 0.400| 0.250\n",
      "        9| 0.400| 0.625| 0.250| 0.400| 0.400| 0.250\n",
      "        9| 0.400| 0.625| 0.250| 0.400| 0.400| 0.250\n",
      "        9| 0.400| 0.625| 0.250| 0.400| 0.400| 0.250\n",
      "        9| 0.400| 0.625| 0.250| 0.400| 0.400| 0.250\n",
      "        9| 0.400| 0.625| 0.250| 0.400| 0.400| 0.250\n",
      "        9| 0.400| 0.625| 0.250| 0.400| 0.400| 0.250\n",
      "        9| 0.400| 0.625| 0.250| 0.400| 0.400| 0.250\n",
      "        9| 0.400| 0.625| 0.250| 0.400| 0.400| 0.250\n",
      "        9| 0.400| 0.625| 0.250| 0.400| 0.400| 0.250\n",
      "        9| 0.400| 0.625| 0.250| 0.400| 0.400| 0.250\n",
      "        9| 0.400| 0.625| 0.250| 0.400| 0.400| 0.250\n",
      "        9| 0.400| 0.625| 0.250| 0.400| 0.400| 0.250\n",
      "        9| 0.400| 0.625| 0.250| 0.400| 0.400| 0.250\n",
      "        9| 0.400| 0.625| 0.250| 0.400| 0.400| 0.250\n",
      "        9| 0.400| 0.625| 0.250| 0.400| 0.400| 0.250\n",
      "        9| 0.400| 0.625| 0.250| 0.400| 0.400| 0.250\n",
      "        9| 0.400| 0.625| 0.250| 0.400| 0.400| 0.250\n",
      "        9| 0.400| 0.625| 0.250| 0.400| 0.400| 0.250\n",
      "       10| 0.400| 0.625| 0.250| 0.400| 0.400| 0.250\n"
     ]
    }
   ],
   "source": [
    "validations_decision_tree_math_1 = training('decision_tree', X_train_math_1, y_train_math_1_b, X_test_math_1)\n",
    "analyze_val_scores(validations_decision_tree_math_1, y_test_math_1, \"Classification using DecisionTreeClassifier (cluster math 1)\")"
   ]
  },
  {
   "cell_type": "code",
   "execution_count": 86,
   "id": "795e634a-85c6-4375-aabe-5c4d4030ffcd",
   "metadata": {},
   "outputs": [
    {
     "name": "stdout",
     "output_type": "stream",
     "text": [
      "INFO: Going up to 8 samples.\n",
      "Training with 10 samples...\n",
      "Done!\n",
      "Training with 9 samples...\n",
      "Done!\n",
      "Training with 9 samples...\n",
      "Done!\n",
      "Training with 9 samples...\n",
      "Done!\n",
      "Training with 9 samples...\n",
      "Done!\n",
      "Training with 9 samples...\n",
      "Done!\n",
      "Training with 9 samples...\n",
      "Done!\n",
      "Training with 9 samples...\n",
      "Done!\n",
      "Training with 9 samples...\n",
      "Done!\n",
      "Training with 9 samples...\n",
      "Done!\n",
      "Training with 9 samples...\n",
      "Done!\n",
      "Training with 9 samples...\n",
      "Done!\n",
      "Training with 9 samples...\n",
      "Done!\n",
      "Training with 9 samples...\n",
      "Done!\n",
      "Training with 9 samples...\n",
      "Done!\n",
      "Training with 9 samples...\n",
      "Done!\n",
      "Training with 9 samples...\n",
      "Done!\n",
      "Training with 9 samples...\n",
      "Done!\n",
      "Training with 9 samples...\n",
      "Done!\n",
      "Training with 9 samples...\n",
      "Done!\n",
      "Training with 9 samples...\n",
      "Done!\n",
      "Training with 9 samples...\n",
      "Done!\n",
      "Training with 9 samples...\n",
      "Done!\n",
      "Training with 9 samples...\n",
      "Done!\n",
      "Training with 9 samples...\n",
      "Done!\n",
      "Training with 8 samples...\n",
      "Done!\n",
      "Training with 8 samples...\n",
      "Done!\n",
      "Training with 8 samples...\n",
      "Done!\n",
      "Training with 8 samples...\n",
      "Done!\n",
      "Training with 8 samples...\n",
      "Done!\n",
      "Training with 8 samples...\n",
      "Done!\n",
      "Training with 8 samples...\n",
      "Done!\n",
      "Training with 8 samples...\n",
      "Done!\n",
      "Training with 8 samples...\n",
      "Done!\n",
      "Training with 8 samples...\n",
      "Done!\n",
      "Training with 8 samples...\n",
      "Done!\n",
      "Training with 8 samples...\n",
      "Done!\n",
      "Training with 8 samples...\n",
      "Done!\n",
      "Training with 8 samples...\n",
      "Done!\n",
      "Training with 8 samples...\n",
      "Done!\n",
      "Training with 8 samples...\n",
      "Done!\n",
      "Training with 8 samples...\n",
      "Done!\n",
      "Training with 8 samples...\n",
      "Done!\n",
      "Training with 8 samples...\n",
      "Done!\n",
      "Training with 8 samples...\n",
      "Done!\n",
      "Training with 8 samples...\n",
      "Done!\n",
      "Training with 8 samples...\n",
      "Done!\n",
      "Training with 8 samples...\n",
      "Done!\n",
      "Training with 8 samples...\n",
      "Done!\n",
      "Training with 8 samples...\n",
      "Done!\n",
      "\n",
      "Classification using RandomForestClassifier (cluster math 1)\n"
     ]
    },
    {
     "data": {
      "image/png": "[encoded data removed]",
      "text/plain": [
       "<Figure size 1080x360 with 2 Axes>"
      ]
     },
     "metadata": {
      "needs_background": "light"
     },
     "output_type": "display_data"
    },
    {
     "name": "stdout",
     "output_type": "stream",
     "text": [
      "\n",
      "         |accuracy|balanced_accuracy|adjusted_balanced_accuracy|f1|f1_weighted|matthews\n",
      "        8| 0.400| 0.625| 0.250| 0.400| 0.400| 0.250\n",
      "        8| 0.400| 0.625| 0.250| 0.400| 0.400| 0.250\n",
      "        8| 0.400| 0.625| 0.250| 0.400| 0.400| 0.250\n",
      "        8| 0.600| 0.750| 0.500| 0.667| 0.633| 0.408\n",
      "        8| 0.600| 0.750| 0.500| 0.667| 0.633| 0.408\n",
      "        8| 0.400| 0.625| 0.250| 0.400| 0.400| 0.250\n",
      "        8| 0.400| 0.625| 0.250| 0.400| 0.400| 0.250\n",
      "        8| 0.400| 0.625| 0.250| 0.400| 0.400| 0.250\n",
      "        8| 0.400| 0.625| 0.250| 0.400| 0.400| 0.250\n",
      "        8| 0.400| 0.625| 0.250| 0.400| 0.400| 0.250\n",
      "        8| 0.400| 0.625| 0.250| 0.400| 0.400| 0.250\n",
      "        8| 0.400| 0.625| 0.250| 0.400| 0.400| 0.250\n",
      "        8| 0.400| 0.625| 0.250| 0.400| 0.400| 0.250\n",
      "        8| 0.400| 0.625| 0.250| 0.400| 0.400| 0.250\n",
      "        8| 0.400| 0.625| 0.250| 0.400| 0.400| 0.250\n",
      "        8| 0.400| 0.625| 0.250| 0.400| 0.400| 0.250\n",
      "        8| 0.400| 0.625| 0.250| 0.400| 0.400| 0.250\n",
      "        8| 0.600| 0.750| 0.500| 0.667| 0.633| 0.408\n",
      "        8| 0.400| 0.625| 0.250| 0.400| 0.400| 0.250\n",
      "        8| 0.600| 0.750| 0.500| 0.667| 0.633| 0.408\n",
      "        8| 0.400| 0.625| 0.250| 0.400| 0.400| 0.250\n",
      "        8| 0.400| 0.625| 0.250| 0.400| 0.400| 0.250\n",
      "        8| 0.400| 0.625| 0.250| 0.400| 0.400| 0.250\n",
      "        8| 0.400| 0.625| 0.250| 0.400| 0.400| 0.250\n",
      "        8| 0.400| 0.625| 0.250| 0.400| 0.400| 0.250\n",
      "        9| 0.400| 0.625| 0.250| 0.400| 0.400| 0.250\n",
      "        9| 0.400| 0.625| 0.250| 0.400| 0.400| 0.250\n",
      "        9| 0.400| 0.625| 0.250| 0.400| 0.400| 0.250\n",
      "        9| 0.600| 0.750| 0.500| 0.667| 0.633| 0.408\n",
      "        9| 0.400| 0.625| 0.250| 0.400| 0.400| 0.250\n",
      "        9| 0.400| 0.625| 0.250| 0.400| 0.400| 0.250\n",
      "        9| 0.400| 0.625| 0.250| 0.400| 0.400| 0.250\n",
      "        9| 0.400| 0.625| 0.250| 0.400| 0.400| 0.250\n",
      "        9| 0.400| 0.625| 0.250| 0.400| 0.400| 0.250\n",
      "        9| 0.600| 0.750| 0.500| 0.667| 0.633| 0.408\n",
      "        9| 0.400| 0.625| 0.250| 0.400| 0.400| 0.250\n",
      "        9| 0.600| 0.750| 0.500| 0.667| 0.633| 0.408\n",
      "        9| 0.400| 0.625| 0.250| 0.400| 0.400| 0.250\n",
      "        9| 0.600| 0.750| 0.500| 0.667| 0.633| 0.408\n",
      "        9| 0.400| 0.625| 0.250| 0.400| 0.400| 0.250\n",
      "        9| 0.400| 0.625| 0.250| 0.400| 0.400| 0.250\n",
      "        9| 0.400| 0.625| 0.250| 0.400| 0.400| 0.250\n",
      "        9| 0.400| 0.625| 0.250| 0.400| 0.400| 0.250\n",
      "        9| 0.400| 0.625| 0.250| 0.400| 0.400| 0.250\n",
      "        9| 0.400| 0.625| 0.250| 0.400| 0.400| 0.250\n",
      "        9| 0.400| 0.625| 0.250| 0.400| 0.400| 0.250\n",
      "        9| 0.600| 0.750| 0.500| 0.667| 0.633| 0.408\n",
      "        9| 0.400| 0.625| 0.250| 0.400| 0.400| 0.250\n",
      "        9| 0.800| 0.875| 0.750| 0.857| 0.819| 0.612\n",
      "       10| 0.400| 0.625| 0.250| 0.400| 0.400| 0.250\n"
     ]
    }
   ],
   "source": [
    "validations_random_forest_math_1 = training('random_forest', X_train_math_1, y_train_math_1_b, X_test_math_1)\n",
    "analyze_val_scores(validations_random_forest_math_1, y_test_math_1, \"Classification using RandomForestClassifier (cluster math 1)\")"
   ]
  },
  {
   "cell_type": "code",
   "execution_count": 87,
   "id": "255c6564-4294-401e-8e41-c587d2d1434b",
   "metadata": {},
   "outputs": [
    {
     "name": "stdout",
     "output_type": "stream",
     "text": [
      "INFO: Going up to 8 samples.\n",
      "Training with 10 samples...\n",
      "Done!\n",
      "Training with 9 samples...\n",
      "Done!\n",
      "Training with 9 samples...\n",
      "Done!\n",
      "Training with 9 samples...\n",
      "Done!\n",
      "Training with 9 samples...\n",
      "Done!\n",
      "Training with 9 samples...\n",
      "Done!\n",
      "Training with 9 samples...\n",
      "Done!\n",
      "Training with 9 samples...\n",
      "Done!\n",
      "Training with 9 samples...\n",
      "Done!\n",
      "Training with 9 samples...\n",
      "Done!\n",
      "Training with 9 samples...\n",
      "Done!\n",
      "Training with 9 samples...\n",
      "Done!\n",
      "Training with 9 samples...\n",
      "Done!\n",
      "Training with 9 samples...\n",
      "Done!\n",
      "Training with 9 samples...\n",
      "Done!\n",
      "Training with 9 samples...\n",
      "Done!\n",
      "Training with 9 samples...\n",
      "Done!\n",
      "Training with 9 samples...\n",
      "Done!\n",
      "Training with 9 samples...\n",
      "Done!\n",
      "Training with 9 samples...\n",
      "Done!\n",
      "Training with 9 samples...\n",
      "Done!\n",
      "Training with 9 samples...\n",
      "Done!\n",
      "Training with 9 samples...\n",
      "Done!\n",
      "Training with 9 samples...\n",
      "Done!\n",
      "Training with 9 samples...\n",
      "Done!\n",
      "Training with 8 samples...\n",
      "Done!\n",
      "Training with 8 samples...\n",
      "Done!\n",
      "Training with 8 samples...\n",
      "Done!\n",
      "Training with 8 samples...\n",
      "Done!\n",
      "Training with 8 samples...\n",
      "Done!\n",
      "Training with 8 samples...\n",
      "Done!\n",
      "Training with 8 samples...\n",
      "Done!\n",
      "Training with 8 samples...\n",
      "Done!\n",
      "Training with 8 samples...\n",
      "Done!\n",
      "Training with 8 samples...\n",
      "Done!\n",
      "Training with 8 samples...\n",
      "Done!\n",
      "Training with 8 samples...\n",
      "Done!\n",
      "Training with 8 samples...\n",
      "Done!\n",
      "Training with 8 samples...\n",
      "Done!\n",
      "Training with 8 samples...\n",
      "Done!\n",
      "Training with 8 samples...\n",
      "Done!\n",
      "Training with 8 samples...\n",
      "Done!\n",
      "Training with 8 samples...\n",
      "Done!\n",
      "Training with 8 samples...\n",
      "Done!\n",
      "Training with 8 samples...\n",
      "Done!\n",
      "Training with 8 samples...\n",
      "Done!\n",
      "Training with 8 samples...\n",
      "Done!\n",
      "Training with 8 samples...\n",
      "Done!\n",
      "Training with 8 samples...\n",
      "Done!\n",
      "Training with 8 samples...\n",
      "Done!\n",
      "\n",
      "Classification using AdaBoostClassifier (cluster math 1)\n"
     ]
    },
    {
     "data": {
      "image/png": "[encoded data removed]",
      "text/plain": [
       "<Figure size 1080x360 with 2 Axes>"
      ]
     },
     "metadata": {
      "needs_background": "light"
     },
     "output_type": "display_data"
    },
    {
     "name": "stdout",
     "output_type": "stream",
     "text": [
      "\n",
      "         |accuracy|balanced_accuracy|adjusted_balanced_accuracy|f1|f1_weighted|matthews\n",
      "        8| 0.400| 0.625| 0.250| 0.400| 0.400| 0.250\n",
      "        8| 0.400| 0.625| 0.250| 0.400| 0.400| 0.250\n",
      "        8| 0.400| 0.625| 0.250| 0.400| 0.400| 0.250\n",
      "        8| 0.400| 0.625| 0.250| 0.400| 0.400| 0.250\n",
      "        8| 0.400| 0.625| 0.250| 0.400| 0.400| 0.250\n",
      "        8| 0.400| 0.625| 0.250| 0.400| 0.400| 0.250\n",
      "        8| 0.400| 0.625| 0.250| 0.400| 0.400| 0.250\n",
      "        8| 0.400| 0.625| 0.250| 0.400| 0.400| 0.250\n",
      "        8| 0.400| 0.625| 0.250| 0.400| 0.400| 0.250\n",
      "        8| 0.400| 0.625| 0.250| 0.400| 0.400| 0.250\n",
      "        8| 0.400| 0.625| 0.250| 0.400| 0.400| 0.250\n",
      "        8| 0.400| 0.625| 0.250| 0.400| 0.400| 0.250\n",
      "        8| 0.400| 0.625| 0.250| 0.400| 0.400| 0.250\n",
      "        8| 0.400| 0.625| 0.250| 0.400| 0.400| 0.250\n",
      "        8| 0.400| 0.625| 0.250| 0.400| 0.400| 0.250\n",
      "        8| 0.400| 0.625| 0.250| 0.400| 0.400| 0.250\n",
      "        8| 0.400| 0.625| 0.250| 0.400| 0.400| 0.250\n",
      "        8| 0.400| 0.625| 0.250| 0.400| 0.400| 0.250\n",
      "        8| 0.400| 0.625| 0.250| 0.400| 0.400| 0.250\n",
      "        8| 0.400| 0.625| 0.250| 0.400| 0.400| 0.250\n",
      "        8| 0.400| 0.625| 0.250| 0.400| 0.400| 0.250\n",
      "        8| 0.400| 0.625| 0.250| 0.400| 0.400| 0.250\n",
      "        8| 0.400| 0.625| 0.250| 0.400| 0.400| 0.250\n",
      "        8| 0.400| 0.625| 0.250| 0.400| 0.400| 0.250\n",
      "        8| 0.400| 0.625| 0.250| 0.400| 0.400| 0.250\n",
      "        9| 0.400| 0.625| 0.250| 0.400| 0.400| 0.250\n",
      "        9| 0.400| 0.625| 0.250| 0.400| 0.400| 0.250\n",
      "        9| 0.400| 0.625| 0.250| 0.400| 0.400| 0.250\n",
      "        9| 0.400| 0.625| 0.250| 0.400| 0.400| 0.250\n",
      "        9| 0.400| 0.625| 0.250| 0.400| 0.400| 0.250\n",
      "        9| 0.400| 0.625| 0.250| 0.400| 0.400| 0.250\n",
      "        9| 0.400| 0.625| 0.250| 0.400| 0.400| 0.250\n",
      "        9| 0.400| 0.625| 0.250| 0.400| 0.400| 0.250\n",
      "        9| 0.400| 0.625| 0.250| 0.400| 0.400| 0.250\n",
      "        9| 0.400| 0.625| 0.250| 0.400| 0.400| 0.250\n",
      "        9| 0.400| 0.625| 0.250| 0.400| 0.400| 0.250\n",
      "        9| 0.400| 0.625| 0.250| 0.400| 0.400| 0.250\n",
      "        9| 0.400| 0.625| 0.250| 0.400| 0.400| 0.250\n",
      "        9| 0.400| 0.625| 0.250| 0.400| 0.400| 0.250\n",
      "        9| 0.400| 0.625| 0.250| 0.400| 0.400| 0.250\n",
      "        9| 0.400| 0.625| 0.250| 0.400| 0.400| 0.250\n",
      "        9| 0.400| 0.625| 0.250| 0.400| 0.400| 0.250\n",
      "        9| 0.400| 0.625| 0.250| 0.400| 0.400| 0.250\n",
      "        9| 0.400| 0.625| 0.250| 0.400| 0.400| 0.250\n",
      "        9| 0.400| 0.625| 0.250| 0.400| 0.400| 0.250\n",
      "        9| 0.400| 0.625| 0.250| 0.400| 0.400| 0.250\n",
      "        9| 0.400| 0.625| 0.250| 0.400| 0.400| 0.250\n",
      "        9| 0.400| 0.625| 0.250| 0.400| 0.400| 0.250\n",
      "        9| 0.400| 0.625| 0.250| 0.400| 0.400| 0.250\n",
      "       10| 0.400| 0.625| 0.250| 0.400| 0.400| 0.250\n"
     ]
    }
   ],
   "source": [
    "validations_adaboost_math_1 = training('adaboost', X_train_math_1, y_train_math_1_b, X_test_math_1)\n",
    "analyze_val_scores(validations_adaboost_math_1, y_test_math_1, \"Classification using AdaBoostClassifier (cluster math 1)\")"
   ]
  },
  {
   "cell_type": "markdown",
   "id": "3cf162c5-67a6-4c14-afe4-6e9f995a8ec4",
   "metadata": {},
   "source": [
    "Cluster german 0:"
   ]
  },
  {
   "cell_type": "code",
   "execution_count": 88,
   "id": "9268e1da-9496-4cb5-b4fc-44f5e15e88b2",
   "metadata": {},
   "outputs": [
    {
     "name": "stdout",
     "output_type": "stream",
     "text": [
      "INFO: Going up to 969 samples.\n",
      "Training with 10 samples...\n",
      "Done!\n",
      "Training with 147 samples...\n",
      "Done!\n",
      "Training with 284 samples...\n",
      "Done!\n",
      "Training with 421 samples...\n",
      "Done!\n",
      "Training with 558 samples...\n",
      "Done!\n",
      "Training with 695 samples...\n",
      "Done!\n",
      "Training with 832 samples...\n",
      "Done!\n",
      "Training with 969 samples...\n",
      "Done!\n",
      "\n",
      "Classification using DecisionTreeClassifier (cluster german 0)\n"
     ]
    },
    {
     "data": {
      "image/png": "[encoded data removed]",
      "text/plain": [
       "<Figure size 1080x360 with 2 Axes>"
      ]
     },
     "metadata": {
      "needs_background": "light"
     },
     "output_type": "display_data"
    },
    {
     "name": "stdout",
     "output_type": "stream",
     "text": [
      "\n",
      "         |accuracy|balanced_accuracy|adjusted_balanced_accuracy|f1|f1_weighted|matthews\n",
      "       10| 0.855| 0.898| 0.796| 0.886| 0.861| 0.728\n",
      "      147| 1.000| 1.000| 1.000| 1.000| 1.000| 1.000\n",
      "      284| 1.000| 1.000| 1.000| 1.000| 1.000| 1.000\n",
      "      421| 1.000| 1.000| 1.000| 1.000| 1.000| 1.000\n",
      "      558| 1.000| 1.000| 1.000| 1.000| 1.000| 1.000\n",
      "      695| 1.000| 1.000| 1.000| 1.000| 1.000| 1.000\n",
      "      832| 1.000| 1.000| 1.000| 1.000| 1.000| 1.000\n",
      "      969| 1.000| 1.000| 1.000| 1.000| 1.000| 1.000\n"
     ]
    }
   ],
   "source": [
    "validations_decision_tree_german_0 = training('decision_tree', X_train_german_0, y_train_german_0_b, X_test_german_0)\n",
    "analyze_val_scores(validations_decision_tree_german_0, y_test_german_0, \"Classification using DecisionTreeClassifier (cluster german 0)\")"
   ]
  },
  {
   "cell_type": "code",
   "execution_count": 89,
   "id": "0a3950e1-9b00-417e-99ba-78e34033ff15",
   "metadata": {},
   "outputs": [
    {
     "name": "stdout",
     "output_type": "stream",
     "text": [
      "INFO: Going up to 969 samples.\n",
      "Training with 10 samples...\n",
      "Done!\n",
      "Training with 147 samples...\n",
      "Done!\n",
      "Training with 284 samples...\n",
      "Done!\n",
      "Training with 421 samples...\n",
      "Done!\n",
      "Training with 558 samples...\n",
      "Done!\n",
      "Training with 695 samples...\n",
      "Done!\n",
      "Training with 832 samples...\n",
      "Done!\n",
      "Training with 969 samples...\n",
      "Done!\n",
      "\n",
      "Classification using RandomForestClassifier (cluster german 0)\n"
     ]
    },
    {
     "data": {
      "image/png": "[encoded data removed]",
      "text/plain": [
       "<Figure size 1080x360 with 2 Axes>"
      ]
     },
     "metadata": {
      "needs_background": "light"
     },
     "output_type": "display_data"
    },
    {
     "name": "stdout",
     "output_type": "stream",
     "text": [
      "\n",
      "         |accuracy|balanced_accuracy|adjusted_balanced_accuracy|f1|f1_weighted|matthews\n",
      "       10| 0.849| 0.894| 0.787| 0.881| 0.855| 0.719\n",
      "      147| 0.985| 0.989| 0.979| 0.989| 0.985| 0.964\n",
      "      284| 0.988| 0.992| 0.983| 0.992| 0.988| 0.972\n",
      "      421| 0.992| 0.995| 0.989| 0.995| 0.992| 0.982\n",
      "      558| 0.993| 0.995| 0.990| 0.995| 0.993| 0.983\n",
      "      695| 0.998| 0.999| 0.998| 0.999| 0.998| 0.996\n",
      "      832| 0.999| 0.999| 0.998| 0.999| 0.999| 0.997\n",
      "      969| 1.000| 1.000| 1.000| 1.000| 1.000| 1.000\n"
     ]
    }
   ],
   "source": [
    "validations_random_forest_german_0 = training('random_forest', X_train_german_0, y_train_german_0_b, X_test_german_0)\n",
    "analyze_val_scores(validations_random_forest_german_0, y_test_german_0, \"Classification using RandomForestClassifier (cluster german 0)\")"
   ]
  },
  {
   "cell_type": "code",
   "execution_count": 90,
   "id": "9a0a0209-adc0-4f0d-8831-c6499b76929b",
   "metadata": {},
   "outputs": [
    {
     "name": "stdout",
     "output_type": "stream",
     "text": [
      "INFO: Going up to 969 samples.\n",
      "Training with 10 samples...\n",
      "Done!\n",
      "Training with 147 samples...\n",
      "Done!\n",
      "Training with 284 samples...\n",
      "Done!\n",
      "Training with 421 samples...\n",
      "Done!\n",
      "Training with 558 samples...\n",
      "Done!\n",
      "Training with 695 samples...\n",
      "Done!\n",
      "Training with 832 samples...\n",
      "Done!\n",
      "Training with 969 samples...\n",
      "Done!\n",
      "\n",
      "Classification using AdaBoostClassifier (cluster german 0)\n"
     ]
    },
    {
     "data": {
      "image/png": "[encoded data removed]",
      "text/plain": [
       "<Figure size 1080x360 with 2 Axes>"
      ]
     },
     "metadata": {
      "needs_background": "light"
     },
     "output_type": "display_data"
    },
    {
     "name": "stdout",
     "output_type": "stream",
     "text": [
      "\n",
      "         |accuracy|balanced_accuracy|adjusted_balanced_accuracy|f1|f1_weighted|matthews\n",
      "       10| 0.855| 0.898| 0.796| 0.886| 0.861| 0.728\n",
      "      147| 1.000| 1.000| 1.000| 1.000| 1.000| 1.000\n",
      "      284| 1.000| 1.000| 1.000| 1.000| 1.000| 1.000\n",
      "      421| 1.000| 1.000| 1.000| 1.000| 1.000| 1.000\n",
      "      558| 1.000| 1.000| 1.000| 1.000| 1.000| 1.000\n",
      "      695| 1.000| 1.000| 1.000| 1.000| 1.000| 1.000\n",
      "      832| 1.000| 1.000| 1.000| 1.000| 1.000| 1.000\n",
      "      969| 1.000| 1.000| 1.000| 1.000| 1.000| 1.000\n"
     ]
    }
   ],
   "source": [
    "validations_adaboost_german_0 = training('adaboost', X_train_german_0, y_train_german_0_b, X_test_german_0)\n",
    "analyze_val_scores(validations_adaboost_german_0, y_test_german_0, \"Classification using AdaBoostClassifier (cluster german 0)\")"
   ]
  },
  {
   "cell_type": "markdown",
   "id": "bb6d85df-3df5-4b08-9150-480afd6764c2",
   "metadata": {},
   "source": [
    "Cluster german 1:"
   ]
  },
  {
   "cell_type": "code",
   "execution_count": 91,
   "id": "87bbab19-4353-4df8-a10e-ad9a0859d06c",
   "metadata": {},
   "outputs": [
    {
     "name": "stdout",
     "output_type": "stream",
     "text": [
      "INFO: Going up to 4 samples.\n",
      "Training with 10 samples...\n",
      "Done!\n",
      "Training with 9 samples...\n",
      "Done!\n",
      "Training with 9 samples...\n",
      "Done!\n",
      "Training with 9 samples...\n",
      "Done!\n",
      "Training with 9 samples...\n",
      "Done!\n",
      "Training with 9 samples...\n",
      "Done!\n",
      "Training with 9 samples...\n",
      "Done!\n",
      "Training with 9 samples...\n",
      "Done!\n",
      "Training with 9 samples...\n",
      "Done!\n",
      "Training with 8 samples...\n",
      "Done!\n",
      "Training with 8 samples...\n",
      "Done!\n",
      "Training with 8 samples...\n",
      "Done!\n",
      "Training with 8 samples...\n",
      "Done!\n",
      "Training with 8 samples...\n",
      "Done!\n",
      "Training with 8 samples...\n",
      "Done!\n",
      "Training with 8 samples...\n",
      "Done!\n",
      "Training with 8 samples...\n",
      "Done!\n",
      "Training with 7 samples...\n",
      "Done!\n",
      "Training with 7 samples...\n",
      "Done!\n",
      "Training with 7 samples...\n",
      "Done!\n",
      "Training with 7 samples...\n",
      "Done!\n",
      "Training with 7 samples...\n",
      "Done!\n",
      "Training with 7 samples...\n",
      "Done!\n",
      "Training with 7 samples...\n",
      "Done!\n",
      "Training with 7 samples...\n",
      "Done!\n",
      "Training with 6 samples...\n",
      "Done!\n",
      "Training with 6 samples...\n",
      "Done!\n",
      "Training with 6 samples...\n",
      "Done!\n",
      "Training with 6 samples...\n",
      "Done!\n",
      "Training with 6 samples...\n",
      "Done!\n",
      "Training with 6 samples...\n",
      "Done!\n",
      "Training with 6 samples...\n",
      "Done!\n",
      "Training with 6 samples...\n",
      "Done!\n",
      "Training with 5 samples...\n",
      "Done!\n",
      "Training with 5 samples...\n",
      "Done!\n",
      "Training with 5 samples...\n",
      "Done!\n",
      "Training with 5 samples...\n",
      "Done!\n",
      "Training with 5 samples...\n",
      "Done!\n",
      "Training with 5 samples...\n",
      "Done!\n",
      "Training with 5 samples...\n",
      "Done!\n",
      "Training with 5 samples...\n",
      "Done!\n",
      "Training with 4 samples...\n",
      "Done!\n",
      "Training with 4 samples...\n",
      "Done!\n",
      "Training with 4 samples...\n",
      "Done!\n",
      "Training with 4 samples...\n",
      "Done!\n",
      "Training with 4 samples...\n",
      "Done!\n",
      "Training with 4 samples...\n",
      "Done!\n",
      "Training with 4 samples...\n",
      "Done!\n",
      "Training with 4 samples...\n",
      "Done!\n",
      "Training with 4 samples...\n",
      "Done!\n",
      "\n",
      "Classification using DecisionTreeClassifier (cluster german 1)\n"
     ]
    },
    {
     "data": {
      "image/png": "[encoded data removed]",
      "text/plain": [
       "<Figure size 1080x360 with 2 Axes>"
      ]
     },
     "metadata": {
      "needs_background": "light"
     },
     "output_type": "display_data"
    },
    {
     "name": "stdout",
     "output_type": "stream",
     "text": [
      "\n",
      "         |accuracy|balanced_accuracy|adjusted_balanced_accuracy|f1|f1_weighted|matthews\n",
      "        4| 0.667| 0.750| 0.500| 0.667| 0.667| 0.500\n",
      "        4| 0.667| 0.750| 0.500| 0.667| 0.667| 0.500\n",
      "        4| 0.667| 0.750| 0.500| 0.667| 0.667| 0.500\n",
      "        4| 0.667| 0.750| 0.500| 0.667| 0.667| 0.500\n",
      "        4| 0.667| 0.750| 0.500| 0.667| 0.667| 0.500\n",
      "        4| 0.667| 0.750| 0.500| 0.667| 0.667| 0.500\n",
      "        4| 0.667| 0.750| 0.500| 0.667| 0.667| 0.500\n",
      "        4| 0.667| 0.750| 0.500| 0.667| 0.667| 0.500\n",
      "        4| 0.667| 0.750| 0.500| 0.667| 0.667| 0.500\n",
      "        5| 0.667| 0.750| 0.500| 0.667| 0.667| 0.500\n",
      "        5| 0.667| 0.750| 0.500| 0.667| 0.667| 0.500\n",
      "        5| 0.667| 0.750| 0.500| 0.667| 0.667| 0.500\n",
      "        5| 0.667| 0.750| 0.500| 0.667| 0.667| 0.500\n",
      "        5| 0.667| 0.750| 0.500| 0.667| 0.667| 0.500\n",
      "        5| 0.667| 0.750| 0.500| 0.667| 0.667| 0.500\n",
      "        5| 0.667| 0.750| 0.500| 0.667| 0.667| 0.500\n",
      "        5| 0.667| 0.750| 0.500| 0.667| 0.667| 0.500\n",
      "        6| 0.667| 0.750| 0.500| 0.667| 0.667| 0.500\n",
      "        6| 0.667| 0.750| 0.500| 0.667| 0.667| 0.500\n",
      "        6| 0.667| 0.750| 0.500| 0.667| 0.667| 0.500\n",
      "        6| 0.667| 0.750| 0.500| 0.667| 0.667| 0.500\n",
      "        6| 0.667| 0.750| 0.500| 0.667| 0.667| 0.500\n",
      "        6| 0.667| 0.750| 0.500| 0.667| 0.667| 0.500\n",
      "        6| 0.667| 0.750| 0.500| 0.667| 0.667| 0.500\n",
      "        6| 0.667| 0.750| 0.500| 0.667| 0.667| 0.500\n",
      "        7| 0.667| 0.750| 0.500| 0.667| 0.667| 0.500\n",
      "        7| 0.667| 0.750| 0.500| 0.667| 0.667| 0.500\n",
      "        7| 0.667| 0.750| 0.500| 0.667| 0.667| 0.500\n",
      "        7| 0.667| 0.750| 0.500| 0.667| 0.667| 0.500\n",
      "        7| 0.667| 0.750| 0.500| 0.667| 0.667| 0.500\n",
      "        7| 0.667| 0.750| 0.500| 0.667| 0.667| 0.500\n",
      "        7| 0.667| 0.750| 0.500| 0.667| 0.667| 0.500\n",
      "        7| 0.667| 0.750| 0.500| 0.667| 0.667| 0.500\n",
      "        8| 0.667| 0.750| 0.500| 0.667| 0.667| 0.500\n",
      "        8| 0.667| 0.750| 0.500| 0.667| 0.667| 0.500\n",
      "        8| 0.667| 0.750| 0.500| 0.667| 0.667| 0.500\n",
      "        8| 0.667| 0.750| 0.500| 0.667| 0.667| 0.500\n",
      "        8| 0.667| 0.750| 0.500| 0.667| 0.667| 0.500\n",
      "        8| 0.667| 0.750| 0.500| 0.667| 0.667| 0.500\n",
      "        8| 0.667| 0.750| 0.500| 0.667| 0.667| 0.500\n",
      "        8| 0.667| 0.750| 0.500| 0.667| 0.667| 0.500\n",
      "        9| 0.667| 0.750| 0.500| 0.667| 0.667| 0.500\n",
      "        9| 0.667| 0.750| 0.500| 0.667| 0.667| 0.500\n",
      "        9| 0.667| 0.750| 0.500| 0.667| 0.667| 0.500\n",
      "        9| 0.667| 0.750| 0.500| 0.667| 0.667| 0.500\n",
      "        9| 0.667| 0.750| 0.500| 0.667| 0.667| 0.500\n",
      "        9| 0.667| 0.750| 0.500| 0.667| 0.667| 0.500\n",
      "        9| 0.667| 0.750| 0.500| 0.667| 0.667| 0.500\n",
      "        9| 0.667| 0.750| 0.500| 0.667| 0.667| 0.500\n",
      "       10| 0.667| 0.750| 0.500| 0.667| 0.667| 0.500\n"
     ]
    }
   ],
   "source": [
    "validations_decision_tree_german_1 = training('decision_tree', X_train_german_1, y_train_german_1_b, X_test_german_1)\n",
    "analyze_val_scores(validations_decision_tree_german_1, y_test_german_1, \"Classification using DecisionTreeClassifier (cluster german 1)\")"
   ]
  },
  {
   "cell_type": "code",
   "execution_count": 92,
   "id": "ccf3d25c-42b2-403b-aa71-a65080bf7705",
   "metadata": {},
   "outputs": [
    {
     "name": "stdout",
     "output_type": "stream",
     "text": [
      "INFO: Going up to 4 samples.\n",
      "Training with 10 samples...\n",
      "Done!\n",
      "Training with 9 samples...\n",
      "Done!\n",
      "Training with 9 samples...\n",
      "Done!\n",
      "Training with 9 samples...\n",
      "Done!\n",
      "Training with 9 samples...\n",
      "Done!\n",
      "Training with 9 samples...\n",
      "Done!\n",
      "Training with 9 samples...\n",
      "Done!\n",
      "Training with 9 samples...\n",
      "Done!\n",
      "Training with 9 samples...\n",
      "Done!\n",
      "Training with 8 samples...\n",
      "Done!\n",
      "Training with 8 samples...\n",
      "Done!\n",
      "Training with 8 samples...\n",
      "Done!\n",
      "Training with 8 samples...\n",
      "Done!\n",
      "Training with 8 samples...\n",
      "Done!\n",
      "Training with 8 samples...\n",
      "Done!\n",
      "Training with 8 samples...\n",
      "Done!\n",
      "Training with 8 samples...\n",
      "Done!\n",
      "Training with 7 samples...\n",
      "Done!\n",
      "Training with 7 samples...\n",
      "Done!\n",
      "Training with 7 samples...\n",
      "Done!\n",
      "Training with 7 samples...\n",
      "Done!\n",
      "Training with 7 samples...\n",
      "Done!\n",
      "Training with 7 samples...\n",
      "Done!\n",
      "Training with 7 samples...\n",
      "Done!\n",
      "Training with 7 samples...\n",
      "Done!\n",
      "Training with 6 samples...\n",
      "Done!\n",
      "Training with 6 samples...\n",
      "Done!\n",
      "Training with 6 samples...\n",
      "Done!\n",
      "Training with 6 samples...\n",
      "Done!\n",
      "Training with 6 samples...\n",
      "Done!\n",
      "Training with 6 samples...\n",
      "Done!\n",
      "Training with 6 samples...\n",
      "Done!\n",
      "Training with 6 samples...\n",
      "Done!\n",
      "Training with 5 samples...\n",
      "Done!\n",
      "Training with 5 samples...\n",
      "Done!\n",
      "Training with 5 samples...\n",
      "Done!\n",
      "Training with 5 samples...\n",
      "Done!\n",
      "Training with 5 samples...\n",
      "Done!\n",
      "Training with 5 samples...\n",
      "Done!\n",
      "Training with 5 samples...\n",
      "Done!\n",
      "Training with 5 samples...\n",
      "Done!\n",
      "Training with 4 samples...\n",
      "Done!\n",
      "Training with 4 samples...\n",
      "Done!\n",
      "Training with 4 samples...\n",
      "Done!\n",
      "Training with 4 samples...\n",
      "Done!\n",
      "Training with 4 samples...\n",
      "Done!\n",
      "Training with 4 samples...\n",
      "Done!\n",
      "Training with 4 samples...\n",
      "Done!\n",
      "Training with 4 samples...\n",
      "Done!\n",
      "Training with 4 samples...\n",
      "Done!\n",
      "\n",
      "Classification using RandomForestClassifier (cluster german 1)\n"
     ]
    },
    {
     "data": {
      "image/png": "[encoded data removed]",
      "text/plain": [
       "<Figure size 1080x360 with 2 Axes>"
      ]
     },
     "metadata": {
      "needs_background": "light"
     },
     "output_type": "display_data"
    },
    {
     "name": "stdout",
     "output_type": "stream",
     "text": [
      "\n",
      "         |accuracy|balanced_accuracy|adjusted_balanced_accuracy|f1|f1_weighted|matthews\n",
      "        4| 0.667| 0.750| 0.500| 0.667| 0.667| 0.500\n",
      "        4| 0.667| 0.750| 0.500| 0.667| 0.667| 0.500\n",
      "        4| 0.667| 0.750| 0.500| 0.667| 0.667| 0.500\n",
      "        4| 0.667| 0.750| 0.500| 0.667| 0.667| 0.500\n",
      "        4| 0.667| 0.750| 0.500| 0.667| 0.667| 0.500\n",
      "        4| 0.667| 0.750| 0.500| 0.667| 0.667| 0.500\n",
      "        4| 0.667| 0.750| 0.500| 0.667| 0.667| 0.500\n",
      "        4| 0.667| 0.750| 0.500| 0.667| 0.667| 0.500\n",
      "        4| 0.667| 0.750| 0.500| 0.667| 0.667| 0.500\n",
      "        5| 0.667| 0.750| 0.500| 0.667| 0.667| 0.500\n",
      "        5| 0.667| 0.750| 0.500| 0.667| 0.667| 0.500\n",
      "        5| 0.667| 0.750| 0.500| 0.667| 0.667| 0.500\n",
      "        5| 0.667| 0.750| 0.500| 0.667| 0.667| 0.500\n",
      "        5| 0.667| 0.750| 0.500| 0.667| 0.667| 0.500\n",
      "        5| 0.667| 0.750| 0.500| 0.667| 0.667| 0.500\n",
      "        5| 0.667| 0.750| 0.500| 0.667| 0.667| 0.500\n",
      "        5| 0.667| 0.750| 0.500| 0.667| 0.667| 0.500\n",
      "        6| 0.667| 0.750| 0.500| 0.667| 0.667| 0.500\n",
      "        6| 0.667| 0.750| 0.500| 0.667| 0.667| 0.500\n",
      "        6| 0.667| 0.750| 0.500| 0.667| 0.667| 0.500\n",
      "        6| 0.667| 0.750| 0.500| 0.667| 0.667| 0.500\n",
      "        6| 0.667| 0.750| 0.500| 0.667| 0.667| 0.500\n",
      "        6| 0.667| 0.750| 0.500| 0.667| 0.667| 0.500\n",
      "        6| 0.667| 0.750| 0.500| 0.667| 0.667| 0.500\n",
      "        6| 0.667| 0.750| 0.500| 0.667| 0.667| 0.500\n",
      "        7| 0.667| 0.750| 0.500| 0.667| 0.667| 0.500\n",
      "        7| 0.667| 0.750| 0.500| 0.667| 0.667| 0.500\n",
      "        7| 0.667| 0.750| 0.500| 0.667| 0.667| 0.500\n",
      "        7| 0.667| 0.750| 0.500| 0.667| 0.667| 0.500\n",
      "        7| 0.667| 0.750| 0.500| 0.667| 0.667| 0.500\n",
      "        7| 0.667| 0.750| 0.500| 0.667| 0.667| 0.500\n",
      "        7| 0.667| 0.750| 0.500| 0.667| 0.667| 0.500\n",
      "        7| 0.667| 0.750| 0.500| 0.667| 0.667| 0.500\n",
      "        8| 0.667| 0.750| 0.500| 0.667| 0.667| 0.500\n",
      "        8| 0.667| 0.750| 0.500| 0.667| 0.667| 0.500\n",
      "        8| 0.667| 0.750| 0.500| 0.667| 0.667| 0.500\n",
      "        8| 0.667| 0.750| 0.500| 0.667| 0.667| 0.500\n",
      "        8| 0.667| 0.750| 0.500| 0.667| 0.667| 0.500\n",
      "        8| 0.667| 0.750| 0.500| 0.667| 0.667| 0.500\n",
      "        8| 0.667| 0.750| 0.500| 0.667| 0.667| 0.500\n",
      "        8| 0.667| 0.750| 0.500| 0.667| 0.667| 0.500\n",
      "        9| 0.667| 0.750| 0.500| 0.667| 0.667| 0.500\n",
      "        9| 0.667| 0.750| 0.500| 0.667| 0.667| 0.500\n",
      "        9| 0.667| 0.750| 0.500| 0.667| 0.667| 0.500\n",
      "        9| 0.667| 0.750| 0.500| 0.667| 0.667| 0.500\n",
      "        9| 0.667| 0.750| 0.500| 0.667| 0.667| 0.500\n",
      "        9| 0.667| 0.750| 0.500| 0.667| 0.667| 0.500\n",
      "        9| 0.667| 0.750| 0.500| 0.667| 0.667| 0.500\n",
      "        9| 0.667| 0.750| 0.500| 0.667| 0.667| 0.500\n",
      "       10| 0.667| 0.750| 0.500| 0.667| 0.667| 0.500\n"
     ]
    }
   ],
   "source": [
    "validations_random_forest_german_1 = training('random_forest', X_train_german_1, y_train_german_1_b, X_test_german_1)\n",
    "analyze_val_scores(validations_random_forest_german_1, y_test_german_1, \"Classification using RandomForestClassifier (cluster german 1)\")"
   ]
  },
  {
   "cell_type": "code",
   "execution_count": 93,
   "id": "a8ef63fa-094d-431d-b8a8-b24a4bdb1e45",
   "metadata": {},
   "outputs": [
    {
     "name": "stdout",
     "output_type": "stream",
     "text": [
      "INFO: Going up to 4 samples.\n",
      "Training with 10 samples...\n",
      "Done!\n",
      "Training with 9 samples...\n",
      "Done!\n",
      "Training with 9 samples...\n",
      "Done!\n",
      "Training with 9 samples...\n",
      "Done!\n",
      "Training with 9 samples...\n",
      "Done!\n",
      "Training with 9 samples...\n",
      "Done!\n",
      "Training with 9 samples...\n",
      "Done!\n",
      "Training with 9 samples...\n",
      "Done!\n",
      "Training with 9 samples...\n",
      "Done!\n",
      "Training with 8 samples...\n",
      "Done!\n",
      "Training with 8 samples...\n",
      "Done!\n",
      "Training with 8 samples...\n",
      "Done!\n",
      "Training with 8 samples...\n",
      "Done!\n",
      "Training with 8 samples...\n",
      "Done!\n",
      "Training with 8 samples...\n",
      "Done!\n",
      "Training with 8 samples...\n",
      "Done!\n",
      "Training with 8 samples...\n",
      "Done!\n",
      "Training with 7 samples...\n",
      "Done!\n",
      "Training with 7 samples...\n",
      "Done!\n",
      "Training with 7 samples...\n",
      "Done!\n",
      "Training with 7 samples...\n",
      "Done!\n",
      "Training with 7 samples...\n",
      "Done!\n",
      "Training with 7 samples...\n",
      "Done!\n",
      "Training with 7 samples...\n",
      "Done!\n",
      "Training with 7 samples...\n",
      "Done!\n",
      "Training with 6 samples...\n",
      "Done!\n",
      "Training with 6 samples...\n",
      "Done!\n",
      "Training with 6 samples...\n",
      "Done!\n",
      "Training with 6 samples...\n",
      "Done!\n",
      "Training with 6 samples...\n",
      "Done!\n",
      "Training with 6 samples...\n",
      "Done!\n",
      "Training with 6 samples...\n",
      "Done!\n",
      "Training with 6 samples...\n",
      "Done!\n",
      "Training with 5 samples...\n",
      "Done!\n",
      "Training with 5 samples...\n",
      "Done!\n",
      "Training with 5 samples...\n",
      "Done!\n",
      "Training with 5 samples...\n",
      "Done!\n",
      "Training with 5 samples...\n",
      "Done!\n",
      "Training with 5 samples...\n",
      "Done!\n",
      "Training with 5 samples...\n",
      "Done!\n",
      "Training with 5 samples...\n",
      "Done!\n",
      "Training with 4 samples...\n",
      "Done!\n",
      "Training with 4 samples...\n",
      "Done!\n",
      "Training with 4 samples...\n",
      "Done!\n",
      "Training with 4 samples...\n",
      "Done!\n",
      "Training with 4 samples...\n",
      "Done!\n",
      "Training with 4 samples...\n",
      "Done!\n",
      "Training with 4 samples...\n",
      "Done!\n",
      "Training with 4 samples...\n",
      "Done!\n",
      "Training with 4 samples...\n",
      "Done!\n",
      "\n",
      "Classification using AdaBoostClassifier (cluster german 1)\n"
     ]
    },
    {
     "data": {
      "image/png": "[encoded data removed]",
      "text/plain": [
       "<Figure size 1080x360 with 2 Axes>"
      ]
     },
     "metadata": {
      "needs_background": "light"
     },
     "output_type": "display_data"
    },
    {
     "name": "stdout",
     "output_type": "stream",
     "text": [
      "\n",
      "         |accuracy|balanced_accuracy|adjusted_balanced_accuracy|f1|f1_weighted|matthews\n",
      "        4| 0.667| 0.750| 0.500| 0.667| 0.667| 0.500\n",
      "        4| 0.667| 0.750| 0.500| 0.667| 0.667| 0.500\n",
      "        4| 0.667| 0.750| 0.500| 0.667| 0.667| 0.500\n",
      "        4| 0.667| 0.750| 0.500| 0.667| 0.667| 0.500\n",
      "        4| 0.667| 0.750| 0.500| 0.667| 0.667| 0.500\n",
      "        4| 0.667| 0.750| 0.500| 0.667| 0.667| 0.500\n",
      "        4| 0.667| 0.750| 0.500| 0.667| 0.667| 0.500\n",
      "        4| 0.667| 0.750| 0.500| 0.667| 0.667| 0.500\n",
      "        4| 0.667| 0.750| 0.500| 0.667| 0.667| 0.500\n",
      "        5| 0.667| 0.750| 0.500| 0.667| 0.667| 0.500\n",
      "        5| 0.667| 0.750| 0.500| 0.667| 0.667| 0.500\n",
      "        5| 0.667| 0.750| 0.500| 0.667| 0.667| 0.500\n",
      "        5| 0.667| 0.750| 0.500| 0.667| 0.667| 0.500\n",
      "        5| 0.667| 0.750| 0.500| 0.667| 0.667| 0.500\n",
      "        5| 0.667| 0.750| 0.500| 0.667| 0.667| 0.500\n",
      "        5| 0.667| 0.750| 0.500| 0.667| 0.667| 0.500\n",
      "        5| 0.667| 0.750| 0.500| 0.667| 0.667| 0.500\n",
      "        6| 0.667| 0.750| 0.500| 0.667| 0.667| 0.500\n",
      "        6| 0.667| 0.750| 0.500| 0.667| 0.667| 0.500\n",
      "        6| 0.667| 0.750| 0.500| 0.667| 0.667| 0.500\n",
      "        6| 0.667| 0.750| 0.500| 0.667| 0.667| 0.500\n",
      "        6| 0.667| 0.750| 0.500| 0.667| 0.667| 0.500\n",
      "        6| 0.667| 0.750| 0.500| 0.667| 0.667| 0.500\n",
      "        6| 0.667| 0.750| 0.500| 0.667| 0.667| 0.500\n",
      "        6| 0.667| 0.750| 0.500| 0.667| 0.667| 0.500\n",
      "        7| 0.667| 0.750| 0.500| 0.667| 0.667| 0.500\n",
      "        7| 0.667| 0.750| 0.500| 0.667| 0.667| 0.500\n",
      "        7| 0.667| 0.750| 0.500| 0.667| 0.667| 0.500\n",
      "        7| 0.667| 0.750| 0.500| 0.667| 0.667| 0.500\n",
      "        7| 0.667| 0.750| 0.500| 0.667| 0.667| 0.500\n",
      "        7| 0.667| 0.750| 0.500| 0.667| 0.667| 0.500\n",
      "        7| 0.667| 0.750| 0.500| 0.667| 0.667| 0.500\n",
      "        7| 0.667| 0.750| 0.500| 0.667| 0.667| 0.500\n",
      "        8| 0.667| 0.750| 0.500| 0.667| 0.667| 0.500\n",
      "        8| 0.667| 0.750| 0.500| 0.667| 0.667| 0.500\n",
      "        8| 0.667| 0.750| 0.500| 0.667| 0.667| 0.500\n",
      "        8| 0.667| 0.750| 0.500| 0.667| 0.667| 0.500\n",
      "        8| 0.667| 0.750| 0.500| 0.667| 0.667| 0.500\n",
      "        8| 0.667| 0.750| 0.500| 0.667| 0.667| 0.500\n",
      "        8| 0.667| 0.750| 0.500| 0.667| 0.667| 0.500\n",
      "        8| 0.667| 0.750| 0.500| 0.667| 0.667| 0.500\n",
      "        9| 0.667| 0.750| 0.500| 0.667| 0.667| 0.500\n",
      "        9| 0.667| 0.750| 0.500| 0.667| 0.667| 0.500\n",
      "        9| 0.667| 0.750| 0.500| 0.667| 0.667| 0.500\n",
      "        9| 0.667| 0.750| 0.500| 0.667| 0.667| 0.500\n",
      "        9| 0.667| 0.750| 0.500| 0.667| 0.667| 0.500\n",
      "        9| 0.667| 0.750| 0.500| 0.667| 0.667| 0.500\n",
      "        9| 0.667| 0.750| 0.500| 0.667| 0.667| 0.500\n",
      "        9| 0.667| 0.750| 0.500| 0.667| 0.667| 0.500\n",
      "       10| 0.667| 0.750| 0.500| 0.667| 0.667| 0.500\n",
      "[CV] END max_depth=50, max_features=sqrt, min_samples_leaf=4, min_samples_split=10; total time=   0.1s\n",
      "[CV] END max_depth=110, max_features=auto, min_samples_leaf=4, min_samples_split=10; total time=   0.2s\n",
      "[CV] END max_depth=110, max_features=sqrt, min_samples_leaf=4, min_samples_split=5; total time=   0.1s\n",
      "[CV] END max_depth=20, max_features=auto, min_samples_leaf=1, min_samples_split=2; total time=   0.1s\n",
      "[CV] END max_depth=40, max_features=sqrt, min_samples_leaf=4, min_samples_split=10; total time=   0.2s\n",
      "[CV] END max_depth=60, max_features=auto, min_samples_leaf=4, min_samples_split=5; total time=   0.1s\n",
      "[CV] END max_depth=80, max_features=sqrt, min_samples_leaf=4, min_samples_split=2; total time=   0.1s\n",
      "[CV] END max_depth=110, max_features=auto, min_samples_leaf=1, min_samples_split=10; total time=   0.1s\n",
      "[CV] END max_depth=10, max_features=sqrt, min_samples_leaf=4, min_samples_split=5; total time=   0.1s\n",
      "[CV] END max_depth=50, max_features=auto, min_samples_leaf=2, min_samples_split=5; total time=   0.0s\n",
      "[CV] END max_depth=80, max_features=sqrt, min_samples_leaf=2, min_samples_split=5; total time=   0.1s\n",
      "[CV] END max_depth=30, max_features=sqrt, min_samples_leaf=4, min_samples_split=5; total time=   0.0s\n",
      "[CV] END max_depth=60, max_features=sqrt, min_samples_leaf=4, min_samples_split=5; total time=   0.1s\n",
      "[CV] END max_depth=70, max_features=auto, min_samples_leaf=2, min_samples_split=5; total time=   0.1s\n",
      "[CV] END max_depth=70, max_features=auto, min_samples_leaf=1, min_samples_split=10; total time=   0.1s\n",
      "[CV] END max_depth=40, max_features=auto, min_samples_leaf=1, min_samples_split=2; total time=   0.1s\n",
      "[CV] END max_depth=60, max_features=sqrt, min_samples_leaf=2, min_samples_split=10; total time=   0.0s\n",
      "[CV] END max_depth=10, max_features=sqrt, min_samples_leaf=2, min_samples_split=10; total time=   0.0s\n",
      "[CV] END max_depth=40, max_features=auto, min_samples_leaf=4, min_samples_split=10; total time=   0.1s\n",
      "[CV] END bootstrap=False, max_depth=20, max_features=sqrt, min_samples_leaf=2, min_samples_split=5, n_estimators=200; total time=  10.3s\n",
      "[CV] END bootstrap=False, max_depth=20, max_features=sqrt, min_samples_leaf=4, min_samples_split=5, n_estimators=400; total time=  20.5s\n",
      "[CV] END bootstrap=True, max_depth=80, max_features=sqrt, min_samples_leaf=2, min_samples_split=2, n_estimators=200; total time=  15.7s\n",
      "[CV] END bootstrap=False, max_depth=100, max_features=auto, min_samples_leaf=1, min_samples_split=10, n_estimators=1800; total time= 1.6min\n",
      "[CV] END bootstrap=False, max_depth=80, max_features=auto, min_samples_leaf=2, min_samples_split=2, n_estimators=1800; total time= 1.5min\n",
      "[CV] END bootstrap=False, max_depth=30, max_features=auto, min_samples_leaf=2, min_samples_split=5, n_estimators=1200; total time= 1.0min\n",
      "[CV] END bootstrap=True, max_depth=30, max_features=sqrt, min_samples_leaf=4, min_samples_split=5, n_estimators=1400; total time= 1.5min\n",
      "[CV] END bootstrap=True, max_depth=90, max_features=auto, min_samples_leaf=2, min_samples_split=5, n_estimators=2000; total time= 2.3min\n",
      "[CV] END bootstrap=True, max_depth=20, max_features=auto, min_samples_leaf=2, min_samples_split=2, n_estimators=1000; total time= 1.2min\n",
      "[CV] END bootstrap=True, max_depth=None, max_features=sqrt, min_samples_leaf=2, min_samples_split=10, n_estimators=1200; total time= 1.4min\n",
      "[CV] END bootstrap=False, max_depth=110, max_features=auto, min_samples_leaf=4, min_samples_split=5, n_estimators=200; total time=  11.5s\n",
      "[CV] END bootstrap=True, max_depth=90, max_features=sqrt, min_samples_leaf=1, min_samples_split=2, n_estimators=800; total time=  56.1s\n",
      "[CV] END bootstrap=True, max_depth=80, max_features=auto, min_samples_leaf=4, min_samples_split=5, n_estimators=1000; total time= 1.1min\n",
      "[CV] END bootstrap=False, max_depth=None, max_features=sqrt, min_samples_leaf=2, min_samples_split=5, n_estimators=1800; total time= 1.7min\n",
      "[CV] END bootstrap=False, max_depth=50, max_features=auto, min_samples_leaf=4, min_samples_split=10, n_estimators=600; total time=  30.1s\n",
      "[CV] END bootstrap=True, max_depth=60, max_features=sqrt, min_samples_leaf=1, min_samples_split=5, n_estimators=400; total time=  27.3s\n",
      "[CV] END bootstrap=True, max_depth=70, max_features=sqrt, min_samples_leaf=4, min_samples_split=2, n_estimators=600; total time=  39.2s\n",
      "[CV] END bootstrap=True, max_depth=10, max_features=sqrt, min_samples_leaf=2, min_samples_split=2, n_estimators=1200; total time= 1.3min\n",
      "[CV] END bootstrap=True, max_depth=80, max_features=sqrt, min_samples_leaf=2, min_samples_split=5, n_estimators=200; total time=  15.7s\n",
      "[CV] END bootstrap=True, max_depth=None, max_features=auto, min_samples_leaf=4, min_samples_split=10, n_estimators=600; total time=  43.4s\n",
      "[CV] END bootstrap=False, max_depth=90, max_features=auto, min_samples_leaf=4, min_samples_split=2, n_estimators=1800; total time=  37.3s\n",
      "[CV] END ...............learning_rate=0.2, n_estimators=1000; total time= 1.3min\n",
      "[CV] END ................learning_rate=0.9, n_estimators=400; total time=  31.9s\n",
      "[CV] END .learning_rate=0.6000000000000001, n_estimators=200; total time=  17.3s\n",
      "[CV] END .learning_rate=0.6000000000000001, n_estimators=200; total time=  18.1s\n",
      "[CV] END ................learning_rate=0.5, n_estimators=600; total time=  46.9s\n",
      "[CV] END ...............learning_rate=0.8, n_estimators=1400; total time= 1.8min\n",
      "[CV] END learning_rate=0.6000000000000001, n_estimators=1400; total time= 1.8min\n",
      "[CV] END ...............learning_rate=0.5, n_estimators=2000; total time= 2.7min\n",
      "[CV] END ...............learning_rate=0.0, n_estimators=1000; total time=   0.2s\n",
      "[CV] END ...............learning_rate=0.0, n_estimators=1000; total time=   0.0s\n",
      "[CV] END ...............learning_rate=0.0, n_estimators=1000; total time=   0.0s\n",
      "[CV] END ...............learning_rate=0.1, n_estimators=1200; total time= 1.4min\n",
      "[CV] END ...............learning_rate=0.5, n_estimators=1400; total time= 1.8min\n",
      "[CV] END learning_rate=0.30000000000000004, n_estimators=1200; total time= 1.6min\n",
      "[CV] END learning_rate=0.30000000000000004, n_estimators=600; total time=  43.3s\n",
      "[CV] END learning_rate=0.7000000000000001, n_estimators=1000; total time= 1.2min\n",
      "[CV] END ...............learning_rate=1.0, n_estimators=1600; total time= 2.0min\n",
      "[CV] END ................learning_rate=0.8, n_estimators=200; total time=  13.5s\n",
      "[CV] END .learning_rate=0.7000000000000001, n_estimators=600; total time=  44.0s\n",
      "[CV] END ...............learning_rate=0.2, n_estimators=1200; total time= 1.7min\n",
      "[CV] END learning_rate=0.30000000000000004, n_estimators=2000; total time= 2.7min\n",
      "[CV] END max_depth=30, max_features=auto, min_samples_leaf=1, min_samples_split=5; total time=   0.1s\n",
      "[CV] END max_depth=50, max_features=auto, min_samples_leaf=1, min_samples_split=10; total time=   0.2s\n",
      "[CV] END max_depth=10, max_features=sqrt, min_samples_leaf=2, min_samples_split=2; total time=   0.2s\n",
      "[CV] END max_depth=60, max_features=sqrt, min_samples_leaf=1, min_samples_split=10; total time=   0.2s\n",
      "[CV] END max_depth=110, max_features=sqrt, min_samples_leaf=4, min_samples_split=5; total time=   0.1s\n",
      "[CV] END max_depth=110, max_features=sqrt, min_samples_leaf=1, min_samples_split=10; total time=   0.1s\n",
      "[CV] END max_depth=20, max_features=auto, min_samples_leaf=1, min_samples_split=2; total time=   0.1s\n",
      "[CV] END max_depth=100, max_features=sqrt, min_samples_leaf=1, min_samples_split=2; total time=   0.0s\n",
      "[CV] END max_depth=20, max_features=sqrt, min_samples_leaf=4, min_samples_split=2; total time=   0.1s\n",
      "[CV] END max_depth=60, max_features=sqrt, min_samples_leaf=4, min_samples_split=10; total time=   0.1s\n",
      "[CV] END max_depth=70, max_features=sqrt, min_samples_leaf=4, min_samples_split=2; total time=   0.1s\n",
      "[CV] END max_depth=10, max_features=auto, min_samples_leaf=2, min_samples_split=5; total time=   0.1s\n",
      "[CV] END max_depth=40, max_features=auto, min_samples_leaf=4, min_samples_split=5; total time=   0.1s\n",
      "[CV] END max_depth=100, max_features=auto, min_samples_leaf=4, min_samples_split=10; total time=   0.0s\n",
      "[CV] END max_depth=20, max_features=sqrt, min_samples_leaf=2, min_samples_split=2; total time=   0.1s\n",
      "[CV] END max_depth=20, max_features=auto, min_samples_leaf=1, min_samples_split=5; total time=   0.1s\n",
      "[CV] END max_depth=30, max_features=sqrt, min_samples_leaf=4, min_samples_split=2; total time=   0.1s\n",
      "[CV] END max_depth=90, max_features=sqrt, min_samples_leaf=1, min_samples_split=2; total time=   0.1s\n",
      "[CV] END max_depth=80, max_features=auto, min_samples_leaf=2, min_samples_split=5; total time=   0.0s\n",
      "[CV] END max_depth=None, max_features=sqrt, min_samples_leaf=2, min_samples_split=5; total time=   0.0s\n",
      "[CV] END max_depth=10, max_features=auto, min_samples_leaf=1, min_samples_split=10; total time=   0.1s\n",
      "[CV] END bootstrap=False, max_depth=None, max_features=sqrt, min_samples_leaf=1, min_samples_split=2, n_estimators=400; total time=  21.7s\n",
      "[CV] END bootstrap=False, max_depth=30, max_features=sqrt, min_samples_leaf=1, min_samples_split=5, n_estimators=2000; total time= 1.9min\n",
      "[CV] END bootstrap=False, max_depth=80, max_features=auto, min_samples_leaf=2, min_samples_split=2, n_estimators=1800; total time= 1.7min\n",
      "[CV] END bootstrap=False, max_depth=110, max_features=auto, min_samples_leaf=2, min_samples_split=10, n_estimators=800; total time=  46.5s\n",
      "[CV] END bootstrap=False, max_depth=40, max_features=sqrt, min_samples_leaf=2, min_samples_split=10, n_estimators=1600; total time= 1.4min\n",
      "[CV] END bootstrap=False, max_depth=110, max_features=auto, min_samples_leaf=1, min_samples_split=10, n_estimators=1400; total time= 1.2min\n",
      "[CV] END bootstrap=True, max_depth=40, max_features=sqrt, min_samples_leaf=4, min_samples_split=10, n_estimators=1400; total time= 1.6min\n",
      "[CV] END bootstrap=False, max_depth=30, max_features=sqrt, min_samples_leaf=1, min_samples_split=5, n_estimators=800; total time=  47.3s\n",
      "[CV] END bootstrap=False, max_depth=100, max_features=sqrt, min_samples_leaf=4, min_samples_split=2, n_estimators=1400; total time= 1.2min\n",
      "[CV] END bootstrap=True, max_depth=90, max_features=auto, min_samples_leaf=4, min_samples_split=10, n_estimators=800; total time=  53.4s\n",
      "[CV] END bootstrap=True, max_depth=10, max_features=auto, min_samples_leaf=4, min_samples_split=5, n_estimators=600; total time=  41.6s\n",
      "[CV] END bootstrap=False, max_depth=50, max_features=sqrt, min_samples_leaf=2, min_samples_split=10, n_estimators=400; total time=  22.3s\n",
      "[CV] END bootstrap=True, max_depth=110, max_features=auto, min_samples_leaf=1, min_samples_split=10, n_estimators=2000; total time= 2.1min\n",
      "[CV] END bootstrap=True, max_depth=70, max_features=auto, min_samples_leaf=1, min_samples_split=5, n_estimators=1800; total time= 2.1min\n",
      "[CV] END bootstrap=True, max_depth=10, max_features=auto, min_samples_leaf=2, min_samples_split=5, n_estimators=600; total time=  42.0s\n",
      "[CV] END bootstrap=False, max_depth=60, max_features=auto, min_samples_leaf=1, min_samples_split=5, n_estimators=1600; total time= 1.5min\n",
      "[CV] END ...............learning_rate=0.8, n_estimators=1200; total time= 1.6min\n",
      "[CV] END ................learning_rate=0.2, n_estimators=600; total time=  43.3s\n",
      "[CV] END learning_rate=0.7000000000000001, n_estimators=1400; total time= 1.8min\n",
      "[CV] END ...............learning_rate=0.9, n_estimators=1000; total time= 1.3min\n",
      "[CV] END learning_rate=0.30000000000000004, n_estimators=200; total time=  17.3s\n",
      "[CV] END ................learning_rate=0.9, n_estimators=200; total time=  16.6s\n",
      "[CV] END ...............learning_rate=0.8, n_estimators=1000; total time= 1.3min\n",
      "[CV] END ...............learning_rate=0.2, n_estimators=1600; total time= 2.1min\n",
      "[CV] END ................learning_rate=0.4, n_estimators=400; total time=  30.6s\n",
      "[CV] END learning_rate=0.30000000000000004, n_estimators=1800; total time= 2.3min\n",
      "[CV] END ................learning_rate=0.5, n_estimators=200; total time=  16.3s\n",
      "[CV] END ................learning_rate=0.1, n_estimators=400; total time=  34.6s\n",
      "[CV] END ................learning_rate=0.2, n_estimators=800; total time= 1.0min\n",
      "[CV] END learning_rate=0.30000000000000004, n_estimators=600; total time=  47.4s\n",
      "[CV] END ...............learning_rate=0.1, n_estimators=1000; total time= 1.4min\n",
      "[CV] END ...............learning_rate=1.0, n_estimators=1800; total time= 2.4min\n",
      "[CV] END learning_rate=0.7000000000000001, n_estimators=1600; total time= 2.1min\n",
      "[CV] END learning_rate=0.30000000000000004, n_estimators=2000; total time= 2.5min\n",
      "[CV] END .learning_rate=0.7000000000000001, n_estimators=200; total time=  15.8s\n",
      "[CV] END max_depth=50, max_features=auto, min_samples_leaf=2, min_samples_split=2; total time=   0.0s\n",
      "[CV] END max_depth=60, max_features=sqrt, min_samples_leaf=4, min_samples_split=5; total time=   0.0s\n",
      "[CV] END max_depth=90, max_features=sqrt, min_samples_leaf=4, min_samples_split=5; total time=   0.0s\n",
      "[CV] END max_depth=70, max_features=auto, min_samples_leaf=1, min_samples_split=10; total time=   0.0s\n",
      "[CV] END max_depth=40, max_features=auto, min_samples_leaf=1, min_samples_split=2; total time=   0.1s\n",
      "[CV] END max_depth=70, max_features=auto, min_samples_leaf=1, min_samples_split=2; total time=   0.0s\n",
      "[CV] END max_depth=70, max_features=sqrt, min_samples_leaf=4, min_samples_split=10; total time=   0.1s\n",
      "[CV] END max_depth=20, max_features=auto, min_samples_leaf=1, min_samples_split=10; total time=   0.0s\n",
      "[CV] END max_depth=70, max_features=sqrt, min_samples_leaf=4, min_samples_split=5; total time=   0.0s\n",
      "[CV] END bootstrap=True, max_depth=90, max_features=sqrt, min_samples_leaf=1, min_samples_split=2, n_estimators=1200; total time= 1.3min\n",
      "[CV] END bootstrap=True, max_depth=None, max_features=sqrt, min_samples_leaf=1, min_samples_split=2, n_estimators=1800; total time= 2.1min\n",
      "[CV] END bootstrap=True, max_depth=20, max_features=sqrt, min_samples_leaf=2, min_samples_split=2, n_estimators=600; total time=  38.4s\n",
      "[CV] END bootstrap=False, max_depth=90, max_features=auto, min_samples_leaf=2, min_samples_split=5, n_estimators=200; total time=  13.1s\n",
      "[CV] END bootstrap=True, max_depth=110, max_features=auto, min_samples_leaf=4, min_samples_split=10, n_estimators=1800; total time= 2.1min\n",
      "[CV] END bootstrap=True, max_depth=70, max_features=auto, min_samples_leaf=2, min_samples_split=2, n_estimators=1000; total time= 1.1min\n",
      "[CV] END bootstrap=True, max_depth=100, max_features=auto, min_samples_leaf=1, min_samples_split=2, n_estimators=400; total time=  24.5s\n",
      "[CV] END bootstrap=False, max_depth=100, max_features=auto, min_samples_leaf=1, min_samples_split=5, n_estimators=2000; total time= 1.9min\n",
      "[CV] END bootstrap=False, max_depth=100, max_features=sqrt, min_samples_leaf=4, min_samples_split=2, n_estimators=1400; total time= 1.1min\n",
      "[CV] END bootstrap=True, max_depth=90, max_features=auto, min_samples_leaf=4, min_samples_split=10, n_estimators=800; total time=  52.1s\n",
      "[CV] END bootstrap=True, max_depth=10, max_features=auto, min_samples_leaf=4, min_samples_split=5, n_estimators=600; total time=  40.9s\n",
      "[CV] END bootstrap=False, max_depth=50, max_features=sqrt, min_samples_leaf=2, min_samples_split=10, n_estimators=400; total time=  22.4s\n",
      "[CV] END bootstrap=False, max_depth=50, max_features=auto, min_samples_leaf=1, min_samples_split=5, n_estimators=1800; total time= 1.7min\n",
      "[CV] END bootstrap=True, max_depth=None, max_features=sqrt, min_samples_leaf=1, min_samples_split=2, n_estimators=400; total time=  28.1s\n",
      "[CV] END bootstrap=True, max_depth=70, max_features=auto, min_samples_leaf=1, min_samples_split=5, n_estimators=1800; total time= 2.1min\n",
      "[CV] END bootstrap=False, max_depth=100, max_features=sqrt, min_samples_leaf=2, min_samples_split=10, n_estimators=200; total time=  12.0s\n",
      "[CV] END bootstrap=False, max_depth=50, max_features=auto, min_samples_leaf=2, min_samples_split=5, n_estimators=200; total time=  10.5s\n",
      "[CV] END bootstrap=False, max_depth=None, max_features=auto, min_samples_leaf=1, min_samples_split=2, n_estimators=200; total time=  11.2s\n",
      "[CV] END bootstrap=True, max_depth=110, max_features=auto, min_samples_leaf=1, min_samples_split=10, n_estimators=1000; total time= 1.0min\n",
      "[CV] END bootstrap=True, max_depth=70, max_features=sqrt, min_samples_leaf=4, min_samples_split=5, n_estimators=1400; total time=  56.9s\n",
      "[CV] END ................learning_rate=0.0, n_estimators=600; total time=   0.0s\n",
      "[CV] END ................learning_rate=1.0, n_estimators=400; total time=  30.6s\n",
      "[CV] END ...............learning_rate=0.1, n_estimators=1400; total time= 1.8min\n",
      "[CV] END learning_rate=0.7000000000000001, n_estimators=1400; total time= 1.7min\n",
      "[CV] END ...............learning_rate=0.2, n_estimators=1400; total time= 1.8min\n",
      "[CV] END ................learning_rate=0.8, n_estimators=600; total time=  43.8s\n",
      "[CV] END ...............learning_rate=0.8, n_estimators=1000; total time= 1.3min\n",
      "[CV] END ................learning_rate=0.5, n_estimators=400; total time=  28.7s\n",
      "[CV] END .learning_rate=0.7000000000000001, n_estimators=400; total time=  35.2s\n",
      "[CV] END ................learning_rate=0.4, n_estimators=800; total time=  55.5s\n",
      "[CV] END ...............learning_rate=0.1, n_estimators=1600; total time= 2.2min\n",
      "[CV] END ................learning_rate=0.5, n_estimators=200; total time=  18.3s\n",
      "[CV] END ................learning_rate=0.5, n_estimators=200; total time=  15.7s\n",
      "[CV] END learning_rate=0.30000000000000004, n_estimators=1200; total time= 1.4min\n",
      "[CV] END ................learning_rate=0.9, n_estimators=800; total time= 1.0min\n",
      "[CV] END learning_rate=0.7000000000000001, n_estimators=1000; total time= 1.3min\n",
      "[CV] END ...............learning_rate=1.0, n_estimators=1800; total time= 2.4min\n",
      "[CV] END learning_rate=0.7000000000000001, n_estimators=1600; total time= 2.1min\n",
      "[CV] END learning_rate=0.30000000000000004, n_estimators=2000; total time= 2.7min\n",
      "[CV] END max_depth=None, max_features=auto, min_samples_leaf=1, min_samples_split=5; total time=   0.2s\n",
      "[CV] END max_depth=50, max_features=sqrt, min_samples_leaf=1, min_samples_split=10; total time=   0.3s\n",
      "[CV] END max_depth=40, max_features=auto, min_samples_leaf=1, min_samples_split=5; total time=   0.4s\n",
      "[CV] END max_depth=90, max_features=auto, min_samples_leaf=1, min_samples_split=10; total time=   0.3s\n",
      "[CV] END max_depth=70, max_features=sqrt, min_samples_leaf=1, min_samples_split=5; total time=   0.1s\n",
      "[CV] END max_depth=70, max_features=sqrt, min_samples_leaf=1, min_samples_split=5; total time=   0.2s\n",
      "[CV] END max_depth=None, max_features=auto, min_samples_leaf=4, min_samples_split=2; total time=   0.1s\n",
      "[CV] END max_depth=80, max_features=sqrt, min_samples_leaf=1, min_samples_split=2; total time=   0.3s\n",
      "[CV] END max_depth=60, max_features=sqrt, min_samples_leaf=1, min_samples_split=10; total time=   0.1s\n",
      "[CV] END max_depth=90, max_features=auto, min_samples_leaf=1, min_samples_split=2; total time=   0.2s\n",
      "[CV] END max_depth=80, max_features=auto, min_samples_leaf=2, min_samples_split=2; total time=   0.1s\n",
      "[CV] END max_depth=10, max_features=sqrt, min_samples_leaf=4, min_samples_split=2; total time=   0.1s\n",
      "[CV] END max_depth=50, max_features=sqrt, min_samples_leaf=2, min_samples_split=10; total time=   0.0s\n",
      "[CV] END max_depth=10, max_features=auto, min_samples_leaf=4, min_samples_split=5; total time=   0.1s\n",
      "[CV] END max_depth=90, max_features=sqrt, min_samples_leaf=4, min_samples_split=2; total time=   0.0s\n",
      "[CV] END max_depth=60, max_features=sqrt, min_samples_leaf=4, min_samples_split=10; total time=   0.0s\n",
      "[CV] END max_depth=70, max_features=sqrt, min_samples_leaf=4, min_samples_split=2; total time=   0.1s\n",
      "[CV] END max_depth=10, max_features=auto, min_samples_leaf=2, min_samples_split=5; total time=   0.1s\n",
      "[CV] END max_depth=30, max_features=sqrt, min_samples_leaf=4, min_samples_split=5; total time=   0.1s\n",
      "[CV] END max_depth=10, max_features=auto, min_samples_leaf=4, min_samples_split=10; total time=   0.1s\n",
      "[CV] END max_depth=20, max_features=auto, min_samples_leaf=4, min_samples_split=2; total time=   0.0s\n",
      "[CV] END max_depth=60, max_features=auto, min_samples_leaf=1, min_samples_split=10; total time=   0.0s\n",
      "[CV] END max_depth=110, max_features=sqrt, min_samples_leaf=4, min_samples_split=10; total time=   0.1s\n",
      "[CV] END max_depth=110, max_features=auto, min_samples_leaf=1, min_samples_split=2; total time=   0.0s\n",
      "[CV] END max_depth=10, max_features=auto, min_samples_leaf=1, min_samples_split=10; total time=   0.0s\n",
      "[CV] END bootstrap=False, max_depth=None, max_features=sqrt, min_samples_leaf=1, min_samples_split=2, n_estimators=400; total time=  18.0s\n",
      "[CV] END bootstrap=False, max_depth=30, max_features=sqrt, min_samples_leaf=1, min_samples_split=5, n_estimators=2000; total time= 1.9min\n",
      "[CV] END bootstrap=False, max_depth=10, max_features=sqrt, min_samples_leaf=1, min_samples_split=2, n_estimators=1000; total time=  54.8s\n",
      "[CV] END bootstrap=True, max_depth=None, max_features=sqrt, min_samples_leaf=2, min_samples_split=5, n_estimators=600; total time=  36.2s\n",
      "[CV] END bootstrap=False, max_depth=110, max_features=auto, min_samples_leaf=2, min_samples_split=10, n_estimators=800; total time=  40.2s\n",
      "[CV] END bootstrap=True, max_depth=110, max_features=auto, min_samples_leaf=4, min_samples_split=10, n_estimators=1800; total time= 2.1min\n",
      "[CV] END bootstrap=True, max_depth=90, max_features=auto, min_samples_leaf=2, min_samples_split=5, n_estimators=2000; total time= 2.1min\n",
      "[CV] END bootstrap=True, max_depth=20, max_features=auto, min_samples_leaf=2, min_samples_split=2, n_estimators=1000; total time= 1.1min\n",
      "[CV] END bootstrap=False, max_depth=10, max_features=sqrt, min_samples_leaf=1, min_samples_split=10, n_estimators=1600; total time= 1.5min\n",
      "[CV] END bootstrap=False, max_depth=110, max_features=auto, min_samples_leaf=4, min_samples_split=5, n_estimators=200; total time=  12.3s\n",
      "[CV] END bootstrap=False, max_depth=110, max_features=auto, min_samples_leaf=4, min_samples_split=5, n_estimators=200; total time=  11.1s\n",
      "[CV] END bootstrap=True, max_depth=90, max_features=sqrt, min_samples_leaf=1, min_samples_split=2, n_estimators=800; total time=  56.0s\n",
      "[CV] END bootstrap=True, max_depth=80, max_features=auto, min_samples_leaf=4, min_samples_split=5, n_estimators=1000; total time= 1.1min\n",
      "[CV] END bootstrap=True, max_depth=110, max_features=auto, min_samples_leaf=2, min_samples_split=2, n_estimators=200; total time=  16.0s\n",
      "[CV] END bootstrap=True, max_depth=30, max_features=auto, min_samples_leaf=2, min_samples_split=10, n_estimators=200; total time=  13.2s\n",
      "[CV] END bootstrap=True, max_depth=30, max_features=auto, min_samples_leaf=2, min_samples_split=10, n_estimators=200; total time=  13.6s\n",
      "[CV] END bootstrap=True, max_depth=90, max_features=sqrt, min_samples_leaf=2, min_samples_split=2, n_estimators=1000; total time= 1.1min\n",
      "[CV] END bootstrap=True, max_depth=100, max_features=auto, min_samples_leaf=1, min_samples_split=5, n_estimators=600; total time=  39.6s\n",
      "[CV] END bootstrap=False, max_depth=50, max_features=auto, min_samples_leaf=1, min_samples_split=10, n_estimators=1600; total time= 1.4min\n",
      "[CV] END bootstrap=False, max_depth=50, max_features=auto, min_samples_leaf=2, min_samples_split=5, n_estimators=200; total time=   8.7s\n",
      "[CV] END bootstrap=False, max_depth=None, max_features=auto, min_samples_leaf=4, min_samples_split=2, n_estimators=1200; total time= 1.1min\n",
      "[CV] END bootstrap=True, max_depth=None, max_features=auto, min_samples_leaf=4, min_samples_split=10, n_estimators=600; total time=  40.6s\n",
      "[CV] END ...............learning_rate=0.8, n_estimators=1200; total time= 1.6min\n",
      "[CV] END ................learning_rate=0.2, n_estimators=600; total time=  46.7s\n",
      "[CV] END ................learning_rate=0.5, n_estimators=600; total time=  43.2s\n",
      "[CV] END .learning_rate=0.7000000000000001, n_estimators=800; total time= 1.0min\n",
      "[CV] END ...............learning_rate=0.9, n_estimators=1000; total time= 1.3min\n",
      "[CV] END ...............learning_rate=0.0, n_estimators=1400; total time=   0.0s\n",
      "[CV] END ...............learning_rate=0.0, n_estimators=1400; total time=   0.1s\n",
      "[CV] END learning_rate=0.7000000000000001, n_estimators=1800; total time= 2.5min\n",
      "[CV] END ................learning_rate=0.5, n_estimators=400; total time=  34.6s\n",
      "[CV] END ................learning_rate=0.4, n_estimators=800; total time=  59.0s\n",
      "[CV] END ................learning_rate=0.4, n_estimators=400; total time=  28.8s\n",
      "[CV] END learning_rate=0.30000000000000004, n_estimators=1800; total time= 2.4min\n",
      "[CV] END ................learning_rate=0.1, n_estimators=400; total time=  30.7s\n",
      "[CV] END learning_rate=0.30000000000000004, n_estimators=1200; total time= 1.5min\n",
      "[CV] END ................learning_rate=0.9, n_estimators=600; total time=  46.5s\n",
      "[CV] END ...............learning_rate=0.1, n_estimators=2000; total time= 2.6min\n",
      "[CV] END learning_rate=0.7000000000000001, n_estimators=2000; total time= 2.5min\n",
      "[CV] END ................learning_rate=0.8, n_estimators=400; total time=  29.4s\n",
      "[CV] END ...............learning_rate=0.9, n_estimators=2000; total time= 2.6min\n",
      "[CV] END .learning_rate=0.7000000000000001, n_estimators=200; total time=  18.7s\n",
      "[CV] END max_depth=30, max_features=auto, min_samples_leaf=1, min_samples_split=5; total time=   0.3s\n",
      "[CV] END max_depth=80, max_features=sqrt, min_samples_leaf=2, min_samples_split=2; total time=   0.3s\n",
      "[CV] END max_depth=10, max_features=auto, min_samples_leaf=2, min_samples_split=10; total time=   0.2s\n",
      "[CV] END max_depth=10, max_features=auto, min_samples_leaf=2, min_samples_split=10; total time=   0.4s\n",
      "[CV] END max_depth=50, max_features=sqrt, min_samples_leaf=1, min_samples_split=10; total time=   0.2s\n",
      "[CV] END max_depth=40, max_features=auto, min_samples_leaf=1, min_samples_split=5; total time=   0.3s\n",
      "[CV] END max_depth=90, max_features=auto, min_samples_leaf=1, min_samples_split=10; total time=   0.2s\n",
      "[CV] END max_depth=90, max_features=sqrt, min_samples_leaf=4, min_samples_split=10; total time=   0.2s\n",
      "[CV] END max_depth=50, max_features=auto, min_samples_leaf=1, min_samples_split=10; total time=   0.1s\n",
      "[CV] END max_depth=80, max_features=sqrt, min_samples_leaf=1, min_samples_split=2; total time=   0.1s\n",
      "[CV] END max_depth=90, max_features=sqrt, min_samples_leaf=1, min_samples_split=5; total time=   0.1s\n",
      "[CV] END max_depth=110, max_features=sqrt, min_samples_leaf=1, min_samples_split=10; total time=   0.2s\n",
      "[CV] END max_depth=100, max_features=sqrt, min_samples_leaf=2, min_samples_split=10; total time=   0.1s\n",
      "[CV] END max_depth=50, max_features=sqrt, min_samples_leaf=2, min_samples_split=10; total time=   0.0s\n",
      "[CV] END max_depth=100, max_features=sqrt, min_samples_leaf=1, min_samples_split=2; total time=   0.1s\n",
      "[CV] END max_depth=20, max_features=sqrt, min_samples_leaf=4, min_samples_split=2; total time=   0.1s\n",
      "[CV] END max_depth=110, max_features=auto, min_samples_leaf=1, min_samples_split=10; total time=   0.0s\n",
      "[CV] END max_depth=20, max_features=auto, min_samples_leaf=2, min_samples_split=5; total time=   0.0s\n",
      "[CV] END max_depth=70, max_features=auto, min_samples_leaf=1, min_samples_split=5; total time=   0.2s\n",
      "[CV] END max_depth=20, max_features=auto, min_samples_leaf=4, min_samples_split=10; total time=   0.0s\n",
      "[CV] END max_depth=30, max_features=auto, min_samples_leaf=2, min_samples_split=5; total time=   0.0s\n",
      "[CV] END max_depth=20, max_features=auto, min_samples_leaf=4, min_samples_split=2; total time=   0.1s\n",
      "[CV] END max_depth=60, max_features=auto, min_samples_leaf=1, min_samples_split=10; total time=   0.0s\n",
      "[CV] END max_depth=110, max_features=sqrt, min_samples_leaf=4, min_samples_split=10; total time=   0.1s\n",
      "[CV] END max_depth=60, max_features=sqrt, min_samples_leaf=2, min_samples_split=10; total time=   0.1s\n",
      "[CV] END max_depth=20, max_features=sqrt, min_samples_leaf=1, min_samples_split=2; total time=   0.0s\n",
      "[CV] END max_depth=None, max_features=sqrt, min_samples_leaf=2, min_samples_split=2; total time=   0.0s\n",
      "[CV] END max_depth=90, max_features=sqrt, min_samples_leaf=1, min_samples_split=10; total time=   0.0s\n",
      "[CV] END bootstrap=True, max_depth=40, max_features=sqrt, min_samples_leaf=1, min_samples_split=10, n_estimators=400; total time=  26.4s\n",
      "[CV] END bootstrap=False, max_depth=110, max_features=auto, min_samples_leaf=2, min_samples_split=5, n_estimators=1200; total time= 1.0min\n",
      "[CV] END bootstrap=True, max_depth=110, max_features=sqrt, min_samples_leaf=2, min_samples_split=10, n_estimators=800; total time=  55.4s\n",
      "[CV] END bootstrap=True, max_depth=30, max_features=sqrt, min_samples_leaf=4, min_samples_split=5, n_estimators=1800; total time= 2.1min\n",
      "[CV] END bootstrap=False, max_depth=40, max_features=auto, min_samples_leaf=1, min_samples_split=5, n_estimators=1000; total time=  54.6s\n",
      "[CV] END bootstrap=False, max_depth=30, max_features=auto, min_samples_leaf=4, min_samples_split=5, n_estimators=1000; total time=  55.4s\n",
      "[CV] END bootstrap=True, max_depth=70, max_features=auto, min_samples_leaf=2, min_samples_split=2, n_estimators=1000; total time= 1.2min\n",
      "[CV] END bootstrap=True, max_depth=None, max_features=sqrt, min_samples_leaf=2, min_samples_split=5, n_estimators=1200; total time= 1.4min\n",
      "[CV] END bootstrap=False, max_depth=30, max_features=auto, min_samples_leaf=4, min_samples_split=10, n_estimators=400; total time=  22.4s\n",
      "[CV] END bootstrap=True, max_depth=None, max_features=sqrt, min_samples_leaf=1, min_samples_split=10, n_estimators=1200; total time= 1.4min\n",
      "[CV] END bootstrap=False, max_depth=100, max_features=sqrt, min_samples_leaf=2, min_samples_split=2, n_estimators=2000; total time= 1.8min\n",
      "[CV] END bootstrap=False, max_depth=50, max_features=sqrt, min_samples_leaf=2, min_samples_split=10, n_estimators=400; total time=  23.3s\n",
      "[CV] END bootstrap=False, max_depth=50, max_features=auto, min_samples_leaf=1, min_samples_split=5, n_estimators=1800; total time= 1.7min\n",
      "[CV] END bootstrap=True, max_depth=30, max_features=sqrt, min_samples_leaf=4, min_samples_split=10, n_estimators=400; total time=  25.9s\n",
      "[CV] END bootstrap=True, max_depth=70, max_features=auto, min_samples_leaf=1, min_samples_split=5, n_estimators=1800; total time= 2.1min\n",
      "[CV] END bootstrap=True, max_depth=10, max_features=auto, min_samples_leaf=2, min_samples_split=5, n_estimators=600; total time=  40.6s\n",
      "[CV] END bootstrap=True, max_depth=20, max_features=auto, min_samples_leaf=2, min_samples_split=5, n_estimators=200; total time=  15.0s\n",
      "[CV] END bootstrap=True, max_depth=80, max_features=sqrt, min_samples_leaf=2, min_samples_split=5, n_estimators=200; total time=  13.1s\n",
      "[CV] END bootstrap=True, max_depth=90, max_features=auto, min_samples_leaf=1, min_samples_split=10, n_estimators=1000; total time= 1.1min\n",
      "[CV] END ................learning_rate=0.1, n_estimators=200; total time=  16.9s\n",
      "[CV] END ...............learning_rate=1.0, n_estimators=2000; total time= 2.7min\n",
      "[CV] END ................learning_rate=0.1, n_estimators=800; total time=  58.9s\n",
      "[CV] END ...............learning_rate=0.0, n_estimators=1800; total time=   0.0s\n",
      "[CV] END ...............learning_rate=0.0, n_estimators=1800; total time=   0.0s\n",
      "[CV] END ...............learning_rate=0.0, n_estimators=1800; total time=   0.0s\n",
      "[CV] END ...............learning_rate=0.2, n_estimators=1400; total time= 1.9min\n",
      "[CV] END ...............learning_rate=0.9, n_estimators=1200; total time= 1.6min\n",
      "[CV] END ...............learning_rate=0.1, n_estimators=1800; total time= 2.4min\n",
      "[CV] END ...............learning_rate=0.1, n_estimators=1600; total time= 2.1min\n",
      "[CV] END ...............learning_rate=0.5, n_estimators=1200; total time= 1.5min\n",
      "[CV] END ...............learning_rate=0.9, n_estimators=1800; total time= 2.3min\n",
      "[CV] END ...............learning_rate=0.4, n_estimators=2000; total time= 2.7min\n",
      "[CV] END ...............learning_rate=1.0, n_estimators=1000; total time= 1.3min\n",
      "[CV] END learning_rate=0.30000000000000004, n_estimators=1600; total time= 2.1min\n",
      "[CV] END ...............learning_rate=0.5, n_estimators=1800; total time= 2.2min\n",
      "[CV] END max_depth=50, max_features=sqrt, min_samples_leaf=4, min_samples_split=10; total time=   0.5s\n",
      "[CV] END max_depth=10, max_features=sqrt, min_samples_leaf=2, min_samples_split=2; total time=   0.2s\n",
      "[CV] END max_depth=90, max_features=sqrt, min_samples_leaf=1, min_samples_split=5; total time=   0.2s\n",
      "[CV] END max_depth=90, max_features=auto, min_samples_leaf=1, min_samples_split=2; total time=   0.1s\n",
      "[CV] END max_depth=80, max_features=auto, min_samples_leaf=2, min_samples_split=2; total time=   0.1s\n",
      "[CV] END max_depth=10, max_features=sqrt, min_samples_leaf=4, min_samples_split=2; total time=   0.1s\n",
      "[CV] END max_depth=40, max_features=sqrt, min_samples_leaf=1, min_samples_split=2; total time=   0.1s\n",
      "[CV] END max_depth=80, max_features=sqrt, min_samples_leaf=4, min_samples_split=2; total time=   0.1s\n",
      "[CV] END max_depth=70, max_features=sqrt, min_samples_leaf=2, min_samples_split=10; total time=   0.1s\n",
      "[CV] END max_depth=50, max_features=auto, min_samples_leaf=4, min_samples_split=10; total time=   0.1s\n",
      "[CV] END max_depth=None, max_features=auto, min_samples_leaf=1, min_samples_split=2; total time=   0.0s\n",
      "[CV] END max_depth=20, max_features=auto, min_samples_leaf=4, min_samples_split=10; total time=   0.1s\n",
      "[CV] END max_depth=40, max_features=auto, min_samples_leaf=1, min_samples_split=10; total time=   0.0s\n",
      "[CV] END max_depth=90, max_features=sqrt, min_samples_leaf=2, min_samples_split=10; total time=   0.1s\n",
      "[CV] END max_depth=70, max_features=auto, min_samples_leaf=1, min_samples_split=2; total time=   0.1s\n",
      "[CV] END max_depth=70, max_features=auto, min_samples_leaf=4, min_samples_split=10; total time=   0.0s\n",
      "[CV] END max_depth=20, max_features=sqrt, min_samples_leaf=1, min_samples_split=2; total time=   0.0s\n",
      "[CV] END max_depth=30, max_features=sqrt, min_samples_leaf=1, min_samples_split=5; total time=   0.1s\n",
      "[CV] END max_depth=70, max_features=auto, min_samples_leaf=2, min_samples_split=2; total time=   0.0s\n",
      "[CV] END bootstrap=False, max_depth=None, max_features=sqrt, min_samples_leaf=1, min_samples_split=2, n_estimators=400; total time=  22.5s\n",
      "[CV] END bootstrap=False, max_depth=110, max_features=auto, min_samples_leaf=2, min_samples_split=5, n_estimators=1200; total time= 1.1min\n",
      "[CV] END bootstrap=False, max_depth=10, max_features=sqrt, min_samples_leaf=1, min_samples_split=2, n_estimators=1000; total time=  52.8s\n",
      "[CV] END bootstrap=True, max_depth=30, max_features=sqrt, min_samples_leaf=4, min_samples_split=5, n_estimators=1800; total time= 2.2min\n",
      "[CV] END bootstrap=False, max_depth=60, max_features=sqrt, min_samples_leaf=2, min_samples_split=10, n_estimators=800; total time=  47.0s\n",
      "[CV] END bootstrap=False, max_depth=30, max_features=auto, min_samples_leaf=4, min_samples_split=5, n_estimators=1000; total time=  52.8s\n",
      "[CV] END bootstrap=False, max_depth=80, max_features=sqrt, min_samples_leaf=2, min_samples_split=10, n_estimators=1200; total time= 1.1min\n",
      "[CV] END bootstrap=True, max_depth=40, max_features=sqrt, min_samples_leaf=4, min_samples_split=10, n_estimators=1400; total time= 1.7min\n",
      "[CV] END bootstrap=False, max_depth=30, max_features=auto, min_samples_leaf=4, min_samples_split=10, n_estimators=400; total time=  21.6s\n",
      "[CV] END bootstrap=False, max_depth=10, max_features=sqrt, min_samples_leaf=1, min_samples_split=10, n_estimators=1600; total time= 1.4min\n",
      "[CV] END bootstrap=False, max_depth=100, max_features=sqrt, min_samples_leaf=2, min_samples_split=2, n_estimators=2000; total time= 1.9min\n",
      "[CV] END bootstrap=True, max_depth=50, max_features=sqrt, min_samples_leaf=4, min_samples_split=5, n_estimators=800; total time=  58.4s\n",
      "[CV] END bootstrap=True, max_depth=None, max_features=sqrt, min_samples_leaf=2, min_samples_split=5, n_estimators=1600; total time= 1.8min\n",
      "[CV] END bootstrap=False, max_depth=60, max_features=auto, min_samples_leaf=4, min_samples_split=5, n_estimators=400; total time=  19.1s\n",
      "[CV] END bootstrap=True, max_depth=100, max_features=auto, min_samples_leaf=4, min_samples_split=5, n_estimators=1600; total time= 1.8min\n",
      "[CV] END bootstrap=True, max_depth=100, max_features=auto, min_samples_leaf=4, min_samples_split=5, n_estimators=1800; total time= 1.9min\n",
      "[CV] END learning_rate=0.7000000000000001, n_estimators=1200; total time= 1.6min\n",
      "[CV] END ...............learning_rate=0.4, n_estimators=1200; total time= 1.7min\n",
      "[CV] END ...............learning_rate=0.5, n_estimators=1000; total time= 1.4min\n",
      "[CV] END learning_rate=0.30000000000000004, n_estimators=800; total time= 1.1min\n",
      "[CV] END ................learning_rate=0.8, n_estimators=600; total time=  53.6s\n",
      "[CV] END ...............learning_rate=0.5, n_estimators=2000; total time= 2.5min\n",
      "[CV] END ................learning_rate=0.4, n_estimators=600; total time=  44.0s\n",
      "[CV] END ................learning_rate=0.4, n_estimators=200; total time=  14.2s\n",
      "[CV] END ................learning_rate=0.5, n_estimators=800; total time= 1.1min\n",
      "[CV] END ................learning_rate=0.0, n_estimators=200; total time=   0.0s\n",
      "[CV] END ................learning_rate=0.0, n_estimators=200; total time=   0.1s\n",
      "[CV] END ................learning_rate=0.0, n_estimators=200; total time=   0.0s\n",
      "[CV] END learning_rate=0.30000000000000004, n_estimators=1000; total time= 1.4min\n",
      "[CV] END .learning_rate=0.6000000000000001, n_estimators=600; total time=  47.0s\n",
      "[CV] END ...............learning_rate=0.9, n_estimators=1800; total time= 2.3min\n",
      "[CV] END ...............learning_rate=0.2, n_estimators=2000; total time= 2.6min\n",
      "[CV] END ................learning_rate=0.8, n_estimators=200; total time=  14.4s\n",
      "[CV] END ...............learning_rate=1.0, n_estimators=1000; total time= 1.4min\n",
      "[CV] END ................learning_rate=0.8, n_estimators=400; total time=  30.0s\n",
      "[CV] END ...............learning_rate=0.9, n_estimators=1400; total time= 1.7min\n",
      "[CV] END ...............learning_rate=0.5, n_estimators=1800; total time= 2.1min\n",
      "[CV] END max_depth=100, max_features=auto, min_samples_leaf=4, min_samples_split=5; total time=   0.0s\n",
      "[CV] END max_depth=None, max_features=auto, min_samples_leaf=1, min_samples_split=10; total time=   0.0s\n",
      "[CV] END max_depth=80, max_features=sqrt, min_samples_leaf=1, min_samples_split=5; total time=   0.1s\n",
      "[CV] END max_depth=70, max_features=sqrt, min_samples_leaf=4, min_samples_split=2; total time=   0.1s\n",
      "[CV] END max_depth=10, max_features=auto, min_samples_leaf=2, min_samples_split=5; total time=   0.1s\n",
      "[CV] END max_depth=90, max_features=sqrt, min_samples_leaf=2, min_samples_split=2; total time=   0.1s\n",
      "[CV] END max_depth=10, max_features=sqrt, min_samples_leaf=2, min_samples_split=5; total time=   0.0s\n",
      "[CV] END max_depth=40, max_features=auto, min_samples_leaf=1, min_samples_split=10; total time=   0.0s\n",
      "[CV] END max_depth=90, max_features=sqrt, min_samples_leaf=2, min_samples_split=10; total time=   0.1s\n",
      "[CV] END max_depth=110, max_features=sqrt, min_samples_leaf=1, min_samples_split=2; total time=   0.1s\n",
      "[CV] END max_depth=70, max_features=sqrt, min_samples_leaf=4, min_samples_split=10; total time=   0.0s\n",
      "[CV] END max_depth=30, max_features=sqrt, min_samples_leaf=1, min_samples_split=5; total time=   0.0s\n",
      "[CV] END bootstrap=False, max_depth=20, max_features=sqrt, min_samples_leaf=2, min_samples_split=5, n_estimators=200; total time=  12.0s\n",
      "[CV] END bootstrap=False, max_depth=30, max_features=sqrt, min_samples_leaf=1, min_samples_split=5, n_estimators=2000; total time= 1.7min\n",
      "[CV] END bootstrap=False, max_depth=10, max_features=sqrt, min_samples_leaf=1, min_samples_split=2, n_estimators=1000; total time=  50.1s\n",
      "[CV] END bootstrap=False, max_depth=10, max_features=auto, min_samples_leaf=4, min_samples_split=5, n_estimators=2000; total time= 1.7min\n",
      "[CV] END bootstrap=False, max_depth=40, max_features=auto, min_samples_leaf=1, min_samples_split=5, n_estimators=1000; total time=  52.6s\n",
      "[CV] END bootstrap=False, max_depth=30, max_features=sqrt, min_samples_leaf=2, min_samples_split=10, n_estimators=1600; total time= 1.5min\n",
      "[CV] END bootstrap=True, max_depth=100, max_features=sqrt, min_samples_leaf=4, min_samples_split=5, n_estimators=2000; total time= 2.4min\n",
      "[CV] END bootstrap=False, max_depth=100, max_features=auto, min_samples_leaf=1, min_samples_split=10, n_estimators=1200; total time= 1.1min\n",
      "[CV] END bootstrap=True, max_depth=110, max_features=auto, min_samples_leaf=1, min_samples_split=5, n_estimators=1800; total time= 2.0min\n",
      "[CV] END bootstrap=False, max_depth=10, max_features=auto, min_samples_leaf=1, min_samples_split=2, n_estimators=1000; total time=  55.2s\n",
      "[CV] END bootstrap=True, max_depth=110, max_features=auto, min_samples_leaf=2, min_samples_split=2, n_estimators=200; total time=  13.7s\n",
      "[CV] END bootstrap=True, max_depth=110, max_features=auto, min_samples_leaf=2, min_samples_split=2, n_estimators=200; total time=  12.7s\n",
      "[CV] END bootstrap=True, max_depth=None, max_features=sqrt, min_samples_leaf=2, min_samples_split=5, n_estimators=1600; total time= 1.8min\n",
      "[CV] END bootstrap=False, max_depth=90, max_features=auto, min_samples_leaf=1, min_samples_split=2, n_estimators=800; total time=  42.4s\n",
      "[CV] END bootstrap=True, max_depth=70, max_features=sqrt, min_samples_leaf=4, min_samples_split=2, n_estimators=600; total time=  40.9s\n",
      "[CV] END bootstrap=True, max_depth=10, max_features=sqrt, min_samples_leaf=2, min_samples_split=2, n_estimators=1200; total time= 1.3min\n",
      "[CV] END bootstrap=True, max_depth=80, max_features=sqrt, min_samples_leaf=2, min_samples_split=5, n_estimators=200; total time=  11.4s\n",
      "[CV] END bootstrap=True, max_depth=90, max_features=auto, min_samples_leaf=1, min_samples_split=10, n_estimators=1000; total time= 1.0min\n",
      "[CV] END ................learning_rate=0.1, n_estimators=200; total time=  16.3s\n",
      "[CV] END ...............learning_rate=1.0, n_estimators=2000; total time= 2.8min\n",
      "[CV] END .learning_rate=0.7000000000000001, n_estimators=800; total time= 1.1min\n",
      "[CV] END learning_rate=0.30000000000000004, n_estimators=800; total time= 1.1min\n",
      "[CV] END ...............learning_rate=0.4, n_estimators=1800; total time= 2.3min\n",
      "[CV] END .learning_rate=0.6000000000000001, n_estimators=400; total time=  32.1s\n",
      "[CV] END .learning_rate=0.6000000000000001, n_estimators=800; total time= 1.1min\n",
      "[CV] END ................learning_rate=0.4, n_estimators=600; total time=  50.2s\n",
      "[CV] END learning_rate=0.30000000000000004, n_estimators=1800; total time= 2.4min\n",
      "[CV] END ................learning_rate=0.1, n_estimators=400; total time=  30.3s\n",
      "[CV] END ................learning_rate=0.2, n_estimators=800; total time= 1.0min\n",
      "[CV] END ................learning_rate=0.9, n_estimators=800; total time= 1.0min\n",
      "[CV] END ...............learning_rate=0.1, n_estimators=2000; total time= 2.8min\n",
      "[CV] END learning_rate=0.7000000000000001, n_estimators=2000; total time= 2.5min\n",
      "[CV] END ...............learning_rate=0.9, n_estimators=1400; total time= 1.9min\n",
      "[CV] END ...............learning_rate=0.5, n_estimators=1800; total time= 2.0min\n",
      "[CV] END max_depth=100, max_features=auto, min_samples_leaf=4, min_samples_split=5; total time=   0.1s\n",
      "[CV] END max_depth=40, max_features=sqrt, min_samples_leaf=1, min_samples_split=2; total time=   0.2s\n",
      "[CV] END max_depth=20, max_features=sqrt, min_samples_leaf=4, min_samples_split=2; total time=   0.1s\n",
      "[CV] END max_depth=110, max_features=auto, min_samples_leaf=1, min_samples_split=10; total time=   0.0s\n",
      "[CV] END max_depth=20, max_features=auto, min_samples_leaf=2, min_samples_split=5; total time=   0.1s\n",
      "[CV] END max_depth=70, max_features=auto, min_samples_leaf=1, min_samples_split=5; total time=   0.1s\n",
      "[CV] END max_depth=40, max_features=sqrt, min_samples_leaf=2, min_samples_split=2; total time=   0.1s\n",
      "[CV] END max_depth=10, max_features=auto, min_samples_leaf=4, min_samples_split=10; total time=   0.0s\n",
      "[CV] END max_depth=100, max_features=auto, min_samples_leaf=4, min_samples_split=10; total time=   0.0s\n",
      "[CV] END max_depth=20, max_features=auto, min_samples_leaf=4, min_samples_split=2; total time=   0.1s\n",
      "[CV] END max_depth=20, max_features=auto, min_samples_leaf=1, min_samples_split=5; total time=   0.1s\n",
      "[CV] END max_depth=30, max_features=sqrt, min_samples_leaf=4, min_samples_split=2; total time=   0.0s\n",
      "[CV] END max_depth=70, max_features=auto, min_samples_leaf=4, min_samples_split=10; total time=   0.1s\n",
      "[CV] END max_depth=80, max_features=auto, min_samples_leaf=2, min_samples_split=5; total time=   0.0s\n",
      "[CV] END max_depth=None, max_features=sqrt, min_samples_leaf=2, min_samples_split=5; total time=   0.0s\n",
      "[CV] END max_depth=10, max_features=auto, min_samples_leaf=1, min_samples_split=10; total time=   0.1s\n",
      "[CV] END bootstrap=False, max_depth=20, max_features=sqrt, min_samples_leaf=4, min_samples_split=5, n_estimators=400; total time=  22.5s\n",
      "[CV] END bootstrap=False, max_depth=110, max_features=auto, min_samples_leaf=2, min_samples_split=5, n_estimators=1200; total time= 1.1min\n",
      "[CV] END bootstrap=True, max_depth=110, max_features=sqrt, min_samples_leaf=2, min_samples_split=10, n_estimators=800; total time= 1.0min\n",
      "[CV] END bootstrap=True, max_depth=30, max_features=sqrt, min_samples_leaf=4, min_samples_split=5, n_estimators=1800; total time= 2.1min\n",
      "[CV] END bootstrap=False, max_depth=60, max_features=sqrt, min_samples_leaf=2, min_samples_split=10, n_estimators=800; total time=  47.0s\n",
      "[CV] END bootstrap=False, max_depth=110, max_features=auto, min_samples_leaf=1, min_samples_split=10, n_estimators=1400; total time= 1.3min\n",
      "[CV] END bootstrap=False, max_depth=100, max_features=auto, min_samples_leaf=2, min_samples_split=2, n_estimators=1400; total time= 1.2min\n",
      "[CV] END bootstrap=False, max_depth=100, max_features=auto, min_samples_leaf=1, min_samples_split=5, n_estimators=2000; total time= 1.8min\n",
      "[CV] END bootstrap=False, max_depth=100, max_features=sqrt, min_samples_leaf=4, min_samples_split=2, n_estimators=1400; total time= 1.2min\n",
      "[CV] END bootstrap=True, max_depth=90, max_features=auto, min_samples_leaf=4, min_samples_split=10, n_estimators=800; total time=  57.4s\n",
      "[CV] END bootstrap=False, max_depth=10, max_features=auto, min_samples_leaf=1, min_samples_split=2, n_estimators=1000; total time=  59.7s\n",
      "[CV] END bootstrap=True, max_depth=110, max_features=auto, min_samples_leaf=1, min_samples_split=10, n_estimators=2000; total time= 2.4min\n",
      "[CV] END bootstrap=False, max_depth=90, max_features=auto, min_samples_leaf=1, min_samples_split=2, n_estimators=800; total time=  46.9s\n",
      "[CV] END bootstrap=True, max_depth=70, max_features=sqrt, min_samples_leaf=4, min_samples_split=2, n_estimators=600; total time=  42.5s\n",
      "[CV] END bootstrap=False, max_depth=100, max_features=sqrt, min_samples_leaf=2, min_samples_split=10, n_estimators=200; total time=  11.2s\n",
      "[CV] END bootstrap=False, max_depth=100, max_features=sqrt, min_samples_leaf=2, min_samples_split=10, n_estimators=200; total time=  11.0s\n",
      "[CV] END bootstrap=False, max_depth=50, max_features=auto, min_samples_leaf=2, min_samples_split=5, n_estimators=200; total time=  10.6s\n",
      "[CV] END bootstrap=False, max_depth=None, max_features=auto, min_samples_leaf=1, min_samples_split=2, n_estimators=200; total time=  11.0s\n",
      "[CV] END bootstrap=False, max_depth=None, max_features=auto, min_samples_leaf=4, min_samples_split=2, n_estimators=1200; total time= 1.1min\n",
      "[CV] END bootstrap=True, max_depth=70, max_features=sqrt, min_samples_leaf=4, min_samples_split=5, n_estimators=1400; total time=  56.7s\n",
      "[CV] END ...............learning_rate=0.2, n_estimators=1000; total time= 1.3min\n",
      "[CV] END learning_rate=0.6000000000000001, n_estimators=1800; total time= 2.4min\n",
      "[CV] END ...............learning_rate=1.0, n_estimators=1200; total time= 1.5min\n",
      "[CV] END ...............learning_rate=0.4, n_estimators=1800; total time= 2.5min\n",
      "[CV] END .learning_rate=0.6000000000000001, n_estimators=400; total time=  32.0s\n",
      "[CV] END .learning_rate=0.7000000000000001, n_estimators=400; total time=  33.1s\n",
      "[CV] END ................learning_rate=0.4, n_estimators=800; total time= 1.0min\n",
      "[CV] END ................learning_rate=0.4, n_estimators=200; total time=  19.4s\n",
      "[CV] END ................learning_rate=1.0, n_estimators=200; total time=  18.4s\n",
      "[CV] END ................learning_rate=1.0, n_estimators=200; total time=  17.4s\n",
      "[CV] END ................learning_rate=1.0, n_estimators=200; total time=  15.8s\n",
      "[CV] END ...............learning_rate=0.5, n_estimators=1400; total time= 2.0min\n",
      "[CV] END learning_rate=0.30000000000000004, n_estimators=400; total time=  35.7s\n",
      "[CV] END ...............learning_rate=0.5, n_estimators=1600; total time= 2.1min\n",
      "[CV] END ...............learning_rate=0.4, n_estimators=2000; total time= 2.7min\n",
      "[CV] END ................learning_rate=0.2, n_estimators=200; total time=  16.1s\n",
      "[CV] END learning_rate=0.7000000000000001, n_estimators=1600; total time= 2.2min\n",
      "[CV] END learning_rate=0.6000000000000001, n_estimators=1200; total time= 1.6min\n",
      "[CV] END ...............learning_rate=0.9, n_estimators=1600; total time= 1.8min\n",
      "[CV] END max_depth=90, max_features=auto, min_samples_leaf=4, min_samples_split=10; total time=   0.1s\n",
      "[CV] END max_depth=90, max_features=sqrt, min_samples_leaf=4, min_samples_split=2; total time=   0.1s\n",
      "[CV] END max_depth=20, max_features=auto, min_samples_leaf=2, min_samples_split=5; total time=   0.0s\n",
      "[CV] END max_depth=70, max_features=auto, min_samples_leaf=1, min_samples_split=5; total time=   0.1s\n",
      "[CV] END max_depth=20, max_features=auto, min_samples_leaf=4, min_samples_split=10; total time=   0.1s\n",
      "[CV] END max_depth=40, max_features=auto, min_samples_leaf=4, min_samples_split=5; total time=   0.0s\n",
      "[CV] END max_depth=60, max_features=sqrt, min_samples_leaf=4, min_samples_split=5; total time=   0.0s\n",
      "[CV] END max_depth=70, max_features=auto, min_samples_leaf=2, min_samples_split=5; total time=   0.1s\n",
      "[CV] END max_depth=40, max_features=auto, min_samples_leaf=1, min_samples_split=10; total time=   0.0s\n",
      "[CV] END max_depth=40, max_features=auto, min_samples_leaf=1, min_samples_split=2; total time=   0.0s\n",
      "[CV] END max_depth=70, max_features=auto, min_samples_leaf=1, min_samples_split=2; total time=   0.1s\n",
      "[CV] END max_depth=70, max_features=auto, min_samples_leaf=4, min_samples_split=10; total time=   0.0s\n",
      "[CV] END max_depth=20, max_features=sqrt, min_samples_leaf=1, min_samples_split=2; total time=   0.0s\n",
      "[CV] END max_depth=None, max_features=sqrt, min_samples_leaf=2, min_samples_split=2; total time=   0.1s\n",
      "[CV] END max_depth=70, max_features=sqrt, min_samples_leaf=4, min_samples_split=5; total time=   0.1s\n",
      "[CV] END max_depth=40, max_features=auto, min_samples_leaf=4, min_samples_split=10; total time=   0.0s\n",
      "[CV] END bootstrap=True, max_depth=90, max_features=sqrt, min_samples_leaf=1, min_samples_split=2, n_estimators=1200; total time= 1.4min\n",
      "[CV] END bootstrap=True, max_depth=110, max_features=sqrt, min_samples_leaf=2, min_samples_split=10, n_estimators=800; total time=  57.1s\n",
      "[CV] END bootstrap=False, max_depth=80, max_features=auto, min_samples_leaf=2, min_samples_split=2, n_estimators=1800; total time= 1.6min\n",
      "[CV] END bootstrap=False, max_depth=30, max_features=auto, min_samples_leaf=2, min_samples_split=5, n_estimators=1200; total time= 1.1min\n",
      "[CV] END bootstrap=True, max_depth=30, max_features=sqrt, min_samples_leaf=4, min_samples_split=5, n_estimators=1400; total time= 1.6min\n",
      "[CV] END bootstrap=False, max_depth=100, max_features=auto, min_samples_leaf=2, min_samples_split=2, n_estimators=1400; total time= 1.2min\n",
      "[CV] END bootstrap=False, max_depth=100, max_features=auto, min_samples_leaf=1, min_samples_split=5, n_estimators=2000; total time= 1.7min\n",
      "[CV] END bootstrap=True, max_depth=40, max_features=sqrt, min_samples_leaf=2, min_samples_split=5, n_estimators=1800; total time= 2.2min\n",
      "[CV] END bootstrap=False, max_depth=50, max_features=sqrt, min_samples_leaf=4, min_samples_split=2, n_estimators=600; total time=  32.0s\n",
      "[CV] END bootstrap=False, max_depth=70, max_features=auto, min_samples_leaf=1, min_samples_split=2, n_estimators=400; total time=  23.5s\n",
      "[CV] END bootstrap=False, max_depth=100, max_features=sqrt, min_samples_leaf=1, min_samples_split=2, n_estimators=1600; total time= 1.5min\n",
      "[CV] END bootstrap=True, max_depth=90, max_features=sqrt, min_samples_leaf=2, min_samples_split=2, n_estimators=1000; total time= 1.1min\n",
      "[CV] END bootstrap=False, max_depth=60, max_features=auto, min_samples_leaf=4, min_samples_split=5, n_estimators=400; total time=  19.7s\n",
      "[CV] END bootstrap=True, max_depth=60, max_features=sqrt, min_samples_leaf=1, min_samples_split=5, n_estimators=400; total time=  29.8s\n",
      "[CV] END bootstrap=False, max_depth=70, max_features=sqrt, min_samples_leaf=1, min_samples_split=10, n_estimators=200; total time=   9.5s\n",
      "[CV] END bootstrap=False, max_depth=70, max_features=sqrt, min_samples_leaf=1, min_samples_split=10, n_estimators=200; total time=  11.9s\n",
      "[CV] END bootstrap=False, max_depth=70, max_features=sqrt, min_samples_leaf=1, min_samples_split=10, n_estimators=200; total time=  12.5s\n",
      "[CV] END bootstrap=True, max_depth=10, max_features=sqrt, min_samples_leaf=2, min_samples_split=2, n_estimators=1200; total time= 1.3min\n",
      "[CV] END bootstrap=True, max_depth=90, max_features=auto, min_samples_leaf=1, min_samples_split=10, n_estimators=1000; total time= 1.1min\n",
      "[CV] END ...............learning_rate=0.8, n_estimators=1200; total time= 1.5min\n",
      "[CV] END learning_rate=0.6000000000000001, n_estimators=1800; total time= 2.4min\n",
      "[CV] END ...............learning_rate=1.0, n_estimators=1200; total time= 1.6min\n",
      "[CV] END learning_rate=0.30000000000000004, n_estimators=200; total time=  13.8s\n",
      "[CV] END learning_rate=0.7000000000000001, n_estimators=1800; total time= 2.4min\n",
      "[CV] END .learning_rate=0.6000000000000001, n_estimators=800; total time= 1.1min\n",
      "[CV] END ...............learning_rate=0.8, n_estimators=2000; total time= 2.6min\n",
      "[CV] END ...............learning_rate=0.2, n_estimators=1800; total time= 2.5min\n",
      "[CV] END learning_rate=0.30000000000000004, n_estimators=600; total time=  48.8s\n",
      "[CV] END learning_rate=0.7000000000000001, n_estimators=1000; total time= 1.3min\n",
      "[CV] END ...............learning_rate=1.0, n_estimators=1800; total time= 2.5min\n",
      "[CV] END ...............learning_rate=0.2, n_estimators=1200; total time= 1.7min\n",
      "[CV] END ...............learning_rate=0.4, n_estimators=1400; total time= 1.9min\n",
      "[CV] END ...............learning_rate=0.9, n_estimators=1600; total time= 1.9min\n",
      "[CV] END max_depth=100, max_features=auto, min_samples_leaf=4, min_samples_split=5; total time=   0.1s\n",
      "[CV] END max_depth=100, max_features=sqrt, min_samples_leaf=1, min_samples_split=2; total time=   0.1s\n",
      "[CV] END max_depth=80, max_features=sqrt, min_samples_leaf=4, min_samples_split=2; total time=   0.1s\n",
      "[CV] END max_depth=70, max_features=sqrt, min_samples_leaf=2, min_samples_split=10; total time=   0.1s\n",
      "[CV] END max_depth=50, max_features=auto, min_samples_leaf=4, min_samples_split=10; total time=   0.1s\n",
      "[CV] END max_depth=None, max_features=auto, min_samples_leaf=1, min_samples_split=2; total time=   0.0s\n",
      "[CV] END max_depth=40, max_features=sqrt, min_samples_leaf=2, min_samples_split=2; total time=   0.1s\n",
      "[CV] END max_depth=10, max_features=auto, min_samples_leaf=4, min_samples_split=10; total time=   0.1s\n",
      "[CV] END max_depth=90, max_features=sqrt, min_samples_leaf=4, min_samples_split=5; total time=   0.0s\n",
      "[CV] END max_depth=70, max_features=auto, min_samples_leaf=1, min_samples_split=10; total time=   0.0s\n",
      "[CV] END max_depth=110, max_features=sqrt, min_samples_leaf=4, min_samples_split=10; total time=   0.1s\n",
      "[CV] END max_depth=60, max_features=sqrt, min_samples_leaf=2, min_samples_split=10; total time=   0.0s\n",
      "[CV] END max_depth=10, max_features=sqrt, min_samples_leaf=2, min_samples_split=10; total time=   0.0s\n",
      "[CV] END max_depth=110, max_features=auto, min_samples_leaf=1, min_samples_split=2; total time=   0.0s\n",
      "[CV] END max_depth=70, max_features=auto, min_samples_leaf=2, min_samples_split=2; total time=   0.1s\n",
      "[CV] END bootstrap=False, max_depth=20, max_features=auto, min_samples_leaf=2, min_samples_split=2, n_estimators=600; total time=  33.3s\n",
      "[CV] END bootstrap=False, max_depth=10, max_features=auto, min_samples_leaf=4, min_samples_split=5, n_estimators=600; total time=  31.7s\n",
      "[CV] END bootstrap=True, max_depth=50, max_features=auto, min_samples_leaf=4, min_samples_split=10, n_estimators=2000; total time= 2.3min\n",
      "[CV] END bootstrap=True, max_depth=20, max_features=sqrt, min_samples_leaf=2, min_samples_split=2, n_estimators=600; total time=  42.6s\n",
      "[CV] END bootstrap=False, max_depth=50, max_features=sqrt, min_samples_leaf=2, min_samples_split=2, n_estimators=800; total time=  40.8s\n",
      "[CV] END bootstrap=False, max_depth=40, max_features=sqrt, min_samples_leaf=2, min_samples_split=10, n_estimators=1600; total time= 1.5min\n",
      "[CV] END bootstrap=False, max_depth=80, max_features=sqrt, min_samples_leaf=2, min_samples_split=10, n_estimators=1200; total time=  58.5s\n",
      "[CV] END bootstrap=True, max_depth=100, max_features=sqrt, min_samples_leaf=4, min_samples_split=5, n_estimators=2000; total time= 2.4min\n",
      "[CV] END bootstrap=False, max_depth=10, max_features=sqrt, min_samples_leaf=1, min_samples_split=10, n_estimators=1600; total time= 1.4min\n",
      "[CV] END bootstrap=False, max_depth=100, max_features=sqrt, min_samples_leaf=2, min_samples_split=2, n_estimators=2000; total time= 1.8min\n",
      "[CV] END bootstrap=False, max_depth=100, max_features=sqrt, min_samples_leaf=1, min_samples_split=2, n_estimators=1600; total time= 1.4min\n",
      "[CV] END bootstrap=True, max_depth=30, max_features=auto, min_samples_leaf=2, min_samples_split=10, n_estimators=200; total time=  13.0s\n",
      "[CV] END bootstrap=True, max_depth=30, max_features=sqrt, min_samples_leaf=4, min_samples_split=10, n_estimators=400; total time=  24.4s\n",
      "[CV] END bootstrap=True, max_depth=None, max_features=sqrt, min_samples_leaf=1, min_samples_split=2, n_estimators=400; total time=  24.2s\n",
      "[CV] END bootstrap=False, max_depth=50, max_features=auto, min_samples_leaf=4, min_samples_split=10, n_estimators=600; total time=  35.3s\n",
      "[CV] END bootstrap=True, max_depth=100, max_features=auto, min_samples_leaf=4, min_samples_split=5, n_estimators=1600; total time= 1.9min\n",
      "[CV] END bootstrap=True, max_depth=20, max_features=auto, min_samples_leaf=2, min_samples_split=5, n_estimators=200; total time=  15.1s\n",
      "[CV] END bootstrap=False, max_depth=60, max_features=auto, min_samples_leaf=1, min_samples_split=5, n_estimators=1600; total time= 1.4min\n",
      "[CV] END ................learning_rate=0.1, n_estimators=200; total time=  17.6s\n",
      "[CV] END ...............learning_rate=0.0, n_estimators=1600; total time=   0.0s\n",
      "[CV] END ...............learning_rate=0.0, n_estimators=1600; total time=   0.0s\n",
      "[CV] END ...............learning_rate=0.0, n_estimators=1600; total time=   0.0s\n",
      "[CV] END ...............learning_rate=0.1, n_estimators=1400; total time= 1.9min\n",
      "[CV] END .learning_rate=0.6000000000000001, n_estimators=200; total time=  14.6s\n",
      "[CV] END ................learning_rate=0.1, n_estimators=800; total time= 1.0min\n",
      "[CV] END ...............learning_rate=0.5, n_estimators=1000; total time= 1.2min\n",
      "[CV] END learning_rate=0.30000000000000004, n_estimators=800; total time= 1.0min\n",
      "[CV] END ................learning_rate=0.8, n_estimators=600; total time=  44.9s\n",
      "[CV] END ...............learning_rate=0.8, n_estimators=1000; total time= 1.3min\n",
      "[CV] END .learning_rate=0.6000000000000001, n_estimators=400; total time=  28.9s\n",
      "[CV] END .learning_rate=0.6000000000000001, n_estimators=800; total time= 1.1min\n",
      "[CV] END ................learning_rate=0.4, n_estimators=600; total time=  45.3s\n",
      "[CV] END ...............learning_rate=0.0, n_estimators=1200; total time=   0.0s\n",
      "[CV] END ...............learning_rate=0.0, n_estimators=1200; total time=   0.0s\n",
      "[CV] END ...............learning_rate=0.0, n_estimators=1200; total time=   0.0s\n",
      "[CV] END ................learning_rate=0.5, n_estimators=800; total time= 1.0min\n",
      "[CV] END ...............learning_rate=0.5, n_estimators=1400; total time= 1.8min\n",
      "[CV] END ................learning_rate=0.2, n_estimators=800; total time= 1.0min\n",
      "[CV] END ................learning_rate=1.0, n_estimators=600; total time=  50.7s\n",
      "[CV] END ...............learning_rate=0.1, n_estimators=1000; total time= 1.4min\n",
      "[CV] END ...............learning_rate=1.0, n_estimators=1600; total time= 2.1min\n",
      "[CV] END ................learning_rate=0.2, n_estimators=200; total time=  18.3s\n",
      "[CV] END .learning_rate=0.7000000000000001, n_estimators=600; total time=  50.1s\n",
      "[CV] END learning_rate=0.30000000000000004, n_estimators=1600; total time= 2.0min\n",
      "[CV] END learning_rate=0.6000000000000001, n_estimators=1200; total time= 1.5min\n",
      "[CV] END ...............learning_rate=0.9, n_estimators=1600; total time= 1.4min\n",
      "[CV] END max_depth=90, max_features=auto, min_samples_leaf=4, min_samples_split=10; total time=   0.1s\n",
      "[CV] END max_depth=40, max_features=sqrt, min_samples_leaf=4, min_samples_split=10; total time=   0.1s\n",
      "[CV] END max_depth=60, max_features=auto, min_samples_leaf=4, min_samples_split=5; total time=   0.1s\n",
      "[CV] END max_depth=60, max_features=auto, min_samples_leaf=1, min_samples_split=2; total time=   0.1s\n",
      "[CV] END max_depth=10, max_features=sqrt, min_samples_leaf=4, min_samples_split=5; total time=   0.1s\n",
      "[CV] END max_depth=30, max_features=sqrt, min_samples_leaf=1, min_samples_split=2; total time=   0.1s\n",
      "[CV] END max_depth=30, max_features=auto, min_samples_leaf=4, min_samples_split=10; total time=   0.1s\n",
      "[CV] END max_depth=90, max_features=sqrt, min_samples_leaf=2, min_samples_split=2; total time=   0.0s\n",
      "[CV] END max_depth=10, max_features=sqrt, min_samples_leaf=2, min_samples_split=5; total time=   0.0s\n",
      "[CV] END max_depth=40, max_features=auto, min_samples_leaf=4, min_samples_split=2; total time=   0.1s\n",
      "[CV] END max_depth=90, max_features=sqrt, min_samples_leaf=2, min_samples_split=10; total time=   0.1s\n",
      "[CV] END max_depth=80, max_features=sqrt, min_samples_leaf=4, min_samples_split=10; total time=   0.1s\n",
      "[CV] END max_depth=110, max_features=sqrt, min_samples_leaf=1, min_samples_split=2; total time=   0.0s\n",
      "[CV] END max_depth=90, max_features=auto, min_samples_leaf=4, min_samples_split=2; total time=   0.0s\n",
      "[CV] END max_depth=70, max_features=sqrt, min_samples_leaf=4, min_samples_split=10; total time=   0.0s\n",
      "[CV] END max_depth=20, max_features=auto, min_samples_leaf=1, min_samples_split=10; total time=   0.0s\n",
      "[CV] END max_depth=70, max_features=sqrt, min_samples_leaf=4, min_samples_split=5; total time=   0.1s\n",
      "[CV] END bootstrap=False, max_depth=20, max_features=auto, min_samples_leaf=2, min_samples_split=2, n_estimators=600; total time=  31.2s\n",
      "[CV] END bootstrap=False, max_depth=10, max_features=auto, min_samples_leaf=4, min_samples_split=5, n_estimators=600; total time=  33.3s\n",
      "[CV] END bootstrap=False, max_depth=100, max_features=auto, min_samples_leaf=1, min_samples_split=10, n_estimators=1800; total time= 1.5min\n",
      "[CV] END bootstrap=False, max_depth=10, max_features=auto, min_samples_leaf=4, min_samples_split=5, n_estimators=2000; total time= 1.8min\n",
      "[CV] END bootstrap=False, max_depth=40, max_features=auto, min_samples_leaf=1, min_samples_split=5, n_estimators=1000; total time=  55.1s\n",
      "[CV] END bootstrap=False, max_depth=30, max_features=sqrt, min_samples_leaf=2, min_samples_split=10, n_estimators=1600; total time= 1.4min\n",
      "[CV] END bootstrap=True, max_depth=100, max_features=sqrt, min_samples_leaf=4, min_samples_split=5, n_estimators=2000; total time= 2.2min\n",
      "[CV] END bootstrap=False, max_depth=30, max_features=sqrt, min_samples_leaf=1, min_samples_split=5, n_estimators=800; total time=  44.6s\n",
      "[CV] END bootstrap=True, max_depth=40, max_features=sqrt, min_samples_leaf=2, min_samples_split=5, n_estimators=1800; total time= 2.1min\n",
      "[CV] END bootstrap=True, max_depth=10, max_features=auto, min_samples_leaf=4, min_samples_split=5, n_estimators=600; total time=  43.0s\n",
      "[CV] END bootstrap=False, max_depth=70, max_features=auto, min_samples_leaf=1, min_samples_split=2, n_estimators=400; total time=  22.0s\n",
      "[CV] END bootstrap=False, max_depth=50, max_features=auto, min_samples_leaf=1, min_samples_split=5, n_estimators=1800; total time= 1.6min\n",
      "[CV] END bootstrap=True, max_depth=30, max_features=sqrt, min_samples_leaf=4, min_samples_split=10, n_estimators=400; total time=  28.1s\n",
      "[CV] END bootstrap=True, max_depth=None, max_features=sqrt, min_samples_leaf=1, min_samples_split=2, n_estimators=400; total time=  30.7s\n",
      "[CV] END bootstrap=False, max_depth=60, max_features=auto, min_samples_leaf=4, min_samples_split=5, n_estimators=400; total time=  25.1s\n",
      "[CV] END bootstrap=False, max_depth=50, max_features=auto, min_samples_leaf=1, min_samples_split=10, n_estimators=1600; total time= 1.4min\n",
      "[CV] END bootstrap=True, max_depth=10, max_features=auto, min_samples_leaf=2, min_samples_split=5, n_estimators=600; total time=  35.4s\n",
      "[CV] END bootstrap=True, max_depth=20, max_features=auto, min_samples_leaf=2, min_samples_split=5, n_estimators=200; total time=  13.8s\n",
      "[CV] END bootstrap=False, max_depth=60, max_features=auto, min_samples_leaf=1, min_samples_split=5, n_estimators=1600; total time= 1.3min\n",
      "[CV] END learning_rate=0.7000000000000001, n_estimators=1200; total time= 1.6min\n",
      "[CV] END ................learning_rate=0.2, n_estimators=600; total time=  47.5s\n",
      "[CV] END ................learning_rate=0.5, n_estimators=600; total time=  45.2s\n",
      "[CV] END .learning_rate=0.7000000000000001, n_estimators=800; total time= 1.0min\n",
      "[CV] END ...............learning_rate=0.9, n_estimators=1000; total time= 1.3min\n",
      "[CV] END ...............learning_rate=0.0, n_estimators=1400; total time=   0.1s\n",
      "[CV] END learning_rate=0.7000000000000001, n_estimators=1800; total time= 2.5min\n",
      "[CV] END ................learning_rate=0.5, n_estimators=400; total time=  32.4s\n",
      "[CV] END .learning_rate=0.7000000000000001, n_estimators=400; total time=  33.0s\n",
      "[CV] END ................learning_rate=0.0, n_estimators=400; total time=   0.0s\n",
      "[CV] END ................learning_rate=0.0, n_estimators=400; total time=   0.1s\n",
      "[CV] END ................learning_rate=0.0, n_estimators=400; total time=   0.1s\n",
      "[CV] END ...............learning_rate=0.8, n_estimators=2000; total time= 2.6min\n",
      "[CV] END ...............learning_rate=0.2, n_estimators=1800; total time= 2.4min\n",
      "[CV] END ................learning_rate=0.9, n_estimators=800; total time= 1.0min\n",
      "[CV] END ...............learning_rate=0.1, n_estimators=1000; total time= 1.4min\n",
      "[CV] END learning_rate=0.7000000000000001, n_estimators=2000; total time= 2.6min\n",
      "[CV] END ...............learning_rate=0.2, n_estimators=1200; total time= 1.6min\n",
      "[CV] END ...............learning_rate=0.4, n_estimators=1400; total time= 1.8min\n",
      "[CV] END ................learning_rate=0.1, n_estimators=600; total time=  46.7s\n",
      "[CV] END ...............learning_rate=0.8, n_estimators=1800; total time= 1.4min\n",
      "[CV] END max_depth=30, max_features=auto, min_samples_leaf=1, min_samples_split=5; total time=   0.2s\n",
      "[CV] END max_depth=90, max_features=sqrt, min_samples_leaf=4, min_samples_split=10; total time=   0.2s\n",
      "[CV] END max_depth=70, max_features=sqrt, min_samples_leaf=1, min_samples_split=5; total time=   0.3s\n",
      "[CV] END max_depth=50, max_features=auto, min_samples_leaf=1, min_samples_split=10; total time=   0.1s\n",
      "[CV] END max_depth=None, max_features=auto, min_samples_leaf=4, min_samples_split=2; total time=   0.1s\n",
      "[CV] END max_depth=10, max_features=sqrt, min_samples_leaf=2, min_samples_split=2; total time=   0.2s\n",
      "[CV] END max_depth=60, max_features=sqrt, min_samples_leaf=1, min_samples_split=10; total time=   0.2s\n",
      "[CV] END max_depth=110, max_features=auto, min_samples_leaf=4, min_samples_split=10; total time=   0.1s\n",
      "[CV] END max_depth=100, max_features=sqrt, min_samples_leaf=2, min_samples_split=10; total time=   0.1s\n",
      "[CV] END max_depth=40, max_features=sqrt, min_samples_leaf=4, min_samples_split=10; total time=   0.1s\n",
      "[CV] END max_depth=60, max_features=auto, min_samples_leaf=4, min_samples_split=5; total time=   0.1s\n",
      "[CV] END max_depth=60, max_features=auto, min_samples_leaf=1, min_samples_split=2; total time=   0.0s\n",
      "[CV] END max_depth=70, max_features=sqrt, min_samples_leaf=2, min_samples_split=10; total time=   0.0s\n",
      "[CV] END max_depth=50, max_features=auto, min_samples_leaf=4, min_samples_split=10; total time=   0.1s\n",
      "[CV] END max_depth=30, max_features=auto, min_samples_leaf=4, min_samples_split=10; total time=   0.0s\n",
      "[CV] END max_depth=80, max_features=sqrt, min_samples_leaf=2, min_samples_split=5; total time=   0.0s\n",
      "[CV] END max_depth=30, max_features=auto, min_samples_leaf=2, min_samples_split=5; total time=   0.0s\n",
      "[CV] END max_depth=20, max_features=sqrt, min_samples_leaf=2, min_samples_split=2; total time=   0.1s\n",
      "[CV] END max_depth=20, max_features=auto, min_samples_leaf=1, min_samples_split=5; total time=   0.1s\n",
      "[CV] END max_depth=80, max_features=sqrt, min_samples_leaf=4, min_samples_split=10; total time=   0.0s\n",
      "[CV] END max_depth=90, max_features=sqrt, min_samples_leaf=1, min_samples_split=2; total time=   0.0s\n",
      "[CV] END max_depth=90, max_features=sqrt, min_samples_leaf=1, min_samples_split=10; total time=   0.0s\n",
      "[CV] END bootstrap=True, max_depth=40, max_features=sqrt, min_samples_leaf=1, min_samples_split=10, n_estimators=400; total time=  27.1s\n",
      "[CV] END bootstrap=True, max_depth=80, max_features=sqrt, min_samples_leaf=2, min_samples_split=2, n_estimators=200; total time=  16.1s\n",
      "[CV] END bootstrap=False, max_depth=70, max_features=sqrt, min_samples_leaf=4, min_samples_split=2, n_estimators=600; total time=  35.3s\n",
      "[CV] END bootstrap=True, max_depth=50, max_features=auto, min_samples_leaf=4, min_samples_split=10, n_estimators=2000; total time= 2.3min\n",
      "[CV] END bootstrap=False, max_depth=110, max_features=auto, min_samples_leaf=2, min_samples_split=10, n_estimators=800; total time=  44.1s\n",
      "[CV] END bootstrap=True, max_depth=110, max_features=auto, min_samples_leaf=4, min_samples_split=10, n_estimators=1800; total time= 2.0min\n",
      "[CV] END bootstrap=True, max_depth=70, max_features=auto, min_samples_leaf=2, min_samples_split=2, n_estimators=1000; total time= 1.1min\n",
      "[CV] END bootstrap=True, max_depth=100, max_features=auto, min_samples_leaf=1, min_samples_split=2, n_estimators=400; total time=  29.1s\n",
      "[CV] END bootstrap=True, max_depth=20, max_features=auto, min_samples_leaf=2, min_samples_split=2, n_estimators=1000; total time=  58.5s\n",
      "[CV] END bootstrap=False, max_depth=30, max_features=auto, min_samples_leaf=4, min_samples_split=10, n_estimators=400; total time=  21.0s\n",
      "[CV] END bootstrap=True, max_depth=None, max_features=sqrt, min_samples_leaf=1, min_samples_split=10, n_estimators=1200; total time= 1.3min\n",
      "[CV] END bootstrap=True, max_depth=110, max_features=auto, min_samples_leaf=1, min_samples_split=5, n_estimators=1800; total time= 2.0min\n",
      "[CV] END bootstrap=True, max_depth=50, max_features=sqrt, min_samples_leaf=4, min_samples_split=5, n_estimators=800; total time=  58.5s\n",
      "[CV] END bootstrap=True, max_depth=None, max_features=sqrt, min_samples_leaf=2, min_samples_split=5, n_estimators=1600; total time= 1.9min\n",
      "[CV] END bootstrap=True, max_depth=60, max_features=sqrt, min_samples_leaf=1, min_samples_split=5, n_estimators=400; total time=  27.5s\n",
      "[CV] END bootstrap=True, max_depth=40, max_features=sqrt, min_samples_leaf=1, min_samples_split=2, n_estimators=1400; total time= 1.6min\n",
      "[CV] END bootstrap=True, max_depth=110, max_features=auto, min_samples_leaf=1, min_samples_split=10, n_estimators=1000; total time= 1.1min\n",
      "[CV] END bootstrap=True, max_depth=70, max_features=sqrt, min_samples_leaf=4, min_samples_split=5, n_estimators=1400; total time=  54.6s\n",
      "[CV] END ................learning_rate=0.0, n_estimators=600; total time=   0.0s\n",
      "[CV] END ...............learning_rate=1.0, n_estimators=2000; total time= 2.6min\n",
      "[CV] END ................learning_rate=0.1, n_estimators=800; total time= 1.0min\n",
      "[CV] END ...............learning_rate=0.5, n_estimators=1000; total time= 1.2min\n",
      "[CV] END ................learning_rate=0.0, n_estimators=800; total time=   0.0s\n",
      "[CV] END ................learning_rate=0.0, n_estimators=800; total time=   0.2s\n",
      "[CV] END ................learning_rate=0.0, n_estimators=800; total time=   0.0s\n",
      "[CV] END learning_rate=0.6000000000000001, n_estimators=1400; total time= 1.9min\n",
      "[CV] END ...............learning_rate=0.5, n_estimators=2000; total time= 2.7min\n",
      "[CV] END ................learning_rate=0.4, n_estimators=400; total time=  30.2s\n",
      "[CV] END ................learning_rate=0.4, n_estimators=200; total time=  15.9s\n",
      "[CV] END ................learning_rate=0.5, n_estimators=800; total time= 1.1min\n",
      "[CV] END learning_rate=0.30000000000000004, n_estimators=1000; total time= 1.3min\n",
      "[CV] END .learning_rate=0.6000000000000001, n_estimators=600; total time=  46.0s\n",
      "[CV] END learning_rate=0.30000000000000004, n_estimators=400; total time=  30.1s\n",
      "[CV] END ................learning_rate=1.0, n_estimators=600; total time=  49.1s\n",
      "[CV] END ................learning_rate=0.9, n_estimators=600; total time=  50.7s\n",
      "[CV] END ...............learning_rate=0.2, n_estimators=2000; total time= 2.5min\n",
      "[CV] END learning_rate=0.6000000000000001, n_estimators=2000; total time= 2.7min\n",
      "[CV] END ...............learning_rate=0.9, n_estimators=2000; total time= 2.6min\n",
      "[CV] END ...............learning_rate=0.8, n_estimators=1600; total time= 1.2min\n",
      "[CV] END max_depth=50, max_features=sqrt, min_samples_leaf=4, min_samples_split=10; total time=   0.2s\n",
      "[CV] END max_depth=80, max_features=sqrt, min_samples_leaf=1, min_samples_split=2; total time=   0.2s\n",
      "[CV] END max_depth=110, max_features=auto, min_samples_leaf=4, min_samples_split=10; total time=   0.2s\n",
      "[CV] END max_depth=110, max_features=sqrt, min_samples_leaf=1, min_samples_split=10; total time=   0.1s\n",
      "[CV] END max_depth=100, max_features=sqrt, min_samples_leaf=2, min_samples_split=10; total time=   0.2s\n",
      "[CV] END max_depth=10, max_features=auto, min_samples_leaf=4, min_samples_split=5; total time=   0.1s\n",
      "[CV] END max_depth=80, max_features=sqrt, min_samples_leaf=1, min_samples_split=10; total time=   0.1s\n",
      "[CV] END max_depth=60, max_features=auto, min_samples_leaf=1, min_samples_split=2; total time=   0.0s\n",
      "[CV] END max_depth=60, max_features=sqrt, min_samples_leaf=4, min_samples_split=10; total time=   0.1s\n",
      "[CV] END max_depth=50, max_features=auto, min_samples_leaf=2, min_samples_split=5; total time=   0.0s\n",
      "[CV] END max_depth=80, max_features=sqrt, min_samples_leaf=2, min_samples_split=5; total time=   0.1s\n",
      "[CV] END max_depth=30, max_features=auto, min_samples_leaf=2, min_samples_split=5; total time=   0.0s\n",
      "[CV] END max_depth=20, max_features=sqrt, min_samples_leaf=2, min_samples_split=2; total time=   0.0s\n",
      "[CV] END max_depth=100, max_features=auto, min_samples_leaf=1, min_samples_split=2; total time=   0.2s\n",
      "[CV] END max_depth=90, max_features=auto, min_samples_leaf=4, min_samples_split=2; total time=   0.0s\n",
      "[CV] END max_depth=80, max_features=auto, min_samples_leaf=2, min_samples_split=5; total time=   0.0s\n",
      "[CV] END max_depth=None, max_features=sqrt, min_samples_leaf=2, min_samples_split=5; total time=   0.1s\n",
      "[CV] END bootstrap=True, max_depth=40, max_features=sqrt, min_samples_leaf=1, min_samples_split=10, n_estimators=400; total time=  27.9s\n",
      "[CV] END bootstrap=True, max_depth=80, max_features=sqrt, min_samples_leaf=2, min_samples_split=2, n_estimators=200; total time=  16.5s\n",
      "[CV] END bootstrap=False, max_depth=70, max_features=sqrt, min_samples_leaf=4, min_samples_split=2, n_estimators=600; total time=  34.5s\n",
      "[CV] END bootstrap=True, max_depth=None, max_features=sqrt, min_samples_leaf=1, min_samples_split=2, n_estimators=1800; total time= 2.0min\n",
      "[CV] END bootstrap=True, max_depth=None, max_features=sqrt, min_samples_leaf=2, min_samples_split=5, n_estimators=600; total time=  39.0s\n",
      "[CV] END bootstrap=False, max_depth=30, max_features=auto, min_samples_leaf=2, min_samples_split=5, n_estimators=1200; total time= 1.1min\n",
      "[CV] END bootstrap=False, max_depth=30, max_features=sqrt, min_samples_leaf=2, min_samples_split=10, n_estimators=1600; total time= 1.6min\n",
      "[CV] END bootstrap=False, max_depth=100, max_features=auto, min_samples_leaf=2, min_samples_split=2, n_estimators=1400; total time= 1.2min\n",
      "[CV] END bootstrap=True, max_depth=None, max_features=sqrt, min_samples_leaf=2, min_samples_split=5, n_estimators=1200; total time= 1.3min\n",
      "[CV] END bootstrap=True, max_depth=None, max_features=sqrt, min_samples_leaf=1, min_samples_split=10, n_estimators=1200; total time= 1.3min\n",
      "[CV] END bootstrap=True, max_depth=110, max_features=auto, min_samples_leaf=1, min_samples_split=5, n_estimators=1800; total time= 2.0min\n",
      "[CV] END bootstrap=True, max_depth=50, max_features=sqrt, min_samples_leaf=4, min_samples_split=5, n_estimators=800; total time=  55.2s\n",
      "[CV] END bootstrap=False, max_depth=None, max_features=sqrt, min_samples_leaf=2, min_samples_split=5, n_estimators=1800; total time= 1.8min\n",
      "[CV] END bootstrap=True, max_depth=100, max_features=auto, min_samples_leaf=1, min_samples_split=5, n_estimators=600; total time=  43.8s\n",
      "[CV] END bootstrap=True, max_depth=40, max_features=sqrt, min_samples_leaf=1, min_samples_split=2, n_estimators=1400; total time= 1.6min\n",
      "[CV] END bootstrap=True, max_depth=110, max_features=auto, min_samples_leaf=1, min_samples_split=10, n_estimators=1000; total time= 1.2min\n",
      "[CV] END bootstrap=False, max_depth=90, max_features=auto, min_samples_leaf=4, min_samples_split=2, n_estimators=1800; total time=  48.6s\n",
      "[CV] END ...............learning_rate=0.2, n_estimators=1000; total time= 1.3min\n",
      "[CV] END learning_rate=0.6000000000000001, n_estimators=1800; total time= 2.5min\n",
      "[CV] END ...............learning_rate=1.0, n_estimators=1200; total time= 1.6min\n",
      "[CV] END learning_rate=0.30000000000000004, n_estimators=200; total time=  18.5s\n",
      "[CV] END ................learning_rate=0.9, n_estimators=200; total time=  16.1s\n",
      "[CV] END ...............learning_rate=0.9, n_estimators=1200; total time= 1.6min\n",
      "[CV] END ...............learning_rate=0.1, n_estimators=1800; total time= 2.2min\n",
      "[CV] END ...............learning_rate=0.1, n_estimators=1200; total time= 1.7min\n",
      "[CV] END ...............learning_rate=0.2, n_estimators=1800; total time= 2.4min\n",
      "[CV] END ...............learning_rate=0.5, n_estimators=1600; total time= 2.0min\n",
      "[CV] END ...............learning_rate=1.0, n_estimators=1600; total time= 2.1min\n",
      "[CV] END learning_rate=0.6000000000000001, n_estimators=2000; total time= 2.8min\n",
      "[CV] END ...............learning_rate=0.9, n_estimators=2000; total time= 2.7min\n",
      "[CV] END ...............learning_rate=0.8, n_estimators=1600; total time= 1.1min\n",
      "[CV] END max_depth=90, max_features=auto, min_samples_leaf=4, min_samples_split=10; total time=   0.1s\n",
      "[CV] END max_depth=80, max_features=sqrt, min_samples_leaf=1, min_samples_split=10; total time=   0.1s\n",
      "[CV] END max_depth=None, max_features=auto, min_samples_leaf=1, min_samples_split=10; total time=   0.1s\n",
      "[CV] END max_depth=80, max_features=sqrt, min_samples_leaf=1, min_samples_split=5; total time=   0.0s\n",
      "[CV] END max_depth=50, max_features=auto, min_samples_leaf=2, min_samples_split=5; total time=   0.1s\n",
      "[CV] END max_depth=30, max_features=sqrt, min_samples_leaf=4, min_samples_split=5; total time=   0.1s\n",
      "[CV] END max_depth=70, max_features=auto, min_samples_leaf=2, min_samples_split=5; total time=   0.0s\n",
      "[CV] END max_depth=90, max_features=sqrt, min_samples_leaf=4, min_samples_split=5; total time=   0.0s\n",
      "[CV] END max_depth=60, max_features=auto, min_samples_leaf=1, min_samples_split=10; total time=   0.1s\n",
      "[CV] END max_depth=30, max_features=sqrt, min_samples_leaf=4, min_samples_split=2; total time=   0.0s\n",
      "[CV] END max_depth=10, max_features=sqrt, min_samples_leaf=2, min_samples_split=10; total time=   0.1s\n",
      "[CV] END max_depth=110, max_features=auto, min_samples_leaf=1, min_samples_split=2; total time=   0.1s\n",
      "[CV] END max_depth=70, max_features=auto, min_samples_leaf=2, min_samples_split=2; total time=   0.0s\n",
      "[CV] END bootstrap=False, max_depth=20, max_features=auto, min_samples_leaf=2, min_samples_split=2, n_estimators=600; total time=  34.6s\n",
      "[CV] END bootstrap=False, max_depth=70, max_features=sqrt, min_samples_leaf=4, min_samples_split=2, n_estimators=600; total time=  33.0s\n",
      "[CV] END bootstrap=True, max_depth=50, max_features=auto, min_samples_leaf=4, min_samples_split=10, n_estimators=2000; total time= 2.3min\n",
      "[CV] END bootstrap=True, max_depth=20, max_features=sqrt, min_samples_leaf=2, min_samples_split=2, n_estimators=600; total time=  37.1s\n",
      "[CV] END bootstrap=False, max_depth=90, max_features=auto, min_samples_leaf=2, min_samples_split=5, n_estimators=200; total time=  10.6s\n",
      "[CV] END bootstrap=False, max_depth=50, max_features=sqrt, min_samples_leaf=2, min_samples_split=2, n_estimators=800; total time=  40.4s\n",
      "[CV] END bootstrap=False, max_depth=40, max_features=sqrt, min_samples_leaf=2, min_samples_split=10, n_estimators=1600; total time= 1.3min\n",
      "[CV] END bootstrap=False, max_depth=110, max_features=auto, min_samples_leaf=1, min_samples_split=10, n_estimators=1400; total time= 1.2min\n",
      "[CV] END bootstrap=True, max_depth=100, max_features=auto, min_samples_leaf=1, min_samples_split=2, n_estimators=400; total time=  25.1s\n",
      "[CV] END bootstrap=True, max_depth=None, max_features=sqrt, min_samples_leaf=2, min_samples_split=5, n_estimators=1200; total time= 1.3min\n",
      "[CV] END bootstrap=False, max_depth=100, max_features=auto, min_samples_leaf=1, min_samples_split=10, n_estimators=1200; total time= 1.0min\n",
      "[CV] END bootstrap=True, max_depth=None, max_features=sqrt, min_samples_leaf=2, min_samples_split=10, n_estimators=1200; total time= 1.3min\n",
      "[CV] END bootstrap=True, max_depth=90, max_features=sqrt, min_samples_leaf=1, min_samples_split=2, n_estimators=800; total time=  50.5s\n",
      "[CV] END bootstrap=False, max_depth=10, max_features=auto, min_samples_leaf=1, min_samples_split=2, n_estimators=1000; total time=  55.0s\n",
      "[CV] END bootstrap=True, max_depth=110, max_features=auto, min_samples_leaf=1, min_samples_split=10, n_estimators=2000; total time= 2.2min\n",
      "[CV] END bootstrap=False, max_depth=90, max_features=auto, min_samples_leaf=1, min_samples_split=2, n_estimators=800; total time=  43.7s\n",
      "[CV] END bootstrap=True, max_depth=40, max_features=sqrt, min_samples_leaf=1, min_samples_split=2, n_estimators=1400; total time= 1.4min\n",
      "[CV] END bootstrap=False, max_depth=None, max_features=auto, min_samples_leaf=4, min_samples_split=2, n_estimators=1200; total time= 1.1min\n",
      "[CV] END bootstrap=True, max_depth=None, max_features=auto, min_samples_leaf=4, min_samples_split=10, n_estimators=600; total time=  35.2s\n",
      "[CV] END bootstrap=False, max_depth=90, max_features=auto, min_samples_leaf=4, min_samples_split=2, n_estimators=1800; total time=  31.0s\n",
      "[CV] END ................learning_rate=1.0, n_estimators=400; total time=  30.8s\n",
      "[CV] END ...............learning_rate=0.1, n_estimators=1400; total time= 1.8min\n",
      "[CV] END learning_rate=0.7000000000000001, n_estimators=1400; total time= 1.8min\n",
      "[CV] END ...............learning_rate=0.2, n_estimators=1400; total time= 1.6min\n",
      "[CV] END ................learning_rate=0.9, n_estimators=200; total time=  14.2s\n",
      "[CV] END ...............learning_rate=0.9, n_estimators=1200; total time= 1.6min\n",
      "[CV] END ...............learning_rate=0.1, n_estimators=1800; total time= 2.3min\n",
      "[CV] END ...............learning_rate=0.1, n_estimators=1600; total time= 2.1min\n",
      "[CV] END ...............learning_rate=0.5, n_estimators=1200; total time= 1.6min\n",
      "[CV] END ...............learning_rate=0.5, n_estimators=1600; total time= 2.1min\n",
      "[CV] END ...............learning_rate=0.2, n_estimators=2000; total time= 2.4min\n",
      "[CV] END learning_rate=0.6000000000000001, n_estimators=2000; total time= 2.6min\n",
      "[CV] END ...............learning_rate=0.4, n_estimators=1400; total time= 1.8min\n",
      "[CV] END ................learning_rate=0.1, n_estimators=600; total time=  55.0s\n",
      "[CV] END ...............learning_rate=0.8, n_estimators=1800; total time= 1.3min\n",
      "[CV] END max_depth=None, max_features=auto, min_samples_leaf=1, min_samples_split=5; total time=   0.3s\n",
      "[CV] END max_depth=50, max_features=auto, min_samples_leaf=2, min_samples_split=2; total time=   0.2s\n",
      "[CV] END max_depth=50, max_features=auto, min_samples_leaf=2, min_samples_split=2; total time=   0.4s\n",
      "[CV] END max_depth=60, max_features=auto, min_samples_leaf=4, min_samples_split=2; total time=   0.1s\n",
      "[CV] END max_depth=60, max_features=auto, min_samples_leaf=4, min_samples_split=2; total time=   0.1s\n",
      "[CV] END max_depth=60, max_features=auto, min_samples_leaf=4, min_samples_split=2; total time=   0.1s\n",
      "[CV] END max_depth=80, max_features=sqrt, min_samples_leaf=2, min_samples_split=2; total time=   0.4s\n",
      "[CV] END max_depth=80, max_features=sqrt, min_samples_leaf=2, min_samples_split=2; total time=   1.6s\n",
      "[CV] END max_depth=10, max_features=auto, min_samples_leaf=2, min_samples_split=10; total time=   0.2s\n",
      "[CV] END max_depth=50, max_features=sqrt, min_samples_leaf=1, min_samples_split=10; total time=   0.3s\n",
      "[CV] END max_depth=40, max_features=auto, min_samples_leaf=1, min_samples_split=5; total time=   0.3s\n",
      "[CV] END max_depth=90, max_features=auto, min_samples_leaf=1, min_samples_split=10; total time=   0.4s\n",
      "[CV] END max_depth=90, max_features=sqrt, min_samples_leaf=4, min_samples_split=10; total time=   0.5s\n",
      "[CV] END max_depth=None, max_features=auto, min_samples_leaf=4, min_samples_split=2; total time=   0.2s\n",
      "[CV] END max_depth=90, max_features=sqrt, min_samples_leaf=1, min_samples_split=5; total time=   0.1s\n",
      "[CV] END max_depth=90, max_features=auto, min_samples_leaf=1, min_samples_split=2; total time=   0.1s\n",
      "[CV] END max_depth=80, max_features=auto, min_samples_leaf=2, min_samples_split=2; total time=   0.1s\n",
      "[CV] END max_depth=10, max_features=sqrt, min_samples_leaf=4, min_samples_split=2; total time=   0.0s\n",
      "[CV] END max_depth=10, max_features=auto, min_samples_leaf=4, min_samples_split=5; total time=   0.1s\n",
      "[CV] END max_depth=80, max_features=sqrt, min_samples_leaf=1, min_samples_split=10; total time=   0.1s\n",
      "[CV] END max_depth=None, max_features=auto, min_samples_leaf=1, min_samples_split=10; total time=   0.1s\n",
      "[CV] END max_depth=80, max_features=sqrt, min_samples_leaf=1, min_samples_split=5; total time=   0.1s\n",
      "[CV] END max_depth=30, max_features=sqrt, min_samples_leaf=1, min_samples_split=2; total time=   0.0s\n",
      "[CV] END max_depth=30, max_features=auto, min_samples_leaf=4, min_samples_split=10; total time=   0.1s\n",
      "[CV] END max_depth=90, max_features=sqrt, min_samples_leaf=2, min_samples_split=2; total time=   0.0s\n",
      "[CV] END max_depth=10, max_features=sqrt, min_samples_leaf=2, min_samples_split=5; total time=   0.0s\n",
      "[CV] END max_depth=40, max_features=auto, min_samples_leaf=4, min_samples_split=2; total time=   0.1s\n",
      "[CV] END max_depth=100, max_features=auto, min_samples_leaf=1, min_samples_split=2; total time=   0.1s\n",
      "[CV] END max_depth=110, max_features=sqrt, min_samples_leaf=1, min_samples_split=2; total time=   0.0s\n",
      "[CV] END max_depth=90, max_features=auto, min_samples_leaf=4, min_samples_split=2; total time=   0.1s\n",
      "[CV] END max_depth=20, max_features=auto, min_samples_leaf=1, min_samples_split=10; total time=   0.0s\n",
      "[CV] END max_depth=30, max_features=sqrt, min_samples_leaf=1, min_samples_split=5; total time=   0.0s\n",
      "[CV] END max_depth=40, max_features=auto, min_samples_leaf=4, min_samples_split=10; total time=   0.1s\n",
      "[CV] END bootstrap=False, max_depth=20, max_features=sqrt, min_samples_leaf=2, min_samples_split=5, n_estimators=200; total time=  10.0s\n",
      "[CV] END bootstrap=False, max_depth=20, max_features=sqrt, min_samples_leaf=4, min_samples_split=5, n_estimators=400; total time=  20.7s\n",
      "[CV] END bootstrap=False, max_depth=10, max_features=auto, min_samples_leaf=4, min_samples_split=5, n_estimators=600; total time=  30.4s\n",
      "[CV] END bootstrap=False, max_depth=100, max_features=auto, min_samples_leaf=1, min_samples_split=10, n_estimators=1800; total time= 1.8min\n",
      "[CV] END bootstrap=False, max_depth=10, max_features=auto, min_samples_leaf=4, min_samples_split=5, n_estimators=2000; total time= 1.8min\n",
      "[CV] END bootstrap=False, max_depth=60, max_features=sqrt, min_samples_leaf=2, min_samples_split=10, n_estimators=800; total time=  46.2s\n",
      "[CV] END bootstrap=False, max_depth=30, max_features=auto, min_samples_leaf=4, min_samples_split=5, n_estimators=1000; total time=  51.2s\n",
      "[CV] END bootstrap=False, max_depth=80, max_features=sqrt, min_samples_leaf=2, min_samples_split=10, n_estimators=1200; total time= 1.0min\n",
      "[CV] END bootstrap=True, max_depth=40, max_features=sqrt, min_samples_leaf=4, min_samples_split=10, n_estimators=1400; total time= 1.6min\n",
      "[CV] END bootstrap=False, max_depth=30, max_features=sqrt, min_samples_leaf=1, min_samples_split=5, n_estimators=800; total time=  40.0s\n",
      "[CV] END bootstrap=True, max_depth=40, max_features=sqrt, min_samples_leaf=2, min_samples_split=5, n_estimators=1800; total time= 2.1min\n",
      "[CV] END bootstrap=False, max_depth=None, max_features=auto, min_samples_leaf=4, min_samples_split=2, n_estimators=200; total time=  10.3s\n",
      "[CV] END bootstrap=False, max_depth=50, max_features=sqrt, min_samples_leaf=4, min_samples_split=2, n_estimators=600; total time=  29.8s\n",
      "[CV] END bootstrap=True, max_depth=80, max_features=auto, min_samples_leaf=4, min_samples_split=5, n_estimators=1000; total time= 1.2min\n",
      "[CV] END bootstrap=False, max_depth=None, max_features=sqrt, min_samples_leaf=2, min_samples_split=5, n_estimators=1800; total time= 1.6min\n",
      "[CV] END bootstrap=False, max_depth=50, max_features=auto, min_samples_leaf=4, min_samples_split=10, n_estimators=600; total time=  32.6s\n",
      "[CV] END bootstrap=True, max_depth=100, max_features=auto, min_samples_leaf=4, min_samples_split=5, n_estimators=1600; total time= 1.9min\n",
      "[CV] END bootstrap=True, max_depth=100, max_features=auto, min_samples_leaf=4, min_samples_split=5, n_estimators=1800; total time= 1.9min\n",
      "[CV] END ................learning_rate=0.0, n_estimators=600; total time=   0.1s\n",
      "[CV] END ................learning_rate=1.0, n_estimators=400; total time=  31.3s\n",
      "[CV] END ................learning_rate=0.9, n_estimators=400; total time=  34.3s\n",
      "[CV] END ................learning_rate=0.9, n_estimators=400; total time=  30.3s\n",
      "[CV] END ...............learning_rate=0.4, n_estimators=1200; total time= 1.6min\n",
      "[CV] END ...............learning_rate=0.8, n_estimators=1400; total time= 2.0min\n",
      "[CV] END ...............learning_rate=0.4, n_estimators=1800; total time= 2.3min\n",
      "[CV] END ...............learning_rate=0.2, n_estimators=1600; total time= 2.1min\n",
      "[CV] END ...............learning_rate=0.1, n_estimators=1200; total time= 1.7min\n",
      "[CV] END learning_rate=0.30000000000000004, n_estimators=1000; total time= 1.3min\n",
      "[CV] END .learning_rate=0.6000000000000001, n_estimators=600; total time=  48.5s\n",
      "[CV] END ...............learning_rate=0.9, n_estimators=1800; total time= 2.3min\n",
      "[CV] END ...............learning_rate=0.4, n_estimators=2000; total time= 2.7min\n",
      "[CV] END ...............learning_rate=1.0, n_estimators=1000; total time= 1.4min\n",
      "[CV] END ................learning_rate=0.8, n_estimators=400; total time=  34.5s\n",
      "[CV] END ...............learning_rate=0.9, n_estimators=1400; total time= 1.9min\n",
      "[CV] END ................learning_rate=0.1, n_estimators=600; total time=  48.0s\n",
      "[CV] END ...............learning_rate=0.8, n_estimators=1800; total time= 1.4min\n",
      "[CV] END max_depth=None, max_features=auto, min_samples_leaf=1, min_samples_split=5; total time=   0.3s\n",
      "[CV] END max_depth=110, max_features=sqrt, min_samples_leaf=4, min_samples_split=5; total time=   0.2s\n",
      "[CV] END max_depth=20, max_features=auto, min_samples_leaf=1, min_samples_split=2; total time=   0.0s\n",
      "[CV] END max_depth=50, max_features=sqrt, min_samples_leaf=2, min_samples_split=10; total time=   0.1s\n",
      "[CV] END max_depth=40, max_features=sqrt, min_samples_leaf=1, min_samples_split=2; total time=   0.1s\n",
      "[CV] END max_depth=90, max_features=sqrt, min_samples_leaf=4, min_samples_split=2; total time=   0.0s\n",
      "[CV] END max_depth=10, max_features=sqrt, min_samples_leaf=4, min_samples_split=5; total time=   0.0s\n",
      "[CV] END max_depth=30, max_features=sqrt, min_samples_leaf=1, min_samples_split=2; total time=   0.1s\n",
      "[CV] END max_depth=None, max_features=auto, min_samples_leaf=1, min_samples_split=2; total time=   0.0s\n",
      "[CV] END max_depth=40, max_features=sqrt, min_samples_leaf=2, min_samples_split=2; total time=   0.0s\n",
      "[CV] END max_depth=40, max_features=auto, min_samples_leaf=4, min_samples_split=5; total time=   0.0s\n",
      "[CV] END max_depth=100, max_features=auto, min_samples_leaf=4, min_samples_split=10; total time=   0.0s\n",
      "[CV] END max_depth=40, max_features=auto, min_samples_leaf=4, min_samples_split=2; total time=   0.0s\n",
      "[CV] END max_depth=100, max_features=auto, min_samples_leaf=1, min_samples_split=2; total time=   0.1s\n",
      "[CV] END max_depth=80, max_features=sqrt, min_samples_leaf=4, min_samples_split=10; total time=   0.1s\n",
      "[CV] END max_depth=90, max_features=sqrt, min_samples_leaf=1, min_samples_split=2; total time=   0.0s\n",
      "[CV] END max_depth=None, max_features=sqrt, min_samples_leaf=2, min_samples_split=2; total time=   0.1s\n",
      "[CV] END max_depth=90, max_features=sqrt, min_samples_leaf=1, min_samples_split=10; total time=   0.0s\n",
      "[CV] END bootstrap=True, max_depth=90, max_features=sqrt, min_samples_leaf=1, min_samples_split=2, n_estimators=1200; total time= 1.4min\n",
      "[CV] END bootstrap=True, max_depth=None, max_features=sqrt, min_samples_leaf=1, min_samples_split=2, n_estimators=1800; total time= 2.0min\n",
      "[CV] END bootstrap=True, max_depth=None, max_features=sqrt, min_samples_leaf=2, min_samples_split=5, n_estimators=600; total time=  42.4s\n",
      "[CV] END bootstrap=False, max_depth=90, max_features=auto, min_samples_leaf=2, min_samples_split=5, n_estimators=200; total time=  11.8s\n",
      "[CV] END bootstrap=False, max_depth=50, max_features=sqrt, min_samples_leaf=2, min_samples_split=2, n_estimators=800; total time=  43.9s\n",
      "[CV] END bootstrap=True, max_depth=30, max_features=sqrt, min_samples_leaf=4, min_samples_split=5, n_estimators=1400; total time= 1.7min\n",
      "[CV] END bootstrap=True, max_depth=90, max_features=auto, min_samples_leaf=2, min_samples_split=5, n_estimators=2000; total time= 2.4min\n",
      "[CV] END bootstrap=False, max_depth=100, max_features=auto, min_samples_leaf=1, min_samples_split=10, n_estimators=1200; total time= 1.1min\n",
      "[CV] END bootstrap=True, max_depth=None, max_features=sqrt, min_samples_leaf=2, min_samples_split=10, n_estimators=1200; total time= 1.4min\n",
      "[CV] END bootstrap=False, max_depth=None, max_features=auto, min_samples_leaf=4, min_samples_split=2, n_estimators=200; total time=  11.0s\n",
      "[CV] END bootstrap=False, max_depth=None, max_features=auto, min_samples_leaf=4, min_samples_split=2, n_estimators=200; total time=   9.1s\n",
      "[CV] END bootstrap=False, max_depth=50, max_features=sqrt, min_samples_leaf=4, min_samples_split=2, n_estimators=600; total time=  34.2s\n",
      "[CV] END bootstrap=False, max_depth=70, max_features=auto, min_samples_leaf=1, min_samples_split=2, n_estimators=400; total time=  20.2s\n",
      "[CV] END bootstrap=False, max_depth=100, max_features=sqrt, min_samples_leaf=1, min_samples_split=2, n_estimators=1600; total time= 1.4min\n",
      "[CV] END bootstrap=True, max_depth=90, max_features=sqrt, min_samples_leaf=2, min_samples_split=2, n_estimators=1000; total time= 1.1min\n",
      "[CV] END bootstrap=True, max_depth=100, max_features=auto, min_samples_leaf=1, min_samples_split=5, n_estimators=600; total time=  39.7s\n",
      "[CV] END bootstrap=False, max_depth=50, max_features=auto, min_samples_leaf=1, min_samples_split=10, n_estimators=1600; total time= 1.4min\n",
      "[CV] END bootstrap=False, max_depth=None, max_features=auto, min_samples_leaf=1, min_samples_split=2, n_estimators=200; total time=  11.4s\n",
      "[CV] END bootstrap=True, max_depth=100, max_features=auto, min_samples_leaf=4, min_samples_split=5, n_estimators=1800; total time= 1.9min\n",
      "[CV] END learning_rate=0.7000000000000001, n_estimators=1200; total time= 1.6min\n",
      "[CV] END ...............learning_rate=0.4, n_estimators=1200; total time= 1.6min\n",
      "[CV] END ...............learning_rate=0.8, n_estimators=1400; total time= 1.8min\n",
      "[CV] END learning_rate=0.6000000000000001, n_estimators=1400; total time= 2.0min\n",
      "[CV] END ...............learning_rate=0.2, n_estimators=1600; total time= 2.1min\n",
      "[CV] END ...............learning_rate=0.8, n_estimators=2000; total time= 2.7min\n",
      "[CV] END ...............learning_rate=0.5, n_estimators=1200; total time= 1.5min\n",
      "[CV] END learning_rate=0.30000000000000004, n_estimators=400; total time=  33.1s\n",
      "[CV] END ................learning_rate=1.0, n_estimators=600; total time=  48.4s\n",
      "[CV] END ................learning_rate=0.9, n_estimators=600; total time=  46.5s\n",
      "[CV] END ...............learning_rate=0.1, n_estimators=2000; total time= 2.6min\n",
      "[CV] END ................learning_rate=0.8, n_estimators=200; total time=  17.1s\n",
      "[CV] END ................learning_rate=0.2, n_estimators=200; total time=  14.4s\n",
      "[CV] END .learning_rate=0.7000000000000001, n_estimators=600; total time=  54.2s\n",
      "[CV] END learning_rate=0.30000000000000004, n_estimators=1600; total time= 2.2min\n",
      "[CV] END learning_rate=0.6000000000000001, n_estimators=1200; total time= 1.6min\n",
      "[CV] END .learning_rate=0.7000000000000001, n_estimators=200; total time=  16.0s\n",
      "[CV] END ...............learning_rate=0.8, n_estimators=1600; total time= 1.0min\n"
     ]
    }
   ],
   "source": [
    "validations_adaboost_german_1 = training('adaboost', X_train_german_1, y_train_german_1_b, X_test_german_1)\n",
    "analyze_val_scores(validations_adaboost_german_1, y_test_german_1, \"Classification using AdaBoostClassifier (cluster german 1)\")"
   ]
  },
  {
   "cell_type": "code",
   "execution_count": null,
   "id": "3b806852-55b3-4e1f-bc80-cf6e3dc8f59d",
   "metadata": {},
   "outputs": [],
   "source": []
  }
 ],
 "metadata": {
  "kernelspec": {
   "display_name": "Python 3 (ipykernel)",
   "language": "python",
   "name": "python3"
  },
  "language_info": {
   "codemirror_mode": {
    "name": "ipython",
    "version": 3
   },
   "file_extension": ".py",
   "mimetype": "text/x-python",
   "name": "python",
   "nbconvert_exporter": "python",
   "pygments_lexer": "ipython3",
   "version": "3.8.10"
  }
 },
 "nbformat": 4,
 "nbformat_minor": 5
}
