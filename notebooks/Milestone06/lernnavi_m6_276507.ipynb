{
 "cells": [
  {
   "cell_type": "markdown",
   "id": "fba18a9c-99d5-4e37-ae01-34133d7b698a",
   "metadata": {},
   "source": [
    "# Milestone 6\n",
    "\n",
    "In this milestone, we implement some of the extensions mentioned in Milestone 5."
   ]
  },
  {
   "cell_type": "markdown",
   "id": "7b600922-3814-432e-ae1e-6623089c0a2b",
   "metadata": {},
   "source": [
    "## Recall of previous work\n",
    "\n",
    "Please refer to the [Milestone 4 Report](https://github.com/ML4BD/milestone-4-roguesgallery/blob/master/reports/Milestone%204%20Report.pdf) and the [Milestone 4 Notebook](https://github.com/ML4BD/milestone-4-roguesgallery/blob/master/notebooks/Milestone04/m4_lernnavi_roguesgallery.ipynb) for more details.\n",
    "\n",
    "---\n",
    "\n",
    "In Milestone 4, our objective was to predict the level check success of students with respect to their behavior on the **Lernnavi** learning platform. \n",
    "\n",
    "To this end, we **pre-processed** the data by removing students identified as inactive using criteria such as least number of actions per week. Then we selected a subset of features for each student and transformed their data into time series.<br>\n",
    "In an attempt to see if **regularity** helped categorize students into subgroups, we followed the procedure of [Shirvani Boroujeni, et al](https://infoscience.epfl.ch/record/218657/files/) to compute regularity features on online learning time series. We then clustered the students using the regularity metrics.<br>\n",
    "Finally, we trained multiple time series **classifiers** to predict wether a student would pass a level check or not. One classifier was trained per cluster and one over the whole data. We used 2 different classification techniques."
   ]
  },
  {
   "cell_type": "markdown",
   "id": "b09f7c2f-3f25-4398-842f-2306a48c9dab",
   "metadata": {},
   "source": [
    "## Implementations of this milestone"
   ]
  },
  {
   "cell_type": "markdown",
   "id": "33b88ca6-3fd4-4653-8fb3-2b999d49c960",
   "metadata": {},
   "source": [
    "For this milestone, we are planning on taking another approach to solving our research question. Indeed, in the first milestone, we demonstrated the **predictive potential of a user's behavior time series** for its **success in level checks**. For this, we clustered with respect to time-agnostic metrics and then classified the time series.\n",
    "\n",
    "Our second approach will be to cluster with respect to user time series and then classify using features derived from the markov modeling of users' behaviors.\n",
    "\n",
    "To this end, we will proceed as follows:\n",
    "\n",
    "1. Separate math and german-related actions in the data.\n",
    "\n",
    "2. Cluster the user's behaviors using time series clustering.\n",
    "\n",
    "3. Apply the markov chain modeling to the sequence of actions for each user.\n",
    "\n",
    "4. Train a logistic regression on the markov chain representation of the data.\n"
   ]
  },
  {
   "cell_type": "markdown",
   "id": "d829ad19-ce9d-4a6b-b0bb-bcfa8281b273",
   "metadata": {},
   "source": [
    "## Data Processing"
   ]
  },
  {
   "cell_type": "code",
   "execution_count": null,
   "id": "67b34a23-5448-49c4-a2a1-337b26a5e558",
   "metadata": {},
   "outputs": [],
   "source": []
  },
  {
   "cell_type": "markdown",
   "id": "022bd81f-1e99-4e1d-89ed-5c192ab66e42",
   "metadata": {},
   "source": [
    "## Model Building"
   ]
  },
  {
   "cell_type": "code",
   "execution_count": null,
   "id": "b6850ff8-acf6-495c-8031-59fdf16adf7a",
   "metadata": {},
   "outputs": [],
   "source": []
  },
  {
   "cell_type": "markdown",
   "id": "35310682-4c54-4a29-a08d-fe2029766adb",
   "metadata": {},
   "source": [
    "## Model Evaluation"
   ]
  },
  {
   "cell_type": "code",
   "execution_count": null,
   "id": "a7d97e2c-f1f0-4227-b222-13951c75d09f",
   "metadata": {},
   "outputs": [],
   "source": []
  }
 ],
 "metadata": {
  "kernelspec": {
   "display_name": "Python 3 (ipykernel)",
   "language": "python",
   "name": "python3"
  },
  "language_info": {
   "codemirror_mode": {
    "name": "ipython",
    "version": 3
   },
   "file_extension": ".py",
   "mimetype": "text/x-python",
   "name": "python",
   "nbconvert_exporter": "python",
   "pygments_lexer": "ipython3",
   "version": "3.9.7"
  }
 },
 "nbformat": 4,
 "nbformat_minor": 5
}
