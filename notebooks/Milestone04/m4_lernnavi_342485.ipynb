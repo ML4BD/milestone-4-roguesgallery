{
 "cells": [
  {
   "cell_type": "markdown",
   "id": "8af48ca1-b6d1-4092-b7b5-037d3c2d7aef",
   "metadata": {
    "id": "8af48ca1-b6d1-4092-b7b5-037d3c2d7aef"
   },
   "source": [
    "# M4 | Research Investigation Notebook\n",
    "\n",
    "In this notebook, you will do a research investigation of your chosen dataset in teams. You will begin by formally selecting your research question (task 0), then processing your data (task 1), creating a predictive model (task 2), and evaluating your model's results (task 3).\n",
    "\n",
    "Please upload your solved notebook to Moodle (under [Milestone 4 Submission](https://moodle.epfl.ch/mod/assign/view.php?id=1199557)) adding your team name in title, example: `m4-lernnavi-teamname.ipynb`. Please run all cells before submission so we can grade effectively.\n",
    "\n",
    "\n",
    "## Brief overview of Lernnavi\n",
    "[Lernnavi](https://www.lernnavi.ch) is an instrument for promoting part of the basic technical study skills in German and mathematics.\n",
    "\n",
    "Lernnavi's dataset is formatted in three main tables:\n",
    "* *users*: demographic information of users.\n",
    "* *events*: events done by the users in the platform.\n",
    "* *transactions*: question and answer solved by user.\n",
    "\n",
    "You should provide arguments and justifications for all of your design decisions throughout this investigation. You can use your M3 responses as the basis for this discussion."
   ]
  },
  {
   "cell_type": "code",
   "execution_count": 1,
   "id": "82ea2d32-f0a9-4dc9-bb60-be43399f5b89",
   "metadata": {
    "id": "82ea2d32-f0a9-4dc9-bb60-be43399f5b89"
   },
   "outputs": [],
   "source": [
    "# Import the tables of the data set as dataframes.\n",
    "import numpy as np\n",
    "import pandas as pd\n",
    "import matplotlib.pyplot as plt\n",
    "\n",
    "DATA_DIR = '/Users/kc/Documents/milestone-4-roguesgallery/data/raw' # You many change the directory\n",
    "\n",
    "users = pd.read_csv('{}/users.csv.gz'.format(DATA_DIR))\n",
    "events = pd.read_csv('{}/events.csv.gz'.format(DATA_DIR))\n",
    "transactions = pd.read_csv('{}/transactions.csv.gz'.format(DATA_DIR))\n",
    "lst = pd.read_csv('{}/learn_sessions_transactions.csv.gz'.format(DATA_DIR))"
   ]
  },
  {
   "cell_type": "markdown",
   "id": "89137355",
   "metadata": {},
   "source": [
    "## Task 0: Research Question"
   ]
  },
  {
   "cell_type": "markdown",
   "id": "31dafc5b",
   "metadata": {},
   "source": [
    "**Research question:**\n",
    "*Your chosen research question goes here*"
   ]
  },
  {
   "cell_type": "markdown",
   "id": "a77f62b0-1945-48f1-8f22-5f6ebda1db8e",
   "metadata": {
    "id": "a77f62b0-1945-48f1-8f22-5f6ebda1db8e"
   },
   "source": [
    "## Task 1: Data Preprocessing\n",
    "\n",
    "In this section, you are asked to preprocess your data in a way that is relevant for the model. Please include 1-2 visualizations of features / data explorations that are related to your downstream prediction task."
   ]
  },
  {
   "cell_type": "code",
   "execution_count": 2,
   "id": "34cefd0d-4f8a-4227-8fb4-f30521abf78d",
   "metadata": {
    "id": "34cefd0d-4f8a-4227-8fb4-f30521abf78d"
   },
   "outputs": [
    {
     "name": "stdout",
     "output_type": "stream",
     "text": [
      "637678 tokens in events\n",
      "800018 tokens in transactions\n",
      "37685 tokens in events but not in transactions\n",
      "1304 users in events but not in transactions\n",
      "0.0595% of events eliminated\n"
     ]
    }
   ],
   "source": [
    "# Your code for data processing goes here\n",
    "\n",
    "def remove_users(events, transactions):\n",
    "    tokens_event = set(events['transaction_token'].unique())\n",
    "    print(\"{} tokens in events\".format(len(tokens_event)))\n",
    "\n",
    "    tokens_trans = set(transactions['transaction_token'].unique())\n",
    "    print(\"{} tokens in transactions\".format(len(tokens_trans)))\n",
    "\n",
    "    missing_tokens = list(tokens_event - tokens_trans)\n",
    "    missing_tokens.remove(np.nan)\n",
    "    print(\"{} tokens in events but not in transactions\".format(len(missing_tokens)))\n",
    "\n",
    "    users_missing = list(events[events['transaction_token'].isin(missing_tokens)]['user_id'].unique())\n",
    "    print(\"{} users in events but not in transactions\".format(len(users_missing)))\n",
    "\n",
    "    # Events without missing users. Equivalent to removing the missing tokens from events.\n",
    "    len_events = len(events)\n",
    "    events = events[~events['user_id'].isin(users_missing)]\n",
    "    stat_events = (len_events - len(events))/len_events\n",
    "    print(\"{}% of events eliminated\".format(round(stat_events, 4)))\n",
    "\n",
    "    return events, transactions\n",
    "\n",
    "events, transactions = remove_users(events, transactions)"
   ]
  },
  {
   "cell_type": "markdown",
   "id": "17f94f8c-aeb9-4263-a01d-5642a2fc472a",
   "metadata": {},
   "source": [
    "### Cantonal representation within the data set"
   ]
  },
  {
   "cell_type": "code",
   "execution_count": 3,
   "id": "be947186-6f0a-4f72-8bb6-7efac245b655",
   "metadata": {},
   "outputs": [
    {
     "data": {
      "image/png": "[encoded data removed]",
      "text/plain": [
       "<Figure size 864x576 with 2 Axes>"
      ]
     },
     "metadata": {
      "needs_background": "light"
     },
     "output_type": "display_data"
    }
   ],
   "source": [
    "def activity_per(colname):\n",
    "    \n",
    "    users_per = users[['user_id', colname]]\n",
    "    size_per = users_per.pivot_table(index=colname, values=['user_id'], aggfunc='nunique').reset_index()\n",
    "    \n",
    "    activity_per = transactions.merge(users_per, on='user_id', how='left')\n",
    "    transactions_per = activity_per.pivot_table(index=colname, \n",
    "                                                values=['transaction_id', 'user_id'], \n",
    "                                                aggfunc={'transaction_id':'count', 'user_id':'nunique'}).reset_index()\n",
    "    transactions_per['trans_per_user'] = transactions_per['transaction_id']/transactions_per['user_id']\n",
    "    \n",
    "    return users_per, size_per, transactions_per \n",
    "\n",
    "\n",
    "\n",
    "users_canton, canton_size, canton_transactions = activity_per('canton')\n",
    "ax = canton_transactions.plot.bar(x='canton', \n",
    "                                  y=['transaction_id', 'trans_per_user'], \n",
    "                                  subplots=True, \n",
    "                                  layout=(1,2),\n",
    "                                  figsize=(12,8))"
   ]
  },
  {
   "cell_type": "code",
   "execution_count": 4,
   "id": "5c1c25dc-d6f9-42ec-9a49-601126597364",
   "metadata": {},
   "outputs": [
    {
     "data": {
      "text/plain": [
       "<AxesSubplot:xlabel='canton'>"
      ]
     },
     "execution_count": 4,
     "metadata": {},
     "output_type": "execute_result"
    },
    {
     "data": {
      "image/png": "[encoded data removed]",
      "text/plain": [
       "<Figure size 432x288 with 1 Axes>"
      ]
     },
     "metadata": {
      "needs_background": "light"
     },
     "output_type": "display_data"
    }
   ],
   "source": [
    "canton_size.plot.bar(x='canton', y='user_id')"
   ]
  },
  {
   "cell_type": "markdown",
   "id": "6f451617-0bee-47a3-8cac-24f3251bb146",
   "metadata": {},
   "source": [
    "These bar plots show us that cantons with greater numbers of students have a larger transaction count **overall**. However, most cantons, with the exception of AR show similar numbers of transactions *per user*.  "
   ]
  },
  {
   "cell_type": "markdown",
   "id": "5892f7a8-7386-46bb-aeb6-5c3fe0252726",
   "metadata": {},
   "source": [
    "#### What's going on in AR?"
   ]
  },
  {
   "cell_type": "code",
   "execution_count": 5,
   "id": "dc99e961-32d4-424c-b5b1-fe489b03b870",
   "metadata": {
    "id": "76d0fcca-686e-47a3-8567-c3f92db187d4"
   },
   "outputs": [
    {
     "data": {
      "text/html": [
       "<div>\n",
       "<style scoped>\n",
       "    .dataframe tbody tr th:only-of-type {\n",
       "        vertical-align: middle;\n",
       "    }\n",
       "\n",
       "    .dataframe tbody tr th {\n",
       "        vertical-align: top;\n",
       "    }\n",
       "\n",
       "    .dataframe thead th {\n",
       "        text-align: right;\n",
       "    }\n",
       "</style>\n",
       "<table border=\"1\" class=\"dataframe\">\n",
       "  <thead>\n",
       "    <tr style=\"text-align: right;\">\n",
       "      <th></th>\n",
       "      <th>user_id</th>\n",
       "      <th>gender</th>\n",
       "      <th>canton</th>\n",
       "      <th>class_level</th>\n",
       "      <th>class_code</th>\n",
       "    </tr>\n",
       "  </thead>\n",
       "  <tbody>\n",
       "  </tbody>\n",
       "</table>\n",
       "</div>"
      ],
      "text/plain": [
       "Empty DataFrame\n",
       "Columns: [user_id, gender, canton, class_level, class_code]\n",
       "Index: []"
      ]
     },
     "metadata": {},
     "output_type": "display_data"
    },
    {
     "data": {
      "text/plain": [
       "<AxesSubplot:xlabel='class_level'>"
      ]
     },
     "execution_count": 5,
     "metadata": {},
     "output_type": "execute_result"
    },
    {
     "data": {
      "image/png": "[encoded data removed]",
      "text/plain": [
       "<Figure size 432x288 with 1 Axes>"
      ]
     },
     "metadata": {
      "needs_background": "light"
     },
     "output_type": "display_data"
    }
   ],
   "source": [
    "AR_users = users[users['canton'] == 'AR']\n",
    "display(AR_users[~AR_users['class_code'].isnull()].head()) #none of the students here have a special class code\n",
    "\n",
    "AR_levels = AR_users.groupby('class_level').count()['user_id']\n",
    "AR_levels.plot.bar(x='class_level', y='user_id')"
   ]
  },
  {
   "cell_type": "markdown",
   "id": "3ebeab7e-cbb3-4ecb-bba3-fcc6234c11f2",
   "metadata": {},
   "source": [
    "The vast majority of students in AR who use the app are in Gymansium - 1. Jahr which is the most represented year group. This might explain the high numbers of transactions per user. "
   ]
  },
  {
   "cell_type": "markdown",
   "id": "6c95e893-c8e9-4f7a-80d4-ce1681201e75",
   "metadata": {},
   "source": [
    "### Class (level) representation in the data set"
   ]
  },
  {
   "cell_type": "code",
   "execution_count": 6,
   "id": "48719c6d-c1cc-4693-af79-94596e4e9a0d",
   "metadata": {},
   "outputs": [
    {
     "data": {
      "image/png": "[encoded data removed]",
      "text/plain": [
       "<Figure size 1080x504 with 2 Axes>"
      ]
     },
     "metadata": {
      "needs_background": "light"
     },
     "output_type": "display_data"
    }
   ],
   "source": [
    "users_class, class_size, class_transactions = activity_per('class_level')\n",
    "\n",
    "ax = class_transactions.plot.bar(x='class_level', \n",
    "                                 y=['transaction_id', 'trans_per_user'], \n",
    "                                 subplots=True, \n",
    "                                 layout=(1,2),\n",
    "                                 figsize=(15,7)) #lots and lots of classes"
   ]
  },
  {
   "cell_type": "code",
   "execution_count": 7,
   "id": "a9681c52-e610-4546-9e23-83081e888b82",
   "metadata": {},
   "outputs": [],
   "source": [
    "#outliers \n",
    "def show_outliers(df, colname, method):\n",
    "    \n",
    "    if method == 'IQR':\n",
    "        q1 = df[colname].quantile(0.25)\n",
    "        q3 = df[colname].quantile(0.75)\n",
    "        iqr = q3-q1\n",
    "        lb = q1 - 1.5*iqr\n",
    "        ub = q3 + 1.5*iqr\n",
    "        \n",
    "        print(f\"Lower bound: {lb}\")\n",
    "        print(f\"Upper bound: {ub}\")\n",
    "        \n",
    "        out = df[(df[colname] < lb) | (df[colname] > ub)]\n",
    "        \n",
    "        return out\n",
    "        \n",
    "    if method == 'std':\n",
    "        mean = df[colname].mean()\n",
    "        std = df[colname].std()\n",
    "        lb = mean - 2*std\n",
    "        ub = mean + 2*std\n",
    "        \n",
    "        print(f\"Lower bound: {lb}\")\n",
    "        print(f\"Upper bound: {ub}\")\n",
    "        out = df[(df[colname] < lb) | (df[colname] > ub)]\n",
    "        \n",
    "        return out "
   ]
  },
  {
   "cell_type": "code",
   "execution_count": 8,
   "id": "bdab0d27-f196-4331-83de-43cf6a0f3927",
   "metadata": {},
   "outputs": [
    {
     "name": "stdout",
     "output_type": "stream",
     "text": [
      "Lower bound: -188.75\n",
      "Upper bound: 333.25\n"
     ]
    },
    {
     "data": {
      "text/html": [
       "<div>\n",
       "<style scoped>\n",
       "    .dataframe tbody tr th:only-of-type {\n",
       "        vertical-align: middle;\n",
       "    }\n",
       "\n",
       "    .dataframe tbody tr th {\n",
       "        vertical-align: top;\n",
       "    }\n",
       "\n",
       "    .dataframe thead th {\n",
       "        text-align: right;\n",
       "    }\n",
       "</style>\n",
       "<table border=\"1\" class=\"dataframe\">\n",
       "  <thead>\n",
       "    <tr style=\"text-align: right;\">\n",
       "      <th></th>\n",
       "      <th>class_level</th>\n",
       "      <th>user_id</th>\n",
       "    </tr>\n",
       "  </thead>\n",
       "  <tbody>\n",
       "    <tr>\n",
       "      <th>6</th>\n",
       "      <td>FMS - 1. Jahr</td>\n",
       "      <td>379</td>\n",
       "    </tr>\n",
       "    <tr>\n",
       "      <th>13</th>\n",
       "      <td>Gymnasium - 1. Jahr</td>\n",
       "      <td>1852</td>\n",
       "    </tr>\n",
       "    <tr>\n",
       "      <th>14</th>\n",
       "      <td>Gymnasium - 1. Jahr (GYM1)</td>\n",
       "      <td>336</td>\n",
       "    </tr>\n",
       "    <tr>\n",
       "      <th>15</th>\n",
       "      <td>Gymnasium - 2. Jahr</td>\n",
       "      <td>1179</td>\n",
       "    </tr>\n",
       "    <tr>\n",
       "      <th>17</th>\n",
       "      <td>Gymnasium - 3. Jahr</td>\n",
       "      <td>394</td>\n",
       "    </tr>\n",
       "    <tr>\n",
       "      <th>39</th>\n",
       "      <td>Kurzzeitgymnasium - 1. Jahr</td>\n",
       "      <td>945</td>\n",
       "    </tr>\n",
       "    <tr>\n",
       "      <th>40</th>\n",
       "      <td>Kurzzeitgymnasium - 2. Jahr</td>\n",
       "      <td>427</td>\n",
       "    </tr>\n",
       "    <tr>\n",
       "      <th>45</th>\n",
       "      <td>Langzeitgymnasium - 3. Jahr</td>\n",
       "      <td>481</td>\n",
       "    </tr>\n",
       "    <tr>\n",
       "      <th>46</th>\n",
       "      <td>Langzeitgymnasium - 4. Jahr</td>\n",
       "      <td>344</td>\n",
       "    </tr>\n",
       "  </tbody>\n",
       "</table>\n",
       "</div>"
      ],
      "text/plain": [
       "                    class_level  user_id\n",
       "6                 FMS - 1. Jahr      379\n",
       "13          Gymnasium - 1. Jahr     1852\n",
       "14   Gymnasium - 1. Jahr (GYM1)      336\n",
       "15          Gymnasium - 2. Jahr     1179\n",
       "17          Gymnasium - 3. Jahr      394\n",
       "39  Kurzzeitgymnasium - 1. Jahr      945\n",
       "40  Kurzzeitgymnasium - 2. Jahr      427\n",
       "45  Langzeitgymnasium - 3. Jahr      481\n",
       "46  Langzeitgymnasium - 4. Jahr      344"
      ]
     },
     "metadata": {},
     "output_type": "display_data"
    },
    {
     "data": {
      "text/plain": [
       "<AxesSubplot:>"
      ]
     },
     "execution_count": 8,
     "metadata": {},
     "output_type": "execute_result"
    },
    {
     "data": {
      "image/png": "[encoded data removed]",
      "text/plain": [
       "<Figure size 432x288 with 1 Axes>"
      ]
     },
     "metadata": {
      "needs_background": "light"
     },
     "output_type": "display_data"
    }
   ],
   "source": [
    "display(show_outliers(class_size, 'user_id', 'IQR'))\n",
    "class_size.boxplot(column='user_id', vert=False)"
   ]
  },
  {
   "cell_type": "markdown",
   "id": "79bcdf0c-50fb-4496-95cf-f931614b342e",
   "metadata": {},
   "source": [
    "Notice that the typical definition(s) for outliers do not exclude any classes at the lower end of the spectrum because there are many more classes with fewer numbers than higher ones. Therefore we will have to make a more precise and informed decision here. Of course classes with only one student (for example) will be poorly represented in the data set, therefore it would make sense to either group these students or remove them. "
   ]
  },
  {
   "cell_type": "code",
   "execution_count": 9,
   "id": "635b1a11-b942-4ca4-98c6-dd55506099c4",
   "metadata": {},
   "outputs": [
    {
     "name": "stdout",
     "output_type": "stream",
     "text": [
      "Lower bound: -12477.375\n",
      "Upper bound: 21619.625\n"
     ]
    },
    {
     "data": {
      "text/html": [
       "<div>\n",
       "<style scoped>\n",
       "    .dataframe tbody tr th:only-of-type {\n",
       "        vertical-align: middle;\n",
       "    }\n",
       "\n",
       "    .dataframe tbody tr th {\n",
       "        vertical-align: top;\n",
       "    }\n",
       "\n",
       "    .dataframe thead th {\n",
       "        text-align: right;\n",
       "    }\n",
       "</style>\n",
       "<table border=\"1\" class=\"dataframe\">\n",
       "  <thead>\n",
       "    <tr style=\"text-align: right;\">\n",
       "      <th></th>\n",
       "      <th>class_level</th>\n",
       "      <th>transaction_id</th>\n",
       "      <th>user_id</th>\n",
       "      <th>trans_per_user</th>\n",
       "    </tr>\n",
       "  </thead>\n",
       "  <tbody>\n",
       "    <tr>\n",
       "      <th>6</th>\n",
       "      <td>FMS - 1. Jahr</td>\n",
       "      <td>23387</td>\n",
       "      <td>309</td>\n",
       "      <td>75.686084</td>\n",
       "    </tr>\n",
       "    <tr>\n",
       "      <th>12</th>\n",
       "      <td>Gymnasium - 1. Jahr</td>\n",
       "      <td>166834</td>\n",
       "      <td>1423</td>\n",
       "      <td>117.241040</td>\n",
       "    </tr>\n",
       "    <tr>\n",
       "      <th>14</th>\n",
       "      <td>Gymnasium - 2. Jahr</td>\n",
       "      <td>70635</td>\n",
       "      <td>1007</td>\n",
       "      <td>70.143992</td>\n",
       "    </tr>\n",
       "    <tr>\n",
       "      <th>38</th>\n",
       "      <td>Kurzzeitgymnasium - 1. Jahr</td>\n",
       "      <td>72257</td>\n",
       "      <td>693</td>\n",
       "      <td>104.266955</td>\n",
       "    </tr>\n",
       "    <tr>\n",
       "      <th>39</th>\n",
       "      <td>Kurzzeitgymnasium - 2. Jahr</td>\n",
       "      <td>23574</td>\n",
       "      <td>320</td>\n",
       "      <td>73.668750</td>\n",
       "    </tr>\n",
       "    <tr>\n",
       "      <th>44</th>\n",
       "      <td>Langzeitgymnasium - 3. Jahr</td>\n",
       "      <td>29109</td>\n",
       "      <td>365</td>\n",
       "      <td>79.750685</td>\n",
       "    </tr>\n",
       "    <tr>\n",
       "      <th>45</th>\n",
       "      <td>Langzeitgymnasium - 4. Jahr</td>\n",
       "      <td>22488</td>\n",
       "      <td>265</td>\n",
       "      <td>84.860377</td>\n",
       "    </tr>\n",
       "  </tbody>\n",
       "</table>\n",
       "</div>"
      ],
      "text/plain": [
       "                    class_level  transaction_id  user_id  trans_per_user\n",
       "6                 FMS - 1. Jahr           23387      309       75.686084\n",
       "12          Gymnasium - 1. Jahr          166834     1423      117.241040\n",
       "14          Gymnasium - 2. Jahr           70635     1007       70.143992\n",
       "38  Kurzzeitgymnasium - 1. Jahr           72257      693      104.266955\n",
       "39  Kurzzeitgymnasium - 2. Jahr           23574      320       73.668750\n",
       "44  Langzeitgymnasium - 3. Jahr           29109      365       79.750685\n",
       "45  Langzeitgymnasium - 4. Jahr           22488      265       84.860377"
      ]
     },
     "metadata": {},
     "output_type": "display_data"
    },
    {
     "name": "stdout",
     "output_type": "stream",
     "text": [
      "Lower bound: -60.78531043099058\n",
      "Upper bound: 206.97796836537646\n"
     ]
    },
    {
     "data": {
      "text/html": [
       "<div>\n",
       "<style scoped>\n",
       "    .dataframe tbody tr th:only-of-type {\n",
       "        vertical-align: middle;\n",
       "    }\n",
       "\n",
       "    .dataframe tbody tr th {\n",
       "        vertical-align: top;\n",
       "    }\n",
       "\n",
       "    .dataframe thead th {\n",
       "        text-align: right;\n",
       "    }\n",
       "</style>\n",
       "<table border=\"1\" class=\"dataframe\">\n",
       "  <thead>\n",
       "    <tr style=\"text-align: right;\">\n",
       "      <th></th>\n",
       "      <th>class_level</th>\n",
       "      <th>transaction_id</th>\n",
       "      <th>user_id</th>\n",
       "      <th>trans_per_user</th>\n",
       "    </tr>\n",
       "  </thead>\n",
       "  <tbody>\n",
       "  </tbody>\n",
       "</table>\n",
       "</div>"
      ],
      "text/plain": [
       "Empty DataFrame\n",
       "Columns: [class_level, transaction_id, user_id, trans_per_user]\n",
       "Index: []"
      ]
     },
     "metadata": {},
     "output_type": "display_data"
    }
   ],
   "source": [
    "display(show_outliers(class_transactions, 'transaction_id', 'IQR'))\n",
    "display(show_outliers(class_transactions, 'trans_per_user', 'IQR')) #no outliers "
   ]
  },
  {
   "cell_type": "markdown",
   "id": "3e62d792-0f16-4d80-a89c-dd5c203f8696",
   "metadata": {},
   "source": [
    "We note that these outliers are all extremes in the right hand tail of the distribution."
   ]
  },
  {
   "cell_type": "code",
   "execution_count": 10,
   "id": "1ec1a018-511b-49a4-a76d-69db04e62e13",
   "metadata": {},
   "outputs": [
    {
     "data": {
      "image/png": "[encoded data removed]",
      "text/plain": [
       "<Figure size 1080x504 with 2 Axes>"
      ]
     },
     "metadata": {
      "needs_background": "light"
     },
     "output_type": "display_data"
    }
   ],
   "source": [
    "ax = class_transactions.sort_values(by=['transaction_id', 'trans_per_user'], \n",
    "                                    ascending=[False, False]) \\\n",
    "                        .iloc[0:9, :] \\\n",
    "                        .plot.bar(x='class_level',\n",
    "                                  y=['transaction_id', 'trans_per_user'],\n",
    "                                  subplots=True,\n",
    "                                  layout=(1,2),\n",
    "                                  figsize=(15,7))"
   ]
  },
  {
   "cell_type": "code",
   "execution_count": 11,
   "id": "5641213f-556b-41cf-81b7-7b80a02a7117",
   "metadata": {},
   "outputs": [
    {
     "data": {
      "image/png": "[encoded data removed]",
      "text/plain": [
       "<Figure size 1080x504 with 2 Axes>"
      ]
     },
     "metadata": {
      "needs_background": "light"
     },
     "output_type": "display_data"
    }
   ],
   "source": [
    "ax = class_transactions.sort_values(by=['transaction_id', 'trans_per_user'], \n",
    "                                    ascending=[True, True]) \\\n",
    "                        .iloc[0:9, :] \\\n",
    "                        .plot.bar(x='class_level',\n",
    "                                  y=['transaction_id', 'trans_per_user'],\n",
    "                                  subplots=True,\n",
    "                                  layout=(1,2),\n",
    "                                  figsize=(15,7))"
   ]
  },
  {
   "cell_type": "markdown",
   "id": "7266d0b5-92ad-4a13-b7ae-f23f5e967e03",
   "metadata": {},
   "source": [
    "### Level Check Usage"
   ]
  },
  {
   "cell_type": "code",
   "execution_count": 12,
   "id": "b6c9b940-c17c-4ea4-9108-f42631748e26",
   "metadata": {},
   "outputs": [],
   "source": [
    "lst.drop('user_id', axis=1, inplace=True)"
   ]
  },
  {
   "cell_type": "code",
   "execution_count": 13,
   "id": "925fccc3-4d26-4d5f-bbaf-06eb5cc42fc6",
   "metadata": {},
   "outputs": [
    {
     "data": {
      "text/html": [
       "<div>\n",
       "<style scoped>\n",
       "    .dataframe tbody tr th:only-of-type {\n",
       "        vertical-align: middle;\n",
       "    }\n",
       "\n",
       "    .dataframe tbody tr th {\n",
       "        vertical-align: top;\n",
       "    }\n",
       "\n",
       "    .dataframe thead th {\n",
       "        text-align: right;\n",
       "    }\n",
       "</style>\n",
       "<table border=\"1\" class=\"dataframe\">\n",
       "  <thead>\n",
       "    <tr style=\"text-align: right;\">\n",
       "      <th></th>\n",
       "      <th>learn_session_id</th>\n",
       "      <th>transaction_id</th>\n",
       "      <th>topic_id</th>\n",
       "      <th>max_num_tasks</th>\n",
       "      <th>is_closed</th>\n",
       "      <th>type_id</th>\n",
       "      <th>is_accepted</th>\n",
       "    </tr>\n",
       "  </thead>\n",
       "  <tbody>\n",
       "    <tr>\n",
       "      <th>0</th>\n",
       "      <td>6673</td>\n",
       "      <td>393831</td>\n",
       "      <td>3</td>\n",
       "      <td>5</td>\n",
       "      <td>1</td>\n",
       "      <td>1</td>\n",
       "      <td>1.0</td>\n",
       "    </tr>\n",
       "    <tr>\n",
       "      <th>1</th>\n",
       "      <td>6673</td>\n",
       "      <td>400408</td>\n",
       "      <td>3</td>\n",
       "      <td>5</td>\n",
       "      <td>1</td>\n",
       "      <td>1</td>\n",
       "      <td>1.0</td>\n",
       "    </tr>\n",
       "    <tr>\n",
       "      <th>2</th>\n",
       "      <td>6673</td>\n",
       "      <td>400409</td>\n",
       "      <td>3</td>\n",
       "      <td>5</td>\n",
       "      <td>1</td>\n",
       "      <td>1</td>\n",
       "      <td>1.0</td>\n",
       "    </tr>\n",
       "    <tr>\n",
       "      <th>3</th>\n",
       "      <td>6673</td>\n",
       "      <td>400410</td>\n",
       "      <td>3</td>\n",
       "      <td>5</td>\n",
       "      <td>1</td>\n",
       "      <td>1</td>\n",
       "      <td>1.0</td>\n",
       "    </tr>\n",
       "    <tr>\n",
       "      <th>4</th>\n",
       "      <td>6673</td>\n",
       "      <td>400411</td>\n",
       "      <td>3</td>\n",
       "      <td>5</td>\n",
       "      <td>1</td>\n",
       "      <td>1</td>\n",
       "      <td>1.0</td>\n",
       "    </tr>\n",
       "  </tbody>\n",
       "</table>\n",
       "</div>"
      ],
      "text/plain": [
       "   learn_session_id  transaction_id  topic_id  max_num_tasks  is_closed  \\\n",
       "0              6673          393831         3              5          1   \n",
       "1              6673          400408         3              5          1   \n",
       "2              6673          400409         3              5          1   \n",
       "3              6673          400410         3              5          1   \n",
       "4              6673          400411         3              5          1   \n",
       "\n",
       "   type_id  is_accepted  \n",
       "0        1          1.0  \n",
       "1        1          1.0  \n",
       "2        1          1.0  \n",
       "3        1          1.0  \n",
       "4        1          1.0  "
      ]
     },
     "execution_count": 13,
     "metadata": {},
     "output_type": "execute_result"
    }
   ],
   "source": [
    "lst.head()"
   ]
  },
  {
   "cell_type": "code",
   "execution_count": 14,
   "id": "8ddc663a-5d26-4472-b581-77bb7188005e",
   "metadata": {},
   "outputs": [
    {
     "data": {
      "text/html": [
       "<div>\n",
       "<style scoped>\n",
       "    .dataframe tbody tr th:only-of-type {\n",
       "        vertical-align: middle;\n",
       "    }\n",
       "\n",
       "    .dataframe tbody tr th {\n",
       "        vertical-align: top;\n",
       "    }\n",
       "\n",
       "    .dataframe thead th {\n",
       "        text-align: right;\n",
       "    }\n",
       "</style>\n",
       "<table border=\"1\" class=\"dataframe\">\n",
       "  <thead>\n",
       "    <tr style=\"text-align: right;\">\n",
       "      <th></th>\n",
       "      <th>transaction_id</th>\n",
       "      <th>transaction_token</th>\n",
       "      <th>user_id</th>\n",
       "      <th>document_id</th>\n",
       "      <th>document_version</th>\n",
       "      <th>evaluation</th>\n",
       "      <th>input</th>\n",
       "      <th>start_time</th>\n",
       "      <th>commit_time</th>\n",
       "      <th>user_agent</th>\n",
       "      <th>validation</th>\n",
       "      <th>solution</th>\n",
       "      <th>type</th>\n",
       "      <th>learn_session_id</th>\n",
       "      <th>topic_id</th>\n",
       "      <th>max_num_tasks</th>\n",
       "      <th>is_closed</th>\n",
       "      <th>type_id</th>\n",
       "      <th>is_accepted</th>\n",
       "    </tr>\n",
       "  </thead>\n",
       "  <tbody>\n",
       "    <tr>\n",
       "      <th>0</th>\n",
       "      <td>1576010</td>\n",
       "      <td>a65959df-7bf0-4956-9aa7-511af281fdb5</td>\n",
       "      <td>387604.0</td>\n",
       "      <td>18FedrGurdA7jklbk0mtVA</td>\n",
       "      <td>115404</td>\n",
       "      <td>NaN</td>\n",
       "      <td>NaN</td>\n",
       "      <td>1645197218251</td>\n",
       "      <td>1.645197e+12</td>\n",
       "      <td>unknown</td>\n",
       "      <td>SKIP</td>\n",
       "      <td>NaN</td>\n",
       "      <td>NaN</td>\n",
       "      <td>111059</td>\n",
       "      <td>3250</td>\n",
       "      <td>5</td>\n",
       "      <td>0</td>\n",
       "      <td>1</td>\n",
       "      <td>NaN</td>\n",
       "    </tr>\n",
       "    <tr>\n",
       "      <th>1</th>\n",
       "      <td>563378</td>\n",
       "      <td>b5978bb1-c34f-4157-9d1f-052b451edab5</td>\n",
       "      <td>387604.0</td>\n",
       "      <td>1aRVNzqunJs6eJCo9vZiy3</td>\n",
       "      <td>70675</td>\n",
       "      <td>NaN</td>\n",
       "      <td>NaN</td>\n",
       "      <td>1615192571101</td>\n",
       "      <td>NaN</td>\n",
       "      <td>unknown</td>\n",
       "      <td>NaN</td>\n",
       "      <td>NaN</td>\n",
       "      <td>NaN</td>\n",
       "      <td>14120</td>\n",
       "      <td>3</td>\n",
       "      <td>5</td>\n",
       "      <td>1</td>\n",
       "      <td>1</td>\n",
       "      <td>1.0</td>\n",
       "    </tr>\n",
       "    <tr>\n",
       "      <th>2</th>\n",
       "      <td>1062011</td>\n",
       "      <td>411c11ae-6af2-4574-b7df-d94dac280da5</td>\n",
       "      <td>387604.0</td>\n",
       "      <td>1DI3PtzowVCafiuZCb0mEX</td>\n",
       "      <td>89020</td>\n",
       "      <td>NaN</td>\n",
       "      <td>NaN</td>\n",
       "      <td>1637146635218</td>\n",
       "      <td>NaN</td>\n",
       "      <td>unknown</td>\n",
       "      <td>NaN</td>\n",
       "      <td>NaN</td>\n",
       "      <td>NaN</td>\n",
       "      <td>70380</td>\n",
       "      <td>3</td>\n",
       "      <td>5</td>\n",
       "      <td>1</td>\n",
       "      <td>2</td>\n",
       "      <td>NaN</td>\n",
       "    </tr>\n",
       "    <tr>\n",
       "      <th>3</th>\n",
       "      <td>774545</td>\n",
       "      <td>64645a54-a4f3-4e7b-9f88-39205882d87d</td>\n",
       "      <td>387604.0</td>\n",
       "      <td>1eWCmfpLnkQ96qFQp5XixR</td>\n",
       "      <td>95079</td>\n",
       "      <td>NaN</td>\n",
       "      <td>NaN</td>\n",
       "      <td>1630399544151</td>\n",
       "      <td>1.630400e+12</td>\n",
       "      <td>unknown</td>\n",
       "      <td>SKIP</td>\n",
       "      <td>NaN</td>\n",
       "      <td>NaN</td>\n",
       "      <td>41166</td>\n",
       "      <td>3119</td>\n",
       "      <td>5</td>\n",
       "      <td>1</td>\n",
       "      <td>1</td>\n",
       "      <td>1.0</td>\n",
       "    </tr>\n",
       "    <tr>\n",
       "      <th>4</th>\n",
       "      <td>803096</td>\n",
       "      <td>37f3ad9a-ca06-43dc-9878-90599ac31f44</td>\n",
       "      <td>387604.0</td>\n",
       "      <td>1LNLRvfltpl9kmi7YOJIKV</td>\n",
       "      <td>64911</td>\n",
       "      <td>NaN</td>\n",
       "      <td>NaN</td>\n",
       "      <td>1631200106071</td>\n",
       "      <td>NaN</td>\n",
       "      <td>unknown</td>\n",
       "      <td>NaN</td>\n",
       "      <td>NaN</td>\n",
       "      <td>NaN</td>\n",
       "      <td>44450</td>\n",
       "      <td>3119</td>\n",
       "      <td>5</td>\n",
       "      <td>1</td>\n",
       "      <td>2</td>\n",
       "      <td>NaN</td>\n",
       "    </tr>\n",
       "  </tbody>\n",
       "</table>\n",
       "</div>"
      ],
      "text/plain": [
       "   transaction_id                     transaction_token   user_id  \\\n",
       "0         1576010  a65959df-7bf0-4956-9aa7-511af281fdb5  387604.0   \n",
       "1          563378  b5978bb1-c34f-4157-9d1f-052b451edab5  387604.0   \n",
       "2         1062011  411c11ae-6af2-4574-b7df-d94dac280da5  387604.0   \n",
       "3          774545  64645a54-a4f3-4e7b-9f88-39205882d87d  387604.0   \n",
       "4          803096  37f3ad9a-ca06-43dc-9878-90599ac31f44  387604.0   \n",
       "\n",
       "              document_id  document_version evaluation input     start_time  \\\n",
       "0  18FedrGurdA7jklbk0mtVA            115404        NaN   NaN  1645197218251   \n",
       "1  1aRVNzqunJs6eJCo9vZiy3             70675        NaN   NaN  1615192571101   \n",
       "2  1DI3PtzowVCafiuZCb0mEX             89020        NaN   NaN  1637146635218   \n",
       "3  1eWCmfpLnkQ96qFQp5XixR             95079        NaN   NaN  1630399544151   \n",
       "4  1LNLRvfltpl9kmi7YOJIKV             64911        NaN   NaN  1631200106071   \n",
       "\n",
       "    commit_time user_agent validation solution type  learn_session_id  \\\n",
       "0  1.645197e+12    unknown       SKIP      NaN  NaN            111059   \n",
       "1           NaN    unknown        NaN      NaN  NaN             14120   \n",
       "2           NaN    unknown        NaN      NaN  NaN             70380   \n",
       "3  1.630400e+12    unknown       SKIP      NaN  NaN             41166   \n",
       "4           NaN    unknown        NaN      NaN  NaN             44450   \n",
       "\n",
       "   topic_id  max_num_tasks  is_closed  type_id  is_accepted  \n",
       "0      3250              5          0        1          NaN  \n",
       "1         3              5          1        1          1.0  \n",
       "2         3              5          1        2          NaN  \n",
       "3      3119              5          1        1          1.0  \n",
       "4      3119              5          1        2          NaN  "
      ]
     },
     "execution_count": 14,
     "metadata": {},
     "output_type": "execute_result"
    }
   ],
   "source": [
    "tran_lst = transactions.merge(lst, on='transaction_id', how='inner')\n",
    "tran_lst.head()"
   ]
  },
  {
   "cell_type": "markdown",
   "id": "00e2aeef-a82e-4b66-8456-02fac943da1f",
   "metadata": {},
   "source": [
    "To add: distribution of level checks per student. Also, when are students doing level checks? Just after learn sessions perhaps? As in, how are they using them?"
   ]
  },
  {
   "cell_type": "code",
   "execution_count": 17,
   "id": "a5786869-9293-45d2-a570-86999245f8df",
   "metadata": {},
   "outputs": [
    {
     "data": {
      "text/plain": [
       "user_id   learn_session_id\n",
       "387604.0  41319               4\n",
       "          44450               1\n",
       "          49468               1\n",
       "          49471               1\n",
       "          70380               1\n",
       "                             ..\n",
       "404597.0  111985              1\n",
       "404599.0  111987              1\n",
       "          111988              1\n",
       "          111990              1\n",
       "404604.0  112060              8\n",
       "Name: type_id, Length: 27429, dtype: int64"
      ]
     },
     "metadata": {},
     "output_type": "display_data"
    }
   ],
   "source": [
    "tran_lst_user = tran_lst[tran_lst['type_id'] == 2].groupby(['user_id', 'learn_session_id']).count()['type_id']\n",
    "display(tran_lst_user) "
   ]
  },
  {
   "cell_type": "markdown",
   "id": "25b61dee-5c52-4549-aceb-c8f38ed962a0",
   "metadata": {},
   "source": [
    "Here we see that some `learn_session_id`s count more than one level check, so I'm assuming this means you can do more than one level check per session.  "
   ]
  },
  {
   "cell_type": "code",
   "execution_count": 25,
   "id": "c2d71373-9ab0-4452-b4ee-98305e4b175c",
   "metadata": {},
   "outputs": [
    {
     "data": {
      "text/plain": [
       "Text(0.5, 1.0, 'Dist of level checks attempted per student')"
      ]
     },
     "execution_count": 25,
     "metadata": {},
     "output_type": "execute_result"
    },
    {
     "data": {
      "image/png": "[encoded data removed]",
      "text/plain": [
       "<Figure size 432x288 with 1 Axes>"
      ]
     },
     "metadata": {
      "needs_background": "light"
     },
     "output_type": "display_data"
    }
   ],
   "source": [
    "lst_user = tran_lst_user.reset_index().drop('learn_session_id', axis=1).groupby('user_id').count()\n",
    "#display(lst_user)\n",
    "lst_user.hist(bins=15)\n",
    "plt.title('Dist of level checks attempted per student')"
   ]
  },
  {
   "cell_type": "markdown",
   "id": "bafbf66a-6d38-4544-b7b8-b29323976a4f",
   "metadata": {},
   "source": [
    "First we note that the data set records level checks even if they are incomplete, and as I have taken no steps to take account of this in the plot above, we can only say that these are attempts at level checks. It seems the vast majority of students do not do that many level checks. "
   ]
  },
  {
   "cell_type": "markdown",
   "id": "85633adb-d317-4ee3-bf06-e9f82f589c41",
   "metadata": {
    "id": "85633adb-d317-4ee3-bf06-e9f82f589c41"
   },
   "source": [
    "## Task 2: Model Building\n",
    "\n",
    "Train a model for your research question. "
   ]
  },
  {
   "cell_type": "code",
   "execution_count": null,
   "id": "90b65ebd-c148-4ae8-833e-018411eeda86",
   "metadata": {
    "id": "90b65ebd-c148-4ae8-833e-018411eeda86"
   },
   "outputs": [],
   "source": [
    "# Your code for training a model goes here"
   ]
  },
  {
   "cell_type": "markdown",
   "id": "cf1f7375",
   "metadata": {},
   "source": [
    "*Your discussion about your model training goes here*"
   ]
  },
  {
   "cell_type": "markdown",
   "id": "b3c9a655-cec9-4c57-aec7-7a982f57a3af",
   "metadata": {
    "id": "b3c9a655-cec9-4c57-aec7-7a982f57a3af"
   },
   "source": [
    "## Task 3: Model Evaluation\n",
    "In this task, you will use metrics to evaluate your model."
   ]
  },
  {
   "cell_type": "code",
   "execution_count": null,
   "id": "f65720b8",
   "metadata": {},
   "outputs": [],
   "source": [
    "# Your code for model evaluation goes here"
   ]
  },
  {
   "cell_type": "markdown",
   "id": "62968daa",
   "metadata": {},
   "source": [
    "*Your discussion/interpretation about your model's behavior goes here*"
   ]
  }
 ],
 "metadata": {
  "colab": {
   "collapsed_sections": [],
   "name": "m2-classtime-sciper.ipynb",
   "provenance": []
  },
  "kernelspec": {
   "display_name": "Python 3 (ipykernel)",
   "language": "python",
   "name": "python3"
  },
  "language_info": {
   "codemirror_mode": {
    "name": "ipython",
    "version": 3
   },
   "file_extension": ".py",
   "mimetype": "text/x-python",
   "name": "python",
   "nbconvert_exporter": "python",
   "pygments_lexer": "ipython3",
   "version": "3.9.7"
  }
 },
 "nbformat": 4,
 "nbformat_minor": 5
}
